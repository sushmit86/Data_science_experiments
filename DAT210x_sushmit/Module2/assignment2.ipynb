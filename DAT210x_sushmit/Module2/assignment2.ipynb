{
 "cells": [
  {
   "cell_type": "code",
   "execution_count": 1,
   "metadata": {
    "collapsed": false
   },
   "outputs": [],
   "source": [
    "import pandas as pd\n",
    "from sklearn.feature_extraction.text import CountVectorizer\n",
    "import html5lib\n",
    "df = pd.read_csv('/Users/sroy/Personal/DAT210x/Module2/Datasets/direct_marketing.csv')\n"
   ]
  },
  {
   "cell_type": "code",
   "execution_count": 28,
   "metadata": {
    "collapsed": false
   },
   "outputs": [
    {
     "data": {
      "text/html": [
       "<div>\n",
       "<table border=\"1\" class=\"dataframe\">\n",
       "  <thead>\n",
       "    <tr style=\"text-align: right;\">\n",
       "      <th></th>\n",
       "      <th>recency</th>\n",
       "      <th>history_segment</th>\n",
       "      <th>history</th>\n",
       "      <th>mens</th>\n",
       "      <th>womens</th>\n",
       "      <th>zip_code</th>\n",
       "      <th>newbie</th>\n",
       "      <th>channel</th>\n",
       "      <th>segment</th>\n",
       "      <th>visit</th>\n",
       "      <th>conversion</th>\n",
       "      <th>spend</th>\n",
       "      <th>DM_category</th>\n",
       "    </tr>\n",
       "  </thead>\n",
       "  <tbody>\n",
       "    <tr>\n",
       "      <th>0</th>\n",
       "      <td>10</td>\n",
       "      <td>2) $100 - $200</td>\n",
       "      <td>142.44</td>\n",
       "      <td>1</td>\n",
       "      <td>0</td>\n",
       "      <td>Surburban</td>\n",
       "      <td>0</td>\n",
       "      <td>Phone</td>\n",
       "      <td>Womens E-Mail</td>\n",
       "      <td>0</td>\n",
       "      <td>0</td>\n",
       "      <td>0.0</td>\n",
       "      <td>4</td>\n",
       "    </tr>\n",
       "    <tr>\n",
       "      <th>1</th>\n",
       "      <td>-100</td>\n",
       "      <td>-100</td>\n",
       "      <td>-100.00</td>\n",
       "      <td>-100</td>\n",
       "      <td>-100</td>\n",
       "      <td>-100</td>\n",
       "      <td>-100</td>\n",
       "      <td>-100</td>\n",
       "      <td>-100</td>\n",
       "      <td>-100</td>\n",
       "      <td>-100</td>\n",
       "      <td>-100.0</td>\n",
       "      <td>-100</td>\n",
       "    </tr>\n",
       "    <tr>\n",
       "      <th>2</th>\n",
       "      <td>7</td>\n",
       "      <td>2) $100 - $200</td>\n",
       "      <td>180.65</td>\n",
       "      <td>0</td>\n",
       "      <td>1</td>\n",
       "      <td>Surburban</td>\n",
       "      <td>1</td>\n",
       "      <td>Web</td>\n",
       "      <td>Womens E-Mail</td>\n",
       "      <td>0</td>\n",
       "      <td>0</td>\n",
       "      <td>0.0</td>\n",
       "      <td>1</td>\n",
       "    </tr>\n",
       "    <tr>\n",
       "      <th>3</th>\n",
       "      <td>9</td>\n",
       "      <td>5) $500 - $750</td>\n",
       "      <td>675.83</td>\n",
       "      <td>1</td>\n",
       "      <td>0</td>\n",
       "      <td>Rural</td>\n",
       "      <td>1</td>\n",
       "      <td>Web</td>\n",
       "      <td>Mens E-Mail</td>\n",
       "      <td>0</td>\n",
       "      <td>0</td>\n",
       "      <td>0.0</td>\n",
       "      <td>2</td>\n",
       "    </tr>\n",
       "    <tr>\n",
       "      <th>4</th>\n",
       "      <td>-100</td>\n",
       "      <td>-100</td>\n",
       "      <td>-100.00</td>\n",
       "      <td>-100</td>\n",
       "      <td>-100</td>\n",
       "      <td>-100</td>\n",
       "      <td>-100</td>\n",
       "      <td>-100</td>\n",
       "      <td>-100</td>\n",
       "      <td>-100</td>\n",
       "      <td>-100</td>\n",
       "      <td>-100.0</td>\n",
       "      <td>-100</td>\n",
       "    </tr>\n",
       "  </tbody>\n",
       "</table>\n",
       "</div>"
      ],
      "text/plain": [
       "   recency history_segment  history  mens  womens   zip_code  newbie channel  \\\n",
       "0       10  2) $100 - $200   142.44     1       0  Surburban       0   Phone   \n",
       "1     -100            -100  -100.00  -100    -100       -100    -100    -100   \n",
       "2        7  2) $100 - $200   180.65     0       1  Surburban       1     Web   \n",
       "3        9  5) $500 - $750   675.83     1       0      Rural       1     Web   \n",
       "4     -100            -100  -100.00  -100    -100       -100    -100    -100   \n",
       "\n",
       "         segment  visit  conversion  spend  DM_category  \n",
       "0  Womens E-Mail      0           0    0.0            4  \n",
       "1           -100   -100        -100 -100.0         -100  \n",
       "2  Womens E-Mail      0           0    0.0            1  \n",
       "3    Mens E-Mail      0           0    0.0            2  \n",
       "4           -100   -100        -100 -100.0         -100  "
      ]
     },
     "execution_count": 28,
     "metadata": {},
     "output_type": "execute_result"
    }
   ],
   "source": [
    "#df.recency\n",
    "#df[['recency']]\n",
    "#df.loc[:, 'recency']\n",
    "#df.iloc[:, 0]\n",
    "#df.ix[:, 'recency']\n",
    "#df.ix[:, 'recency']\n",
    "#df[df.recency < 7]\n",
    "#df[ (df.recency < 7) & (df.newbie == 0) ]\n",
    "df[df.recency < 7] = -100\n",
    "df.head()"
   ]
  },
  {
   "cell_type": "code",
   "execution_count": 54,
   "metadata": {
    "collapsed": false
   },
   "outputs": [],
   "source": [
    "ordered_satisfaction = ['Very Unhappy', 'Unhappy', 'Neutral', 'Happy', 'Very Happy']\n",
    "df = pd.DataFrame({'satisfaction':['Mad', 'Happy', 'Unhappy', 'Neutral']})\n",
    "\n",
    "#df.satisfaction = df.vertebrates.astype(\"category\").cat.codes\n",
    "#df\n",
    "#df = pd.get_dummies(df,columns=['vertebrates'])\n"
   ]
  },
  {
   "cell_type": "code",
   "execution_count": 56,
   "metadata": {
    "collapsed": false
   },
   "outputs": [
    {
     "data": {
      "text/html": [
       "<div>\n",
       "<table border=\"1\" class=\"dataframe\">\n",
       "  <thead>\n",
       "    <tr style=\"text-align: right;\">\n",
       "      <th></th>\n",
       "      <th>vertebrates_Amphibian</th>\n",
       "      <th>vertebrates_Bird</th>\n",
       "      <th>vertebrates_Fish</th>\n",
       "      <th>vertebrates_Mammal</th>\n",
       "      <th>vertebrates_Reptile</th>\n",
       "    </tr>\n",
       "  </thead>\n",
       "  <tbody>\n",
       "    <tr>\n",
       "      <th>0</th>\n",
       "      <td>0.0</td>\n",
       "      <td>1.0</td>\n",
       "      <td>0.0</td>\n",
       "      <td>0.0</td>\n",
       "      <td>0.0</td>\n",
       "    </tr>\n",
       "    <tr>\n",
       "      <th>1</th>\n",
       "      <td>0.0</td>\n",
       "      <td>1.0</td>\n",
       "      <td>0.0</td>\n",
       "      <td>0.0</td>\n",
       "      <td>0.0</td>\n",
       "    </tr>\n",
       "    <tr>\n",
       "      <th>2</th>\n",
       "      <td>0.0</td>\n",
       "      <td>0.0</td>\n",
       "      <td>0.0</td>\n",
       "      <td>1.0</td>\n",
       "      <td>0.0</td>\n",
       "    </tr>\n",
       "    <tr>\n",
       "      <th>3</th>\n",
       "      <td>0.0</td>\n",
       "      <td>0.0</td>\n",
       "      <td>1.0</td>\n",
       "      <td>0.0</td>\n",
       "      <td>0.0</td>\n",
       "    </tr>\n",
       "    <tr>\n",
       "      <th>4</th>\n",
       "      <td>1.0</td>\n",
       "      <td>0.0</td>\n",
       "      <td>0.0</td>\n",
       "      <td>0.0</td>\n",
       "      <td>0.0</td>\n",
       "    </tr>\n",
       "    <tr>\n",
       "      <th>5</th>\n",
       "      <td>0.0</td>\n",
       "      <td>0.0</td>\n",
       "      <td>0.0</td>\n",
       "      <td>0.0</td>\n",
       "      <td>1.0</td>\n",
       "    </tr>\n",
       "    <tr>\n",
       "      <th>6</th>\n",
       "      <td>0.0</td>\n",
       "      <td>0.0</td>\n",
       "      <td>0.0</td>\n",
       "      <td>1.0</td>\n",
       "      <td>0.0</td>\n",
       "    </tr>\n",
       "  </tbody>\n",
       "</table>\n",
       "</div>"
      ],
      "text/plain": [
       "   vertebrates_Amphibian  vertebrates_Bird  vertebrates_Fish  \\\n",
       "0                    0.0               1.0               0.0   \n",
       "1                    0.0               1.0               0.0   \n",
       "2                    0.0               0.0               0.0   \n",
       "3                    0.0               0.0               1.0   \n",
       "4                    1.0               0.0               0.0   \n",
       "5                    0.0               0.0               0.0   \n",
       "6                    0.0               0.0               0.0   \n",
       "\n",
       "   vertebrates_Mammal  vertebrates_Reptile  \n",
       "0                 0.0                  0.0  \n",
       "1                 0.0                  0.0  \n",
       "2                 1.0                  0.0  \n",
       "3                 0.0                  0.0  \n",
       "4                 0.0                  0.0  \n",
       "5                 0.0                  1.0  \n",
       "6                 1.0                  0.0  "
      ]
     },
     "execution_count": 56,
     "metadata": {},
     "output_type": "execute_result"
    }
   ],
   "source": [
    "df = pd.DataFrame({'vertebrates':[\n",
    "...  'Bird',\n",
    "...  'Bird',\n",
    "...  'Mammal',\n",
    "...  'Fish',\n",
    "...  'Amphibian',\n",
    "...  'Reptile',\n",
    "...  'Mammal',\n",
    "... ]})\n",
    "df = pd.get_dummies(df,columns=['vertebrates'])\n",
    "df"
   ]
  },
  {
   "cell_type": "code",
   "execution_count": 23,
   "metadata": {
    "collapsed": false
   },
   "outputs": [
    {
     "data": {
      "text/plain": [
       "2"
      ]
     },
     "execution_count": 23,
     "metadata": {},
     "output_type": "execute_result"
    }
   ],
   "source": [
    "corpus = [\"Authman ran faster than Harry because he is an athlete.\",\"Authman and Harry ran faster and faster.\"]\n",
    "bow = CountVectorizer()\n",
    "X = bow.fit_transform(corpus) # Sparse Matrix\n",
    "bow.get_feature_names()\n"
   ]
  },
  {
   "cell_type": "code",
   "execution_count": 12,
   "metadata": {
    "collapsed": false
   },
   "outputs": [
    {
     "data": {
      "text/plain": [
       "2   -1.417937\n",
       "3   -1.649853\n",
       "Name: col3, dtype: float64"
      ]
     },
     "execution_count": 12,
     "metadata": {},
     "output_type": "execute_result"
    }
   ],
   "source": [
    "# Lab Assignment 2 \n",
    "df = pd.read_csv('/Users/sroy/Personal/DAT210x/Module2/Datasets/tutorial.csv')\n",
    "df.describe()\n",
    "df.loc[2:4, 'col3']"
   ]
  },
  {
   "cell_type": "code",
   "execution_count": 29,
   "metadata": {
    "collapsed": false
   },
   "outputs": [
    {
     "data": {
      "text/plain": [
       "22"
      ]
     },
     "execution_count": 29,
     "metadata": {},
     "output_type": "execute_result"
    }
   ],
   "source": [
    "# Lab Assignment 3 \n",
    "names = ['motor', 'screw', 'pgain', 'vgain', 'class']\n",
    "df = pd.read_csv('/Users/sroy/Personal/DAT210x/Module2/Datasets/servo.data',header = None, names = names)\n",
    "len(df[df.vgain ==5])\n",
    "#len(df[(df.motor =='E') & (df.screw =='E')])\n",
    "#df[df['pgain']==4].describe()"
   ]
  },
  {
   "cell_type": "code",
   "execution_count": 75,
   "metadata": {
    "collapsed": false
   },
   "outputs": [],
   "source": [
    "# Lab Assignment 4\n",
    "df_list = pd.read_html(io = 'http://www.espn.com/nhl/statistics/player/_/stat/points/sort/points/year/2015/seasontype/2',\n",
    "                  skiprows=1,header=0)"
   ]
  },
  {
   "cell_type": "code",
   "execution_count": 76,
   "metadata": {
    "collapsed": false
   },
   "outputs": [
    {
     "name": "stderr",
     "output_type": "stream",
     "text": [
      "/Users/sroy/anaconda/lib/python3.5/site-packages/pandas/core/indexing.py:545: SettingWithCopyWarning: \n",
      "A value is trying to be set on a copy of a slice from a DataFrame.\n",
      "Try using .loc[row_indexer,col_indexer] = value instead\n",
      "\n",
      "See the caveats in the documentation: http://pandas.pydata.org/pandas-docs/stable/indexing.html#indexing-view-versus-copy\n",
      "  self.obj[item_labels[indexer[info_axis]]] = value\n",
      "/Users/sroy/anaconda/lib/python3.5/site-packages/pandas/core/indexing.py:461: SettingWithCopyWarning: \n",
      "A value is trying to be set on a copy of a slice from a DataFrame.\n",
      "Try using .loc[row_indexer,col_indexer] = value instead\n",
      "\n",
      "See the caveats in the documentation: http://pandas.pydata.org/pandas-docs/stable/indexing.html#indexing-view-versus-copy\n",
      "  self.obj[item] = s\n"
     ]
    },
    {
     "data": {
      "text/plain": [
       "PLAYER     object\n",
       "TEAM       object\n",
       "GP          int64\n",
       "G           int64\n",
       "A           int64\n",
       "PTS         int64\n",
       "+/-         int64\n",
       "PIM         int64\n",
       "PTS/G     float64\n",
       "SOG         int64\n",
       "PCT       float64\n",
       "GWG         int64\n",
       "G.1         int64\n",
       "A.1         int64\n",
       "G.2         int64\n",
       "A.2         int64\n",
       "dtype: object"
      ]
     },
     "execution_count": 76,
     "metadata": {},
     "output_type": "execute_result"
    }
   ],
   "source": [
    "df= df_list[0]\n",
    "df.dropna(axis=0, thresh=4, inplace= True)\n",
    "df.drop(labels=['RK'],axis= 1,inplace= True,errors = 'ignore')\n",
    "df = df[df['PLAYER']!= 'PLAYER']\n",
    "df.reset_index(inplace=True, drop =True)\n",
    "\n",
    "df.ix[:,'GP'] = pd.to_numeric(df.ix[:,'GP'] , errors='coerce')\n",
    "df.ix[:,'G'] = pd.to_numeric(df.ix[:,'G'] , errors='coerce')\n",
    "df.ix[:,'A'] = pd.to_numeric(df.ix[:,'A'] , errors='coerce')\n",
    "df.ix[:,'PTS'] = pd.to_numeric(df.ix[:,'PTS'] , errors='coerce')\n",
    "df.ix[:,'+/-'] = pd.to_numeric(df.ix[:,'+/-'] , errors='coerce')\n",
    "df.ix[:,'PIM'] = pd.to_numeric(df.ix[:,'PIM'] , errors='coerce')\n",
    "df.ix[:,'PTS/G'] = pd.to_numeric(df.ix[:,'PTS/G'] , errors='coerce')\n",
    "df.ix[:,'PTS/G'] = pd.to_numeric(df.ix[:,'PTS/G'] , errors='coerce')\n",
    "df.ix[:,'SOG'] = pd.to_numeric(df.ix[:,'SOG'] , errors='coerce')\n",
    "df.ix[:,'PCT'] = pd.to_numeric(df.ix[:,'PCT'] , errors='coerce')\n",
    "df.ix[:,'GWG'] = pd.to_numeric(df.ix[:,'GWG'] , errors='coerce')\n",
    "df.ix[:,'G.1'] = pd.to_numeric(df.ix[:,'G.1'] , errors='coerce')\n",
    "df.ix[:,'A.1'] = pd.to_numeric(df.ix[:,'A.1'] , errors='coerce')\n",
    "df.ix[:,'G.2'] = pd.to_numeric(df.ix[:,'G.2'] , errors='coerce')\n",
    "df.ix[:,'A.2'] = pd.to_numeric(df.ix[:,'A.2'] , errors='coerce')\n",
    "df.dtypes\n",
    "\n"
   ]
  },
  {
   "cell_type": "code",
   "execution_count": 86,
   "metadata": {
    "collapsed": false
   },
   "outputs": [
    {
     "data": {
      "text/plain": [
       "164"
      ]
     },
     "execution_count": 86,
     "metadata": {},
     "output_type": "execute_result"
    }
   ],
   "source": [
    "len(df['PCT'].drop_duplicates())\n",
    "len(df)\n",
    "df['GP'][15] + df['GP'][16]"
   ]
  },
  {
   "cell_type": "code",
   "execution_count": 10,
   "metadata": {
    "collapsed": false
   },
   "outputs": [
    {
     "name": "stdout",
     "output_type": "stream",
     "text": [
      "education         object\n",
      "age                int64\n",
      "capital-gain      object\n",
      "race              object\n",
      "capital-loss       int64\n",
      "hours-per-week     int64\n",
      "sex               object\n",
      "classification    object\n",
      "dtype: object\n"
     ]
    }
   ],
   "source": [
    "# assignment 5\n",
    "names = ['education', 'age', 'capital-gain', 'race', 'capital-loss', 'hours-per-week', 'sex', 'classification']\n",
    "df = pd.read_csv('/Users/sroy/Personal/DAT210x/Module2/Datasets/census.data', header = None,usecols =list(range(1,9))\n",
    "        ,names=names      )\n",
    "\n",
    "print(df.dtypes)\n",
    "df.head()\n",
    "df.ix[:,'capital-gain'] = pd.to_numeric(df.ix[:,'capital-gain'] , errors='coerce')\n"
   ]
  },
  {
   "cell_type": "code",
   "execution_count": 23,
   "metadata": {
    "collapsed": false
   },
   "outputs": [
    {
     "name": "stdout",
     "output_type": "stream",
     "text": [
      "13\n",
      "['Bachelors', 'HS-grad', '11th', 'Masters', '9th', 'Some-college', '7th-8th', 'Doctorate', '5th-6th', '10th', '1st-4th', 'Preschool', '12th']\n",
      "13\n"
     ]
    }
   ],
   "source": [
    "list_education = list(df['education'].unique())\n",
    "print(len(list_education))\n",
    "print(list_education)\n",
    "list_education = ['Preschool','1st-4th','5th-6th','7th-8th','9th','10th','11th','12th','HS-grad','Bachelors','Some-college',\n",
    "                  'Masters',\n",
    "                 'Doctorate']\n",
    "print(len(list_education))"
   ]
  }
 ],
 "metadata": {
  "kernelspec": {
   "display_name": "Python 3",
   "language": "python",
   "name": "python3"
  },
  "language_info": {
   "codemirror_mode": {
    "name": "ipython",
    "version": 3
   },
   "file_extension": ".py",
   "mimetype": "text/x-python",
   "name": "python",
   "nbconvert_exporter": "python",
   "pygments_lexer": "ipython3",
   "version": "3.5.1"
  }
 },
 "nbformat": 4,
 "nbformat_minor": 0
}
