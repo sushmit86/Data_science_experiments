{
 "cells": [
  {
   "cell_type": "code",
   "execution_count": 32,
   "metadata": {
    "collapsed": true
   },
   "outputs": [],
   "source": [
    "import pandas as pd\n",
    "import glob\n",
    "from scipy import misc\n",
    "from mpl_toolkits.mplot3d import Axes3D\n",
    "import matplotlib\n",
    "import matplotlib.pyplot as plt\n",
    "import numpy as np\n",
    "# Look pretty...\n",
    "matplotlib.style.use('ggplot')"
   ]
  },
  {
   "cell_type": "code",
   "execution_count": 113,
   "metadata": {
    "collapsed": false
   },
   "outputs": [],
   "source": [
    "\n",
    "\n",
    "# TODO: Start by creating a regular old, plain, \"vanilla\"\n",
    "# python list. You can call it 'samples'.\n",
    "samples = []\n",
    "img = misc.imread('Datasets/ALOI/32/32_r0.png')"
   ]
  },
  {
   "cell_type": "code",
   "execution_count": 112,
   "metadata": {
    "collapsed": false
   },
   "outputs": [
    {
     "data": {
      "text/plain": [
       "array([[  4,   3,   3,   3,   5,   6,   6,   6,   7,   6,   6,   6],\n",
       "       [  5,   5,   5,   6,  87, 112, 104,  39,   7,   6,   7,   7],\n",
       "       [  5,   6,   6,  70,  68,  84,  82,  63,  63,   6,   6,   7],\n",
       "       [  6,   6,   6,  41,  36,  58,  68,  46,   7,   7,   7,   7],\n",
       "       [  6,   6,   6,  55,  42,  36,  48,  41,   7,   6,   8,   8],\n",
       "       [  6,   6,   7,  61,  59,  57, 105,   8,  28,   6,   6,   7],\n",
       "       [ 10,  10,  95,  80,  52,  30,  11,  27,  66,  41,  53,  11],\n",
       "       [ 10,  13,  48,  36,  59,  92,  40,  41,  79,  32,  35,  10],\n",
       "       [ 13,  13,  15,  16,  14,   8,  11,  13,   8,  11,  14,  13]], dtype=uint8)"
      ]
     },
     "execution_count": 112,
     "metadata": {},
     "output_type": "execute_result"
    }
   ],
   "source": [
    "\n",
    "x = np.array([1, 2, 3, 4])\n",
    "x\n",
    "y = np.zeros((2,1,5,3))\n",
    "y[0]\n",
    "b = np.array([(1.5,2,3), (4,5,6)])\n",
    "#img = img[::2, ::2]\n",
    "img"
   ]
  },
  {
   "cell_type": "code",
   "execution_count": 18,
   "metadata": {
    "collapsed": false
   },
   "outputs": [],
   "source": [
    "#\n",
    "# TODO: Write a for-loop that iterates over the images in the\n",
    "# Module4/Datasets/ALOI/32/ folder, appending each of them to\n",
    "# your list. Each .PNG image should first be loaded into a\n",
    "# temporary NDArray, just as shown in the Feature\n",
    "# Representation reading.\n",
    "#\n",
    "# Optional: Resample the image down by a factor of two if you\n",
    "# have a slower computer. You can also convert the image from\n",
    "# 0-255  to  0.0-1.0  if you'd like, but that will have no\n",
    "# effect on the algorithm's results.\n",
    "#\n",
    "# .. your code here .. \n",
    "for filename in glob.iglob('Datasets/ALOI/32/*.png'):\n",
    "    samples.append(misc.imread(filename))\n",
    "    "
   ]
  },
  {
   "cell_type": "code",
   "execution_count": null,
   "metadata": {
    "collapsed": true
   },
   "outputs": [],
   "source": [
    "#\n",
    "# TODO: Once you're done answering the first three questions,\n",
    "# right before you converted your list to a dataframe, add in\n",
    "# additional code which also appends to your list the images\n",
    "# in the Module4/Datasets/ALOI/32_i directory. Re-run your\n",
    "# assignment and answer the final question below.\n",
    "#\n",
    "# .. your code here .. "
   ]
  },
  {
   "cell_type": "code",
   "execution_count": 120,
   "metadata": {
    "collapsed": false
   },
   "outputs": [
    {
     "data": {
      "text/html": [
       "<div>\n",
       "<table border=\"1\" class=\"dataframe\">\n",
       "  <thead>\n",
       "    <tr style=\"text-align: right;\">\n",
       "      <th></th>\n",
       "    </tr>\n",
       "  </thead>\n",
       "  <tbody>\n",
       "  </tbody>\n",
       "</table>\n",
       "</div>"
      ],
      "text/plain": [
       "Empty DataFrame\n",
       "Columns: []\n",
       "Index: []"
      ]
     },
     "execution_count": 120,
     "metadata": {},
     "output_type": "execute_result"
    }
   ],
   "source": [
    "#\n",
    "# TODO: Convert the list to a dataframe\n",
    "#\n",
    "# .. your code here .. \n",
    "pd.DataFrame(samples)"
   ]
  },
  {
   "cell_type": "code",
   "execution_count": 99,
   "metadata": {
    "collapsed": false
   },
   "outputs": [
    {
     "data": {
      "text/plain": [
       "array([[ 5.,  0.,  1.,  5.],\n",
       "       [ 7.,  6.,  7.,  5.],\n",
       "       [ 3.,  9.,  9.,  3.]])"
      ]
     },
     "execution_count": 99,
     "metadata": {},
     "output_type": "execute_result"
    }
   ],
   "source": [
    "a = np.floor(10*np.random.random((3,4)))\n"
   ]
  },
  {
   "cell_type": "code",
   "execution_count": 126,
   "metadata": {
    "collapsed": false
   },
   "outputs": [
    {
     "data": {
      "text/plain": [
       "(144, 192)"
      ]
     },
     "execution_count": 126,
     "metadata": {},
     "output_type": "execute_result"
    }
   ],
   "source": [
    "test =img.reshape(-1,3)\n",
    "pd.DataFrame(test)\n",
    "img.shape"
   ]
  }
 ],
 "metadata": {
  "kernelspec": {
   "display_name": "Python 3",
   "language": "python",
   "name": "python3"
  },
  "language_info": {
   "codemirror_mode": {
    "name": "ipython",
    "version": 3
   },
   "file_extension": ".py",
   "mimetype": "text/x-python",
   "name": "python",
   "nbconvert_exporter": "python",
   "pygments_lexer": "ipython3",
   "version": "3.5.1"
  }
 },
 "nbformat": 4,
 "nbformat_minor": 0
}
