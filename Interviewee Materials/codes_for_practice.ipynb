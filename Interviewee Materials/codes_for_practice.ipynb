{
 "cells": [
  {
   "cell_type": "code",
   "execution_count": 24,
   "metadata": {},
   "outputs": [],
   "source": [
    "import time\n",
    "import matplotlib.pyplot as plt\n",
    "import pandas as pd\n",
    "import numpy as np\n",
    "plt.style.use('fivethirtyeight')\n",
    "%matplotlib inline"
   ]
  },
  {
   "cell_type": "code",
   "execution_count": 26,
   "metadata": {},
   "outputs": [],
   "source": [
    "def fib(n):\n",
    "  if n <= 0: # base case 1\n",
    "    return 0\n",
    "  if n <= 1: # base case 2\n",
    "    return 1\n",
    "  else: # recursive step\n",
    "    return fib(n-1) + fib(n-2)\n",
    "\n",
    "calculated = {}\n",
    "\n",
    "def fib_dp(n):\n",
    "  if n == 0: # base case 1\n",
    "    return 0\n",
    "  if n == 1: # base case 2\n",
    "    return 1\n",
    "  elif n in calculated:\n",
    "    return calculated[n]\n",
    "  else: # recursive step\n",
    "    calculated[n] = fib(n-1) + fib(n-2)\n",
    "    return calculated[n]\n",
    "\n",
    "time_to_compute_rec = []\n",
    "time_to_compute_dp = []"
   ]
  },
  {
   "cell_type": "code",
   "execution_count": 27,
   "metadata": {},
   "outputs": [
    {
     "name": "stderr",
     "output_type": "stream",
     "text": [
      "<ipython-input-27-348e3e6a4664>:19: UserWarning: Matplotlib is currently using module://ipykernel.pylab.backend_inline, which is a non-GUI backend, so cannot show the figure.\n",
      "  fig.show()\n"
     ]
    },
    {
     "data": {
      "image/png": "[encoded data removed]",
      "text/plain": [
       "<Figure size 720x432 with 2 Axes>"
      ]
     },
     "metadata": {
      "needs_background": "light"
     },
     "output_type": "display_data"
    }
   ],
   "source": [
    "numbers = 20\n",
    "for _ in range(20):\n",
    "    start_time = time.time()\n",
    "    fib(_)\n",
    "    end_time = time.time()\n",
    "    time_to_compute_rec.append(end_time - start_time)\n",
    "    \n",
    "    \n",
    "    \n",
    "for _ in range(20):\n",
    "    start_time = time.time()\n",
    "    fib_dp(_)\n",
    "    end_time = time.time()\n",
    "    time_to_compute_dp.append(end_time - start_time)\n",
    "\n",
    "fig,axs = plt.subplots(1,2, figsize = (10,6))\n",
    "axs[0].plot(time_to_compute_rec)\n",
    "axs[1].plot(time_to_compute_dp)\n",
    "fig.show()"
   ]
  },
  {
   "cell_type": "code",
   "execution_count": 28,
   "metadata": {},
   "outputs": [
    {
     "name": "stdout",
     "output_type": "stream",
     "text": [
      "354224848179261915075\n"
     ]
    }
   ],
   "source": [
    "def fib(n):\n",
    "  if n == 0:\n",
    "    return 0\n",
    "  if n == 1:\n",
    "    return 1\n",
    "  # table for tabulation\n",
    "  table = [None] * (n+1) \n",
    "  table[0] = 0        # base case 1, fib(0) = 0\n",
    "  table[1] = 1        # base case 2, fib(1) = 1\n",
    "  # filling up tabulation table starting from 2 and going upto n\n",
    "  for i in range(2,n+1):  \n",
    "    # we have result of i-1 and i-2 available because these had been evaluated already\n",
    "    table[i] = table[i-1] + table[i-2]  \n",
    "  # return the value of n in tabulation table\n",
    "  return table[n]    \n",
    "\n",
    "print(fib(100))"
   ]
  },
  {
   "cell_type": "code",
   "execution_count": 29,
   "metadata": {},
   "outputs": [
    {
     "name": "stdout",
     "output_type": "stream",
     "text": [
      "354224848179261915075\n"
     ]
    }
   ],
   "source": [
    "memo = {} #dictionay for Memoization\n",
    "\n",
    "def fib(n):\n",
    "  if n == 0: # base case 1\n",
    "    return 0\n",
    "  if n == 1: # base case 2\n",
    "    return 1\n",
    "  elif n in memo: # Check if result for n has already been evaluated\n",
    "    return memo[n] # return the result if it is available\n",
    "  else: # otherwise recursive step\n",
    "    memo[n] = fib(n-1) + fib(n-2) # store the result of n in memoization dictionary\n",
    "    return memo[n] # return the value\n",
    "\n",
    "print (fib(100))"
   ]
  },
  {
   "cell_type": "markdown",
   "metadata": {},
   "source": [
    "### Knapsack Problem"
   ]
  },
  {
   "cell_type": "code",
   "execution_count": 166,
   "metadata": {},
   "outputs": [],
   "source": [
    "#dictionay for Memoization\n",
    "memo = {} \n",
    "def max_fn(i,w_optim):\n",
    "    \n",
    "    ## base case\n",
    "    if i == 0:\n",
    "        return 0\n",
    "    elif (i,w_optim) in memo:\n",
    "        return max_fn(i,w_optim)\n",
    "    else:\n",
    "        if weights[i] > w_optim: \n",
    "            memo[(i,w_optim)] = max_fn(i-1,w_optim)\n",
    "        else:\n",
    "            memo[(i,w_optim)] = max(max_fn(i-1,w_optim), max_fn(i-1,w_optim - weights[i]) + prices[i])\n",
    "        return memo[(i,w_optim)]\n",
    "def knapsack(weights, prices,capacity): \n",
    "    return max_fn(np.size(weights) - 1,capacity)\n"
   ]
  },
  {
   "cell_type": "code",
   "execution_count": 167,
   "metadata": {},
   "outputs": [
    {
     "data": {
      "text/plain": [
       "300"
      ]
     },
     "execution_count": 167,
     "metadata": {},
     "output_type": "execute_result"
    }
   ],
   "source": [
    "prices = np.array([50,100,150,200])\n",
    "weights = np.array([8,16,32,40] )\n",
    "capacity = 64\n",
    "knapsack(weights,prices,capacity)"
   ]
  },
  {
   "cell_type": "code",
   "execution_count": 168,
   "metadata": {},
   "outputs": [
    {
     "data": {
      "text/plain": [
       "{(1, 64): 100,\n",
       " (1, 32): 100,\n",
       " (2, 64): 250,\n",
       " (1, 24): 100,\n",
       " (2, 24): 100,\n",
       " (3, 64): 300}"
      ]
     },
     "execution_count": 168,
     "metadata": {},
     "output_type": "execute_result"
    }
   ],
   "source": [
    "memo"
   ]
  },
  {
   "cell_type": "code",
   "execution_count": 171,
   "metadata": {},
   "outputs": [
    {
     "name": "stdout",
     "output_type": "stream",
     "text": [
      "([[0, 0, 0, 0, 0, 0, 0, 0, 0, 0, 0, 0, 0, 0, 0, 0, 0, 0, 0, 0, 0, 0, 0, 0, 0, 0, 0, 0, 0, 0, 0, 0, 0, 0, 0, 0, 0, 0, 0, 0, 0, 0, 0, 0, 0, 0, 0, 0, 0, 0, 0, 0, 0, 0, 0, 0, 0, 0, 0, 0, 0, 0, 0, 0, 0], [0, 0, 0, 0, 0, 0, 0, 0, 50, 50, 50, 50, 50, 50, 50, 50, 50, 50, 50, 50, 50, 50, 50, 50, 50, 50, 50, 50, 50, 50, 50, 50, 50, 50, 50, 50, 50, 50, 50, 50, 50, 50, 50, 50, 50, 50, 50, 50, 50, 50, 50, 50, 50, 50, 50, 50, 50, 50, 50, 50, 50, 50, 50, 50, 50], [0, 0, 0, 0, 0, 0, 0, 0, 50, 50, 50, 50, 50, 50, 50, 50, 100, 100, 100, 100, 100, 100, 100, 100, 150, 150, 150, 150, 150, 150, 150, 150, 150, 150, 150, 150, 150, 150, 150, 150, 150, 150, 150, 150, 150, 150, 150, 150, 150, 150, 150, 150, 150, 150, 150, 150, 150, 150, 150, 150, 150, 150, 150, 150, 150], [0, 0, 0, 0, 0, 0, 0, 0, 50, 50, 50, 50, 50, 50, 50, 50, 100, 100, 100, 100, 100, 100, 100, 100, 150, 150, 150, 150, 150, 150, 150, 150, 150, 150, 150, 150, 150, 150, 150, 150, 200, 200, 200, 200, 200, 200, 200, 200, 250, 250, 250, 250, 250, 250, 250, 250, 300, 300, 300, 300, 300, 300, 300, 300, 300], [0, 0, 0, 0, 0, 0, 0, 0, 50, 50, 50, 50, 50, 50, 50, 50, 100, 100, 100, 100, 100, 100, 100, 100, 150, 150, 150, 150, 150, 150, 150, 150, 150, 150, 150, 150, 150, 150, 150, 150, 200, 200, 200, 200, 200, 200, 200, 200, 250, 250, 250, 250, 250, 250, 250, 250, 300, 300, 300, 300, 300, 300, 300, 300, 350]], 350)\n"
     ]
    }
   ],
   "source": [
    "# a dynamic approach\n",
    "# Returns the maximum value that can be stored by the bag\n",
    "def knapSack(W, wt, val, n):\n",
    "   K = [[0 for x in range(W + 1)] for x in range(n + 1)]\n",
    "   #Table in bottom up manner\n",
    "   for i in range(n + 1):\n",
    "      for w in range(W + 1):\n",
    "         if i == 0 or w == 0:\n",
    "            K[i][w] = 0\n",
    "         elif wt[i-1] <= w:\n",
    "            K[i][w] = max(val[i-1] + K[i-1][w-wt[i-1]], K[i-1][w])\n",
    "         else:\n",
    "            K[i][w] = K[i-1][w]\n",
    "   return K,K[n][W]\n",
    "#Main\n",
    "val = [50,100,150,200]\n",
    "wt = [8,16,32,40]\n",
    "W = 64\n",
    "n = len(val)\n",
    "print(knapSack(W, wt, val, n))"
   ]
  },
  {
   "cell_type": "markdown",
   "metadata": {},
   "source": [
    "### Balanced Paranthesis"
   ]
  },
  {
   "cell_type": "code",
   "execution_count": 227,
   "metadata": {},
   "outputs": [],
   "source": [
    "string_to_check = ''"
   ]
  },
  {
   "cell_type": "code",
   "execution_count": 228,
   "metadata": {},
   "outputs": [],
   "source": [
    "stack = []\n",
    "open_brackets = ['{','(','[']\n",
    "close_brackets = ['}',')',']']\n",
    "try:\n",
    "    for _str in string_to_check:\n",
    "        if _str in open_brackets:\n",
    "            stack.append(_str)\n",
    "        elif (_str in close_brackets) and stack[-1] == open_brackets[close_brackets.index(_str)]:\n",
    "            stack.pop()\n",
    "        if len(stack) == 0:\n",
    "            print('valid')\n",
    "        else:\n",
    "            print('invalid') \n",
    "except :\n",
    "    print('invalid')\n"
   ]
  },
  {
   "cell_type": "code",
   "execution_count": 248,
   "metadata": {},
   "outputs": [],
   "source": [
    "class Solution(object):\n",
    "    def minPathSum(self, grid):\n",
    "        \"\"\"\n",
    "        :type grid: List[List[int]]\n",
    "        :rtype: int\n",
    "        \"\"\"\n",
    "        M, N = len(grid), len(grid[0])\n",
    "        for i in range(M):\n",
    "            grid[i][0] = grid[i][0] + grid[i-1][0] if i > 0 else grid[i][0]\n",
    "            for j in range(1,N):\n",
    "                grid[i][j] = min(grid[i-1][j], grid[i][j-1]) + grid[i][j] if i > 0 else grid[i][j-1]+grid[i][j]\n",
    "        return grid[-1][-1]\n",
    "\n"
   ]
  },
  {
   "cell_type": "code",
   "execution_count": 103,
   "metadata": {},
   "outputs": [
    {
     "name": "stdout",
     "output_type": "stream",
     "text": [
      "abc\n",
      "def\n"
     ]
    }
   ],
   "source": [
    "# lis1 = ['a','b','c']\n",
    "# lis2 = ['d','e','f']\n",
    "# from itertools import product\n",
    "# list(product())\n",
    "# dict_num_to_staring = {2:['a','b','c'],3:['d','e','f'],4:['g','h','i'],5:['j','k','l'],\n",
    "#                               6:['m','n','o'],7:['p','q','r'],8:['t','u','v'],9:['w','x','y','z']}\n",
    "\n",
    "dict_num_to_staring = {2:'abc',3:'def'}\n",
    "digits = \"23\"\n",
    "# product_list_iter = product()\n",
    "\n",
    "# dict_num_to_staring = {2:['a','b','c'],3:['d','e','f'],4:['g','h','i'],5:['j','k','l'],\n",
    "#                               6:['m','n','o'],7:['p','q','r'],8:['t','u','v'],9:['w','x','y','z']}\n",
    "\n",
    "def func_test(str_test):\n",
    "    return dict_num_to_staring[int(str_test)]\n",
    "for _ in map(func_test,digits):\n",
    "    print(_)"
   ]
  },
  {
   "cell_type": "code",
   "execution_count": 150,
   "metadata": {},
   "outputs": [],
   "source": [
    "nums = [-1,0,1,2,-1,-4]\n",
    "from itertools import combinations\n",
    "#list(map(lambda x: x if sum(x)==0 else None,combinations(nums,3)))\n",
    "A = [1,0,-1]\n",
    "B = [1,0,-1]\n",
    "A == B\n",
    "import numpy as np"
   ]
  },
  {
   "cell_type": "code",
   "execution_count": 142,
   "metadata": {},
   "outputs": [
    {
     "data": {
      "text/plain": [
       "[(-1, 0, 1), (-1, 2, -1), (0, 1, -1)]"
      ]
     },
     "execution_count": 142,
     "metadata": {},
     "output_type": "execute_result"
    }
   ],
   "source": [
    "list(filter(lambda x:True if sum(x)== 0 else False ,combinations(nums,3)))"
   ]
  },
  {
   "cell_type": "code",
   "execution_count": 156,
   "metadata": {},
   "outputs": [
    {
     "data": {
      "text/plain": [
       "[[-1, -1, 2], [-1, 0, 1]]"
      ]
     },
     "execution_count": 156,
     "metadata": {},
     "output_type": "execute_result"
    }
   ],
   "source": [
    "np.unique(list(map(lambda x: sorted(x),filter(lambda x:True if sum(x)== 0 else False ,combinations(nums,3)))),axis=0).tolist()"
   ]
  }
 ],
 "metadata": {
  "kernelspec": {
   "display_name": "Python 3",
   "language": "python",
   "name": "python3"
  },
  "language_info": {
   "codemirror_mode": {
    "name": "ipython",
    "version": 3
   },
   "file_extension": ".py",
   "mimetype": "text/x-python",
   "name": "python",
   "nbconvert_exporter": "python",
   "pygments_lexer": "ipython3",
   "version": "3.8.2"
  }
 },
 "nbformat": 4,
 "nbformat_minor": 4
}
