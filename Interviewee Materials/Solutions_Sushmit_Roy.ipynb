{
 "cells": [
  {
   "cell_type": "markdown",
   "metadata": {},
   "source": [
    "# 4 Business Intelligence Output"
   ]
  },
  {
   "cell_type": "markdown",
   "metadata": {},
   "source": [
    "1. Document the data ingestion process. Please include any code or logic that would be used to define the included data sources"
   ]
  },
  {
   "cell_type": "markdown",
   "metadata": {},
   "source": [
    "  * Step 1 ( Create Schema) CREATE SCHEMA `FinancialDashboard` ( The database used for the solution is My Sql (5.7.13))"
   ]
  },
  {
   "cell_type": "markdown",
   "metadata": {},
   "source": [
    "  * Step 2 Create tables from the data schema"
   ]
  },
  {
   "cell_type": "raw",
   "metadata": {},
   "source": [
    "-- Create CreditCardApplications table\n",
    "CREATE TABLE if not exists FinancialDashboard.CreditCardApplications (\n",
    "   Branch_ID INT NOT NULL,\n",
    "   Date DATE NOT NULL,\n",
    "   Application_Blue INT NOT NULL,\n",
    "   Approved_Blue INT NOT NULL,\n",
    "   Application_Silver INT NOT NULL,\n",
    "   Approved_Silver INT NOT NULL\n",
    ");\n",
    "-- Create MortgageApplications table\n",
    "CREATE TABLE if not exists FinancialDashboard.MortgageApplications (\n",
    "   Branch_ID INT NOT NULL,\n",
    "   Date DATE NOT NULL,\n",
    "   Mortgage_Applications INT NOT NULL\n",
    ");\n",
    "-- Create BranchLookup table\n",
    "CREATE TABLE if not exists FinancialDashboard.BranchLookup (\n",
    "   ZipCode INT(6)  NOT NULL,\n",
    "   State  varchar(100),\n",
    "   Branch_ID INT NOT NULL\n",
    ");\n",
    "-- Create EmployeeTimesheets table\n",
    "CREATE TABLE if not exists FinancialDashboard.EmployeeTimesheets (\n",
    "   Branch_ID INT NOT NULL,\n",
    "   Employee_ID varchar(255) NOT NULL,\n",
    "   Date  DATE NOT NULL,\n",
    "   InTime INT NOT NULL,\n",
    "   OutTime INT NOT NULL,\n",
    "   BreakHours INT NOT NULL\n",
    ");"
   ]
  },
  {
   "cell_type": "markdown",
   "metadata": {},
   "source": [
    "  * load data into tables"
   ]
  },
  {
   "cell_type": "raw",
   "metadata": {},
   "source": [
    "-- Assuming the data is in flat file format and  we save the files \n",
    "-- locally\n",
    "-- Load data into CreditCardApplications table\n",
    "LOAD DATA \n",
    "INFILE \n",
    "'CreditCardApplications.csv'\n",
    "INTO TABLE  FinancialDashboard.CreditCardApplications\n",
    "FIELDS TERMINATED BY ',' \n",
    "LINES TERMINATED BY '\\r\\n'\n",
    "IGNORE 1 ROWS;\n",
    "\n",
    "-- Load data into MortgageApplications table\n",
    "LOAD DATA \n",
    "INFILE \n",
    "'MortgageApplications.csv'\n",
    "INTO TABLE  MortgageApplications.CreditCardApplications\n",
    "FIELDS TERMINATED BY ',' \n",
    "LINES TERMINATED BY '\\r\\n'\n",
    "IGNORE 1 ROWS;\n",
    "\n",
    "-- Load data into BranchLookup table\n",
    "LOAD DATA \n",
    "INFILE \n",
    "'BranchLookup.csv'\n",
    "INTO TABLE  BranchLookup.CreditCardApplications\n",
    "FIELDS TERMINATED BY ',' \n",
    "LINES TERMINATED BY '\\r\\n'\n",
    "IGNORE 1 ROWS;\n",
    "\n",
    "-- Load data into EmployeeTimesheets table\n",
    "LOAD DATA \n",
    "INFILE \n",
    "'EmployeeTimesheets.csv'\n",
    "INTO TABLE  BranchLookup.EmployeeTimesheets\n",
    "FIELDS TERMINATED BY ',' \n",
    "LINES TERMINATED BY '\\r\\n'\n",
    "IGNORE 1 ROWS;"
   ]
  },
  {
   "cell_type": "markdown",
   "metadata": {},
   "source": [
    "2 . Produce the code or logic that uses the provided tables to create the output table. Please include documentation of your process and assumptions"
   ]
  }
 ],
 "metadata": {
  "kernelspec": {
   "display_name": "Python 3",
   "language": "python",
   "name": "python3"
  },
  "language_info": {
   "codemirror_mode": {
    "name": "ipython",
    "version": 3
   },
   "file_extension": ".py",
   "mimetype": "text/x-python",
   "name": "python",
   "nbconvert_exporter": "python",
   "pygments_lexer": "ipython3",
   "version": "3.5.1"
  }
 },
 "nbformat": 4,
 "nbformat_minor": 0
}
