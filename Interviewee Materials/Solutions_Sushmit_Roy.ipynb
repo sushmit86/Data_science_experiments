{
 "cells": [
  {
   "cell_type": "markdown",
   "metadata": {},
   "source": [
    "# 4 Business Intelligence Output"
   ]
  },
  {
   "cell_type": "markdown",
   "metadata": {},
   "source": [
    "1. Document the data ingestion process. Please include any code or logic that would be used to define the included data sources"
   ]
  },
  {
   "cell_type": "markdown",
   "metadata": {},
   "source": [
    "  * Step 1 ( Create Schema) CREATE SCHEMA `FinancialDashboard` ( The database used for the solution is My Sql (5.7.13))"
   ]
  },
  {
   "cell_type": "markdown",
   "metadata": {},
   "source": [
    "  * Step 2 Create tables from the data schema"
   ]
  },
  {
   "cell_type": "raw",
   "metadata": {},
   "source": [
    "-- Create CreditCardApplications table\n",
    "CREATE TABLE if not exists FinancialDashboard.CreditCardApplications (\n",
    "   Branch_ID INT NOT NULL,\n",
    "   Date DATE NOT NULL,\n",
    "   Application_Blue INT NOT NULL,\n",
    "   Approved_Blue INT NOT NULL,\n",
    "   Application_Silver INT NOT NULL,\n",
    "   Approved_Silver INT NOT NULL\n",
    ");\n",
    "-- Create MortgageApplications table\n",
    "CREATE TABLE if not exists FinancialDashboard.MortgageApplications (\n",
    "   Branch_ID INT NOT NULL,\n",
    "   Date DATE NOT NULL,\n",
    "   Mortgage_Applications INT NOT NULL\n",
    ");\n",
    "-- Create BranchLookup table\n",
    "CREATE TABLE if not exists FinancialDashboard.BranchLookup (\n",
    "   ZipCode INT(6)  NOT NULL,\n",
    "   State  varchar(100),\n",
    "   Branch_ID INT NOT NULL\n",
    ");\n",
    "-- Create EmployeeTimesheets table\n",
    "CREATE TABLE if not exists FinancialDashboard.EmployeeTimesheets (\n",
    "   Branch_ID INT NOT NULL,\n",
    "   Employee_ID varchar(255) NOT NULL,\n",
    "   Date  DATE NOT NULL,\n",
    "   InTime INT NOT NULL,\n",
    "   OutTime INT NOT NULL,\n",
    "   BreakHours INT NOT NULL\n",
    ");"
   ]
  },
  {
   "cell_type": "markdown",
   "metadata": {},
   "source": [
    "  * load data into tables"
   ]
  },
  {
   "cell_type": "raw",
   "metadata": {},
   "source": [
    "-- Assuming the data is in flat file format and  we save the files \n",
    "-- locally\n",
    "-- Load data into CreditCardApplications table\n",
    "LOAD DATA \n",
    "INFILE \n",
    "'CreditCardApplications.csv'\n",
    "INTO TABLE  FinancialDashboard.CreditCardApplications\n",
    "FIELDS TERMINATED BY ',' \n",
    "LINES TERMINATED BY '\\r\\n'\n",
    "IGNORE 1 ROWS;\n",
    "\n",
    "-- Load data into MortgageApplications table\n",
    "LOAD DATA \n",
    "INFILE \n",
    "'MortgageApplications.csv'\n",
    "INTO TABLE  FinancialDashboard.MortgageApplications\n",
    "FIELDS TERMINATED BY ',' \n",
    "LINES TERMINATED BY '\\r\\n'\n",
    "IGNORE 1 ROWS;\n",
    "\n",
    "-- Load data into BranchLookup table\n",
    "LOAD DATA \n",
    "INFILE \n",
    "'BranchLookup.csv'\n",
    "INTO TABLE  FinancialDashboard.BranchLookup\n",
    "FIELDS TERMINATED BY ',' \n",
    "LINES TERMINATED BY '\\r\\n'\n",
    "IGNORE 1 ROWS;\n",
    "\n",
    "-- Load data into EmployeeTimesheets table\n",
    "LOAD DATA \n",
    "INFILE \n",
    "'EmployeeTimesheets.csv'\n",
    "INTO TABLE  FinancialDashboard.EmployeeTimesheets\n",
    "FIELDS TERMINATED BY ',' \n",
    "LINES TERMINATED BY '\\r\\n'\n",
    "IGNORE 1 ROWS;"
   ]
  },
  {
   "cell_type": "markdown",
   "metadata": {},
   "source": [
    "2 . Produce the code or logic that uses the provided tables to create the output table. Please include documentation of your process and assumptions"
   ]
  },
  {
   "cell_type": "raw",
   "metadata": {},
   "source": [
    "-- Query to get the table\n",
    "Select \n",
    "Case \n",
    "when month(e.Date) < 10 then concat('0', month(e.Date))\n",
    "else  concat('', month(e.Date)) end Month,\n",
    "-- concat converts to string implicitly\n",
    "cast(b.ZipCode as char) as ZipCode ,\n",
    "b.state,\n",
    "1.0* (sum(c.Application_Blue) + sum(c.Application_Silver))/100 as CreditCardIndex,\n",
    "1.0* (sum(c.Approved_Blue) + sum(c.Approved_Silver))/100 as SavingsAccountIndex,\n",
    "1.0* sum(m.Mortgage_Applications)/100 as MortgageIndex,\n",
    "sum(e.OutTime) - sum(e.InTime) - sum(e.BreakHours) as EmployeeHours\n",
    "from\n",
    "FinancialDashboard.EmployeeTimesheets e\n",
    "-- Joining with other tables\n",
    "left join\n",
    "FinancialDashboard.BranchLookup b\n",
    "on e.Branch_ID = b.Branch_ID\n",
    "left join\n",
    "FinancialDashboard.MortgageApplications m\n",
    "on e.Branch_ID = m.Branch_ID and month(e.Date) = month(m.Date)\n",
    "left join\n",
    "FinancialDashboard.CreditCardApplications c\n",
    "on e.Branch_ID = c.Branch_ID and month(e.Date) = month(c.Date)\n",
    "group by 1,2,3\n",
    "\n",
    "------- End of Answer -----------------"
   ]
  },
  {
   "cell_type": "markdown",
   "metadata": {},
   "source": [
    "# 5 Predicting Flight Delays "
   ]
  },
  {
   "cell_type": "markdown",
   "metadata": {},
   "source": [
    "1. Provide fully commented code and model output for your analysis\n",
    "2. Include your own function that uses the model output to predict whether a flight will be canceled. Make sure to document your approach"
   ]
  },
  {
   "cell_type": "raw",
   "metadata": {},
   "source": [
    "# Programming language  R\n",
    "library(MASS)\n",
    "set.seed(1)\n",
    "# Reading the data\n",
    "CancelledFlights <- read.csv(file=\"CancelledFlights.csv\",head=FALSE,sep=\",\")\n",
    "# adding column names\n",
    "colnames(CancelledFlights) <- c(\"Canceled\",\"Month\",\"DepartureTime\",\"UniqueCarrier\",\"SchedElapsedTime\",\"ArrDelay\",\"DepDelay\",\"Distance\")\n",
    "# Reading first few columns\n",
    "head(CancelledFlights)\n",
    "# checking if there is any na data\n",
    "sum(is.na(CancelledFlights))\n",
    "\n",
    "\n",
    "attach(CancelledFlights)\n",
    "# some data exploration\n",
    "table(Month,Canceled)\n",
    "\n",
    "par(mfrow = c(1,2))\n",
    "cancel_month <- table(Canceled,Month)\n",
    "barplot(cancel_month, col=c(\"darkblue\",\"red\"),legend = rownames(cancel_month))\n",
    "cancel_unique_carrier <- table(Canceled,UniqueCarrier)\n",
    "barplot(cancel_unique_carrier, col=c(\"darkblue\",\"red\"),legend = rownames(cancel_unique_carrier))\n",
    "\n",
    "error_vec = rep(0,nrow(CancelledFlights))\n",
    "for (i in 1:dim(CancelledFlights)[1] ){\n",
    "  glm.fit = glm(Canceled ~ ., data =CancelledFlights[-i,],family = binomial)\n",
    "  pos_prob = predict(glm.fit, CancelledFlights[i,],type = \"response\")\n",
    "  # Using LOOCV\n",
    "  if(pos_prob > 0.5)\n",
    "  {\n",
    "    predicted_value = 1\n",
    "  }else{\n",
    "    predicted_value = 0\n",
    "  }\n",
    "  if(predicted_value!=CancelledFlights[i,]$Canceled) {\n",
    "    error_vec[i] = 1\n",
    "  }\n",
    "}\n",
    "\n",
    "print('The Logistic MSE is : ')\n",
    "print(mean(error_vec))\n",
    "### lda\n",
    "error_vec = rep(0,nrow(CancelledFlights))\n",
    "for (i in 1:dim(CancelledFlights)[1] ){\n",
    "  lda.fit = lda(Canceled ~ ., data =CancelledFlights[-i,])\n",
    "  pos_prob =predict(lda.fit, CancelledFlights[i, ])$posterior[,1]\n",
    "   # Using LOOCV\n",
    "  if(pos_prob < 0.5)\n",
    "  {\n",
    "    predicted_value = 1\n",
    "  }else{\n",
    "    predicted_value = 0\n",
    "  }\n",
    "  if(predicted_value!=CancelledFlights[i,]$Canceled) {\n",
    "    error_vec[i] = 1\n",
    "  }\n",
    "}\n",
    "print('The LDA MSE is : ')\n",
    "print(mean(error_vec))"
   ]
  },
  {
   "cell_type": "markdown",
   "metadata": {},
   "source": [
    "<img src=\"Rplot.png\">"
   ]
  },
  {
   "cell_type": "raw",
   "metadata": {},
   "source": [
    "[1] \"The Logistic MSE is : \"\n",
    "[1] 0.1681667\n",
    "\n",
    "[1] \"The LDA MSE is : \"\n",
    "[1] 0.1668333\n",
    "\n",
    "Coefficients of linear discriminants:\n",
    "                          LD1\n",
    "Month            -0.160850115\n",
    "DepartureTime     0.000257456\n",
    "UniqueCarrierDL  -1.140010067\n",
    "UniqueCarrierUA  -0.280357729\n",
    "SchedElapsedTime  0.023637714\n",
    "ArrDelay          0.007120133\n",
    "DepDelay         -0.025382102\n",
    "Distance         -0.003388055\n",
    "\n",
    "\n",
    "\n",
    "\n",
    "> summary(glm.fit)\n",
    "\n",
    "Call:\n",
    "glm(formula = Canceled ~ ., family = binomial, data = CancelledFlights[-i, \n",
    "    ])\n",
    "\n",
    "Deviance Residuals: \n",
    "    Min       1Q   Median       3Q      Max  \n",
    "-1.3915  -0.6664  -0.4941  -0.2434   3.0977  \n",
    "\n",
    "Coefficients:\n",
    "                   Estimate Std. Error z value Pr(>|z|)    \n",
    "(Intercept)      -1.256e+00  1.809e-01  -6.944 3.82e-12 ***\n",
    "Month            -1.158e-01  1.090e-02 -10.631  < 2e-16 ***\n",
    "DepartureTime     2.655e-04  8.013e-05   3.313 0.000922 ***\n",
    "UniqueCarrierDL  -8.851e-01  9.669e-02  -9.154  < 2e-16 ***\n",
    "UniqueCarrierUA  -1.778e-01  8.326e-02  -2.135 0.032749 *  \n",
    "SchedElapsedTime  1.846e-02  2.650e-03   6.965 3.27e-12 ***\n",
    "ArrDelay          5.417e-03  2.346e-03   2.309 0.020952 *  \n",
    "DepDelay         -4.618e-02  4.587e-03 -10.067  < 2e-16 ***\n",
    "Distance         -2.696e-03  3.345e-04  -8.062 7.49e-16 ***\n",
    "---\n",
    "Signif. codes:  0 ‘***’ 0.001 ‘**’ 0.01 ‘*’ 0.05 ‘.’ 0.1 ‘ ’ 1\n",
    "\n",
    "(Dispersion parameter for binomial family taken to be 1)\n",
    "\n",
    "    Null deviance: 5406.4  on 5998  degrees of freedom\n",
    "Residual deviance: 4899.8  on 5990  degrees of freedom\n",
    "AIC: 4917.8\n",
    "\n",
    "Number of Fisher Scoring iterations: 6\n",
    "\n",
    "\n"
   ]
  },
  {
   "cell_type": "raw",
   "metadata": {},
   "source": [
    "Using the above results we can infer that both LDA and logistic regression have a MSE of 17% and from summary of logistic regression we see that Coefficients are significant at 5% level \n",
    "\n",
    "We use LDA for our prediction model as it has slightly better MSE "
   ]
  },
  {
   "cell_type": "raw",
   "metadata": {},
   "source": [
    "# function for predicting flight delays\n",
    "# Input a dataframe with same structure \n",
    "predict.flightdelays = function(CancelledFlights) {\n",
    "  for (i in 1:dim(CancelledFlights)[1]) {\n",
    "    pos_prob = predict(lda.fit, CancelledFlights[i,])$posterior[, 1]\n",
    "  }\n",
    "  \n",
    "  if (pos_prob < 0.5)\n",
    "  {\n",
    "    print(\" There is a high probability of Cancellation\")\n",
    "  } else{\n",
    "    print(\" There is a low probability of Cancellation\")\n",
    "  }\n",
    "  \n",
    "}"
   ]
  }
 ],
 "metadata": {
  "kernelspec": {
   "display_name": "Python 3",
   "language": "python",
   "name": "python3"
  },
  "language_info": {
   "codemirror_mode": {
    "name": "ipython",
    "version": 3
   },
   "file_extension": ".py",
   "mimetype": "text/x-python",
   "name": "python",
   "nbconvert_exporter": "python",
   "pygments_lexer": "ipython3",
   "version": "3.5.1"
  }
 },
 "nbformat": 4,
 "nbformat_minor": 0
}
