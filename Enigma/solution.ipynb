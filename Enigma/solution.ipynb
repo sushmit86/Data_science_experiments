{
 "cells": [
  {
   "cell_type": "code",
   "execution_count": null,
   "metadata": {
    "collapsed": true
   },
   "outputs": [],
   "source": [
    "import csv\n",
    "with open('test.csv') as csvfile:\n",
    "    reader = csv.DictReader(csvfile)\n",
    "    for row in reader:\n",
    "        print (row['bio'],1)"
   ]
  },
  {
   "cell_type": "code",
   "execution_count": null,
   "metadata": {
    "collapsed": true
   },
   "outputs": [],
   "source": [
    "import csv\n",
    "\n",
    "with open('test.csv', 'r') as csvfile:\n",
    "    fieldnames = ['first_name', 'last_name']\n",
    "    writer = csv.DictWriter('test2', fieldnames=fieldnames)\n",
    "\n",
    "    writer.writeheader()\n",
    "    writer.writerow({'first_name': 'Baked', 'last_name': 'Beans'})\n",
    "    writer.writerow({'first_name': 'Lovely', 'last_name': 'Spam'})\n",
    "    writer.writerow({'first_name': 'Wonderful', 'last_name': 'Spam'})"
   ]
  },
  {
   "cell_type": "code",
   "execution_count": null,
   "metadata": {
    "collapsed": true
   },
   "outputs": [],
   "source": [
    "import re\n",
    "f = open('test.csv', 'rb')\n",
    "reader = csv.reader(f)\n",
    "headers = reader.next()\n",
    "type(headers)"
   ]
  },
  {
   "cell_type": "code",
   "execution_count": null,
   "metadata": {
    "collapsed": true
   },
   "outputs": [],
   "source": [
    "import csv\n",
    "import re\n",
    "file1 = open('test.csv', 'rb')\n",
    "file2 = open('test4.csv', 'wb')\n",
    "reader = csv.reader(file1)\n",
    "#reader_dict = csv.DictReader(file1)\n",
    "headers = reader.next()\n",
    "headers.append('start_date_description')\n",
    "writer = csv.DictWriter(file2,fieldnames=headers)\n",
    "writer.writeheader()\n",
    "\n",
    "for row in reader:\n",
    "    temp_dict ={headers[i]:row[i]  for i in range(len(headers)-1)}\n",
    "    temp_dict['bio'] = re.sub( '\\s+', ' ', temp_dict['bio'] ).strip()\n",
    "    #print re.sub( '\\s+', ' ', temp_dict['bio'] ).strip()\n",
    "    temp_dict['start_date_description'] = 'NA'\n",
    "    writer.writerow(temp_dict)\n",
    "file1.close()\n",
    "file2.close()"
   ]
  },
  {
   "cell_type": "code",
   "execution_count": null,
   "metadata": {
    "collapsed": true
   },
   "outputs": [],
   "source": [
    "file1 = open('state_abbreviations.csv', 'rb')\n",
    "reader = csv.DictReader(file1)\n",
    "state_abb_dict ={}\n",
    "for row in reader:\n",
    "    state_abb_dict[row['state_abbr']] =row['state_name']\n",
    "file1.close()\n",
    "print len(state_abb_dict)"
   ]
  },
  {
   "cell_type": "code",
   "execution_count": null,
   "metadata": {
    "collapsed": false
   },
   "outputs": [],
   "source": [
    "import csv\n",
    "import re\n",
    "from datetime import datetime\n",
    "file1 = open('test.csv', 'rb')\n",
    "file2 = open('test4.csv', 'wb')\n",
    "reader = csv.reader(file1)\n",
    "#reader_dict = csv.DictReader(file1)\n",
    "headers = reader.next()\n",
    "headers.append('start_date_description')\n",
    "writer = csv.DictWriter(file2,fieldnames=headers)\n",
    "writer.writeheader()\n",
    "\n",
    "for row in reader:\n",
    "    pattern1 = '\\d{2}[/]\\d{2}[/]\\d{4}'\n",
    "    pattern2 = '\\d{4}[-]\\d{2}[-]\\d{2}'\n",
    "    \n",
    "    print (row[10])\n",
    "    print re.match(pattern2,row[10],flags=0)\n",
    "file1.close()\n",
    "file2.close()"
   ]
  },
  {
   "cell_type": "code",
   "execution_count": null,
   "metadata": {
    "collapsed": true
   },
   "outputs": [],
   "source": [
    "import re\n",
    "\n",
    "# regular expression to match dates in format: 2010-08-27 and 2010/08/27\n",
    "# date_reg_exp = re.compile('(\\d+[-/]\\d+[-/]\\d+)')\n",
    "\n",
    "# regular expression to match dates in format: 2010-08-27 and 2010/08/27\n",
    "date_reg_exp = re.compile('\\d{4}[-/]\\d{2}[-/]\\d{2}')\n",
    "\n",
    "re.compile('\\d{2}[/]\\d{2}[/]\\d{4}')\n",
    "# a string to test the regular expression above\n",
    "test_str= \"\"\"\n",
    "     fsf2010/08/27sdfsdfsd\n",
    "     dsf sfds f2010/08/26 fsdf \n",
    "     asdsds 2009-02-02 afdf\n",
    "     \"\"\"\n",
    "# finds all the matches of the regular expression and\n",
    "# returns a list containing them\n",
    "matches_list=date_reg_exp.findall(test_str)\n",
    "\n",
    "# iterates the matching list and prints all the matches\n",
    "for match in matches_list:\n",
    "  print match"
   ]
  },
  {
   "cell_type": "code",
   "execution_count": null,
   "metadata": {
    "collapsed": false
   },
   "outputs": [],
   "source": [
    "import datetime\n",
    "#pattern3 = '\\d{4}[-]\\d{2}[-]\\d{2}'\n",
    "months_choices= ''\n",
    "for i in range(1,13):\n",
    "    if i !=12:\n",
    "        months_choices=months_choices+ '\\\\b'+  datetime.date(2015, i, 1).strftime('%B') +  '\\\\b|'\n",
    "    else:\n",
    "        months_choices=months_choices+ '\\\\b'+  datetime.date(2015, i, 1).strftime('%B') + '\\\\b'\n",
    "        \n",
    "        \n",
    "    \n",
    "\n",
    "\n",
    "#str_months=\"|\".join(months_choices)\n",
    "#pattern3 = str_months+'\\s\\d{2}\\s\\s\\d{4}'\n",
    "\n",
    "pattern3 = months_choices + '\\s+\\d{1,2}\\,\\s+\\d{4}\\\\b'\n",
    "#pattern3 = '\\d{4}[-]\\d{2}[-]\\d{2}'\n",
    "str_match ='December 4, 2011'\n",
    "#str_match='2005s-07-31'\n",
    "#print pattern3\n",
    "matchobj= re.match(pattern3,str_match,flags=0)\n",
    "#print (re.findall(pattern3,str_match))\n",
    "\n",
    "searchobj= re.search(pattern3,str_match )\n",
    "print searchobj\n",
    "#matchobj.groups()"
   ]
  },
  {
   "cell_type": "code",
   "execution_count": null,
   "metadata": {
    "collapsed": false
   },
   "outputs": [],
   "source": [
    "import re\n",
    "\n",
    "print(re.findall('\\\\bHello\\\\b|\\\\blocal\\\\b', \"Hello, Hello1 locally local test local.\"))"
   ]
  },
  {
   "cell_type": "code",
   "execution_count": null,
   "metadata": {
    "collapsed": false
   },
   "outputs": [],
   "source": [
    "import re\n",
    "\n",
    "line = \"Cats are smarter than dogs\";\n",
    "\n",
    "searchObj = re.search( r'(.*) are (.*?) .*', line, re.M|re.I)\n",
    "\n",
    "if searchObj:\n",
    "   print \"searchObj.group() : \", searchObj.group()\n",
    "   print \"searchObj.group(1) : \", searchObj.group(0)\n",
    "   print \"searchObj.group(2) : \", searchObj.group(2)\n",
    "   print searchObj.groups()\n",
    "else:\n",
    "   print \"Nothing found!!\""
   ]
  },
  {
   "cell_type": "code",
   "execution_count": 31,
   "metadata": {
    "collapsed": false
   },
   "outputs": [
    {
     "name": "stdout",
     "output_type": "stream",
     "text": [
      "(\\bJanuary\\b|\\bFebruary\\b|\\bMarch\\b|\\bApril\\b|\\bMay\\b|\\bJune\\b|\\bJuly\\b|\\bAugust\\b|\\bSeptember\\b|\\bOctober\\b|\\bNovember\\b|\\bDecember\\b)(\\s+)(\\d{1,2})(\\,\\s+)(\\d{4}\\b)\n",
      "True\n"
     ]
    },
    {
     "data": {
      "text/plain": [
       "'1991'"
      ]
     },
     "execution_count": 31,
     "metadata": {},
     "output_type": "execute_result"
    }
   ],
   "source": [
    "import datetime\n",
    "import re\n",
    "#pattern3 = '\\d{4}[-]\\d{2}[-]\\d{2}'\n",
    "months_choices= ''\n",
    "for i in range(1,13):\n",
    "    if i !=12:\n",
    "        months_choices=months_choices+  r'\\b'+  datetime.date(2015, i, 1).strftime('%B') +  r'\\b|'\n",
    "    else:\n",
    "        months_choices=months_choices+  r'\\b'+  datetime.date(2015, i, 1).strftime('%B') +  r'\\b'\n",
    "\n",
    "\n",
    "#pattern3 = '(' + months_choices + ')' + '(\\s+\\d{1,2}) (\\,) (\\s+) (\\d{4}\\\\b)'\n",
    "pattern3 = \"(\" + months_choices + \")\" + r\"(\\s+)(\\d{1,2})(\\,\\s+)(\\d{4}\\b)\"\n",
    "pattern1 = r\"(\\d{1,2})([/])(\\d{1,2})([/])(\\d{4})\"\n",
    "pattern2 = r\"(\\d{4})([-])(\\d{1,2})([-])(\\d{1,2})\"\n",
    "#str_match ='December 14, 2011'\n",
    "str_match = '07/15/1991'\n",
    "#str_match='2014-12-3'\n",
    "print pattern3\n",
    "searchobj= re.search(pattern1,str_match)\n",
    "print searchobj != None\n",
    "searchobj.group(5)\n"
   ]
  },
  {
   "cell_type": "code",
   "execution_count": 11,
   "metadata": {
    "collapsed": false
   },
   "outputs": [
    {
     "ename": "TypeError",
     "evalue": "an integer is required",
     "output_type": "error",
     "traceback": [
      "\u001b[0;31m---------------------------------------------------------------------------\u001b[0m",
      "\u001b[0;31mTypeError\u001b[0m                                 Traceback (most recent call last)",
      "\u001b[0;32m<ipython-input-11-8d24417b2f88>\u001b[0m in \u001b[0;36m<module>\u001b[0;34m()\u001b[0m\n\u001b[1;32m      1\u001b[0m \u001b[0;32mfrom\u001b[0m \u001b[0mdatetime\u001b[0m \u001b[0;32mimport\u001b[0m \u001b[0mdate\u001b[0m\u001b[0;34m\u001b[0m\u001b[0m\n\u001b[0;32m----> 2\u001b[0;31m \u001b[0mdate\u001b[0m\u001b[0;34m(\u001b[0m\u001b[0;36m1234\u001b[0m\u001b[0;34m,\u001b[0m\u001b[0;34m'December'\u001b[0m\u001b[0;34m,\u001b[0m\u001b[0;36m28\u001b[0m\u001b[0;34m)\u001b[0m\u001b[0;34m\u001b[0m\u001b[0m\n\u001b[0m",
      "\u001b[0;31mTypeError\u001b[0m: an integer is required"
     ]
    }
   ],
   "source": [
    "from datetime import date\n",
    "date(1234,'December',28)"
   ]
  },
  {
   "cell_type": "code",
   "execution_count": 27,
   "metadata": {
    "collapsed": false
   },
   "outputs": [
    {
     "name": "stdout",
     "output_type": "stream",
     "text": [
      "12\n"
     ]
    }
   ],
   "source": [
    "import datetime\n",
    "str_match ='December'\n",
    "#str_match = '07/15/1991'\n",
    "#str_match='2014-12-3'\n",
    "\n",
    "#datetime.datetime.strptime(str_match, '%Y-%m-%d').date().isoformat()\n",
    "try:\n",
    "    print datetime.datetime.strptime(str_match, '%B').strftime('%m')\n",
    "except:\n",
    "    print \"invalid\"\n",
    "    \n",
    "\n"
   ]
  }
 ],
 "metadata": {
  "kernelspec": {
   "display_name": "Python 2",
   "language": "python",
   "name": "python2"
  },
  "language_info": {
   "codemirror_mode": {
    "name": "ipython",
    "version": 2
   },
   "file_extension": ".py",
   "mimetype": "text/x-python",
   "name": "python",
   "nbconvert_exporter": "python",
   "pygments_lexer": "ipython2",
   "version": "2.7.10"
  }
 },
 "nbformat": 4,
 "nbformat_minor": 0
}
