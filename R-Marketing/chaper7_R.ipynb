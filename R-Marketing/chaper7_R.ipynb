{
 "cells": [
  {
   "cell_type": "code",
   "execution_count": 3,
   "metadata": {},
   "outputs": [
    {
     "name": "stdout",
     "output_type": "stream",
     "text": [
      "'data.frame':\t500 obs. of  8 variables:\n",
      " $ weekend  : Factor w/ 2 levels \"no\",\"yes\": 2 2 1 2 1 1 2 1 1 2 ...\n",
      " $ num.child: int  0 2 1 0 4 5 1 0 0 3 ...\n",
      " $ distance : num  114.6 27 63.3 25.9 54.7 ...\n",
      " $ rides    : int  87 87 85 88 84 81 77 82 90 88 ...\n",
      " $ games    : int  73 78 80 72 87 79 73 70 88 86 ...\n",
      " $ wait     : int  60 76 70 66 74 48 58 70 79 55 ...\n",
      " $ clean    : int  89 87 88 89 87 79 85 83 95 88 ...\n",
      " $ overall  : int  47 65 61 37 68 27 40 30 58 36 ...\n"
     ]
    }
   ],
   "source": [
    "sat.df <- read.csv(\"http://goo.gl/HKnl74\")\n",
    "str(sat.df)"
   ]
  },
  {
   "cell_type": "code",
   "execution_count": 4,
   "metadata": {},
   "outputs": [
    {
     "data": {
      "text/plain": [
       " weekend     num.child        distance            rides            games       \n",
       " no :259   Min.   :0.000   Min.   :  0.5267   Min.   : 72.00   Min.   : 57.00  \n",
       " yes:241   1st Qu.:0.000   1st Qu.: 10.3181   1st Qu.: 82.00   1st Qu.: 73.00  \n",
       "           Median :2.000   Median : 19.0191   Median : 86.00   Median : 78.00  \n",
       "           Mean   :1.738   Mean   : 31.0475   Mean   : 85.85   Mean   : 78.67  \n",
       "           3rd Qu.:3.000   3rd Qu.: 39.5821   3rd Qu.: 90.00   3rd Qu.: 85.00  \n",
       "           Max.   :5.000   Max.   :239.1921   Max.   :100.00   Max.   :100.00  \n",
       "      wait           clean          overall      \n",
       " Min.   : 40.0   Min.   : 74.0   Min.   :  6.00  \n",
       " 1st Qu.: 62.0   1st Qu.: 84.0   1st Qu.: 40.00  \n",
       " Median : 70.0   Median : 88.0   Median : 50.00  \n",
       " Mean   : 69.9   Mean   : 87.9   Mean   : 51.26  \n",
       " 3rd Qu.: 77.0   3rd Qu.: 91.0   3rd Qu.: 62.00  \n",
       " Max.   :100.0   Max.   :100.0   Max.   :100.00  "
      ]
     },
     "metadata": {},
     "output_type": "display_data"
    }
   ],
   "source": [
    "summary(sat.df)"
   ]
  },
  {
   "cell_type": "code",
   "execution_count": 9,
   "metadata": {},
   "outputs": [
    {
     "ename": "ERROR",
     "evalue": "Error in library(\"gpairs\"): there is no package called 'gpairs'\n",
     "output_type": "error",
     "traceback": [
      "Error in library(\"gpairs\"): there is no package called 'gpairs'\nTraceback:\n",
      "1. library(\"gpairs\")",
      "2. stop(txt, domain = NA)"
     ]
    }
   ],
   "source": [
    "library(\"gpairs\")\n"
   ]
  }
 ],
 "metadata": {
  "kernelspec": {
   "display_name": "R",
   "language": "R",
   "name": "ir"
  },
  "language_info": {
   "codemirror_mode": "r",
   "file_extension": ".r",
   "mimetype": "text/x-r-source",
   "name": "R",
   "pygments_lexer": "r",
   "version": "3.4.1"
  }
 },
 "nbformat": 4,
 "nbformat_minor": 2
}
