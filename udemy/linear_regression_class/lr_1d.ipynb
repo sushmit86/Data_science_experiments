{
 "cells": [
  {
   "cell_type": "code",
   "execution_count": 1,
   "metadata": {
    "collapsed": false,
    "inputHidden": false,
    "outputHidden": false
   },
   "outputs": [
    {
     "data": {
      "text/html": [
       "        <script type=\"text/javascript\">\n",
       "        window.PlotlyConfig = {MathJaxConfig: 'local'};\n",
       "        if (window.MathJax) {MathJax.Hub.Config({SVG: {font: \"STIX-Web\"}});}\n",
       "        if (typeof require !== 'undefined') {\n",
       "        require.undef(\"plotly\");\n",
       "        requirejs.config({\n",
       "            paths: {\n",
       "                'plotly': ['https://cdn.plot.ly/plotly-latest.min']\n",
       "            }\n",
       "        });\n",
       "        require(['plotly'], function(Plotly) {\n",
       "            window._Plotly = Plotly;\n",
       "        });\n",
       "        }\n",
       "        </script>\n",
       "        "
      ]
     },
     "metadata": {},
     "output_type": "display_data"
    }
   ],
   "source": [
    "import numpy as np\n",
    "import pandas as pd\n",
    "## plotly libraries\n",
    "from plotly.offline import download_plotlyjs, init_notebook_mode, plot, iplot\n",
    "import plotly.graph_objs as go\n",
    "import plotly.express as px\n",
    "init_notebook_mode(connected=True)"
   ]
  },
  {
   "cell_type": "code",
   "execution_count": 2,
   "metadata": {},
   "outputs": [
    {
     "data": {
      "text/html": [
       "<div>\n",
       "<style scoped>\n",
       "    .dataframe tbody tr th:only-of-type {\n",
       "        vertical-align: middle;\n",
       "    }\n",
       "\n",
       "    .dataframe tbody tr th {\n",
       "        vertical-align: top;\n",
       "    }\n",
       "\n",
       "    .dataframe thead th {\n",
       "        text-align: right;\n",
       "    }\n",
       "</style>\n",
       "<table border=\"1\" class=\"dataframe\">\n",
       "  <thead>\n",
       "    <tr style=\"text-align: right;\">\n",
       "      <th></th>\n",
       "      <th>X</th>\n",
       "      <th>Y</th>\n",
       "    </tr>\n",
       "  </thead>\n",
       "  <tbody>\n",
       "    <tr>\n",
       "      <th>0</th>\n",
       "      <td>95.724162</td>\n",
       "      <td>197.179636</td>\n",
       "    </tr>\n",
       "    <tr>\n",
       "      <th>1</th>\n",
       "      <td>35.757619</td>\n",
       "      <td>67.590670</td>\n",
       "    </tr>\n",
       "    <tr>\n",
       "      <th>2</th>\n",
       "      <td>28.816847</td>\n",
       "      <td>60.854133</td>\n",
       "    </tr>\n",
       "    <tr>\n",
       "      <th>3</th>\n",
       "      <td>99.958481</td>\n",
       "      <td>196.907397</td>\n",
       "    </tr>\n",
       "    <tr>\n",
       "      <th>4</th>\n",
       "      <td>66.809748</td>\n",
       "      <td>125.311129</td>\n",
       "    </tr>\n",
       "  </tbody>\n",
       "</table>\n",
       "</div>"
      ],
      "text/plain": [
       "           X           Y\n",
       "0  95.724162  197.179636\n",
       "1  35.757619   67.590670\n",
       "2  28.816847   60.854133\n",
       "3  99.958481  196.907397\n",
       "4  66.809748  125.311129"
      ]
     },
     "metadata": {},
     "output_type": "display_data"
    }
   ],
   "source": [
    "df_data_1d = pd.read_csv('data_1d.csv',header = None,names = ['X','Y'])\n",
    "display(df_data_1d.head())"
   ]
  },
  {
   "cell_type": "code",
   "execution_count": 3,
   "metadata": {},
   "outputs": [
    {
     "data": {
      "application/vnd.plotly.v1+json": {
       "config": {
        "plotlyServerURL": "https://plot.ly"
       },
       "data": [
        {
         "mode": "markers",
         "type": "scatter",
         "x": [
          95.724162408,
          35.7576189281,
          28.816847423800002,
          99.9584813087,
          66.8097483121,
          58.2156926413,
          53.8210763379,
          81.2960821704,
          80.6486970595,
          78.2528136925,
          16.863483686800002,
          90.79914755700001,
          53.312737012,
          71.6187890238,
          18.410591776900002,
          57.124346761999995,
          81.13468391640001,
          82.0152554217,
          36.924908251,
          44.5871260438,
          26.662354456,
          74.065057115,
          17.7405767273,
          6.8197438189,
          26.3173600923,
          82.8041190512,
          39.446536961999996,
          76.7281205911,
          42.2158561432,
          94.3585758425,
          42.141785126,
          3.2112486074799995,
          6.8856734002,
          13.8757721557,
          63.2974036434,
          60.4925193638,
          79.6072852308,
          83.44436306029999,
          54.8920701084,
          62.045944168199995,
          66.65375794090001,
          61.3198131584,
          47.3195529929,
          81.1509876011,
          91.0215136709,
          16.8434620066,
          76.5064365659,
          71.8657046789,
          9.84808948357,
          35.7897124122,
          35.888691997399995,
          90.8294487116,
          7.26207283678,
          35.359288168,
          79.0792537554,
          21.553458329899996,
          79.4764277802,
          48.7679666405,
          54.793862008400005,
          87.5035255175,
          38.9491304682,
          9.39561282267,
          11.1211868171,
          46.1355582629,
          85.6975735819,
          50.110296402799996,
          11.0736667277,
          22.2281308507,
          67.5539548043,
          12.7871856602,
          46.9654908412,
          4.84854064839,
          40.5373319344,
          26.3304612748,
          38.884726352600005,
          93.8382665331,
          60.0816599704,
          50.1139652204,
          17.718685283499997,
          85.0730311421,
          41.3215097262,
          35.45154709,
          74.0210255434,
          90.5197211027,
          34.5405970412,
          94.5616621258,
          52.956267850500005,
          80.1064364142,
          49.822757583000005,
          61.7817253103,
          60.2861083596,
          77.32069018680001,
          15.646358754200001,
          71.5406183401,
          62.4523981129,
          79.0598323714,
          72.1976934443,
          71.4177534183,
          31.0088200801,
          40.3252822158
         ],
         "y": [
          197.179636092,
          67.5906695414,
          60.85413282060001,
          196.90739698099998,
          125.311128524,
          115.785784589,
          110.762772705,
          157.98528569,
          159.61941373,
          149.003865539,
          31.4675908827,
          184.185219661,
          103.22061015799999,
          143.271818357,
          46.7364180117,
          107.12379420399999,
          168.309374007,
          166.82994267,
          70.50145558979999,
          96.86937025489999,
          50.3732358383,
          145.519170708,
          46.55187460770001,
          13.2437863094,
          62.500666503699996,
          159.916649576,
          77.9842041485,
          147.269183138,
          83.6452954011,
          191.95607269200002,
          91.7327341584,
          8.251416772699999,
          16.0963894188,
          33.3544421438,
          131.50574553299998,
          128.698843062,
          160.310380503,
          160.603245737,
          104.400293158,
          126.969456046,
          124.519167614,
          125.21741442700001,
          98.7194843794,
          166.43245547700002,
          179.23687261400002,
          33.7772337402,
          161.37296513200002,
          138.57540100399999,
          17.9033282786,
          74.1085917146,
          74.8213229656,
          179.241547046,
          6.434372376880001,
          78.086356791,
          154.59178976299998,
          50.0307538993,
          165.441966192,
          110.897287971,
          114.691885107,
          186.744206306,
          70.6972229828,
          19.1790300473,
          27.022959916999998,
          87.29244921690001,
          167.924614121,
          96.0205484441,
          24.946324645700003,
          54.0041458755,
          133.165254434,
          28.0062232213,
          100.60558946799999,
          13.8572726025,
          82.5906629412,
          50.231803909700005,
          79.4817724245,
          191.32431783599998,
          120.495115436,
          111.352322885,
          44.937606486899995,
          172.13320307599997,
          84.889236,
          69.91899124449999,
          149.778646331,
          187.593909745,
          66.326858951,
          189.14496410900003,
          103.44683588,
          158.52943006700002,
          98.6988396336,
          122.647395062,
          124.763346322,
          155.67749312,
          35.4106082545,
          151.32345871200002,
          129.43395879,
          163.096902614,
          142.898522638,
          148.09420854,
          63.7968762483,
          86.7236853299
         ]
        }
       ],
       "layout": {
        "autosize": true,
        "template": {
         "data": {
          "bar": [
           {
            "error_x": {
             "color": "#2a3f5f"
            },
            "error_y": {
             "color": "#2a3f5f"
            },
            "marker": {
             "line": {
              "color": "#E5ECF6",
              "width": 0.5
             }
            },
            "type": "bar"
           }
          ],
          "barpolar": [
           {
            "marker": {
             "line": {
              "color": "#E5ECF6",
              "width": 0.5
             }
            },
            "type": "barpolar"
           }
          ],
          "carpet": [
           {
            "aaxis": {
             "endlinecolor": "#2a3f5f",
             "gridcolor": "white",
             "linecolor": "white",
             "minorgridcolor": "white",
             "startlinecolor": "#2a3f5f"
            },
            "baxis": {
             "endlinecolor": "#2a3f5f",
             "gridcolor": "white",
             "linecolor": "white",
             "minorgridcolor": "white",
             "startlinecolor": "#2a3f5f"
            },
            "type": "carpet"
           }
          ],
          "choropleth": [
           {
            "colorbar": {
             "outlinewidth": 0,
             "ticks": ""
            },
            "type": "choropleth"
           }
          ],
          "contour": [
           {
            "colorbar": {
             "outlinewidth": 0,
             "ticks": ""
            },
            "colorscale": [
             [
              0,
              "#0d0887"
             ],
             [
              0.1111111111111111,
              "#46039f"
             ],
             [
              0.2222222222222222,
              "#7201a8"
             ],
             [
              0.3333333333333333,
              "#9c179e"
             ],
             [
              0.4444444444444444,
              "#bd3786"
             ],
             [
              0.5555555555555556,
              "#d8576b"
             ],
             [
              0.6666666666666666,
              "#ed7953"
             ],
             [
              0.7777777777777778,
              "#fb9f3a"
             ],
             [
              0.8888888888888888,
              "#fdca26"
             ],
             [
              1,
              "#f0f921"
             ]
            ],
            "type": "contour"
           }
          ],
          "contourcarpet": [
           {
            "colorbar": {
             "outlinewidth": 0,
             "ticks": ""
            },
            "type": "contourcarpet"
           }
          ],
          "heatmap": [
           {
            "colorbar": {
             "outlinewidth": 0,
             "ticks": ""
            },
            "colorscale": [
             [
              0,
              "#0d0887"
             ],
             [
              0.1111111111111111,
              "#46039f"
             ],
             [
              0.2222222222222222,
              "#7201a8"
             ],
             [
              0.3333333333333333,
              "#9c179e"
             ],
             [
              0.4444444444444444,
              "#bd3786"
             ],
             [
              0.5555555555555556,
              "#d8576b"
             ],
             [
              0.6666666666666666,
              "#ed7953"
             ],
             [
              0.7777777777777778,
              "#fb9f3a"
             ],
             [
              0.8888888888888888,
              "#fdca26"
             ],
             [
              1,
              "#f0f921"
             ]
            ],
            "type": "heatmap"
           }
          ],
          "heatmapgl": [
           {
            "colorbar": {
             "outlinewidth": 0,
             "ticks": ""
            },
            "colorscale": [
             [
              0,
              "#0d0887"
             ],
             [
              0.1111111111111111,
              "#46039f"
             ],
             [
              0.2222222222222222,
              "#7201a8"
             ],
             [
              0.3333333333333333,
              "#9c179e"
             ],
             [
              0.4444444444444444,
              "#bd3786"
             ],
             [
              0.5555555555555556,
              "#d8576b"
             ],
             [
              0.6666666666666666,
              "#ed7953"
             ],
             [
              0.7777777777777778,
              "#fb9f3a"
             ],
             [
              0.8888888888888888,
              "#fdca26"
             ],
             [
              1,
              "#f0f921"
             ]
            ],
            "type": "heatmapgl"
           }
          ],
          "histogram": [
           {
            "marker": {
             "colorbar": {
              "outlinewidth": 0,
              "ticks": ""
             }
            },
            "type": "histogram"
           }
          ],
          "histogram2d": [
           {
            "colorbar": {
             "outlinewidth": 0,
             "ticks": ""
            },
            "colorscale": [
             [
              0,
              "#0d0887"
             ],
             [
              0.1111111111111111,
              "#46039f"
             ],
             [
              0.2222222222222222,
              "#7201a8"
             ],
             [
              0.3333333333333333,
              "#9c179e"
             ],
             [
              0.4444444444444444,
              "#bd3786"
             ],
             [
              0.5555555555555556,
              "#d8576b"
             ],
             [
              0.6666666666666666,
              "#ed7953"
             ],
             [
              0.7777777777777778,
              "#fb9f3a"
             ],
             [
              0.8888888888888888,
              "#fdca26"
             ],
             [
              1,
              "#f0f921"
             ]
            ],
            "type": "histogram2d"
           }
          ],
          "histogram2dcontour": [
           {
            "colorbar": {
             "outlinewidth": 0,
             "ticks": ""
            },
            "colorscale": [
             [
              0,
              "#0d0887"
             ],
             [
              0.1111111111111111,
              "#46039f"
             ],
             [
              0.2222222222222222,
              "#7201a8"
             ],
             [
              0.3333333333333333,
              "#9c179e"
             ],
             [
              0.4444444444444444,
              "#bd3786"
             ],
             [
              0.5555555555555556,
              "#d8576b"
             ],
             [
              0.6666666666666666,
              "#ed7953"
             ],
             [
              0.7777777777777778,
              "#fb9f3a"
             ],
             [
              0.8888888888888888,
              "#fdca26"
             ],
             [
              1,
              "#f0f921"
             ]
            ],
            "type": "histogram2dcontour"
           }
          ],
          "mesh3d": [
           {
            "colorbar": {
             "outlinewidth": 0,
             "ticks": ""
            },
            "type": "mesh3d"
           }
          ],
          "parcoords": [
           {
            "line": {
             "colorbar": {
              "outlinewidth": 0,
              "ticks": ""
             }
            },
            "type": "parcoords"
           }
          ],
          "scatter": [
           {
            "marker": {
             "colorbar": {
              "outlinewidth": 0,
              "ticks": ""
             }
            },
            "type": "scatter"
           }
          ],
          "scatter3d": [
           {
            "line": {
             "colorbar": {
              "outlinewidth": 0,
              "ticks": ""
             }
            },
            "marker": {
             "colorbar": {
              "outlinewidth": 0,
              "ticks": ""
             }
            },
            "type": "scatter3d"
           }
          ],
          "scattercarpet": [
           {
            "marker": {
             "colorbar": {
              "outlinewidth": 0,
              "ticks": ""
             }
            },
            "type": "scattercarpet"
           }
          ],
          "scattergeo": [
           {
            "marker": {
             "colorbar": {
              "outlinewidth": 0,
              "ticks": ""
             }
            },
            "type": "scattergeo"
           }
          ],
          "scattergl": [
           {
            "marker": {
             "colorbar": {
              "outlinewidth": 0,
              "ticks": ""
             }
            },
            "type": "scattergl"
           }
          ],
          "scattermapbox": [
           {
            "marker": {
             "colorbar": {
              "outlinewidth": 0,
              "ticks": ""
             }
            },
            "type": "scattermapbox"
           }
          ],
          "scatterpolar": [
           {
            "marker": {
             "colorbar": {
              "outlinewidth": 0,
              "ticks": ""
             }
            },
            "type": "scatterpolar"
           }
          ],
          "scatterpolargl": [
           {
            "marker": {
             "colorbar": {
              "outlinewidth": 0,
              "ticks": ""
             }
            },
            "type": "scatterpolargl"
           }
          ],
          "scatterternary": [
           {
            "marker": {
             "colorbar": {
              "outlinewidth": 0,
              "ticks": ""
             }
            },
            "type": "scatterternary"
           }
          ],
          "surface": [
           {
            "colorbar": {
             "outlinewidth": 0,
             "ticks": ""
            },
            "colorscale": [
             [
              0,
              "#0d0887"
             ],
             [
              0.1111111111111111,
              "#46039f"
             ],
             [
              0.2222222222222222,
              "#7201a8"
             ],
             [
              0.3333333333333333,
              "#9c179e"
             ],
             [
              0.4444444444444444,
              "#bd3786"
             ],
             [
              0.5555555555555556,
              "#d8576b"
             ],
             [
              0.6666666666666666,
              "#ed7953"
             ],
             [
              0.7777777777777778,
              "#fb9f3a"
             ],
             [
              0.8888888888888888,
              "#fdca26"
             ],
             [
              1,
              "#f0f921"
             ]
            ],
            "type": "surface"
           }
          ],
          "table": [
           {
            "cells": {
             "fill": {
              "color": "#EBF0F8"
             },
             "line": {
              "color": "white"
             }
            },
            "header": {
             "fill": {
              "color": "#C8D4E3"
             },
             "line": {
              "color": "white"
             }
            },
            "type": "table"
           }
          ]
         },
         "layout": {
          "annotationdefaults": {
           "arrowcolor": "#2a3f5f",
           "arrowhead": 0,
           "arrowwidth": 1
          },
          "colorscale": {
           "diverging": [
            [
             0,
             "#8e0152"
            ],
            [
             0.1,
             "#c51b7d"
            ],
            [
             0.2,
             "#de77ae"
            ],
            [
             0.3,
             "#f1b6da"
            ],
            [
             0.4,
             "#fde0ef"
            ],
            [
             0.5,
             "#f7f7f7"
            ],
            [
             0.6,
             "#e6f5d0"
            ],
            [
             0.7,
             "#b8e186"
            ],
            [
             0.8,
             "#7fbc41"
            ],
            [
             0.9,
             "#4d9221"
            ],
            [
             1,
             "#276419"
            ]
           ],
           "sequential": [
            [
             0,
             "#0d0887"
            ],
            [
             0.1111111111111111,
             "#46039f"
            ],
            [
             0.2222222222222222,
             "#7201a8"
            ],
            [
             0.3333333333333333,
             "#9c179e"
            ],
            [
             0.4444444444444444,
             "#bd3786"
            ],
            [
             0.5555555555555556,
             "#d8576b"
            ],
            [
             0.6666666666666666,
             "#ed7953"
            ],
            [
             0.7777777777777778,
             "#fb9f3a"
            ],
            [
             0.8888888888888888,
             "#fdca26"
            ],
            [
             1,
             "#f0f921"
            ]
           ],
           "sequentialminus": [
            [
             0,
             "#0d0887"
            ],
            [
             0.1111111111111111,
             "#46039f"
            ],
            [
             0.2222222222222222,
             "#7201a8"
            ],
            [
             0.3333333333333333,
             "#9c179e"
            ],
            [
             0.4444444444444444,
             "#bd3786"
            ],
            [
             0.5555555555555556,
             "#d8576b"
            ],
            [
             0.6666666666666666,
             "#ed7953"
            ],
            [
             0.7777777777777778,
             "#fb9f3a"
            ],
            [
             0.8888888888888888,
             "#fdca26"
            ],
            [
             1,
             "#f0f921"
            ]
           ]
          },
          "colorway": [
           "#636efa",
           "#EF553B",
           "#00cc96",
           "#ab63fa",
           "#FFA15A",
           "#19d3f3",
           "#FF6692",
           "#B6E880",
           "#FF97FF",
           "#FECB52"
          ],
          "font": {
           "color": "#2a3f5f"
          },
          "geo": {
           "bgcolor": "white",
           "lakecolor": "white",
           "landcolor": "#E5ECF6",
           "showlakes": true,
           "showland": true,
           "subunitcolor": "white"
          },
          "hoverlabel": {
           "align": "left"
          },
          "hovermode": "closest",
          "mapbox": {
           "style": "light"
          },
          "paper_bgcolor": "white",
          "plot_bgcolor": "#E5ECF6",
          "polar": {
           "angularaxis": {
            "gridcolor": "white",
            "linecolor": "white",
            "ticks": ""
           },
           "bgcolor": "#E5ECF6",
           "radialaxis": {
            "gridcolor": "white",
            "linecolor": "white",
            "ticks": ""
           }
          },
          "scene": {
           "xaxis": {
            "backgroundcolor": "#E5ECF6",
            "gridcolor": "white",
            "gridwidth": 2,
            "linecolor": "white",
            "showbackground": true,
            "ticks": "",
            "zerolinecolor": "white"
           },
           "yaxis": {
            "backgroundcolor": "#E5ECF6",
            "gridcolor": "white",
            "gridwidth": 2,
            "linecolor": "white",
            "showbackground": true,
            "ticks": "",
            "zerolinecolor": "white"
           },
           "zaxis": {
            "backgroundcolor": "#E5ECF6",
            "gridcolor": "white",
            "gridwidth": 2,
            "linecolor": "white",
            "showbackground": true,
            "ticks": "",
            "zerolinecolor": "white"
           }
          },
          "shapedefaults": {
           "line": {
            "color": "#2a3f5f"
           }
          },
          "ternary": {
           "aaxis": {
            "gridcolor": "white",
            "linecolor": "white",
            "ticks": ""
           },
           "baxis": {
            "gridcolor": "white",
            "linecolor": "white",
            "ticks": ""
           },
           "bgcolor": "#E5ECF6",
           "caxis": {
            "gridcolor": "white",
            "linecolor": "white",
            "ticks": ""
           }
          },
          "title": {
           "x": 0.05
          },
          "xaxis": {
           "automargin": true,
           "gridcolor": "white",
           "linecolor": "white",
           "ticks": "",
           "zerolinecolor": "white",
           "zerolinewidth": 2
          },
          "yaxis": {
           "automargin": true,
           "gridcolor": "white",
           "linecolor": "white",
           "ticks": "",
           "zerolinecolor": "white",
           "zerolinewidth": 2
          }
         }
        },
        "xaxis": {
         "autorange": true,
         "range": [
          -2.63924776530764,
          105.80897768148765
         ],
         "type": "linear"
        },
        "yaxis": {
         "autorange": true,
         "range": [
          -7.537414455756178,
          211.1514229246362
         ],
         "type": "linear"
        }
       }
      },
      "image/png": "[encoded data removed]",
      "text/html": [
       "<div>\n",
       "        \n",
       "        \n",
       "            <div id=\"5552ec68-d396-4e25-88bf-0f412c384e4a\" class=\"plotly-graph-div\" style=\"height:525px; width:100%;\"></div>\n",
       "            <script type=\"text/javascript\">\n",
       "                require([\"plotly\"], function(Plotly) {\n",
       "                    window.PLOTLYENV=window.PLOTLYENV || {};\n",
       "                    \n",
       "                if (document.getElementById(\"5552ec68-d396-4e25-88bf-0f412c384e4a\")) {\n",
       "                    Plotly.newPlot(\n",
       "                        '5552ec68-d396-4e25-88bf-0f412c384e4a',\n",
       "                        [{\"mode\": \"markers\", \"type\": \"scatter\", \"x\": [95.724162408, 35.7576189281, 28.816847423800002, 99.9584813087, 66.8097483121, 58.2156926413, 53.8210763379, 81.2960821704, 80.6486970595, 78.2528136925, 16.863483686800002, 90.79914755700001, 53.312737012, 71.6187890238, 18.410591776900002, 57.124346761999995, 81.13468391640001, 82.0152554217, 36.924908251, 44.5871260438, 26.662354456, 74.065057115, 17.7405767273, 6.8197438189, 26.3173600923, 82.8041190512, 39.446536961999996, 76.7281205911, 42.2158561432, 94.3585758425, 42.141785126, 3.2112486074799995, 6.8856734002, 13.8757721557, 63.2974036434, 60.4925193638, 79.6072852308, 83.44436306029999, 54.8920701084, 62.045944168199995, 66.65375794090001, 61.3198131584, 47.3195529929, 81.1509876011, 91.0215136709, 16.8434620066, 76.5064365659, 71.8657046789, 9.84808948357, 35.7897124122, 35.888691997399995, 90.8294487116, 7.26207283678, 35.359288168, 79.0792537554, 21.553458329899996, 79.4764277802, 48.7679666405, 54.793862008400005, 87.5035255175, 38.9491304682, 9.39561282267, 11.1211868171, 46.1355582629, 85.6975735819, 50.110296402799996, 11.0736667277, 22.2281308507, 67.5539548043, 12.7871856602, 46.9654908412, 4.84854064839, 40.5373319344, 26.3304612748, 38.884726352600005, 93.8382665331, 60.0816599704, 50.1139652204, 17.718685283499997, 85.0730311421, 41.3215097262, 35.45154709, 74.0210255434, 90.5197211027, 34.5405970412, 94.5616621258, 52.956267850500005, 80.1064364142, 49.822757583000005, 61.7817253103, 60.2861083596, 77.32069018680001, 15.646358754200001, 71.5406183401, 62.4523981129, 79.0598323714, 72.1976934443, 71.4177534183, 31.0088200801, 40.3252822158], \"y\": [197.179636092, 67.5906695414, 60.85413282060001, 196.90739698099998, 125.311128524, 115.785784589, 110.762772705, 157.98528569, 159.61941373, 149.003865539, 31.4675908827, 184.185219661, 103.22061015799999, 143.271818357, 46.7364180117, 107.12379420399999, 168.309374007, 166.82994267, 70.50145558979999, 96.86937025489999, 50.3732358383, 145.519170708, 46.55187460770001, 13.2437863094, 62.500666503699996, 159.916649576, 77.9842041485, 147.269183138, 83.6452954011, 191.95607269200002, 91.7327341584, 8.251416772699999, 16.0963894188, 33.3544421438, 131.50574553299998, 128.698843062, 160.310380503, 160.603245737, 104.400293158, 126.969456046, 124.519167614, 125.21741442700001, 98.7194843794, 166.43245547700002, 179.23687261400002, 33.7772337402, 161.37296513200002, 138.57540100399999, 17.9033282786, 74.1085917146, 74.8213229656, 179.241547046, 6.434372376880001, 78.086356791, 154.59178976299998, 50.0307538993, 165.441966192, 110.897287971, 114.691885107, 186.744206306, 70.6972229828, 19.1790300473, 27.022959916999998, 87.29244921690001, 167.924614121, 96.0205484441, 24.946324645700003, 54.0041458755, 133.165254434, 28.0062232213, 100.60558946799999, 13.8572726025, 82.5906629412, 50.231803909700005, 79.4817724245, 191.32431783599998, 120.495115436, 111.352322885, 44.937606486899995, 172.13320307599997, 84.889236, 69.91899124449999, 149.778646331, 187.593909745, 66.326858951, 189.14496410900003, 103.44683588, 158.52943006700002, 98.6988396336, 122.647395062, 124.763346322, 155.67749312, 35.4106082545, 151.32345871200002, 129.43395879, 163.096902614, 142.898522638, 148.09420854, 63.7968762483, 86.7236853299]}],\n",
       "                        {\"template\": {\"data\": {\"bar\": [{\"error_x\": {\"color\": \"#2a3f5f\"}, \"error_y\": {\"color\": \"#2a3f5f\"}, \"marker\": {\"line\": {\"color\": \"#E5ECF6\", \"width\": 0.5}}, \"type\": \"bar\"}], \"barpolar\": [{\"marker\": {\"line\": {\"color\": \"#E5ECF6\", \"width\": 0.5}}, \"type\": \"barpolar\"}], \"carpet\": [{\"aaxis\": {\"endlinecolor\": \"#2a3f5f\", \"gridcolor\": \"white\", \"linecolor\": \"white\", \"minorgridcolor\": \"white\", \"startlinecolor\": \"#2a3f5f\"}, \"baxis\": {\"endlinecolor\": \"#2a3f5f\", \"gridcolor\": \"white\", \"linecolor\": \"white\", \"minorgridcolor\": \"white\", \"startlinecolor\": \"#2a3f5f\"}, \"type\": \"carpet\"}], \"choropleth\": [{\"colorbar\": {\"outlinewidth\": 0, \"ticks\": \"\"}, \"type\": \"choropleth\"}], \"contour\": [{\"colorbar\": {\"outlinewidth\": 0, \"ticks\": \"\"}, \"colorscale\": [[0.0, \"#0d0887\"], [0.1111111111111111, \"#46039f\"], [0.2222222222222222, \"#7201a8\"], [0.3333333333333333, \"#9c179e\"], [0.4444444444444444, \"#bd3786\"], [0.5555555555555556, \"#d8576b\"], [0.6666666666666666, \"#ed7953\"], [0.7777777777777778, \"#fb9f3a\"], [0.8888888888888888, \"#fdca26\"], [1.0, \"#f0f921\"]], \"type\": \"contour\"}], \"contourcarpet\": [{\"colorbar\": {\"outlinewidth\": 0, \"ticks\": \"\"}, \"type\": \"contourcarpet\"}], \"heatmap\": [{\"colorbar\": {\"outlinewidth\": 0, \"ticks\": \"\"}, \"colorscale\": [[0.0, \"#0d0887\"], [0.1111111111111111, \"#46039f\"], [0.2222222222222222, \"#7201a8\"], [0.3333333333333333, \"#9c179e\"], [0.4444444444444444, \"#bd3786\"], [0.5555555555555556, \"#d8576b\"], [0.6666666666666666, \"#ed7953\"], [0.7777777777777778, \"#fb9f3a\"], [0.8888888888888888, \"#fdca26\"], [1.0, \"#f0f921\"]], \"type\": \"heatmap\"}], \"heatmapgl\": [{\"colorbar\": {\"outlinewidth\": 0, \"ticks\": \"\"}, \"colorscale\": [[0.0, \"#0d0887\"], [0.1111111111111111, \"#46039f\"], [0.2222222222222222, \"#7201a8\"], [0.3333333333333333, \"#9c179e\"], [0.4444444444444444, \"#bd3786\"], [0.5555555555555556, \"#d8576b\"], [0.6666666666666666, \"#ed7953\"], [0.7777777777777778, \"#fb9f3a\"], [0.8888888888888888, \"#fdca26\"], [1.0, \"#f0f921\"]], \"type\": \"heatmapgl\"}], \"histogram\": [{\"marker\": {\"colorbar\": {\"outlinewidth\": 0, \"ticks\": \"\"}}, \"type\": \"histogram\"}], \"histogram2d\": [{\"colorbar\": {\"outlinewidth\": 0, \"ticks\": \"\"}, \"colorscale\": [[0.0, \"#0d0887\"], [0.1111111111111111, \"#46039f\"], [0.2222222222222222, \"#7201a8\"], [0.3333333333333333, \"#9c179e\"], [0.4444444444444444, \"#bd3786\"], [0.5555555555555556, \"#d8576b\"], [0.6666666666666666, \"#ed7953\"], [0.7777777777777778, \"#fb9f3a\"], [0.8888888888888888, \"#fdca26\"], [1.0, \"#f0f921\"]], \"type\": \"histogram2d\"}], \"histogram2dcontour\": [{\"colorbar\": {\"outlinewidth\": 0, \"ticks\": \"\"}, \"colorscale\": [[0.0, \"#0d0887\"], [0.1111111111111111, \"#46039f\"], [0.2222222222222222, \"#7201a8\"], [0.3333333333333333, \"#9c179e\"], [0.4444444444444444, \"#bd3786\"], [0.5555555555555556, \"#d8576b\"], [0.6666666666666666, \"#ed7953\"], [0.7777777777777778, \"#fb9f3a\"], [0.8888888888888888, \"#fdca26\"], [1.0, \"#f0f921\"]], \"type\": \"histogram2dcontour\"}], \"mesh3d\": [{\"colorbar\": {\"outlinewidth\": 0, \"ticks\": \"\"}, \"type\": \"mesh3d\"}], \"parcoords\": [{\"line\": {\"colorbar\": {\"outlinewidth\": 0, \"ticks\": \"\"}}, \"type\": \"parcoords\"}], \"scatter\": [{\"marker\": {\"colorbar\": {\"outlinewidth\": 0, \"ticks\": \"\"}}, \"type\": \"scatter\"}], \"scatter3d\": [{\"line\": {\"colorbar\": {\"outlinewidth\": 0, \"ticks\": \"\"}}, \"marker\": {\"colorbar\": {\"outlinewidth\": 0, \"ticks\": \"\"}}, \"type\": \"scatter3d\"}], \"scattercarpet\": [{\"marker\": {\"colorbar\": {\"outlinewidth\": 0, \"ticks\": \"\"}}, \"type\": \"scattercarpet\"}], \"scattergeo\": [{\"marker\": {\"colorbar\": {\"outlinewidth\": 0, \"ticks\": \"\"}}, \"type\": \"scattergeo\"}], \"scattergl\": [{\"marker\": {\"colorbar\": {\"outlinewidth\": 0, \"ticks\": \"\"}}, \"type\": \"scattergl\"}], \"scattermapbox\": [{\"marker\": {\"colorbar\": {\"outlinewidth\": 0, \"ticks\": \"\"}}, \"type\": \"scattermapbox\"}], \"scatterpolar\": [{\"marker\": {\"colorbar\": {\"outlinewidth\": 0, \"ticks\": \"\"}}, \"type\": \"scatterpolar\"}], \"scatterpolargl\": [{\"marker\": {\"colorbar\": {\"outlinewidth\": 0, \"ticks\": \"\"}}, \"type\": \"scatterpolargl\"}], \"scatterternary\": [{\"marker\": {\"colorbar\": {\"outlinewidth\": 0, \"ticks\": \"\"}}, \"type\": \"scatterternary\"}], \"surface\": [{\"colorbar\": {\"outlinewidth\": 0, \"ticks\": \"\"}, \"colorscale\": [[0.0, \"#0d0887\"], [0.1111111111111111, \"#46039f\"], [0.2222222222222222, \"#7201a8\"], [0.3333333333333333, \"#9c179e\"], [0.4444444444444444, \"#bd3786\"], [0.5555555555555556, \"#d8576b\"], [0.6666666666666666, \"#ed7953\"], [0.7777777777777778, \"#fb9f3a\"], [0.8888888888888888, \"#fdca26\"], [1.0, \"#f0f921\"]], \"type\": \"surface\"}], \"table\": [{\"cells\": {\"fill\": {\"color\": \"#EBF0F8\"}, \"line\": {\"color\": \"white\"}}, \"header\": {\"fill\": {\"color\": \"#C8D4E3\"}, \"line\": {\"color\": \"white\"}}, \"type\": \"table\"}]}, \"layout\": {\"annotationdefaults\": {\"arrowcolor\": \"#2a3f5f\", \"arrowhead\": 0, \"arrowwidth\": 1}, \"colorscale\": {\"diverging\": [[0, \"#8e0152\"], [0.1, \"#c51b7d\"], [0.2, \"#de77ae\"], [0.3, \"#f1b6da\"], [0.4, \"#fde0ef\"], [0.5, \"#f7f7f7\"], [0.6, \"#e6f5d0\"], [0.7, \"#b8e186\"], [0.8, \"#7fbc41\"], [0.9, \"#4d9221\"], [1, \"#276419\"]], \"sequential\": [[0.0, \"#0d0887\"], [0.1111111111111111, \"#46039f\"], [0.2222222222222222, \"#7201a8\"], [0.3333333333333333, \"#9c179e\"], [0.4444444444444444, \"#bd3786\"], [0.5555555555555556, \"#d8576b\"], [0.6666666666666666, \"#ed7953\"], [0.7777777777777778, \"#fb9f3a\"], [0.8888888888888888, \"#fdca26\"], [1.0, \"#f0f921\"]], \"sequentialminus\": [[0.0, \"#0d0887\"], [0.1111111111111111, \"#46039f\"], [0.2222222222222222, \"#7201a8\"], [0.3333333333333333, \"#9c179e\"], [0.4444444444444444, \"#bd3786\"], [0.5555555555555556, \"#d8576b\"], [0.6666666666666666, \"#ed7953\"], [0.7777777777777778, \"#fb9f3a\"], [0.8888888888888888, \"#fdca26\"], [1.0, \"#f0f921\"]]}, \"colorway\": [\"#636efa\", \"#EF553B\", \"#00cc96\", \"#ab63fa\", \"#FFA15A\", \"#19d3f3\", \"#FF6692\", \"#B6E880\", \"#FF97FF\", \"#FECB52\"], \"font\": {\"color\": \"#2a3f5f\"}, \"geo\": {\"bgcolor\": \"white\", \"lakecolor\": \"white\", \"landcolor\": \"#E5ECF6\", \"showlakes\": true, \"showland\": true, \"subunitcolor\": \"white\"}, \"hoverlabel\": {\"align\": \"left\"}, \"hovermode\": \"closest\", \"mapbox\": {\"style\": \"light\"}, \"paper_bgcolor\": \"white\", \"plot_bgcolor\": \"#E5ECF6\", \"polar\": {\"angularaxis\": {\"gridcolor\": \"white\", \"linecolor\": \"white\", \"ticks\": \"\"}, \"bgcolor\": \"#E5ECF6\", \"radialaxis\": {\"gridcolor\": \"white\", \"linecolor\": \"white\", \"ticks\": \"\"}}, \"scene\": {\"xaxis\": {\"backgroundcolor\": \"#E5ECF6\", \"gridcolor\": \"white\", \"gridwidth\": 2, \"linecolor\": \"white\", \"showbackground\": true, \"ticks\": \"\", \"zerolinecolor\": \"white\"}, \"yaxis\": {\"backgroundcolor\": \"#E5ECF6\", \"gridcolor\": \"white\", \"gridwidth\": 2, \"linecolor\": \"white\", \"showbackground\": true, \"ticks\": \"\", \"zerolinecolor\": \"white\"}, \"zaxis\": {\"backgroundcolor\": \"#E5ECF6\", \"gridcolor\": \"white\", \"gridwidth\": 2, \"linecolor\": \"white\", \"showbackground\": true, \"ticks\": \"\", \"zerolinecolor\": \"white\"}}, \"shapedefaults\": {\"line\": {\"color\": \"#2a3f5f\"}}, \"ternary\": {\"aaxis\": {\"gridcolor\": \"white\", \"linecolor\": \"white\", \"ticks\": \"\"}, \"baxis\": {\"gridcolor\": \"white\", \"linecolor\": \"white\", \"ticks\": \"\"}, \"bgcolor\": \"#E5ECF6\", \"caxis\": {\"gridcolor\": \"white\", \"linecolor\": \"white\", \"ticks\": \"\"}}, \"title\": {\"x\": 0.05}, \"xaxis\": {\"automargin\": true, \"gridcolor\": \"white\", \"linecolor\": \"white\", \"ticks\": \"\", \"zerolinecolor\": \"white\", \"zerolinewidth\": 2}, \"yaxis\": {\"automargin\": true, \"gridcolor\": \"white\", \"linecolor\": \"white\", \"ticks\": \"\", \"zerolinecolor\": \"white\", \"zerolinewidth\": 2}}}},\n",
       "                        {\"responsive\": true}\n",
       "                    ).then(function(){\n",
       "                            \n",
       "var gd = document.getElementById('5552ec68-d396-4e25-88bf-0f412c384e4a');\n",
       "var x = new MutationObserver(function (mutations, observer) {{\n",
       "        var display = window.getComputedStyle(gd).display;\n",
       "        if (!display || display === 'none') {{\n",
       "            console.log([gd, 'removed!']);\n",
       "            Plotly.purge(gd);\n",
       "            observer.disconnect();\n",
       "        }}\n",
       "}});\n",
       "\n",
       "// Listen for the removal of the full notebook cells\n",
       "var notebookContainer = gd.closest('#notebook-container');\n",
       "if (notebookContainer) {{\n",
       "    x.observe(notebookContainer, {childList: true});\n",
       "}}\n",
       "\n",
       "// Listen for the clearing of the current output cell\n",
       "var outputEl = gd.closest('.output');\n",
       "if (outputEl) {{\n",
       "    x.observe(outputEl, {childList: true});\n",
       "}}\n",
       "\n",
       "                        })\n",
       "                };\n",
       "                });\n",
       "            </script>\n",
       "        </div>"
      ]
     },
     "metadata": {},
     "output_type": "display_data"
    }
   ],
   "source": [
    "fig = go.Figure()\n",
    "fig.add_trace(go.Scatter(x=df_data_1d.X,y=df_data_1d.Y,mode='markers'))\n",
    "fig.show()\n"
   ]
  },
  {
   "cell_type": "markdown",
   "metadata": {},
   "source": [
    "#### Linear regression\n",
    "\n"
   ]
  },
  {
   "cell_type": "code",
   "execution_count": 17,
   "metadata": {},
   "outputs": [
    {
     "name": "stdout",
     "output_type": "stream",
     "text": [
      "1.9726121674845978 2.8644240756601382\n"
     ]
    },
    {
     "data": {
      "application/vnd.plotly.v1+json": {
       "config": {
        "plotlyServerURL": "https://plot.ly"
       },
       "data": [
        {
         "mode": "markers",
         "type": "scatter",
         "x": [
          95.724162408,
          35.7576189281,
          28.816847423800002,
          99.9584813087,
          66.8097483121,
          58.2156926413,
          53.8210763379,
          81.2960821704,
          80.6486970595,
          78.2528136925,
          16.863483686800002,
          90.79914755700001,
          53.312737012,
          71.6187890238,
          18.410591776900002,
          57.124346761999995,
          81.13468391640001,
          82.0152554217,
          36.924908251,
          44.5871260438,
          26.662354456,
          74.065057115,
          17.7405767273,
          6.8197438189,
          26.3173600923,
          82.8041190512,
          39.446536961999996,
          76.7281205911,
          42.2158561432,
          94.3585758425,
          42.141785126,
          3.2112486074799995,
          6.8856734002,
          13.8757721557,
          63.2974036434,
          60.4925193638,
          79.6072852308,
          83.44436306029999,
          54.8920701084,
          62.045944168199995,
          66.65375794090001,
          61.3198131584,
          47.3195529929,
          81.1509876011,
          91.0215136709,
          16.8434620066,
          76.5064365659,
          71.8657046789,
          9.84808948357,
          35.7897124122,
          35.888691997399995,
          90.8294487116,
          7.26207283678,
          35.359288168,
          79.0792537554,
          21.553458329899996,
          79.4764277802,
          48.7679666405,
          54.793862008400005,
          87.5035255175,
          38.9491304682,
          9.39561282267,
          11.1211868171,
          46.1355582629,
          85.6975735819,
          50.110296402799996,
          11.0736667277,
          22.2281308507,
          67.5539548043,
          12.7871856602,
          46.9654908412,
          4.84854064839,
          40.5373319344,
          26.3304612748,
          38.884726352600005,
          93.8382665331,
          60.0816599704,
          50.1139652204,
          17.718685283499997,
          85.0730311421,
          41.3215097262,
          35.45154709,
          74.0210255434,
          90.5197211027,
          34.5405970412,
          94.5616621258,
          52.956267850500005,
          80.1064364142,
          49.822757583000005,
          61.7817253103,
          60.2861083596,
          77.32069018680001,
          15.646358754200001,
          71.5406183401,
          62.4523981129,
          79.0598323714,
          72.1976934443,
          71.4177534183,
          31.0088200801,
          40.3252822158
         ],
         "y": [
          197.179636092,
          67.5906695414,
          60.85413282060001,
          196.90739698099998,
          125.311128524,
          115.785784589,
          110.762772705,
          157.98528569,
          159.61941373,
          149.003865539,
          31.4675908827,
          184.185219661,
          103.22061015799999,
          143.271818357,
          46.7364180117,
          107.12379420399999,
          168.309374007,
          166.82994267,
          70.50145558979999,
          96.86937025489999,
          50.3732358383,
          145.519170708,
          46.55187460770001,
          13.2437863094,
          62.500666503699996,
          159.916649576,
          77.9842041485,
          147.269183138,
          83.6452954011,
          191.95607269200002,
          91.7327341584,
          8.251416772699999,
          16.0963894188,
          33.3544421438,
          131.50574553299998,
          128.698843062,
          160.310380503,
          160.603245737,
          104.400293158,
          126.969456046,
          124.519167614,
          125.21741442700001,
          98.7194843794,
          166.43245547700002,
          179.23687261400002,
          33.7772337402,
          161.37296513200002,
          138.57540100399999,
          17.9033282786,
          74.1085917146,
          74.8213229656,
          179.241547046,
          6.434372376880001,
          78.086356791,
          154.59178976299998,
          50.0307538993,
          165.441966192,
          110.897287971,
          114.691885107,
          186.744206306,
          70.6972229828,
          19.1790300473,
          27.022959916999998,
          87.29244921690001,
          167.924614121,
          96.0205484441,
          24.946324645700003,
          54.0041458755,
          133.165254434,
          28.0062232213,
          100.60558946799999,
          13.8572726025,
          82.5906629412,
          50.231803909700005,
          79.4817724245,
          191.32431783599998,
          120.495115436,
          111.352322885,
          44.937606486899995,
          172.13320307599997,
          84.889236,
          69.91899124449999,
          149.778646331,
          187.593909745,
          66.326858951,
          189.14496410900003,
          103.44683588,
          158.52943006700002,
          98.6988396336,
          122.647395062,
          124.763346322,
          155.67749312,
          35.4106082545,
          151.32345871200002,
          129.43395879,
          163.096902614,
          142.898522638,
          148.09420854,
          63.7968762483,
          86.7236853299
         ]
        },
        {
         "mode": "lines",
         "type": "scatter",
         "x": [
          95.724162408,
          35.7576189281,
          28.816847423800002,
          99.9584813087,
          66.8097483121,
          58.2156926413,
          53.8210763379,
          81.2960821704,
          80.6486970595,
          78.2528136925,
          16.863483686800002,
          90.79914755700001,
          53.312737012,
          71.6187890238,
          18.410591776900002,
          57.124346761999995,
          81.13468391640001,
          82.0152554217,
          36.924908251,
          44.5871260438,
          26.662354456,
          74.065057115,
          17.7405767273,
          6.8197438189,
          26.3173600923,
          82.8041190512,
          39.446536961999996,
          76.7281205911,
          42.2158561432,
          94.3585758425,
          42.141785126,
          3.2112486074799995,
          6.8856734002,
          13.8757721557,
          63.2974036434,
          60.4925193638,
          79.6072852308,
          83.44436306029999,
          54.8920701084,
          62.045944168199995,
          66.65375794090001,
          61.3198131584,
          47.3195529929,
          81.1509876011,
          91.0215136709,
          16.8434620066,
          76.5064365659,
          71.8657046789,
          9.84808948357,
          35.7897124122,
          35.888691997399995,
          90.8294487116,
          7.26207283678,
          35.359288168,
          79.0792537554,
          21.553458329899996,
          79.4764277802,
          48.7679666405,
          54.793862008400005,
          87.5035255175,
          38.9491304682,
          9.39561282267,
          11.1211868171,
          46.1355582629,
          85.6975735819,
          50.110296402799996,
          11.0736667277,
          22.2281308507,
          67.5539548043,
          12.7871856602,
          46.9654908412,
          4.84854064839,
          40.5373319344,
          26.3304612748,
          38.884726352600005,
          93.8382665331,
          60.0816599704,
          50.1139652204,
          17.718685283499997,
          85.0730311421,
          41.3215097262,
          35.45154709,
          74.0210255434,
          90.5197211027,
          34.5405970412,
          94.5616621258,
          52.956267850500005,
          80.1064364142,
          49.822757583000005,
          61.7817253103,
          60.2861083596,
          77.32069018680001,
          15.646358754200001,
          71.5406183401,
          62.4523981129,
          79.0598323714,
          72.1976934443,
          71.4177534183,
          31.0088200801,
          40.3252822158
         ],
         "y": [
          191.69107156395268,
          73.40033825350777,
          59.70888793239521,
          200.0437405484835,
          134.65414650269216,
          117.70140771843208,
          109.03253412691906,
          163.23006493381885,
          161.95302518700913,
          157.22687650539098,
          36.129537182419845,
          181.97592734382775,
          108.0297777874378,
          144.14051872452038,
          39.18138142536497,
          115.54860555799071,
          162.9116887741677,
          164.6487148398627,
          75.70294737483515,
          90.81753142282942,
          55.45890888935292,
          148.96605692615083,
          37.8597015861262,
          16.317133711950156,
          54.7783688098047,
          166.20483683390046,
          80.67714285203225,
          154.2192483418895,
          86.13993556451587,
          188.99729888909388,
          85.99382217472919,
          9.198972151593157,
          16.4471872062197,
          30.235941063237945,
          127.72565267281489,
          122.19270381448966,
          159.89872354235314,
          167.4677899564102,
          111.14518946990756,
          125.25700848492147,
          134.34643799845261,
          123.82463361980213,
          96.2075500693869,
          162.94384962098172,
          182.41456944574315,
          36.09004217244384,
          153.78195173644303,
          144.62758755011308,
          22.29088521742743,
          73.46364625074038,
          73.65889458483848,
          182.0356997700805,
          17.189677314651757,
          72.61458614945111,
          158.85712222916425,
          45.38103822859313,
          159.64059254309356,
          99.06470845419341,
          110.95146297690204,
          175.47494320927962,
          79.69595275017653,
          21.398324250633287,
          24.802212507940904,
          93.87198765875125,
          171.9125004472227,
          101.71260447608309,
          24.708473801390507,
          46.71190545219073,
          136.12217728432694,
          28.08858209685523,
          95.5091227608977,
          12.428714353217913,
          82.82885828681952,
          54.80421236181264,
          79.56890840810789,
          187.97093041451592,
          121.38223757594348,
          101.71984163032113,
          37.816518257722514,
          170.6805204313627,
          84.37573694039541,
          72.79657722154732,
          148.87919971225918,
          181.42472732015847,
          70.99962607131376,
          189.39790936258066,
          107.32660238212988,
          160.88335524014232,
          101.14540190152145,
          124.73580715094906,
          121.78553495610203,
          155.38815833644878,
          33.72862173102421,
          143.98631828271317,
          126.0587844817588,
          158.81881137077647,
          145.2824726282093,
          143.74395344301342,
          64.03279986500611,
          82.41056643179748
         ]
        }
       ],
       "layout": {
        "autosize": true,
        "template": {
         "data": {
          "bar": [
           {
            "error_x": {
             "color": "#2a3f5f"
            },
            "error_y": {
             "color": "#2a3f5f"
            },
            "marker": {
             "line": {
              "color": "#E5ECF6",
              "width": 0.5
             }
            },
            "type": "bar"
           }
          ],
          "barpolar": [
           {
            "marker": {
             "line": {
              "color": "#E5ECF6",
              "width": 0.5
             }
            },
            "type": "barpolar"
           }
          ],
          "carpet": [
           {
            "aaxis": {
             "endlinecolor": "#2a3f5f",
             "gridcolor": "white",
             "linecolor": "white",
             "minorgridcolor": "white",
             "startlinecolor": "#2a3f5f"
            },
            "baxis": {
             "endlinecolor": "#2a3f5f",
             "gridcolor": "white",
             "linecolor": "white",
             "minorgridcolor": "white",
             "startlinecolor": "#2a3f5f"
            },
            "type": "carpet"
           }
          ],
          "choropleth": [
           {
            "colorbar": {
             "outlinewidth": 0,
             "ticks": ""
            },
            "type": "choropleth"
           }
          ],
          "contour": [
           {
            "colorbar": {
             "outlinewidth": 0,
             "ticks": ""
            },
            "colorscale": [
             [
              0,
              "#0d0887"
             ],
             [
              0.1111111111111111,
              "#46039f"
             ],
             [
              0.2222222222222222,
              "#7201a8"
             ],
             [
              0.3333333333333333,
              "#9c179e"
             ],
             [
              0.4444444444444444,
              "#bd3786"
             ],
             [
              0.5555555555555556,
              "#d8576b"
             ],
             [
              0.6666666666666666,
              "#ed7953"
             ],
             [
              0.7777777777777778,
              "#fb9f3a"
             ],
             [
              0.8888888888888888,
              "#fdca26"
             ],
             [
              1,
              "#f0f921"
             ]
            ],
            "type": "contour"
           }
          ],
          "contourcarpet": [
           {
            "colorbar": {
             "outlinewidth": 0,
             "ticks": ""
            },
            "type": "contourcarpet"
           }
          ],
          "heatmap": [
           {
            "colorbar": {
             "outlinewidth": 0,
             "ticks": ""
            },
            "colorscale": [
             [
              0,
              "#0d0887"
             ],
             [
              0.1111111111111111,
              "#46039f"
             ],
             [
              0.2222222222222222,
              "#7201a8"
             ],
             [
              0.3333333333333333,
              "#9c179e"
             ],
             [
              0.4444444444444444,
              "#bd3786"
             ],
             [
              0.5555555555555556,
              "#d8576b"
             ],
             [
              0.6666666666666666,
              "#ed7953"
             ],
             [
              0.7777777777777778,
              "#fb9f3a"
             ],
             [
              0.8888888888888888,
              "#fdca26"
             ],
             [
              1,
              "#f0f921"
             ]
            ],
            "type": "heatmap"
           }
          ],
          "heatmapgl": [
           {
            "colorbar": {
             "outlinewidth": 0,
             "ticks": ""
            },
            "colorscale": [
             [
              0,
              "#0d0887"
             ],
             [
              0.1111111111111111,
              "#46039f"
             ],
             [
              0.2222222222222222,
              "#7201a8"
             ],
             [
              0.3333333333333333,
              "#9c179e"
             ],
             [
              0.4444444444444444,
              "#bd3786"
             ],
             [
              0.5555555555555556,
              "#d8576b"
             ],
             [
              0.6666666666666666,
              "#ed7953"
             ],
             [
              0.7777777777777778,
              "#fb9f3a"
             ],
             [
              0.8888888888888888,
              "#fdca26"
             ],
             [
              1,
              "#f0f921"
             ]
            ],
            "type": "heatmapgl"
           }
          ],
          "histogram": [
           {
            "marker": {
             "colorbar": {
              "outlinewidth": 0,
              "ticks": ""
             }
            },
            "type": "histogram"
           }
          ],
          "histogram2d": [
           {
            "colorbar": {
             "outlinewidth": 0,
             "ticks": ""
            },
            "colorscale": [
             [
              0,
              "#0d0887"
             ],
             [
              0.1111111111111111,
              "#46039f"
             ],
             [
              0.2222222222222222,
              "#7201a8"
             ],
             [
              0.3333333333333333,
              "#9c179e"
             ],
             [
              0.4444444444444444,
              "#bd3786"
             ],
             [
              0.5555555555555556,
              "#d8576b"
             ],
             [
              0.6666666666666666,
              "#ed7953"
             ],
             [
              0.7777777777777778,
              "#fb9f3a"
             ],
             [
              0.8888888888888888,
              "#fdca26"
             ],
             [
              1,
              "#f0f921"
             ]
            ],
            "type": "histogram2d"
           }
          ],
          "histogram2dcontour": [
           {
            "colorbar": {
             "outlinewidth": 0,
             "ticks": ""
            },
            "colorscale": [
             [
              0,
              "#0d0887"
             ],
             [
              0.1111111111111111,
              "#46039f"
             ],
             [
              0.2222222222222222,
              "#7201a8"
             ],
             [
              0.3333333333333333,
              "#9c179e"
             ],
             [
              0.4444444444444444,
              "#bd3786"
             ],
             [
              0.5555555555555556,
              "#d8576b"
             ],
             [
              0.6666666666666666,
              "#ed7953"
             ],
             [
              0.7777777777777778,
              "#fb9f3a"
             ],
             [
              0.8888888888888888,
              "#fdca26"
             ],
             [
              1,
              "#f0f921"
             ]
            ],
            "type": "histogram2dcontour"
           }
          ],
          "mesh3d": [
           {
            "colorbar": {
             "outlinewidth": 0,
             "ticks": ""
            },
            "type": "mesh3d"
           }
          ],
          "parcoords": [
           {
            "line": {
             "colorbar": {
              "outlinewidth": 0,
              "ticks": ""
             }
            },
            "type": "parcoords"
           }
          ],
          "scatter": [
           {
            "marker": {
             "colorbar": {
              "outlinewidth": 0,
              "ticks": ""
             }
            },
            "type": "scatter"
           }
          ],
          "scatter3d": [
           {
            "line": {
             "colorbar": {
              "outlinewidth": 0,
              "ticks": ""
             }
            },
            "marker": {
             "colorbar": {
              "outlinewidth": 0,
              "ticks": ""
             }
            },
            "type": "scatter3d"
           }
          ],
          "scattercarpet": [
           {
            "marker": {
             "colorbar": {
              "outlinewidth": 0,
              "ticks": ""
             }
            },
            "type": "scattercarpet"
           }
          ],
          "scattergeo": [
           {
            "marker": {
             "colorbar": {
              "outlinewidth": 0,
              "ticks": ""
             }
            },
            "type": "scattergeo"
           }
          ],
          "scattergl": [
           {
            "marker": {
             "colorbar": {
              "outlinewidth": 0,
              "ticks": ""
             }
            },
            "type": "scattergl"
           }
          ],
          "scattermapbox": [
           {
            "marker": {
             "colorbar": {
              "outlinewidth": 0,
              "ticks": ""
             }
            },
            "type": "scattermapbox"
           }
          ],
          "scatterpolar": [
           {
            "marker": {
             "colorbar": {
              "outlinewidth": 0,
              "ticks": ""
             }
            },
            "type": "scatterpolar"
           }
          ],
          "scatterpolargl": [
           {
            "marker": {
             "colorbar": {
              "outlinewidth": 0,
              "ticks": ""
             }
            },
            "type": "scatterpolargl"
           }
          ],
          "scatterternary": [
           {
            "marker": {
             "colorbar": {
              "outlinewidth": 0,
              "ticks": ""
             }
            },
            "type": "scatterternary"
           }
          ],
          "surface": [
           {
            "colorbar": {
             "outlinewidth": 0,
             "ticks": ""
            },
            "colorscale": [
             [
              0,
              "#0d0887"
             ],
             [
              0.1111111111111111,
              "#46039f"
             ],
             [
              0.2222222222222222,
              "#7201a8"
             ],
             [
              0.3333333333333333,
              "#9c179e"
             ],
             [
              0.4444444444444444,
              "#bd3786"
             ],
             [
              0.5555555555555556,
              "#d8576b"
             ],
             [
              0.6666666666666666,
              "#ed7953"
             ],
             [
              0.7777777777777778,
              "#fb9f3a"
             ],
             [
              0.8888888888888888,
              "#fdca26"
             ],
             [
              1,
              "#f0f921"
             ]
            ],
            "type": "surface"
           }
          ],
          "table": [
           {
            "cells": {
             "fill": {
              "color": "#EBF0F8"
             },
             "line": {
              "color": "white"
             }
            },
            "header": {
             "fill": {
              "color": "#C8D4E3"
             },
             "line": {
              "color": "white"
             }
            },
            "type": "table"
           }
          ]
         },
         "layout": {
          "annotationdefaults": {
           "arrowcolor": "#2a3f5f",
           "arrowhead": 0,
           "arrowwidth": 1
          },
          "colorscale": {
           "diverging": [
            [
             0,
             "#8e0152"
            ],
            [
             0.1,
             "#c51b7d"
            ],
            [
             0.2,
             "#de77ae"
            ],
            [
             0.3,
             "#f1b6da"
            ],
            [
             0.4,
             "#fde0ef"
            ],
            [
             0.5,
             "#f7f7f7"
            ],
            [
             0.6,
             "#e6f5d0"
            ],
            [
             0.7,
             "#b8e186"
            ],
            [
             0.8,
             "#7fbc41"
            ],
            [
             0.9,
             "#4d9221"
            ],
            [
             1,
             "#276419"
            ]
           ],
           "sequential": [
            [
             0,
             "#0d0887"
            ],
            [
             0.1111111111111111,
             "#46039f"
            ],
            [
             0.2222222222222222,
             "#7201a8"
            ],
            [
             0.3333333333333333,
             "#9c179e"
            ],
            [
             0.4444444444444444,
             "#bd3786"
            ],
            [
             0.5555555555555556,
             "#d8576b"
            ],
            [
             0.6666666666666666,
             "#ed7953"
            ],
            [
             0.7777777777777778,
             "#fb9f3a"
            ],
            [
             0.8888888888888888,
             "#fdca26"
            ],
            [
             1,
             "#f0f921"
            ]
           ],
           "sequentialminus": [
            [
             0,
             "#0d0887"
            ],
            [
             0.1111111111111111,
             "#46039f"
            ],
            [
             0.2222222222222222,
             "#7201a8"
            ],
            [
             0.3333333333333333,
             "#9c179e"
            ],
            [
             0.4444444444444444,
             "#bd3786"
            ],
            [
             0.5555555555555556,
             "#d8576b"
            ],
            [
             0.6666666666666666,
             "#ed7953"
            ],
            [
             0.7777777777777778,
             "#fb9f3a"
            ],
            [
             0.8888888888888888,
             "#fdca26"
            ],
            [
             1,
             "#f0f921"
            ]
           ]
          },
          "colorway": [
           "#636efa",
           "#EF553B",
           "#00cc96",
           "#ab63fa",
           "#FFA15A",
           "#19d3f3",
           "#FF6692",
           "#B6E880",
           "#FF97FF",
           "#FECB52"
          ],
          "font": {
           "color": "#2a3f5f"
          },
          "geo": {
           "bgcolor": "white",
           "lakecolor": "white",
           "landcolor": "#E5ECF6",
           "showlakes": true,
           "showland": true,
           "subunitcolor": "white"
          },
          "hoverlabel": {
           "align": "left"
          },
          "hovermode": "closest",
          "mapbox": {
           "style": "light"
          },
          "paper_bgcolor": "white",
          "plot_bgcolor": "#E5ECF6",
          "polar": {
           "angularaxis": {
            "gridcolor": "white",
            "linecolor": "white",
            "ticks": ""
           },
           "bgcolor": "#E5ECF6",
           "radialaxis": {
            "gridcolor": "white",
            "linecolor": "white",
            "ticks": ""
           }
          },
          "scene": {
           "xaxis": {
            "backgroundcolor": "#E5ECF6",
            "gridcolor": "white",
            "gridwidth": 2,
            "linecolor": "white",
            "showbackground": true,
            "ticks": "",
            "zerolinecolor": "white"
           },
           "yaxis": {
            "backgroundcolor": "#E5ECF6",
            "gridcolor": "white",
            "gridwidth": 2,
            "linecolor": "white",
            "showbackground": true,
            "ticks": "",
            "zerolinecolor": "white"
           },
           "zaxis": {
            "backgroundcolor": "#E5ECF6",
            "gridcolor": "white",
            "gridwidth": 2,
            "linecolor": "white",
            "showbackground": true,
            "ticks": "",
            "zerolinecolor": "white"
           }
          },
          "shapedefaults": {
           "line": {
            "color": "#2a3f5f"
           }
          },
          "ternary": {
           "aaxis": {
            "gridcolor": "white",
            "linecolor": "white",
            "ticks": ""
           },
           "baxis": {
            "gridcolor": "white",
            "linecolor": "white",
            "ticks": ""
           },
           "bgcolor": "#E5ECF6",
           "caxis": {
            "gridcolor": "white",
            "linecolor": "white",
            "ticks": ""
           }
          },
          "title": {
           "x": 0.05
          },
          "xaxis": {
           "automargin": true,
           "gridcolor": "white",
           "linecolor": "white",
           "ticks": "",
           "zerolinecolor": "white",
           "zerolinewidth": 2
          },
          "yaxis": {
           "automargin": true,
           "gridcolor": "white",
           "linecolor": "white",
           "ticks": "",
           "zerolinecolor": "white",
           "zerolinewidth": 2
          }
         }
        },
        "xaxis": {
         "autorange": true,
         "range": [
          -2.659798379435492,
          105.82952829561549
         ],
         "type": "linear"
        },
        "yaxis": {
         "autorange": true,
         "range": [
          -7.537414455756178,
          211.1514229246362
         ],
         "type": "linear"
        }
       }
      },
      "image/png": "[encoded data removed]",
      "text/html": [
       "<div>\n",
       "        \n",
       "        \n",
       "            <div id=\"2040d08a-ccd7-43c5-85b6-38632252cced\" class=\"plotly-graph-div\" style=\"height:525px; width:100%;\"></div>\n",
       "            <script type=\"text/javascript\">\n",
       "                require([\"plotly\"], function(Plotly) {\n",
       "                    window.PLOTLYENV=window.PLOTLYENV || {};\n",
       "                    \n",
       "                if (document.getElementById(\"2040d08a-ccd7-43c5-85b6-38632252cced\")) {\n",
       "                    Plotly.newPlot(\n",
       "                        '2040d08a-ccd7-43c5-85b6-38632252cced',\n",
       "                        [{\"mode\": \"markers\", \"type\": \"scatter\", \"x\": [95.724162408, 35.7576189281, 28.816847423800002, 99.9584813087, 66.8097483121, 58.2156926413, 53.8210763379, 81.2960821704, 80.6486970595, 78.2528136925, 16.863483686800002, 90.79914755700001, 53.312737012, 71.6187890238, 18.410591776900002, 57.124346761999995, 81.13468391640001, 82.0152554217, 36.924908251, 44.5871260438, 26.662354456, 74.065057115, 17.7405767273, 6.8197438189, 26.3173600923, 82.8041190512, 39.446536961999996, 76.7281205911, 42.2158561432, 94.3585758425, 42.141785126, 3.2112486074799995, 6.8856734002, 13.8757721557, 63.2974036434, 60.4925193638, 79.6072852308, 83.44436306029999, 54.8920701084, 62.045944168199995, 66.65375794090001, 61.3198131584, 47.3195529929, 81.1509876011, 91.0215136709, 16.8434620066, 76.5064365659, 71.8657046789, 9.84808948357, 35.7897124122, 35.888691997399995, 90.8294487116, 7.26207283678, 35.359288168, 79.0792537554, 21.553458329899996, 79.4764277802, 48.7679666405, 54.793862008400005, 87.5035255175, 38.9491304682, 9.39561282267, 11.1211868171, 46.1355582629, 85.6975735819, 50.110296402799996, 11.0736667277, 22.2281308507, 67.5539548043, 12.7871856602, 46.9654908412, 4.84854064839, 40.5373319344, 26.3304612748, 38.884726352600005, 93.8382665331, 60.0816599704, 50.1139652204, 17.718685283499997, 85.0730311421, 41.3215097262, 35.45154709, 74.0210255434, 90.5197211027, 34.5405970412, 94.5616621258, 52.956267850500005, 80.1064364142, 49.822757583000005, 61.7817253103, 60.2861083596, 77.32069018680001, 15.646358754200001, 71.5406183401, 62.4523981129, 79.0598323714, 72.1976934443, 71.4177534183, 31.0088200801, 40.3252822158], \"y\": [197.179636092, 67.5906695414, 60.85413282060001, 196.90739698099998, 125.311128524, 115.785784589, 110.762772705, 157.98528569, 159.61941373, 149.003865539, 31.4675908827, 184.185219661, 103.22061015799999, 143.271818357, 46.7364180117, 107.12379420399999, 168.309374007, 166.82994267, 70.50145558979999, 96.86937025489999, 50.3732358383, 145.519170708, 46.55187460770001, 13.2437863094, 62.500666503699996, 159.916649576, 77.9842041485, 147.269183138, 83.6452954011, 191.95607269200002, 91.7327341584, 8.251416772699999, 16.0963894188, 33.3544421438, 131.50574553299998, 128.698843062, 160.310380503, 160.603245737, 104.400293158, 126.969456046, 124.519167614, 125.21741442700001, 98.7194843794, 166.43245547700002, 179.23687261400002, 33.7772337402, 161.37296513200002, 138.57540100399999, 17.9033282786, 74.1085917146, 74.8213229656, 179.241547046, 6.434372376880001, 78.086356791, 154.59178976299998, 50.0307538993, 165.441966192, 110.897287971, 114.691885107, 186.744206306, 70.6972229828, 19.1790300473, 27.022959916999998, 87.29244921690001, 167.924614121, 96.0205484441, 24.946324645700003, 54.0041458755, 133.165254434, 28.0062232213, 100.60558946799999, 13.8572726025, 82.5906629412, 50.231803909700005, 79.4817724245, 191.32431783599998, 120.495115436, 111.352322885, 44.937606486899995, 172.13320307599997, 84.889236, 69.91899124449999, 149.778646331, 187.593909745, 66.326858951, 189.14496410900003, 103.44683588, 158.52943006700002, 98.6988396336, 122.647395062, 124.763346322, 155.67749312, 35.4106082545, 151.32345871200002, 129.43395879, 163.096902614, 142.898522638, 148.09420854, 63.7968762483, 86.7236853299]}, {\"mode\": \"lines\", \"type\": \"scatter\", \"x\": [95.724162408, 35.7576189281, 28.816847423800002, 99.9584813087, 66.8097483121, 58.2156926413, 53.8210763379, 81.2960821704, 80.6486970595, 78.2528136925, 16.863483686800002, 90.79914755700001, 53.312737012, 71.6187890238, 18.410591776900002, 57.124346761999995, 81.13468391640001, 82.0152554217, 36.924908251, 44.5871260438, 26.662354456, 74.065057115, 17.7405767273, 6.8197438189, 26.3173600923, 82.8041190512, 39.446536961999996, 76.7281205911, 42.2158561432, 94.3585758425, 42.141785126, 3.2112486074799995, 6.8856734002, 13.8757721557, 63.2974036434, 60.4925193638, 79.6072852308, 83.44436306029999, 54.8920701084, 62.045944168199995, 66.65375794090001, 61.3198131584, 47.3195529929, 81.1509876011, 91.0215136709, 16.8434620066, 76.5064365659, 71.8657046789, 9.84808948357, 35.7897124122, 35.888691997399995, 90.8294487116, 7.26207283678, 35.359288168, 79.0792537554, 21.553458329899996, 79.4764277802, 48.7679666405, 54.793862008400005, 87.5035255175, 38.9491304682, 9.39561282267, 11.1211868171, 46.1355582629, 85.6975735819, 50.110296402799996, 11.0736667277, 22.2281308507, 67.5539548043, 12.7871856602, 46.9654908412, 4.84854064839, 40.5373319344, 26.3304612748, 38.884726352600005, 93.8382665331, 60.0816599704, 50.1139652204, 17.718685283499997, 85.0730311421, 41.3215097262, 35.45154709, 74.0210255434, 90.5197211027, 34.5405970412, 94.5616621258, 52.956267850500005, 80.1064364142, 49.822757583000005, 61.7817253103, 60.2861083596, 77.32069018680001, 15.646358754200001, 71.5406183401, 62.4523981129, 79.0598323714, 72.1976934443, 71.4177534183, 31.0088200801, 40.3252822158], \"y\": [191.69107156395268, 73.40033825350777, 59.70888793239521, 200.0437405484835, 134.65414650269216, 117.70140771843208, 109.03253412691906, 163.23006493381885, 161.95302518700913, 157.22687650539098, 36.129537182419845, 181.97592734382775, 108.0297777874378, 144.14051872452038, 39.18138142536497, 115.54860555799071, 162.9116887741677, 164.6487148398627, 75.70294737483515, 90.81753142282942, 55.45890888935292, 148.96605692615083, 37.8597015861262, 16.317133711950156, 54.7783688098047, 166.20483683390046, 80.67714285203225, 154.2192483418895, 86.13993556451587, 188.99729888909388, 85.99382217472919, 9.198972151593157, 16.4471872062197, 30.235941063237945, 127.72565267281489, 122.19270381448966, 159.89872354235314, 167.4677899564102, 111.14518946990756, 125.25700848492147, 134.34643799845261, 123.82463361980213, 96.2075500693869, 162.94384962098172, 182.41456944574315, 36.09004217244384, 153.78195173644303, 144.62758755011308, 22.29088521742743, 73.46364625074038, 73.65889458483848, 182.0356997700805, 17.189677314651757, 72.61458614945111, 158.85712222916425, 45.38103822859313, 159.64059254309356, 99.06470845419341, 110.95146297690204, 175.47494320927962, 79.69595275017653, 21.398324250633287, 24.802212507940904, 93.87198765875125, 171.9125004472227, 101.71260447608309, 24.708473801390507, 46.71190545219073, 136.12217728432694, 28.08858209685523, 95.5091227608977, 12.428714353217913, 82.82885828681952, 54.80421236181264, 79.56890840810789, 187.97093041451592, 121.38223757594348, 101.71984163032113, 37.816518257722514, 170.6805204313627, 84.37573694039541, 72.79657722154732, 148.87919971225918, 181.42472732015847, 70.99962607131376, 189.39790936258066, 107.32660238212988, 160.88335524014232, 101.14540190152145, 124.73580715094906, 121.78553495610203, 155.38815833644878, 33.72862173102421, 143.98631828271317, 126.0587844817588, 158.81881137077647, 145.2824726282093, 143.74395344301342, 64.03279986500611, 82.41056643179748]}],\n",
       "                        {\"template\": {\"data\": {\"bar\": [{\"error_x\": {\"color\": \"#2a3f5f\"}, \"error_y\": {\"color\": \"#2a3f5f\"}, \"marker\": {\"line\": {\"color\": \"#E5ECF6\", \"width\": 0.5}}, \"type\": \"bar\"}], \"barpolar\": [{\"marker\": {\"line\": {\"color\": \"#E5ECF6\", \"width\": 0.5}}, \"type\": \"barpolar\"}], \"carpet\": [{\"aaxis\": {\"endlinecolor\": \"#2a3f5f\", \"gridcolor\": \"white\", \"linecolor\": \"white\", \"minorgridcolor\": \"white\", \"startlinecolor\": \"#2a3f5f\"}, \"baxis\": {\"endlinecolor\": \"#2a3f5f\", \"gridcolor\": \"white\", \"linecolor\": \"white\", \"minorgridcolor\": \"white\", \"startlinecolor\": \"#2a3f5f\"}, \"type\": \"carpet\"}], \"choropleth\": [{\"colorbar\": {\"outlinewidth\": 0, \"ticks\": \"\"}, \"type\": \"choropleth\"}], \"contour\": [{\"colorbar\": {\"outlinewidth\": 0, \"ticks\": \"\"}, \"colorscale\": [[0.0, \"#0d0887\"], [0.1111111111111111, \"#46039f\"], [0.2222222222222222, \"#7201a8\"], [0.3333333333333333, \"#9c179e\"], [0.4444444444444444, \"#bd3786\"], [0.5555555555555556, \"#d8576b\"], [0.6666666666666666, \"#ed7953\"], [0.7777777777777778, \"#fb9f3a\"], [0.8888888888888888, \"#fdca26\"], [1.0, \"#f0f921\"]], \"type\": \"contour\"}], \"contourcarpet\": [{\"colorbar\": {\"outlinewidth\": 0, \"ticks\": \"\"}, \"type\": \"contourcarpet\"}], \"heatmap\": [{\"colorbar\": {\"outlinewidth\": 0, \"ticks\": \"\"}, \"colorscale\": [[0.0, \"#0d0887\"], [0.1111111111111111, \"#46039f\"], [0.2222222222222222, \"#7201a8\"], [0.3333333333333333, \"#9c179e\"], [0.4444444444444444, \"#bd3786\"], [0.5555555555555556, \"#d8576b\"], [0.6666666666666666, \"#ed7953\"], [0.7777777777777778, \"#fb9f3a\"], [0.8888888888888888, \"#fdca26\"], [1.0, \"#f0f921\"]], \"type\": \"heatmap\"}], \"heatmapgl\": [{\"colorbar\": {\"outlinewidth\": 0, \"ticks\": \"\"}, \"colorscale\": [[0.0, \"#0d0887\"], [0.1111111111111111, \"#46039f\"], [0.2222222222222222, \"#7201a8\"], [0.3333333333333333, \"#9c179e\"], [0.4444444444444444, \"#bd3786\"], [0.5555555555555556, \"#d8576b\"], [0.6666666666666666, \"#ed7953\"], [0.7777777777777778, \"#fb9f3a\"], [0.8888888888888888, \"#fdca26\"], [1.0, \"#f0f921\"]], \"type\": \"heatmapgl\"}], \"histogram\": [{\"marker\": {\"colorbar\": {\"outlinewidth\": 0, \"ticks\": \"\"}}, \"type\": \"histogram\"}], \"histogram2d\": [{\"colorbar\": {\"outlinewidth\": 0, \"ticks\": \"\"}, \"colorscale\": [[0.0, \"#0d0887\"], [0.1111111111111111, \"#46039f\"], [0.2222222222222222, \"#7201a8\"], [0.3333333333333333, \"#9c179e\"], [0.4444444444444444, \"#bd3786\"], [0.5555555555555556, \"#d8576b\"], [0.6666666666666666, \"#ed7953\"], [0.7777777777777778, \"#fb9f3a\"], [0.8888888888888888, \"#fdca26\"], [1.0, \"#f0f921\"]], \"type\": \"histogram2d\"}], \"histogram2dcontour\": [{\"colorbar\": {\"outlinewidth\": 0, \"ticks\": \"\"}, \"colorscale\": [[0.0, \"#0d0887\"], [0.1111111111111111, \"#46039f\"], [0.2222222222222222, \"#7201a8\"], [0.3333333333333333, \"#9c179e\"], [0.4444444444444444, \"#bd3786\"], [0.5555555555555556, \"#d8576b\"], [0.6666666666666666, \"#ed7953\"], [0.7777777777777778, \"#fb9f3a\"], [0.8888888888888888, \"#fdca26\"], [1.0, \"#f0f921\"]], \"type\": \"histogram2dcontour\"}], \"mesh3d\": [{\"colorbar\": {\"outlinewidth\": 0, \"ticks\": \"\"}, \"type\": \"mesh3d\"}], \"parcoords\": [{\"line\": {\"colorbar\": {\"outlinewidth\": 0, \"ticks\": \"\"}}, \"type\": \"parcoords\"}], \"scatter\": [{\"marker\": {\"colorbar\": {\"outlinewidth\": 0, \"ticks\": \"\"}}, \"type\": \"scatter\"}], \"scatter3d\": [{\"line\": {\"colorbar\": {\"outlinewidth\": 0, \"ticks\": \"\"}}, \"marker\": {\"colorbar\": {\"outlinewidth\": 0, \"ticks\": \"\"}}, \"type\": \"scatter3d\"}], \"scattercarpet\": [{\"marker\": {\"colorbar\": {\"outlinewidth\": 0, \"ticks\": \"\"}}, \"type\": \"scattercarpet\"}], \"scattergeo\": [{\"marker\": {\"colorbar\": {\"outlinewidth\": 0, \"ticks\": \"\"}}, \"type\": \"scattergeo\"}], \"scattergl\": [{\"marker\": {\"colorbar\": {\"outlinewidth\": 0, \"ticks\": \"\"}}, \"type\": \"scattergl\"}], \"scattermapbox\": [{\"marker\": {\"colorbar\": {\"outlinewidth\": 0, \"ticks\": \"\"}}, \"type\": \"scattermapbox\"}], \"scatterpolar\": [{\"marker\": {\"colorbar\": {\"outlinewidth\": 0, \"ticks\": \"\"}}, \"type\": \"scatterpolar\"}], \"scatterpolargl\": [{\"marker\": {\"colorbar\": {\"outlinewidth\": 0, \"ticks\": \"\"}}, \"type\": \"scatterpolargl\"}], \"scatterternary\": [{\"marker\": {\"colorbar\": {\"outlinewidth\": 0, \"ticks\": \"\"}}, \"type\": \"scatterternary\"}], \"surface\": [{\"colorbar\": {\"outlinewidth\": 0, \"ticks\": \"\"}, \"colorscale\": [[0.0, \"#0d0887\"], [0.1111111111111111, \"#46039f\"], [0.2222222222222222, \"#7201a8\"], [0.3333333333333333, \"#9c179e\"], [0.4444444444444444, \"#bd3786\"], [0.5555555555555556, \"#d8576b\"], [0.6666666666666666, \"#ed7953\"], [0.7777777777777778, \"#fb9f3a\"], [0.8888888888888888, \"#fdca26\"], [1.0, \"#f0f921\"]], \"type\": \"surface\"}], \"table\": [{\"cells\": {\"fill\": {\"color\": \"#EBF0F8\"}, \"line\": {\"color\": \"white\"}}, \"header\": {\"fill\": {\"color\": \"#C8D4E3\"}, \"line\": {\"color\": \"white\"}}, \"type\": \"table\"}]}, \"layout\": {\"annotationdefaults\": {\"arrowcolor\": \"#2a3f5f\", \"arrowhead\": 0, \"arrowwidth\": 1}, \"colorscale\": {\"diverging\": [[0, \"#8e0152\"], [0.1, \"#c51b7d\"], [0.2, \"#de77ae\"], [0.3, \"#f1b6da\"], [0.4, \"#fde0ef\"], [0.5, \"#f7f7f7\"], [0.6, \"#e6f5d0\"], [0.7, \"#b8e186\"], [0.8, \"#7fbc41\"], [0.9, \"#4d9221\"], [1, \"#276419\"]], \"sequential\": [[0.0, \"#0d0887\"], [0.1111111111111111, \"#46039f\"], [0.2222222222222222, \"#7201a8\"], [0.3333333333333333, \"#9c179e\"], [0.4444444444444444, \"#bd3786\"], [0.5555555555555556, \"#d8576b\"], [0.6666666666666666, \"#ed7953\"], [0.7777777777777778, \"#fb9f3a\"], [0.8888888888888888, \"#fdca26\"], [1.0, \"#f0f921\"]], \"sequentialminus\": [[0.0, \"#0d0887\"], [0.1111111111111111, \"#46039f\"], [0.2222222222222222, \"#7201a8\"], [0.3333333333333333, \"#9c179e\"], [0.4444444444444444, \"#bd3786\"], [0.5555555555555556, \"#d8576b\"], [0.6666666666666666, \"#ed7953\"], [0.7777777777777778, \"#fb9f3a\"], [0.8888888888888888, \"#fdca26\"], [1.0, \"#f0f921\"]]}, \"colorway\": [\"#636efa\", \"#EF553B\", \"#00cc96\", \"#ab63fa\", \"#FFA15A\", \"#19d3f3\", \"#FF6692\", \"#B6E880\", \"#FF97FF\", \"#FECB52\"], \"font\": {\"color\": \"#2a3f5f\"}, \"geo\": {\"bgcolor\": \"white\", \"lakecolor\": \"white\", \"landcolor\": \"#E5ECF6\", \"showlakes\": true, \"showland\": true, \"subunitcolor\": \"white\"}, \"hoverlabel\": {\"align\": \"left\"}, \"hovermode\": \"closest\", \"mapbox\": {\"style\": \"light\"}, \"paper_bgcolor\": \"white\", \"plot_bgcolor\": \"#E5ECF6\", \"polar\": {\"angularaxis\": {\"gridcolor\": \"white\", \"linecolor\": \"white\", \"ticks\": \"\"}, \"bgcolor\": \"#E5ECF6\", \"radialaxis\": {\"gridcolor\": \"white\", \"linecolor\": \"white\", \"ticks\": \"\"}}, \"scene\": {\"xaxis\": {\"backgroundcolor\": \"#E5ECF6\", \"gridcolor\": \"white\", \"gridwidth\": 2, \"linecolor\": \"white\", \"showbackground\": true, \"ticks\": \"\", \"zerolinecolor\": \"white\"}, \"yaxis\": {\"backgroundcolor\": \"#E5ECF6\", \"gridcolor\": \"white\", \"gridwidth\": 2, \"linecolor\": \"white\", \"showbackground\": true, \"ticks\": \"\", \"zerolinecolor\": \"white\"}, \"zaxis\": {\"backgroundcolor\": \"#E5ECF6\", \"gridcolor\": \"white\", \"gridwidth\": 2, \"linecolor\": \"white\", \"showbackground\": true, \"ticks\": \"\", \"zerolinecolor\": \"white\"}}, \"shapedefaults\": {\"line\": {\"color\": \"#2a3f5f\"}}, \"ternary\": {\"aaxis\": {\"gridcolor\": \"white\", \"linecolor\": \"white\", \"ticks\": \"\"}, \"baxis\": {\"gridcolor\": \"white\", \"linecolor\": \"white\", \"ticks\": \"\"}, \"bgcolor\": \"#E5ECF6\", \"caxis\": {\"gridcolor\": \"white\", \"linecolor\": \"white\", \"ticks\": \"\"}}, \"title\": {\"x\": 0.05}, \"xaxis\": {\"automargin\": true, \"gridcolor\": \"white\", \"linecolor\": \"white\", \"ticks\": \"\", \"zerolinecolor\": \"white\", \"zerolinewidth\": 2}, \"yaxis\": {\"automargin\": true, \"gridcolor\": \"white\", \"linecolor\": \"white\", \"ticks\": \"\", \"zerolinecolor\": \"white\", \"zerolinewidth\": 2}}}},\n",
       "                        {\"responsive\": true}\n",
       "                    ).then(function(){\n",
       "                            \n",
       "var gd = document.getElementById('2040d08a-ccd7-43c5-85b6-38632252cced');\n",
       "var x = new MutationObserver(function (mutations, observer) {{\n",
       "        var display = window.getComputedStyle(gd).display;\n",
       "        if (!display || display === 'none') {{\n",
       "            console.log([gd, 'removed!']);\n",
       "            Plotly.purge(gd);\n",
       "            observer.disconnect();\n",
       "        }}\n",
       "}});\n",
       "\n",
       "// Listen for the removal of the full notebook cells\n",
       "var notebookContainer = gd.closest('#notebook-container');\n",
       "if (notebookContainer) {{\n",
       "    x.observe(notebookContainer, {childList: true});\n",
       "}}\n",
       "\n",
       "// Listen for the clearing of the current output cell\n",
       "var outputEl = gd.closest('.output');\n",
       "if (outputEl) {{\n",
       "    x.observe(outputEl, {childList: true});\n",
       "}}\n",
       "\n",
       "                        })\n",
       "                };\n",
       "                });\n",
       "            </script>\n",
       "        </div>"
      ]
     },
     "metadata": {},
     "output_type": "display_data"
    }
   ],
   "source": [
    "X = df_data_1d.X.values\n",
    "Y = df_data_1d.Y.values\n",
    "denominator = np.sum(X**2) - np.average(X)*np.sum(X)\n",
    "a = (np.sum(np.dot(Y,X)) - np.average(Y) * np.sum(X))/denominator\n",
    "b = (np.sum(X**2) * np.average(Y) - np.average(X) * (np.sum(np.dot(Y,X)))) /denominator\n",
    "print(a,b)\n",
    "\n",
    "Y_hat = a*X + b\n",
    "\n",
    "fig = go.Figure()\n",
    "fig.add_trace(go.Scatter(x=df_data_1d.X,y=df_data_1d.Y,mode='markers'))\n",
    "fig.add_trace(go.Scatter(x= X, y= Y_hat,mode = 'lines'))\n",
    "fig.show()\n"
   ]
  }
 ],
 "metadata": {
  "kernel_info": {
   "name": "python3"
  },
  "kernelspec": {
   "display_name": "Python 3",
   "language": "python",
   "name": "python3"
  },
  "language_info": {
   "codemirror_mode": {
    "name": "ipython",
    "version": 3
   },
   "file_extension": ".py",
   "mimetype": "text/x-python",
   "name": "python",
   "nbconvert_exporter": "python",
   "pygments_lexer": "ipython3",
   "version": "3.6.8"
  },
  "nteract": {
   "version": "0.12.3"
  }
 },
 "nbformat": 4,
 "nbformat_minor": 4
}
