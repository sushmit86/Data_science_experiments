{
 "cells": [
  {
   "cell_type": "code",
   "execution_count": 1,
   "metadata": {},
   "outputs": [
    {
     "data": {
      "text/html": [
       "        <script type=\"text/javascript\">\n",
       "        window.PlotlyConfig = {MathJaxConfig: 'local'};\n",
       "        if (window.MathJax) {MathJax.Hub.Config({SVG: {font: \"STIX-Web\"}});}\n",
       "        if (typeof require !== 'undefined') {\n",
       "        require.undef(\"plotly\");\n",
       "        requirejs.config({\n",
       "            paths: {\n",
       "                'plotly': ['https://cdn.plot.ly/plotly-latest.min']\n",
       "            }\n",
       "        });\n",
       "        require(['plotly'], function(Plotly) {\n",
       "            window._Plotly = Plotly;\n",
       "        });\n",
       "        }\n",
       "        </script>\n",
       "        "
      ]
     },
     "metadata": {},
     "output_type": "display_data"
    }
   ],
   "source": [
    "import pandas as pd\n",
    "import numpy as np\n",
    "from plotly.offline import init_notebook_mode\n",
    "import plotly.graph_objs as go\n",
    "init_notebook_mode(connected=True)"
   ]
  },
  {
   "cell_type": "code",
   "execution_count": 2,
   "metadata": {},
   "outputs": [],
   "source": [
    "df_data = pd.read_csv('data_2d.csv',header=None)\n",
    "df_data.insert(3,3,1)\n",
    "df_data.head()\n",
    "X = df_data.loc[:,[0,1,3]].values\n",
    "Y = df_data.loc[:,[2]].values"
   ]
  },
  {
   "cell_type": "code",
   "execution_count": 3,
   "metadata": {},
   "outputs": [
    {
     "data": {
      "application/vnd.plotly.v1+json": {
       "config": {
        "plotlyServerURL": "https://plot.ly"
       },
       "data": [
        {
         "mode": "markers",
         "type": "scatter3d",
         "x": [
          17.9302012052,
          97.1446971852,
          81.7759007845,
          55.8543424175,
          49.3665499855,
          3.19270246506,
          49.2007840582,
          21.882803904,
          79.50986272189999,
          88.1538874975,
          60.7438543399,
          67.4155819451,
          48.3181157719,
          28.8299719729,
          43.853742663999995,
          25.313694086799998,
          10.807726675,
          98.36574588200001,
          29.1469099692,
          65.1003018959,
          24.6441134909,
          37.5598048804,
          88.1645062351,
          13.834620835399999,
          64.4108437467,
          68.925991798,
          39.4884422375,
          52.46317768310001,
          48.484786979700004,
          8.062087813769999,
          32.7318877149,
          11.652378796199999,
          13.7303535349,
          8.18555176536,
          53.60987614810001,
          95.3686098922,
          87.33360920620001,
          66.3576110919,
          19.7547175302,
          21.1334404504,
          22.37386481,
          93.9904040537,
          86.72019809950001,
          98.99837299040001,
          3.59396564372,
          15.1023633732,
          97.83414076950001,
          19.9382196923,
          30.3735111369,
          73.29288314850001,
          52.2309008804,
          86.42957611370001,
          93.4008021441,
          13.213460059,
          4.59346270394,
          15.6692915825,
          52.9593597724,
          56.8175212312,
          51.133543081300004,
          7.8621647152600005,
          54.6986037014,
          86.3990630133,
          11.947506018599999,
          70.35840106479999,
          29.022366325500002,
          42.7594799067,
          96.2156564389,
          53.227727655200006,
          30.3609896715,
          83.2775653897,
          30.187692478600002,
          11.788418461700001,
          18.2924240117,
          96.71266769270001,
          31.012738694699998,
          11.3972607536,
          17.3925557906,
          72.1826937267,
          73.980020785,
          94.4930583509,
          84.5628207335,
          51.7424739723,
          53.7485903953,
          85.0508347563,
          46.7772504514,
          49.758434173699996,
          24.1192565017,
          27.2015764537,
          7.009596167689999,
          97.64694966879999,
          1.38298250945,
          22.323530353400002,
          45.0454062325,
          40.1639914677,
          53.182739793,
          46.4567791559,
          77.1303006946,
          68.600607572,
          41.6938871165,
          4.1426693978
         ],
         "y": [
          94.5205919533,
          69.5932819844,
          5.737648096880001,
          70.3259016768,
          75.1140401571,
          29.2562988631,
          86.1444385075,
          46.8415051959,
          87.397355535,
          65.2056419279,
          99.9576339008,
          50.368309609399994,
          99.1289531425,
          87.1849488537,
          64.4736390798,
          83.5452942552,
          45.6955685904,
          82.6973935253,
          66.3651067611,
          33.3538834975,
          39.5400527406,
          1.34572784158,
          95.1536625708,
          25.494048204000002,
          77.25983812770001,
          97.4536007955,
          50.8561281903,
          59.7765096878,
          66.97035422270001,
          98.2426001448,
          18.8535355289,
          66.2645117418,
          70.4725091314,
          41.8519894198,
          94.56012163700001,
          47.295506959899996,
          93.8039343271,
          81.8475512843,
          65.5233009197,
          47.4371819938,
          25.955627536399998,
          0.127890520058,
          18.413766785,
          60.2312656882,
          96.2522173231,
          92.5569035696,
          2.02390810433,
          46.778273463199994,
          58.777525161599996,
          67.6696277593,
          81.9024482531,
          66.5402275975,
          18.075245935199998,
          91.4888587787,
          46.3359315158,
          35.5437439971,
          68.7202096086,
          47.572731920200006,
          78.0421674552,
          17.7290817759,
          92.7445841407,
          41.8886945857,
          42.9613867358,
          83.7062345104,
          84.327783082,
          97.4933260814,
          25.8342825832,
          27.9055085669,
          0.9396442153129999,
          73.1793485695,
          7.146538598899999,
          51.697760844499996,
          61.9779760484,
          9.0291015125,
          78.2833824603,
          61.728693243,
          4.24114086314,
          34.539072167600004,
          3.7164934382599997,
          88.41719702,
          20.2411621935,
          11.009747964,
          60.0251022958,
          95.73699695379999,
          90.2022062395,
          52.834494361000004,
          42.1028107802,
          29.9787492892,
          55.876058392,
          8.147625126960001,
          84.9440869198,
          27.5150750402,
          93.5204022248,
          0.161699234822,
          8.17031616228,
          82.000170914,
          95.1887594549,
          72.5711807231,
          69.241125973,
          52.2547263792
         ],
         "z": [
          320.259529602,
          404.63447152599997,
          181.48510774099998,
          321.773638018,
          322.465485583,
          94.6188108954,
          356.34809274699995,
          181.65376922599998,
          423.557743194,
          369.229245443,
          427.605803661,
          292.471821553,
          395.52981140699995,
          319.031348455,
          287.4281441,
          292.768908839,
          159.663307674,
          438.798963866,
          250.98630903400002,
          231.711507921,
          163.398160832,
          83.4801551365,
          466.265805791,
          100.886430268,
          365.641048062,
          426.140015493,
          235.532389457,
          283.291640318,
          298.581440375,
          309.234108782,
          129.610139015,
          224.15054209099998,
          235.30566563099998,
          153.484189455,
          394.93944425300003,
          336.126738879,
          449.363351987,
          387.014816485,
          240.389441595,
          177.14828058,
          119.61125795,
          196.716166657,
          236.260808358,
          384.381344695,
          293.237183045,
          304.890882807,
          201.293598424,
          170.610093035,
          242.373484227,
          353.082991304,
          348.72568855699996,
          365.959970954,
          235.472381633,
          300.606878255,
          145.818745251,
          138.880334695,
          317.163707741,
          254.903631301,
          334.5843335,
          69.3555888141,
          386.85993723900003,
          294.871713576,
          156.754219545,
          391.806135291,
          319.310462851,
          376.29158947800005,
          280.617043873,
          194.430465068,
          69.6488631767,
          384.59718499300004,
          89.5390083986,
          181.550682802,
          224.77338288400003,
          219.56709370099998,
          298.490216481,
          199.944044715,
          43.915692353100006,
          256.068378234,
          159.372580639,
          447.13270362099996,
          233.07882957900003,
          131.070179635,
          298.81433270400004,
          451.80352299,
          368.36643595199996,
          254.706774007,
          168.308432759,
          146.34226,
          176.810148976,
          219.16028041,
          252.905652954,
          127.570478844,
          375.822340339,
          80.38901932520001,
          142.71818307700002,
          336.876154384,
          438.46058612699994,
          355.900286918,
          284.834636711,
          168.034400947
         ]
        }
       ],
       "layout": {
        "autosize": true,
        "scene": {
         "aspectmode": "auto",
         "aspectratio": {
          "x": 1,
          "y": 1,
          "z": 1
         }
        },
        "template": {
         "data": {
          "bar": [
           {
            "error_x": {
             "color": "#2a3f5f"
            },
            "error_y": {
             "color": "#2a3f5f"
            },
            "marker": {
             "line": {
              "color": "#E5ECF6",
              "width": 0.5
             }
            },
            "type": "bar"
           }
          ],
          "barpolar": [
           {
            "marker": {
             "line": {
              "color": "#E5ECF6",
              "width": 0.5
             }
            },
            "type": "barpolar"
           }
          ],
          "carpet": [
           {
            "aaxis": {
             "endlinecolor": "#2a3f5f",
             "gridcolor": "white",
             "linecolor": "white",
             "minorgridcolor": "white",
             "startlinecolor": "#2a3f5f"
            },
            "baxis": {
             "endlinecolor": "#2a3f5f",
             "gridcolor": "white",
             "linecolor": "white",
             "minorgridcolor": "white",
             "startlinecolor": "#2a3f5f"
            },
            "type": "carpet"
           }
          ],
          "choropleth": [
           {
            "colorbar": {
             "outlinewidth": 0,
             "ticks": ""
            },
            "type": "choropleth"
           }
          ],
          "contour": [
           {
            "colorbar": {
             "outlinewidth": 0,
             "ticks": ""
            },
            "colorscale": [
             [
              0,
              "#0d0887"
             ],
             [
              0.1111111111111111,
              "#46039f"
             ],
             [
              0.2222222222222222,
              "#7201a8"
             ],
             [
              0.3333333333333333,
              "#9c179e"
             ],
             [
              0.4444444444444444,
              "#bd3786"
             ],
             [
              0.5555555555555556,
              "#d8576b"
             ],
             [
              0.6666666666666666,
              "#ed7953"
             ],
             [
              0.7777777777777778,
              "#fb9f3a"
             ],
             [
              0.8888888888888888,
              "#fdca26"
             ],
             [
              1,
              "#f0f921"
             ]
            ],
            "type": "contour"
           }
          ],
          "contourcarpet": [
           {
            "colorbar": {
             "outlinewidth": 0,
             "ticks": ""
            },
            "type": "contourcarpet"
           }
          ],
          "heatmap": [
           {
            "colorbar": {
             "outlinewidth": 0,
             "ticks": ""
            },
            "colorscale": [
             [
              0,
              "#0d0887"
             ],
             [
              0.1111111111111111,
              "#46039f"
             ],
             [
              0.2222222222222222,
              "#7201a8"
             ],
             [
              0.3333333333333333,
              "#9c179e"
             ],
             [
              0.4444444444444444,
              "#bd3786"
             ],
             [
              0.5555555555555556,
              "#d8576b"
             ],
             [
              0.6666666666666666,
              "#ed7953"
             ],
             [
              0.7777777777777778,
              "#fb9f3a"
             ],
             [
              0.8888888888888888,
              "#fdca26"
             ],
             [
              1,
              "#f0f921"
             ]
            ],
            "type": "heatmap"
           }
          ],
          "heatmapgl": [
           {
            "colorbar": {
             "outlinewidth": 0,
             "ticks": ""
            },
            "colorscale": [
             [
              0,
              "#0d0887"
             ],
             [
              0.1111111111111111,
              "#46039f"
             ],
             [
              0.2222222222222222,
              "#7201a8"
             ],
             [
              0.3333333333333333,
              "#9c179e"
             ],
             [
              0.4444444444444444,
              "#bd3786"
             ],
             [
              0.5555555555555556,
              "#d8576b"
             ],
             [
              0.6666666666666666,
              "#ed7953"
             ],
             [
              0.7777777777777778,
              "#fb9f3a"
             ],
             [
              0.8888888888888888,
              "#fdca26"
             ],
             [
              1,
              "#f0f921"
             ]
            ],
            "type": "heatmapgl"
           }
          ],
          "histogram": [
           {
            "marker": {
             "colorbar": {
              "outlinewidth": 0,
              "ticks": ""
             }
            },
            "type": "histogram"
           }
          ],
          "histogram2d": [
           {
            "colorbar": {
             "outlinewidth": 0,
             "ticks": ""
            },
            "colorscale": [
             [
              0,
              "#0d0887"
             ],
             [
              0.1111111111111111,
              "#46039f"
             ],
             [
              0.2222222222222222,
              "#7201a8"
             ],
             [
              0.3333333333333333,
              "#9c179e"
             ],
             [
              0.4444444444444444,
              "#bd3786"
             ],
             [
              0.5555555555555556,
              "#d8576b"
             ],
             [
              0.6666666666666666,
              "#ed7953"
             ],
             [
              0.7777777777777778,
              "#fb9f3a"
             ],
             [
              0.8888888888888888,
              "#fdca26"
             ],
             [
              1,
              "#f0f921"
             ]
            ],
            "type": "histogram2d"
           }
          ],
          "histogram2dcontour": [
           {
            "colorbar": {
             "outlinewidth": 0,
             "ticks": ""
            },
            "colorscale": [
             [
              0,
              "#0d0887"
             ],
             [
              0.1111111111111111,
              "#46039f"
             ],
             [
              0.2222222222222222,
              "#7201a8"
             ],
             [
              0.3333333333333333,
              "#9c179e"
             ],
             [
              0.4444444444444444,
              "#bd3786"
             ],
             [
              0.5555555555555556,
              "#d8576b"
             ],
             [
              0.6666666666666666,
              "#ed7953"
             ],
             [
              0.7777777777777778,
              "#fb9f3a"
             ],
             [
              0.8888888888888888,
              "#fdca26"
             ],
             [
              1,
              "#f0f921"
             ]
            ],
            "type": "histogram2dcontour"
           }
          ],
          "mesh3d": [
           {
            "colorbar": {
             "outlinewidth": 0,
             "ticks": ""
            },
            "type": "mesh3d"
           }
          ],
          "parcoords": [
           {
            "line": {
             "colorbar": {
              "outlinewidth": 0,
              "ticks": ""
             }
            },
            "type": "parcoords"
           }
          ],
          "scatter": [
           {
            "marker": {
             "colorbar": {
              "outlinewidth": 0,
              "ticks": ""
             }
            },
            "type": "scatter"
           }
          ],
          "scatter3d": [
           {
            "line": {
             "colorbar": {
              "outlinewidth": 0,
              "ticks": ""
             }
            },
            "marker": {
             "colorbar": {
              "outlinewidth": 0,
              "ticks": ""
             }
            },
            "type": "scatter3d"
           }
          ],
          "scattercarpet": [
           {
            "marker": {
             "colorbar": {
              "outlinewidth": 0,
              "ticks": ""
             }
            },
            "type": "scattercarpet"
           }
          ],
          "scattergeo": [
           {
            "marker": {
             "colorbar": {
              "outlinewidth": 0,
              "ticks": ""
             }
            },
            "type": "scattergeo"
           }
          ],
          "scattergl": [
           {
            "marker": {
             "colorbar": {
              "outlinewidth": 0,
              "ticks": ""
             }
            },
            "type": "scattergl"
           }
          ],
          "scattermapbox": [
           {
            "marker": {
             "colorbar": {
              "outlinewidth": 0,
              "ticks": ""
             }
            },
            "type": "scattermapbox"
           }
          ],
          "scatterpolar": [
           {
            "marker": {
             "colorbar": {
              "outlinewidth": 0,
              "ticks": ""
             }
            },
            "type": "scatterpolar"
           }
          ],
          "scatterpolargl": [
           {
            "marker": {
             "colorbar": {
              "outlinewidth": 0,
              "ticks": ""
             }
            },
            "type": "scatterpolargl"
           }
          ],
          "scatterternary": [
           {
            "marker": {
             "colorbar": {
              "outlinewidth": 0,
              "ticks": ""
             }
            },
            "type": "scatterternary"
           }
          ],
          "surface": [
           {
            "colorbar": {
             "outlinewidth": 0,
             "ticks": ""
            },
            "colorscale": [
             [
              0,
              "#0d0887"
             ],
             [
              0.1111111111111111,
              "#46039f"
             ],
             [
              0.2222222222222222,
              "#7201a8"
             ],
             [
              0.3333333333333333,
              "#9c179e"
             ],
             [
              0.4444444444444444,
              "#bd3786"
             ],
             [
              0.5555555555555556,
              "#d8576b"
             ],
             [
              0.6666666666666666,
              "#ed7953"
             ],
             [
              0.7777777777777778,
              "#fb9f3a"
             ],
             [
              0.8888888888888888,
              "#fdca26"
             ],
             [
              1,
              "#f0f921"
             ]
            ],
            "type": "surface"
           }
          ],
          "table": [
           {
            "cells": {
             "fill": {
              "color": "#EBF0F8"
             },
             "line": {
              "color": "white"
             }
            },
            "header": {
             "fill": {
              "color": "#C8D4E3"
             },
             "line": {
              "color": "white"
             }
            },
            "type": "table"
           }
          ]
         },
         "layout": {
          "annotationdefaults": {
           "arrowcolor": "#2a3f5f",
           "arrowhead": 0,
           "arrowwidth": 1
          },
          "colorscale": {
           "diverging": [
            [
             0,
             "#8e0152"
            ],
            [
             0.1,
             "#c51b7d"
            ],
            [
             0.2,
             "#de77ae"
            ],
            [
             0.3,
             "#f1b6da"
            ],
            [
             0.4,
             "#fde0ef"
            ],
            [
             0.5,
             "#f7f7f7"
            ],
            [
             0.6,
             "#e6f5d0"
            ],
            [
             0.7,
             "#b8e186"
            ],
            [
             0.8,
             "#7fbc41"
            ],
            [
             0.9,
             "#4d9221"
            ],
            [
             1,
             "#276419"
            ]
           ],
           "sequential": [
            [
             0,
             "#0d0887"
            ],
            [
             0.1111111111111111,
             "#46039f"
            ],
            [
             0.2222222222222222,
             "#7201a8"
            ],
            [
             0.3333333333333333,
             "#9c179e"
            ],
            [
             0.4444444444444444,
             "#bd3786"
            ],
            [
             0.5555555555555556,
             "#d8576b"
            ],
            [
             0.6666666666666666,
             "#ed7953"
            ],
            [
             0.7777777777777778,
             "#fb9f3a"
            ],
            [
             0.8888888888888888,
             "#fdca26"
            ],
            [
             1,
             "#f0f921"
            ]
           ],
           "sequentialminus": [
            [
             0,
             "#0d0887"
            ],
            [
             0.1111111111111111,
             "#46039f"
            ],
            [
             0.2222222222222222,
             "#7201a8"
            ],
            [
             0.3333333333333333,
             "#9c179e"
            ],
            [
             0.4444444444444444,
             "#bd3786"
            ],
            [
             0.5555555555555556,
             "#d8576b"
            ],
            [
             0.6666666666666666,
             "#ed7953"
            ],
            [
             0.7777777777777778,
             "#fb9f3a"
            ],
            [
             0.8888888888888888,
             "#fdca26"
            ],
            [
             1,
             "#f0f921"
            ]
           ]
          },
          "colorway": [
           "#636efa",
           "#EF553B",
           "#00cc96",
           "#ab63fa",
           "#FFA15A",
           "#19d3f3",
           "#FF6692",
           "#B6E880",
           "#FF97FF",
           "#FECB52"
          ],
          "font": {
           "color": "#2a3f5f"
          },
          "geo": {
           "bgcolor": "white",
           "lakecolor": "white",
           "landcolor": "#E5ECF6",
           "showlakes": true,
           "showland": true,
           "subunitcolor": "white"
          },
          "hoverlabel": {
           "align": "left"
          },
          "hovermode": "closest",
          "mapbox": {
           "style": "light"
          },
          "paper_bgcolor": "white",
          "plot_bgcolor": "#E5ECF6",
          "polar": {
           "angularaxis": {
            "gridcolor": "white",
            "linecolor": "white",
            "ticks": ""
           },
           "bgcolor": "#E5ECF6",
           "radialaxis": {
            "gridcolor": "white",
            "linecolor": "white",
            "ticks": ""
           }
          },
          "scene": {
           "xaxis": {
            "backgroundcolor": "#E5ECF6",
            "gridcolor": "white",
            "gridwidth": 2,
            "linecolor": "white",
            "showbackground": true,
            "ticks": "",
            "zerolinecolor": "white"
           },
           "yaxis": {
            "backgroundcolor": "#E5ECF6",
            "gridcolor": "white",
            "gridwidth": 2,
            "linecolor": "white",
            "showbackground": true,
            "ticks": "",
            "zerolinecolor": "white"
           },
           "zaxis": {
            "backgroundcolor": "#E5ECF6",
            "gridcolor": "white",
            "gridwidth": 2,
            "linecolor": "white",
            "showbackground": true,
            "ticks": "",
            "zerolinecolor": "white"
           }
          },
          "shapedefaults": {
           "line": {
            "color": "#2a3f5f"
           }
          },
          "ternary": {
           "aaxis": {
            "gridcolor": "white",
            "linecolor": "white",
            "ticks": ""
           },
           "baxis": {
            "gridcolor": "white",
            "linecolor": "white",
            "ticks": ""
           },
           "bgcolor": "#E5ECF6",
           "caxis": {
            "gridcolor": "white",
            "linecolor": "white",
            "ticks": ""
           }
          },
          "title": {
           "x": 0.05
          },
          "xaxis": {
           "automargin": true,
           "gridcolor": "white",
           "linecolor": "white",
           "ticks": "",
           "zerolinecolor": "white",
           "zerolinewidth": 2
          },
          "yaxis": {
           "automargin": true,
           "gridcolor": "white",
           "linecolor": "white",
           "ticks": "",
           "zerolinecolor": "white",
           "zerolinewidth": 2
          }
         }
        }
       }
      },
      "image/png": "[encoded data removed]",
      "text/html": [
       "<div>\n",
       "        \n",
       "        \n",
       "            <div id=\"005e8c7c-e1af-408c-a69e-31a406d60c20\" class=\"plotly-graph-div\" style=\"height:525px; width:100%;\"></div>\n",
       "            <script type=\"text/javascript\">\n",
       "                require([\"plotly\"], function(Plotly) {\n",
       "                    window.PLOTLYENV=window.PLOTLYENV || {};\n",
       "                    \n",
       "                if (document.getElementById(\"005e8c7c-e1af-408c-a69e-31a406d60c20\")) {\n",
       "                    Plotly.newPlot(\n",
       "                        '005e8c7c-e1af-408c-a69e-31a406d60c20',\n",
       "                        [{\"mode\": \"markers\", \"type\": \"scatter3d\", \"x\": [17.9302012052, 97.1446971852, 81.7759007845, 55.8543424175, 49.3665499855, 3.19270246506, 49.2007840582, 21.882803904, 79.50986272189999, 88.1538874975, 60.7438543399, 67.4155819451, 48.3181157719, 28.8299719729, 43.853742663999995, 25.313694086799998, 10.807726675, 98.36574588200001, 29.1469099692, 65.1003018959, 24.6441134909, 37.5598048804, 88.1645062351, 13.834620835399999, 64.4108437467, 68.925991798, 39.4884422375, 52.46317768310001, 48.484786979700004, 8.062087813769999, 32.7318877149, 11.652378796199999, 13.7303535349, 8.18555176536, 53.60987614810001, 95.3686098922, 87.33360920620001, 66.3576110919, 19.7547175302, 21.1334404504, 22.37386481, 93.9904040537, 86.72019809950001, 98.99837299040001, 3.59396564372, 15.1023633732, 97.83414076950001, 19.9382196923, 30.3735111369, 73.29288314850001, 52.2309008804, 86.42957611370001, 93.4008021441, 13.213460059, 4.59346270394, 15.6692915825, 52.9593597724, 56.8175212312, 51.133543081300004, 7.8621647152600005, 54.6986037014, 86.3990630133, 11.947506018599999, 70.35840106479999, 29.022366325500002, 42.7594799067, 96.2156564389, 53.227727655200006, 30.3609896715, 83.2775653897, 30.187692478600002, 11.788418461700001, 18.2924240117, 96.71266769270001, 31.012738694699998, 11.3972607536, 17.3925557906, 72.1826937267, 73.980020785, 94.4930583509, 84.5628207335, 51.7424739723, 53.7485903953, 85.0508347563, 46.7772504514, 49.758434173699996, 24.1192565017, 27.2015764537, 7.009596167689999, 97.64694966879999, 1.38298250945, 22.323530353400002, 45.0454062325, 40.1639914677, 53.182739793, 46.4567791559, 77.1303006946, 68.600607572, 41.6938871165, 4.1426693978], \"y\": [94.5205919533, 69.5932819844, 5.737648096880001, 70.3259016768, 75.1140401571, 29.2562988631, 86.1444385075, 46.8415051959, 87.397355535, 65.2056419279, 99.9576339008, 50.368309609399994, 99.1289531425, 87.1849488537, 64.4736390798, 83.5452942552, 45.6955685904, 82.6973935253, 66.3651067611, 33.3538834975, 39.5400527406, 1.34572784158, 95.1536625708, 25.494048204000002, 77.25983812770001, 97.4536007955, 50.8561281903, 59.7765096878, 66.97035422270001, 98.2426001448, 18.8535355289, 66.2645117418, 70.4725091314, 41.8519894198, 94.56012163700001, 47.295506959899996, 93.8039343271, 81.8475512843, 65.5233009197, 47.4371819938, 25.955627536399998, 0.127890520058, 18.413766785, 60.2312656882, 96.2522173231, 92.5569035696, 2.02390810433, 46.778273463199994, 58.777525161599996, 67.6696277593, 81.9024482531, 66.5402275975, 18.075245935199998, 91.4888587787, 46.3359315158, 35.5437439971, 68.7202096086, 47.572731920200006, 78.0421674552, 17.7290817759, 92.7445841407, 41.8886945857, 42.9613867358, 83.7062345104, 84.327783082, 97.4933260814, 25.8342825832, 27.9055085669, 0.9396442153129999, 73.1793485695, 7.146538598899999, 51.697760844499996, 61.9779760484, 9.0291015125, 78.2833824603, 61.728693243, 4.24114086314, 34.539072167600004, 3.7164934382599997, 88.41719702, 20.2411621935, 11.009747964, 60.0251022958, 95.73699695379999, 90.2022062395, 52.834494361000004, 42.1028107802, 29.9787492892, 55.876058392, 8.147625126960001, 84.9440869198, 27.5150750402, 93.5204022248, 0.161699234822, 8.17031616228, 82.000170914, 95.1887594549, 72.5711807231, 69.241125973, 52.2547263792], \"z\": [320.259529602, 404.63447152599997, 181.48510774099998, 321.773638018, 322.465485583, 94.6188108954, 356.34809274699995, 181.65376922599998, 423.557743194, 369.229245443, 427.605803661, 292.471821553, 395.52981140699995, 319.031348455, 287.4281441, 292.768908839, 159.663307674, 438.798963866, 250.98630903400002, 231.711507921, 163.398160832, 83.4801551365, 466.265805791, 100.886430268, 365.641048062, 426.140015493, 235.532389457, 283.291640318, 298.581440375, 309.234108782, 129.610139015, 224.15054209099998, 235.30566563099998, 153.484189455, 394.93944425300003, 336.126738879, 449.363351987, 387.014816485, 240.389441595, 177.14828058, 119.61125795, 196.716166657, 236.260808358, 384.381344695, 293.237183045, 304.890882807, 201.293598424, 170.610093035, 242.373484227, 353.082991304, 348.72568855699996, 365.959970954, 235.472381633, 300.606878255, 145.818745251, 138.880334695, 317.163707741, 254.903631301, 334.5843335, 69.3555888141, 386.85993723900003, 294.871713576, 156.754219545, 391.806135291, 319.310462851, 376.29158947800005, 280.617043873, 194.430465068, 69.6488631767, 384.59718499300004, 89.5390083986, 181.550682802, 224.77338288400003, 219.56709370099998, 298.490216481, 199.944044715, 43.915692353100006, 256.068378234, 159.372580639, 447.13270362099996, 233.07882957900003, 131.070179635, 298.81433270400004, 451.80352299, 368.36643595199996, 254.706774007, 168.308432759, 146.34226, 176.810148976, 219.16028041, 252.905652954, 127.570478844, 375.822340339, 80.38901932520001, 142.71818307700002, 336.876154384, 438.46058612699994, 355.900286918, 284.834636711, 168.034400947]}],\n",
       "                        {\"template\": {\"data\": {\"bar\": [{\"error_x\": {\"color\": \"#2a3f5f\"}, \"error_y\": {\"color\": \"#2a3f5f\"}, \"marker\": {\"line\": {\"color\": \"#E5ECF6\", \"width\": 0.5}}, \"type\": \"bar\"}], \"barpolar\": [{\"marker\": {\"line\": {\"color\": \"#E5ECF6\", \"width\": 0.5}}, \"type\": \"barpolar\"}], \"carpet\": [{\"aaxis\": {\"endlinecolor\": \"#2a3f5f\", \"gridcolor\": \"white\", \"linecolor\": \"white\", \"minorgridcolor\": \"white\", \"startlinecolor\": \"#2a3f5f\"}, \"baxis\": {\"endlinecolor\": \"#2a3f5f\", \"gridcolor\": \"white\", \"linecolor\": \"white\", \"minorgridcolor\": \"white\", \"startlinecolor\": \"#2a3f5f\"}, \"type\": \"carpet\"}], \"choropleth\": [{\"colorbar\": {\"outlinewidth\": 0, \"ticks\": \"\"}, \"type\": \"choropleth\"}], \"contour\": [{\"colorbar\": {\"outlinewidth\": 0, \"ticks\": \"\"}, \"colorscale\": [[0.0, \"#0d0887\"], [0.1111111111111111, \"#46039f\"], [0.2222222222222222, \"#7201a8\"], [0.3333333333333333, \"#9c179e\"], [0.4444444444444444, \"#bd3786\"], [0.5555555555555556, \"#d8576b\"], [0.6666666666666666, \"#ed7953\"], [0.7777777777777778, \"#fb9f3a\"], [0.8888888888888888, \"#fdca26\"], [1.0, \"#f0f921\"]], \"type\": \"contour\"}], \"contourcarpet\": [{\"colorbar\": {\"outlinewidth\": 0, \"ticks\": \"\"}, \"type\": \"contourcarpet\"}], \"heatmap\": [{\"colorbar\": {\"outlinewidth\": 0, \"ticks\": \"\"}, \"colorscale\": [[0.0, \"#0d0887\"], [0.1111111111111111, \"#46039f\"], [0.2222222222222222, \"#7201a8\"], [0.3333333333333333, \"#9c179e\"], [0.4444444444444444, \"#bd3786\"], [0.5555555555555556, \"#d8576b\"], [0.6666666666666666, \"#ed7953\"], [0.7777777777777778, \"#fb9f3a\"], [0.8888888888888888, \"#fdca26\"], [1.0, \"#f0f921\"]], \"type\": \"heatmap\"}], \"heatmapgl\": [{\"colorbar\": {\"outlinewidth\": 0, \"ticks\": \"\"}, \"colorscale\": [[0.0, \"#0d0887\"], [0.1111111111111111, \"#46039f\"], [0.2222222222222222, \"#7201a8\"], [0.3333333333333333, \"#9c179e\"], [0.4444444444444444, \"#bd3786\"], [0.5555555555555556, \"#d8576b\"], [0.6666666666666666, \"#ed7953\"], [0.7777777777777778, \"#fb9f3a\"], [0.8888888888888888, \"#fdca26\"], [1.0, \"#f0f921\"]], \"type\": \"heatmapgl\"}], \"histogram\": [{\"marker\": {\"colorbar\": {\"outlinewidth\": 0, \"ticks\": \"\"}}, \"type\": \"histogram\"}], \"histogram2d\": [{\"colorbar\": {\"outlinewidth\": 0, \"ticks\": \"\"}, \"colorscale\": [[0.0, \"#0d0887\"], [0.1111111111111111, \"#46039f\"], [0.2222222222222222, \"#7201a8\"], [0.3333333333333333, \"#9c179e\"], [0.4444444444444444, \"#bd3786\"], [0.5555555555555556, \"#d8576b\"], [0.6666666666666666, \"#ed7953\"], [0.7777777777777778, \"#fb9f3a\"], [0.8888888888888888, \"#fdca26\"], [1.0, \"#f0f921\"]], \"type\": \"histogram2d\"}], \"histogram2dcontour\": [{\"colorbar\": {\"outlinewidth\": 0, \"ticks\": \"\"}, \"colorscale\": [[0.0, \"#0d0887\"], [0.1111111111111111, \"#46039f\"], [0.2222222222222222, \"#7201a8\"], [0.3333333333333333, \"#9c179e\"], [0.4444444444444444, \"#bd3786\"], [0.5555555555555556, \"#d8576b\"], [0.6666666666666666, \"#ed7953\"], [0.7777777777777778, \"#fb9f3a\"], [0.8888888888888888, \"#fdca26\"], [1.0, \"#f0f921\"]], \"type\": \"histogram2dcontour\"}], \"mesh3d\": [{\"colorbar\": {\"outlinewidth\": 0, \"ticks\": \"\"}, \"type\": \"mesh3d\"}], \"parcoords\": [{\"line\": {\"colorbar\": {\"outlinewidth\": 0, \"ticks\": \"\"}}, \"type\": \"parcoords\"}], \"scatter\": [{\"marker\": {\"colorbar\": {\"outlinewidth\": 0, \"ticks\": \"\"}}, \"type\": \"scatter\"}], \"scatter3d\": [{\"line\": {\"colorbar\": {\"outlinewidth\": 0, \"ticks\": \"\"}}, \"marker\": {\"colorbar\": {\"outlinewidth\": 0, \"ticks\": \"\"}}, \"type\": \"scatter3d\"}], \"scattercarpet\": [{\"marker\": {\"colorbar\": {\"outlinewidth\": 0, \"ticks\": \"\"}}, \"type\": \"scattercarpet\"}], \"scattergeo\": [{\"marker\": {\"colorbar\": {\"outlinewidth\": 0, \"ticks\": \"\"}}, \"type\": \"scattergeo\"}], \"scattergl\": [{\"marker\": {\"colorbar\": {\"outlinewidth\": 0, \"ticks\": \"\"}}, \"type\": \"scattergl\"}], \"scattermapbox\": [{\"marker\": {\"colorbar\": {\"outlinewidth\": 0, \"ticks\": \"\"}}, \"type\": \"scattermapbox\"}], \"scatterpolar\": [{\"marker\": {\"colorbar\": {\"outlinewidth\": 0, \"ticks\": \"\"}}, \"type\": \"scatterpolar\"}], \"scatterpolargl\": [{\"marker\": {\"colorbar\": {\"outlinewidth\": 0, \"ticks\": \"\"}}, \"type\": \"scatterpolargl\"}], \"scatterternary\": [{\"marker\": {\"colorbar\": {\"outlinewidth\": 0, \"ticks\": \"\"}}, \"type\": \"scatterternary\"}], \"surface\": [{\"colorbar\": {\"outlinewidth\": 0, \"ticks\": \"\"}, \"colorscale\": [[0.0, \"#0d0887\"], [0.1111111111111111, \"#46039f\"], [0.2222222222222222, \"#7201a8\"], [0.3333333333333333, \"#9c179e\"], [0.4444444444444444, \"#bd3786\"], [0.5555555555555556, \"#d8576b\"], [0.6666666666666666, \"#ed7953\"], [0.7777777777777778, \"#fb9f3a\"], [0.8888888888888888, \"#fdca26\"], [1.0, \"#f0f921\"]], \"type\": \"surface\"}], \"table\": [{\"cells\": {\"fill\": {\"color\": \"#EBF0F8\"}, \"line\": {\"color\": \"white\"}}, \"header\": {\"fill\": {\"color\": \"#C8D4E3\"}, \"line\": {\"color\": \"white\"}}, \"type\": \"table\"}]}, \"layout\": {\"annotationdefaults\": {\"arrowcolor\": \"#2a3f5f\", \"arrowhead\": 0, \"arrowwidth\": 1}, \"colorscale\": {\"diverging\": [[0, \"#8e0152\"], [0.1, \"#c51b7d\"], [0.2, \"#de77ae\"], [0.3, \"#f1b6da\"], [0.4, \"#fde0ef\"], [0.5, \"#f7f7f7\"], [0.6, \"#e6f5d0\"], [0.7, \"#b8e186\"], [0.8, \"#7fbc41\"], [0.9, \"#4d9221\"], [1, \"#276419\"]], \"sequential\": [[0.0, \"#0d0887\"], [0.1111111111111111, \"#46039f\"], [0.2222222222222222, \"#7201a8\"], [0.3333333333333333, \"#9c179e\"], [0.4444444444444444, \"#bd3786\"], [0.5555555555555556, \"#d8576b\"], [0.6666666666666666, \"#ed7953\"], [0.7777777777777778, \"#fb9f3a\"], [0.8888888888888888, \"#fdca26\"], [1.0, \"#f0f921\"]], \"sequentialminus\": [[0.0, \"#0d0887\"], [0.1111111111111111, \"#46039f\"], [0.2222222222222222, \"#7201a8\"], [0.3333333333333333, \"#9c179e\"], [0.4444444444444444, \"#bd3786\"], [0.5555555555555556, \"#d8576b\"], [0.6666666666666666, \"#ed7953\"], [0.7777777777777778, \"#fb9f3a\"], [0.8888888888888888, \"#fdca26\"], [1.0, \"#f0f921\"]]}, \"colorway\": [\"#636efa\", \"#EF553B\", \"#00cc96\", \"#ab63fa\", \"#FFA15A\", \"#19d3f3\", \"#FF6692\", \"#B6E880\", \"#FF97FF\", \"#FECB52\"], \"font\": {\"color\": \"#2a3f5f\"}, \"geo\": {\"bgcolor\": \"white\", \"lakecolor\": \"white\", \"landcolor\": \"#E5ECF6\", \"showlakes\": true, \"showland\": true, \"subunitcolor\": \"white\"}, \"hoverlabel\": {\"align\": \"left\"}, \"hovermode\": \"closest\", \"mapbox\": {\"style\": \"light\"}, \"paper_bgcolor\": \"white\", \"plot_bgcolor\": \"#E5ECF6\", \"polar\": {\"angularaxis\": {\"gridcolor\": \"white\", \"linecolor\": \"white\", \"ticks\": \"\"}, \"bgcolor\": \"#E5ECF6\", \"radialaxis\": {\"gridcolor\": \"white\", \"linecolor\": \"white\", \"ticks\": \"\"}}, \"scene\": {\"xaxis\": {\"backgroundcolor\": \"#E5ECF6\", \"gridcolor\": \"white\", \"gridwidth\": 2, \"linecolor\": \"white\", \"showbackground\": true, \"ticks\": \"\", \"zerolinecolor\": \"white\"}, \"yaxis\": {\"backgroundcolor\": \"#E5ECF6\", \"gridcolor\": \"white\", \"gridwidth\": 2, \"linecolor\": \"white\", \"showbackground\": true, \"ticks\": \"\", \"zerolinecolor\": \"white\"}, \"zaxis\": {\"backgroundcolor\": \"#E5ECF6\", \"gridcolor\": \"white\", \"gridwidth\": 2, \"linecolor\": \"white\", \"showbackground\": true, \"ticks\": \"\", \"zerolinecolor\": \"white\"}}, \"shapedefaults\": {\"line\": {\"color\": \"#2a3f5f\"}}, \"ternary\": {\"aaxis\": {\"gridcolor\": \"white\", \"linecolor\": \"white\", \"ticks\": \"\"}, \"baxis\": {\"gridcolor\": \"white\", \"linecolor\": \"white\", \"ticks\": \"\"}, \"bgcolor\": \"#E5ECF6\", \"caxis\": {\"gridcolor\": \"white\", \"linecolor\": \"white\", \"ticks\": \"\"}}, \"title\": {\"x\": 0.05}, \"xaxis\": {\"automargin\": true, \"gridcolor\": \"white\", \"linecolor\": \"white\", \"ticks\": \"\", \"zerolinecolor\": \"white\", \"zerolinewidth\": 2}, \"yaxis\": {\"automargin\": true, \"gridcolor\": \"white\", \"linecolor\": \"white\", \"ticks\": \"\", \"zerolinecolor\": \"white\", \"zerolinewidth\": 2}}}},\n",
       "                        {\"responsive\": true}\n",
       "                    ).then(function(){\n",
       "                            \n",
       "var gd = document.getElementById('005e8c7c-e1af-408c-a69e-31a406d60c20');\n",
       "var x = new MutationObserver(function (mutations, observer) {{\n",
       "        var display = window.getComputedStyle(gd).display;\n",
       "        if (!display || display === 'none') {{\n",
       "            console.log([gd, 'removed!']);\n",
       "            Plotly.purge(gd);\n",
       "            observer.disconnect();\n",
       "        }}\n",
       "}});\n",
       "\n",
       "// Listen for the removal of the full notebook cells\n",
       "var notebookContainer = gd.closest('#notebook-container');\n",
       "if (notebookContainer) {{\n",
       "    x.observe(notebookContainer, {childList: true});\n",
       "}}\n",
       "\n",
       "// Listen for the clearing of the current output cell\n",
       "var outputEl = gd.closest('.output');\n",
       "if (outputEl) {{\n",
       "    x.observe(outputEl, {childList: true});\n",
       "}}\n",
       "\n",
       "                        })\n",
       "                };\n",
       "                });\n",
       "            </script>\n",
       "        </div>"
      ]
     },
     "metadata": {},
     "output_type": "display_data"
    }
   ],
   "source": [
    "## plotting the figure\n",
    "fig = go.Figure()\n",
    "fig.add_trace(go.Scatter3d(x=X[:,0],y=X[:,1],z= Y[:,0],mode ='markers'))\n",
    "fig.show()"
   ]
  },
  {
   "cell_type": "code",
   "execution_count": 4,
   "metadata": {},
   "outputs": [
    {
     "name": "stdout",
     "output_type": "stream",
     "text": [
      "(100, 3)\n",
      "(100, 1)\n",
      "[[2.01666793]\n",
      " [2.96985048]\n",
      " [1.46191241]]\n",
      "(3, 1)\n",
      "The r squared of the model is 0.9980040612475777\n"
     ]
    }
   ],
   "source": [
    "print(X.shape)\n",
    "\n",
    "print(Y.shape)\n",
    "A = np.matmul(X.T,X)\n",
    "b = np.matmul(X.T,Y)\n",
    "w = np.linalg.solve(A,b)\n",
    "print(w)\n",
    "print(w.shape)\n",
    "Y_hat = np.dot(X,w)\n",
    "Y_mean = np.mean(Y)\n",
    "SS_res = np.sum((Y- Y_hat)**2)\n",
    "SS_tot = np.sum((Y- Y_mean)**2)\n",
    "r_sqaured = 1 - SS_res/SS_tot\n",
    "print('The r squared of the model is {}'.format(r_sqaured))"
   ]
  }
 ],
 "metadata": {
  "kernelspec": {
   "display_name": "Python 3",
   "language": "python",
   "name": "python3"
  },
  "language_info": {
   "codemirror_mode": {
    "name": "ipython",
    "version": 3
   },
   "file_extension": ".py",
   "mimetype": "text/x-python",
   "name": "python",
   "nbconvert_exporter": "python",
   "pygments_lexer": "ipython3",
   "version": "3.6.8"
  }
 },
 "nbformat": 4,
 "nbformat_minor": 2
}
