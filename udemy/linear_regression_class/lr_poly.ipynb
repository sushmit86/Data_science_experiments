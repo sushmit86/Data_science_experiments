{
 "cells": [
  {
   "cell_type": "code",
   "execution_count": 1,
   "metadata": {},
   "outputs": [
    {
     "data": {
      "text/html": [
       "        <script type=\"text/javascript\">\n",
       "        window.PlotlyConfig = {MathJaxConfig: 'local'};\n",
       "        if (window.MathJax) {MathJax.Hub.Config({SVG: {font: \"STIX-Web\"}});}\n",
       "        if (typeof require !== 'undefined') {\n",
       "        require.undef(\"plotly\");\n",
       "        requirejs.config({\n",
       "            paths: {\n",
       "                'plotly': ['https://cdn.plot.ly/plotly-latest.min']\n",
       "            }\n",
       "        });\n",
       "        require(['plotly'], function(Plotly) {\n",
       "            window._Plotly = Plotly;\n",
       "        });\n",
       "        }\n",
       "        </script>\n",
       "        "
      ]
     },
     "metadata": {},
     "output_type": "display_data"
    }
   ],
   "source": [
    "import pandas as pd\n",
    "import numpy as np\n",
    "from plotly.offline import init_notebook_mode\n",
    "import plotly.graph_objs as go\n",
    "init_notebook_mode(connected=True)"
   ]
  },
  {
   "cell_type": "code",
   "execution_count": 2,
   "metadata": {},
   "outputs": [],
   "source": [
    "df_poly_data = pd.read_csv('data_poly.csv',header=None)\n",
    "df_poly_data.insert(2,2,1)\n",
    "df_poly_data.insert(3,3,df_poly_data.loc[:,0]**2)\n",
    "X = df_poly_data.loc[:,[2,0,3]].values\n",
    "Y = df_poly_data.loc[:,1].values"
   ]
  },
  {
   "cell_type": "code",
   "execution_count": 3,
   "metadata": {},
   "outputs": [
    {
     "data": {
      "application/vnd.plotly.v1+json": {
       "config": {
        "plotlyServerURL": "https://plot.ly"
       },
       "data": [
        {
         "mode": "markers",
         "type": "scatter",
         "x": [
          76.7007086033,
          95.2735441552,
          73.09572324930001,
          46.951635457200005,
          33.3137480056,
          58.800128433400005,
          86.4775958313,
          26.1438291437,
          97.67930585229999,
          43.7453159626,
          27.3960599569,
          97.7709380144,
          0.477748646463,
          45.823085208500004,
          54.805855416499995,
          90.15264911989999,
          7.250554019419999,
          45.32559552,
          78.0299288822,
          56.99929549189999,
          94.00582955040001,
          26.903177355900002,
          23.0527128171,
          72.16206070359999,
          99.03856132,
          3.8567282135000003,
          29.1370660814,
          86.1406581482,
          30.663741467199998,
          45.7038082016,
          20.8365297577,
          57.1870229314,
          35.6458427285,
          19.3869531878,
          21.9669393722,
          68.2754384479,
          0.0499320826943,
          88.0160403117,
          52.302680128,
          30.8083679391,
          36.7450495784,
          32.497674786,
          69.2984401147,
          8.507759773010001,
          70.340432818,
          57.5800635973,
          88.4806455787,
          18.460550085799998,
          55.8041981373,
          16.4395710474,
          11.5900497701,
          46.8705089511,
          84.33492545,
          47.0879172063,
          25.3595168427,
          57.5279893076,
          64.1988259571,
          4.212110194609999,
          54.0943345308,
          74.1390699605,
          73.6494046203,
          36.128161214,
          52.056360373500006,
          47.1946296354,
          38.417521012899996,
          54.6207713889,
          64.76835802939999,
          84.4005467356,
          21.4404800201,
          73.2615461079,
          20.1698478817,
          31.4337548498,
          12.5179786376,
          3.61761195371,
          81.25157368069999,
          56.8424497509,
          82.26652380659999,
          37.4722110019,
          84.69463400149999,
          39.7685020685,
          2.05616850915,
          97.1247091279,
          31.1291991206,
          84.61264095989999,
          85.95612871430001,
          80.9652012247,
          88.89799655290001,
          58.3641047494,
          50.3024480011,
          12.7419734701,
          77.32066625600001,
          98.9646405094,
          56.326625320699996,
          79.83606809279999,
          84.2993047538,
          45.3458596295,
          3.13987798949,
          70.1062835334,
          80.3106828908,
          72.0680436903
         ],
         "y": [
          663.797275569,
          1014.3622816,
          618.938826916,
          288.012877367,
          144.977555864,
          412.327812022,
          844.4150140239999,
          89.35190956299999,
          1053.20525097,
          240.908778383,
          115.936712225,
          1034.55054041,
          3.4450849898199998,
          254.058885722,
          353.273447055,
          926.9450488110001,
          30.7577367238,
          241.73520386099997,
          692.797188617,
          382.99564716099997,
          978.7182858689999,
          98.22900622780001,
          84.9785703587,
          584.521550996,
          1082.25149734,
          5.3780742448300005,
          122.01363019799999,
          841.2975435789999,
          131.606512241,
          267.357505947,
          52.1846807158,
          388.79585513800004,
          155.657694842,
          87.1260781016,
          83.7232155716,
          530.711261039,
          14.492840873399999,
          843.24850174,
          340.811945309,
          128.06695923700002,
          172.78350259099997,
          147.228458255,
          538.1806400280001,
          18.1584427007,
          559.4104667930001,
          384.884606047,
          875.860995014,
          58.9483005575,
          376.843030927,
          24.9459291843,
          32.6626606312,
          262.885902286,
          798.336107587,
          278.115426472,
          104.171319469,
          411.57959263699996,
          471.645130755,
          -4.60107066464,
          363.848079875,
          634.232884203,
          614.61698055,
          165.31378043,
          326.302161959,
          282.326194483,
          199.427772234,
          349.23680114,
          489.50098237699996,
          805.013871913,
          67.0955374565,
          611.057504623,
          69.446653099,
          138.906777891,
          48.9516001981,
          5.326273552169999,
          731.3845794,
          378.28943994300005,
          748.3431383239999,
          175.748739041,
          800.047623475,
          203.05632468599998,
          6.235189147560001,
          1042.6919584,
          130.11366355200002,
          790.864163252,
          827.455642687,
          738.33866824,
          893.81365673,
          402.88269016199996,
          314.117036852,
          12.968117493800001,
          687.654958048,
          1089.94766197,
          372.340305154,
          722.043849621,
          798.10497093,
          251.75517250599998,
          4.26261828882,
          550.923455067,
          728.06984768,
          581.130210853
         ]
        }
       ],
       "layout": {
        "autosize": true,
        "template": {
         "data": {
          "bar": [
           {
            "error_x": {
             "color": "#2a3f5f"
            },
            "error_y": {
             "color": "#2a3f5f"
            },
            "marker": {
             "line": {
              "color": "#E5ECF6",
              "width": 0.5
             }
            },
            "type": "bar"
           }
          ],
          "barpolar": [
           {
            "marker": {
             "line": {
              "color": "#E5ECF6",
              "width": 0.5
             }
            },
            "type": "barpolar"
           }
          ],
          "carpet": [
           {
            "aaxis": {
             "endlinecolor": "#2a3f5f",
             "gridcolor": "white",
             "linecolor": "white",
             "minorgridcolor": "white",
             "startlinecolor": "#2a3f5f"
            },
            "baxis": {
             "endlinecolor": "#2a3f5f",
             "gridcolor": "white",
             "linecolor": "white",
             "minorgridcolor": "white",
             "startlinecolor": "#2a3f5f"
            },
            "type": "carpet"
           }
          ],
          "choropleth": [
           {
            "colorbar": {
             "outlinewidth": 0,
             "ticks": ""
            },
            "type": "choropleth"
           }
          ],
          "contour": [
           {
            "colorbar": {
             "outlinewidth": 0,
             "ticks": ""
            },
            "colorscale": [
             [
              0,
              "#0d0887"
             ],
             [
              0.1111111111111111,
              "#46039f"
             ],
             [
              0.2222222222222222,
              "#7201a8"
             ],
             [
              0.3333333333333333,
              "#9c179e"
             ],
             [
              0.4444444444444444,
              "#bd3786"
             ],
             [
              0.5555555555555556,
              "#d8576b"
             ],
             [
              0.6666666666666666,
              "#ed7953"
             ],
             [
              0.7777777777777778,
              "#fb9f3a"
             ],
             [
              0.8888888888888888,
              "#fdca26"
             ],
             [
              1,
              "#f0f921"
             ]
            ],
            "type": "contour"
           }
          ],
          "contourcarpet": [
           {
            "colorbar": {
             "outlinewidth": 0,
             "ticks": ""
            },
            "type": "contourcarpet"
           }
          ],
          "heatmap": [
           {
            "colorbar": {
             "outlinewidth": 0,
             "ticks": ""
            },
            "colorscale": [
             [
              0,
              "#0d0887"
             ],
             [
              0.1111111111111111,
              "#46039f"
             ],
             [
              0.2222222222222222,
              "#7201a8"
             ],
             [
              0.3333333333333333,
              "#9c179e"
             ],
             [
              0.4444444444444444,
              "#bd3786"
             ],
             [
              0.5555555555555556,
              "#d8576b"
             ],
             [
              0.6666666666666666,
              "#ed7953"
             ],
             [
              0.7777777777777778,
              "#fb9f3a"
             ],
             [
              0.8888888888888888,
              "#fdca26"
             ],
             [
              1,
              "#f0f921"
             ]
            ],
            "type": "heatmap"
           }
          ],
          "heatmapgl": [
           {
            "colorbar": {
             "outlinewidth": 0,
             "ticks": ""
            },
            "colorscale": [
             [
              0,
              "#0d0887"
             ],
             [
              0.1111111111111111,
              "#46039f"
             ],
             [
              0.2222222222222222,
              "#7201a8"
             ],
             [
              0.3333333333333333,
              "#9c179e"
             ],
             [
              0.4444444444444444,
              "#bd3786"
             ],
             [
              0.5555555555555556,
              "#d8576b"
             ],
             [
              0.6666666666666666,
              "#ed7953"
             ],
             [
              0.7777777777777778,
              "#fb9f3a"
             ],
             [
              0.8888888888888888,
              "#fdca26"
             ],
             [
              1,
              "#f0f921"
             ]
            ],
            "type": "heatmapgl"
           }
          ],
          "histogram": [
           {
            "marker": {
             "colorbar": {
              "outlinewidth": 0,
              "ticks": ""
             }
            },
            "type": "histogram"
           }
          ],
          "histogram2d": [
           {
            "colorbar": {
             "outlinewidth": 0,
             "ticks": ""
            },
            "colorscale": [
             [
              0,
              "#0d0887"
             ],
             [
              0.1111111111111111,
              "#46039f"
             ],
             [
              0.2222222222222222,
              "#7201a8"
             ],
             [
              0.3333333333333333,
              "#9c179e"
             ],
             [
              0.4444444444444444,
              "#bd3786"
             ],
             [
              0.5555555555555556,
              "#d8576b"
             ],
             [
              0.6666666666666666,
              "#ed7953"
             ],
             [
              0.7777777777777778,
              "#fb9f3a"
             ],
             [
              0.8888888888888888,
              "#fdca26"
             ],
             [
              1,
              "#f0f921"
             ]
            ],
            "type": "histogram2d"
           }
          ],
          "histogram2dcontour": [
           {
            "colorbar": {
             "outlinewidth": 0,
             "ticks": ""
            },
            "colorscale": [
             [
              0,
              "#0d0887"
             ],
             [
              0.1111111111111111,
              "#46039f"
             ],
             [
              0.2222222222222222,
              "#7201a8"
             ],
             [
              0.3333333333333333,
              "#9c179e"
             ],
             [
              0.4444444444444444,
              "#bd3786"
             ],
             [
              0.5555555555555556,
              "#d8576b"
             ],
             [
              0.6666666666666666,
              "#ed7953"
             ],
             [
              0.7777777777777778,
              "#fb9f3a"
             ],
             [
              0.8888888888888888,
              "#fdca26"
             ],
             [
              1,
              "#f0f921"
             ]
            ],
            "type": "histogram2dcontour"
           }
          ],
          "mesh3d": [
           {
            "colorbar": {
             "outlinewidth": 0,
             "ticks": ""
            },
            "type": "mesh3d"
           }
          ],
          "parcoords": [
           {
            "line": {
             "colorbar": {
              "outlinewidth": 0,
              "ticks": ""
             }
            },
            "type": "parcoords"
           }
          ],
          "scatter": [
           {
            "marker": {
             "colorbar": {
              "outlinewidth": 0,
              "ticks": ""
             }
            },
            "type": "scatter"
           }
          ],
          "scatter3d": [
           {
            "line": {
             "colorbar": {
              "outlinewidth": 0,
              "ticks": ""
             }
            },
            "marker": {
             "colorbar": {
              "outlinewidth": 0,
              "ticks": ""
             }
            },
            "type": "scatter3d"
           }
          ],
          "scattercarpet": [
           {
            "marker": {
             "colorbar": {
              "outlinewidth": 0,
              "ticks": ""
             }
            },
            "type": "scattercarpet"
           }
          ],
          "scattergeo": [
           {
            "marker": {
             "colorbar": {
              "outlinewidth": 0,
              "ticks": ""
             }
            },
            "type": "scattergeo"
           }
          ],
          "scattergl": [
           {
            "marker": {
             "colorbar": {
              "outlinewidth": 0,
              "ticks": ""
             }
            },
            "type": "scattergl"
           }
          ],
          "scattermapbox": [
           {
            "marker": {
             "colorbar": {
              "outlinewidth": 0,
              "ticks": ""
             }
            },
            "type": "scattermapbox"
           }
          ],
          "scatterpolar": [
           {
            "marker": {
             "colorbar": {
              "outlinewidth": 0,
              "ticks": ""
             }
            },
            "type": "scatterpolar"
           }
          ],
          "scatterpolargl": [
           {
            "marker": {
             "colorbar": {
              "outlinewidth": 0,
              "ticks": ""
             }
            },
            "type": "scatterpolargl"
           }
          ],
          "scatterternary": [
           {
            "marker": {
             "colorbar": {
              "outlinewidth": 0,
              "ticks": ""
             }
            },
            "type": "scatterternary"
           }
          ],
          "surface": [
           {
            "colorbar": {
             "outlinewidth": 0,
             "ticks": ""
            },
            "colorscale": [
             [
              0,
              "#0d0887"
             ],
             [
              0.1111111111111111,
              "#46039f"
             ],
             [
              0.2222222222222222,
              "#7201a8"
             ],
             [
              0.3333333333333333,
              "#9c179e"
             ],
             [
              0.4444444444444444,
              "#bd3786"
             ],
             [
              0.5555555555555556,
              "#d8576b"
             ],
             [
              0.6666666666666666,
              "#ed7953"
             ],
             [
              0.7777777777777778,
              "#fb9f3a"
             ],
             [
              0.8888888888888888,
              "#fdca26"
             ],
             [
              1,
              "#f0f921"
             ]
            ],
            "type": "surface"
           }
          ],
          "table": [
           {
            "cells": {
             "fill": {
              "color": "#EBF0F8"
             },
             "line": {
              "color": "white"
             }
            },
            "header": {
             "fill": {
              "color": "#C8D4E3"
             },
             "line": {
              "color": "white"
             }
            },
            "type": "table"
           }
          ]
         },
         "layout": {
          "annotationdefaults": {
           "arrowcolor": "#2a3f5f",
           "arrowhead": 0,
           "arrowwidth": 1
          },
          "colorscale": {
           "diverging": [
            [
             0,
             "#8e0152"
            ],
            [
             0.1,
             "#c51b7d"
            ],
            [
             0.2,
             "#de77ae"
            ],
            [
             0.3,
             "#f1b6da"
            ],
            [
             0.4,
             "#fde0ef"
            ],
            [
             0.5,
             "#f7f7f7"
            ],
            [
             0.6,
             "#e6f5d0"
            ],
            [
             0.7,
             "#b8e186"
            ],
            [
             0.8,
             "#7fbc41"
            ],
            [
             0.9,
             "#4d9221"
            ],
            [
             1,
             "#276419"
            ]
           ],
           "sequential": [
            [
             0,
             "#0d0887"
            ],
            [
             0.1111111111111111,
             "#46039f"
            ],
            [
             0.2222222222222222,
             "#7201a8"
            ],
            [
             0.3333333333333333,
             "#9c179e"
            ],
            [
             0.4444444444444444,
             "#bd3786"
            ],
            [
             0.5555555555555556,
             "#d8576b"
            ],
            [
             0.6666666666666666,
             "#ed7953"
            ],
            [
             0.7777777777777778,
             "#fb9f3a"
            ],
            [
             0.8888888888888888,
             "#fdca26"
            ],
            [
             1,
             "#f0f921"
            ]
           ],
           "sequentialminus": [
            [
             0,
             "#0d0887"
            ],
            [
             0.1111111111111111,
             "#46039f"
            ],
            [
             0.2222222222222222,
             "#7201a8"
            ],
            [
             0.3333333333333333,
             "#9c179e"
            ],
            [
             0.4444444444444444,
             "#bd3786"
            ],
            [
             0.5555555555555556,
             "#d8576b"
            ],
            [
             0.6666666666666666,
             "#ed7953"
            ],
            [
             0.7777777777777778,
             "#fb9f3a"
            ],
            [
             0.8888888888888888,
             "#fdca26"
            ],
            [
             1,
             "#f0f921"
            ]
           ]
          },
          "colorway": [
           "#636efa",
           "#EF553B",
           "#00cc96",
           "#ab63fa",
           "#FFA15A",
           "#19d3f3",
           "#FF6692",
           "#B6E880",
           "#FF97FF",
           "#FECB52"
          ],
          "font": {
           "color": "#2a3f5f"
          },
          "geo": {
           "bgcolor": "white",
           "lakecolor": "white",
           "landcolor": "#E5ECF6",
           "showlakes": true,
           "showland": true,
           "subunitcolor": "white"
          },
          "hoverlabel": {
           "align": "left"
          },
          "hovermode": "closest",
          "mapbox": {
           "style": "light"
          },
          "paper_bgcolor": "white",
          "plot_bgcolor": "#E5ECF6",
          "polar": {
           "angularaxis": {
            "gridcolor": "white",
            "linecolor": "white",
            "ticks": ""
           },
           "bgcolor": "#E5ECF6",
           "radialaxis": {
            "gridcolor": "white",
            "linecolor": "white",
            "ticks": ""
           }
          },
          "scene": {
           "xaxis": {
            "backgroundcolor": "#E5ECF6",
            "gridcolor": "white",
            "gridwidth": 2,
            "linecolor": "white",
            "showbackground": true,
            "ticks": "",
            "zerolinecolor": "white"
           },
           "yaxis": {
            "backgroundcolor": "#E5ECF6",
            "gridcolor": "white",
            "gridwidth": 2,
            "linecolor": "white",
            "showbackground": true,
            "ticks": "",
            "zerolinecolor": "white"
           },
           "zaxis": {
            "backgroundcolor": "#E5ECF6",
            "gridcolor": "white",
            "gridwidth": 2,
            "linecolor": "white",
            "showbackground": true,
            "ticks": "",
            "zerolinecolor": "white"
           }
          },
          "shapedefaults": {
           "line": {
            "color": "#2a3f5f"
           }
          },
          "ternary": {
           "aaxis": {
            "gridcolor": "white",
            "linecolor": "white",
            "ticks": ""
           },
           "baxis": {
            "gridcolor": "white",
            "linecolor": "white",
            "ticks": ""
           },
           "bgcolor": "#E5ECF6",
           "caxis": {
            "gridcolor": "white",
            "linecolor": "white",
            "ticks": ""
           }
          },
          "title": {
           "x": 0.05
          },
          "xaxis": {
           "automargin": true,
           "gridcolor": "white",
           "linecolor": "white",
           "ticks": "",
           "zerolinecolor": "white",
           "zerolinewidth": 2
          },
          "yaxis": {
           "automargin": true,
           "gridcolor": "white",
           "linecolor": "white",
           "ticks": "",
           "zerolinecolor": "white",
           "zerolinewidth": 2
          }
         }
        },
        "xaxis": {
         "autorange": true,
         "range": [
          -5.823339409991457,
          104.91183281268576
         ],
         "type": "linear"
        },
        "yaxis": {
         "autorange": true,
         "range": [
          -84.77502241813274,
          1170.1216137234926
         ],
         "type": "linear"
        }
       }
      },
      "image/png": "[encoded data removed]",
      "text/html": [
       "<div>\n",
       "        \n",
       "        \n",
       "            <div id=\"1ef9bca8-5247-46d2-8903-9ac446dbd1da\" class=\"plotly-graph-div\" style=\"height:525px; width:100%;\"></div>\n",
       "            <script type=\"text/javascript\">\n",
       "                require([\"plotly\"], function(Plotly) {\n",
       "                    window.PLOTLYENV=window.PLOTLYENV || {};\n",
       "                    \n",
       "                if (document.getElementById(\"1ef9bca8-5247-46d2-8903-9ac446dbd1da\")) {\n",
       "                    Plotly.newPlot(\n",
       "                        '1ef9bca8-5247-46d2-8903-9ac446dbd1da',\n",
       "                        [{\"mode\": \"markers\", \"type\": \"scatter\", \"x\": [76.7007086033, 95.2735441552, 73.09572324930001, 46.951635457200005, 33.3137480056, 58.800128433400005, 86.4775958313, 26.1438291437, 97.67930585229999, 43.7453159626, 27.3960599569, 97.7709380144, 0.477748646463, 45.823085208500004, 54.805855416499995, 90.15264911989999, 7.250554019419999, 45.32559552, 78.0299288822, 56.99929549189999, 94.00582955040001, 26.903177355900002, 23.0527128171, 72.16206070359999, 99.03856132, 3.8567282135000003, 29.1370660814, 86.1406581482, 30.663741467199998, 45.7038082016, 20.8365297577, 57.1870229314, 35.6458427285, 19.3869531878, 21.9669393722, 68.2754384479, 0.0499320826943, 88.0160403117, 52.302680128, 30.8083679391, 36.7450495784, 32.497674786, 69.2984401147, 8.507759773010001, 70.340432818, 57.5800635973, 88.4806455787, 18.460550085799998, 55.8041981373, 16.4395710474, 11.5900497701, 46.8705089511, 84.33492545, 47.0879172063, 25.3595168427, 57.5279893076, 64.1988259571, 4.212110194609999, 54.0943345308, 74.1390699605, 73.6494046203, 36.128161214, 52.056360373500006, 47.1946296354, 38.417521012899996, 54.6207713889, 64.76835802939999, 84.4005467356, 21.4404800201, 73.2615461079, 20.1698478817, 31.4337548498, 12.5179786376, 3.61761195371, 81.25157368069999, 56.8424497509, 82.26652380659999, 37.4722110019, 84.69463400149999, 39.7685020685, 2.05616850915, 97.1247091279, 31.1291991206, 84.61264095989999, 85.95612871430001, 80.9652012247, 88.89799655290001, 58.3641047494, 50.3024480011, 12.7419734701, 77.32066625600001, 98.9646405094, 56.326625320699996, 79.83606809279999, 84.2993047538, 45.3458596295, 3.13987798949, 70.1062835334, 80.3106828908, 72.0680436903], \"y\": [663.797275569, 1014.3622816, 618.938826916, 288.012877367, 144.977555864, 412.327812022, 844.4150140239999, 89.35190956299999, 1053.20525097, 240.908778383, 115.936712225, 1034.55054041, 3.4450849898199998, 254.058885722, 353.273447055, 926.9450488110001, 30.7577367238, 241.73520386099997, 692.797188617, 382.99564716099997, 978.7182858689999, 98.22900622780001, 84.9785703587, 584.521550996, 1082.25149734, 5.3780742448300005, 122.01363019799999, 841.2975435789999, 131.606512241, 267.357505947, 52.1846807158, 388.79585513800004, 155.657694842, 87.1260781016, 83.7232155716, 530.711261039, 14.492840873399999, 843.24850174, 340.811945309, 128.06695923700002, 172.78350259099997, 147.228458255, 538.1806400280001, 18.1584427007, 559.4104667930001, 384.884606047, 875.860995014, 58.9483005575, 376.843030927, 24.9459291843, 32.6626606312, 262.885902286, 798.336107587, 278.115426472, 104.171319469, 411.57959263699996, 471.645130755, -4.60107066464, 363.848079875, 634.232884203, 614.61698055, 165.31378043, 326.302161959, 282.326194483, 199.427772234, 349.23680114, 489.50098237699996, 805.013871913, 67.0955374565, 611.057504623, 69.446653099, 138.906777891, 48.9516001981, 5.326273552169999, 731.3845794, 378.28943994300005, 748.3431383239999, 175.748739041, 800.047623475, 203.05632468599998, 6.235189147560001, 1042.6919584, 130.11366355200002, 790.864163252, 827.455642687, 738.33866824, 893.81365673, 402.88269016199996, 314.117036852, 12.968117493800001, 687.654958048, 1089.94766197, 372.340305154, 722.043849621, 798.10497093, 251.75517250599998, 4.26261828882, 550.923455067, 728.06984768, 581.130210853]}],\n",
       "                        {\"template\": {\"data\": {\"bar\": [{\"error_x\": {\"color\": \"#2a3f5f\"}, \"error_y\": {\"color\": \"#2a3f5f\"}, \"marker\": {\"line\": {\"color\": \"#E5ECF6\", \"width\": 0.5}}, \"type\": \"bar\"}], \"barpolar\": [{\"marker\": {\"line\": {\"color\": \"#E5ECF6\", \"width\": 0.5}}, \"type\": \"barpolar\"}], \"carpet\": [{\"aaxis\": {\"endlinecolor\": \"#2a3f5f\", \"gridcolor\": \"white\", \"linecolor\": \"white\", \"minorgridcolor\": \"white\", \"startlinecolor\": \"#2a3f5f\"}, \"baxis\": {\"endlinecolor\": \"#2a3f5f\", \"gridcolor\": \"white\", \"linecolor\": \"white\", \"minorgridcolor\": \"white\", \"startlinecolor\": \"#2a3f5f\"}, \"type\": \"carpet\"}], \"choropleth\": [{\"colorbar\": {\"outlinewidth\": 0, \"ticks\": \"\"}, \"type\": \"choropleth\"}], \"contour\": [{\"colorbar\": {\"outlinewidth\": 0, \"ticks\": \"\"}, \"colorscale\": [[0.0, \"#0d0887\"], [0.1111111111111111, \"#46039f\"], [0.2222222222222222, \"#7201a8\"], [0.3333333333333333, \"#9c179e\"], [0.4444444444444444, \"#bd3786\"], [0.5555555555555556, \"#d8576b\"], [0.6666666666666666, \"#ed7953\"], [0.7777777777777778, \"#fb9f3a\"], [0.8888888888888888, \"#fdca26\"], [1.0, \"#f0f921\"]], \"type\": \"contour\"}], \"contourcarpet\": [{\"colorbar\": {\"outlinewidth\": 0, \"ticks\": \"\"}, \"type\": \"contourcarpet\"}], \"heatmap\": [{\"colorbar\": {\"outlinewidth\": 0, \"ticks\": \"\"}, \"colorscale\": [[0.0, \"#0d0887\"], [0.1111111111111111, \"#46039f\"], [0.2222222222222222, \"#7201a8\"], [0.3333333333333333, \"#9c179e\"], [0.4444444444444444, \"#bd3786\"], [0.5555555555555556, \"#d8576b\"], [0.6666666666666666, \"#ed7953\"], [0.7777777777777778, \"#fb9f3a\"], [0.8888888888888888, \"#fdca26\"], [1.0, \"#f0f921\"]], \"type\": \"heatmap\"}], \"heatmapgl\": [{\"colorbar\": {\"outlinewidth\": 0, \"ticks\": \"\"}, \"colorscale\": [[0.0, \"#0d0887\"], [0.1111111111111111, \"#46039f\"], [0.2222222222222222, \"#7201a8\"], [0.3333333333333333, \"#9c179e\"], [0.4444444444444444, \"#bd3786\"], [0.5555555555555556, \"#d8576b\"], [0.6666666666666666, \"#ed7953\"], [0.7777777777777778, \"#fb9f3a\"], [0.8888888888888888, \"#fdca26\"], [1.0, \"#f0f921\"]], \"type\": \"heatmapgl\"}], \"histogram\": [{\"marker\": {\"colorbar\": {\"outlinewidth\": 0, \"ticks\": \"\"}}, \"type\": \"histogram\"}], \"histogram2d\": [{\"colorbar\": {\"outlinewidth\": 0, \"ticks\": \"\"}, \"colorscale\": [[0.0, \"#0d0887\"], [0.1111111111111111, \"#46039f\"], [0.2222222222222222, \"#7201a8\"], [0.3333333333333333, \"#9c179e\"], [0.4444444444444444, \"#bd3786\"], [0.5555555555555556, \"#d8576b\"], [0.6666666666666666, \"#ed7953\"], [0.7777777777777778, \"#fb9f3a\"], [0.8888888888888888, \"#fdca26\"], [1.0, \"#f0f921\"]], \"type\": \"histogram2d\"}], \"histogram2dcontour\": [{\"colorbar\": {\"outlinewidth\": 0, \"ticks\": \"\"}, \"colorscale\": [[0.0, \"#0d0887\"], [0.1111111111111111, \"#46039f\"], [0.2222222222222222, \"#7201a8\"], [0.3333333333333333, \"#9c179e\"], [0.4444444444444444, \"#bd3786\"], [0.5555555555555556, \"#d8576b\"], [0.6666666666666666, \"#ed7953\"], [0.7777777777777778, \"#fb9f3a\"], [0.8888888888888888, \"#fdca26\"], [1.0, \"#f0f921\"]], \"type\": \"histogram2dcontour\"}], \"mesh3d\": [{\"colorbar\": {\"outlinewidth\": 0, \"ticks\": \"\"}, \"type\": \"mesh3d\"}], \"parcoords\": [{\"line\": {\"colorbar\": {\"outlinewidth\": 0, \"ticks\": \"\"}}, \"type\": \"parcoords\"}], \"scatter\": [{\"marker\": {\"colorbar\": {\"outlinewidth\": 0, \"ticks\": \"\"}}, \"type\": \"scatter\"}], \"scatter3d\": [{\"line\": {\"colorbar\": {\"outlinewidth\": 0, \"ticks\": \"\"}}, \"marker\": {\"colorbar\": {\"outlinewidth\": 0, \"ticks\": \"\"}}, \"type\": \"scatter3d\"}], \"scattercarpet\": [{\"marker\": {\"colorbar\": {\"outlinewidth\": 0, \"ticks\": \"\"}}, \"type\": \"scattercarpet\"}], \"scattergeo\": [{\"marker\": {\"colorbar\": {\"outlinewidth\": 0, \"ticks\": \"\"}}, \"type\": \"scattergeo\"}], \"scattergl\": [{\"marker\": {\"colorbar\": {\"outlinewidth\": 0, \"ticks\": \"\"}}, \"type\": \"scattergl\"}], \"scattermapbox\": [{\"marker\": {\"colorbar\": {\"outlinewidth\": 0, \"ticks\": \"\"}}, \"type\": \"scattermapbox\"}], \"scatterpolar\": [{\"marker\": {\"colorbar\": {\"outlinewidth\": 0, \"ticks\": \"\"}}, \"type\": \"scatterpolar\"}], \"scatterpolargl\": [{\"marker\": {\"colorbar\": {\"outlinewidth\": 0, \"ticks\": \"\"}}, \"type\": \"scatterpolargl\"}], \"scatterternary\": [{\"marker\": {\"colorbar\": {\"outlinewidth\": 0, \"ticks\": \"\"}}, \"type\": \"scatterternary\"}], \"surface\": [{\"colorbar\": {\"outlinewidth\": 0, \"ticks\": \"\"}, \"colorscale\": [[0.0, \"#0d0887\"], [0.1111111111111111, \"#46039f\"], [0.2222222222222222, \"#7201a8\"], [0.3333333333333333, \"#9c179e\"], [0.4444444444444444, \"#bd3786\"], [0.5555555555555556, \"#d8576b\"], [0.6666666666666666, \"#ed7953\"], [0.7777777777777778, \"#fb9f3a\"], [0.8888888888888888, \"#fdca26\"], [1.0, \"#f0f921\"]], \"type\": \"surface\"}], \"table\": [{\"cells\": {\"fill\": {\"color\": \"#EBF0F8\"}, \"line\": {\"color\": \"white\"}}, \"header\": {\"fill\": {\"color\": \"#C8D4E3\"}, \"line\": {\"color\": \"white\"}}, \"type\": \"table\"}]}, \"layout\": {\"annotationdefaults\": {\"arrowcolor\": \"#2a3f5f\", \"arrowhead\": 0, \"arrowwidth\": 1}, \"colorscale\": {\"diverging\": [[0, \"#8e0152\"], [0.1, \"#c51b7d\"], [0.2, \"#de77ae\"], [0.3, \"#f1b6da\"], [0.4, \"#fde0ef\"], [0.5, \"#f7f7f7\"], [0.6, \"#e6f5d0\"], [0.7, \"#b8e186\"], [0.8, \"#7fbc41\"], [0.9, \"#4d9221\"], [1, \"#276419\"]], \"sequential\": [[0.0, \"#0d0887\"], [0.1111111111111111, \"#46039f\"], [0.2222222222222222, \"#7201a8\"], [0.3333333333333333, \"#9c179e\"], [0.4444444444444444, \"#bd3786\"], [0.5555555555555556, \"#d8576b\"], [0.6666666666666666, \"#ed7953\"], [0.7777777777777778, \"#fb9f3a\"], [0.8888888888888888, \"#fdca26\"], [1.0, \"#f0f921\"]], \"sequentialminus\": [[0.0, \"#0d0887\"], [0.1111111111111111, \"#46039f\"], [0.2222222222222222, \"#7201a8\"], [0.3333333333333333, \"#9c179e\"], [0.4444444444444444, \"#bd3786\"], [0.5555555555555556, \"#d8576b\"], [0.6666666666666666, \"#ed7953\"], [0.7777777777777778, \"#fb9f3a\"], [0.8888888888888888, \"#fdca26\"], [1.0, \"#f0f921\"]]}, \"colorway\": [\"#636efa\", \"#EF553B\", \"#00cc96\", \"#ab63fa\", \"#FFA15A\", \"#19d3f3\", \"#FF6692\", \"#B6E880\", \"#FF97FF\", \"#FECB52\"], \"font\": {\"color\": \"#2a3f5f\"}, \"geo\": {\"bgcolor\": \"white\", \"lakecolor\": \"white\", \"landcolor\": \"#E5ECF6\", \"showlakes\": true, \"showland\": true, \"subunitcolor\": \"white\"}, \"hoverlabel\": {\"align\": \"left\"}, \"hovermode\": \"closest\", \"mapbox\": {\"style\": \"light\"}, \"paper_bgcolor\": \"white\", \"plot_bgcolor\": \"#E5ECF6\", \"polar\": {\"angularaxis\": {\"gridcolor\": \"white\", \"linecolor\": \"white\", \"ticks\": \"\"}, \"bgcolor\": \"#E5ECF6\", \"radialaxis\": {\"gridcolor\": \"white\", \"linecolor\": \"white\", \"ticks\": \"\"}}, \"scene\": {\"xaxis\": {\"backgroundcolor\": \"#E5ECF6\", \"gridcolor\": \"white\", \"gridwidth\": 2, \"linecolor\": \"white\", \"showbackground\": true, \"ticks\": \"\", \"zerolinecolor\": \"white\"}, \"yaxis\": {\"backgroundcolor\": \"#E5ECF6\", \"gridcolor\": \"white\", \"gridwidth\": 2, \"linecolor\": \"white\", \"showbackground\": true, \"ticks\": \"\", \"zerolinecolor\": \"white\"}, \"zaxis\": {\"backgroundcolor\": \"#E5ECF6\", \"gridcolor\": \"white\", \"gridwidth\": 2, \"linecolor\": \"white\", \"showbackground\": true, \"ticks\": \"\", \"zerolinecolor\": \"white\"}}, \"shapedefaults\": {\"line\": {\"color\": \"#2a3f5f\"}}, \"ternary\": {\"aaxis\": {\"gridcolor\": \"white\", \"linecolor\": \"white\", \"ticks\": \"\"}, \"baxis\": {\"gridcolor\": \"white\", \"linecolor\": \"white\", \"ticks\": \"\"}, \"bgcolor\": \"#E5ECF6\", \"caxis\": {\"gridcolor\": \"white\", \"linecolor\": \"white\", \"ticks\": \"\"}}, \"title\": {\"x\": 0.05}, \"xaxis\": {\"automargin\": true, \"gridcolor\": \"white\", \"linecolor\": \"white\", \"ticks\": \"\", \"zerolinecolor\": \"white\", \"zerolinewidth\": 2}, \"yaxis\": {\"automargin\": true, \"gridcolor\": \"white\", \"linecolor\": \"white\", \"ticks\": \"\", \"zerolinecolor\": \"white\", \"zerolinewidth\": 2}}}},\n",
       "                        {\"responsive\": true}\n",
       "                    ).then(function(){\n",
       "                            \n",
       "var gd = document.getElementById('1ef9bca8-5247-46d2-8903-9ac446dbd1da');\n",
       "var x = new MutationObserver(function (mutations, observer) {{\n",
       "        var display = window.getComputedStyle(gd).display;\n",
       "        if (!display || display === 'none') {{\n",
       "            console.log([gd, 'removed!']);\n",
       "            Plotly.purge(gd);\n",
       "            observer.disconnect();\n",
       "        }}\n",
       "}});\n",
       "\n",
       "// Listen for the removal of the full notebook cells\n",
       "var notebookContainer = gd.closest('#notebook-container');\n",
       "if (notebookContainer) {{\n",
       "    x.observe(notebookContainer, {childList: true});\n",
       "}}\n",
       "\n",
       "// Listen for the clearing of the current output cell\n",
       "var outputEl = gd.closest('.output');\n",
       "if (outputEl) {{\n",
       "    x.observe(outputEl, {childList: true});\n",
       "}}\n",
       "\n",
       "                        })\n",
       "                };\n",
       "                });\n",
       "            </script>\n",
       "        </div>"
      ]
     },
     "metadata": {},
     "output_type": "display_data"
    }
   ],
   "source": [
    "fig = go.Figure()\n",
    "fig.add_trace(go.Scatter(x=X[:,1],y=Y,mode = 'markers'))"
   ]
  },
  {
   "cell_type": "code",
   "execution_count": 4,
   "metadata": {},
   "outputs": [
    {
     "data": {
      "application/vnd.plotly.v1+json": {
       "config": {
        "plotlyServerURL": "https://plot.ly"
       },
       "data": [
        {
         "mode": "markers",
         "type": "scatter",
         "x": [
          76.7007086033,
          95.2735441552,
          73.09572324930001,
          46.951635457200005,
          33.3137480056,
          58.800128433400005,
          86.4775958313,
          26.1438291437,
          97.67930585229999,
          43.7453159626,
          27.3960599569,
          97.7709380144,
          0.477748646463,
          45.823085208500004,
          54.805855416499995,
          90.15264911989999,
          7.250554019419999,
          45.32559552,
          78.0299288822,
          56.99929549189999,
          94.00582955040001,
          26.903177355900002,
          23.0527128171,
          72.16206070359999,
          99.03856132,
          3.8567282135000003,
          29.1370660814,
          86.1406581482,
          30.663741467199998,
          45.7038082016,
          20.8365297577,
          57.1870229314,
          35.6458427285,
          19.3869531878,
          21.9669393722,
          68.2754384479,
          0.0499320826943,
          88.0160403117,
          52.302680128,
          30.8083679391,
          36.7450495784,
          32.497674786,
          69.2984401147,
          8.507759773010001,
          70.340432818,
          57.5800635973,
          88.4806455787,
          18.460550085799998,
          55.8041981373,
          16.4395710474,
          11.5900497701,
          46.8705089511,
          84.33492545,
          47.0879172063,
          25.3595168427,
          57.5279893076,
          64.1988259571,
          4.212110194609999,
          54.0943345308,
          74.1390699605,
          73.6494046203,
          36.128161214,
          52.056360373500006,
          47.1946296354,
          38.417521012899996,
          54.6207713889,
          64.76835802939999,
          84.4005467356,
          21.4404800201,
          73.2615461079,
          20.1698478817,
          31.4337548498,
          12.5179786376,
          3.61761195371,
          81.25157368069999,
          56.8424497509,
          82.26652380659999,
          37.4722110019,
          84.69463400149999,
          39.7685020685,
          2.05616850915,
          97.1247091279,
          31.1291991206,
          84.61264095989999,
          85.95612871430001,
          80.9652012247,
          88.89799655290001,
          58.3641047494,
          50.3024480011,
          12.7419734701,
          77.32066625600001,
          98.9646405094,
          56.326625320699996,
          79.83606809279999,
          84.2993047538,
          45.3458596295,
          3.13987798949,
          70.1062835334,
          80.3106828908,
          72.0680436903
         ],
         "y": [
          663.797275569,
          1014.3622816,
          618.938826916,
          288.012877367,
          144.977555864,
          412.327812022,
          844.4150140239999,
          89.35190956299999,
          1053.20525097,
          240.908778383,
          115.936712225,
          1034.55054041,
          3.4450849898199998,
          254.058885722,
          353.273447055,
          926.9450488110001,
          30.7577367238,
          241.73520386099997,
          692.797188617,
          382.99564716099997,
          978.7182858689999,
          98.22900622780001,
          84.9785703587,
          584.521550996,
          1082.25149734,
          5.3780742448300005,
          122.01363019799999,
          841.2975435789999,
          131.606512241,
          267.357505947,
          52.1846807158,
          388.79585513800004,
          155.657694842,
          87.1260781016,
          83.7232155716,
          530.711261039,
          14.492840873399999,
          843.24850174,
          340.811945309,
          128.06695923700002,
          172.78350259099997,
          147.228458255,
          538.1806400280001,
          18.1584427007,
          559.4104667930001,
          384.884606047,
          875.860995014,
          58.9483005575,
          376.843030927,
          24.9459291843,
          32.6626606312,
          262.885902286,
          798.336107587,
          278.115426472,
          104.171319469,
          411.57959263699996,
          471.645130755,
          -4.60107066464,
          363.848079875,
          634.232884203,
          614.61698055,
          165.31378043,
          326.302161959,
          282.326194483,
          199.427772234,
          349.23680114,
          489.50098237699996,
          805.013871913,
          67.0955374565,
          611.057504623,
          69.446653099,
          138.906777891,
          48.9516001981,
          5.326273552169999,
          731.3845794,
          378.28943994300005,
          748.3431383239999,
          175.748739041,
          800.047623475,
          203.05632468599998,
          6.235189147560001,
          1042.6919584,
          130.11366355200002,
          790.864163252,
          827.455642687,
          738.33866824,
          893.81365673,
          402.88269016199996,
          314.117036852,
          12.968117493800001,
          687.654958048,
          1089.94766197,
          372.340305154,
          722.043849621,
          798.10497093,
          251.75517250599998,
          4.26261828882,
          550.923455067,
          728.06984768,
          581.130210853
         ]
        },
        {
         "mode": "lines",
         "type": "scatter",
         "x": [
          0.0499320826943,
          0.477748646463,
          2.05616850915,
          3.13987798949,
          3.61761195371,
          3.8567282135000003,
          4.212110194609999,
          7.250554019419999,
          8.507759773010001,
          11.5900497701,
          12.5179786376,
          12.7419734701,
          16.4395710474,
          18.460550085799998,
          19.3869531878,
          20.1698478817,
          20.8365297577,
          21.4404800201,
          21.9669393722,
          23.0527128171,
          25.3595168427,
          26.1438291437,
          26.903177355900002,
          27.3960599569,
          29.1370660814,
          30.663741467199998,
          30.8083679391,
          31.1291991206,
          31.4337548498,
          32.497674786,
          33.3137480056,
          35.6458427285,
          36.128161214,
          36.7450495784,
          37.4722110019,
          38.417521012899996,
          39.7685020685,
          43.7453159626,
          45.32559552,
          45.3458596295,
          45.7038082016,
          45.823085208500004,
          46.8705089511,
          46.951635457200005,
          47.0879172063,
          47.1946296354,
          50.3024480011,
          52.056360373500006,
          52.302680128,
          54.0943345308,
          54.6207713889,
          54.805855416499995,
          55.8041981373,
          56.326625320699996,
          56.8424497509,
          56.99929549189999,
          57.1870229314,
          57.5279893076,
          57.5800635973,
          58.3641047494,
          58.800128433400005,
          64.1988259571,
          64.76835802939999,
          68.2754384479,
          69.2984401147,
          70.1062835334,
          70.340432818,
          72.0680436903,
          72.16206070359999,
          73.09572324930001,
          73.2615461079,
          73.6494046203,
          74.1390699605,
          76.7007086033,
          77.32066625600001,
          78.0299288822,
          79.83606809279999,
          80.3106828908,
          80.9652012247,
          81.25157368069999,
          82.26652380659999,
          84.2993047538,
          84.33492545,
          84.4005467356,
          84.61264095989999,
          84.69463400149999,
          85.95612871430001,
          86.1406581482,
          86.4775958313,
          88.0160403117,
          88.4806455787,
          88.89799655290001,
          90.15264911989999,
          94.00582955040001,
          95.2735441552,
          97.1247091279,
          97.67930585229999,
          97.7709380144,
          98.9646405094,
          99.03856132
         ],
         "y": [
          4.328202929773115,
          4.780830648974063,
          6.766246953450955,
          8.416784721927831,
          9.218704737187187,
          9.63715862348344,
          10.280124258569716,
          16.804597753889645,
          20.042189586988545,
          29.31222865107397,
          32.47368576015394,
          33.262540720098336,
          47.729070804573595,
          56.78726476117076,
          61.21148076648724,
          65.08365258882509,
          68.4773103041412,
          71.62808699081002,
          74.43388136106229,
          80.39495317438221,
          93.83928591335561,
          98.65186488612633,
          103.42803188790708,
          106.58966098585259,
          118.14489636133182,
          128.77455610919023,
          129.80561412431996,
          132.10773105447063,
          134.31203745454394,
          142.15749007566674,
          148.328130033532,
          166.6933574478577,
          170.6268364499614,
          175.72532997340548,
          181.83257447248627,
          189.92948890447803,
          201.81015636845183,
          238.89332491171666,
          254.503999717364,
          254.7074081698474,
          258.31393486903636,
          259.5213860530484,
          270.2462800409784,
          271.0860797882689,
          272.4997832968502,
          273.60933589023665,
          306.9183656650645,
          326.56591927564745,
          329.3743061540155,
          350.1653885061219,
          356.39594049382214,
          358.59958905938214,
          370.60375749884554,
          376.9646170054293,
          383.29843465142903,
          385.2348565446108,
          387.55898857302446,
          391.79823046022454,
          392.4477100597878,
          402.29171166020654,
          407.81918605290275,
          479.396433417967,
          487.2860371592219,
          537.2930865749158,
          552.3416019482706,
          564.3724431433061,
          567.8838257481586,
          594.1292866985251,
          595.5746320565906,
          610.0236263075996,
          612.6079978264057,
          618.6742176288254,
          626.3755306190658,
          667.4428745357402,
          677.5783211809035,
          689.2676958814682,
          719.4872980079439,
          727.5361974499357,
          738.709666687548,
          743.6252539818172,
          761.1784595737082,
          796.9518569259225,
          797.5860586077458,
          798.755061704794,
          802.5392583241795,
          804.004584687476,
          826.7180300675584,
          830.06709788417,
          836.1997615687255,
          864.4886804617256,
          873.1245491796318,
          880.9187445041222,
          904.5588552515901,
          979.1209251331979,
          1004.2988975970442,
          1041.639874541089,
          1052.959895145356,
          1054.8361223401105,
          1079.4307887304383,
          1080.9631640987436
         ]
        }
       ],
       "layout": {
        "autosize": true,
        "template": {
         "data": {
          "bar": [
           {
            "error_x": {
             "color": "#2a3f5f"
            },
            "error_y": {
             "color": "#2a3f5f"
            },
            "marker": {
             "line": {
              "color": "#E5ECF6",
              "width": 0.5
             }
            },
            "type": "bar"
           }
          ],
          "barpolar": [
           {
            "marker": {
             "line": {
              "color": "#E5ECF6",
              "width": 0.5
             }
            },
            "type": "barpolar"
           }
          ],
          "carpet": [
           {
            "aaxis": {
             "endlinecolor": "#2a3f5f",
             "gridcolor": "white",
             "linecolor": "white",
             "minorgridcolor": "white",
             "startlinecolor": "#2a3f5f"
            },
            "baxis": {
             "endlinecolor": "#2a3f5f",
             "gridcolor": "white",
             "linecolor": "white",
             "minorgridcolor": "white",
             "startlinecolor": "#2a3f5f"
            },
            "type": "carpet"
           }
          ],
          "choropleth": [
           {
            "colorbar": {
             "outlinewidth": 0,
             "ticks": ""
            },
            "type": "choropleth"
           }
          ],
          "contour": [
           {
            "colorbar": {
             "outlinewidth": 0,
             "ticks": ""
            },
            "colorscale": [
             [
              0,
              "#0d0887"
             ],
             [
              0.1111111111111111,
              "#46039f"
             ],
             [
              0.2222222222222222,
              "#7201a8"
             ],
             [
              0.3333333333333333,
              "#9c179e"
             ],
             [
              0.4444444444444444,
              "#bd3786"
             ],
             [
              0.5555555555555556,
              "#d8576b"
             ],
             [
              0.6666666666666666,
              "#ed7953"
             ],
             [
              0.7777777777777778,
              "#fb9f3a"
             ],
             [
              0.8888888888888888,
              "#fdca26"
             ],
             [
              1,
              "#f0f921"
             ]
            ],
            "type": "contour"
           }
          ],
          "contourcarpet": [
           {
            "colorbar": {
             "outlinewidth": 0,
             "ticks": ""
            },
            "type": "contourcarpet"
           }
          ],
          "heatmap": [
           {
            "colorbar": {
             "outlinewidth": 0,
             "ticks": ""
            },
            "colorscale": [
             [
              0,
              "#0d0887"
             ],
             [
              0.1111111111111111,
              "#46039f"
             ],
             [
              0.2222222222222222,
              "#7201a8"
             ],
             [
              0.3333333333333333,
              "#9c179e"
             ],
             [
              0.4444444444444444,
              "#bd3786"
             ],
             [
              0.5555555555555556,
              "#d8576b"
             ],
             [
              0.6666666666666666,
              "#ed7953"
             ],
             [
              0.7777777777777778,
              "#fb9f3a"
             ],
             [
              0.8888888888888888,
              "#fdca26"
             ],
             [
              1,
              "#f0f921"
             ]
            ],
            "type": "heatmap"
           }
          ],
          "heatmapgl": [
           {
            "colorbar": {
             "outlinewidth": 0,
             "ticks": ""
            },
            "colorscale": [
             [
              0,
              "#0d0887"
             ],
             [
              0.1111111111111111,
              "#46039f"
             ],
             [
              0.2222222222222222,
              "#7201a8"
             ],
             [
              0.3333333333333333,
              "#9c179e"
             ],
             [
              0.4444444444444444,
              "#bd3786"
             ],
             [
              0.5555555555555556,
              "#d8576b"
             ],
             [
              0.6666666666666666,
              "#ed7953"
             ],
             [
              0.7777777777777778,
              "#fb9f3a"
             ],
             [
              0.8888888888888888,
              "#fdca26"
             ],
             [
              1,
              "#f0f921"
             ]
            ],
            "type": "heatmapgl"
           }
          ],
          "histogram": [
           {
            "marker": {
             "colorbar": {
              "outlinewidth": 0,
              "ticks": ""
             }
            },
            "type": "histogram"
           }
          ],
          "histogram2d": [
           {
            "colorbar": {
             "outlinewidth": 0,
             "ticks": ""
            },
            "colorscale": [
             [
              0,
              "#0d0887"
             ],
             [
              0.1111111111111111,
              "#46039f"
             ],
             [
              0.2222222222222222,
              "#7201a8"
             ],
             [
              0.3333333333333333,
              "#9c179e"
             ],
             [
              0.4444444444444444,
              "#bd3786"
             ],
             [
              0.5555555555555556,
              "#d8576b"
             ],
             [
              0.6666666666666666,
              "#ed7953"
             ],
             [
              0.7777777777777778,
              "#fb9f3a"
             ],
             [
              0.8888888888888888,
              "#fdca26"
             ],
             [
              1,
              "#f0f921"
             ]
            ],
            "type": "histogram2d"
           }
          ],
          "histogram2dcontour": [
           {
            "colorbar": {
             "outlinewidth": 0,
             "ticks": ""
            },
            "colorscale": [
             [
              0,
              "#0d0887"
             ],
             [
              0.1111111111111111,
              "#46039f"
             ],
             [
              0.2222222222222222,
              "#7201a8"
             ],
             [
              0.3333333333333333,
              "#9c179e"
             ],
             [
              0.4444444444444444,
              "#bd3786"
             ],
             [
              0.5555555555555556,
              "#d8576b"
             ],
             [
              0.6666666666666666,
              "#ed7953"
             ],
             [
              0.7777777777777778,
              "#fb9f3a"
             ],
             [
              0.8888888888888888,
              "#fdca26"
             ],
             [
              1,
              "#f0f921"
             ]
            ],
            "type": "histogram2dcontour"
           }
          ],
          "mesh3d": [
           {
            "colorbar": {
             "outlinewidth": 0,
             "ticks": ""
            },
            "type": "mesh3d"
           }
          ],
          "parcoords": [
           {
            "line": {
             "colorbar": {
              "outlinewidth": 0,
              "ticks": ""
             }
            },
            "type": "parcoords"
           }
          ],
          "scatter": [
           {
            "marker": {
             "colorbar": {
              "outlinewidth": 0,
              "ticks": ""
             }
            },
            "type": "scatter"
           }
          ],
          "scatter3d": [
           {
            "line": {
             "colorbar": {
              "outlinewidth": 0,
              "ticks": ""
             }
            },
            "marker": {
             "colorbar": {
              "outlinewidth": 0,
              "ticks": ""
             }
            },
            "type": "scatter3d"
           }
          ],
          "scattercarpet": [
           {
            "marker": {
             "colorbar": {
              "outlinewidth": 0,
              "ticks": ""
             }
            },
            "type": "scattercarpet"
           }
          ],
          "scattergeo": [
           {
            "marker": {
             "colorbar": {
              "outlinewidth": 0,
              "ticks": ""
             }
            },
            "type": "scattergeo"
           }
          ],
          "scattergl": [
           {
            "marker": {
             "colorbar": {
              "outlinewidth": 0,
              "ticks": ""
             }
            },
            "type": "scattergl"
           }
          ],
          "scattermapbox": [
           {
            "marker": {
             "colorbar": {
              "outlinewidth": 0,
              "ticks": ""
             }
            },
            "type": "scattermapbox"
           }
          ],
          "scatterpolar": [
           {
            "marker": {
             "colorbar": {
              "outlinewidth": 0,
              "ticks": ""
             }
            },
            "type": "scatterpolar"
           }
          ],
          "scatterpolargl": [
           {
            "marker": {
             "colorbar": {
              "outlinewidth": 0,
              "ticks": ""
             }
            },
            "type": "scatterpolargl"
           }
          ],
          "scatterternary": [
           {
            "marker": {
             "colorbar": {
              "outlinewidth": 0,
              "ticks": ""
             }
            },
            "type": "scatterternary"
           }
          ],
          "surface": [
           {
            "colorbar": {
             "outlinewidth": 0,
             "ticks": ""
            },
            "colorscale": [
             [
              0,
              "#0d0887"
             ],
             [
              0.1111111111111111,
              "#46039f"
             ],
             [
              0.2222222222222222,
              "#7201a8"
             ],
             [
              0.3333333333333333,
              "#9c179e"
             ],
             [
              0.4444444444444444,
              "#bd3786"
             ],
             [
              0.5555555555555556,
              "#d8576b"
             ],
             [
              0.6666666666666666,
              "#ed7953"
             ],
             [
              0.7777777777777778,
              "#fb9f3a"
             ],
             [
              0.8888888888888888,
              "#fdca26"
             ],
             [
              1,
              "#f0f921"
             ]
            ],
            "type": "surface"
           }
          ],
          "table": [
           {
            "cells": {
             "fill": {
              "color": "#EBF0F8"
             },
             "line": {
              "color": "white"
             }
            },
            "header": {
             "fill": {
              "color": "#C8D4E3"
             },
             "line": {
              "color": "white"
             }
            },
            "type": "table"
           }
          ]
         },
         "layout": {
          "annotationdefaults": {
           "arrowcolor": "#2a3f5f",
           "arrowhead": 0,
           "arrowwidth": 1
          },
          "colorscale": {
           "diverging": [
            [
             0,
             "#8e0152"
            ],
            [
             0.1,
             "#c51b7d"
            ],
            [
             0.2,
             "#de77ae"
            ],
            [
             0.3,
             "#f1b6da"
            ],
            [
             0.4,
             "#fde0ef"
            ],
            [
             0.5,
             "#f7f7f7"
            ],
            [
             0.6,
             "#e6f5d0"
            ],
            [
             0.7,
             "#b8e186"
            ],
            [
             0.8,
             "#7fbc41"
            ],
            [
             0.9,
             "#4d9221"
            ],
            [
             1,
             "#276419"
            ]
           ],
           "sequential": [
            [
             0,
             "#0d0887"
            ],
            [
             0.1111111111111111,
             "#46039f"
            ],
            [
             0.2222222222222222,
             "#7201a8"
            ],
            [
             0.3333333333333333,
             "#9c179e"
            ],
            [
             0.4444444444444444,
             "#bd3786"
            ],
            [
             0.5555555555555556,
             "#d8576b"
            ],
            [
             0.6666666666666666,
             "#ed7953"
            ],
            [
             0.7777777777777778,
             "#fb9f3a"
            ],
            [
             0.8888888888888888,
             "#fdca26"
            ],
            [
             1,
             "#f0f921"
            ]
           ],
           "sequentialminus": [
            [
             0,
             "#0d0887"
            ],
            [
             0.1111111111111111,
             "#46039f"
            ],
            [
             0.2222222222222222,
             "#7201a8"
            ],
            [
             0.3333333333333333,
             "#9c179e"
            ],
            [
             0.4444444444444444,
             "#bd3786"
            ],
            [
             0.5555555555555556,
             "#d8576b"
            ],
            [
             0.6666666666666666,
             "#ed7953"
            ],
            [
             0.7777777777777778,
             "#fb9f3a"
            ],
            [
             0.8888888888888888,
             "#fdca26"
            ],
            [
             1,
             "#f0f921"
            ]
           ]
          },
          "colorway": [
           "#636efa",
           "#EF553B",
           "#00cc96",
           "#ab63fa",
           "#FFA15A",
           "#19d3f3",
           "#FF6692",
           "#B6E880",
           "#FF97FF",
           "#FECB52"
          ],
          "font": {
           "color": "#2a3f5f"
          },
          "geo": {
           "bgcolor": "white",
           "lakecolor": "white",
           "landcolor": "#E5ECF6",
           "showlakes": true,
           "showland": true,
           "subunitcolor": "white"
          },
          "hoverlabel": {
           "align": "left"
          },
          "hovermode": "closest",
          "mapbox": {
           "style": "light"
          },
          "paper_bgcolor": "white",
          "plot_bgcolor": "#E5ECF6",
          "polar": {
           "angularaxis": {
            "gridcolor": "white",
            "linecolor": "white",
            "ticks": ""
           },
           "bgcolor": "#E5ECF6",
           "radialaxis": {
            "gridcolor": "white",
            "linecolor": "white",
            "ticks": ""
           }
          },
          "scene": {
           "xaxis": {
            "backgroundcolor": "#E5ECF6",
            "gridcolor": "white",
            "gridwidth": 2,
            "linecolor": "white",
            "showbackground": true,
            "ticks": "",
            "zerolinecolor": "white"
           },
           "yaxis": {
            "backgroundcolor": "#E5ECF6",
            "gridcolor": "white",
            "gridwidth": 2,
            "linecolor": "white",
            "showbackground": true,
            "ticks": "",
            "zerolinecolor": "white"
           },
           "zaxis": {
            "backgroundcolor": "#E5ECF6",
            "gridcolor": "white",
            "gridwidth": 2,
            "linecolor": "white",
            "showbackground": true,
            "ticks": "",
            "zerolinecolor": "white"
           }
          },
          "shapedefaults": {
           "line": {
            "color": "#2a3f5f"
           }
          },
          "ternary": {
           "aaxis": {
            "gridcolor": "white",
            "linecolor": "white",
            "ticks": ""
           },
           "baxis": {
            "gridcolor": "white",
            "linecolor": "white",
            "ticks": ""
           },
           "bgcolor": "#E5ECF6",
           "caxis": {
            "gridcolor": "white",
            "linecolor": "white",
            "ticks": ""
           }
          },
          "title": {
           "x": 0.05
          },
          "xaxis": {
           "automargin": true,
           "gridcolor": "white",
           "linecolor": "white",
           "ticks": "",
           "zerolinecolor": "white",
           "zerolinewidth": 2
          },
          "yaxis": {
           "automargin": true,
           "gridcolor": "white",
           "linecolor": "white",
           "ticks": "",
           "zerolinecolor": "white",
           "zerolinewidth": 2
          }
         }
        },
        "xaxis": {
         "autorange": true,
         "range": [
          -5.837590379001278,
          104.92608378169558
         ],
         "type": "linear"
        },
        "yaxis": {
         "autorange": true,
         "range": [
          -84.77502241813274,
          1170.1216137234926
         ],
         "type": "linear"
        }
       }
      },
      "image/png": "[encoded data removed]",
      "text/html": [
       "<div>\n",
       "        \n",
       "        \n",
       "            <div id=\"c5d86c1a-8cff-4d13-8e28-8b29eeceaff7\" class=\"plotly-graph-div\" style=\"height:525px; width:100%;\"></div>\n",
       "            <script type=\"text/javascript\">\n",
       "                require([\"plotly\"], function(Plotly) {\n",
       "                    window.PLOTLYENV=window.PLOTLYENV || {};\n",
       "                    \n",
       "                if (document.getElementById(\"c5d86c1a-8cff-4d13-8e28-8b29eeceaff7\")) {\n",
       "                    Plotly.newPlot(\n",
       "                        'c5d86c1a-8cff-4d13-8e28-8b29eeceaff7',\n",
       "                        [{\"mode\": \"markers\", \"type\": \"scatter\", \"x\": [76.7007086033, 95.2735441552, 73.09572324930001, 46.951635457200005, 33.3137480056, 58.800128433400005, 86.4775958313, 26.1438291437, 97.67930585229999, 43.7453159626, 27.3960599569, 97.7709380144, 0.477748646463, 45.823085208500004, 54.805855416499995, 90.15264911989999, 7.250554019419999, 45.32559552, 78.0299288822, 56.99929549189999, 94.00582955040001, 26.903177355900002, 23.0527128171, 72.16206070359999, 99.03856132, 3.8567282135000003, 29.1370660814, 86.1406581482, 30.663741467199998, 45.7038082016, 20.8365297577, 57.1870229314, 35.6458427285, 19.3869531878, 21.9669393722, 68.2754384479, 0.0499320826943, 88.0160403117, 52.302680128, 30.8083679391, 36.7450495784, 32.497674786, 69.2984401147, 8.507759773010001, 70.340432818, 57.5800635973, 88.4806455787, 18.460550085799998, 55.8041981373, 16.4395710474, 11.5900497701, 46.8705089511, 84.33492545, 47.0879172063, 25.3595168427, 57.5279893076, 64.1988259571, 4.212110194609999, 54.0943345308, 74.1390699605, 73.6494046203, 36.128161214, 52.056360373500006, 47.1946296354, 38.417521012899996, 54.6207713889, 64.76835802939999, 84.4005467356, 21.4404800201, 73.2615461079, 20.1698478817, 31.4337548498, 12.5179786376, 3.61761195371, 81.25157368069999, 56.8424497509, 82.26652380659999, 37.4722110019, 84.69463400149999, 39.7685020685, 2.05616850915, 97.1247091279, 31.1291991206, 84.61264095989999, 85.95612871430001, 80.9652012247, 88.89799655290001, 58.3641047494, 50.3024480011, 12.7419734701, 77.32066625600001, 98.9646405094, 56.326625320699996, 79.83606809279999, 84.2993047538, 45.3458596295, 3.13987798949, 70.1062835334, 80.3106828908, 72.0680436903], \"y\": [663.797275569, 1014.3622816, 618.938826916, 288.012877367, 144.977555864, 412.327812022, 844.4150140239999, 89.35190956299999, 1053.20525097, 240.908778383, 115.936712225, 1034.55054041, 3.4450849898199998, 254.058885722, 353.273447055, 926.9450488110001, 30.7577367238, 241.73520386099997, 692.797188617, 382.99564716099997, 978.7182858689999, 98.22900622780001, 84.9785703587, 584.521550996, 1082.25149734, 5.3780742448300005, 122.01363019799999, 841.2975435789999, 131.606512241, 267.357505947, 52.1846807158, 388.79585513800004, 155.657694842, 87.1260781016, 83.7232155716, 530.711261039, 14.492840873399999, 843.24850174, 340.811945309, 128.06695923700002, 172.78350259099997, 147.228458255, 538.1806400280001, 18.1584427007, 559.4104667930001, 384.884606047, 875.860995014, 58.9483005575, 376.843030927, 24.9459291843, 32.6626606312, 262.885902286, 798.336107587, 278.115426472, 104.171319469, 411.57959263699996, 471.645130755, -4.60107066464, 363.848079875, 634.232884203, 614.61698055, 165.31378043, 326.302161959, 282.326194483, 199.427772234, 349.23680114, 489.50098237699996, 805.013871913, 67.0955374565, 611.057504623, 69.446653099, 138.906777891, 48.9516001981, 5.326273552169999, 731.3845794, 378.28943994300005, 748.3431383239999, 175.748739041, 800.047623475, 203.05632468599998, 6.235189147560001, 1042.6919584, 130.11366355200002, 790.864163252, 827.455642687, 738.33866824, 893.81365673, 402.88269016199996, 314.117036852, 12.968117493800001, 687.654958048, 1089.94766197, 372.340305154, 722.043849621, 798.10497093, 251.75517250599998, 4.26261828882, 550.923455067, 728.06984768, 581.130210853]}, {\"mode\": \"lines\", \"type\": \"scatter\", \"x\": [0.0499320826943, 0.477748646463, 2.05616850915, 3.13987798949, 3.61761195371, 3.8567282135000003, 4.212110194609999, 7.250554019419999, 8.507759773010001, 11.5900497701, 12.5179786376, 12.7419734701, 16.4395710474, 18.460550085799998, 19.3869531878, 20.1698478817, 20.8365297577, 21.4404800201, 21.9669393722, 23.0527128171, 25.3595168427, 26.1438291437, 26.903177355900002, 27.3960599569, 29.1370660814, 30.663741467199998, 30.8083679391, 31.1291991206, 31.4337548498, 32.497674786, 33.3137480056, 35.6458427285, 36.128161214, 36.7450495784, 37.4722110019, 38.417521012899996, 39.7685020685, 43.7453159626, 45.32559552, 45.3458596295, 45.7038082016, 45.823085208500004, 46.8705089511, 46.951635457200005, 47.0879172063, 47.1946296354, 50.3024480011, 52.056360373500006, 52.302680128, 54.0943345308, 54.6207713889, 54.805855416499995, 55.8041981373, 56.326625320699996, 56.8424497509, 56.99929549189999, 57.1870229314, 57.5279893076, 57.5800635973, 58.3641047494, 58.800128433400005, 64.1988259571, 64.76835802939999, 68.2754384479, 69.2984401147, 70.1062835334, 70.340432818, 72.0680436903, 72.16206070359999, 73.09572324930001, 73.2615461079, 73.6494046203, 74.1390699605, 76.7007086033, 77.32066625600001, 78.0299288822, 79.83606809279999, 80.3106828908, 80.9652012247, 81.25157368069999, 82.26652380659999, 84.2993047538, 84.33492545, 84.4005467356, 84.61264095989999, 84.69463400149999, 85.95612871430001, 86.1406581482, 86.4775958313, 88.0160403117, 88.4806455787, 88.89799655290001, 90.15264911989999, 94.00582955040001, 95.2735441552, 97.1247091279, 97.67930585229999, 97.7709380144, 98.9646405094, 99.03856132], \"y\": [4.328202929773115, 4.780830648974063, 6.766246953450955, 8.416784721927831, 9.218704737187187, 9.63715862348344, 10.280124258569716, 16.804597753889645, 20.042189586988545, 29.31222865107397, 32.47368576015394, 33.262540720098336, 47.729070804573595, 56.78726476117076, 61.21148076648724, 65.08365258882509, 68.4773103041412, 71.62808699081002, 74.43388136106229, 80.39495317438221, 93.83928591335561, 98.65186488612633, 103.42803188790708, 106.58966098585259, 118.14489636133182, 128.77455610919023, 129.80561412431996, 132.10773105447063, 134.31203745454394, 142.15749007566674, 148.328130033532, 166.6933574478577, 170.6268364499614, 175.72532997340548, 181.83257447248627, 189.92948890447803, 201.81015636845183, 238.89332491171666, 254.503999717364, 254.7074081698474, 258.31393486903636, 259.5213860530484, 270.2462800409784, 271.0860797882689, 272.4997832968502, 273.60933589023665, 306.9183656650645, 326.56591927564745, 329.3743061540155, 350.1653885061219, 356.39594049382214, 358.59958905938214, 370.60375749884554, 376.9646170054293, 383.29843465142903, 385.2348565446108, 387.55898857302446, 391.79823046022454, 392.4477100597878, 402.29171166020654, 407.81918605290275, 479.396433417967, 487.2860371592219, 537.2930865749158, 552.3416019482706, 564.3724431433061, 567.8838257481586, 594.1292866985251, 595.5746320565906, 610.0236263075996, 612.6079978264057, 618.6742176288254, 626.3755306190658, 667.4428745357402, 677.5783211809035, 689.2676958814682, 719.4872980079439, 727.5361974499357, 738.709666687548, 743.6252539818172, 761.1784595737082, 796.9518569259225, 797.5860586077458, 798.755061704794, 802.5392583241795, 804.004584687476, 826.7180300675584, 830.06709788417, 836.1997615687255, 864.4886804617256, 873.1245491796318, 880.9187445041222, 904.5588552515901, 979.1209251331979, 1004.2988975970442, 1041.639874541089, 1052.959895145356, 1054.8361223401105, 1079.4307887304383, 1080.9631640987436]}],\n",
       "                        {\"template\": {\"data\": {\"bar\": [{\"error_x\": {\"color\": \"#2a3f5f\"}, \"error_y\": {\"color\": \"#2a3f5f\"}, \"marker\": {\"line\": {\"color\": \"#E5ECF6\", \"width\": 0.5}}, \"type\": \"bar\"}], \"barpolar\": [{\"marker\": {\"line\": {\"color\": \"#E5ECF6\", \"width\": 0.5}}, \"type\": \"barpolar\"}], \"carpet\": [{\"aaxis\": {\"endlinecolor\": \"#2a3f5f\", \"gridcolor\": \"white\", \"linecolor\": \"white\", \"minorgridcolor\": \"white\", \"startlinecolor\": \"#2a3f5f\"}, \"baxis\": {\"endlinecolor\": \"#2a3f5f\", \"gridcolor\": \"white\", \"linecolor\": \"white\", \"minorgridcolor\": \"white\", \"startlinecolor\": \"#2a3f5f\"}, \"type\": \"carpet\"}], \"choropleth\": [{\"colorbar\": {\"outlinewidth\": 0, \"ticks\": \"\"}, \"type\": \"choropleth\"}], \"contour\": [{\"colorbar\": {\"outlinewidth\": 0, \"ticks\": \"\"}, \"colorscale\": [[0.0, \"#0d0887\"], [0.1111111111111111, \"#46039f\"], [0.2222222222222222, \"#7201a8\"], [0.3333333333333333, \"#9c179e\"], [0.4444444444444444, \"#bd3786\"], [0.5555555555555556, \"#d8576b\"], [0.6666666666666666, \"#ed7953\"], [0.7777777777777778, \"#fb9f3a\"], [0.8888888888888888, \"#fdca26\"], [1.0, \"#f0f921\"]], \"type\": \"contour\"}], \"contourcarpet\": [{\"colorbar\": {\"outlinewidth\": 0, \"ticks\": \"\"}, \"type\": \"contourcarpet\"}], \"heatmap\": [{\"colorbar\": {\"outlinewidth\": 0, \"ticks\": \"\"}, \"colorscale\": [[0.0, \"#0d0887\"], [0.1111111111111111, \"#46039f\"], [0.2222222222222222, \"#7201a8\"], [0.3333333333333333, \"#9c179e\"], [0.4444444444444444, \"#bd3786\"], [0.5555555555555556, \"#d8576b\"], [0.6666666666666666, \"#ed7953\"], [0.7777777777777778, \"#fb9f3a\"], [0.8888888888888888, \"#fdca26\"], [1.0, \"#f0f921\"]], \"type\": \"heatmap\"}], \"heatmapgl\": [{\"colorbar\": {\"outlinewidth\": 0, \"ticks\": \"\"}, \"colorscale\": [[0.0, \"#0d0887\"], [0.1111111111111111, \"#46039f\"], [0.2222222222222222, \"#7201a8\"], [0.3333333333333333, \"#9c179e\"], [0.4444444444444444, \"#bd3786\"], [0.5555555555555556, \"#d8576b\"], [0.6666666666666666, \"#ed7953\"], [0.7777777777777778, \"#fb9f3a\"], [0.8888888888888888, \"#fdca26\"], [1.0, \"#f0f921\"]], \"type\": \"heatmapgl\"}], \"histogram\": [{\"marker\": {\"colorbar\": {\"outlinewidth\": 0, \"ticks\": \"\"}}, \"type\": \"histogram\"}], \"histogram2d\": [{\"colorbar\": {\"outlinewidth\": 0, \"ticks\": \"\"}, \"colorscale\": [[0.0, \"#0d0887\"], [0.1111111111111111, \"#46039f\"], [0.2222222222222222, \"#7201a8\"], [0.3333333333333333, \"#9c179e\"], [0.4444444444444444, \"#bd3786\"], [0.5555555555555556, \"#d8576b\"], [0.6666666666666666, \"#ed7953\"], [0.7777777777777778, \"#fb9f3a\"], [0.8888888888888888, \"#fdca26\"], [1.0, \"#f0f921\"]], \"type\": \"histogram2d\"}], \"histogram2dcontour\": [{\"colorbar\": {\"outlinewidth\": 0, \"ticks\": \"\"}, \"colorscale\": [[0.0, \"#0d0887\"], [0.1111111111111111, \"#46039f\"], [0.2222222222222222, \"#7201a8\"], [0.3333333333333333, \"#9c179e\"], [0.4444444444444444, \"#bd3786\"], [0.5555555555555556, \"#d8576b\"], [0.6666666666666666, \"#ed7953\"], [0.7777777777777778, \"#fb9f3a\"], [0.8888888888888888, \"#fdca26\"], [1.0, \"#f0f921\"]], \"type\": \"histogram2dcontour\"}], \"mesh3d\": [{\"colorbar\": {\"outlinewidth\": 0, \"ticks\": \"\"}, \"type\": \"mesh3d\"}], \"parcoords\": [{\"line\": {\"colorbar\": {\"outlinewidth\": 0, \"ticks\": \"\"}}, \"type\": \"parcoords\"}], \"scatter\": [{\"marker\": {\"colorbar\": {\"outlinewidth\": 0, \"ticks\": \"\"}}, \"type\": \"scatter\"}], \"scatter3d\": [{\"line\": {\"colorbar\": {\"outlinewidth\": 0, \"ticks\": \"\"}}, \"marker\": {\"colorbar\": {\"outlinewidth\": 0, \"ticks\": \"\"}}, \"type\": \"scatter3d\"}], \"scattercarpet\": [{\"marker\": {\"colorbar\": {\"outlinewidth\": 0, \"ticks\": \"\"}}, \"type\": \"scattercarpet\"}], \"scattergeo\": [{\"marker\": {\"colorbar\": {\"outlinewidth\": 0, \"ticks\": \"\"}}, \"type\": \"scattergeo\"}], \"scattergl\": [{\"marker\": {\"colorbar\": {\"outlinewidth\": 0, \"ticks\": \"\"}}, \"type\": \"scattergl\"}], \"scattermapbox\": [{\"marker\": {\"colorbar\": {\"outlinewidth\": 0, \"ticks\": \"\"}}, \"type\": \"scattermapbox\"}], \"scatterpolar\": [{\"marker\": {\"colorbar\": {\"outlinewidth\": 0, \"ticks\": \"\"}}, \"type\": \"scatterpolar\"}], \"scatterpolargl\": [{\"marker\": {\"colorbar\": {\"outlinewidth\": 0, \"ticks\": \"\"}}, \"type\": \"scatterpolargl\"}], \"scatterternary\": [{\"marker\": {\"colorbar\": {\"outlinewidth\": 0, \"ticks\": \"\"}}, \"type\": \"scatterternary\"}], \"surface\": [{\"colorbar\": {\"outlinewidth\": 0, \"ticks\": \"\"}, \"colorscale\": [[0.0, \"#0d0887\"], [0.1111111111111111, \"#46039f\"], [0.2222222222222222, \"#7201a8\"], [0.3333333333333333, \"#9c179e\"], [0.4444444444444444, \"#bd3786\"], [0.5555555555555556, \"#d8576b\"], [0.6666666666666666, \"#ed7953\"], [0.7777777777777778, \"#fb9f3a\"], [0.8888888888888888, \"#fdca26\"], [1.0, \"#f0f921\"]], \"type\": \"surface\"}], \"table\": [{\"cells\": {\"fill\": {\"color\": \"#EBF0F8\"}, \"line\": {\"color\": \"white\"}}, \"header\": {\"fill\": {\"color\": \"#C8D4E3\"}, \"line\": {\"color\": \"white\"}}, \"type\": \"table\"}]}, \"layout\": {\"annotationdefaults\": {\"arrowcolor\": \"#2a3f5f\", \"arrowhead\": 0, \"arrowwidth\": 1}, \"colorscale\": {\"diverging\": [[0, \"#8e0152\"], [0.1, \"#c51b7d\"], [0.2, \"#de77ae\"], [0.3, \"#f1b6da\"], [0.4, \"#fde0ef\"], [0.5, \"#f7f7f7\"], [0.6, \"#e6f5d0\"], [0.7, \"#b8e186\"], [0.8, \"#7fbc41\"], [0.9, \"#4d9221\"], [1, \"#276419\"]], \"sequential\": [[0.0, \"#0d0887\"], [0.1111111111111111, \"#46039f\"], [0.2222222222222222, \"#7201a8\"], [0.3333333333333333, \"#9c179e\"], [0.4444444444444444, \"#bd3786\"], [0.5555555555555556, \"#d8576b\"], [0.6666666666666666, \"#ed7953\"], [0.7777777777777778, \"#fb9f3a\"], [0.8888888888888888, \"#fdca26\"], [1.0, \"#f0f921\"]], \"sequentialminus\": [[0.0, \"#0d0887\"], [0.1111111111111111, \"#46039f\"], [0.2222222222222222, \"#7201a8\"], [0.3333333333333333, \"#9c179e\"], [0.4444444444444444, \"#bd3786\"], [0.5555555555555556, \"#d8576b\"], [0.6666666666666666, \"#ed7953\"], [0.7777777777777778, \"#fb9f3a\"], [0.8888888888888888, \"#fdca26\"], [1.0, \"#f0f921\"]]}, \"colorway\": [\"#636efa\", \"#EF553B\", \"#00cc96\", \"#ab63fa\", \"#FFA15A\", \"#19d3f3\", \"#FF6692\", \"#B6E880\", \"#FF97FF\", \"#FECB52\"], \"font\": {\"color\": \"#2a3f5f\"}, \"geo\": {\"bgcolor\": \"white\", \"lakecolor\": \"white\", \"landcolor\": \"#E5ECF6\", \"showlakes\": true, \"showland\": true, \"subunitcolor\": \"white\"}, \"hoverlabel\": {\"align\": \"left\"}, \"hovermode\": \"closest\", \"mapbox\": {\"style\": \"light\"}, \"paper_bgcolor\": \"white\", \"plot_bgcolor\": \"#E5ECF6\", \"polar\": {\"angularaxis\": {\"gridcolor\": \"white\", \"linecolor\": \"white\", \"ticks\": \"\"}, \"bgcolor\": \"#E5ECF6\", \"radialaxis\": {\"gridcolor\": \"white\", \"linecolor\": \"white\", \"ticks\": \"\"}}, \"scene\": {\"xaxis\": {\"backgroundcolor\": \"#E5ECF6\", \"gridcolor\": \"white\", \"gridwidth\": 2, \"linecolor\": \"white\", \"showbackground\": true, \"ticks\": \"\", \"zerolinecolor\": \"white\"}, \"yaxis\": {\"backgroundcolor\": \"#E5ECF6\", \"gridcolor\": \"white\", \"gridwidth\": 2, \"linecolor\": \"white\", \"showbackground\": true, \"ticks\": \"\", \"zerolinecolor\": \"white\"}, \"zaxis\": {\"backgroundcolor\": \"#E5ECF6\", \"gridcolor\": \"white\", \"gridwidth\": 2, \"linecolor\": \"white\", \"showbackground\": true, \"ticks\": \"\", \"zerolinecolor\": \"white\"}}, \"shapedefaults\": {\"line\": {\"color\": \"#2a3f5f\"}}, \"ternary\": {\"aaxis\": {\"gridcolor\": \"white\", \"linecolor\": \"white\", \"ticks\": \"\"}, \"baxis\": {\"gridcolor\": \"white\", \"linecolor\": \"white\", \"ticks\": \"\"}, \"bgcolor\": \"#E5ECF6\", \"caxis\": {\"gridcolor\": \"white\", \"linecolor\": \"white\", \"ticks\": \"\"}}, \"title\": {\"x\": 0.05}, \"xaxis\": {\"automargin\": true, \"gridcolor\": \"white\", \"linecolor\": \"white\", \"ticks\": \"\", \"zerolinecolor\": \"white\", \"zerolinewidth\": 2}, \"yaxis\": {\"automargin\": true, \"gridcolor\": \"white\", \"linecolor\": \"white\", \"ticks\": \"\", \"zerolinecolor\": \"white\", \"zerolinewidth\": 2}}}},\n",
       "                        {\"responsive\": true}\n",
       "                    ).then(function(){\n",
       "                            \n",
       "var gd = document.getElementById('c5d86c1a-8cff-4d13-8e28-8b29eeceaff7');\n",
       "var x = new MutationObserver(function (mutations, observer) {{\n",
       "        var display = window.getComputedStyle(gd).display;\n",
       "        if (!display || display === 'none') {{\n",
       "            console.log([gd, 'removed!']);\n",
       "            Plotly.purge(gd);\n",
       "            observer.disconnect();\n",
       "        }}\n",
       "}});\n",
       "\n",
       "// Listen for the removal of the full notebook cells\n",
       "var notebookContainer = gd.closest('#notebook-container');\n",
       "if (notebookContainer) {{\n",
       "    x.observe(notebookContainer, {childList: true});\n",
       "}}\n",
       "\n",
       "// Listen for the clearing of the current output cell\n",
       "var outputEl = gd.closest('.output');\n",
       "if (outputEl) {{\n",
       "    x.observe(outputEl, {childList: true});\n",
       "}}\n",
       "\n",
       "                        })\n",
       "                };\n",
       "                });\n",
       "            </script>\n",
       "        </div>"
      ]
     },
     "metadata": {},
     "output_type": "display_data"
    }
   ],
   "source": [
    "w= np.linalg.solve(np.matmul(X.T,X),np.matmul(X.T,Y))\n",
    "Y_hat = np.matmul(X,w)\n",
    "fig = go.Figure()\n",
    "fig.add_trace(go.Scatter(x=X[:,1],y=Y,mode = 'markers'))\n",
    "fig.add_trace(go.Scatter(x=np.sort(X[:,1]),y=np.sort(Y_hat),mode = 'lines'))\n",
    "fig.show()"
   ]
  },
  {
   "cell_type": "code",
   "execution_count": 5,
   "metadata": {},
   "outputs": [
    {
     "name": "stdout",
     "output_type": "stream",
     "text": [
      "R squared 0.9991412296366858\n"
     ]
    }
   ],
   "source": [
    "SS_res = np.sum((Y- Y_hat)**2)\n",
    "SS_tot = np.sum((Y- np.mean(Y))**2)\n",
    "r_squared = 1 - SS_res/SS_tot\n",
    "print('R squared {}'.format(r_squared))"
   ]
  }
 ],
 "metadata": {
  "kernelspec": {
   "display_name": "Python 3",
   "language": "python",
   "name": "python3"
  },
  "language_info": {
   "codemirror_mode": {
    "name": "ipython",
    "version": 3
   },
   "file_extension": ".py",
   "mimetype": "text/x-python",
   "name": "python",
   "nbconvert_exporter": "python",
   "pygments_lexer": "ipython3",
   "version": "3.6.8"
  }
 },
 "nbformat": 4,
 "nbformat_minor": 2
}
