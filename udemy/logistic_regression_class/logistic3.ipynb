{
 "cells": [
  {
   "cell_type": "code",
   "execution_count": 1,
   "metadata": {},
   "outputs": [
    {
     "data": {
      "text/html": [
       "        <script type=\"text/javascript\">\n",
       "        window.PlotlyConfig = {MathJaxConfig: 'local'};\n",
       "        if (window.MathJax) {MathJax.Hub.Config({SVG: {font: \"STIX-Web\"}});}\n",
       "        if (typeof require !== 'undefined') {\n",
       "        require.undef(\"plotly\");\n",
       "        requirejs.config({\n",
       "            paths: {\n",
       "                'plotly': ['https://cdn.plot.ly/plotly-latest.min']\n",
       "            }\n",
       "        });\n",
       "        require(['plotly'], function(Plotly) {\n",
       "            window._Plotly = Plotly;\n",
       "        });\n",
       "        }\n",
       "        </script>\n",
       "        "
      ]
     },
     "metadata": {},
     "output_type": "display_data"
    }
   ],
   "source": [
    "import numpy as np\n",
    "import pandas as pd\n",
    "np.random.seed(1)\n",
    "from plotly.offline import init_notebook_mode\n",
    "from sklearn.metrics import log_loss\n",
    "init_notebook_mode(connected=True)"
   ]
  },
  {
   "cell_type": "code",
   "execution_count": 2,
   "metadata": {},
   "outputs": [],
   "source": [
    "N =100\n",
    "D = 2\n",
    "X=pd.DataFrame(np.hstack([np.ones([N, 1]),np.random.randn(N,D)]))\n",
    "X.iloc[:50,[1,2]] = X.iloc[:50,[1,2]] -2\n",
    "X.iloc[50:,[1,2]] = X.iloc[50:,[1,2]] +2"
   ]
  },
  {
   "cell_type": "code",
   "execution_count": 3,
   "metadata": {},
   "outputs": [],
   "source": [
    "# Random weights \n",
    "w = np.random.randn(D+1,1)"
   ]
  },
  {
   "cell_type": "code",
   "execution_count": 4,
   "metadata": {},
   "outputs": [],
   "source": [
    "y_true = np.hstack((np.zeros(50),np.ones(50)))\n",
    "z= X.dot(w)\n",
    "y_pred = 1/(1+ np.exp(-z))\n"
   ]
  },
  {
   "cell_type": "code",
   "execution_count": 5,
   "metadata": {},
   "outputs": [
    {
     "data": {
      "text/plain": [
       "53.94476269944936"
      ]
     },
     "execution_count": 5,
     "metadata": {},
     "output_type": "execute_result"
    }
   ],
   "source": [
    "log_loss(y_true,y_pred,normalize=False)"
   ]
  },
  {
   "cell_type": "code",
   "execution_count": 6,
   "metadata": {},
   "outputs": [
    {
     "data": {
      "text/plain": [
       "0.014310702894285338"
      ]
     },
     "execution_count": 6,
     "metadata": {},
     "output_type": "execute_result"
    }
   ],
   "source": [
    "### closed form solution\n",
    "sigma = np.array([[1,0],[0,1]])\n",
    "sigma_inv = np.linalg.inv(sigma)\n",
    "mu0 = np.array([-2,-2])\n",
    "mu1 = np.array([2,2])\n",
    "w = (mu1 - mu0).dot(sigma_inv)\n",
    "b = 0.5 * np.linalg.multi_dot([mu0.T,sigma_inv,mu0]) -  0.5 * np.linalg.multi_dot([mu1.T,sigma_inv,mu1])\n",
    "w_cal = np.hstack([b,w])\n",
    "\n",
    "\n",
    "z= X.dot(w_cal)\n",
    "y_pred = 1/(1+ np.exp(-z))\n",
    "log_loss(y_true,y_pred,normalize=False)"
   ]
  },
  {
   "cell_type": "code",
   "execution_count": 7,
   "metadata": {},
   "outputs": [],
   "source": [
    "# Random weights \n",
    "w_0 = np.random.randn(D+1,1)\n",
    "l = 0.01\n",
    "\n",
    "\n",
    "for i in range(1000):\n",
    "\n",
    "\n",
    "    z = X.dot(w_0)\n",
    "\n",
    "    y_pred = 1/(1+ np.exp(-z))\n",
    "\n",
    "    w_new = w_0 +(l*(y_true - y_pred.values.reshape(-1)).dot(X)).reshape(D+1,1)\n",
    "    w_0 = w_new\n",
    "    "
   ]
  },
  {
   "cell_type": "code",
   "execution_count": 8,
   "metadata": {},
   "outputs": [
    {
     "data": {
      "text/plain": [
       "array([[0.14462272],\n",
       "       [3.30846546],\n",
       "       [2.66265347]])"
      ]
     },
     "execution_count": 8,
     "metadata": {},
     "output_type": "execute_result"
    }
   ],
   "source": [
    "w_0 "
   ]
  }
 ],
 "metadata": {
  "kernelspec": {
   "display_name": "Python 3",
   "language": "python",
   "name": "python3"
  },
  "language_info": {
   "codemirror_mode": {
    "name": "ipython",
    "version": 3
   },
   "file_extension": ".py",
   "mimetype": "text/x-python",
   "name": "python",
   "nbconvert_exporter": "python",
   "pygments_lexer": "ipython3",
   "version": "3.6.8"
  }
 },
 "nbformat": 4,
 "nbformat_minor": 2
}
