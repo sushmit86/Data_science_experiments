{
 "cells": [
  {
   "cell_type": "code",
   "execution_count": 1,
   "metadata": {},
   "outputs": [],
   "source": [
    "import numpy as np\n",
    "np.random.seed(1)"
   ]
  },
  {
   "cell_type": "code",
   "execution_count": 2,
   "metadata": {},
   "outputs": [
    {
     "name": "stdout",
     "output_type": "stream",
     "text": [
      "[0.78271954 0.44207164 0.83290962 0.81227903 0.50055853 0.87678546\n",
      " 0.38921909 0.75984484 0.48766864 0.33318517 0.12439218 0.5148662\n",
      " 0.67390405 0.50601166 0.28499025 0.32131964 0.37945817 0.27951525\n",
      " 0.18948478 0.6340318  0.48504617 0.1225805  0.49979345 0.19394965\n",
      " 0.34323223 0.51113212 0.241242   0.28846115 0.44198377 0.34000491\n",
      " 0.1509716  0.54720848 0.51103768 0.41994225 0.89892217 0.21296042\n",
      " 0.31828135 0.73033079 0.24624013 0.34530037 0.38433451 0.38278952\n",
      " 0.42448288 0.23761248 0.28178761 0.61843772 0.41315121 0.47616677\n",
      " 0.32987946 0.21344733 0.18879455 0.40079079 0.19808024 0.67822259\n",
      " 0.34556691 0.15322204 0.68560972 0.65155417 0.61675421 0.57279143\n",
      " 0.50367866 0.38760086 0.06742288 0.67923303 0.13301664 0.44760068\n",
      " 0.15135367 0.64634552 0.66184992 0.55815431 0.37815176 0.47330749\n",
      " 0.48949506 0.33526399 0.35592303 0.67099889 0.31547809 0.50478146\n",
      " 0.39022546 0.56079385 0.43380748 0.49273467 0.52632944 0.57243583\n",
      " 0.92205524 0.19141342 0.86084009 0.44086876 0.70220179 0.58402761\n",
      " 0.16440882 0.32883939 0.46387776 0.48187603 0.4679199  0.58600624\n",
      " 0.63270015 0.74217423 0.46483548 0.42068917]\n"
     ]
    }
   ],
   "source": [
    "N = 100\n",
    "D = 2\n",
    "X = np.random.randn(N,D)\n",
    "ones = np.ones(N)\n",
    "ones = ones.reshape(N,-1)\n",
    "Xb = np.hstack((ones,X))\n",
    "w = np.random.randn(D+1)\n",
    "w = w.reshape(D+1,-1)\n",
    "#res= np.matmul(w.T,Xb.T)\n",
    "res= np.matmul(Xb,w)\n",
    "sigmoid_res = 1/(1+ np.exp(-res))\n",
    "sigmoid_res = sigmoid_res.reshape(-1)\n",
    "print(sigmoid_res)"
   ]
  },
  {
   "cell_type": "code",
   "execution_count": 1,
   "metadata": {},
   "outputs": [
    {
     "data": {
      "text/plain": [
       "46.66666666666667"
      ]
     },
     "execution_count": 1,
     "metadata": {},
     "output_type": "execute_result"
    }
   ],
   "source": []
  }
 ],
 "metadata": {
  "kernelspec": {
   "display_name": "Python 3",
   "language": "python",
   "name": "python3"
  },
  "language_info": {
   "codemirror_mode": {
    "name": "ipython",
    "version": 3
   },
   "file_extension": ".py",
   "mimetype": "text/x-python",
   "name": "python",
   "nbconvert_exporter": "python",
   "pygments_lexer": "ipython3",
   "version": "3.6.8"
  }
 },
 "nbformat": 4,
 "nbformat_minor": 2
}
