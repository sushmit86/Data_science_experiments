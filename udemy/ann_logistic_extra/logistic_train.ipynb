{
 "cells": [
  {
   "cell_type": "code",
   "execution_count": 2,
   "metadata": {},
   "outputs": [],
   "source": [
    "import numpy as np\n",
    "from process import get_binary_data\n",
    "import pandas as pd\n",
    "from sklearn.preprocessing import StandardScaler\n",
    "import scipy as sc\n",
    "scaler = StandardScaler()\n",
    "np.random.seed(1)"
   ]
  },
  {
   "cell_type": "code",
   "execution_count": 2,
   "metadata": {},
   "outputs": [
    {
     "data": {
      "text/plain": [
       "is_mobile                 int64\n",
       "n_products_viewed         int64\n",
       "visit_duration          float64\n",
       "is_returning_visitor      int64\n",
       "time_of_day               int64\n",
       "user_action               int64\n",
       "dtype: object"
      ]
     },
     "metadata": {},
     "output_type": "display_data"
    }
   ],
   "source": [
    "df_data = pd.read_csv('ecommerce_data.csv')\n",
    "df_data.head()\n",
    "display(df_data.dtypes)"
   ]
  },
  {
   "cell_type": "code",
   "execution_count": 3,
   "metadata": {},
   "outputs": [
    {
     "name": "stderr",
     "output_type": "stream",
     "text": [
      "/anaconda3/lib/python3.6/site-packages/sklearn/preprocessing/data.py:645: DataConversionWarning: Data with input dtype int64, float64 were all converted to float64 by StandardScaler.\n",
      "  return self.partial_fit(X, y)\n",
      "/anaconda3/lib/python3.6/site-packages/sklearn/base.py:464: DataConversionWarning: Data with input dtype int64, float64 were all converted to float64 by StandardScaler.\n",
      "  return self.fit(X, **fit_params).transform(X)\n",
      "/anaconda3/lib/python3.6/site-packages/sklearn/preprocessing/data.py:645: DataConversionWarning: Data with input dtype int64, float64 were all converted to float64 by StandardScaler.\n",
      "  return self.partial_fit(X, y)\n",
      "/anaconda3/lib/python3.6/site-packages/sklearn/base.py:464: DataConversionWarning: Data with input dtype int64, float64 were all converted to float64 by StandardScaler.\n",
      "  return self.fit(X, **fit_params).transform(X)\n"
     ]
    },
    {
     "data": {
      "text/plain": [
       "(321, 10)"
      ]
     },
     "metadata": {},
     "output_type": "display_data"
    },
    {
     "data": {
      "text/plain": [
       "(321, 9)"
      ]
     },
     "metadata": {},
     "output_type": "display_data"
    },
    {
     "data": {
      "text/plain": [
       "(77, 10)"
      ]
     },
     "metadata": {},
     "output_type": "display_data"
    },
    {
     "data": {
      "text/plain": [
       "(77, 9)"
      ]
     },
     "metadata": {},
     "output_type": "display_data"
    }
   ],
   "source": [
    "df_data['time_of_day'] = pd.Categorical(df_data['time_of_day'])\n",
    "X_transformed = pd.get_dummies(df_data)\n",
    "X_transformed.insert(0,'bias',1)\n",
    "# split train and test\n",
    "Xtrain = X_transformed.iloc[:-100,].copy()\n",
    "Xtest = X_transformed.iloc[-100:,].copy()\n",
    "Xtrain[['n_products_viewed', 'visit_duration']] = scaler.fit_transform(Xtrain[['n_products_viewed', 'visit_duration']])\n",
    "Xtest[['n_products_viewed', 'visit_duration']] = scaler.fit_transform(Xtest[['n_products_viewed', 'visit_duration']])\n",
    "X2_train = Xtrain[Xtrain.user_action <= 1].copy()\n",
    "display(X2_train.shape)\n",
    "Y2_train = X2_train.user_action\n",
    "X2_train.drop(['user_action'],axis =1,inplace =True)\n",
    "display(X2_train.shape)\n",
    "\n",
    "\n",
    "X2_test = Xtest[Xtest.user_action <= 1].copy()\n",
    "display(X2_test.shape)\n",
    "Y2_test = X2_test.user_action\n",
    "X2_test.drop(['user_action'],axis =1,inplace =True)\n",
    "display(X2_test.shape)\n"
   ]
  },
  {
   "cell_type": "code",
   "execution_count": 4,
   "metadata": {},
   "outputs": [],
   "source": [
    "test_costs = []\n",
    "tran_costs = []\n",
    "w_0 = np.random.randn(X2_train.shape[1] -1)\n",
    "w_0=np.insert(w_0, 0, 0)\n",
    "l = 0.001\n",
    "for i in range(10000):\n",
    "    y_pred = sc.special.expit(X2_train.dot(w_0)).values\n",
    "    w_new = w_0 -(l*(y_pred  - Y2_train ).dot(X2_train))\n",
    "    w_0 = w_new"
   ]
  }
 ],
 "metadata": {
  "kernelspec": {
   "display_name": "Python 3",
   "language": "python",
   "name": "python3"
  },
  "language_info": {
   "codemirror_mode": {
    "name": "ipython",
    "version": 3
   },
   "file_extension": ".py",
   "mimetype": "text/x-python",
   "name": "python",
   "nbconvert_exporter": "python",
   "pygments_lexer": "ipython3",
   "version": "3.6.8"
  }
 },
 "nbformat": 4,
 "nbformat_minor": 2
}
