{
 "cells": [
  {
   "cell_type": "code",
   "execution_count": 1,
   "metadata": {},
   "outputs": [],
   "source": [
    "import numpy as np\n",
    "import pandas as pd\n",
    "np.random.seed(1)\n",
    "from process import get_data\n",
    "from scipy.special import expit,softmax\n",
    "from sklearn.metrics import accuracy_score\n",
    "X, Y, _, _ = get_data()\n",
    "# so scripts from other folders can import this file\n"
   ]
  },
  {
   "cell_type": "code",
   "execution_count": 2,
   "metadata": {},
   "outputs": [
    {
     "name": "stdout",
     "output_type": "stream",
     "text": [
      "[0.20013703 0.37740283 0.10170537 0.32075477]\n",
      "accuracy_score 0.3\n"
     ]
    }
   ],
   "source": [
    "dim = X.shape[1]\n",
    "hidden_layer = 5\n",
    "no_of_classes = len(np.unique(Y))\n",
    "\n",
    "W1 = np.random.randn(dim,hidden_layer)\n",
    "b1 = np.zeros(hidden_layer)\n",
    "\n",
    "W2 = np.random.randn(hidden_layer,no_of_classes)\n",
    "b2 = np.zeros(no_of_classes)\n",
    "\n",
    "a1 = X.dot(W1) + b1\n",
    "a2 = np.tanh(a1)\n",
    "output = softmax(a2.dot(W2) + b2,axis=1)\n",
    "print(output[0])\n",
    "Y_pred = np.argmax(output,axis=1)\n",
    "print('accuracy_score', accuracy_score(Y,Y_pred))"
   ]
  },
  {
   "cell_type": "code",
   "execution_count": 5,
   "metadata": {},
   "outputs": [
    {
     "data": {
      "text/plain": [
       "226.83000000000004"
      ]
     },
     "execution_count": 5,
     "metadata": {},
     "output_type": "execute_result"
    }
   ],
   "source": []
  }
 ],
 "metadata": {
  "file_extension": ".py",
  "kernelspec": {
   "display_name": "Python [conda env:root] *",
   "language": "python",
   "name": "conda-root-py"
  },
  "language_info": {
   "codemirror_mode": {
    "name": "ipython",
    "version": 3
   },
   "file_extension": ".py",
   "mimetype": "text/x-python",
   "name": "python",
   "nbconvert_exporter": "python",
   "pygments_lexer": "ipython3",
   "version": "3.6.8"
  },
  "mimetype": "text/x-python",
  "name": "python",
  "npconvert_exporter": "python",
  "pygments_lexer": "ipython3",
  "version": 3
 },
 "nbformat": 4,
 "nbformat_minor": 2
}
