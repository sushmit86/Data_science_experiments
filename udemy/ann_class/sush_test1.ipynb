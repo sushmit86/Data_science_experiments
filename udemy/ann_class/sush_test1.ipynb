{
 "cells": [
  {
   "cell_type": "code",
   "execution_count": null,
   "metadata": {},
   "outputs": [],
   "source": [
    "import pandas as pd\n",
    "print(5)"
   ]
  },
  {
   "cell_type": "code",
   "execution_count": 12,
   "metadata": {},
   "outputs": [],
   "source": [
    "import numpy as np\n",
    "import pandas as pd\n",
    "import plotly.express as px\n",
    "import plotly.graph_objects as go\n",
    "\n",
    "### Exercise 6.19\n",
    "\n",
    "y = np.linspace(0, np.pi/2,100)\n",
    "x_plot1 = np.arcsinh(1/np.cos(y))\n",
    "\n",
    "\n",
    "\n",
    "y = np.linspace(0.1, np.pi/2,100)\n",
    "x_plot2 = np.arccosh(1/np.sin(y))\n",
    "\n",
    "\n",
    "\n",
    "fig = go.Figure()\n",
    "fig.add_trace(go.Scatter(x=x_plot1,y=y,mode ='markers'))\n",
    "fig.add_trace(go.Scatter(x=x_plot2,y=y,mode ='markers'))\n",
    "fig.show()"
   ]
  }
 ],
 "metadata": {
  "kernelspec": {
   "display_name": "Python 3",
   "language": "python",
   "name": "python3"
  },
  "language_info": {
   "codemirror_mode": {
    "name": "ipython",
    "version": 3
   },
   "file_extension": ".py",
   "mimetype": "text/x-python",
   "name": "python",
   "nbconvert_exporter": "python",
   "pygments_lexer": "ipython3",
   "version": "3.6.8"
  }
 },
 "nbformat": 4,
 "nbformat_minor": 2
}
