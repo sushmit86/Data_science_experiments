{
 "nbformat": 4,
 "nbformat_minor": 2,
 "metadata": {
  "language_info": {
   "name": "python",
   "codemirror_mode": {
    "name": "ipython",
    "version": 3
   },
   "version": "3.6.8"
  },
  "orig_nbformat": 2,
  "file_extension": ".py",
  "mimetype": "text/x-python",
  "name": "python",
  "npconvert_exporter": "python",
  "pygments_lexer": "ipython3",
  "version": 3
 },
 "cells": [
  {
   "source": [
    "import pandas as pd\n",
    "import numpy as np\n",
    "from scipy.special import softmax\n",
    "np.random.seed(1)"
   ],
   "cell_type": "code",
   "outputs": [],
   "metadata": {},
   "execution_count": 2
  },
  {
   "source": [
    "a = np.random.rand(5)\n",
    "print(np.exp(a)/np.sum(np.exp(a)))\n",
    "print(softmax(a))"
   ],
   "cell_type": "code",
   "outputs": [
    {
     "output_type": "stream",
     "name": "stdout",
     "text": "[0.21421417 0.29011541 0.14118466 0.19100257 0.16348319]\n[0.21421417 0.29011541 0.14118466 0.19100257 0.16348319]\n"
    }
   ],
   "metadata": {},
   "execution_count": 3
  },
  {
   "source": [
    "print(a_2)\n",
    "print(a_3)\n",
    "print(a_4)"
   ],
   "cell_type": "code",
   "outputs": [
    {
     "output_type": "stream",
     "name": "stdout",
     "text": "[[0.15226494 0.16652095]\n [0.11456283 0.22613258]\n [0.17051192 0.17000679]]\n[[0.34816173 0.29595289]\n [0.26195388 0.40189893]\n [0.38988439 0.30214818]]\n[[0.47764016 0.52235984]\n [0.33626173 0.66373827]\n [0.5007417  0.4992583 ]]\n"
    }
   ],
   "metadata": {},
   "execution_count": 19
  },
  {
   "source": [
    "a_4.sum(axis=1)"
   ],
   "cell_type": "code",
   "outputs": [
    {
     "output_type": "execute_result",
     "data": {
      "text/plain": "array([1., 1., 1.])"
     },
     "metadata": {},
     "execution_count": 25
    }
   ],
   "metadata": {},
   "execution_count": 25
  },
  {
   "source": [
    "a_1 = np.random.rand(3,2)\n",
    "a_2 = softmax(a_1)\n",
    "a_3 = softmax(a_1,axis=0)\n",
    "a_4 = softmax(a_1,axis=1)"
   ],
   "cell_type": "code",
   "outputs": [],
   "metadata": {},
   "execution_count": 16
  }
 ]
}