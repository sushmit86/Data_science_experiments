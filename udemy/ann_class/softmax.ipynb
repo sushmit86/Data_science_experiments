{
 "nbformat": 4,
 "nbformat_minor": 2,
 "metadata": {
  "language_info": {
   "name": "python",
   "codemirror_mode": {
    "name": "ipython",
    "version": 3
   },
   "version": "3.6.8"
  },
  "orig_nbformat": 2,
  "file_extension": ".py",
  "mimetype": "text/x-python",
  "name": "python",
  "npconvert_exporter": "python",
  "pygments_lexer": "ipython3",
  "version": 3
 },
 "cells": [
  {
   "cell_type": "code",
   "execution_count": 5,
   "metadata": {},
   "outputs": [],
   "source": [
    "import pandas as pd\n",
    "import numpy as np\n",
    "from scipy.special import softmax\n",
    "np.random.seed(1)"
   ]
  },
  {
   "cell_type": "code",
   "execution_count": 7,
   "metadata": {},
   "outputs": [
    {
     "name": "stdout",
     "output_type": "stream",
     "text": "[0.15859694 0.17421456 0.20429972 0.21503373 0.24785506]\n[0.15859694 0.17421456 0.20429972 0.21503373 0.24785506]\n"
    }
   ],
   "source": [
    "a = np.random.rand(5)\n",
    "print(np.exp(a)/np.sum(np.exp(a)))\n",
    "print(softmax(a))"
   ]
  },
  {
   "cell_type": "code",
   "execution_count": 10,
   "metadata": {},
   "outputs": [
    {
     "name": "stdout",
     "output_type": "stream",
     "text": "(100, 5)\n"
    }
   ],
   "source": [
    "a_1 = np.random.rand(100,5)\n",
    "print(softmax(a_1))"
   ]
  }
 ]
}