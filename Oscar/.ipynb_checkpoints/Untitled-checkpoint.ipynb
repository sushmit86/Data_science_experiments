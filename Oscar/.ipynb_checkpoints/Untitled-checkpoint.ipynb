{
 "cells": [
  {
   "cell_type": "code",
   "execution_count": null,
   "metadata": {
    "collapsed": false
   },
   "outputs": [],
   "source": [
    "from __future__ import  division\n",
    "import requests\n",
    "import urllib2\n",
    "\n",
    "\n",
    "\n",
    "if __name__ == '__main__':\n",
    "    print \"Main Program Started\"\n",
    "    print \"Don't Enter any key ,Reading data takes some time\"\n",
    "    try:\n",
    "        target_url = \"http://www2.census.gov/census_2000/datasets/PUMS/FivePercent/New_York/REVISEDPUMS5_36.TXT\"\n",
    "        data = urllib2.urlopen(target_url)\n",
    "        req = requests.get(target_url)\n",
    "        total_count = sum(1 for line in data)\n",
    "        total_count_p = sum(1 for line in data if line.rstrip().startswith('p') or line.rstrip().startswith('P'))\n",
    "        print total_count_p, total_count\n",
    "        print \"Ratio : \" , round(total_count_p/total_count,2)\n",
    "    except:\n",
    "         print IOError\n"
   ]
  },
  {
   "cell_type": "code",
   "execution_count": null,
   "metadata": {
    "collapsed": true
   },
   "outputs": [],
   "source": [
    "from __future__ import  division\n",
    "if __name__ == '__main__':\n",
    "    try :\n",
    "        with open('REVISEDPUMS5_36.txt') as myfile:\n",
    "             total_count = sum(1 for line in myfile)\n",
    "        with open('REVISEDPUMS5_36.txt') as myfile:\n",
    "             total_count_p = sum(1 for line in myfile if line.rstrip().startswith('p') or line.rstrip().startswith('P'))\n"
   ]
  }
 ],
 "metadata": {
  "kernelspec": {
   "display_name": "Python 2",
   "language": "python",
   "name": "python2"
  },
  "language_info": {
   "codemirror_mode": {
    "name": "ipython",
    "version": 2
   },
   "file_extension": ".py",
   "mimetype": "text/x-python",
   "name": "python",
   "nbconvert_exporter": "python",
   "pygments_lexer": "ipython2",
   "version": "2.7.10"
  }
 },
 "nbformat": 4,
 "nbformat_minor": 0
}
