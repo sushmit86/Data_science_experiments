{
 "cells": [
  {
   "cell_type": "code",
   "execution_count": 12,
   "metadata": {},
   "outputs": [],
   "source": [
    "using LinearAlgebra "
   ]
  },
  {
   "cell_type": "code",
   "execution_count": 15,
   "metadata": {},
   "outputs": [
    {
     "data": {
      "text/plain": [
       "BunchKaufman{Float64,Array{Float64,2}}\n",
       "D factor:\n",
       "3×3 Tridiagonal{Float64,Array{Float64,1}}:\n",
       " -2.0  0.0        ⋅ \n",
       "  0.0  0.666667  0.0\n",
       "   ⋅   0.0       3.0\n",
       "U factor:\n",
       "3×3 UnitUpperTriangular{Float64,Array{Float64,2}}:\n",
       " 1.0  -1.0  1.33333 \n",
       "  ⋅    1.0  0.666667\n",
       "  ⋅     ⋅   1.0     \n",
       "permutation:\n",
       "3-element Array{Int64,1}:\n",
       " 1\n",
       " 2\n",
       " 3"
      ]
     },
     "execution_count": 15,
     "metadata": {},
     "output_type": "execute_result"
    }
   ],
   "source": [
    "\n",
    "A = [4 2 4; 2 2 2; 4 2 3]\n",
    "factorize(A)"
   ]
  }
 ],
 "metadata": {
  "kernelspec": {
   "display_name": "Julia 1.3.1",
   "language": "julia",
   "name": "julia-1.3"
  },
  "language_info": {
   "file_extension": ".jl",
   "mimetype": "application/julia",
   "name": "julia",
   "version": "1.3.1"
  }
 },
 "nbformat": 4,
 "nbformat_minor": 2
}
