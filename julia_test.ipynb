{
 "cells": [
  {
   "cell_type": "code",
   "execution_count": 19,
   "metadata": {},
   "outputs": [
    {
     "data": {
      "text/plain": [
       "5×5 Array{Float64,2}:\n",
       " 1.62601    0.0562256  0.654123  1.05956   0.0317913\n",
       " 0.0562256  1.81437    1.58216   0.742881  0.53567  \n",
       " 0.654123   1.58216    0.331145  1.25597   0.897963 \n",
       " 1.05956    0.742881   1.25597   0.223514  1.03128  \n",
       " 0.0317913  0.53567    0.897963  1.03128   1.1184   "
      ]
     },
     "metadata": {},
     "output_type": "display_data"
    },
    {
     "data": {
      "text/plain": [
       "1×1 Array{Float64,2}:\n",
       " 2.7608801823277913"
      ]
     },
     "metadata": {},
     "output_type": "display_data"
    },
    {
     "data": {
      "text/plain": [
       "1×1 Array{Float64,2}:\n",
       " 2.7608801823277913"
      ]
     },
     "metadata": {},
     "output_type": "display_data"
    }
   ],
   "source": [
    "ndim = 5\n",
    "x = rand(ndim,1)\n",
    "a = rand(ndim, ndim)\n",
    "display(a + transpose(a))\n",
    "display(transpose(x)*a*x)\n",
    "display(transpose(x)*transpose(a)*x)\n"
   ]
  }
 ],
 "metadata": {
  "kernelspec": {
   "display_name": "Julia 1.3.1",
   "language": "julia",
   "name": "julia-1.3"
  },
  "language_info": {
   "file_extension": ".jl",
   "mimetype": "application/julia",
   "name": "julia",
   "version": "1.3.1"
  }
 },
 "nbformat": 4,
 "nbformat_minor": 2
}
