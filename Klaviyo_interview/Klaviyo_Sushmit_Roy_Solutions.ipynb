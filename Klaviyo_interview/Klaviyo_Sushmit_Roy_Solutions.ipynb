{
 "cells": [
  {
   "cell_type": "code",
   "execution_count": 2,
   "metadata": {},
   "outputs": [],
   "source": [
    "import pandas as pd\n",
    "import numpy as np\n",
    "import matplotlib.pyplot as plt\n",
    "import seaborn as sns\n",
    "import mlxtend\n",
    "import sklearn\n",
    "import scipy\n",
    "from matplotlib import dates\n",
    "from sklearn.metrics import confusion_matrix\n",
    "from mlxtend.plotting import plot_confusion_matrix\n",
    "from scipy import stats\n",
    "plt.style.use('Solarize_Light2')\n",
    "%matplotlib inline"
   ]
  },
  {
   "cell_type": "code",
   "execution_count": null,
   "metadata": {},
   "outputs": [],
   "source": [
    "%load_ext watermark\n",
    "%watermark -n -u -v -iv -w -a sushmit86@gmail.com"
   ]
  },
  {
   "cell_type": "code",
   "execution_count": null,
   "metadata": {},
   "outputs": [],
   "source": [
    "df_data = pd.read_csv('screening_exercise_orders_v201810.csv')\n",
    "df_data.head(n=1)"
   ]
  },
  {
   "cell_type": "code",
   "execution_count": null,
   "metadata": {},
   "outputs": [],
   "source": [
    "df_data_to_work = df_data.copy()\n",
    "df_data_to_work.info()"
   ]
  },
  {
   "cell_type": "code",
   "execution_count": null,
   "metadata": {},
   "outputs": [],
   "source": [
    "df_data_to_work['date'] = pd.to_datetime(df_data_to_work.date)\n",
    "display(df_data_to_work.info())\n",
    "\n",
    "grouped_customer_id = df_data_to_work.groupby('customer_id') \n",
    "\n",
    "assert grouped_customer_id.filter(lambda x: len(np.unique(x['gender'])) > 1).shape[0] == 0\n",
    "assert grouped_customer_id.filter(lambda x: len(np.unique(x['predicted_gender'])) > 1).shape[0] == 0"
   ]
  },
  {
   "cell_type": "markdown",
   "metadata": {},
   "source": [
    "## A) Assemble a dataframe with one row per customer and the following columns:\n",
    "- customer_id * gender * most_recent_order_date * order_count (number of orders placed by this customer)\n",
    "- Sort the dataframe by customer_id ascending and display the first 10 rows."
   ]
  },
  {
   "cell_type": "code",
   "execution_count": null,
   "metadata": {},
   "outputs": [],
   "source": [
    "df_data_to_work_agg = df_data_to_work.groupby(by = ['customer_id','gender']).agg(\n",
    "    most_recent_order_date=pd.NamedAgg(column='date', aggfunc='max'),\n",
    "    order_count=pd.NamedAgg(column='date', aggfunc='count')).reset_index()\n",
    "\n",
    "df_data_to_work_agg.sort_values(by = ['customer_id'],inplace=True)\n",
    "df_data_to_work_agg.head(n=10)"
   ]
  },
  {
   "cell_type": "markdown",
   "metadata": {},
   "source": [
    "## B) Plot the count of orders per week for the store.\n"
   ]
  },
  {
   "cell_type": "code",
   "execution_count": null,
   "metadata": {},
   "outputs": [],
   "source": [
    "df_to_plot = df_data_to_work.set_index( ['date']).resample('W').agg({'customer_id':'size'}).reset_index()\n",
    "fig,axs = plt.subplots(1,1, figsize = (20,8))\n",
    "sns.lineplot(data= df_to_plot, x = 'date', y = 'customer_id',marker = 'o')\n",
    "axs.set_title('Weekly Orders')\n",
    "axs.set_xlabel('Week')\n",
    "axs.set_xticklabels(df_to_plot.date.values[::2], rotation= 45)\n",
    "axs.set(xticks=df_to_plot.date.values[::2])\n",
    "axs.xaxis.set_major_formatter(dates.DateFormatter(\"%d-%b-%Y\"))\n",
    "axs.set_ylabel('No of Orders')\n",
    "plt.show()"
   ]
  },
  {
   "cell_type": "markdown",
   "metadata": {},
   "source": [
    "## B (Assumptions)\n",
    "```Week over here refers from Monday to Sunday. For the solutions completeness I have included the the first data point i.e. 1-Jan-2017. However it only captures a day. If it were to me I would have excluded the point as it does not captures the whole week```"
   ]
  },
  {
   "cell_type": "markdown",
   "metadata": {},
   "source": [
    "## C) Compute the mean order value for gender 0 and for gender 1. Do you think the difference is significant? Justify your choice of method."
   ]
  },
  {
   "cell_type": "code",
   "execution_count": null,
   "metadata": {},
   "outputs": [],
   "source": [
    "df_data_to_work_agg_value = df_data_to_work.groupby(by = ['customer_id','gender']).agg(\n",
    "    total_value=pd.NamedAgg(column='value', aggfunc='sum')).reset_index()\n",
    "\n",
    "df_data_to_work_agg_value.groupby(by = ['gender']).agg(\n",
    "    mean_order_value=pd.NamedAgg(column='total_value', aggfunc='mean')).reset_index()"
   ]
  },
  {
   "cell_type": "code",
   "execution_count": null,
   "metadata": {},
   "outputs": [],
   "source": [
    "fig,axs = plt.subplots(1,1)\n",
    "sns.histplot(df_data_to_work_agg_value,x=\"total_value\", hue=\"gender\",bins=20,ax=axs )\n",
    "plt.show()"
   ]
  },
  {
   "cell_type": "code",
   "execution_count": null,
   "metadata": {},
   "outputs": [],
   "source": [
    "y0 = df_data_to_work_agg_value[df_data_to_work_agg_value.gender == 0].total_value.values\n",
    "y1 = df_data_to_work_agg_value[df_data_to_work_agg_value.gender == 1].total_value.values\n",
    "tStat, pValue = stats.ttest_ind(y0, y1) #run independent sample T-Test\n",
    "print('P-Value:{0} T-Statistic:{1}'.format(pValue,tStat))"
   ]
  },
  {
   "cell_type": "markdown",
   "metadata": {},
   "source": [
    "## Solution (C)\n",
    "```Looking at the plot we can see that for the both the genders the total_value is skewed. Also there are outliers present in both the genders. To see if there is a significant difference between the means we can employ Independent Sample T-Test. The p-value for the test comes out to be 0.13. Hence at a 95% significance we can accept the null hypotheses i.e. the means for the gender 0 and gender 1 are equal```"
   ]
  },
  {
   "cell_type": "markdown",
   "metadata": {},
   "source": [
    "## D) Generate a confusion matrix for the gender predictions of customers in this dataset. You should assume that there is only one gender prediction for each customer. What does the confusion matrix tell you about the quality of the predictions?"
   ]
  },
  {
   "cell_type": "code",
   "execution_count": null,
   "metadata": {},
   "outputs": [],
   "source": [
    "df_data_to_work_agg_predicted_gender = df_data_to_work.groupby(by = ['customer_id','gender']).agg(\n",
    "    predicted_gender=pd.NamedAgg(column='predicted_gender', aggfunc='max')).reset_index()\n",
    "\n",
    "y_true = df_data_to_work_agg_predicted_gender.gender\n",
    "y_pred = df_data_to_work_agg_predicted_gender.predicted_gender\n",
    "\n",
    "cm = confusion_matrix(y_true,y_pred)\n",
    "\n",
    "fig,axs = plt.subplots(1,1, figsize = (10,8))\n",
    "plot_confusion_matrix(conf_mat=cm,\n",
    "                                show_absolute=True,\n",
    "                                show_normed=True,\n",
    "                               colorbar=True,axis = axs,figure = fig)\n",
    "plt.show()"
   ]
  },
  {
   "cell_type": "markdown",
   "metadata": {},
   "source": [
    "## Solution (D)\n",
    "```Looking at the confusion matrix it seems the model does a good job of predicting gender 1 while does a poor job for prediction gender 0```"
   ]
  },
  {
   "cell_type": "markdown",
   "metadata": {},
   "source": [
    "## E) Describe one of your favorite tools or techniques and give a small example of how it's helped you solve a problem. Limit your answer to one paragraph, and please be specific."
   ]
  },
  {
   "cell_type": "markdown",
   "metadata": {},
   "source": [
    "## Solution(E)\n",
    "``` I have frequently used machine learning models for solving quite a few business problems. Working for Staples one of the major challenges for us has been to reduce customer churn. By leveraging classification predictive models and using customer attributes I have deployed a very successful churn model. Python has been the main tool I have used for developing this. Most of my data transformations are done using pandas. For EDA I extensively used matplotlib and seaborn. For the modeling piece, I leveraged sklearn api. ```"
   ]
  }
 ],
 "metadata": {
  "kernelspec": {
   "display_name": "Python 3",
   "language": "python",
   "name": "python3"
  },
  "language_info": {
   "codemirror_mode": {
    "name": "ipython",
    "version": 3
   },
   "file_extension": ".py",
   "mimetype": "text/x-python",
   "name": "python",
   "nbconvert_exporter": "python",
   "pygments_lexer": "ipython3",
   "version": "3.8.5"
  }
 },
 "nbformat": 4,
 "nbformat_minor": 4
}
