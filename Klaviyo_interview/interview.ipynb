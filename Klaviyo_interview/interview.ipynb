{
 "cells": [
  {
   "cell_type": "code",
   "execution_count": 3,
   "metadata": {},
   "outputs": [],
   "source": [
    "import numpy as np\n"
   ]
  },
  {
   "cell_type": "code",
   "execution_count": 29,
   "metadata": {},
   "outputs": [],
   "source": [
    "A = np.array([9,9,9,9,0,0])\n",
    "B = np.array([3,3,3,3,11,11])\n",
    "tmp_list_a = 0\n",
    "counter = int(1e6)\n",
    "\n",
    "# for _ in range(counter):\n",
    "#     _a = np.random.choice(A)\n",
    "#     _b = np.random.choice(B)\n",
    "#     if _a > _b:\n",
    "#         tmp_list_a = tmp_list_a + 1\n",
    "temp_sum = 0"
   ]
  },
  {
   "cell_type": "code",
   "execution_count": 13,
   "metadata": {},
   "outputs": [
    {
     "name": "stdout",
     "output_type": "stream",
     "text": [
      "Prob of A winning 0.444174\n"
     ]
    }
   ],
   "source": [
    "print('Prob of A winning',tmp_list_a/counter )"
   ]
  },
  {
   "cell_type": "code",
   "execution_count": 32,
   "metadata": {},
   "outputs": [],
   "source": [
    "for _ in range(1000):\n",
    "    _a = np.random.choice(A,counter)\n",
    "    _b = np.random.choice(B,counter)\n",
    "    temp_sum = temp_sum + np.sum(_a > _b)"
   ]
  },
  {
   "cell_type": "code",
   "execution_count": 33,
   "metadata": {},
   "outputs": [
    {
     "name": "stdout",
     "output_type": "stream",
     "text": [
      "0.445351997\n"
     ]
    }
   ],
   "source": [
    "print(temp_sum/1e9)"
   ]
  },
  {
   "cell_type": "code",
   "execution_count": 41,
   "metadata": {},
   "outputs": [
    {
     "name": "stdout",
     "output_type": "stream",
     "text": [
      "0.16101694915254236\n"
     ]
    }
   ],
   "source": [
    "N = 0.95 * 0.01\n",
    "D = 0.95* 0.01 + 0.05 * 0.99\n",
    "print(N/D)"
   ]
  }
 ],
 "metadata": {
  "kernelspec": {
   "display_name": "Python 3",
   "language": "python",
   "name": "python3"
  },
  "language_info": {
   "codemirror_mode": {
    "name": "ipython",
    "version": 3
   },
   "file_extension": ".py",
   "mimetype": "text/x-python",
   "name": "python",
   "nbconvert_exporter": "python",
   "pygments_lexer": "ipython3",
   "version": "3.8.5"
  }
 },
 "nbformat": 4,
 "nbformat_minor": 4
}
