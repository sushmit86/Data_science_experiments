{
 "cells": [
  {
   "cell_type": "code",
   "execution_count": 1,
   "metadata": {
    "collapsed": false,
    "inputHidden": false,
    "outputHidden": false
   },
   "outputs": [],
   "source": [
    "import numpy as np\n",
    "import scipy\n",
    "from math import sqrt\n",
    "import sympy as sp\n",
    "np.set_printoptions(precision=3)"
   ]
  },
  {
   "cell_type": "markdown",
   "metadata": {},
   "source": [
    "### Chapter 2"
   ]
  },
  {
   "cell_type": "code",
   "execution_count": 2,
   "metadata": {},
   "outputs": [
    {
     "name": "stdout",
     "output_type": "stream",
     "text": [
      "Matrix is not positive definite\n"
     ]
    }
   ],
   "source": [
    "\n",
    "##### Exercise 2\n",
    "try:\n",
    "    A = np.array(([4,2,4],[2,2,2],[4,2,3]))\n",
    "    L= np.linalg.cholesky(A)\n",
    "except Exception as e: \n",
    "    print(e)\n"
   ]
  },
  {
   "cell_type": "markdown",
   "metadata": {},
   "source": [
    "### Chapter 3"
   ]
  },
  {
   "cell_type": "code",
   "execution_count": 3,
   "metadata": {},
   "outputs": [
    {
     "name": "stdout",
     "output_type": "stream",
     "text": [
      "[[ 0.816 -0.213  0.195]\n",
      " [ 0.     0.638 -0.586]\n",
      " [-0.408  0.266  0.716]\n",
      " [ 0.408  0.691  0.325]]\n"
     ]
    }
   ],
   "source": [
    "\n",
    "def gram_schmidt_ortho(U):\n",
    "    '''\n",
    "    Input arr: array whose gram schmidt orthogonalization needs to be done\n",
    "    return G : Gram schmidt \n",
    "    '''\n",
    "    row,col = U.shape\n",
    "    V = U/np.linalg.norm(U,axis=0)\n",
    "    G = np.zeros([row,col])\n",
    "    for i in range(col):\n",
    "        G[:,i]= U[:,i] - np.sum(G[:,:i].T.dot(U[:,i].reshape(row,1)).T.repeat(row,axis =0) * G[:,:i],axis = 1)\n",
    "        G[:,i] = G[:,i]/np.linalg.norm(G[:,i])\n",
    "    return G\n",
    "A = np.array([[2,0,-1,1],[1,2,0,3],[3,0,-1,2]])\n",
    "print(gram_schmidt_ortho(A.T))\n"
   ]
  },
  {
   "cell_type": "markdown",
   "metadata": {},
   "source": [
    "### Chapter 4"
   ]
  },
  {
   "cell_type": "code",
   "execution_count": 7,
   "metadata": {},
   "outputs": [
    {
     "name": "stdout",
     "output_type": "stream",
     "text": [
      "(Matrix([\n",
      "[1, 0, 0,   7/10,  -1/10],\n",
      "[0, 1, 0,  -1/10,  -7/10],\n",
      "[0, 0, 1, -21/10, -27/10],\n",
      "[0, 0, 0,      0,      0]]), (0, 1, 2))\n",
      "FiniteSet((-7*x3/10 + x4/10 + 23/10, x3/10 + 7*x4/10 - 29/10, 21*x3/10 + 27*x4/10 - 139/10, x3, x4))\n"
     ]
    }
   ],
   "source": [
    "Q = sp.Matrix([[3,2,-1,4,1],[0,1,-1,2,2],[1,-3,0,1,2],[4,-3,1,1,-1]])\n",
    "A = Q.rref()\n",
    "print(A)\n",
    "x0, x1, x2, x3, x4 = sp.symbols('x0, x1, x2, x3, x4')\n",
    "b = sp.Matrix([15,11,11,4])\n",
    "system = A, b = Q,b\n",
    "c=sp.linsolve(system, x0, x1, x2, x3, x4)\n",
    "print(c)"
   ]
  },
  {
   "cell_type": "code",
   "execution_count": 8,
   "metadata": {},
   "outputs": [
    {
     "data": {
      "text/plain": [
       "99.2"
      ]
     },
     "execution_count": 8,
     "metadata": {},
     "output_type": "execute_result"
    }
   ],
   "source": [
    "0.92*100 + 0.8*9"
   ]
  }
 ],
 "metadata": {
  "kernel_info": {
   "name": "python3"
  },
  "kernelspec": {
   "display_name": "Python [conda env:root] *",
   "language": "python",
   "name": "conda-root-py"
  },
  "language_info": {
   "codemirror_mode": {
    "name": "ipython",
    "version": 3
   },
   "file_extension": ".py",
   "mimetype": "text/x-python",
   "name": "python",
   "nbconvert_exporter": "python",
   "pygments_lexer": "ipython3",
   "version": "3.6.8"
  },
  "nteract": {
   "version": "0.12.3"
  }
 },
 "nbformat": 4,
 "nbformat_minor": 4
}
