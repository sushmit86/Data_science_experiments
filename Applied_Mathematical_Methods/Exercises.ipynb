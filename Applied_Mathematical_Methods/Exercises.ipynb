{
 "cells": [
  {
   "cell_type": "code",
   "execution_count": 2,
   "metadata": {
    "collapsed": false,
    "inputHidden": false,
    "outputHidden": false
   },
   "outputs": [],
   "source": [
    "import numpy as np\n",
    "import scipy\n",
    "from math import sqrt\n",
    "import sympy as sp\n",
    "np.set_printoptions(precision=3)\n",
    "import pandas as pd"
   ]
  },
  {
   "cell_type": "code",
   "execution_count": 3,
   "metadata": {},
   "outputs": [
    {
     "data": {
      "text/html": [
       "<div>\n",
       "<style scoped>\n",
       "    .dataframe tbody tr th:only-of-type {\n",
       "        vertical-align: middle;\n",
       "    }\n",
       "\n",
       "    .dataframe tbody tr th {\n",
       "        vertical-align: top;\n",
       "    }\n",
       "\n",
       "    .dataframe thead th {\n",
       "        text-align: right;\n",
       "    }\n",
       "</style>\n",
       "<table border=\"1\" class=\"dataframe\">\n",
       "  <thead>\n",
       "    <tr style=\"text-align: right;\">\n",
       "      <th></th>\n",
       "      <th>A</th>\n",
       "      <th>B</th>\n",
       "    </tr>\n",
       "  </thead>\n",
       "  <tbody>\n",
       "    <tr>\n",
       "      <th>2</th>\n",
       "      <td>1</td>\n",
       "      <td>2</td>\n",
       "    </tr>\n",
       "    <tr>\n",
       "      <th>0</th>\n",
       "      <td>1</td>\n",
       "      <td>0</td>\n",
       "    </tr>\n",
       "    <tr>\n",
       "      <th>3</th>\n",
       "      <td>2</td>\n",
       "      <td>3</td>\n",
       "    </tr>\n",
       "    <tr>\n",
       "      <th>5</th>\n",
       "      <td>2</td>\n",
       "      <td>5</td>\n",
       "    </tr>\n",
       "    <tr>\n",
       "      <th>7</th>\n",
       "      <td>3</td>\n",
       "      <td>7</td>\n",
       "    </tr>\n",
       "    <tr>\n",
       "      <th>8</th>\n",
       "      <td>4</td>\n",
       "      <td>8</td>\n",
       "    </tr>\n",
       "    <tr>\n",
       "      <th>9</th>\n",
       "      <td>4</td>\n",
       "      <td>9</td>\n",
       "    </tr>\n",
       "  </tbody>\n",
       "</table>\n",
       "</div>"
      ],
      "text/plain": [
       "   A  B\n",
       "2  1  2\n",
       "0  1  0\n",
       "3  2  3\n",
       "5  2  5\n",
       "7  3  7\n",
       "8  4  8\n",
       "9  4  9"
      ]
     },
     "execution_count": 3,
     "metadata": {},
     "output_type": "execute_result"
    }
   ],
   "source": [
    "df = pd.DataFrame(dict(\n",
    "        A=[1, 1, 1, 2, 2, 2, 2, 3, 4, 4],\n",
    "        B=range(10)\n",
    "    ))\n",
    "\n",
    "df.groupby('A', group_keys=False).apply(lambda x: x.sample(min(len(x), 2)))"
   ]
  },
  {
   "cell_type": "markdown",
   "metadata": {},
   "source": [
    "### Chapter 2"
   ]
  },
  {
   "cell_type": "code",
   "execution_count": 2,
   "metadata": {},
   "outputs": [
    {
     "name": "stdout",
     "output_type": "stream",
     "text": [
      "Matrix is not positive definite\n"
     ]
    }
   ],
   "source": [
    "\n",
    "##### Exercise 2\n",
    "try:\n",
    "    A = np.array(([4,2,4],[2,2,2],[4,2,3]))\n",
    "    L= np.linalg.cholesky(A)\n",
    "except Exception as e: \n",
    "    print(e)\n"
   ]
  },
  {
   "cell_type": "markdown",
   "metadata": {},
   "source": [
    "### Chapter 3"
   ]
  },
  {
   "cell_type": "code",
   "execution_count": 3,
   "metadata": {},
   "outputs": [
    {
     "name": "stdout",
     "output_type": "stream",
     "text": [
      "[[ 2  0 -1  1]\n",
      " [ 1  2  0  3]\n",
      " [ 3  0 -1  2]]\n",
      "[[ 0.816 -0.213  0.195]\n",
      " [ 0.     0.638 -0.586]\n",
      " [-0.408  0.266  0.716]\n",
      " [ 0.408  0.691  0.325]]\n"
     ]
    }
   ],
   "source": [
    "\n",
    "def gram_schmidt_ortho(U):\n",
    "    '''\n",
    "    Input arr: array whose gram schmidt orthogonalization needs to be done\n",
    "    return G : Gram schmidt \n",
    "    '''\n",
    "    row,col = U.shape\n",
    "    V = U/np.linalg.norm(U,axis=0)\n",
    "    G = np.zeros([row,col])\n",
    "    for i in range(col):\n",
    "        G[:,i]= U[:,i] - np.sum(G[:,:i].T.dot(U[:,i].reshape(row,1)).T.repeat(row,axis =0) * G[:,:i],axis = 1)\n",
    "        G[:,i] = G[:,i]/np.linalg.norm(G[:,i])\n",
    "    return G\n",
    "A = np.array([[2,0,-1,1],[1,2,0,3],[3,0,-1,2]])\n",
    "print(A)\n",
    "print(gram_schmidt_ortho(A.T))\n"
   ]
  },
  {
   "cell_type": "markdown",
   "metadata": {},
   "source": [
    "### Chapter 4"
   ]
  },
  {
   "cell_type": "code",
   "execution_count": 4,
   "metadata": {},
   "outputs": [
    {
     "name": "stdout",
     "output_type": "stream",
     "text": [
      "(Matrix([\n",
      "[1, 0, 0,   7/10,  -1/10],\n",
      "[0, 1, 0,  -1/10,  -7/10],\n",
      "[0, 0, 1, -21/10, -27/10],\n",
      "[0, 0, 0,      0,      0]]), (0, 1, 2))\n",
      "-------Answer---------\n",
      "FiniteSet((-7*x3/10 + x4/10 + 23/10, x3/10 + 7*x4/10 - 29/10, 21*x3/10 + 27*x4/10 - 139/10, x3, x4))\n",
      "[[2 0]\n",
      " [0 1]]\n",
      "[[3 1]\n",
      " [1 1]]\n",
      "[[ 5  2]\n",
      " [ 2 -1]]\n",
      "[[1 1]\n",
      " [2 2]]\n",
      "---------Answer------\n",
      "[1.176 1.   ]\n"
     ]
    }
   ],
   "source": [
    "#### Exeercise 1\n",
    "Q = sp.Matrix([[3,2,-1,4,1],[0,1,-1,2,2],[1,-3,0,1,2],[4,-3,1,1,-1]])\n",
    "A = Q.rref()\n",
    "print(A)\n",
    "x0, x1, x2, x3, x4 = sp.symbols('x0, x1, x2, x3, x4')\n",
    "b = sp.Matrix([15,11,11,4])\n",
    "system = A, b = Q,b\n",
    "c=sp.linsolve(system, x0, x1, x2, x3, x4)\n",
    "print('-------Answer---------')\n",
    "print(c)\n",
    "\n",
    "\n",
    "## Exercise 5\n",
    "M = np.array([[2,0,3,1],[0,1,1,1],[5,2,1,1],[2,-1,2,2]])\n",
    "A = M[0:2,0:2]\n",
    "B = M[0:2,2:]\n",
    "C = M[2:,0:2]\n",
    "D = M[2:,2:]\n",
    "print(A)\n",
    "print(B)\n",
    "print(C)\n",
    "print(D)\n",
    "print('---------Answer------')\n",
    "Y1 = np.array([5,2])\n",
    "Y2 = np.array([3,5])\n",
    "C_inverse = np.linalg.inv(C)\n",
    "X2 =  np.dot(np.linalg.inv(B - np.dot(np.dot(A,C_inverse),D)), (Y1 - np.dot(np.dot(A,C_inverse),Y2)))\n",
    "print(X2)"
   ]
  },
  {
   "cell_type": "code",
   "execution_count": 5,
   "metadata": {},
   "outputs": [
    {
     "name": "stdout",
     "output_type": "stream",
     "text": [
      "[[ 6  5  1  0]\n",
      " [ 6  5 -1  6]\n",
      " [ 6  1  1  0]\n",
      " [ 6  1 -1  2]]\n",
      "[[ 0.5  0.5  0.5 -0.5]\n",
      " [ 0.5  0.5 -0.5  0.5]\n",
      " [ 0.5 -0.5  0.5  0.5]\n",
      " [ 0.5 -0.5 -0.5 -0.5]]\n",
      "[[-0.5 -0.5 -0.5 -0.5]\n",
      " [-0.5 -0.5  0.5  0.5]\n",
      " [-0.5  0.5 -0.5  0.5]\n",
      " [-0.5  0.5  0.5 -0.5]]\n",
      "[[-12.  -6.   0.  -4.]\n",
      " [  0.  -4.   0.  -2.]\n",
      " [  0.   0.  -2.   4.]\n",
      " [  0.   0.   0.   2.]]\n"
     ]
    }
   ],
   "source": [
    "\n",
    "### Exercise 7\n",
    "A = np.array([[6,5,1,0],[6,5,-1,6],[6,1,1,0],[6,1,-1,2]])\n",
    "print(A)\n",
    "Q=gram_schmidt_ortho(A)\n",
    "print(Q)\n",
    "Q,R = np.linalg.qr(A)\n",
    "print(Q)\n",
    "print(R)\n",
    "\n"
   ]
  },
  {
   "cell_type": "code",
   "execution_count": 12,
   "metadata": {},
   "outputs": [
    {
     "name": "stdout",
     "output_type": "stream",
     "text": [
      "After Multiplication\n",
      "[[ 6.  5. -1.  0.]\n",
      " [ 6.  5. -1.  6.]\n",
      " [ 6.  1.  1.  0.]\n",
      " [ 6.  1.  1.  2.]]\n",
      "[[-5.000e-01 -5.000e-01  7.071e-01 -7.864e-17]\n",
      " [-5.000e-01 -5.000e-01 -7.071e-01  4.780e-17]\n",
      " [-5.000e-01  5.000e-01  1.164e-16 -7.071e-01]\n",
      " [-5.000e-01  5.000e-01 -1.056e-16  7.071e-01]]\n"
     ]
    }
   ],
   "source": [
    "### Multiplying the answer\n",
    "Q = np.array([[0.5,0.5,0.5,-0.5],[0.5,0.5,-0.5,0.5],[0.5,-0.5,0.5,0.5],[0.5,-0.5,-0.5,-0.5]])\n",
    "R = np.array([[12,6,0,4],[0,4,-2,2],[0,0,0,-4],[0,0,0,2]])\n",
    "print('After Multiplication')\n",
    "A=np.dot(Q,R)\n",
    "print(A)\n",
    "Q_calc, R_calc = np.linalg.qr(A)\n",
    "print(Q_calc)"
   ]
  },
  {
   "cell_type": "code",
   "execution_count": 5,
   "metadata": {},
   "outputs": [
    {
     "data": {
      "text/html": [
       "<div>\n",
       "<style scoped>\n",
       "    .dataframe tbody tr th:only-of-type {\n",
       "        vertical-align: middle;\n",
       "    }\n",
       "\n",
       "    .dataframe tbody tr th {\n",
       "        vertical-align: top;\n",
       "    }\n",
       "\n",
       "    .dataframe thead th {\n",
       "        text-align: right;\n",
       "    }\n",
       "</style>\n",
       "<table border=\"1\" class=\"dataframe\">\n",
       "  <thead>\n",
       "    <tr style=\"text-align: right;\">\n",
       "      <th></th>\n",
       "      <th>date</th>\n",
       "      <th>county</th>\n",
       "      <th>state</th>\n",
       "      <th>fips</th>\n",
       "      <th>cases</th>\n",
       "      <th>deaths</th>\n",
       "    </tr>\n",
       "  </thead>\n",
       "  <tbody>\n",
       "    <tr>\n",
       "      <th>0</th>\n",
       "      <td>2020-01-21</td>\n",
       "      <td>Snohomish</td>\n",
       "      <td>Washington</td>\n",
       "      <td>53061.0</td>\n",
       "      <td>1</td>\n",
       "      <td>0</td>\n",
       "    </tr>\n",
       "    <tr>\n",
       "      <th>1</th>\n",
       "      <td>2020-01-22</td>\n",
       "      <td>Snohomish</td>\n",
       "      <td>Washington</td>\n",
       "      <td>53061.0</td>\n",
       "      <td>1</td>\n",
       "      <td>0</td>\n",
       "    </tr>\n",
       "    <tr>\n",
       "      <th>2</th>\n",
       "      <td>2020-01-23</td>\n",
       "      <td>Snohomish</td>\n",
       "      <td>Washington</td>\n",
       "      <td>53061.0</td>\n",
       "      <td>1</td>\n",
       "      <td>0</td>\n",
       "    </tr>\n",
       "    <tr>\n",
       "      <th>3</th>\n",
       "      <td>2020-01-24</td>\n",
       "      <td>Cook</td>\n",
       "      <td>Illinois</td>\n",
       "      <td>17031.0</td>\n",
       "      <td>1</td>\n",
       "      <td>0</td>\n",
       "    </tr>\n",
       "    <tr>\n",
       "      <th>4</th>\n",
       "      <td>2020-01-24</td>\n",
       "      <td>Snohomish</td>\n",
       "      <td>Washington</td>\n",
       "      <td>53061.0</td>\n",
       "      <td>1</td>\n",
       "      <td>0</td>\n",
       "    </tr>\n",
       "  </tbody>\n",
       "</table>\n",
       "</div>"
      ],
      "text/plain": [
       "         date     county       state     fips  cases  deaths\n",
       "0  2020-01-21  Snohomish  Washington  53061.0      1       0\n",
       "1  2020-01-22  Snohomish  Washington  53061.0      1       0\n",
       "2  2020-01-23  Snohomish  Washington  53061.0      1       0\n",
       "3  2020-01-24       Cook    Illinois  17031.0      1       0\n",
       "4  2020-01-24  Snohomish  Washington  53061.0      1       0"
      ]
     },
     "metadata": {},
     "output_type": "display_data"
    }
   ],
   "source": [
    "url = 'https://raw.githubusercontent.com/nytimes/covid-19-data/master/us-counties.csv'\n",
    "df_counties_data = pd.read_csv(url)\n",
    "display(df_counties_data.head(5))"
   ]
  },
  {
   "cell_type": "code",
   "execution_count": 7,
   "metadata": {},
   "outputs": [],
   "source": [
    "import mlflow\n",
    "import mlflow.sklearn\n",
    "from sklearn.datasets import load_iris\n",
    "from sklearn import tree\n",
    "iris = load_iris()\n",
    "sk_model = tree.DecisionTreeClassifier()\n",
    "sk_model = sk_model.fit(iris.data, iris.target)\n",
    "#set the artifact_path to location where experiment artifacts will be saved\n",
    "#log model params\n",
    "mlflow.log_param(\"criterion\", sk_model.criterion)\n",
    "mlflow.log_param(\"splitter\", sk_model.splitter)\n",
    "#log model\n",
    "mlflow.sklearn.log_model(sk_model, \"sk_models\")"
   ]
  }
 ],
 "metadata": {
  "kernel_info": {
   "name": "python3"
  },
  "kernelspec": {
   "display_name": "Python [conda env:root] *",
   "language": "python",
   "name": "conda-root-py"
  },
  "language_info": {
   "codemirror_mode": {
    "name": "ipython",
    "version": 3
   },
   "file_extension": ".py",
   "mimetype": "text/x-python",
   "name": "python",
   "nbconvert_exporter": "python",
   "pygments_lexer": "ipython3",
   "version": "3.6.8"
  },
  "nteract": {
   "version": "0.12.3"
  }
 },
 "nbformat": 4,
 "nbformat_minor": 4
}
