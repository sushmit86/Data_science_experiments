{
 "cells": [
  {
   "cell_type": "code",
   "execution_count": 1,
   "metadata": {},
   "outputs": [],
   "source": [
    "import pandas as pd\n",
    "import torch\n",
    "from torch import nn\n",
    "from torch.nn import functional as F"
   ]
  },
  {
   "cell_type": "markdown",
   "metadata": {},
   "source": [
    "## 5.1 Layers and Blocks"
   ]
  },
  {
   "cell_type": "code",
   "execution_count": 2,
   "metadata": {},
   "outputs": [
    {
     "name": "stdout",
     "output_type": "stream",
     "text": [
      "tensor([[0.9499, 0.6279, 0.8557, 0.8877, 0.0437, 0.9693, 0.5835, 0.1182, 0.1458,\n",
      "         0.2975, 0.2689, 0.6882, 0.4951, 0.2299, 0.0905, 0.8237, 0.0180, 0.4264,\n",
      "         0.3097, 0.1798],\n",
      "        [0.4766, 0.1842, 0.5198, 0.0858, 0.4872, 0.1636, 0.9780, 0.0068, 0.8623,\n",
      "         0.7814, 0.8083, 0.5120, 0.0769, 0.9899, 0.9125, 0.9404, 0.0444, 0.9580,\n",
      "         0.7412, 0.4275]])\n"
     ]
    },
    {
     "data": {
      "text/plain": [
       "tensor([[ 0.0780,  0.1358, -0.1807,  0.0482, -0.0598, -0.1324, -0.0425,  0.1576,\n",
       "          0.0504,  0.2356],\n",
       "        [ 0.0593, -0.1130, -0.0868, -0.2005,  0.0183, -0.1089, -0.1222,  0.0893,\n",
       "          0.0199,  0.1092]], grad_fn=<AddmmBackward>)"
      ]
     },
     "execution_count": 2,
     "metadata": {},
     "output_type": "execute_result"
    }
   ],
   "source": [
    "net = nn.Sequential(nn.Linear(20,256), nn.ReLU(),nn.Linear(256,10))\n",
    "X = torch.rand(2,20)\n",
    "print(X)\n",
    "net(X)"
   ]
  },
  {
   "cell_type": "code",
   "execution_count": 3,
   "metadata": {},
   "outputs": [],
   "source": [
    "class MLP(nn.Module):\n",
    "    '''\n",
    "    Notice how we are using forward\n",
    "    '''\n",
    "    def __init__(self):\n",
    "        super().__init__()\n",
    "        self.hidden = nn.Linear(20,256)\n",
    "        self.out = nn.Linear(256,10)\n",
    "    def forward(self,X):\n",
    "        return self.out(F.relu(self.hidden(X)))"
   ]
  },
  {
   "cell_type": "code",
   "execution_count": 4,
   "metadata": {},
   "outputs": [
    {
     "data": {
      "text/plain": [
       "tensor([[-1.1628e-01,  6.7285e-02, -5.4566e-02, -1.7556e-01,  1.6246e-01,\n",
       "         -9.5139e-02,  9.2565e-02, -3.6533e-02,  1.1560e-01,  6.1935e-02],\n",
       "        [ 5.9023e-02,  2.4318e-01,  7.7387e-02, -1.8918e-01,  9.3058e-06,\n",
       "         -1.1765e-01,  1.4760e-01, -6.9179e-03,  5.6232e-02, -9.9254e-02]],\n",
       "       grad_fn=<AddmmBackward>)"
      ]
     },
     "execution_count": 4,
     "metadata": {},
     "output_type": "execute_result"
    }
   ],
   "source": [
    "mlp = MLP()\n",
    "mlp(X)"
   ]
  }
 ],
 "metadata": {
  "kernelspec": {
   "display_name": "Python 3",
   "language": "python",
   "name": "python3"
  },
  "language_info": {
   "codemirror_mode": {
    "name": "ipython",
    "version": 3
   },
   "file_extension": ".py",
   "mimetype": "text/x-python",
   "name": "python",
   "nbconvert_exporter": "python",
   "pygments_lexer": "ipython3",
   "version": "3.8.2"
  }
 },
 "nbformat": 4,
 "nbformat_minor": 4
}
