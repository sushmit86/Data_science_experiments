{
 "cells": [
  {
   "cell_type": "code",
   "execution_count": 3,
   "metadata": {
    "collapsed": true
   },
   "outputs": [],
   "source": [
    "import numpy as np\n",
    "class Perceptron(object):\n",
    "    \"\"\"Perceptron classifier.\n",
    "    \n",
    "    Parameters\n",
    "    ------------\n",
    "    eta: float\n",
    "        Learning rate (between 0.0 and 1.0)\n",
    "    n_iter: int\n",
    "        Passes over the training data sets\n",
    "    random_state  : int\n",
    "        Random number generator seed for random weight\n",
    "        initialization\n",
    "    \n",
    "    Attributes\n",
    "    ------------\n",
    "    w_ : 1d-array\n",
    "        Wieghts after fitting\n",
    "    errors_ : list\n",
    "        Number of misclassifications (updates) in each epoch\n",
    "    \n",
    "    \"\"\"\n",
    "    def __init__(self, eta = 0.01, n_iter =50, random_state =1):\n",
    "        self.eta = eta\n",
    "        self.n_iter = n_iter\n",
    "        self.random_state = random_state\n",
    "    def fit(self,X,y):\n",
    "        \"\"\" Fit training data.\n",
    "        Parameters\n",
    "        -----------\n",
    "        X: {array-like}, shape = [n_samples, n_features]\n",
    "            Training vectors, where n_samples number of samples\n",
    "            and n_features number of features\n",
    "        Y: array-like, shape = [n_samples]\n",
    "            Target values.\n",
    "        Returns\n",
    "        self : object\n",
    "        \n",
    "        \"\"\"\n",
    "        rgen = np.random.RandomState(self.random_state)\n",
    "        self.w_ = rgen.normal(loc = 0.0, scale =0.01, size = 1+ X.shape[1])\n",
    "        self.errors_ = []\n",
    "        for _ in range(self.n_iter):\n",
    "            errors = 0\n",
    "            for xi, target in zip(X,y):\n",
    "                update = self.eta*(target - self.predict(xi))\n",
    "                self.w_[1:] += update*xi\n",
    "                self.w_[0] = update\n",
    "                errors += int(update != 0)\n",
    "            self.errors_.append(errors)\n",
    "        return self\n",
    "    def net_input(self,X):\n",
    "        \"\"\"Calcualte net input\"\"\"\n",
    "        return np.dot(X,self.w_[1:]) + self.w_[0]\n",
    "    def predict(self,X):\n",
    "        \"\"\" Return class label  after unit step\"\"\"\n",
    "        return np.where(self.net_input(X) >= 0,1,-1)"
   ]
  }
 ],
 "metadata": {
  "kernelspec": {
   "display_name": "Python 3",
   "language": "python",
   "name": "python3"
  },
  "language_info": {
   "codemirror_mode": {
    "name": "ipython",
    "version": 3
   },
   "file_extension": ".py",
   "mimetype": "text/x-python",
   "name": "python",
   "nbconvert_exporter": "python",
   "pygments_lexer": "ipython3",
   "version": "3.6.3"
  }
 },
 "nbformat": 4,
 "nbformat_minor": 2
}
