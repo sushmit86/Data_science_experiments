{
 "cells": [
  {
   "cell_type": "code",
   "execution_count": 16,
   "metadata": {},
   "outputs": [],
   "source": [
    "## importing libraries \n",
    "import numpy as np\n",
    "import scipy as sc\n",
    "import pandas as pd\n",
    "from scipy.stats import beta,norm\n",
    "from math import ceil\n",
    "import random\n",
    "from scipy.stats import uniform\n",
    "import pymc3\n",
    "import DBDA2E_utilities"
   ]
  },
  {
   "cell_type": "markdown",
   "metadata": {},
   "source": [
    "## Exercise 7.1\n",
    "## Purpose : To Experiment with  Metropois Algorithm as displayed in figure7.4"
   ]
  },
  {
   "cell_type": "code",
   "execution_count": 2,
   "metadata": {},
   "outputs": [],
   "source": [
    "\n",
    "myData = np.concatenate((np.repeat(0,6), np.repeat(1,14)))\n",
    "\n",
    "# Define the Bernoulli likelihood function, p(D|theta).\n",
    "# The argument theta could be a vector, not just a scalar.\n",
    "def likelihood(theta,data):\n",
    "    z = sum(data)\n",
    "    N = len(data)\n",
    "    pDataGivenTheta = [(theta**z) * (1-theta)**(N-z),0][theta > 1 or theta <0]\n",
    "    # The theta values passed into this function are generated at random,\n",
    "    # and therefore might be inadvertently greater than 1 or less than 0.\n",
    "    # The likelihood for theta > 1 or for theta < 0 is zero:\n",
    "    return(pDataGivenTheta)\n",
    "# Define the prior density function. \n",
    "def prior(theta):\n",
    "    pTheta = [beta.pdf(theta,1,1),0][theta > 1 or theta <0]\n",
    "    # The theta values passed into this function are generated at random,\n",
    "    # and therefore might be inadvertently greater than 1 or less than 0.\n",
    "    # The prior for theta > 1 or for theta < 0 is zero:\n",
    "    return pTheta\n",
    "\n",
    "# Define the relative probability of the target distribution, \n",
    "# as a function of vector theta. For our application, this\n",
    "# target distribution is the unnormalized posterior distribution.\n",
    "def targetRelProb(theta,data):\n",
    "    targetRelProb = likelihood(theta, data) * prior(theta)\n",
    "    return(targetRelProb)\n",
    "\n",
    "\n",
    "# Specify the length of the trajectory, i.e., the number of jumps to try:\n",
    "trajLength = 50000 # arbitrary large number\n",
    "trajectory = np.repeat(0.0,trajLength)  ## Note 0.0 to ensure float arrays\n",
    "trajectory[0] = 0.01 # arbitrary value\n",
    "\n",
    "burnIn = ceil( 0.0 * trajLength ) # arbitrary number, less than trajLength\n",
    "# Initialize accepted, rejected counters, just to monitor performance:\n",
    "nAccepted = 0\n",
    "nRejected = 0\n"
   ]
  },
  {
   "cell_type": "code",
   "execution_count": null,
   "metadata": {},
   "outputs": [],
   "source": [
    "# Now generate the random walk. The 't' index is time or trial in the walk.\n",
    "# Specify seed to reproduce same random walk:\n",
    "random.seed(47405)\n",
    "proposalSD = np.array([0.02,0.2,2.0])[2]\n",
    "proposalSD\n",
    "for t in range(trajLength -1):\n",
    "    currentPosition = trajectory[t]\n",
    "    # Use the proposal distribution to generate a proposed jump.\n",
    "    proposedJump = norm.rvs(loc = 0, scale = proposalSD)\n",
    "    probAccept = min(1, targetRelProb(currentPosition + proposedJump,myData )/ targetRelProb( currentPosition , myData ))\n",
    "    if uniform.rvs() < probAccept:\n",
    "        # accept the proposed jump\n",
    "        trajectory[t+1] = currentPosition + proposedJump\n",
    "        # increment the accepted counter, just to monitor performance\n",
    "        nAccepted = [nAccepted+1,nAccepted][t > burnIn]\n",
    "    else:\n",
    "        # reject the proposed jump, stay at current position\n",
    "        trajectory[t+1] = currentPosition\n",
    "        # increment the rejected counter, just to monitor performance\n",
    "        nRejected = [nRejected+1,nRejected][t > burnIn]\n",
    "        \n",
    "# Extract the post-burnIn portion of the trajectory.\n",
    "acceptedTraj = trajectory[ (burnIn+1) : len(trajectory) ]\n",
    "# End of Metropolis algorithm."
   ]
  },
  {
   "cell_type": "code",
   "execution_count": null,
   "metadata": {},
   "outputs": [],
   "source": [
    "type(trajectory)"
   ]
  },
  {
   "cell_type": "code",
   "execution_count": null,
   "metadata": {},
   "outputs": [],
   "source": [
    "data = [go.Histogram(x=trajectory,marker=dict(\n",
    "        color='skyblue'\n",
    "    ))]\n",
    "py.iplot(data, filename='basic histogram')"
   ]
  },
  {
   "cell_type": "code",
   "execution_count": 29,
   "metadata": {},
   "outputs": [
    {
     "name": "stdout",
     "output_type": "stream",
     "text": [
      "(-1.9013224429519127, 1.9742906162463165)\n",
      "[-1.90132244  1.97429062]\n"
     ]
    },
    {
     "ename": "TypeError",
     "evalue": "ess() missing 1 required positional argument: 'n'",
     "output_type": "error",
     "traceback": [
      "\u001b[0;31m---------------------------------------------------------------------------\u001b[0m",
      "\u001b[0;31mTypeError\u001b[0m                                 Traceback (most recent call last)",
      "\u001b[0;32m<ipython-input-29-18059cd4f640>\u001b[0m in \u001b[0;36m<module>\u001b[0;34m()\u001b[0m\n\u001b[1;32m      4\u001b[0m \u001b[0mprint\u001b[0m\u001b[0;34m(\u001b[0m\u001b[0mpymc3\u001b[0m\u001b[0;34m.\u001b[0m\u001b[0mstats\u001b[0m\u001b[0;34m.\u001b[0m\u001b[0mhpd\u001b[0m\u001b[0;34m(\u001b[0m\u001b[0ma\u001b[0m\u001b[0;34m)\u001b[0m\u001b[0;34m)\u001b[0m\u001b[0;34m\u001b[0m\u001b[0m\n\u001b[1;32m      5\u001b[0m \u001b[0;32mimport\u001b[0m \u001b[0mpystan\u001b[0m\u001b[0;34m\u001b[0m\u001b[0m\n\u001b[0;32m----> 6\u001b[0;31m \u001b[0mpystan\u001b[0m\u001b[0;34m.\u001b[0m\u001b[0mchains\u001b[0m\u001b[0;34m.\u001b[0m\u001b[0mess\u001b[0m\u001b[0;34m(\u001b[0m\u001b[0ma\u001b[0m\u001b[0;34m)\u001b[0m\u001b[0;34m\u001b[0m\u001b[0m\n\u001b[0m",
      "\u001b[0;31mTypeError\u001b[0m: ess() missing 1 required positional argument: 'n'"
     ]
    }
   ],
   "source": [
    "import numpy as np\n",
    "a = norm.rvs(size=10000)\n",
    "print(DBDA2E_utilities.HDIofMCMC(a))\n",
    "print(pymc3.stats.hpd(a))\n",
    "import pystan\n",
    "pystan.chains.ess(a)"
   ]
  }
 ],
 "metadata": {
  "kernelspec": {
   "display_name": "Python 3",
   "language": "python",
   "name": "python3"
  },
  "language_info": {
   "codemirror_mode": {
    "name": "ipython",
    "version": 3
   },
   "file_extension": ".py",
   "mimetype": "text/x-python",
   "name": "python",
   "nbconvert_exporter": "python",
   "pygments_lexer": "ipython3",
   "version": "3.6.1"
  }
 },
 "nbformat": 4,
 "nbformat_minor": 2
}
