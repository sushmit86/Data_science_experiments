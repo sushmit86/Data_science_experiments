{
 "cells": [
  {
   "cell_type": "code",
   "execution_count": 1,
   "metadata": {},
   "outputs": [
    {
     "data": {
      "text/html": [
       "<script>requirejs.config({paths: { 'plotly': ['https://cdn.plot.ly/plotly-latest.min']},});if(!window.Plotly) {{require(['plotly'],function(plotly) {window.Plotly=plotly;});}}</script>"
      ],
      "text/vnd.plotly.v1+html": [
       "<script>requirejs.config({paths: { 'plotly': ['https://cdn.plot.ly/plotly-latest.min']},});if(!window.Plotly) {{require(['plotly'],function(plotly) {window.Plotly=plotly;});}}</script>"
      ]
     },
     "metadata": {},
     "output_type": "display_data"
    }
   ],
   "source": [
    "## importing libraries \n",
    "import numpy as np\n",
    "import scipy as sc\n",
    "import pandas as pd\n",
    "from scipy.stats import beta,norm\n",
    "from math import ceil\n",
    "import random\n",
    "from scipy.stats import uniform\n",
    "import pymc3\n",
    "import DBDA2E_utilities"
   ]
  },
  {
   "cell_type": "markdown",
   "metadata": {},
   "source": [
    "## Exercise 7.1\n",
    "## Purpose : To Experiment with  Metropois Algorithm as displayed in figure7.4"
   ]
  },
  {
   "cell_type": "code",
   "execution_count": 2,
   "metadata": {},
   "outputs": [],
   "source": [
    "\n",
    "myData = np.concatenate((np.repeat(0,6), np.repeat(1,14)))\n",
    "\n",
    "# Define the Bernoulli likelihood function, p(D|theta).\n",
    "# The argument theta could be a vector, not just a scalar.\n",
    "def likelihood(theta,data):\n",
    "    z = sum(data)\n",
    "    N = len(data)\n",
    "    pDataGivenTheta = [(theta**z) * (1-theta)**(N-z),0][theta > 1 or theta <0]\n",
    "    # The theta values passed into this function are generated at random,\n",
    "    # and therefore might be inadvertently greater than 1 or less than 0.\n",
    "    # The likelihood for theta > 1 or for theta < 0 is zero:\n",
    "    return(pDataGivenTheta)\n",
    "# Define the prior density function. \n",
    "def prior(theta):\n",
    "    pTheta = [beta.pdf(theta,1,1),0][theta > 1 or theta <0]\n",
    "    # The theta values passed into this function are generated at random,\n",
    "    # and therefore might be inadvertently greater than 1 or less than 0.\n",
    "    # The prior for theta > 1 or for theta < 0 is zero:\n",
    "    return pTheta\n",
    "\n",
    "# Define the relative probability of the target distribution, \n",
    "# as a function of vector theta. For our application, this\n",
    "# target distribution is the unnormalized posterior distribution.\n",
    "def targetRelProb(theta,data):\n",
    "    targetRelProb = likelihood(theta, data) * prior(theta)\n",
    "    return(targetRelProb)\n",
    "\n",
    "\n",
    "# Specify the length of the trajectory, i.e., the number of jumps to try:\n",
    "trajLength = 50000 # arbitrary large number\n",
    "trajectory = np.repeat(0.0,trajLength)  ## Note 0.0 to ensure float arrays\n",
    "trajectory[0] = 0.01 # arbitrary value\n",
    "\n",
    "burnIn = ceil( 0.0 * trajLength ) # arbitrary number, less than trajLength\n",
    "# Initialize accepted, rejected counters, just to monitor performance:\n",
    "nAccepted = 0\n",
    "nRejected = 0\n"
   ]
  },
  {
   "cell_type": "code",
   "execution_count": 3,
   "metadata": {},
   "outputs": [],
   "source": [
    "# Now generate the random walk. The 't' index is time or trial in the walk.\n",
    "# Specify seed to reproduce same random walk:\n",
    "random.seed(47405)\n",
    "proposalSD = np.array([0.02,0.2,2.0])[2]\n",
    "proposalSD\n",
    "for t in range(trajLength -1):\n",
    "    currentPosition = trajectory[t]\n",
    "    # Use the proposal distribution to generate a proposed jump.\n",
    "    proposedJump = norm.rvs(loc = 0, scale = proposalSD)\n",
    "    probAccept = min(1, targetRelProb(currentPosition + proposedJump,myData )/ targetRelProb( currentPosition , myData ))\n",
    "    if uniform.rvs() < probAccept:\n",
    "        # accept the proposed jump\n",
    "        trajectory[t+1] = currentPosition + proposedJump\n",
    "        # increment the accepted counter, just to monitor performance\n",
    "        nAccepted = [nAccepted+1,nAccepted][t > burnIn]\n",
    "    else:\n",
    "        # reject the proposed jump, stay at current position\n",
    "        trajectory[t+1] = currentPosition\n",
    "        # increment the rejected counter, just to monitor performance\n",
    "        nRejected = [nRejected+1,nRejected][t > burnIn]\n",
    "        \n",
    "# Extract the post-burnIn portion of the trajectory.\n",
    "acceptedTraj = trajectory[ (burnIn+1) : len(trajectory) ]\n",
    "# End of Metropolis algorithm."
   ]
  },
  {
   "cell_type": "code",
   "execution_count": 4,
   "metadata": {},
   "outputs": [
    {
     "data": {
      "text/html": [
       "<iframe id=\"igraph\" scrolling=\"no\" style=\"border:none;\" seamless=\"seamless\" src=\"https://plot.ly/~sushmit/46.embed\" height=\"525px\" width=\"100%\"></iframe>"
      ],
      "text/plain": [
       "<plotly.tools.PlotlyDisplay object>"
      ]
     },
     "execution_count": 4,
     "metadata": {},
     "output_type": "execute_result"
    }
   ],
   "source": [
    "title = 'Prpsl.SD = {0:.2f}'.format(np.std(acceptedTraj))\n",
    "DBDA2E_utilities.plotPost(acceptedTraj,title= title)"
   ]
  }
 ],
 "metadata": {
  "kernelspec": {
   "display_name": "Python 3",
   "language": "python",
   "name": "python3"
  },
  "language_info": {
   "codemirror_mode": {
    "name": "ipython",
    "version": 3
   },
   "file_extension": ".py",
   "mimetype": "text/x-python",
   "name": "python",
   "nbconvert_exporter": "python",
   "pygments_lexer": "ipython3",
   "version": "3.6.1"
  }
 },
 "nbformat": 4,
 "nbformat_minor": 2
}
