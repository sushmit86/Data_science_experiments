{
 "cells": [
  {
   "cell_type": "code",
   "execution_count": 3,
   "metadata": {},
   "outputs": [
    {
     "name": "stdout",
     "output_type": "stream",
     "text": [
      "\n",
      "*********************************************************************\n",
      "Kruschke, J. K. (2015). Doing Bayesian Data Analysis, Second Edition:\n",
      "A Tutorial with R, JAGS, and Stan. Academic Press / Elsevier.\n",
      "*********************************************************************\n",
      "\n"
     ]
    }
   ],
   "source": [
    "graphics.off() # This closes all of R's graphics windows.\n",
    "rm(list=ls())  # Careful! This clears all of R's memory!\n",
    "\n",
    "# Load the functions used below:\n",
    "source(\"DBDA2E-utilities.R\") # Must be in R's current working directory.\n",
    "require(rjags)               # Must have previously installed package rjags."
   ]
  },
  {
   "cell_type": "code",
   "execution_count": 5,
   "metadata": {},
   "outputs": [
    {
     "name": "stdout",
     "output_type": "stream",
     "text": [
      "\n",
      "*********************************************************************\n",
      "Kruschke, J. K. (2015). Doing Bayesian Data Analysis, Second Edition:\n",
      "A Tutorial with R, JAGS, and Stan. Academic Press / Elsevier.\n",
      "*********************************************************************\n",
      "\n",
      "Compiling model graph\n",
      "   Resolving undeclared variables\n",
      "   Allocating nodes\n",
      "Graph information:\n",
      "   Observed stochastic nodes: 50\n",
      "   Unobserved stochastic nodes: 1\n",
      "   Total graph size: 54\n",
      "\n",
      "Initializing model\n",
      "\n"
     ]
    }
   ],
   "source": [
    "# Jags-ExampleScript.R \n",
    "# Accompanies the book:\n",
    "#   Kruschke, J. K. (2014). Doing Bayesian Data Analysis: \n",
    "#   A Tutorial with R, JAGS, and Stan. 2nd Edition. Academic Press / Elsevier.\n",
    "\n",
    "# Optional generic preliminaries:\n",
    "graphics.off() # This closes all of R's graphics windows.\n",
    "rm(list=ls())  # Careful! This clears all of R's memory!\n",
    "\n",
    "# Load the functions used below:\n",
    "source(\"DBDA2E-utilities.R\") # Must be in R's current working directory.\n",
    "require(rjags)               # Must have previously installed package rjags.\n",
    "\n",
    "fileNameRoot=\"Jags-ExampleScript\" # For output file names.\n",
    "\n",
    "# Load the data:\n",
    "myData = read.csv(\"z15N50.csv\") # Read data file; must be in curr. work. dir.\n",
    "y = myData$y        # The y values are in the column named y.\n",
    "Ntotal = length(y)  # Compute the total number of flips.\n",
    "dataList = list(    # Put the information into a list.\n",
    "  y = y ,\n",
    "  Ntotal = Ntotal \n",
    ")\n",
    "\n",
    "# Define the model:\n",
    "modelString = \"\n",
    "model {\n",
    "  for ( i in 1:Ntotal ) {\n",
    "    y[i] ~ dbern( theta )\n",
    "  }\n",
    "  theta ~ dbeta( 1 , 1 )\n",
    "}\n",
    "\" # close quote for modelString\n",
    "writeLines( modelString , con=\"TEMPmodel.txt\" )\n",
    "\n",
    "# Initialize the chains based on MLE of data.\n",
    "# Option: Use single initial value for all chains:\n",
    "#  thetaInit = sum(y)/length(y)\n",
    "#  initsList = list( theta=thetaInit )\n",
    "# Option: Use function that generates random values for each chain:\n",
    "initsList = function() {\n",
    "  resampledY = sample( y , replace=TRUE )\n",
    "  thetaInit = sum(resampledY)/length(resampledY)\n",
    "  thetaInit = 0.001+0.998*thetaInit # keep away from 0,1\n",
    "  return( list( theta=thetaInit ) )\n",
    "}\n",
    "\n",
    "# Run the chains:\n",
    "jagsModel = jags.model( file=\"TEMPmodel.txt\" , data=dataList , inits=initsList , \n",
    "                        n.chains=3 , n.adapt=500 )\n",
    "update( jagsModel , n.iter=500 )\n",
    "codaSamples = coda.samples( jagsModel , variable.names=c(\"theta\") ,\n",
    "                            n.iter=3334 )\n",
    "save( codaSamples , file=paste0(fileNameRoot,\"Mcmc.Rdata\") )\n",
    "\n",
    "\n",
    "\n"
   ]
  }
 ],
 "metadata": {
  "kernelspec": {
   "display_name": "R",
   "language": "R",
   "name": "ir"
  },
  "language_info": {
   "codemirror_mode": "r",
   "file_extension": ".r",
   "mimetype": "text/x-r-source",
   "name": "R",
   "pygments_lexer": "r",
   "version": "3.3.2"
  }
 },
 "nbformat": 4,
 "nbformat_minor": 2
}
