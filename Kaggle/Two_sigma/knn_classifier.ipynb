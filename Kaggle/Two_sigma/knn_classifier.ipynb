{
 "cells": [
  {
   "cell_type": "code",
   "execution_count": 33,
   "metadata": {
    "collapsed": true
   },
   "outputs": [],
   "source": [
    "from sklearn.neighbors import KNeighborsClassifier\n",
    "import pandas as pd\n",
    "import numpy as np\n",
    "knn = KNeighborsClassifier(n_neighbors=5)"
   ]
  },
  {
   "cell_type": "code",
   "execution_count": 23,
   "metadata": {
    "collapsed": false
   },
   "outputs": [],
   "source": [
    "df_train = pd.read_json('/Users/sroy/Data/Two_Sigma/train.json')\n",
    "df_test= pd.read_json('/Users/sroy/Data/Two_Sigma/test.json')"
   ]
  },
  {
   "cell_type": "code",
   "execution_count": 24,
   "metadata": {
    "collapsed": false
   },
   "outputs": [
    {
     "data": {
      "text/plain": [
       "Index(['bathrooms', 'bedrooms', 'building_id', 'created', 'description',\n",
       "       'display_address', 'features', 'interest_level', 'latitude',\n",
       "       'listing_id', 'longitude', 'manager_id', 'photos', 'price',\n",
       "       'street_address'],\n",
       "      dtype='object')"
      ]
     },
     "execution_count": 24,
     "metadata": {},
     "output_type": "execute_result"
    }
   ],
   "source": [
    "df_train.columns"
   ]
  },
  {
   "cell_type": "code",
   "execution_count": 25,
   "metadata": {
    "collapsed": false
   },
   "outputs": [],
   "source": [
    "df_train_low = df_train[df_train['interest_level']=='low']\n",
    "df_train_medium = df_train[df_train['interest_level']=='medium']\n",
    "df_train_high = df_train[df_train['interest_level']=='high']\n",
    "\n",
    "# selecting only desired \n",
    "df_train_low = df_train_low[['interest_level','longitude','latitude']]\n",
    "df_train_medium = df_train_medium[['interest_level','longitude','latitude']]\n",
    "df_train_high = df_train_high[['interest_level','longitude','latitude']]\n",
    "# getting the percentile\n",
    "\n",
    "# getting the percentile\n",
    "\n",
    "def percentile_df(df):\n",
    "    df = df[(df.longitude < np.percentile(df.longitude,95)) &\n",
    "                           (df.longitude > np.percentile(df.longitude,5)) &\n",
    "                           (df.latitude < np.percentile(df.latitude,95)) &\n",
    "                           (df.latitude > np.percentile(df.latitude,5))]\n",
    "    return df\n",
    "\n",
    "\n",
    "df_train_low = percentile_df(df_train_low)\n",
    "df_train_medium = percentile_df(df_train_medium)\n",
    "df_train_high = percentile_df(df_train_high)\n"
   ]
  },
  {
   "cell_type": "code",
   "execution_count": 27,
   "metadata": {
    "collapsed": false
   },
   "outputs": [],
   "source": [
    "df_train_model = pd.concat([df_train_low,df_train_medium,df_train_high])"
   ]
  },
  {
   "cell_type": "code",
   "execution_count": 37,
   "metadata": {
    "collapsed": false
   },
   "outputs": [],
   "source": [
    "knn.fit(df_train_model[['longitude','latitude']], df_train_model['interest_level'])\n",
    "predictions = knn.predict(df_test[['longitude','latitude']])"
   ]
  },
  {
   "cell_type": "code",
   "execution_count": 50,
   "metadata": {
    "collapsed": false
   },
   "outputs": [
    {
     "data": {
      "text/plain": [
       "5"
      ]
     },
     "execution_count": 50,
     "metadata": {},
     "output_type": "execute_result"
    }
   ],
   "source": [
    "\n"
   ]
  }
 ],
 "metadata": {
  "kernelspec": {
   "display_name": "Python [conda root]",
   "language": "python",
   "name": "conda-root-py"
  },
  "language_info": {
   "codemirror_mode": {
    "name": "ipython",
    "version": 3
   },
   "file_extension": ".py",
   "mimetype": "text/x-python",
   "name": "python",
   "nbconvert_exporter": "python",
   "pygments_lexer": "ipython3",
   "version": "3.5.2"
  }
 },
 "nbformat": 4,
 "nbformat_minor": 2
}
