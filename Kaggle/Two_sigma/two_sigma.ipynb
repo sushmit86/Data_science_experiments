{
 "cells": [
  {
   "cell_type": "code",
   "execution_count": 1,
   "metadata": {
    "collapsed": false
   },
   "outputs": [],
   "source": [
    "import pandas as pd\n",
    "import scipy as sp\n",
    "import numpy as np\n",
    "from sklearn.discriminant_analysis import LinearDiscriminantAnalysis\n",
    "from sklearn.discriminant_analysis import QuadraticDiscriminantAnalysis"
   ]
  },
  {
   "cell_type": "code",
   "execution_count": 12,
   "metadata": {
    "collapsed": true
   },
   "outputs": [],
   "source": [
    "## All bokeh libraries\n",
    "# Example Chi square test\n",
    "\n",
    "from bokeh.charts import Bar,Histogram, output_notebook, show , BoxPlot\n",
    "#TOOLS = 'box_zoom,box_select,resize,reset,save'\n",
    "TOOLS = 'save'"
   ]
  },
  {
   "cell_type": "code",
   "execution_count": 13,
   "metadata": {
    "collapsed": false
   },
   "outputs": [
    {
     "data": {
      "text/html": [
       "\n",
       "    <div class=\"bk-root\">\n",
       "        <a href=\"http://bokeh.pydata.org\" target=\"_blank\" class=\"bk-logo bk-logo-small bk-logo-notebook\"></a>\n",
       "        <span id=\"42748151-ee8a-4e44-96be-2c656c115256\">Loading BokehJS ...</span>\n",
       "    </div>"
      ]
     },
     "metadata": {},
     "output_type": "display_data"
    },
    {
     "data": {
      "application/javascript": [
       "\n",
       "(function(global) {\n",
       "  function now() {\n",
       "    return new Date();\n",
       "  }\n",
       "\n",
       "  var force = true;\n",
       "\n",
       "  if (typeof (window._bokeh_onload_callbacks) === \"undefined\" || force === true) {\n",
       "    window._bokeh_onload_callbacks = [];\n",
       "    window._bokeh_is_loading = undefined;\n",
       "  }\n",
       "\n",
       "\n",
       "  \n",
       "  if (typeof (window._bokeh_timeout) === \"undefined\" || force === true) {\n",
       "    window._bokeh_timeout = Date.now() + 5000;\n",
       "    window._bokeh_failed_load = false;\n",
       "  }\n",
       "\n",
       "  var NB_LOAD_WARNING = {'data': {'text/html':\n",
       "     \"<div style='background-color: #fdd'>\\n\"+\n",
       "     \"<p>\\n\"+\n",
       "     \"BokehJS does not appear to have successfully loaded. If loading BokehJS from CDN, this \\n\"+\n",
       "     \"may be due to a slow or bad network connection. Possible fixes:\\n\"+\n",
       "     \"</p>\\n\"+\n",
       "     \"<ul>\\n\"+\n",
       "     \"<li>re-rerun `output_notebook()` to attempt to load from CDN again, or</li>\\n\"+\n",
       "     \"<li>use INLINE resources instead, as so:</li>\\n\"+\n",
       "     \"</ul>\\n\"+\n",
       "     \"<code>\\n\"+\n",
       "     \"from bokeh.resources import INLINE\\n\"+\n",
       "     \"output_notebook(resources=INLINE)\\n\"+\n",
       "     \"</code>\\n\"+\n",
       "     \"</div>\"}};\n",
       "\n",
       "  function display_loaded() {\n",
       "    if (window.Bokeh !== undefined) {\n",
       "      document.getElementById(\"42748151-ee8a-4e44-96be-2c656c115256\").textContent = \"BokehJS successfully loaded.\";\n",
       "    } else if (Date.now() < window._bokeh_timeout) {\n",
       "      setTimeout(display_loaded, 100)\n",
       "    }\n",
       "  }\n",
       "\n",
       "  function run_callbacks() {\n",
       "    window._bokeh_onload_callbacks.forEach(function(callback) { callback() });\n",
       "    delete window._bokeh_onload_callbacks\n",
       "    console.info(\"Bokeh: all callbacks have finished\");\n",
       "  }\n",
       "\n",
       "  function load_libs(js_urls, callback) {\n",
       "    window._bokeh_onload_callbacks.push(callback);\n",
       "    if (window._bokeh_is_loading > 0) {\n",
       "      console.log(\"Bokeh: BokehJS is being loaded, scheduling callback at\", now());\n",
       "      return null;\n",
       "    }\n",
       "    if (js_urls == null || js_urls.length === 0) {\n",
       "      run_callbacks();\n",
       "      return null;\n",
       "    }\n",
       "    console.log(\"Bokeh: BokehJS not loaded, scheduling load and callback at\", now());\n",
       "    window._bokeh_is_loading = js_urls.length;\n",
       "    for (var i = 0; i < js_urls.length; i++) {\n",
       "      var url = js_urls[i];\n",
       "      var s = document.createElement('script');\n",
       "      s.src = url;\n",
       "      s.async = false;\n",
       "      s.onreadystatechange = s.onload = function() {\n",
       "        window._bokeh_is_loading--;\n",
       "        if (window._bokeh_is_loading === 0) {\n",
       "          console.log(\"Bokeh: all BokehJS libraries loaded\");\n",
       "          run_callbacks()\n",
       "        }\n",
       "      };\n",
       "      s.onerror = function() {\n",
       "        console.warn(\"failed to load library \" + url);\n",
       "      };\n",
       "      console.log(\"Bokeh: injecting script tag for BokehJS library: \", url);\n",
       "      document.getElementsByTagName(\"head\")[0].appendChild(s);\n",
       "    }\n",
       "  };var element = document.getElementById(\"42748151-ee8a-4e44-96be-2c656c115256\");\n",
       "  if (element == null) {\n",
       "    console.log(\"Bokeh: ERROR: autoload.js configured with elementid '42748151-ee8a-4e44-96be-2c656c115256' but no matching script tag was found. \")\n",
       "    return false;\n",
       "  }\n",
       "\n",
       "  var js_urls = [\"https://cdn.pydata.org/bokeh/release/bokeh-0.12.4.min.js\", \"https://cdn.pydata.org/bokeh/release/bokeh-widgets-0.12.4.min.js\"];\n",
       "\n",
       "  var inline_js = [\n",
       "    function(Bokeh) {\n",
       "      Bokeh.set_log_level(\"info\");\n",
       "    },\n",
       "    \n",
       "    function(Bokeh) {\n",
       "      \n",
       "      document.getElementById(\"42748151-ee8a-4e44-96be-2c656c115256\").textContent = \"BokehJS is loading...\";\n",
       "    },\n",
       "    function(Bokeh) {\n",
       "      console.log(\"Bokeh: injecting CSS: https://cdn.pydata.org/bokeh/release/bokeh-0.12.4.min.css\");\n",
       "      Bokeh.embed.inject_css(\"https://cdn.pydata.org/bokeh/release/bokeh-0.12.4.min.css\");\n",
       "      console.log(\"Bokeh: injecting CSS: https://cdn.pydata.org/bokeh/release/bokeh-widgets-0.12.4.min.css\");\n",
       "      Bokeh.embed.inject_css(\"https://cdn.pydata.org/bokeh/release/bokeh-widgets-0.12.4.min.css\");\n",
       "    }\n",
       "  ];\n",
       "\n",
       "  function run_inline_js() {\n",
       "    \n",
       "    if ((window.Bokeh !== undefined) || (force === true)) {\n",
       "      for (var i = 0; i < inline_js.length; i++) {\n",
       "        inline_js[i](window.Bokeh);\n",
       "      }if (force === true) {\n",
       "        display_loaded();\n",
       "      }} else if (Date.now() < window._bokeh_timeout) {\n",
       "      setTimeout(run_inline_js, 100);\n",
       "    } else if (!window._bokeh_failed_load) {\n",
       "      console.log(\"Bokeh: BokehJS failed to load within specified timeout.\");\n",
       "      window._bokeh_failed_load = true;\n",
       "    } else if (force !== true) {\n",
       "      var cell = $(document.getElementById(\"42748151-ee8a-4e44-96be-2c656c115256\")).parents('.cell').data().cell;\n",
       "      cell.output_area.append_execute_result(NB_LOAD_WARNING)\n",
       "    }\n",
       "\n",
       "  }\n",
       "\n",
       "  if (window._bokeh_is_loading === 0) {\n",
       "    console.log(\"Bokeh: BokehJS loaded, going straight to plotting\");\n",
       "    run_inline_js();\n",
       "  } else {\n",
       "    load_libs(js_urls, function() {\n",
       "      console.log(\"Bokeh: BokehJS plotting callback run at\", now());\n",
       "      run_inline_js();\n",
       "    });\n",
       "  }\n",
       "}(this));"
      ]
     },
     "metadata": {},
     "output_type": "display_data"
    }
   ],
   "source": [
    "output_notebook()"
   ]
  },
  {
   "cell_type": "code",
   "execution_count": 9,
   "metadata": {
    "collapsed": true
   },
   "outputs": [],
   "source": [
    "df_train = pd.read_json('/Users/sroy/Data/Two_Sigma/train.json')\n",
    "df_test= pd.read_json('/Users/sroy/Data/Two_Sigma/test.json')"
   ]
  },
  {
   "cell_type": "code",
   "execution_count": 4,
   "metadata": {
    "collapsed": false
   },
   "outputs": [
    {
     "data": {
      "text/html": [
       "<div>\n",
       "<table border=\"1\" class=\"dataframe\">\n",
       "  <thead>\n",
       "    <tr style=\"text-align: right;\">\n",
       "      <th></th>\n",
       "      <th>bathrooms</th>\n",
       "      <th>bedrooms</th>\n",
       "      <th>building_id</th>\n",
       "      <th>created</th>\n",
       "      <th>description</th>\n",
       "      <th>display_address</th>\n",
       "      <th>features</th>\n",
       "      <th>interest_level</th>\n",
       "      <th>latitude</th>\n",
       "      <th>listing_id</th>\n",
       "      <th>longitude</th>\n",
       "      <th>manager_id</th>\n",
       "      <th>photos</th>\n",
       "      <th>price</th>\n",
       "      <th>street_address</th>\n",
       "    </tr>\n",
       "  </thead>\n",
       "  <tbody>\n",
       "    <tr>\n",
       "      <th>10</th>\n",
       "      <td>1.5</td>\n",
       "      <td>3</td>\n",
       "      <td>53a5b119ba8f7b61d4e010512e0dfc85</td>\n",
       "      <td>2016-06-24 07:54:24</td>\n",
       "      <td>A Brand New 3 Bedroom 1.5 bath ApartmentEnjoy ...</td>\n",
       "      <td>Metropolitan Avenue</td>\n",
       "      <td>[]</td>\n",
       "      <td>medium</td>\n",
       "      <td>40.7145</td>\n",
       "      <td>7211212</td>\n",
       "      <td>-73.9425</td>\n",
       "      <td>5ba989232d0489da1b5f2c45f6688adc</td>\n",
       "      <td>[https://photos.renthop.com/2/7211212_1ed4542e...</td>\n",
       "      <td>3000</td>\n",
       "      <td>792 Metropolitan Avenue</td>\n",
       "    </tr>\n",
       "    <tr>\n",
       "      <th>10000</th>\n",
       "      <td>1.0</td>\n",
       "      <td>2</td>\n",
       "      <td>c5c8a357cba207596b04d1afd1e4f130</td>\n",
       "      <td>2016-06-12 12:19:27</td>\n",
       "      <td></td>\n",
       "      <td>Columbus Avenue</td>\n",
       "      <td>[Doorman, Elevator, Fitness Center, Cats Allow...</td>\n",
       "      <td>low</td>\n",
       "      <td>40.7947</td>\n",
       "      <td>7150865</td>\n",
       "      <td>-73.9667</td>\n",
       "      <td>7533621a882f71e25173b27e3139d83d</td>\n",
       "      <td>[https://photos.renthop.com/2/7150865_be3306c5...</td>\n",
       "      <td>5465</td>\n",
       "      <td>808 Columbus Avenue</td>\n",
       "    </tr>\n",
       "    <tr>\n",
       "      <th>100004</th>\n",
       "      <td>1.0</td>\n",
       "      <td>1</td>\n",
       "      <td>c3ba40552e2120b0acfc3cb5730bb2aa</td>\n",
       "      <td>2016-04-17 03:26:41</td>\n",
       "      <td>Top Top West Village location, beautiful Pre-w...</td>\n",
       "      <td>W 13 Street</td>\n",
       "      <td>[Laundry In Building, Dishwasher, Hardwood Flo...</td>\n",
       "      <td>high</td>\n",
       "      <td>40.7388</td>\n",
       "      <td>6887163</td>\n",
       "      <td>-74.0018</td>\n",
       "      <td>d9039c43983f6e564b1482b273bd7b01</td>\n",
       "      <td>[https://photos.renthop.com/2/6887163_de85c427...</td>\n",
       "      <td>2850</td>\n",
       "      <td>241 W 13 Street</td>\n",
       "    </tr>\n",
       "    <tr>\n",
       "      <th>100007</th>\n",
       "      <td>1.0</td>\n",
       "      <td>1</td>\n",
       "      <td>28d9ad350afeaab8027513a3e52ac8d5</td>\n",
       "      <td>2016-04-18 02:22:02</td>\n",
       "      <td>Building Amenities - Garage - Garden - fitness...</td>\n",
       "      <td>East 49th Street</td>\n",
       "      <td>[Hardwood Floors, No Fee]</td>\n",
       "      <td>low</td>\n",
       "      <td>40.7539</td>\n",
       "      <td>6888711</td>\n",
       "      <td>-73.9677</td>\n",
       "      <td>1067e078446a7897d2da493d2f741316</td>\n",
       "      <td>[https://photos.renthop.com/2/6888711_6e660cee...</td>\n",
       "      <td>3275</td>\n",
       "      <td>333 East 49th Street</td>\n",
       "    </tr>\n",
       "    <tr>\n",
       "      <th>100013</th>\n",
       "      <td>1.0</td>\n",
       "      <td>4</td>\n",
       "      <td>0</td>\n",
       "      <td>2016-04-28 01:32:41</td>\n",
       "      <td>Beautifully renovated 3 bedroom flex 4 bedroom...</td>\n",
       "      <td>West 143rd Street</td>\n",
       "      <td>[Pre-War]</td>\n",
       "      <td>low</td>\n",
       "      <td>40.8241</td>\n",
       "      <td>6934781</td>\n",
       "      <td>-73.9493</td>\n",
       "      <td>98e13ad4b495b9613cef886d79a6291f</td>\n",
       "      <td>[https://photos.renthop.com/2/6934781_1fa4b41a...</td>\n",
       "      <td>3350</td>\n",
       "      <td>500 West 143rd Street</td>\n",
       "    </tr>\n",
       "  </tbody>\n",
       "</table>\n",
       "</div>"
      ],
      "text/plain": [
       "        bathrooms  bedrooms                       building_id  \\\n",
       "10            1.5         3  53a5b119ba8f7b61d4e010512e0dfc85   \n",
       "10000         1.0         2  c5c8a357cba207596b04d1afd1e4f130   \n",
       "100004        1.0         1  c3ba40552e2120b0acfc3cb5730bb2aa   \n",
       "100007        1.0         1  28d9ad350afeaab8027513a3e52ac8d5   \n",
       "100013        1.0         4                                 0   \n",
       "\n",
       "                    created  \\\n",
       "10      2016-06-24 07:54:24   \n",
       "10000   2016-06-12 12:19:27   \n",
       "100004  2016-04-17 03:26:41   \n",
       "100007  2016-04-18 02:22:02   \n",
       "100013  2016-04-28 01:32:41   \n",
       "\n",
       "                                              description  \\\n",
       "10      A Brand New 3 Bedroom 1.5 bath ApartmentEnjoy ...   \n",
       "10000                                                       \n",
       "100004  Top Top West Village location, beautiful Pre-w...   \n",
       "100007  Building Amenities - Garage - Garden - fitness...   \n",
       "100013  Beautifully renovated 3 bedroom flex 4 bedroom...   \n",
       "\n",
       "            display_address  \\\n",
       "10      Metropolitan Avenue   \n",
       "10000       Columbus Avenue   \n",
       "100004          W 13 Street   \n",
       "100007     East 49th Street   \n",
       "100013    West 143rd Street   \n",
       "\n",
       "                                                 features interest_level  \\\n",
       "10                                                     []         medium   \n",
       "10000   [Doorman, Elevator, Fitness Center, Cats Allow...            low   \n",
       "100004  [Laundry In Building, Dishwasher, Hardwood Flo...           high   \n",
       "100007                          [Hardwood Floors, No Fee]            low   \n",
       "100013                                          [Pre-War]            low   \n",
       "\n",
       "        latitude  listing_id  longitude                        manager_id  \\\n",
       "10       40.7145     7211212   -73.9425  5ba989232d0489da1b5f2c45f6688adc   \n",
       "10000    40.7947     7150865   -73.9667  7533621a882f71e25173b27e3139d83d   \n",
       "100004   40.7388     6887163   -74.0018  d9039c43983f6e564b1482b273bd7b01   \n",
       "100007   40.7539     6888711   -73.9677  1067e078446a7897d2da493d2f741316   \n",
       "100013   40.8241     6934781   -73.9493  98e13ad4b495b9613cef886d79a6291f   \n",
       "\n",
       "                                                   photos  price  \\\n",
       "10      [https://photos.renthop.com/2/7211212_1ed4542e...   3000   \n",
       "10000   [https://photos.renthop.com/2/7150865_be3306c5...   5465   \n",
       "100004  [https://photos.renthop.com/2/6887163_de85c427...   2850   \n",
       "100007  [https://photos.renthop.com/2/6888711_6e660cee...   3275   \n",
       "100013  [https://photos.renthop.com/2/6934781_1fa4b41a...   3350   \n",
       "\n",
       "                 street_address  \n",
       "10      792 Metropolitan Avenue  \n",
       "10000       808 Columbus Avenue  \n",
       "100004          241 W 13 Street  \n",
       "100007     333 East 49th Street  \n",
       "100013    500 West 143rd Street  "
      ]
     },
     "execution_count": 4,
     "metadata": {},
     "output_type": "execute_result"
    }
   ],
   "source": [
    "df_train.head()"
   ]
  },
  {
   "cell_type": "code",
   "execution_count": 18,
   "metadata": {
    "collapsed": false
   },
   "outputs": [],
   "source": [
    "# desc=df.description\n",
    "# street_address = df.street_address\n"
   ]
  },
  {
   "cell_type": "code",
   "execution_count": 66,
   "metadata": {
    "collapsed": false
   },
   "outputs": [],
   "source": [
    "# do some descriptive analysis\n",
    "# grouped = df.groupby(['building_id'])\n",
    "# grouped.count()\n",
    "#df.listing_id.value_counts()\n",
    "#df[df['building_id']=='96274288c84ddd7d5c5d8e425ee75027']"
   ]
  },
  {
   "cell_type": "code",
   "execution_count": 125,
   "metadata": {
    "collapsed": false
   },
   "outputs": [],
   "source": [
    "clf = LinearDiscriminantAnalysis(solver=\"svd\")\n",
    "X_train = df_train[['bathrooms','bedrooms','price','latitude','longitude']]\n",
    "#X_train = df_train[['bathrooms','bedrooms','price']]\n",
    "Y_train = df_train[['interest_level']]\n",
    "X_test = df_test[['bathrooms','bedrooms','price','latitude','longitude']]\n",
    "#X_test = df_test[['bathrooms','bedrooms','price']]\n"
   ]
  },
  {
   "cell_type": "code",
   "execution_count": 126,
   "metadata": {
    "collapsed": false,
    "scrolled": true
   },
   "outputs": [
    {
     "name": "stderr",
     "output_type": "stream",
     "text": [
      "/Users/sroy/anaconda/lib/python3.5/site-packages/sklearn/utils/validation.py:526: DataConversionWarning: A column-vector y was passed when a 1d array was expected. Please change the shape of y to (n_samples, ), for example using ravel().\n",
      "  y = column_or_1d(y, warn=True)\n"
     ]
    }
   ],
   "source": [
    "#lda = LinearDiscriminantAnalysis(solver=\"svd\", store_covariance=True)\n",
    "#Y_pred = lda.fit(X_train, Y_train).predict(X_test)\n",
    "clf.fit(X_train, Y_train)\n",
    "pred =clf.predict(X_test)"
   ]
  },
  {
   "cell_type": "code",
   "execution_count": 141,
   "metadata": {
    "collapsed": false
   },
   "outputs": [],
   "source": [
    "prob =clf.predict_proba(X_test)"
   ]
  },
  {
   "cell_type": "code",
   "execution_count": 142,
   "metadata": {
    "collapsed": false
   },
   "outputs": [
    {
     "data": {
      "text/plain": [
       "array([[ 0.11003009,  0.6148514 ,  0.27511851],\n",
       "       [ 0.12149961,  0.57461352,  0.30388687],\n",
       "       [ 0.10996921,  0.615171  ,  0.27485979],\n",
       "       ..., \n",
       "       [ 0.0994605 ,  0.65380658,  0.24673292],\n",
       "       [ 0.11072209,  0.61466352,  0.27461439],\n",
       "       [ 0.12160684,  0.57475376,  0.3036394 ]])"
      ]
     },
     "execution_count": 142,
     "metadata": {},
     "output_type": "execute_result"
    }
   ],
   "source": [
    "prob"
   ]
  },
  {
   "cell_type": "code",
   "execution_count": 143,
   "metadata": {
    "collapsed": false
   },
   "outputs": [
    {
     "data": {
      "text/plain": [
       "array(['high', 'low', 'medium'], \n",
       "      dtype='<U6')"
      ]
     },
     "execution_count": 143,
     "metadata": {},
     "output_type": "execute_result"
    }
   ],
   "source": [
    "clf.classes_"
   ]
  },
  {
   "cell_type": "code",
   "execution_count": 146,
   "metadata": {
    "collapsed": false
   },
   "outputs": [],
   "source": [
    "df_output=pd.DataFrame(prob)"
   ]
  },
  {
   "cell_type": "code",
   "execution_count": 148,
   "metadata": {
    "collapsed": false
   },
   "outputs": [],
   "source": [
    "df_output.to_csv('lda_submission.csv')"
   ]
  },
  {
   "cell_type": "code",
   "execution_count": 159,
   "metadata": {
    "collapsed": false,
    "scrolled": true
   },
   "outputs": [
    {
     "name": "stderr",
     "output_type": "stream",
     "text": [
      "/Users/sroy/anaconda/lib/python3.5/site-packages/sklearn/utils/validation.py:526: DataConversionWarning: A column-vector y was passed when a 1d array was expected. Please change the shape of y to (n_samples, ), for example using ravel().\n",
      "  y = column_or_1d(y, warn=True)\n"
     ]
    },
    {
     "data": {
      "text/plain": [
       "array(['high', 'low', 'medium'], dtype=object)"
      ]
     },
     "execution_count": 159,
     "metadata": {},
     "output_type": "execute_result"
    }
   ],
   "source": [
    "clf = QuadraticDiscriminantAnalysis()\n",
    "clf.fit(X_train, Y_train)\n",
    "pred =clf.predict(X_test)\n",
    "clf.classes_"
   ]
  },
  {
   "cell_type": "code",
   "execution_count": 157,
   "metadata": {
    "collapsed": false
   },
   "outputs": [],
   "source": [
    "prob=clf.predict_proba(X_test)\n",
    "df_output=pd.DataFrame(prob)"
   ]
  },
  {
   "cell_type": "code",
   "execution_count": 158,
   "metadata": {
    "collapsed": true
   },
   "outputs": [],
   "source": [
    "df_output.to_csv('qda_submission.csv')"
   ]
  },
  {
   "cell_type": "code",
   "execution_count": 162,
   "metadata": {
    "collapsed": false
   },
   "outputs": [
    {
     "data": {
      "text/plain": [
       "{'high', 'low', 'medium'}"
      ]
     },
     "execution_count": 162,
     "metadata": {},
     "output_type": "execute_result"
    }
   ],
   "source": [
    "set(pred)"
   ]
  },
  {
   "cell_type": "code",
   "execution_count": 10,
   "metadata": {
    "collapsed": false
   },
   "outputs": [
    {
     "name": "stdout",
     "output_type": "stream",
     "text": [
      "Test Rows :  74659\n",
      "Train rows : 49352\n"
     ]
    }
   ],
   "source": [
    "print(\"Test Rows : \", df_test.shape[0])\n",
    "print(\"Train rows :\", df_train.shape[0])"
   ]
  },
  {
   "cell_type": "code",
   "execution_count": 16,
   "metadata": {
    "collapsed": false
   },
   "outputs": [
    {
     "name": "stdout",
     "output_type": "stream",
     "text": [
      "low       34284\n",
      "medium    11229\n",
      "high       3839\n",
      "Name: interest_level, dtype: int64\n"
     ]
    }
   ],
   "source": [
    "int_level = df_train['interest_level'].value_counts()\n",
    "print(int_level)"
   ]
  },
  {
   "cell_type": "code",
   "execution_count": 28,
   "metadata": {
    "collapsed": false
   },
   "outputs": [
    {
     "data": {
      "text/html": [
       "\n",
       "\n",
       "    <div class=\"bk-root\">\n",
       "        <div class=\"bk-plotdiv\" id=\"3f36155b-8a80-4867-880d-72ece72a7752\"></div>\n",
       "    </div>\n",
       "<script type=\"text/javascript\">\n",
       "  \n",
       "  (function(global) {\n",
       "    function now() {\n",
       "      return new Date();\n",
       "    }\n",
       "  \n",
       "    var force = false;\n",
       "  \n",
       "    if (typeof (window._bokeh_onload_callbacks) === \"undefined\" || force === true) {\n",
       "      window._bokeh_onload_callbacks = [];\n",
       "      window._bokeh_is_loading = undefined;\n",
       "    }\n",
       "  \n",
       "  \n",
       "    \n",
       "    if (typeof (window._bokeh_timeout) === \"undefined\" || force === true) {\n",
       "      window._bokeh_timeout = Date.now() + 0;\n",
       "      window._bokeh_failed_load = false;\n",
       "    }\n",
       "  \n",
       "    var NB_LOAD_WARNING = {'data': {'text/html':\n",
       "       \"<div style='background-color: #fdd'>\\n\"+\n",
       "       \"<p>\\n\"+\n",
       "       \"BokehJS does not appear to have successfully loaded. If loading BokehJS from CDN, this \\n\"+\n",
       "       \"may be due to a slow or bad network connection. Possible fixes:\\n\"+\n",
       "       \"</p>\\n\"+\n",
       "       \"<ul>\\n\"+\n",
       "       \"<li>re-rerun `output_notebook()` to attempt to load from CDN again, or</li>\\n\"+\n",
       "       \"<li>use INLINE resources instead, as so:</li>\\n\"+\n",
       "       \"</ul>\\n\"+\n",
       "       \"<code>\\n\"+\n",
       "       \"from bokeh.resources import INLINE\\n\"+\n",
       "       \"output_notebook(resources=INLINE)\\n\"+\n",
       "       \"</code>\\n\"+\n",
       "       \"</div>\"}};\n",
       "  \n",
       "    function display_loaded() {\n",
       "      if (window.Bokeh !== undefined) {\n",
       "        document.getElementById(\"3f36155b-8a80-4867-880d-72ece72a7752\").textContent = \"BokehJS successfully loaded.\";\n",
       "      } else if (Date.now() < window._bokeh_timeout) {\n",
       "        setTimeout(display_loaded, 100)\n",
       "      }\n",
       "    }\n",
       "  \n",
       "    function run_callbacks() {\n",
       "      window._bokeh_onload_callbacks.forEach(function(callback) { callback() });\n",
       "      delete window._bokeh_onload_callbacks\n",
       "      console.info(\"Bokeh: all callbacks have finished\");\n",
       "    }\n",
       "  \n",
       "    function load_libs(js_urls, callback) {\n",
       "      window._bokeh_onload_callbacks.push(callback);\n",
       "      if (window._bokeh_is_loading > 0) {\n",
       "        console.log(\"Bokeh: BokehJS is being loaded, scheduling callback at\", now());\n",
       "        return null;\n",
       "      }\n",
       "      if (js_urls == null || js_urls.length === 0) {\n",
       "        run_callbacks();\n",
       "        return null;\n",
       "      }\n",
       "      console.log(\"Bokeh: BokehJS not loaded, scheduling load and callback at\", now());\n",
       "      window._bokeh_is_loading = js_urls.length;\n",
       "      for (var i = 0; i < js_urls.length; i++) {\n",
       "        var url = js_urls[i];\n",
       "        var s = document.createElement('script');\n",
       "        s.src = url;\n",
       "        s.async = false;\n",
       "        s.onreadystatechange = s.onload = function() {\n",
       "          window._bokeh_is_loading--;\n",
       "          if (window._bokeh_is_loading === 0) {\n",
       "            console.log(\"Bokeh: all BokehJS libraries loaded\");\n",
       "            run_callbacks()\n",
       "          }\n",
       "        };\n",
       "        s.onerror = function() {\n",
       "          console.warn(\"failed to load library \" + url);\n",
       "        };\n",
       "        console.log(\"Bokeh: injecting script tag for BokehJS library: \", url);\n",
       "        document.getElementsByTagName(\"head\")[0].appendChild(s);\n",
       "      }\n",
       "    };var element = document.getElementById(\"3f36155b-8a80-4867-880d-72ece72a7752\");\n",
       "    if (element == null) {\n",
       "      console.log(\"Bokeh: ERROR: autoload.js configured with elementid '3f36155b-8a80-4867-880d-72ece72a7752' but no matching script tag was found. \")\n",
       "      return false;\n",
       "    }\n",
       "  \n",
       "    var js_urls = [];\n",
       "  \n",
       "    var inline_js = [\n",
       "      function(Bokeh) {\n",
       "        (function() {\n",
       "          var fn = function() {\n",
       "            var docs_json = {\"a731a1d8-78f8-4974-b061-82c0fe8f22a7\":{\"roots\":{\"references\":[{\"attributes\":{\"plot\":{\"id\":\"c21e4665-8de5-4237-819d-0d4f2c0d6a2b\",\"subtype\":\"Chart\",\"type\":\"Plot\"}},\"id\":\"e0780546-8dc6-40de-902e-c67392e81549\",\"type\":\"ResetTool\"},{\"attributes\":{},\"id\":\"9c2aaf02-c3d1-4780-a69d-d2a0dae207d6\",\"type\":\"BasicTicker\"},{\"attributes\":{},\"id\":\"3887743d-b989-443f-b50f-9e1005376c7b\",\"type\":\"CategoricalTicker\"},{\"attributes\":{\"plot\":{\"id\":\"c21e4665-8de5-4237-819d-0d4f2c0d6a2b\",\"subtype\":\"Chart\",\"type\":\"Plot\"}},\"id\":\"be209550-76fa-408e-846b-c9a1af097d67\",\"type\":\"WheelZoomTool\"},{\"attributes\":{\"items\":[{\"id\":\"33d636c7-c2dd-4bb1-8d84-c5f2d44fc5bc\",\"type\":\"LegendItem\"},{\"id\":\"2c8ca856-6d90-41e1-9dbf-8c8e9125e3de\",\"type\":\"LegendItem\"},{\"id\":\"44a45791-180e-45b2-908d-868f8895e284\",\"type\":\"LegendItem\"}],\"location\":\"top_left\",\"plot\":{\"id\":\"c21e4665-8de5-4237-819d-0d4f2c0d6a2b\",\"subtype\":\"Chart\",\"type\":\"Plot\"}},\"id\":\"020f6ddf-560d-4e8a-9248-fd328f9aebbe\",\"type\":\"Legend\"},{\"attributes\":{\"dimension\":1,\"plot\":{\"id\":\"c21e4665-8de5-4237-819d-0d4f2c0d6a2b\",\"subtype\":\"Chart\",\"type\":\"Plot\"},\"ticker\":{\"id\":\"9c2aaf02-c3d1-4780-a69d-d2a0dae207d6\",\"type\":\"BasicTicker\"}},\"id\":\"2384fda2-dc3c-4571-88ba-ad671ecdd3fb\",\"type\":\"Grid\"},{\"attributes\":{\"callback\":null,\"factors\":[\"high\",\"low\",\"medium\"]},\"id\":\"0a61a016-ce7f-47c2-976e-85f87565ed1a\",\"type\":\"FactorRange\"},{\"attributes\":{\"overlay\":{\"id\":\"9cdc9a03-e2fa-4943-a223-c395e2f5c792\",\"type\":\"BoxAnnotation\"},\"plot\":{\"id\":\"c21e4665-8de5-4237-819d-0d4f2c0d6a2b\",\"subtype\":\"Chart\",\"type\":\"Plot\"}},\"id\":\"2272c265-c170-434c-8e1d-7a612e45ebbf\",\"type\":\"BoxZoomTool\"},{\"attributes\":{\"axis_label\":\"Sum( Interest_Level )\",\"formatter\":{\"id\":\"a27b314b-6ecd-4bd1-af96-67db478f541d\",\"type\":\"BasicTickFormatter\"},\"plot\":{\"id\":\"c21e4665-8de5-4237-819d-0d4f2c0d6a2b\",\"subtype\":\"Chart\",\"type\":\"Plot\"},\"ticker\":{\"id\":\"9c2aaf02-c3d1-4780-a69d-d2a0dae207d6\",\"type\":\"BasicTicker\"}},\"id\":\"e128bbfc-192e-457f-bca8-ee7dae4fb174\",\"type\":\"LinearAxis\"},{\"attributes\":{\"callback\":null,\"column_names\":[\"fill_alpha\",\"color\",\"x\",\"width\",\"line_color\",\"y\",\"label\",\"line_alpha\",\"height\"],\"data\":{\"chart_index\":[{\"index\":\"medium\"}],\"color\":[\"#f22c40\"],\"fill_alpha\":[0.8],\"height\":[11229.0],\"index\":[\"medium\"],\"label\":[{\"index\":\"medium\"}],\"line_alpha\":[1.0],\"line_color\":[\"white\"],\"width\":[0.8],\"x\":[\"medium\"],\"y\":[5614.5]}},\"id\":\"2568adc2-41ae-4bfb-b362-3d30a3ed7009\",\"type\":\"ColumnDataSource\"},{\"attributes\":{\"fill_alpha\":{\"field\":\"fill_alpha\"},\"fill_color\":{\"field\":\"color\"},\"height\":{\"field\":\"height\",\"units\":\"data\"},\"line_color\":{\"field\":\"line_color\"},\"width\":{\"field\":\"width\",\"units\":\"data\"},\"x\":{\"field\":\"x\"},\"y\":{\"field\":\"y\"}},\"id\":\"72b1530c-0bbb-45bb-8e44-2074894a0780\",\"type\":\"Rect\"},{\"attributes\":{},\"id\":\"bb2aee1b-c45b-4226-8d07-05bbda3f4b57\",\"type\":\"ToolEvents\"},{\"attributes\":{\"label\":{\"value\":\"low\"},\"renderers\":[{\"id\":\"6fb6be05-5b5e-4ead-be45-d0c532addcad\",\"type\":\"GlyphRenderer\"}]},\"id\":\"33d636c7-c2dd-4bb1-8d84-c5f2d44fc5bc\",\"type\":\"LegendItem\"},{\"attributes\":{\"callback\":null,\"column_names\":[\"fill_alpha\",\"color\",\"x\",\"width\",\"line_color\",\"y\",\"label\",\"line_alpha\",\"height\"],\"data\":{\"chart_index\":[{\"index\":\"high\"}],\"color\":[\"#f22c40\"],\"fill_alpha\":[0.8],\"height\":[3839.0],\"index\":[\"high\"],\"label\":[{\"index\":\"high\"}],\"line_alpha\":[1.0],\"line_color\":[\"white\"],\"width\":[0.8],\"x\":[\"high\"],\"y\":[1919.5]}},\"id\":\"de293868-c786-4e41-af9d-473258c102c4\",\"type\":\"ColumnDataSource\"},{\"attributes\":{\"data_source\":{\"id\":\"de293868-c786-4e41-af9d-473258c102c4\",\"type\":\"ColumnDataSource\"},\"glyph\":{\"id\":\"b813469a-c6db-4569-a44f-a8a69c167011\",\"type\":\"Rect\"},\"hover_glyph\":null,\"nonselection_glyph\":null,\"selection_glyph\":null},\"id\":\"19023bcc-cd29-41f5-9010-781a26b3fce5\",\"type\":\"GlyphRenderer\"},{\"attributes\":{\"active_drag\":\"auto\",\"active_scroll\":\"auto\",\"active_tap\":\"auto\",\"tools\":[{\"id\":\"369f77aa-53ac-4239-87fc-1a936e2c0be4\",\"type\":\"PanTool\"},{\"id\":\"be209550-76fa-408e-846b-c9a1af097d67\",\"type\":\"WheelZoomTool\"},{\"id\":\"2272c265-c170-434c-8e1d-7a612e45ebbf\",\"type\":\"BoxZoomTool\"},{\"id\":\"2943eb50-223d-40f2-846d-89918bf54176\",\"type\":\"SaveTool\"},{\"id\":\"e0780546-8dc6-40de-902e-c67392e81549\",\"type\":\"ResetTool\"},{\"id\":\"c3c19454-3923-4a69-b24e-e59e634a3f1d\",\"type\":\"HelpTool\"}]},\"id\":\"898270cf-00e2-49d0-a9a8-d6777bdc85a5\",\"type\":\"Toolbar\"},{\"attributes\":{\"fill_alpha\":{\"field\":\"fill_alpha\"},\"fill_color\":{\"field\":\"color\"},\"height\":{\"field\":\"height\",\"units\":\"data\"},\"line_color\":{\"field\":\"line_color\"},\"width\":{\"field\":\"width\",\"units\":\"data\"},\"x\":{\"field\":\"x\"},\"y\":{\"field\":\"y\"}},\"id\":\"b813469a-c6db-4569-a44f-a8a69c167011\",\"type\":\"Rect\"},{\"attributes\":{\"plot\":null,\"text\":null},\"id\":\"87039f57-4296-4461-bdab-baf5414eac49\",\"type\":\"Title\"},{\"attributes\":{\"plot\":{\"id\":\"c21e4665-8de5-4237-819d-0d4f2c0d6a2b\",\"subtype\":\"Chart\",\"type\":\"Plot\"}},\"id\":\"2943eb50-223d-40f2-846d-89918bf54176\",\"type\":\"SaveTool\"},{\"attributes\":{\"formatter\":{\"id\":\"591133c3-aedf-4dc7-9f13-14e7ad1991c2\",\"type\":\"CategoricalTickFormatter\"},\"major_label_orientation\":0.7853981633974483,\"plot\":{\"id\":\"c21e4665-8de5-4237-819d-0d4f2c0d6a2b\",\"subtype\":\"Chart\",\"type\":\"Plot\"},\"ticker\":{\"id\":\"3887743d-b989-443f-b50f-9e1005376c7b\",\"type\":\"CategoricalTicker\"}},\"id\":\"aa04b52f-ef0f-4ced-8764-405ecb6801ff\",\"type\":\"CategoricalAxis\"},{\"attributes\":{\"label\":{\"value\":\"medium\"},\"renderers\":[{\"id\":\"8598fe19-ee82-4e45-8e22-22a81f5568df\",\"type\":\"GlyphRenderer\"}]},\"id\":\"2c8ca856-6d90-41e1-9dbf-8c8e9125e3de\",\"type\":\"LegendItem\"},{\"attributes\":{\"fill_alpha\":{\"field\":\"fill_alpha\"},\"fill_color\":{\"field\":\"color\"},\"height\":{\"field\":\"height\",\"units\":\"data\"},\"line_color\":{\"field\":\"line_color\"},\"width\":{\"field\":\"width\",\"units\":\"data\"},\"x\":{\"field\":\"x\"},\"y\":{\"field\":\"y\"}},\"id\":\"2ce449bb-58de-4ca0-a9a0-54f68775f4b3\",\"type\":\"Rect\"},{\"attributes\":{},\"id\":\"591133c3-aedf-4dc7-9f13-14e7ad1991c2\",\"type\":\"CategoricalTickFormatter\"},{\"attributes\":{},\"id\":\"a27b314b-6ecd-4bd1-af96-67db478f541d\",\"type\":\"BasicTickFormatter\"},{\"attributes\":{\"label\":{\"value\":\"high\"},\"renderers\":[{\"id\":\"19023bcc-cd29-41f5-9010-781a26b3fce5\",\"type\":\"GlyphRenderer\"}]},\"id\":\"44a45791-180e-45b2-908d-868f8895e284\",\"type\":\"LegendItem\"},{\"attributes\":{\"callback\":null,\"end\":35998.2},\"id\":\"7c4f39d0-30df-4cf7-9cff-fcd9b475a899\",\"type\":\"Range1d\"},{\"attributes\":{\"data_source\":{\"id\":\"2568adc2-41ae-4bfb-b362-3d30a3ed7009\",\"type\":\"ColumnDataSource\"},\"glyph\":{\"id\":\"2ce449bb-58de-4ca0-a9a0-54f68775f4b3\",\"type\":\"Rect\"},\"hover_glyph\":null,\"nonselection_glyph\":null,\"selection_glyph\":null},\"id\":\"8598fe19-ee82-4e45-8e22-22a81f5568df\",\"type\":\"GlyphRenderer\"},{\"attributes\":{\"plot\":{\"id\":\"c21e4665-8de5-4237-819d-0d4f2c0d6a2b\",\"subtype\":\"Chart\",\"type\":\"Plot\"}},\"id\":\"369f77aa-53ac-4239-87fc-1a936e2c0be4\",\"type\":\"PanTool\"},{\"attributes\":{\"plot\":{\"id\":\"c21e4665-8de5-4237-819d-0d4f2c0d6a2b\",\"subtype\":\"Chart\",\"type\":\"Plot\"}},\"id\":\"c3c19454-3923-4a69-b24e-e59e634a3f1d\",\"type\":\"HelpTool\"},{\"attributes\":{\"callback\":null,\"column_names\":[\"fill_alpha\",\"color\",\"x\",\"width\",\"line_color\",\"y\",\"label\",\"line_alpha\",\"height\"],\"data\":{\"chart_index\":[{\"index\":\"low\"}],\"color\":[\"#f22c40\"],\"fill_alpha\":[0.8],\"height\":[34284.0],\"index\":[\"low\"],\"label\":[{\"index\":\"low\"}],\"line_alpha\":[1.0],\"line_color\":[\"white\"],\"width\":[0.8],\"x\":[\"low\"],\"y\":[17142.0]}},\"id\":\"d3a2047f-261f-4643-b960-788c29b0afdf\",\"type\":\"ColumnDataSource\"},{\"attributes\":{\"below\":[{\"id\":\"aa04b52f-ef0f-4ced-8764-405ecb6801ff\",\"type\":\"CategoricalAxis\"}],\"css_classes\":null,\"left\":[{\"id\":\"e128bbfc-192e-457f-bca8-ee7dae4fb174\",\"type\":\"LinearAxis\"}],\"renderers\":[{\"id\":\"9cdc9a03-e2fa-4943-a223-c395e2f5c792\",\"type\":\"BoxAnnotation\"},{\"id\":\"6fb6be05-5b5e-4ead-be45-d0c532addcad\",\"type\":\"GlyphRenderer\"},{\"id\":\"8598fe19-ee82-4e45-8e22-22a81f5568df\",\"type\":\"GlyphRenderer\"},{\"id\":\"19023bcc-cd29-41f5-9010-781a26b3fce5\",\"type\":\"GlyphRenderer\"},{\"id\":\"020f6ddf-560d-4e8a-9248-fd328f9aebbe\",\"type\":\"Legend\"},{\"id\":\"aa04b52f-ef0f-4ced-8764-405ecb6801ff\",\"type\":\"CategoricalAxis\"},{\"id\":\"e128bbfc-192e-457f-bca8-ee7dae4fb174\",\"type\":\"LinearAxis\"},{\"id\":\"2384fda2-dc3c-4571-88ba-ad671ecdd3fb\",\"type\":\"Grid\"}],\"title\":{\"id\":\"87039f57-4296-4461-bdab-baf5414eac49\",\"type\":\"Title\"},\"tool_events\":{\"id\":\"bb2aee1b-c45b-4226-8d07-05bbda3f4b57\",\"type\":\"ToolEvents\"},\"toolbar\":{\"id\":\"898270cf-00e2-49d0-a9a8-d6777bdc85a5\",\"type\":\"Toolbar\"},\"x_mapper_type\":\"auto\",\"x_range\":{\"id\":\"0a61a016-ce7f-47c2-976e-85f87565ed1a\",\"type\":\"FactorRange\"},\"y_mapper_type\":\"auto\",\"y_range\":{\"id\":\"7c4f39d0-30df-4cf7-9cff-fcd9b475a899\",\"type\":\"Range1d\"}},\"id\":\"c21e4665-8de5-4237-819d-0d4f2c0d6a2b\",\"subtype\":\"Chart\",\"type\":\"Plot\"},{\"attributes\":{\"data_source\":{\"id\":\"d3a2047f-261f-4643-b960-788c29b0afdf\",\"type\":\"ColumnDataSource\"},\"glyph\":{\"id\":\"72b1530c-0bbb-45bb-8e44-2074894a0780\",\"type\":\"Rect\"},\"hover_glyph\":null,\"nonselection_glyph\":null,\"selection_glyph\":null},\"id\":\"6fb6be05-5b5e-4ead-be45-d0c532addcad\",\"type\":\"GlyphRenderer\"},{\"attributes\":{\"bottom_units\":\"screen\",\"fill_alpha\":{\"value\":0.5},\"fill_color\":{\"value\":\"lightgrey\"},\"left_units\":\"screen\",\"level\":\"overlay\",\"line_alpha\":{\"value\":1.0},\"line_color\":{\"value\":\"black\"},\"line_dash\":[4,4],\"line_width\":{\"value\":2},\"plot\":null,\"render_mode\":\"css\",\"right_units\":\"screen\",\"top_units\":\"screen\"},\"id\":\"9cdc9a03-e2fa-4943-a223-c395e2f5c792\",\"type\":\"BoxAnnotation\"}],\"root_ids\":[\"c21e4665-8de5-4237-819d-0d4f2c0d6a2b\"]},\"title\":\"Bokeh Application\",\"version\":\"0.12.4\"}};\n",
       "            var render_items = [{\"docid\":\"a731a1d8-78f8-4974-b061-82c0fe8f22a7\",\"elementid\":\"3f36155b-8a80-4867-880d-72ece72a7752\",\"modelid\":\"c21e4665-8de5-4237-819d-0d4f2c0d6a2b\"}];\n",
       "            \n",
       "            Bokeh.embed.embed_items(docs_json, render_items);\n",
       "          };\n",
       "          if (document.readyState != \"loading\") fn();\n",
       "          else document.addEventListener(\"DOMContentLoaded\", fn);\n",
       "        })();\n",
       "      },\n",
       "      function(Bokeh) {\n",
       "      }\n",
       "    ];\n",
       "  \n",
       "    function run_inline_js() {\n",
       "      \n",
       "      if ((window.Bokeh !== undefined) || (force === true)) {\n",
       "        for (var i = 0; i < inline_js.length; i++) {\n",
       "          inline_js[i](window.Bokeh);\n",
       "        }if (force === true) {\n",
       "          display_loaded();\n",
       "        }} else if (Date.now() < window._bokeh_timeout) {\n",
       "        setTimeout(run_inline_js, 100);\n",
       "      } else if (!window._bokeh_failed_load) {\n",
       "        console.log(\"Bokeh: BokehJS failed to load within specified timeout.\");\n",
       "        window._bokeh_failed_load = true;\n",
       "      } else if (force !== true) {\n",
       "        var cell = $(document.getElementById(\"3f36155b-8a80-4867-880d-72ece72a7752\")).parents('.cell').data().cell;\n",
       "        cell.output_area.append_execute_result(NB_LOAD_WARNING)\n",
       "      }\n",
       "  \n",
       "    }\n",
       "  \n",
       "    if (window._bokeh_is_loading === 0) {\n",
       "      console.log(\"Bokeh: BokehJS loaded, going straight to plotting\");\n",
       "      run_inline_js();\n",
       "    } else {\n",
       "      load_libs(js_urls, function() {\n",
       "        console.log(\"Bokeh: BokehJS plotting callback run at\", now());\n",
       "        run_inline_js();\n",
       "      });\n",
       "    }\n",
       "  }(this));\n",
       "</script>"
      ]
     },
     "metadata": {},
     "output_type": "display_data"
    }
   ],
   "source": [
    "df_int_level=pd.DataFrame(df_train['interest_level'].value_counts())\n",
    "p=Bar(df_int_level,label=df_int_level.index, values='interest_level')\n",
    "show(p)\n"
   ]
  }
 ],
 "metadata": {
  "anaconda-cloud": {},
  "kernelspec": {
   "display_name": "Python [conda root]",
   "language": "python",
   "name": "conda-root-py"
  },
  "language_info": {
   "codemirror_mode": {
    "name": "ipython",
    "version": 3
   },
   "file_extension": ".py",
   "mimetype": "text/x-python",
   "name": "python",
   "nbconvert_exporter": "python",
   "pygments_lexer": "ipython3",
   "version": "3.5.2"
  }
 },
 "nbformat": 4,
 "nbformat_minor": 1
}
