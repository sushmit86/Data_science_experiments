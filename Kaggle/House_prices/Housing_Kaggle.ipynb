{
 "cells": [
  {
   "cell_type": "code",
   "execution_count": 2,
   "metadata": {
    "collapsed": true
   },
   "outputs": [],
   "source": [
    "import pandas as pd\n",
    "import numpy as np"
   ]
  },
  {
   "cell_type": "code",
   "execution_count": 5,
   "metadata": {
    "collapsed": false
   },
   "outputs": [],
   "source": [
    "list1_goals = [\"Amsterdam\",\n",
    "\"Arlington\",\n",
    "\"Astoria\",\n",
    "\"Atlanta\",\n",
    "\"Austin\",\n",
    "\"Bangalore\",\n",
    "\"Be'er Sheva\",\n",
    "\"Beijing\",\n",
    "\"Bellevue\",\n",
    "\"Berkeley\",\n",
    "\"Berlin Mitte\",\n",
    "\"Boston\",\n",
    "\"Brooklyn\",\n",
    "\"Burbank\",\n",
    "\"Cambridge\",\n",
    "\"Capital Federal\",\n",
    "\"Chicago\",\n",
    "\"Dallas\",\n",
    "\"Denver\",\n",
    "\"Detroit\",\n",
    "\"Herzliya\",\n",
    "\"Hong Kong\",\n",
    "\"Houston\",\n",
    "\"Irvine\",\n",
    "\"Jerusalem\",\n",
    "\"London\",\n",
    "\"Long Beach\",\n",
    "\"Los Angeles\",\n",
    "\"Manhattan Beach\",\n",
    "\"Mexico City\",\n",
    "\"Miami\",\n",
    "\"Miami Beach\",\n",
    "\"Montevideo\",\n",
    "\"Montreal\",\n",
    "\"New York\",\n",
    "\"Paris\",\n",
    "\"Pasadena\",\n",
    "\"Philadelphia\",\n",
    "\"Portland\",\n",
    "\"San Diego\",\n",
    "\"San Francisco\",\n",
    "\"San Jose\",\n",
    "\"Santa Monica\",\n",
    "\"Sao Paulo\",\n",
    "\"Seattle\",\n",
    "\"Seoul\",\n",
    "\"Shanghai\",\n",
    "\"Sydney\",\n",
    "\"Tel Aviv\",\n",
    "\"Tysons\",\n",
    "\"Washington\"]"
   ]
  },
  {
   "cell_type": "code",
   "execution_count": 7,
   "metadata": {
    "collapsed": true
   },
   "outputs": [],
   "source": [
    "lists_2_table = [\"Amsterdam\",\n",
    "\"Arlington\",\n",
    "\"Astoria\",\n",
    "\"Atlanta\",\n",
    "\"Austin\",\n",
    "\"Be'er Sheva\",\n",
    "\"Beijing\",\n",
    "\"Bellevue\",\n",
    "\"Berkeley\",\n",
    "\"Berlin Mitte\",\n",
    "\"Boston\",\n",
    "\"Brooklyn\",\n",
    "\"Burbank\",\n",
    "\"Cambridge\",\n",
    "\"Capital Federal\",\n",
    "\"Causeway Bay\",\n",
    "\"Chicago\",\n",
    "\"Dallas\",\n",
    "\"Denver\",\n",
    "\"Detroit\",\n",
    "\"Herzliya\",\n",
    "\"Hong Kong\",\n",
    "\"Irvine\",\n",
    "\"London\",\n",
    "\"Long Beach\",\n",
    "\"Los Angeles\",\n",
    "\"Manhattan Beach\",\n",
    "\"Mexico City\",\n",
    "\"Miami\",\n",
    "\"Miami Beach\",\n",
    "\"Montreal\",\n",
    "\"New York\",\n",
    "\"Paris\",\n",
    "\"Pasadena\",\n",
    "\"Philadelphia\",\n",
    "\"Portland\",\n",
    "\"Pyrmont\",\n",
    "\"San Diego\",\n",
    "\"San Francisco\",\n",
    "\"San Jose\",\n",
    "\"Santa Monica\",\n",
    "\"Seattle\",\n",
    "\"Seoul\",\n",
    "\"Shanghai\",\n",
    "\"Sydney\",\n",
    "\"Tel Aviv\",\n",
    "\"Tysons\",\n",
    "\"Wanchai\",\n",
    "\"Washington\"]"
   ]
  },
  {
   "cell_type": "code",
   "execution_count": 8,
   "metadata": {
    "collapsed": false
   },
   "outputs": [
    {
     "data": {
      "text/plain": [
       "['Jerusalem', 'Houston', 'Bangalore', 'Montevideo', 'Sao Paulo']"
      ]
     },
     "execution_count": 8,
     "metadata": {},
     "output_type": "execute_result"
    }
   ],
   "source": [
    "list(set(list1_goals) - set(lists_2_table))"
   ]
  },
  {
   "cell_type": "code",
   "execution_count": 9,
   "metadata": {
    "collapsed": false
   },
   "outputs": [
    {
     "data": {
      "text/plain": [
       "['Causeway Bay', 'Pyrmont', 'Wanchai']"
      ]
     },
     "execution_count": 9,
     "metadata": {},
     "output_type": "execute_result"
    }
   ],
   "source": [
    "list(set(lists_2_table)- set(list1_goals))"
   ]
  }
 ],
 "metadata": {
  "anaconda-cloud": {},
  "kernelspec": {
   "display_name": "Python [conda root]",
   "language": "python",
   "name": "conda-root-py"
  },
  "language_info": {
   "codemirror_mode": {
    "name": "ipython",
    "version": 3
   },
   "file_extension": ".py",
   "mimetype": "text/x-python",
   "name": "python",
   "nbconvert_exporter": "python",
   "pygments_lexer": "ipython3",
   "version": "3.5.2"
  }
 },
 "nbformat": 4,
 "nbformat_minor": 1
}
