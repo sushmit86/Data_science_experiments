{
 "cells": [
  {
   "cell_type": "code",
   "execution_count": 7,
   "id": "1056e057",
   "metadata": {},
   "outputs": [],
   "source": [
    "import fileinput\n",
    "from collections import Counter\n",
    "import nltk"
   ]
  },
  {
   "cell_type": "code",
   "execution_count": 2,
   "id": "dc37bf60",
   "metadata": {},
   "outputs": [],
   "source": [
    "word_tallies = Counter()"
   ]
  },
  {
   "cell_type": "code",
   "execution_count": 3,
   "id": "1eb287c6",
   "metadata": {},
   "outputs": [],
   "source": [
    "for line in fileinput.input(files= 'corpus.txt'):\n",
    "    words = line.split()\n",
    "    words = [word.lower() for word in words]\n",
    "    word_tallies.update(words)\n",
    "fileinput.close()"
   ]
  },
  {
   "cell_type": "code",
   "execution_count": 6,
   "id": "e9c53e4b",
   "metadata": {},
   "outputs": [
    {
     "name": "stdout",
     "output_type": "stream",
     "text": [
      "37999 the\n",
      "17400 of\n",
      "12047 and\n",
      "10617 in\n",
      "10308 to\n",
      "7548 is\n",
      "4959 for\n",
      "4122 with\n",
      "3588 as\n",
      "3517 that\n",
      "3339 by\n",
      "3227 are\n",
      "2988 at\n",
      "2954 be\n",
      "2713 this\n",
      "2689 on\n",
      "2394 from\n",
      "1936 can\n",
      "1734 was\n",
      "1719 an\n",
      "1630 which\n",
      "1454 it\n",
      "1411 we\n",
      "1374 energy\n",
      "1291 fig\n",
      "1237 have\n",
      "1213 or\n",
      "1148 has\n",
      "1136 high\n",
      "1100 using\n"
     ]
    }
   ],
   "source": [
    "for word,count in word_tallies.most_common(30):\n",
    "    print(count,word)"
   ]
  },
  {
   "cell_type": "code",
   "execution_count": 12,
   "id": "55dddd67",
   "metadata": {},
   "outputs": [
    {
     "data": {
      "text/plain": [
       "[(('of', 'the'), 5558),\n",
       " (('in', 'the'), 2911),\n",
       " (('to', 'the'), 2069),\n",
       " (('and', 'the'), 1273),\n",
       " (('on', 'the'), 1244),\n",
       " (('can', 'be'), 1164),\n",
       " (('for', 'the'), 1035),\n",
       " (('from', 'the'), 988),\n",
       " (('that', 'the'), 876),\n",
       " (('with', 'the'), 866)]"
      ]
     },
     "execution_count": 12,
     "metadata": {},
     "output_type": "execute_result"
    }
   ],
   "source": [
    "from collections import Counter\n",
    "from nltk.util import ngrams \n",
    "\n",
    "f = open(\"corpus.txt\", \"r\")\n",
    "text = f.read()\n",
    "n_gram = 2\n",
    "Counter(ngrams(text.split(), n_gram)).most_common(10)"
   ]
  }
 ],
 "metadata": {
  "kernelspec": {
   "display_name": "Python 3",
   "language": "python",
   "name": "python3"
  },
  "language_info": {
   "codemirror_mode": {
    "name": "ipython",
    "version": 3
   },
   "file_extension": ".py",
   "mimetype": "text/x-python",
   "name": "python",
   "nbconvert_exporter": "python",
   "pygments_lexer": "ipython3",
   "version": "3.8.2"
  }
 },
 "nbformat": 4,
 "nbformat_minor": 5
}
