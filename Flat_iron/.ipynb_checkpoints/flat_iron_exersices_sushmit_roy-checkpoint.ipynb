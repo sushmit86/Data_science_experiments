{
 "cells": [
  {
   "cell_type": "code",
   "execution_count": 34,
   "metadata": {
    "collapsed": false
   },
   "outputs": [
    {
     "data": {
      "text/html": [
       "\n",
       "    <div class=\"bk-root\">\n",
       "        <a href=\"http://bokeh.pydata.org\" target=\"_blank\" class=\"bk-logo bk-logo-small bk-logo-notebook\"></a>\n",
       "        <span id=\"b701df78-0f7e-4573-90b2-3857db2b6510\">Loading BokehJS ...</span>\n",
       "    </div>"
      ]
     },
     "metadata": {},
     "output_type": "display_data"
    },
    {
     "data": {
      "application/javascript": [
       "\n",
       "(function(global) {\n",
       "  function now() {\n",
       "    return new Date();\n",
       "  }\n",
       "\n",
       "  if (typeof (window._bokeh_onload_callbacks) === \"undefined\") {\n",
       "    window._bokeh_onload_callbacks = [];\n",
       "  }\n",
       "\n",
       "  function run_callbacks() {\n",
       "    window._bokeh_onload_callbacks.forEach(function(callback) { callback() });\n",
       "    delete window._bokeh_onload_callbacks\n",
       "    console.info(\"Bokeh: all callbacks have finished\");\n",
       "  }\n",
       "\n",
       "  function load_libs(js_urls, callback) {\n",
       "    window._bokeh_onload_callbacks.push(callback);\n",
       "    if (window._bokeh_is_loading > 0) {\n",
       "      console.log(\"Bokeh: BokehJS is being loaded, scheduling callback at\", now());\n",
       "      return null;\n",
       "    }\n",
       "    if (js_urls == null || js_urls.length === 0) {\n",
       "      run_callbacks();\n",
       "      return null;\n",
       "    }\n",
       "    console.log(\"Bokeh: BokehJS not loaded, scheduling load and callback at\", now());\n",
       "    window._bokeh_is_loading = js_urls.length;\n",
       "    for (var i = 0; i < js_urls.length; i++) {\n",
       "      var url = js_urls[i];\n",
       "      var s = document.createElement('script');\n",
       "      s.src = url;\n",
       "      s.async = false;\n",
       "      s.onreadystatechange = s.onload = function() {\n",
       "        window._bokeh_is_loading--;\n",
       "        if (window._bokeh_is_loading === 0) {\n",
       "          console.log(\"Bokeh: all BokehJS libraries loaded\");\n",
       "          run_callbacks()\n",
       "        }\n",
       "      };\n",
       "      s.onerror = function() {\n",
       "        console.warn(\"failed to load library \" + url);\n",
       "      };\n",
       "      console.log(\"Bokeh: injecting script tag for BokehJS library: \", url);\n",
       "      document.getElementsByTagName(\"head\")[0].appendChild(s);\n",
       "    }\n",
       "  };\n",
       "\n",
       "  var js_urls = ['https://cdn.pydata.org/bokeh/release/bokeh-0.12.0.min.js', 'https://cdn.pydata.org/bokeh/release/bokeh-widgets-0.12.0.min.js', 'https://cdn.pydata.org/bokeh/release/bokeh-compiler-0.12.0.min.js'];\n",
       "\n",
       "  var inline_js = [\n",
       "    function(Bokeh) {\n",
       "      Bokeh.set_log_level(\"info\");\n",
       "    },\n",
       "    \n",
       "    function(Bokeh) {\n",
       "      Bokeh.$(\"#b701df78-0f7e-4573-90b2-3857db2b6510\").text(\"BokehJS successfully loaded\");\n",
       "    },\n",
       "    function(Bokeh) {\n",
       "      console.log(\"Bokeh: injecting CSS: https://cdn.pydata.org/bokeh/release/bokeh-0.12.0.min.css\");\n",
       "      Bokeh.embed.inject_css(\"https://cdn.pydata.org/bokeh/release/bokeh-0.12.0.min.css\");\n",
       "      console.log(\"Bokeh: injecting CSS: https://cdn.pydata.org/bokeh/release/bokeh-widgets-0.12.0.min.css\");\n",
       "      Bokeh.embed.inject_css(\"https://cdn.pydata.org/bokeh/release/bokeh-widgets-0.12.0.min.css\");\n",
       "    }\n",
       "  ];\n",
       "\n",
       "  function run_inline_js() {\n",
       "    for (var i = 0; i < inline_js.length; i++) {\n",
       "      inline_js[i](window.Bokeh);\n",
       "    }\n",
       "  }\n",
       "\n",
       "  if (window._bokeh_is_loading === 0) {\n",
       "    console.log(\"Bokeh: BokehJS loaded, going straight to plotting\");\n",
       "    run_inline_js();\n",
       "  } else {\n",
       "    load_libs(js_urls, function() {\n",
       "      console.log(\"Bokeh: BokehJS plotting callback run at\", now());\n",
       "      run_inline_js();\n",
       "    });\n",
       "  }\n",
       "}(this));"
      ]
     },
     "metadata": {},
     "output_type": "display_data"
    }
   ],
   "source": [
    "# Python libarary\n",
    "import pymysql\n",
    "import pandas as pd\n",
    "from bokeh.layouts import gridplot\n",
    "#from bokeh.plotting import figure, output_notebook, show,Histogram\n",
    "from bokeh.charts import Histogram,BoxPlot, output_notebook, show\n",
    "import numpy as np\n",
    "output_notebook()"
   ]
  },
  {
   "cell_type": "markdown",
   "metadata": {},
   "source": [
    "# Loading Data to My-sql local instance"
   ]
  },
  {
   "cell_type": "markdown",
   "metadata": {},
   "source": [
    "Creating a new schema flat_iron in a <b mysql(5.7.13) b> local database and uploading the Patient_Diagnosis.csv &\n",
    "Patient_Treatment.csv "
   ]
  },
  {
   "cell_type": "code",
   "execution_count": 35,
   "metadata": {
    "collapsed": false
   },
   "outputs": [],
   "source": [
    "# Creating a connection \n",
    "# note the flat_iron schema was manually created \n",
    "conn = pymysql.connect(host='localhost', port=3306, user='root', passwd='', db='flat_iron')\n",
    "c = conn.cursor()"
   ]
  },
  {
   "cell_type": "code",
   "execution_count": 36,
   "metadata": {
    "collapsed": false
   },
   "outputs": [],
   "source": [
    "# creating patient_diagnosis table\n",
    "create_patient_diagnosis = \"\"\"\n",
    "CREATE TABLE if not exists flat_iron.patient_diagnosis (\n",
    "   Patient_ID INT NOT NULL,\n",
    "   Diagnosis_Date DATE NOT NULL,\n",
    "   Diagnosis_Code DECIMAL(7,2) NOT NULL,\n",
    "   Diagnosis VARCHAR(45) NULL\n",
    ")\n",
    "\"\"\"\n",
    "c.execute(create_patient_diagnosis)\n",
    "\n",
    "# loading the data from Patient_Diagnosis.csv\n",
    "loading_patient_diagnosis = r\"\"\"\n",
    "LOAD DATA \n",
    "INFILE \n",
    "'/Users/sroy/Personal/Data_science_experiments/Flat_iron/Patient_Diagnosis.csv'\n",
    "INTO TABLE  flat_iron.patient_diagnosis\n",
    "FIELDS TERMINATED BY ',' \n",
    "LINES TERMINATED BY '\\r\\n'\n",
    "IGNORE 1 ROWS\n",
    "\"\"\"\n",
    "c.execute(loading_patient_diagnosis)\n",
    "# commiting\n",
    "conn.commit()"
   ]
  },
  {
   "cell_type": "code",
   "execution_count": 37,
   "metadata": {
    "collapsed": false
   },
   "outputs": [],
   "source": [
    "# creating patient_treatment.csv\n",
    "create_patient_diagnosis = \"\"\"\n",
    "CREATE TABLE if not exists flat_iron.patient_treatment (\n",
    "   Patient_ID INT NOT NULL,\n",
    "   Treatment_Date DATE NOT NULL,\n",
    "   Drug_Code INT NOT NULL\n",
    ")\n",
    "\"\"\"\n",
    "c.execute(create_patient_diagnosis)\n",
    "\n",
    "# loading the data from Patient_Treatment.csv\n",
    "loading_patient_diagnosis = r\"\"\"\n",
    "LOAD DATA \n",
    "INFILE \n",
    "'/Users/sroy/Personal/Data_science_experiments/Flat_iron/Patient_Treatment.csv'\n",
    "INTO TABLE  flat_iron.patient_treatment\n",
    "FIELDS TERMINATED BY ',' \n",
    "LINES TERMINATED BY '\\r\\n'\n",
    "IGNORE 1 ROWS\n",
    "\"\"\"\n",
    "c.execute(loading_patient_diagnosis)\n",
    "# commiting\n",
    "conn.commit()"
   ]
  },
  {
   "cell_type": "markdown",
   "metadata": {},
   "source": [
    "Exercise\n",
    "1.  How many patients does the clinic have for each cancer diagnosis?"
   ]
  },
  {
   "cell_type": "code",
   "execution_count": 38,
   "metadata": {
    "collapsed": false
   },
   "outputs": [
    {
     "data": {
      "text/html": [
       "<div>\n",
       "<table border=\"1\" class=\"dataframe\">\n",
       "  <thead>\n",
       "    <tr style=\"text-align: right;\">\n",
       "      <th></th>\n",
       "      <th>Diagnosis</th>\n",
       "      <th>count</th>\n",
       "    </tr>\n",
       "  </thead>\n",
       "  <tbody>\n",
       "    <tr>\n",
       "      <th>0</th>\n",
       "      <td>Breast Cancer</td>\n",
       "      <td>26</td>\n",
       "    </tr>\n",
       "    <tr>\n",
       "      <th>1</th>\n",
       "      <td>Colon Cancer</td>\n",
       "      <td>12</td>\n",
       "    </tr>\n",
       "  </tbody>\n",
       "</table>\n",
       "</div>"
      ],
      "text/plain": [
       "       Diagnosis  count\n",
       "0  Breast Cancer     26\n",
       "1   Colon Cancer     12"
      ]
     },
     "execution_count": 38,
     "metadata": {},
     "output_type": "execute_result"
    }
   ],
   "source": [
    "sql_exercise_1 = \"\"\"\n",
    "select \n",
    "Diagnosis,\n",
    "count(distinct Patient_ID) as count\n",
    "from flat_iron.patient_diagnosis\n",
    "group by 1\n",
    "order by 2 desc\n",
    "\"\"\"\n",
    "df_exercise_1 = pd.read_sql(sql_exercise_1,conn)\n",
    "df_exercise_1"
   ]
  },
  {
   "cell_type": "code",
   "execution_count": 41,
   "metadata": {
    "collapsed": false
   },
   "outputs": [
    {
     "data": {
      "text/html": [
       "\n",
       "\n",
       "    <div class=\"bk-root\">\n",
       "        <div class=\"plotdiv\" id=\"23a5cc85-c664-4ef5-9328-632931310d61\"></div>\n",
       "    </div>\n",
       "<script type=\"text/javascript\">\n",
       "  \n",
       "  (function(global) {\n",
       "    function now() {\n",
       "      return new Date();\n",
       "    }\n",
       "  \n",
       "    if (typeof (window._bokeh_onload_callbacks) === \"undefined\") {\n",
       "      window._bokeh_onload_callbacks = [];\n",
       "    }\n",
       "  \n",
       "    function run_callbacks() {\n",
       "      window._bokeh_onload_callbacks.forEach(function(callback) { callback() });\n",
       "      delete window._bokeh_onload_callbacks\n",
       "      console.info(\"Bokeh: all callbacks have finished\");\n",
       "    }\n",
       "  \n",
       "    function load_libs(js_urls, callback) {\n",
       "      window._bokeh_onload_callbacks.push(callback);\n",
       "      if (window._bokeh_is_loading > 0) {\n",
       "        console.log(\"Bokeh: BokehJS is being loaded, scheduling callback at\", now());\n",
       "        return null;\n",
       "      }\n",
       "      if (js_urls == null || js_urls.length === 0) {\n",
       "        run_callbacks();\n",
       "        return null;\n",
       "      }\n",
       "      console.log(\"Bokeh: BokehJS not loaded, scheduling load and callback at\", now());\n",
       "      window._bokeh_is_loading = js_urls.length;\n",
       "      for (var i = 0; i < js_urls.length; i++) {\n",
       "        var url = js_urls[i];\n",
       "        var s = document.createElement('script');\n",
       "        s.src = url;\n",
       "        s.async = false;\n",
       "        s.onreadystatechange = s.onload = function() {\n",
       "          window._bokeh_is_loading--;\n",
       "          if (window._bokeh_is_loading === 0) {\n",
       "            console.log(\"Bokeh: all BokehJS libraries loaded\");\n",
       "            run_callbacks()\n",
       "          }\n",
       "        };\n",
       "        s.onerror = function() {\n",
       "          console.warn(\"failed to load library \" + url);\n",
       "        };\n",
       "        console.log(\"Bokeh: injecting script tag for BokehJS library: \", url);\n",
       "        document.getElementsByTagName(\"head\")[0].appendChild(s);\n",
       "      }\n",
       "    };var element = document.getElementById(\"23a5cc85-c664-4ef5-9328-632931310d61\");\n",
       "    if (element == null) {\n",
       "      console.log(\"Bokeh: ERROR: autoload.js configured with elementid '23a5cc85-c664-4ef5-9328-632931310d61' but no matching script tag was found. \")\n",
       "      return false;\n",
       "    }\n",
       "  \n",
       "    var js_urls = [];\n",
       "  \n",
       "    var inline_js = [\n",
       "      function(Bokeh) {\n",
       "        Bokeh.$(function() {\n",
       "            var docs_json = {\"8df8fa26-0fe3-4bb0-9772-f6e63fb5d20c\":{\"roots\":{\"references\":[{\"attributes\":{\"data_source\":{\"id\":\"7275ab21-de95-4875-b2c9-f86cb6dcfca7\",\"type\":\"ColumnDataSource\"},\"glyph\":{\"id\":\"e4c29a08-0cd4-43eb-86d1-d60ac33b20a7\",\"type\":\"Rect\"},\"hover_glyph\":null,\"nonselection_glyph\":null,\"selection_glyph\":null},\"id\":\"ffa1b7ae-a961-43e0-9517-c5fe4e429e2e\",\"type\":\"GlyphRenderer\"},{\"attributes\":{\"axis_label\":\"Count( Diff )\",\"formatter\":{\"id\":\"c04849ae-13c1-49ef-b53b-47b0fb847ce8\",\"type\":\"BasicTickFormatter\"},\"plot\":{\"id\":\"68ca9f04-4f14-40f5-91c4-45fa06562b63\",\"subtype\":\"Chart\",\"type\":\"Plot\"},\"ticker\":{\"id\":\"1fcf46a8-a2ef-47b2-8fa9-98b0aeb1d08c\",\"type\":\"BasicTicker\"}},\"id\":\"3a90bdd0-98f0-44b5-87e3-19cdd094dca8\",\"type\":\"LinearAxis\"},{\"attributes\":{\"below\":[{\"id\":\"deaeb51d-d6c9-45f4-bbfd-e2794e651c31\",\"type\":\"LinearAxis\"}],\"left\":[{\"id\":\"3a90bdd0-98f0-44b5-87e3-19cdd094dca8\",\"type\":\"LinearAxis\"}],\"renderers\":[{\"id\":\"243ec44d-a32b-472b-8caa-1c652aea6aca\",\"type\":\"BoxAnnotation\"},{\"id\":\"b7823e68-0b7b-41df-9689-154930093099\",\"type\":\"GlyphRenderer\"},{\"id\":\"ffa1b7ae-a961-43e0-9517-c5fe4e429e2e\",\"type\":\"GlyphRenderer\"},{\"id\":\"1f5c1215-b7e4-4211-a1ec-0b4c39446310\",\"type\":\"GlyphRenderer\"},{\"id\":\"47d7a2a4-17f5-4676-b2cd-0d06e907dd30\",\"type\":\"GlyphRenderer\"},{\"id\":\"1dfa3eba-8767-4f7f-8e9a-c261cedb52e7\",\"type\":\"GlyphRenderer\"},{\"id\":\"04cb1b3b-fd33-4868-8373-45c76d26a6dd\",\"type\":\"Legend\"},{\"id\":\"deaeb51d-d6c9-45f4-bbfd-e2794e651c31\",\"type\":\"LinearAxis\"},{\"id\":\"3a90bdd0-98f0-44b5-87e3-19cdd094dca8\",\"type\":\"LinearAxis\"},{\"id\":\"0b4ffbb9-df9d-4b96-b1cf-f6c67d9f88f6\",\"type\":\"Grid\"}],\"title\":{\"id\":\"9c9c3571-c32f-43d9-813b-2798156375d2\",\"type\":\"Title\"},\"tool_events\":{\"id\":\"843aee4b-a0e6-4246-8333-0f1d5a34ed72\",\"type\":\"ToolEvents\"},\"toolbar\":{\"id\":\"e2b16f02-b347-44fb-852d-e3c7e0c0ff2e\",\"type\":\"Toolbar\"},\"x_mapper_type\":\"auto\",\"x_range\":{\"id\":\"7ad61520-90a9-4e14-a46a-b321fc2522fa\",\"type\":\"Range1d\"},\"y_mapper_type\":\"auto\",\"y_range\":{\"id\":\"7535a9fc-9d78-44fd-ae35-aa0c719410ec\",\"type\":\"Range1d\"}},\"id\":\"68ca9f04-4f14-40f5-91c4-45fa06562b63\",\"subtype\":\"Chart\",\"type\":\"Plot\"},{\"attributes\":{},\"id\":\"6df40aed-0b66-4537-986e-be64fcb588c3\",\"type\":\"BasicTickFormatter\"},{\"attributes\":{\"plot\":{\"id\":\"68ca9f04-4f14-40f5-91c4-45fa06562b63\",\"subtype\":\"Chart\",\"type\":\"Plot\"}},\"id\":\"470c5163-7f34-4dfe-8424-42e83ac52799\",\"type\":\"PanTool\"},{\"attributes\":{\"callback\":null,\"column_names\":[\"width\",\"line_color\",\"line_alpha\",\"label\",\"height\",\"color\",\"x\",\"y\",\"fill_alpha\"],\"data\":{\"chart_index\":[\"(23.2, 46.6]\"],\"color\":[\"#f22c40\"],\"fill_alpha\":[0.8],\"height\":[15.0],\"label\":[\"(23.2, 46.6]\"],\"line_alpha\":[1.0],\"line_color\":[\"black\"],\"width\":[23.400000000000006],\"x\":[\"34.9\"],\"y\":[7.5]}},\"id\":\"537e6886-dea9-4029-bac9-406f51901301\",\"type\":\"ColumnDataSource\"},{\"attributes\":{\"callback\":null,\"column_names\":[\"width\",\"line_color\",\"line_alpha\",\"label\",\"height\",\"color\",\"x\",\"y\",\"fill_alpha\"],\"data\":{\"chart_index\":[\"(-0.2, 23.2]\"],\"color\":[\"#f22c40\"],\"fill_alpha\":[0.8],\"height\":[8.0],\"label\":[\"(-0.2, 23.2]\"],\"line_alpha\":[1.0],\"line_color\":[\"black\"],\"width\":[23.39999999999999],\"x\":[\"11.5\"],\"y\":[4.0]}},\"id\":\"269e3302-4bd6-4a1e-995a-fc64a54c162e\",\"type\":\"ColumnDataSource\"},{\"attributes\":{\"data_source\":{\"id\":\"488d8a05-ede1-445d-9212-4d65be8ee16b\",\"type\":\"ColumnDataSource\"},\"glyph\":{\"id\":\"dec551aa-c97e-416a-88f2-a9d60528aba5\",\"type\":\"Rect\"},\"hover_glyph\":null,\"nonselection_glyph\":null,\"selection_glyph\":null},\"id\":\"b7823e68-0b7b-41df-9689-154930093099\",\"type\":\"GlyphRenderer\"},{\"attributes\":{},\"id\":\"c04849ae-13c1-49ef-b53b-47b0fb847ce8\",\"type\":\"BasicTickFormatter\"},{\"attributes\":{\"fill_alpha\":{\"field\":\"fill_alpha\"},\"fill_color\":{\"field\":\"color\"},\"height\":{\"field\":\"height\",\"units\":\"data\"},\"line_color\":{\"field\":\"line_color\"},\"width\":{\"field\":\"width\",\"units\":\"data\"},\"x\":{\"field\":\"x\"},\"y\":{\"field\":\"y\"}},\"id\":\"c2659373-128d-4513-b03b-6a8d0e9cf340\",\"type\":\"Rect\"},{\"attributes\":{\"callback\":null,\"column_names\":[\"width\",\"line_color\",\"line_alpha\",\"label\",\"height\",\"color\",\"x\",\"y\",\"fill_alpha\"],\"data\":{\"chart_index\":[\"(-23.6, -0.2]\"],\"color\":[\"#f22c40\"],\"fill_alpha\":[0.8],\"height\":[1.0],\"label\":[\"(-23.6, -0.2]\"],\"line_alpha\":[1.0],\"line_color\":[\"black\"],\"width\":[23.4],\"x\":[\"-11.9\"],\"y\":[0.5]}},\"id\":\"7275ab21-de95-4875-b2c9-f86cb6dcfca7\",\"type\":\"ColumnDataSource\"},{\"attributes\":{},\"id\":\"843aee4b-a0e6-4246-8333-0f1d5a34ed72\",\"type\":\"ToolEvents\"},{\"attributes\":{},\"id\":\"1fcf46a8-a2ef-47b2-8fa9-98b0aeb1d08c\",\"type\":\"BasicTicker\"},{\"attributes\":{\"callback\":null,\"end\":70.575,\"start\":-47.575},\"id\":\"7ad61520-90a9-4e14-a46a-b321fc2522fa\",\"type\":\"Range1d\"},{\"attributes\":{\"plot\":{\"id\":\"68ca9f04-4f14-40f5-91c4-45fa06562b63\",\"subtype\":\"Chart\",\"type\":\"Plot\"}},\"id\":\"79a80ba3-8109-407b-946b-ba1288e462a4\",\"type\":\"WheelZoomTool\"},{\"attributes\":{\"dimension\":1,\"plot\":{\"id\":\"68ca9f04-4f14-40f5-91c4-45fa06562b63\",\"subtype\":\"Chart\",\"type\":\"Plot\"},\"ticker\":{\"id\":\"1fcf46a8-a2ef-47b2-8fa9-98b0aeb1d08c\",\"type\":\"BasicTicker\"}},\"id\":\"0b4ffbb9-df9d-4b96-b1cf-f6c67d9f88f6\",\"type\":\"Grid\"},{\"attributes\":{\"fill_alpha\":{\"field\":\"fill_alpha\"},\"fill_color\":{\"field\":\"color\"},\"height\":{\"field\":\"height\",\"units\":\"data\"},\"line_color\":{\"field\":\"line_color\"},\"width\":{\"field\":\"width\",\"units\":\"data\"},\"x\":{\"field\":\"x\"},\"y\":{\"field\":\"y\"}},\"id\":\"ae6950e7-b2c3-40f9-a86c-254f017d240a\",\"type\":\"Rect\"},{\"attributes\":{\"fill_alpha\":{\"field\":\"fill_alpha\"},\"fill_color\":{\"field\":\"color\"},\"height\":{\"field\":\"height\",\"units\":\"data\"},\"line_color\":{\"field\":\"line_color\"},\"width\":{\"field\":\"width\",\"units\":\"data\"},\"x\":{\"field\":\"x\"},\"y\":{\"field\":\"y\"}},\"id\":\"dec551aa-c97e-416a-88f2-a9d60528aba5\",\"type\":\"Rect\"},{\"attributes\":{\"plot\":{\"id\":\"68ca9f04-4f14-40f5-91c4-45fa06562b63\",\"subtype\":\"Chart\",\"type\":\"Plot\"}},\"id\":\"1b1a3205-3c54-4e33-a490-c4f34eccdce2\",\"type\":\"SaveTool\"},{\"attributes\":{\"fill_alpha\":{\"field\":\"fill_alpha\"},\"fill_color\":{\"field\":\"color\"},\"height\":{\"field\":\"height\",\"units\":\"data\"},\"line_color\":{\"field\":\"line_color\"},\"width\":{\"field\":\"width\",\"units\":\"data\"},\"x\":{\"field\":\"x\"},\"y\":{\"field\":\"y\"}},\"id\":\"e4c29a08-0cd4-43eb-86d1-d60ac33b20a7\",\"type\":\"Rect\"},{\"attributes\":{\"data_source\":{\"id\":\"537e6886-dea9-4029-bac9-406f51901301\",\"type\":\"ColumnDataSource\"},\"glyph\":{\"id\":\"ae6950e7-b2c3-40f9-a86c-254f017d240a\",\"type\":\"Rect\"},\"hover_glyph\":null,\"nonselection_glyph\":null,\"selection_glyph\":null},\"id\":\"47d7a2a4-17f5-4676-b2cd-0d06e907dd30\",\"type\":\"GlyphRenderer\"},{\"attributes\":{\"data_source\":{\"id\":\"269e3302-4bd6-4a1e-995a-fc64a54c162e\",\"type\":\"ColumnDataSource\"},\"glyph\":{\"id\":\"c2659373-128d-4513-b03b-6a8d0e9cf340\",\"type\":\"Rect\"},\"hover_glyph\":null,\"nonselection_glyph\":null,\"selection_glyph\":null},\"id\":\"1f5c1215-b7e4-4211-a1ec-0b4c39446310\",\"type\":\"GlyphRenderer\"},{\"attributes\":{\"callback\":null,\"column_names\":[\"width\",\"line_color\",\"line_alpha\",\"label\",\"height\",\"color\",\"x\",\"y\",\"fill_alpha\"],\"data\":{\"chart_index\":[\"[-47.0, -23.6]\"],\"color\":[\"#f22c40\"],\"fill_alpha\":[0.8],\"height\":[1.0],\"label\":[\"[-47.0, -23.6]\"],\"line_alpha\":[1.0],\"line_color\":[\"black\"],\"width\":[23.4],\"x\":[\"-35.3\"],\"y\":[0.5]}},\"id\":\"488d8a05-ede1-445d-9212-4d65be8ee16b\",\"type\":\"ColumnDataSource\"},{\"attributes\":{},\"id\":\"174bbb0a-99e8-414a-816c-86f29644d714\",\"type\":\"BasicTicker\"},{\"attributes\":{\"active_drag\":\"auto\",\"active_scroll\":\"auto\",\"active_tap\":\"auto\",\"tools\":[{\"id\":\"470c5163-7f34-4dfe-8424-42e83ac52799\",\"type\":\"PanTool\"},{\"id\":\"79a80ba3-8109-407b-946b-ba1288e462a4\",\"type\":\"WheelZoomTool\"},{\"id\":\"91ec2bd4-4fa1-4a66-8d05-4b08c57fc355\",\"type\":\"BoxZoomTool\"},{\"id\":\"1b1a3205-3c54-4e33-a490-c4f34eccdce2\",\"type\":\"SaveTool\"},{\"id\":\"f117d89b-66da-42b3-b2bd-82c6744a1151\",\"type\":\"ResetTool\"},{\"id\":\"e80fe77d-70bd-477a-9d87-79980c96edc5\",\"type\":\"HelpTool\"}]},\"id\":\"e2b16f02-b347-44fb-852d-e3c7e0c0ff2e\",\"type\":\"Toolbar\"},{\"attributes\":{\"callback\":null,\"end\":16.5},\"id\":\"7535a9fc-9d78-44fd-ae35-aa0c719410ec\",\"type\":\"Range1d\"},{\"attributes\":{\"bottom_units\":\"screen\",\"fill_alpha\":{\"value\":0.5},\"fill_color\":{\"value\":\"lightgrey\"},\"left_units\":\"screen\",\"level\":\"overlay\",\"line_alpha\":{\"value\":1.0},\"line_color\":{\"value\":\"black\"},\"line_dash\":[4,4],\"line_width\":{\"value\":2},\"plot\":null,\"render_mode\":\"css\",\"right_units\":\"screen\",\"top_units\":\"screen\"},\"id\":\"243ec44d-a32b-472b-8caa-1c652aea6aca\",\"type\":\"BoxAnnotation\"},{\"attributes\":{\"axis_label\":\"diff\",\"formatter\":{\"id\":\"6df40aed-0b66-4537-986e-be64fcb588c3\",\"type\":\"BasicTickFormatter\"},\"plot\":{\"id\":\"68ca9f04-4f14-40f5-91c4-45fa06562b63\",\"subtype\":\"Chart\",\"type\":\"Plot\"},\"ticker\":{\"id\":\"174bbb0a-99e8-414a-816c-86f29644d714\",\"type\":\"BasicTicker\"}},\"id\":\"deaeb51d-d6c9-45f4-bbfd-e2794e651c31\",\"type\":\"LinearAxis\"},{\"attributes\":{\"plot\":null,\"text\":\"HP Distribution by Cylinder Count\"},\"id\":\"9c9c3571-c32f-43d9-813b-2798156375d2\",\"type\":\"Title\"},{\"attributes\":{\"plot\":{\"id\":\"68ca9f04-4f14-40f5-91c4-45fa06562b63\",\"subtype\":\"Chart\",\"type\":\"Plot\"}},\"id\":\"e80fe77d-70bd-477a-9d87-79980c96edc5\",\"type\":\"HelpTool\"},{\"attributes\":{\"data_source\":{\"id\":\"99af812b-ecc9-4998-b3f9-37a92154e14f\",\"type\":\"ColumnDataSource\"},\"glyph\":{\"id\":\"eed7aeea-2cab-4461-a107-b79b3463b005\",\"type\":\"Rect\"},\"hover_glyph\":null,\"nonselection_glyph\":null,\"selection_glyph\":null},\"id\":\"1dfa3eba-8767-4f7f-8e9a-c261cedb52e7\",\"type\":\"GlyphRenderer\"},{\"attributes\":{\"fill_alpha\":{\"field\":\"fill_alpha\"},\"fill_color\":{\"field\":\"color\"},\"height\":{\"field\":\"height\",\"units\":\"data\"},\"line_color\":{\"field\":\"line_color\"},\"width\":{\"field\":\"width\",\"units\":\"data\"},\"x\":{\"field\":\"x\"},\"y\":{\"field\":\"y\"}},\"id\":\"eed7aeea-2cab-4461-a107-b79b3463b005\",\"type\":\"Rect\"},{\"attributes\":{\"plot\":{\"id\":\"68ca9f04-4f14-40f5-91c4-45fa06562b63\",\"subtype\":\"Chart\",\"type\":\"Plot\"}},\"id\":\"f117d89b-66da-42b3-b2bd-82c6744a1151\",\"type\":\"ResetTool\"},{\"attributes\":{\"location\":\"top_left\",\"plot\":{\"id\":\"68ca9f04-4f14-40f5-91c4-45fa06562b63\",\"subtype\":\"Chart\",\"type\":\"Plot\"}},\"id\":\"04cb1b3b-fd33-4868-8373-45c76d26a6dd\",\"type\":\"Legend\"},{\"attributes\":{\"callback\":null,\"column_names\":[\"width\",\"line_color\",\"line_alpha\",\"label\",\"height\",\"color\",\"x\",\"y\",\"fill_alpha\"],\"data\":{\"chart_index\":[\"(46.6, 70.0]\"],\"color\":[\"#f22c40\"],\"fill_alpha\":[0.8],\"height\":[2.0],\"label\":[\"(46.6, 70.0]\"],\"line_alpha\":[1.0],\"line_color\":[\"black\"],\"width\":[23.400000000000006],\"x\":[\"58.3\"],\"y\":[1.0]}},\"id\":\"99af812b-ecc9-4998-b3f9-37a92154e14f\",\"type\":\"ColumnDataSource\"},{\"attributes\":{\"overlay\":{\"id\":\"243ec44d-a32b-472b-8caa-1c652aea6aca\",\"type\":\"BoxAnnotation\"},\"plot\":{\"id\":\"68ca9f04-4f14-40f5-91c4-45fa06562b63\",\"subtype\":\"Chart\",\"type\":\"Plot\"}},\"id\":\"91ec2bd4-4fa1-4a66-8d05-4b08c57fc355\",\"type\":\"BoxZoomTool\"}],\"root_ids\":[\"68ca9f04-4f14-40f5-91c4-45fa06562b63\"]},\"title\":\"Bokeh Application\",\"version\":\"0.12.0\"}};\n",
       "            var render_items = [{\"docid\":\"8df8fa26-0fe3-4bb0-9772-f6e63fb5d20c\",\"elementid\":\"23a5cc85-c664-4ef5-9328-632931310d61\",\"modelid\":\"68ca9f04-4f14-40f5-91c4-45fa06562b63\",\"notebook_comms_target\":\"abb43912-4bda-4a47-b328-b9374d4e008e\"}];\n",
       "            \n",
       "            Bokeh.embed.embed_items(docs_json, render_items);\n",
       "        });\n",
       "      },\n",
       "      function(Bokeh) {\n",
       "      }\n",
       "    ];\n",
       "  \n",
       "    function run_inline_js() {\n",
       "      for (var i = 0; i < inline_js.length; i++) {\n",
       "        inline_js[i](window.Bokeh);\n",
       "      }\n",
       "    }\n",
       "  \n",
       "    if (window._bokeh_is_loading === 0) {\n",
       "      console.log(\"Bokeh: BokehJS loaded, going straight to plotting\");\n",
       "      run_inline_js();\n",
       "    } else {\n",
       "      load_libs(js_urls, function() {\n",
       "        console.log(\"Bokeh: BokehJS plotting callback run at\", now());\n",
       "        run_inline_js();\n",
       "      });\n",
       "    }\n",
       "  }(this));\n",
       "</script>"
      ]
     },
     "metadata": {},
     "output_type": "display_data"
    },
    {
     "data": {
      "text/html": [
       "<p><code>&lt;Bokeh Notebook handle for <strong>In[5]</strong>&gt;</code></p>"
      ],
      "text/plain": [
       "<bokeh.io._CommsHandle at 0x115291630>"
      ]
     },
     "execution_count": 41,
     "metadata": {},
     "output_type": "execute_result"
    }
   ],
   "source": [
    "sql_exercise_2 = \"\"\"\n",
    "select \n",
    "t1.Patient_ID,\n",
    "DATEDIFF(min_date,diag_date) as diff\n",
    "from\n",
    "(select \n",
    "Patient_ID,\n",
    "min(Diagnosis_Date) as diag_date\n",
    "from\n",
    "flat_iron.patient_diagnosis\n",
    "group by 1 ) t1\n",
    "inner join\n",
    "\n",
    "(SELECT Patient_ID,\n",
    "min(Treatment_Date)  as min_date\n",
    "from\n",
    "flat_iron.patient_treatment\n",
    "group by 1) t2\n",
    "on t1.Patient_ID = t2.Patient_ID\n",
    "order by 1 \n",
    "\"\"\"\n",
    "df_exercise_2 = pd.read_sql(sql_exercise_2,conn)\n",
    "\n",
    "hist = Histogram(df_exercise_2, values='diff',\n",
    "                 title=\"HP Distribution by Cylinder Count\",bins = 5)\n",
    "show(hist)"
   ]
  },
  {
   "cell_type": "code",
   "execution_count": 43,
   "metadata": {
    "collapsed": false
   },
   "outputs": [
    {
     "data": {
      "text/html": [
       "<div>\n",
       "<table border=\"1\" class=\"dataframe\">\n",
       "  <thead>\n",
       "    <tr style=\"text-align: right;\">\n",
       "      <th></th>\n",
       "      <th>Patient_ID</th>\n",
       "      <th>diff</th>\n",
       "    </tr>\n",
       "  </thead>\n",
       "  <tbody>\n",
       "    <tr>\n",
       "      <th>11</th>\n",
       "      <td>4374</td>\n",
       "      <td>-47</td>\n",
       "    </tr>\n",
       "    <tr>\n",
       "      <th>17</th>\n",
       "      <td>6877</td>\n",
       "      <td>-21</td>\n",
       "    </tr>\n",
       "  </tbody>\n",
       "</table>\n",
       "</div>"
      ],
      "text/plain": [
       "    Patient_ID  diff\n",
       "11        4374   -47\n",
       "17        6877   -21"
      ]
     },
     "execution_count": 43,
     "metadata": {},
     "output_type": "execute_result"
    }
   ],
   "source": [
    "df_exercise_2[df_exercise_2['diff'] < 0]"
   ]
  },
  {
   "cell_type": "code",
   "execution_count": 48,
   "metadata": {
    "collapsed": false
   },
   "outputs": [
    {
     "data": {
      "text/plain": [
       "count    25.000000\n",
       "mean     31.760000\n",
       "std      15.658544\n",
       "min       2.000000\n",
       "25%      17.000000\n",
       "50%      32.000000\n",
       "75%      43.000000\n",
       "max      70.000000\n",
       "Name: diff, dtype: float64"
      ]
     },
     "execution_count": 48,
     "metadata": {},
     "output_type": "execute_result"
    }
   ],
   "source": [
    "df_exercise_2[df_exercise_2['diff'] > 0].describe()['diff']"
   ]
  },
  {
   "cell_type": "code",
   "execution_count": 26,
   "metadata": {
    "collapsed": false
   },
   "outputs": [],
   "source": [
    "sql_exercise_3 = \"\"\"\n",
    "SELECT \n",
    "Patient_ID,\n",
    "Drug_Code,\n",
    "DATEDIFF(max(Treatment_Date), min(Treatment_Date)) as len_treatment\n",
    "from\n",
    "flat_iron.patient_treatment\n",
    "group by 1,2\n",
    "order by 2 desc\n",
    "\"\"\"\n",
    "df_exercise_3 = pd.read_sql(sql_exercise_3,conn)"
   ]
  },
  {
   "cell_type": "code",
   "execution_count": 27,
   "metadata": {
    "collapsed": false
   },
   "outputs": [
    {
     "data": {
      "text/html": [
       "\n",
       "\n",
       "    <div class=\"bk-root\">\n",
       "        <div class=\"plotdiv\" id=\"6d446237-e4e6-4c2a-9ac9-6d20b587a284\"></div>\n",
       "    </div>\n",
       "<script type=\"text/javascript\">\n",
       "  \n",
       "  (function(global) {\n",
       "    function now() {\n",
       "      return new Date();\n",
       "    }\n",
       "  \n",
       "    if (typeof (window._bokeh_onload_callbacks) === \"undefined\") {\n",
       "      window._bokeh_onload_callbacks = [];\n",
       "    }\n",
       "  \n",
       "    function run_callbacks() {\n",
       "      window._bokeh_onload_callbacks.forEach(function(callback) { callback() });\n",
       "      delete window._bokeh_onload_callbacks\n",
       "      console.info(\"Bokeh: all callbacks have finished\");\n",
       "    }\n",
       "  \n",
       "    function load_libs(js_urls, callback) {\n",
       "      window._bokeh_onload_callbacks.push(callback);\n",
       "      if (window._bokeh_is_loading > 0) {\n",
       "        console.log(\"Bokeh: BokehJS is being loaded, scheduling callback at\", now());\n",
       "        return null;\n",
       "      }\n",
       "      if (js_urls == null || js_urls.length === 0) {\n",
       "        run_callbacks();\n",
       "        return null;\n",
       "      }\n",
       "      console.log(\"Bokeh: BokehJS not loaded, scheduling load and callback at\", now());\n",
       "      window._bokeh_is_loading = js_urls.length;\n",
       "      for (var i = 0; i < js_urls.length; i++) {\n",
       "        var url = js_urls[i];\n",
       "        var s = document.createElement('script');\n",
       "        s.src = url;\n",
       "        s.async = false;\n",
       "        s.onreadystatechange = s.onload = function() {\n",
       "          window._bokeh_is_loading--;\n",
       "          if (window._bokeh_is_loading === 0) {\n",
       "            console.log(\"Bokeh: all BokehJS libraries loaded\");\n",
       "            run_callbacks()\n",
       "          }\n",
       "        };\n",
       "        s.onerror = function() {\n",
       "          console.warn(\"failed to load library \" + url);\n",
       "        };\n",
       "        console.log(\"Bokeh: injecting script tag for BokehJS library: \", url);\n",
       "        document.getElementsByTagName(\"head\")[0].appendChild(s);\n",
       "      }\n",
       "    };var element = document.getElementById(\"6d446237-e4e6-4c2a-9ac9-6d20b587a284\");\n",
       "    if (element == null) {\n",
       "      console.log(\"Bokeh: ERROR: autoload.js configured with elementid '6d446237-e4e6-4c2a-9ac9-6d20b587a284' but no matching script tag was found. \")\n",
       "      return false;\n",
       "    }\n",
       "  \n",
       "    var js_urls = [];\n",
       "  \n",
       "    var inline_js = [\n",
       "      function(Bokeh) {\n",
       "        Bokeh.$(function() {\n",
       "            var docs_json = {\"b1d7038e-65be-4fc6-b778-45349a2dca40\":{\"roots\":{\"references\":[{\"attributes\":{\"legends\":[[\"202\",[{\"id\":\"0c259440-a2dc-4f03-8cd7-07e819b7fcc0\",\"type\":\"GlyphRenderer\"},{\"id\":\"c40f7af0-7915-433b-9929-94396ad9f9fc\",\"type\":\"GlyphRenderer\"},{\"id\":\"564fe742-164b-4596-b3e2-b621dad407be\",\"type\":\"GlyphRenderer\"}]],[\"201\",[{\"id\":\"fd911234-8299-4b19-a322-3b3a0432f883\",\"type\":\"GlyphRenderer\"},{\"id\":\"5563c4a8-b891-478a-836a-f15ea3589ac2\",\"type\":\"GlyphRenderer\"},{\"id\":\"1921e3c8-3dc3-46fa-897d-e4469f319eec\",\"type\":\"GlyphRenderer\"}]]],\"location\":\"top_left\",\"plot\":{\"id\":\"04ee0873-8144-4b63-aafb-ad5f6a644368\",\"subtype\":\"Chart\",\"type\":\"Plot\"}},\"id\":\"0eef4a5d-8054-45d4-ac68-27d4bbe13f7b\",\"type\":\"Legend\"},{\"attributes\":{\"axis_label\":\"Len_Treatment\",\"formatter\":{\"id\":\"33abe29a-ba9f-482b-8141-6e00659fbe10\",\"type\":\"BasicTickFormatter\"},\"plot\":{\"id\":\"04ee0873-8144-4b63-aafb-ad5f6a644368\",\"subtype\":\"Chart\",\"type\":\"Plot\"},\"ticker\":{\"id\":\"45e53dc1-1d17-42ce-97a6-f2bc62b3dc9f\",\"type\":\"BasicTicker\"}},\"id\":\"4725becf-f101-487f-a1de-a96e3e077d7f\",\"type\":\"LinearAxis\"},{\"attributes\":{},\"id\":\"45e53dc1-1d17-42ce-97a6-f2bc62b3dc9f\",\"type\":\"BasicTicker\"},{\"attributes\":{},\"id\":\"0edf3223-9cc8-4158-9c3e-c9e340545cbe\",\"type\":\"CategoricalTickFormatter\"},{\"attributes\":{\"bottom_units\":\"screen\",\"fill_alpha\":{\"value\":0.5},\"fill_color\":{\"value\":\"lightgrey\"},\"left_units\":\"screen\",\"level\":\"overlay\",\"line_alpha\":{\"value\":1.0},\"line_color\":{\"value\":\"black\"},\"line_dash\":[4,4],\"line_width\":{\"value\":2},\"plot\":null,\"render_mode\":\"css\",\"right_units\":\"screen\",\"top_units\":\"screen\"},\"id\":\"ed17e4d2-1438-4aa2-bf71-5cd8ee98d227\",\"type\":\"BoxAnnotation\"},{\"attributes\":{},\"id\":\"33abe29a-ba9f-482b-8141-6e00659fbe10\",\"type\":\"BasicTickFormatter\"},{\"attributes\":{\"data_source\":{\"id\":\"66e8eff5-f42d-48a4-b1b1-dae98a7518ff\",\"type\":\"ColumnDataSource\"},\"glyph\":{\"id\":\"365288eb-4768-4aae-abd1-bc925bb426ce\",\"type\":\"Rect\"},\"hover_glyph\":null,\"nonselection_glyph\":null,\"selection_glyph\":null},\"id\":\"c40f7af0-7915-433b-9929-94396ad9f9fc\",\"type\":\"GlyphRenderer\"},{\"attributes\":{\"plot\":{\"id\":\"04ee0873-8144-4b63-aafb-ad5f6a644368\",\"subtype\":\"Chart\",\"type\":\"Plot\"}},\"id\":\"1f60ed83-ec17-4fac-832b-201c04a06eb8\",\"type\":\"WheelZoomTool\"},{\"attributes\":{\"callback\":null,\"column_names\":[\"width\",\"line_color\",\"line_alpha\",\"label\",\"height\",\"color\",\"x\",\"y\",\"fill_alpha\"],\"data\":{\"Drug_Code\":[202],\"chart_index\":[{\"Drug_Code\":202}],\"color\":[\"red\"],\"fill_alpha\":[0.8],\"height\":[14.0],\"label\":[{\"Drug_Code\":202}],\"line_alpha\":[1.0],\"line_color\":[\"black\"],\"width\":[0.8],\"x\":[\"202\"],\"y\":[14.0]}},\"id\":\"66e8eff5-f42d-48a4-b1b1-dae98a7518ff\",\"type\":\"ColumnDataSource\"},{\"attributes\":{\"fill_alpha\":{\"field\":\"fill_alpha\"},\"fill_color\":{\"field\":\"color\"},\"height\":{\"field\":\"height\",\"units\":\"data\"},\"line_color\":{\"field\":\"line_color\"},\"width\":{\"field\":\"width\",\"units\":\"data\"},\"x\":{\"field\":\"x\"},\"y\":{\"field\":\"y\"}},\"id\":\"f8fd47dc-74f7-4000-aba6-23ef3680e53a\",\"type\":\"Rect\"},{\"attributes\":{\"plot\":{\"id\":\"04ee0873-8144-4b63-aafb-ad5f6a644368\",\"subtype\":\"Chart\",\"type\":\"Plot\"}},\"id\":\"d9070cfa-6c02-4ddf-a630-27d86e3be152\",\"type\":\"ResetTool\"},{\"attributes\":{\"plot\":{\"id\":\"04ee0873-8144-4b63-aafb-ad5f6a644368\",\"subtype\":\"Chart\",\"type\":\"Plot\"}},\"id\":\"85178649-7556-4bf5-99fe-e802c5b4825d\",\"type\":\"SaveTool\"},{\"attributes\":{\"callback\":null,\"factors\":[\"201\",\"202\"]},\"id\":\"76e91092-e2c0-4520-9651-aa2a276a46a4\",\"type\":\"FactorRange\"},{\"attributes\":{\"below\":[{\"id\":\"ea36067c-0a40-48e2-b60d-4f0f9805ceac\",\"type\":\"CategoricalAxis\"}],\"left\":[{\"id\":\"4725becf-f101-487f-a1de-a96e3e077d7f\",\"type\":\"LinearAxis\"}],\"renderers\":[{\"id\":\"ed17e4d2-1438-4aa2-bf71-5cd8ee98d227\",\"type\":\"BoxAnnotation\"},{\"id\":\"0c259440-a2dc-4f03-8cd7-07e819b7fcc0\",\"type\":\"GlyphRenderer\"},{\"id\":\"c40f7af0-7915-433b-9929-94396ad9f9fc\",\"type\":\"GlyphRenderer\"},{\"id\":\"564fe742-164b-4596-b3e2-b621dad407be\",\"type\":\"GlyphRenderer\"},{\"id\":\"fd911234-8299-4b19-a322-3b3a0432f883\",\"type\":\"GlyphRenderer\"},{\"id\":\"5563c4a8-b891-478a-836a-f15ea3589ac2\",\"type\":\"GlyphRenderer\"},{\"id\":\"1921e3c8-3dc3-46fa-897d-e4469f319eec\",\"type\":\"GlyphRenderer\"},{\"id\":\"0eef4a5d-8054-45d4-ac68-27d4bbe13f7b\",\"type\":\"Legend\"},{\"id\":\"ea36067c-0a40-48e2-b60d-4f0f9805ceac\",\"type\":\"CategoricalAxis\"},{\"id\":\"4725becf-f101-487f-a1de-a96e3e077d7f\",\"type\":\"LinearAxis\"},{\"id\":\"fe6299ca-a5ca-457f-a3d5-8200c7b1c50e\",\"type\":\"Grid\"}],\"title\":{\"id\":\"817caa89-fd25-41ad-b86d-b16dfc0772ef\",\"type\":\"Title\"},\"tool_events\":{\"id\":\"133a0edb-8762-475a-b200-2089d438a0e9\",\"type\":\"ToolEvents\"},\"toolbar\":{\"id\":\"b05b9fe5-cde9-4037-9e79-4c62e55156a1\",\"type\":\"Toolbar\"},\"x_mapper_type\":\"auto\",\"x_range\":{\"id\":\"76e91092-e2c0-4520-9651-aa2a276a46a4\",\"type\":\"FactorRange\"},\"y_mapper_type\":\"auto\",\"y_range\":{\"id\":\"ddb669a7-9624-42bb-9dec-125949ac1c9b\",\"type\":\"Range1d\"}},\"id\":\"04ee0873-8144-4b63-aafb-ad5f6a644368\",\"subtype\":\"Chart\",\"type\":\"Plot\"},{\"attributes\":{\"fill_alpha\":{\"field\":\"fill_alpha\"},\"fill_color\":{\"field\":\"color\"},\"height\":{\"field\":\"height\",\"units\":\"data\"},\"line_color\":{\"field\":\"line_color\"},\"width\":{\"field\":\"width\",\"units\":\"data\"},\"x\":{\"field\":\"x\"},\"y\":{\"field\":\"y\"}},\"id\":\"420258ea-edf7-428d-bfa9-8f44c98b0305\",\"type\":\"Rect\"},{\"attributes\":{\"callback\":null,\"column_names\":[\"x0s\",\"y1s\",\"y0s\",\"x1s\"],\"data\":{\"Drug_Code\":[202,202,202,202],\"chart_index\":[{\"Drug_Code\":202},{\"Drug_Code\":202},{\"Drug_Code\":202},{\"Drug_Code\":202}],\"x0s\":[\"202:0.5\",\"202:0.65\",\"202:0.5\",\"202:0.65\"],\"x1s\":[\"202:0.5\",\"202:0.35\",\"202:0.5\",\"202:0.35\"],\"y0s\":[0.0,0.0,21.0,21.0],\"y1s\":[7.0,0.0,21.0,21.0]}},\"id\":\"e3117076-61a4-47de-bea5-3212ff1f20b3\",\"type\":\"ColumnDataSource\"},{\"attributes\":{\"plot\":{\"id\":\"04ee0873-8144-4b63-aafb-ad5f6a644368\",\"subtype\":\"Chart\",\"type\":\"Plot\"}},\"id\":\"362057f6-4626-493f-a066-d1a8ab0dac06\",\"type\":\"PanTool\"},{\"attributes\":{\"plot\":{\"id\":\"04ee0873-8144-4b63-aafb-ad5f6a644368\",\"subtype\":\"Chart\",\"type\":\"Plot\"}},\"id\":\"9db4bef1-8637-4d43-a987-6d964b50dcad\",\"type\":\"HelpTool\"},{\"attributes\":{\"dimension\":1,\"plot\":{\"id\":\"04ee0873-8144-4b63-aafb-ad5f6a644368\",\"subtype\":\"Chart\",\"type\":\"Plot\"},\"ticker\":{\"id\":\"45e53dc1-1d17-42ce-97a6-f2bc62b3dc9f\",\"type\":\"BasicTicker\"}},\"id\":\"fe6299ca-a5ca-457f-a3d5-8200c7b1c50e\",\"type\":\"Grid\"},{\"attributes\":{\"axis_label\":\"Drug_Code\",\"formatter\":{\"id\":\"0edf3223-9cc8-4158-9c3e-c9e340545cbe\",\"type\":\"CategoricalTickFormatter\"},\"major_label_orientation\":0.7853981633974483,\"plot\":{\"id\":\"04ee0873-8144-4b63-aafb-ad5f6a644368\",\"subtype\":\"Chart\",\"type\":\"Plot\"},\"ticker\":{\"id\":\"dd238757-c762-48b8-84dc-77ab3a5ad388\",\"type\":\"CategoricalTicker\"}},\"id\":\"ea36067c-0a40-48e2-b60d-4f0f9805ceac\",\"type\":\"CategoricalAxis\"},{\"attributes\":{\"fill_alpha\":{\"field\":\"fill_alpha\"},\"fill_color\":{\"field\":\"color\"},\"height\":{\"field\":\"height\",\"units\":\"data\"},\"line_color\":{\"field\":\"line_color\"},\"width\":{\"field\":\"width\",\"units\":\"data\"},\"x\":{\"field\":\"x\"},\"y\":{\"field\":\"y\"}},\"id\":\"365288eb-4768-4aae-abd1-bc925bb426ce\",\"type\":\"Rect\"},{\"attributes\":{\"callback\":null,\"column_names\":[\"x0s\",\"y1s\",\"y0s\",\"x1s\"],\"data\":{\"Drug_Code\":[201,201,201,201],\"chart_index\":[{\"Drug_Code\":201},{\"Drug_Code\":201},{\"Drug_Code\":201},{\"Drug_Code\":201}],\"x0s\":[\"201:0.5\",\"201:0.65\",\"201:0.5\",\"201:0.65\"],\"x1s\":[\"201:0.5\",\"201:0.35\",\"201:0.5\",\"201:0.35\"],\"y0s\":[28.0,28.0,101.5,126.0],\"y1s\":[43.75,28.0,126.0,126.0]}},\"id\":\"cc10d8c7-082c-4e3c-9b3f-ac08c41063a6\",\"type\":\"ColumnDataSource\"},{\"attributes\":{\"callback\":null,\"end\":132.3},\"id\":\"ddb669a7-9624-42bb-9dec-125949ac1c9b\",\"type\":\"Range1d\"},{\"attributes\":{\"data_source\":{\"id\":\"4094ee55-3409-4c92-870c-73ead269a7c2\",\"type\":\"ColumnDataSource\"},\"glyph\":{\"id\":\"f8fd47dc-74f7-4000-aba6-23ef3680e53a\",\"type\":\"Rect\"},\"hover_glyph\":null,\"nonselection_glyph\":null,\"selection_glyph\":null},\"id\":\"fd911234-8299-4b19-a322-3b3a0432f883\",\"type\":\"GlyphRenderer\"},{\"attributes\":{\"data_source\":{\"id\":\"c81d0ff6-5e8a-4efe-a999-43d073dc0473\",\"type\":\"ColumnDataSource\"},\"glyph\":{\"id\":\"57e9e473-8059-4f0f-b14a-2a0b997dd8bc\",\"type\":\"Rect\"},\"hover_glyph\":null,\"nonselection_glyph\":null,\"selection_glyph\":null},\"id\":\"5563c4a8-b891-478a-836a-f15ea3589ac2\",\"type\":\"GlyphRenderer\"},{\"attributes\":{},\"id\":\"133a0edb-8762-475a-b200-2089d438a0e9\",\"type\":\"ToolEvents\"},{\"attributes\":{\"callback\":null,\"column_names\":[\"width\",\"line_color\",\"line_alpha\",\"label\",\"height\",\"color\",\"x\",\"y\",\"fill_alpha\"],\"data\":{\"Drug_Code\":[202],\"chart_index\":[{\"Drug_Code\":202}],\"color\":[\"red\"],\"fill_alpha\":[0.8],\"height\":[0.0],\"label\":[{\"Drug_Code\":202}],\"line_alpha\":[1.0],\"line_color\":[\"black\"],\"width\":[0.8],\"x\":[\"202\"],\"y\":[7.0]}},\"id\":\"9cce963d-3a66-4a43-b701-e5e553af911b\",\"type\":\"ColumnDataSource\"},{\"attributes\":{\"line_width\":{\"value\":2},\"x0\":{\"field\":\"x0s\"},\"x1\":{\"field\":\"x1s\"},\"y0\":{\"field\":\"y0s\"},\"y1\":{\"field\":\"y1s\"}},\"id\":\"a7183771-f69e-4a7c-b3c0-0e3c0620ca06\",\"type\":\"Segment\"},{\"attributes\":{\"callback\":null,\"column_names\":[\"width\",\"line_color\",\"line_alpha\",\"label\",\"height\",\"color\",\"x\",\"y\",\"fill_alpha\"],\"data\":{\"Drug_Code\":[201],\"chart_index\":[{\"Drug_Code\":201}],\"color\":[\"red\"],\"fill_alpha\":[0.8],\"height\":[22.75],\"label\":[{\"Drug_Code\":201}],\"line_alpha\":[1.0],\"line_color\":[\"black\"],\"width\":[0.8],\"x\":[\"201\"],\"y\":[55.125]}},\"id\":\"4094ee55-3409-4c92-870c-73ead269a7c2\",\"type\":\"ColumnDataSource\"},{\"attributes\":{\"data_source\":{\"id\":\"9cce963d-3a66-4a43-b701-e5e553af911b\",\"type\":\"ColumnDataSource\"},\"glyph\":{\"id\":\"420258ea-edf7-428d-bfa9-8f44c98b0305\",\"type\":\"Rect\"},\"hover_glyph\":null,\"nonselection_glyph\":null,\"selection_glyph\":null},\"id\":\"0c259440-a2dc-4f03-8cd7-07e819b7fcc0\",\"type\":\"GlyphRenderer\"},{\"attributes\":{\"line_width\":{\"value\":2},\"x0\":{\"field\":\"x0s\"},\"x1\":{\"field\":\"x1s\"},\"y0\":{\"field\":\"y0s\"},\"y1\":{\"field\":\"y1s\"}},\"id\":\"9c503f49-0236-4642-bbdb-6bbbffc3343b\",\"type\":\"Segment\"},{\"attributes\":{\"callback\":null,\"column_names\":[\"width\",\"line_color\",\"line_alpha\",\"label\",\"height\",\"color\",\"x\",\"y\",\"fill_alpha\"],\"data\":{\"Drug_Code\":[201],\"chart_index\":[{\"Drug_Code\":201}],\"color\":[\"red\"],\"fill_alpha\":[0.8],\"height\":[35.0],\"label\":[{\"Drug_Code\":201}],\"line_alpha\":[1.0],\"line_color\":[\"black\"],\"width\":[0.8],\"x\":[\"201\"],\"y\":[84.0]}},\"id\":\"c81d0ff6-5e8a-4efe-a999-43d073dc0473\",\"type\":\"ColumnDataSource\"},{\"attributes\":{\"overlay\":{\"id\":\"ed17e4d2-1438-4aa2-bf71-5cd8ee98d227\",\"type\":\"BoxAnnotation\"},\"plot\":{\"id\":\"04ee0873-8144-4b63-aafb-ad5f6a644368\",\"subtype\":\"Chart\",\"type\":\"Plot\"}},\"id\":\"5fe6b719-0416-40e5-82fd-833ccd782fd6\",\"type\":\"BoxZoomTool\"},{\"attributes\":{\"data_source\":{\"id\":\"cc10d8c7-082c-4e3c-9b3f-ac08c41063a6\",\"type\":\"ColumnDataSource\"},\"glyph\":{\"id\":\"9c503f49-0236-4642-bbdb-6bbbffc3343b\",\"type\":\"Segment\"},\"hover_glyph\":null,\"nonselection_glyph\":null,\"selection_glyph\":null},\"id\":\"1921e3c8-3dc3-46fa-897d-e4469f319eec\",\"type\":\"GlyphRenderer\"},{\"attributes\":{\"data_source\":{\"id\":\"e3117076-61a4-47de-bea5-3212ff1f20b3\",\"type\":\"ColumnDataSource\"},\"glyph\":{\"id\":\"a7183771-f69e-4a7c-b3c0-0e3c0620ca06\",\"type\":\"Segment\"},\"hover_glyph\":null,\"nonselection_glyph\":null,\"selection_glyph\":null},\"id\":\"564fe742-164b-4596-b3e2-b621dad407be\",\"type\":\"GlyphRenderer\"},{\"attributes\":{},\"id\":\"dd238757-c762-48b8-84dc-77ab3a5ad388\",\"type\":\"CategoricalTicker\"},{\"attributes\":{\"active_drag\":\"auto\",\"active_scroll\":\"auto\",\"active_tap\":\"auto\",\"tools\":[{\"id\":\"362057f6-4626-493f-a066-d1a8ab0dac06\",\"type\":\"PanTool\"},{\"id\":\"1f60ed83-ec17-4fac-832b-201c04a06eb8\",\"type\":\"WheelZoomTool\"},{\"id\":\"5fe6b719-0416-40e5-82fd-833ccd782fd6\",\"type\":\"BoxZoomTool\"},{\"id\":\"85178649-7556-4bf5-99fe-e802c5b4825d\",\"type\":\"SaveTool\"},{\"id\":\"d9070cfa-6c02-4ddf-a630-27d86e3be152\",\"type\":\"ResetTool\"},{\"id\":\"9db4bef1-8637-4d43-a987-6d964b50dcad\",\"type\":\"HelpTool\"}]},\"id\":\"b05b9fe5-cde9-4037-9e79-4c62e55156a1\",\"type\":\"Toolbar\"},{\"attributes\":{\"plot\":null,\"text\":\"test\"},\"id\":\"817caa89-fd25-41ad-b86d-b16dfc0772ef\",\"type\":\"Title\"},{\"attributes\":{\"fill_alpha\":{\"field\":\"fill_alpha\"},\"fill_color\":{\"field\":\"color\"},\"height\":{\"field\":\"height\",\"units\":\"data\"},\"line_color\":{\"field\":\"line_color\"},\"width\":{\"field\":\"width\",\"units\":\"data\"},\"x\":{\"field\":\"x\"},\"y\":{\"field\":\"y\"}},\"id\":\"57e9e473-8059-4f0f-b14a-2a0b997dd8bc\",\"type\":\"Rect\"}],\"root_ids\":[\"04ee0873-8144-4b63-aafb-ad5f6a644368\"]},\"title\":\"Bokeh Application\",\"version\":\"0.12.0\"}};\n",
       "            var render_items = [{\"docid\":\"b1d7038e-65be-4fc6-b778-45349a2dca40\",\"elementid\":\"6d446237-e4e6-4c2a-9ac9-6d20b587a284\",\"modelid\":\"04ee0873-8144-4b63-aafb-ad5f6a644368\",\"notebook_comms_target\":\"253ab002-de9f-494e-bf34-abd7ecc7b3f0\"}];\n",
       "            \n",
       "            Bokeh.embed.embed_items(docs_json, render_items);\n",
       "        });\n",
       "      },\n",
       "      function(Bokeh) {\n",
       "      }\n",
       "    ];\n",
       "  \n",
       "    function run_inline_js() {\n",
       "      for (var i = 0; i < inline_js.length; i++) {\n",
       "        inline_js[i](window.Bokeh);\n",
       "      }\n",
       "    }\n",
       "  \n",
       "    if (window._bokeh_is_loading === 0) {\n",
       "      console.log(\"Bokeh: BokehJS loaded, going straight to plotting\");\n",
       "      run_inline_js();\n",
       "    } else {\n",
       "      load_libs(js_urls, function() {\n",
       "        console.log(\"Bokeh: BokehJS plotting callback run at\", now());\n",
       "        run_inline_js();\n",
       "      });\n",
       "    }\n",
       "  }(this));\n",
       "</script>"
      ]
     },
     "metadata": {},
     "output_type": "display_data"
    },
    {
     "name": "stdout",
     "output_type": "stream",
     "text": [
      "Drug_Code\n",
      "201    72.000000\n",
      "202    10.769231\n",
      "Name: len_treatment, dtype: float64\n",
      "p value is : \n",
      "0.0001\n"
     ]
    }
   ],
   "source": [
    "### Box plot \n",
    "p = BoxPlot(df_exercise_3, values='len_treatment', label='Drug_Code',\n",
    "            title=\"test\",color='red')\n",
    "show(p)\n",
    "\n",
    "## Print mean of each drug group\n",
    "print(df_exercise_3.pivot_table( columns= 'Drug_Code' , values= 'len_treatment', aggfunc= np.mean))\n",
    "\n",
    "\n",
    "### do a Null hypothesis test using permutation test\n",
    "\n",
    "observed1 = df_exercise_3.pivot_table( columns= 'Drug_Code' , values= 'len_treatment', aggfunc= np.median)[201] \n",
    "observed2 = df_exercise_3.pivot_table( columns= 'Drug_Code' , values= 'len_treatment', aggfunc= np.median)[202] \n",
    "observed = observed1 - observed2\n",
    "\n",
    "result = pd.Series(np.zeros(10**4 -1))\n",
    "def permute_test(d  = 0):\n",
    "    n = len(df_exercise_3)\n",
    "    c = len(df_exercise_3[df_exercise_3['Drug_Code']==201])             \n",
    "    index=np.random.choice(np.arange(0,n,1), size = c, replace = False)\n",
    "    not_index = np.setdiff1d(np.arange(0,n,1),index , assume_unique = True)\n",
    "    return df_exercise_3['len_treatment'].iloc[index].median() - df_exercise_3['len_treatment'].iloc[not_index].median()\n",
    "result=result.apply(permute_test)\n",
    "# calculating P value\n",
    "# calculating P value\n",
    "p_value = ((result >= observed).sum() +1)/(10**4)\n",
    "#### Print p value\n",
    "print('p value is : ')\n",
    "print(p_value)"
   ]
  },
  {
   "cell_type": "code",
   "execution_count": 33,
   "metadata": {
    "collapsed": true
   },
   "outputs": [],
   "source": [
    "conn.close()"
   ]
  }
 ],
 "metadata": {
  "kernelspec": {
   "display_name": "Python 3",
   "language": "python",
   "name": "python3"
  },
  "language_info": {
   "codemirror_mode": {
    "name": "ipython",
    "version": 3
   },
   "file_extension": ".py",
   "mimetype": "text/x-python",
   "name": "python",
   "nbconvert_exporter": "python",
   "pygments_lexer": "ipython3",
   "version": "3.5.1"
  }
 },
 "nbformat": 4,
 "nbformat_minor": 0
}
