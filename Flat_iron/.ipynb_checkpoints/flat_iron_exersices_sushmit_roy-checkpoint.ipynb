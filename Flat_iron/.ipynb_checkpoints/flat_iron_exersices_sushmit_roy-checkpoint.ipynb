{
 "cells": [
  {
   "cell_type": "code",
   "execution_count": 43,
   "metadata": {
    "collapsed": true
   },
   "outputs": [],
   "source": [
    "# Python libarary\n",
    "import pymysql\n",
    "import pandas as pd"
   ]
  },
  {
   "cell_type": "markdown",
   "metadata": {},
   "source": [
    "# Loading Data to My-sql local instance"
   ]
  },
  {
   "cell_type": "markdown",
   "metadata": {},
   "source": [
    "Creating a new schema flat_iron in a <b mysql(5.7.13) b> local database and uploading the Patient_Diagnosis.csv &\n",
    "Patient_Treatment.csv "
   ]
  },
  {
   "cell_type": "code",
   "execution_count": 34,
   "metadata": {
    "collapsed": false
   },
   "outputs": [],
   "source": [
    "# Creating a connection \n",
    "# note the flat_iron schema was manually created \n",
    "conn = pymysql.connect(host='localhost', port=3306, user='root', passwd='', db='flat_iron')\n",
    "c = conn.cursor()"
   ]
  },
  {
   "cell_type": "code",
   "execution_count": 41,
   "metadata": {
    "collapsed": false
   },
   "outputs": [],
   "source": [
    "# creating patient_diagnosis table\n",
    "create_patient_diagnosis = \"\"\"\n",
    "CREATE TABLE if not exists flat_iron.patient_diagnosis (\n",
    "   Patient_ID INT NOT NULL,\n",
    "   Diagnosis_Date DATE NOT NULL,\n",
    "   Diagnosis_Code DECIMAL(7,2) NOT NULL,\n",
    "   Diagnosis VARCHAR(45) NULL\n",
    ")\n",
    "\"\"\"\n",
    "c.execute(create_patient_diagnosis)\n",
    "\n",
    "# loading the data from Patient_Diagnosis.csv\n",
    "loading_patient_diagnosis = r\"\"\"\n",
    "LOAD DATA \n",
    "INFILE \n",
    "'/Users/sroy/Personal/Data_science_experiments/Flat_iron/Patient_Diagnosis.csv'\n",
    "INTO TABLE  flat_iron.patient_diagnosis\n",
    "FIELDS TERMINATED BY ',' \n",
    "LINES TERMINATED BY '\\r\\n'\n",
    "IGNORE 1 ROWS\n",
    "\"\"\"\n",
    "c.execute(loading_patient_diagnosis)\n",
    "# commiting\n",
    "conn.commit()"
   ]
  },
  {
   "cell_type": "code",
   "execution_count": 42,
   "metadata": {
    "collapsed": false
   },
   "outputs": [],
   "source": [
    "# creating patient_treatment.csv\n",
    "create_patient_diagnosis = \"\"\"\n",
    "CREATE TABLE if not exists flat_iron.patient_treatment (\n",
    "   Patient_ID INT NOT NULL,\n",
    "   Treatment_Date DATE NOT NULL,\n",
    "   Drug_Code INT NOT NULL\n",
    ")\n",
    "\"\"\"\n",
    "c.execute(create_patient_diagnosis)\n",
    "\n",
    "# loading the data from Patient_Treatment.csv\n",
    "loading_patient_diagnosis = r\"\"\"\n",
    "LOAD DATA \n",
    "INFILE \n",
    "'/Users/sroy/Personal/Data_science_experiments/Flat_iron/Patient_Treatment.csv'\n",
    "INTO TABLE  flat_iron.patient_treatment\n",
    "FIELDS TERMINATED BY ',' \n",
    "LINES TERMINATED BY '\\r\\n'\n",
    "IGNORE 1 ROWS\n",
    "\"\"\"\n",
    "c.execute(loading_patient_diagnosis)\n",
    "# commiting\n",
    "conn.commit()"
   ]
  },
  {
   "cell_type": "markdown",
   "metadata": {},
   "source": [
    "Exercise\n",
    "1.  How many patients does the clinic have for each cancer diagnosis?"
   ]
  },
  {
   "cell_type": "code",
   "execution_count": 46,
   "metadata": {
    "collapsed": false
   },
   "outputs": [
    {
     "data": {
      "text/html": [
       "<div>\n",
       "<table border=\"1\" class=\"dataframe\">\n",
       "  <thead>\n",
       "    <tr style=\"text-align: right;\">\n",
       "      <th></th>\n",
       "      <th>Diagnosis</th>\n",
       "      <th>count</th>\n",
       "    </tr>\n",
       "  </thead>\n",
       "  <tbody>\n",
       "    <tr>\n",
       "      <th>0</th>\n",
       "      <td>Breast Cancer</td>\n",
       "      <td>26</td>\n",
       "    </tr>\n",
       "    <tr>\n",
       "      <th>1</th>\n",
       "      <td>Colon Cancer</td>\n",
       "      <td>12</td>\n",
       "    </tr>\n",
       "  </tbody>\n",
       "</table>\n",
       "</div>"
      ],
      "text/plain": [
       "       Diagnosis  count\n",
       "0  Breast Cancer     26\n",
       "1   Colon Cancer     12"
      ]
     },
     "execution_count": 46,
     "metadata": {},
     "output_type": "execute_result"
    }
   ],
   "source": [
    "sql_exercise_1 = \"\"\"\n",
    "select \n",
    "Diagnosis,\n",
    "count(distinct Patient_ID) as count\n",
    "from flat_iron.patient_diagnosis\n",
    "group by 1\n",
    "order by 2 desc\n",
    "\"\"\"\n",
    "df_exercise_1 = pd.read_sql(sql_exercise_1,conn)\n",
    "df_exercise_1"
   ]
  }
 ],
 "metadata": {
  "kernelspec": {
   "display_name": "Python 3",
   "language": "python",
   "name": "python3"
  },
  "language_info": {
   "codemirror_mode": {
    "name": "ipython",
    "version": 3
   },
   "file_extension": ".py",
   "mimetype": "text/x-python",
   "name": "python",
   "nbconvert_exporter": "python",
   "pygments_lexer": "ipython3",
   "version": "3.5.1"
  }
 },
 "nbformat": 4,
 "nbformat_minor": 0
}
