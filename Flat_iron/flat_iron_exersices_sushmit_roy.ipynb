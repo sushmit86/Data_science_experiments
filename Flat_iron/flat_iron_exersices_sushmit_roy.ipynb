{
 "cells": [
  {
   "cell_type": "code",
   "execution_count": 34,
   "metadata": {
    "collapsed": false
   },
   "outputs": [
    {
     "data": {
      "text/html": [
       "\n",
       "    <div class=\"bk-root\">\n",
       "        <a href=\"http://bokeh.pydata.org\" target=\"_blank\" class=\"bk-logo bk-logo-small bk-logo-notebook\"></a>\n",
       "        <span id=\"b701df78-0f7e-4573-90b2-3857db2b6510\">Loading BokehJS ...</span>\n",
       "    </div>"
      ]
     },
     "metadata": {},
     "output_type": "display_data"
    },
    {
     "data": {
      "application/javascript": [
       "\n",
       "(function(global) {\n",
       "  function now() {\n",
       "    return new Date();\n",
       "  }\n",
       "\n",
       "  if (typeof (window._bokeh_onload_callbacks) === \"undefined\") {\n",
       "    window._bokeh_onload_callbacks = [];\n",
       "  }\n",
       "\n",
       "  function run_callbacks() {\n",
       "    window._bokeh_onload_callbacks.forEach(function(callback) { callback() });\n",
       "    delete window._bokeh_onload_callbacks\n",
       "    console.info(\"Bokeh: all callbacks have finished\");\n",
       "  }\n",
       "\n",
       "  function load_libs(js_urls, callback) {\n",
       "    window._bokeh_onload_callbacks.push(callback);\n",
       "    if (window._bokeh_is_loading > 0) {\n",
       "      console.log(\"Bokeh: BokehJS is being loaded, scheduling callback at\", now());\n",
       "      return null;\n",
       "    }\n",
       "    if (js_urls == null || js_urls.length === 0) {\n",
       "      run_callbacks();\n",
       "      return null;\n",
       "    }\n",
       "    console.log(\"Bokeh: BokehJS not loaded, scheduling load and callback at\", now());\n",
       "    window._bokeh_is_loading = js_urls.length;\n",
       "    for (var i = 0; i < js_urls.length; i++) {\n",
       "      var url = js_urls[i];\n",
       "      var s = document.createElement('script');\n",
       "      s.src = url;\n",
       "      s.async = false;\n",
       "      s.onreadystatechange = s.onload = function() {\n",
       "        window._bokeh_is_loading--;\n",
       "        if (window._bokeh_is_loading === 0) {\n",
       "          console.log(\"Bokeh: all BokehJS libraries loaded\");\n",
       "          run_callbacks()\n",
       "        }\n",
       "      };\n",
       "      s.onerror = function() {\n",
       "        console.warn(\"failed to load library \" + url);\n",
       "      };\n",
       "      console.log(\"Bokeh: injecting script tag for BokehJS library: \", url);\n",
       "      document.getElementsByTagName(\"head\")[0].appendChild(s);\n",
       "    }\n",
       "  };\n",
       "\n",
       "  var js_urls = ['https://cdn.pydata.org/bokeh/release/bokeh-0.12.0.min.js', 'https://cdn.pydata.org/bokeh/release/bokeh-widgets-0.12.0.min.js', 'https://cdn.pydata.org/bokeh/release/bokeh-compiler-0.12.0.min.js'];\n",
       "\n",
       "  var inline_js = [\n",
       "    function(Bokeh) {\n",
       "      Bokeh.set_log_level(\"info\");\n",
       "    },\n",
       "    \n",
       "    function(Bokeh) {\n",
       "      Bokeh.$(\"#b701df78-0f7e-4573-90b2-3857db2b6510\").text(\"BokehJS successfully loaded\");\n",
       "    },\n",
       "    function(Bokeh) {\n",
       "      console.log(\"Bokeh: injecting CSS: https://cdn.pydata.org/bokeh/release/bokeh-0.12.0.min.css\");\n",
       "      Bokeh.embed.inject_css(\"https://cdn.pydata.org/bokeh/release/bokeh-0.12.0.min.css\");\n",
       "      console.log(\"Bokeh: injecting CSS: https://cdn.pydata.org/bokeh/release/bokeh-widgets-0.12.0.min.css\");\n",
       "      Bokeh.embed.inject_css(\"https://cdn.pydata.org/bokeh/release/bokeh-widgets-0.12.0.min.css\");\n",
       "    }\n",
       "  ];\n",
       "\n",
       "  function run_inline_js() {\n",
       "    for (var i = 0; i < inline_js.length; i++) {\n",
       "      inline_js[i](window.Bokeh);\n",
       "    }\n",
       "  }\n",
       "\n",
       "  if (window._bokeh_is_loading === 0) {\n",
       "    console.log(\"Bokeh: BokehJS loaded, going straight to plotting\");\n",
       "    run_inline_js();\n",
       "  } else {\n",
       "    load_libs(js_urls, function() {\n",
       "      console.log(\"Bokeh: BokehJS plotting callback run at\", now());\n",
       "      run_inline_js();\n",
       "    });\n",
       "  }\n",
       "}(this));"
      ]
     },
     "metadata": {},
     "output_type": "display_data"
    }
   ],
   "source": [
    "# Python libarary\n",
    "import pymysql\n",
    "import pandas as pd\n",
    "from bokeh.layouts import gridplot\n",
    "#from bokeh.plotting import figure, output_notebook, show,Histogram\n",
    "from bokeh.charts import Histogram,BoxPlot, output_notebook, show\n",
    "import numpy as np\n",
    "output_notebook()"
   ]
  },
  {
   "cell_type": "markdown",
   "metadata": {},
   "source": [
    "# Loading Data to My-sql local instance"
   ]
  },
  {
   "cell_type": "markdown",
   "metadata": {},
   "source": [
    "Creating a new schema flat_iron in a <b mysql(5.7.13) b> local database and uploading the Patient_Diagnosis.csv &\n",
    "Patient_Treatment.csv "
   ]
  },
  {
   "cell_type": "code",
   "execution_count": 59,
   "metadata": {
    "collapsed": false
   },
   "outputs": [],
   "source": [
    "# Creating a connection \n",
    "# note the flat_iron schema was manually created \n",
    "conn = pymysql.connect(host='localhost', port=3306, user='root', passwd='', db='flat_iron')\n",
    "c = conn.cursor()"
   ]
  },
  {
   "cell_type": "code",
   "execution_count": 36,
   "metadata": {
    "collapsed": false
   },
   "outputs": [],
   "source": [
    "# creating patient_diagnosis table\n",
    "create_patient_diagnosis = \"\"\"\n",
    "CREATE TABLE if not exists flat_iron.patient_diagnosis (\n",
    "   Patient_ID INT NOT NULL,\n",
    "   Diagnosis_Date DATE NOT NULL,\n",
    "   Diagnosis_Code DECIMAL(7,2) NOT NULL,\n",
    "   Diagnosis VARCHAR(45) NULL\n",
    ")\n",
    "\"\"\"\n",
    "c.execute(create_patient_diagnosis)\n",
    "\n",
    "# loading the data from Patient_Diagnosis.csv\n",
    "loading_patient_diagnosis = r\"\"\"\n",
    "LOAD DATA \n",
    "INFILE \n",
    "'/Users/sroy/Personal/Data_science_experiments/Flat_iron/Patient_Diagnosis.csv'\n",
    "INTO TABLE  flat_iron.patient_diagnosis\n",
    "FIELDS TERMINATED BY ',' \n",
    "LINES TERMINATED BY '\\r\\n'\n",
    "IGNORE 1 ROWS\n",
    "\"\"\"\n",
    "c.execute(loading_patient_diagnosis)\n",
    "# commiting\n",
    "conn.commit()"
   ]
  },
  {
   "cell_type": "code",
   "execution_count": 37,
   "metadata": {
    "collapsed": false
   },
   "outputs": [],
   "source": [
    "# creating patient_treatment.csv\n",
    "create_patient_diagnosis = \"\"\"\n",
    "CREATE TABLE if not exists flat_iron.patient_treatment (\n",
    "   Patient_ID INT NOT NULL,\n",
    "   Treatment_Date DATE NOT NULL,\n",
    "   Drug_Code INT NOT NULL\n",
    ")\n",
    "\"\"\"\n",
    "c.execute(create_patient_diagnosis)\n",
    "\n",
    "# loading the data from Patient_Treatment.csv\n",
    "loading_patient_diagnosis = r\"\"\"\n",
    "LOAD DATA \n",
    "INFILE \n",
    "'/Users/sroy/Personal/Data_science_experiments/Flat_iron/Patient_Treatment.csv'\n",
    "INTO TABLE  flat_iron.patient_treatment\n",
    "FIELDS TERMINATED BY ',' \n",
    "LINES TERMINATED BY '\\r\\n'\n",
    "IGNORE 1 ROWS\n",
    "\"\"\"\n",
    "c.execute(loading_patient_diagnosis)\n",
    "# commiting\n",
    "conn.commit()"
   ]
  },
  {
   "cell_type": "markdown",
   "metadata": {},
   "source": [
    "Exercise\n",
    "1.  How many patients does the clinic have for each cancer diagnosis?"
   ]
  },
  {
   "cell_type": "code",
   "execution_count": 38,
   "metadata": {
    "collapsed": false
   },
   "outputs": [
    {
     "data": {
      "text/html": [
       "<div>\n",
       "<table border=\"1\" class=\"dataframe\">\n",
       "  <thead>\n",
       "    <tr style=\"text-align: right;\">\n",
       "      <th></th>\n",
       "      <th>Diagnosis</th>\n",
       "      <th>count</th>\n",
       "    </tr>\n",
       "  </thead>\n",
       "  <tbody>\n",
       "    <tr>\n",
       "      <th>0</th>\n",
       "      <td>Breast Cancer</td>\n",
       "      <td>26</td>\n",
       "    </tr>\n",
       "    <tr>\n",
       "      <th>1</th>\n",
       "      <td>Colon Cancer</td>\n",
       "      <td>12</td>\n",
       "    </tr>\n",
       "  </tbody>\n",
       "</table>\n",
       "</div>"
      ],
      "text/plain": [
       "       Diagnosis  count\n",
       "0  Breast Cancer     26\n",
       "1   Colon Cancer     12"
      ]
     },
     "execution_count": 38,
     "metadata": {},
     "output_type": "execute_result"
    }
   ],
   "source": [
    "sql_exercise_1 = \"\"\"\n",
    "select \n",
    "Diagnosis,\n",
    "count(distinct Patient_ID) as count\n",
    "from flat_iron.patient_diagnosis\n",
    "group by 1\n",
    "order by 2 desc\n",
    "\"\"\"\n",
    "df_exercise_1 = pd.read_sql(sql_exercise_1,conn)\n",
    "df_exercise_1"
   ]
  },
  {
   "cell_type": "code",
   "execution_count": 62,
   "metadata": {
    "collapsed": false
   },
   "outputs": [
    {
     "data": {
      "text/html": [
       "\n",
       "\n",
       "    <div class=\"bk-root\">\n",
       "        <div class=\"plotdiv\" id=\"3f7edd46-a097-48fb-85a9-bec8242c2c2b\"></div>\n",
       "    </div>\n",
       "<script type=\"text/javascript\">\n",
       "  \n",
       "  (function(global) {\n",
       "    function now() {\n",
       "      return new Date();\n",
       "    }\n",
       "  \n",
       "    if (typeof (window._bokeh_onload_callbacks) === \"undefined\") {\n",
       "      window._bokeh_onload_callbacks = [];\n",
       "    }\n",
       "  \n",
       "    function run_callbacks() {\n",
       "      window._bokeh_onload_callbacks.forEach(function(callback) { callback() });\n",
       "      delete window._bokeh_onload_callbacks\n",
       "      console.info(\"Bokeh: all callbacks have finished\");\n",
       "    }\n",
       "  \n",
       "    function load_libs(js_urls, callback) {\n",
       "      window._bokeh_onload_callbacks.push(callback);\n",
       "      if (window._bokeh_is_loading > 0) {\n",
       "        console.log(\"Bokeh: BokehJS is being loaded, scheduling callback at\", now());\n",
       "        return null;\n",
       "      }\n",
       "      if (js_urls == null || js_urls.length === 0) {\n",
       "        run_callbacks();\n",
       "        return null;\n",
       "      }\n",
       "      console.log(\"Bokeh: BokehJS not loaded, scheduling load and callback at\", now());\n",
       "      window._bokeh_is_loading = js_urls.length;\n",
       "      for (var i = 0; i < js_urls.length; i++) {\n",
       "        var url = js_urls[i];\n",
       "        var s = document.createElement('script');\n",
       "        s.src = url;\n",
       "        s.async = false;\n",
       "        s.onreadystatechange = s.onload = function() {\n",
       "          window._bokeh_is_loading--;\n",
       "          if (window._bokeh_is_loading === 0) {\n",
       "            console.log(\"Bokeh: all BokehJS libraries loaded\");\n",
       "            run_callbacks()\n",
       "          }\n",
       "        };\n",
       "        s.onerror = function() {\n",
       "          console.warn(\"failed to load library \" + url);\n",
       "        };\n",
       "        console.log(\"Bokeh: injecting script tag for BokehJS library: \", url);\n",
       "        document.getElementsByTagName(\"head\")[0].appendChild(s);\n",
       "      }\n",
       "    };var element = document.getElementById(\"3f7edd46-a097-48fb-85a9-bec8242c2c2b\");\n",
       "    if (element == null) {\n",
       "      console.log(\"Bokeh: ERROR: autoload.js configured with elementid '3f7edd46-a097-48fb-85a9-bec8242c2c2b' but no matching script tag was found. \")\n",
       "      return false;\n",
       "    }\n",
       "  \n",
       "    var js_urls = [];\n",
       "  \n",
       "    var inline_js = [\n",
       "      function(Bokeh) {\n",
       "        Bokeh.$(function() {\n",
       "            var docs_json = {\"41a9140c-d5f3-4653-b2d0-e70867e55fda\":{\"roots\":{\"references\":[{\"attributes\":{\"fill_alpha\":{\"field\":\"fill_alpha\"},\"fill_color\":{\"field\":\"color\"},\"height\":{\"field\":\"height\",\"units\":\"data\"},\"line_color\":{\"field\":\"line_color\"},\"width\":{\"field\":\"width\",\"units\":\"data\"},\"x\":{\"field\":\"x\"},\"y\":{\"field\":\"y\"}},\"id\":\"4aa79e31-80c9-4ea4-8f4a-626f11e5c47e\",\"type\":\"Rect\"},{\"attributes\":{\"overlay\":{\"id\":\"2a83b260-a4a6-477a-aa3c-139976c6bc80\",\"type\":\"BoxAnnotation\"},\"plot\":{\"id\":\"599850e3-2556-492f-9cae-a8211d6e630b\",\"subtype\":\"Chart\",\"type\":\"Plot\"}},\"id\":\"f38e023f-a9c7-4db8-be64-631d2c32ab3f\",\"type\":\"BoxZoomTool\"},{\"attributes\":{},\"id\":\"75fa5cd1-cb44-438a-acc4-78dd59158ddd\",\"type\":\"BasicTickFormatter\"},{\"attributes\":{\"data_source\":{\"id\":\"0d51a4ce-5d66-4c5b-8727-1e6f9a382e10\",\"type\":\"ColumnDataSource\"},\"glyph\":{\"id\":\"82b30a41-226b-4317-a28a-40a2d382c05c\",\"type\":\"Rect\"},\"hover_glyph\":null,\"nonselection_glyph\":null,\"selection_glyph\":null},\"id\":\"b2a75ca8-fe01-49f1-998e-d007b8a42867\",\"type\":\"GlyphRenderer\"},{\"attributes\":{\"axis_label\":\"count\",\"formatter\":{\"id\":\"7be276fd-523e-4a8a-a9c5-edd4014bff64\",\"type\":\"BasicTickFormatter\"},\"plot\":{\"id\":\"599850e3-2556-492f-9cae-a8211d6e630b\",\"subtype\":\"Chart\",\"type\":\"Plot\"},\"ticker\":{\"id\":\"19edccda-214f-4b61-b2c8-d6267d200af4\",\"type\":\"BasicTicker\"}},\"id\":\"9fca5100-38b3-4cc3-b1b5-bd60968559d1\",\"type\":\"LinearAxis\"},{\"attributes\":{\"active_drag\":\"auto\",\"active_scroll\":\"auto\",\"active_tap\":\"auto\",\"tools\":[{\"id\":\"3c42c408-71bc-450a-a641-2079877056ef\",\"type\":\"PanTool\"},{\"id\":\"e39c5707-d300-4249-8597-d68918ccdf05\",\"type\":\"WheelZoomTool\"},{\"id\":\"f38e023f-a9c7-4db8-be64-631d2c32ab3f\",\"type\":\"BoxZoomTool\"},{\"id\":\"c9ebcdac-39db-4b74-85d1-49ff716c6623\",\"type\":\"SaveTool\"},{\"id\":\"9e247e70-9864-4ae3-a5da-d52be68167dc\",\"type\":\"ResetTool\"},{\"id\":\"62002639-70ab-4a1a-af1a-83e62929e970\",\"type\":\"HelpTool\"}]},\"id\":\"faeace5d-c08a-4d7c-bbdb-cf80f5f88637\",\"type\":\"Toolbar\"},{\"attributes\":{\"dimension\":1,\"plot\":{\"id\":\"599850e3-2556-492f-9cae-a8211d6e630b\",\"subtype\":\"Chart\",\"type\":\"Plot\"},\"ticker\":{\"id\":\"19edccda-214f-4b61-b2c8-d6267d200af4\",\"type\":\"BasicTicker\"}},\"id\":\"9f6dc2c2-1007-4399-98e9-072c52640bf4\",\"type\":\"Grid\"},{\"attributes\":{\"plot\":{\"id\":\"599850e3-2556-492f-9cae-a8211d6e630b\",\"subtype\":\"Chart\",\"type\":\"Plot\"}},\"id\":\"e39c5707-d300-4249-8597-d68918ccdf05\",\"type\":\"WheelZoomTool\"},{\"attributes\":{\"bottom_units\":\"screen\",\"fill_alpha\":{\"value\":0.5},\"fill_color\":{\"value\":\"lightgrey\"},\"left_units\":\"screen\",\"level\":\"overlay\",\"line_alpha\":{\"value\":1.0},\"line_color\":{\"value\":\"black\"},\"line_dash\":[4,4],\"line_width\":{\"value\":2},\"plot\":null,\"render_mode\":\"css\",\"right_units\":\"screen\",\"top_units\":\"screen\"},\"id\":\"2a83b260-a4a6-477a-aa3c-139976c6bc80\",\"type\":\"BoxAnnotation\"},{\"attributes\":{\"fill_alpha\":{\"field\":\"fill_alpha\"},\"fill_color\":{\"field\":\"color\"},\"height\":{\"field\":\"height\",\"units\":\"data\"},\"line_color\":{\"field\":\"line_color\"},\"width\":{\"field\":\"width\",\"units\":\"data\"},\"x\":{\"field\":\"x\"},\"y\":{\"field\":\"y\"}},\"id\":\"4fe2f6c3-0aae-4d53-9357-2191e36db675\",\"type\":\"Rect\"},{\"attributes\":{\"fill_alpha\":{\"field\":\"fill_alpha\"},\"fill_color\":{\"field\":\"color\"},\"height\":{\"field\":\"height\",\"units\":\"data\"},\"line_color\":{\"field\":\"line_color\"},\"width\":{\"field\":\"width\",\"units\":\"data\"},\"x\":{\"field\":\"x\"},\"y\":{\"field\":\"y\"}},\"id\":\"0bf418f1-f95b-4376-b6ca-5bedd3ded34e\",\"type\":\"Rect\"},{\"attributes\":{\"plot\":{\"id\":\"599850e3-2556-492f-9cae-a8211d6e630b\",\"subtype\":\"Chart\",\"type\":\"Plot\"}},\"id\":\"62002639-70ab-4a1a-af1a-83e62929e970\",\"type\":\"HelpTool\"},{\"attributes\":{\"data_source\":{\"id\":\"3e1ccbe2-ba12-4741-ad46-2049d5650891\",\"type\":\"ColumnDataSource\"},\"glyph\":{\"id\":\"9070e83e-b5df-4a02-afee-5d8fba0645bd\",\"type\":\"Rect\"},\"hover_glyph\":null,\"nonselection_glyph\":null,\"selection_glyph\":null},\"id\":\"92c2cce1-a975-4564-95c1-4391f6f7fc94\",\"type\":\"GlyphRenderer\"},{\"attributes\":{\"plot\":{\"id\":\"599850e3-2556-492f-9cae-a8211d6e630b\",\"subtype\":\"Chart\",\"type\":\"Plot\"}},\"id\":\"c9ebcdac-39db-4b74-85d1-49ff716c6623\",\"type\":\"SaveTool\"},{\"attributes\":{\"plot\":null,\"text\":\"Time to Start Treatment\"},\"id\":\"5d823a8a-874b-42a9-a8d3-834f5edea68d\",\"type\":\"Title\"},{\"attributes\":{\"data_source\":{\"id\":\"554eb4fb-538c-46d9-86a9-7826a997d661\",\"type\":\"ColumnDataSource\"},\"glyph\":{\"id\":\"8b2952ec-8fcb-4f7a-852b-25cb59f86d0c\",\"type\":\"Rect\"},\"hover_glyph\":null,\"nonselection_glyph\":null,\"selection_glyph\":null},\"id\":\"85d16605-1c34-4789-92b8-b8f9efa54108\",\"type\":\"GlyphRenderer\"},{\"attributes\":{\"fill_alpha\":{\"field\":\"fill_alpha\"},\"fill_color\":{\"field\":\"color\"},\"height\":{\"field\":\"height\",\"units\":\"data\"},\"line_color\":{\"field\":\"line_color\"},\"width\":{\"field\":\"width\",\"units\":\"data\"},\"x\":{\"field\":\"x\"},\"y\":{\"field\":\"y\"}},\"id\":\"8b2952ec-8fcb-4f7a-852b-25cb59f86d0c\",\"type\":\"Rect\"},{\"attributes\":{\"callback\":null,\"column_names\":[\"width\",\"line_color\",\"line_alpha\",\"label\",\"height\",\"color\",\"x\",\"y\",\"fill_alpha\"],\"data\":{\"chart_index\":[\"(0.0, 10.0]\"],\"color\":[\"#f22c40\"],\"fill_alpha\":[0.8],\"height\":[1.0],\"label\":[\"(0.0, 10.0]\"],\"line_alpha\":[1.0],\"line_color\":[\"black\"],\"width\":[10],\"x\":[\"5.0\"],\"y\":[0.5]}},\"id\":\"82f70dd4-cbbc-44a6-9871-1ee05d31b819\",\"type\":\"ColumnDataSource\"},{\"attributes\":{\"callback\":null,\"column_names\":[\"width\",\"line_color\",\"line_alpha\",\"label\",\"height\",\"color\",\"x\",\"y\",\"fill_alpha\"],\"data\":{\"chart_index\":[\"(60.0, 70.0]\"],\"color\":[\"#f22c40\"],\"fill_alpha\":[0.8],\"height\":[1.0],\"label\":[\"(60.0, 70.0]\"],\"line_alpha\":[1.0],\"line_color\":[\"black\"],\"width\":[10],\"x\":[\"65.0\"],\"y\":[0.5]}},\"id\":\"558d04b5-11f1-4da7-9379-7f6f4fa58dac\",\"type\":\"ColumnDataSource\"},{\"attributes\":{\"callback\":null,\"end\":70.5,\"start\":-50.5},\"id\":\"766d4f22-29af-4715-9119-523ab32067ca\",\"type\":\"Range1d\"},{\"attributes\":{\"callback\":null,\"column_names\":[\"width\",\"line_color\",\"line_alpha\",\"label\",\"height\",\"color\",\"x\",\"y\",\"fill_alpha\"],\"data\":{\"chart_index\":[\"(40.0, 50.0]\"],\"color\":[\"#f22c40\"],\"fill_alpha\":[0.8],\"height\":[9.0],\"label\":[\"(40.0, 50.0]\"],\"line_alpha\":[1.0],\"line_color\":[\"black\"],\"width\":[10],\"x\":[\"45.0\"],\"y\":[4.5]}},\"id\":\"554eb4fb-538c-46d9-86a9-7826a997d661\",\"type\":\"ColumnDataSource\"},{\"attributes\":{\"data_source\":{\"id\":\"96cc387c-72cf-4577-9804-bde1e6bd2c4e\",\"type\":\"ColumnDataSource\"},\"glyph\":{\"id\":\"9cd63058-99a7-48b1-a5d9-237ebfecc689\",\"type\":\"Rect\"},\"hover_glyph\":null,\"nonselection_glyph\":null,\"selection_glyph\":null},\"id\":\"519fc037-163f-49a6-aa33-90b9e7edf967\",\"type\":\"GlyphRenderer\"},{\"attributes\":{\"location\":\"top_left\",\"plot\":{\"id\":\"599850e3-2556-492f-9cae-a8211d6e630b\",\"subtype\":\"Chart\",\"type\":\"Plot\"}},\"id\":\"300da7a7-0e27-4edf-8894-1d6f75df3928\",\"type\":\"Legend\"},{\"attributes\":{\"callback\":null,\"column_names\":[\"width\",\"line_color\",\"line_alpha\",\"label\",\"height\",\"color\",\"x\",\"y\",\"fill_alpha\"],\"data\":{\"chart_index\":[\"(50.0, 60.0]\"],\"color\":[\"#f22c40\"],\"fill_alpha\":[0.8],\"height\":[1.0],\"label\":[\"(50.0, 60.0]\"],\"line_alpha\":[1.0],\"line_color\":[\"black\"],\"width\":[10],\"x\":[\"55.0\"],\"y\":[0.5]}},\"id\":\"393023bf-8425-4f06-9dbb-da020d524daf\",\"type\":\"ColumnDataSource\"},{\"attributes\":{\"callback\":null,\"column_names\":[\"width\",\"line_color\",\"line_alpha\",\"label\",\"height\",\"color\",\"x\",\"y\",\"fill_alpha\"],\"data\":{\"chart_index\":[\"(-10.0, 0.0]\"],\"color\":[\"#f22c40\"],\"fill_alpha\":[0.8],\"height\":[0.0],\"label\":[\"(-10.0, 0.0]\"],\"line_alpha\":[1.0],\"line_color\":[\"black\"],\"width\":[10],\"x\":[\"-5.0\"],\"y\":[0.0]}},\"id\":\"c21362bc-7c67-4940-b9f8-ebd9ed167ad6\",\"type\":\"ColumnDataSource\"},{\"attributes\":{\"fill_alpha\":{\"field\":\"fill_alpha\"},\"fill_color\":{\"field\":\"color\"},\"height\":{\"field\":\"height\",\"units\":\"data\"},\"line_color\":{\"field\":\"line_color\"},\"width\":{\"field\":\"width\",\"units\":\"data\"},\"x\":{\"field\":\"x\"},\"y\":{\"field\":\"y\"}},\"id\":\"82b30a41-226b-4317-a28a-40a2d382c05c\",\"type\":\"Rect\"},{\"attributes\":{\"fill_alpha\":{\"field\":\"fill_alpha\"},\"fill_color\":{\"field\":\"color\"},\"height\":{\"field\":\"height\",\"units\":\"data\"},\"line_color\":{\"field\":\"line_color\"},\"width\":{\"field\":\"width\",\"units\":\"data\"},\"x\":{\"field\":\"x\"},\"y\":{\"field\":\"y\"}},\"id\":\"2e0974e3-7d48-444b-a88f-9d03084e5767\",\"type\":\"Rect\"},{\"attributes\":{},\"id\":\"19edccda-214f-4b61-b2c8-d6267d200af4\",\"type\":\"BasicTicker\"},{\"attributes\":{\"callback\":null,\"column_names\":[\"width\",\"line_color\",\"line_alpha\",\"label\",\"height\",\"color\",\"x\",\"y\",\"fill_alpha\"],\"data\":{\"chart_index\":[\"(30.0, 40.0]\"],\"color\":[\"#f22c40\"],\"fill_alpha\":[0.8],\"height\":[3.0],\"label\":[\"(30.0, 40.0]\"],\"line_alpha\":[1.0],\"line_color\":[\"black\"],\"width\":[10],\"x\":[\"35.0\"],\"y\":[1.5]}},\"id\":\"96cc387c-72cf-4577-9804-bde1e6bd2c4e\",\"type\":\"ColumnDataSource\"},{\"attributes\":{\"plot\":{\"id\":\"599850e3-2556-492f-9cae-a8211d6e630b\",\"subtype\":\"Chart\",\"type\":\"Plot\"}},\"id\":\"3c42c408-71bc-450a-a641-2079877056ef\",\"type\":\"PanTool\"},{\"attributes\":{\"fill_alpha\":{\"field\":\"fill_alpha\"},\"fill_color\":{\"field\":\"color\"},\"height\":{\"field\":\"height\",\"units\":\"data\"},\"line_color\":{\"field\":\"line_color\"},\"width\":{\"field\":\"width\",\"units\":\"data\"},\"x\":{\"field\":\"x\"},\"y\":{\"field\":\"y\"}},\"id\":\"96e049da-636b-4e80-baea-538735de98eb\",\"type\":\"Rect\"},{\"attributes\":{\"fill_alpha\":{\"field\":\"fill_alpha\"},\"fill_color\":{\"field\":\"color\"},\"height\":{\"field\":\"height\",\"units\":\"data\"},\"line_color\":{\"field\":\"line_color\"},\"width\":{\"field\":\"width\",\"units\":\"data\"},\"x\":{\"field\":\"x\"},\"y\":{\"field\":\"y\"}},\"id\":\"9cd63058-99a7-48b1-a5d9-237ebfecc689\",\"type\":\"Rect\"},{\"attributes\":{\"callback\":null,\"column_names\":[\"width\",\"line_color\",\"line_alpha\",\"label\",\"height\",\"color\",\"x\",\"y\",\"fill_alpha\"],\"data\":{\"chart_index\":[\"(20.0, 30.0]\"],\"color\":[\"#f22c40\"],\"fill_alpha\":[0.8],\"height\":[3.0],\"label\":[\"(20.0, 30.0]\"],\"line_alpha\":[1.0],\"line_color\":[\"black\"],\"width\":[10],\"x\":[\"25.0\"],\"y\":[1.5]}},\"id\":\"3e1ccbe2-ba12-4741-ad46-2049d5650891\",\"type\":\"ColumnDataSource\"},{\"attributes\":{},\"id\":\"f2cbdda5-42ea-4bb0-bbba-5efbc63daed0\",\"type\":\"BasicTicker\"},{\"attributes\":{\"callback\":null,\"column_names\":[\"width\",\"line_color\",\"line_alpha\",\"label\",\"height\",\"color\",\"x\",\"y\",\"fill_alpha\"],\"data\":{\"chart_index\":[\"(-40.0, -30.0]\"],\"color\":[\"#f22c40\"],\"fill_alpha\":[0.8],\"height\":[0.0],\"label\":[\"(-40.0, -30.0]\"],\"line_alpha\":[1.0],\"line_color\":[\"black\"],\"width\":[10],\"x\":[\"-35.0\"],\"y\":[0.0]}},\"id\":\"d28f9293-ed46-4ffb-abae-48c90e256f77\",\"type\":\"ColumnDataSource\"},{\"attributes\":{\"plot\":{\"id\":\"599850e3-2556-492f-9cae-a8211d6e630b\",\"subtype\":\"Chart\",\"type\":\"Plot\"}},\"id\":\"9e247e70-9864-4ae3-a5da-d52be68167dc\",\"type\":\"ResetTool\"},{\"attributes\":{\"fill_alpha\":{\"field\":\"fill_alpha\"},\"fill_color\":{\"field\":\"color\"},\"height\":{\"field\":\"height\",\"units\":\"data\"},\"line_color\":{\"field\":\"line_color\"},\"width\":{\"field\":\"width\",\"units\":\"data\"},\"x\":{\"field\":\"x\"},\"y\":{\"field\":\"y\"}},\"id\":\"6ef0eae0-bfd6-4f16-9a2e-d92a2b73125e\",\"type\":\"Rect\"},{\"attributes\":{\"fill_alpha\":{\"field\":\"fill_alpha\"},\"fill_color\":{\"field\":\"color\"},\"height\":{\"field\":\"height\",\"units\":\"data\"},\"line_color\":{\"field\":\"line_color\"},\"width\":{\"field\":\"width\",\"units\":\"data\"},\"x\":{\"field\":\"x\"},\"y\":{\"field\":\"y\"}},\"id\":\"e5c876bb-9b55-47c4-b38e-cb44ac0f4044\",\"type\":\"Rect\"},{\"attributes\":{\"data_source\":{\"id\":\"79bbe5a0-97e0-49a7-bb1e-01aea83e15c3\",\"type\":\"ColumnDataSource\"},\"glyph\":{\"id\":\"96e049da-636b-4e80-baea-538735de98eb\",\"type\":\"Rect\"},\"hover_glyph\":null,\"nonselection_glyph\":null,\"selection_glyph\":null},\"id\":\"77d7dca4-9f43-4143-8430-5bcf42e59c82\",\"type\":\"GlyphRenderer\"},{\"attributes\":{},\"id\":\"e7c22bfd-d0c6-46e9-ab03-32784b646b0f\",\"type\":\"ToolEvents\"},{\"attributes\":{\"data_source\":{\"id\":\"1dde92c3-386b-4508-92d5-dfff155d6483\",\"type\":\"ColumnDataSource\"},\"glyph\":{\"id\":\"0bf418f1-f95b-4376-b6ca-5bedd3ded34e\",\"type\":\"Rect\"},\"hover_glyph\":null,\"nonselection_glyph\":null,\"selection_glyph\":null},\"id\":\"13cd5e20-0a8f-486f-b8aa-7d589f5a4970\",\"type\":\"GlyphRenderer\"},{\"attributes\":{\"data_source\":{\"id\":\"393023bf-8425-4f06-9dbb-da020d524daf\",\"type\":\"ColumnDataSource\"},\"glyph\":{\"id\":\"4aa79e31-80c9-4ea4-8f4a-626f11e5c47e\",\"type\":\"Rect\"},\"hover_glyph\":null,\"nonselection_glyph\":null,\"selection_glyph\":null},\"id\":\"52935166-9274-45d5-9f99-a8f108a1a7a1\",\"type\":\"GlyphRenderer\"},{\"attributes\":{\"data_source\":{\"id\":\"d28f9293-ed46-4ffb-abae-48c90e256f77\",\"type\":\"ColumnDataSource\"},\"glyph\":{\"id\":\"4fe2f6c3-0aae-4d53-9357-2191e36db675\",\"type\":\"Rect\"},\"hover_glyph\":null,\"nonselection_glyph\":null,\"selection_glyph\":null},\"id\":\"eab15100-0c95-4417-96b2-2ef5b0ce6d84\",\"type\":\"GlyphRenderer\"},{\"attributes\":{\"data_source\":{\"id\":\"82f70dd4-cbbc-44a6-9871-1ee05d31b819\",\"type\":\"ColumnDataSource\"},\"glyph\":{\"id\":\"e5c876bb-9b55-47c4-b38e-cb44ac0f4044\",\"type\":\"Rect\"},\"hover_glyph\":null,\"nonselection_glyph\":null,\"selection_glyph\":null},\"id\":\"42a8256a-aef6-4553-a463-d034fec720b7\",\"type\":\"GlyphRenderer\"},{\"attributes\":{\"data_source\":{\"id\":\"c21362bc-7c67-4940-b9f8-ebd9ed167ad6\",\"type\":\"ColumnDataSource\"},\"glyph\":{\"id\":\"5e888b11-692f-407c-8fb4-45601d95c913\",\"type\":\"Rect\"},\"hover_glyph\":null,\"nonselection_glyph\":null,\"selection_glyph\":null},\"id\":\"45af7a62-462e-48c3-b9fd-751931b30af9\",\"type\":\"GlyphRenderer\"},{\"attributes\":{\"callback\":null,\"column_names\":[\"width\",\"line_color\",\"line_alpha\",\"label\",\"height\",\"color\",\"x\",\"y\",\"fill_alpha\"],\"data\":{\"chart_index\":[\"(10.0, 20.0]\"],\"color\":[\"#f22c40\"],\"fill_alpha\":[0.8],\"height\":[7.0],\"label\":[\"(10.0, 20.0]\"],\"line_alpha\":[1.0],\"line_color\":[\"black\"],\"width\":[10],\"x\":[\"15.0\"],\"y\":[3.5]}},\"id\":\"79bbe5a0-97e0-49a7-bb1e-01aea83e15c3\",\"type\":\"ColumnDataSource\"},{\"attributes\":{\"fill_alpha\":{\"field\":\"fill_alpha\"},\"fill_color\":{\"field\":\"color\"},\"height\":{\"field\":\"height\",\"units\":\"data\"},\"line_color\":{\"field\":\"line_color\"},\"width\":{\"field\":\"width\",\"units\":\"data\"},\"x\":{\"field\":\"x\"},\"y\":{\"field\":\"y\"}},\"id\":\"5e888b11-692f-407c-8fb4-45601d95c913\",\"type\":\"Rect\"},{\"attributes\":{\"callback\":null,\"end\":9.9},\"id\":\"9a447d8d-f6d9-4c87-9124-888042ba48d4\",\"type\":\"Range1d\"},{\"attributes\":{\"callback\":null,\"column_names\":[\"width\",\"line_color\",\"line_alpha\",\"label\",\"height\",\"color\",\"x\",\"y\",\"fill_alpha\"],\"data\":{\"chart_index\":[\"(-30.0, -20.0]\"],\"color\":[\"#f22c40\"],\"fill_alpha\":[0.8],\"height\":[1.0],\"label\":[\"(-30.0, -20.0]\"],\"line_alpha\":[1.0],\"line_color\":[\"black\"],\"width\":[10],\"x\":[\"-25.0\"],\"y\":[0.5]}},\"id\":\"0d51a4ce-5d66-4c5b-8727-1e6f9a382e10\",\"type\":\"ColumnDataSource\"},{\"attributes\":{\"data_source\":{\"id\":\"417f9c91-e462-4cab-aa85-25a9ba172571\",\"type\":\"ColumnDataSource\"},\"glyph\":{\"id\":\"6ef0eae0-bfd6-4f16-9a2e-d92a2b73125e\",\"type\":\"Rect\"},\"hover_glyph\":null,\"nonselection_glyph\":null,\"selection_glyph\":null},\"id\":\"a489d784-3ac5-4922-a43e-d6ee939f19c1\",\"type\":\"GlyphRenderer\"},{\"attributes\":{\"callback\":null,\"column_names\":[\"width\",\"line_color\",\"line_alpha\",\"label\",\"height\",\"color\",\"x\",\"y\",\"fill_alpha\"],\"data\":{\"chart_index\":[\"(-20.0, -10.0]\"],\"color\":[\"#f22c40\"],\"fill_alpha\":[0.8],\"height\":[0.0],\"label\":[\"(-20.0, -10.0]\"],\"line_alpha\":[1.0],\"line_color\":[\"black\"],\"width\":[10],\"x\":[\"-15.0\"],\"y\":[0.0]}},\"id\":\"417f9c91-e462-4cab-aa85-25a9ba172571\",\"type\":\"ColumnDataSource\"},{\"attributes\":{\"below\":[{\"id\":\"426cbbaa-8382-4ab1-9fd8-f029f4f83983\",\"type\":\"LinearAxis\"}],\"left\":[{\"id\":\"9fca5100-38b3-4cc3-b1b5-bd60968559d1\",\"type\":\"LinearAxis\"}],\"renderers\":[{\"id\":\"2a83b260-a4a6-477a-aa3c-139976c6bc80\",\"type\":\"BoxAnnotation\"},{\"id\":\"13cd5e20-0a8f-486f-b8aa-7d589f5a4970\",\"type\":\"GlyphRenderer\"},{\"id\":\"eab15100-0c95-4417-96b2-2ef5b0ce6d84\",\"type\":\"GlyphRenderer\"},{\"id\":\"b2a75ca8-fe01-49f1-998e-d007b8a42867\",\"type\":\"GlyphRenderer\"},{\"id\":\"a489d784-3ac5-4922-a43e-d6ee939f19c1\",\"type\":\"GlyphRenderer\"},{\"id\":\"45af7a62-462e-48c3-b9fd-751931b30af9\",\"type\":\"GlyphRenderer\"},{\"id\":\"42a8256a-aef6-4553-a463-d034fec720b7\",\"type\":\"GlyphRenderer\"},{\"id\":\"77d7dca4-9f43-4143-8430-5bcf42e59c82\",\"type\":\"GlyphRenderer\"},{\"id\":\"92c2cce1-a975-4564-95c1-4391f6f7fc94\",\"type\":\"GlyphRenderer\"},{\"id\":\"519fc037-163f-49a6-aa33-90b9e7edf967\",\"type\":\"GlyphRenderer\"},{\"id\":\"85d16605-1c34-4789-92b8-b8f9efa54108\",\"type\":\"GlyphRenderer\"},{\"id\":\"52935166-9274-45d5-9f99-a8f108a1a7a1\",\"type\":\"GlyphRenderer\"},{\"id\":\"90014407-2c20-403f-b610-c1538f7ca535\",\"type\":\"GlyphRenderer\"},{\"id\":\"300da7a7-0e27-4edf-8894-1d6f75df3928\",\"type\":\"Legend\"},{\"id\":\"426cbbaa-8382-4ab1-9fd8-f029f4f83983\",\"type\":\"LinearAxis\"},{\"id\":\"9fca5100-38b3-4cc3-b1b5-bd60968559d1\",\"type\":\"LinearAxis\"},{\"id\":\"9f6dc2c2-1007-4399-98e9-072c52640bf4\",\"type\":\"Grid\"}],\"title\":{\"id\":\"5d823a8a-874b-42a9-a8d3-834f5edea68d\",\"type\":\"Title\"},\"tool_events\":{\"id\":\"e7c22bfd-d0c6-46e9-ab03-32784b646b0f\",\"type\":\"ToolEvents\"},\"toolbar\":{\"id\":\"faeace5d-c08a-4d7c-bbdb-cf80f5f88637\",\"type\":\"Toolbar\"},\"x_mapper_type\":\"auto\",\"x_range\":{\"id\":\"766d4f22-29af-4715-9119-523ab32067ca\",\"type\":\"Range1d\"},\"y_mapper_type\":\"auto\",\"y_range\":{\"id\":\"9a447d8d-f6d9-4c87-9124-888042ba48d4\",\"type\":\"Range1d\"}},\"id\":\"599850e3-2556-492f-9cae-a8211d6e630b\",\"subtype\":\"Chart\",\"type\":\"Plot\"},{\"attributes\":{\"callback\":null,\"column_names\":[\"width\",\"line_color\",\"line_alpha\",\"label\",\"height\",\"color\",\"x\",\"y\",\"fill_alpha\"],\"data\":{\"chart_index\":[\"[-50.0, -40.0]\"],\"color\":[\"#f22c40\"],\"fill_alpha\":[0.8],\"height\":[1.0],\"label\":[\"[-50.0, -40.0]\"],\"line_alpha\":[1.0],\"line_color\":[\"black\"],\"width\":[10],\"x\":[\"-45.0\"],\"y\":[0.5]}},\"id\":\"1dde92c3-386b-4508-92d5-dfff155d6483\",\"type\":\"ColumnDataSource\"},{\"attributes\":{\"fill_alpha\":{\"field\":\"fill_alpha\"},\"fill_color\":{\"field\":\"color\"},\"height\":{\"field\":\"height\",\"units\":\"data\"},\"line_color\":{\"field\":\"line_color\"},\"width\":{\"field\":\"width\",\"units\":\"data\"},\"x\":{\"field\":\"x\"},\"y\":{\"field\":\"y\"}},\"id\":\"9070e83e-b5df-4a02-afee-5d8fba0645bd\",\"type\":\"Rect\"},{\"attributes\":{\"data_source\":{\"id\":\"558d04b5-11f1-4da7-9379-7f6f4fa58dac\",\"type\":\"ColumnDataSource\"},\"glyph\":{\"id\":\"2e0974e3-7d48-444b-a88f-9d03084e5767\",\"type\":\"Rect\"},\"hover_glyph\":null,\"nonselection_glyph\":null,\"selection_glyph\":null},\"id\":\"90014407-2c20-403f-b610-c1538f7ca535\",\"type\":\"GlyphRenderer\"},{\"attributes\":{},\"id\":\"7be276fd-523e-4a8a-a9c5-edd4014bff64\",\"type\":\"BasicTickFormatter\"},{\"attributes\":{\"axis_label\":\"Time in days\",\"formatter\":{\"id\":\"75fa5cd1-cb44-438a-acc4-78dd59158ddd\",\"type\":\"BasicTickFormatter\"},\"plot\":{\"id\":\"599850e3-2556-492f-9cae-a8211d6e630b\",\"subtype\":\"Chart\",\"type\":\"Plot\"},\"ticker\":{\"id\":\"f2cbdda5-42ea-4bb0-bbba-5efbc63daed0\",\"type\":\"BasicTicker\"}},\"id\":\"426cbbaa-8382-4ab1-9fd8-f029f4f83983\",\"type\":\"LinearAxis\"}],\"root_ids\":[\"599850e3-2556-492f-9cae-a8211d6e630b\"]},\"title\":\"Bokeh Application\",\"version\":\"0.12.0\"}};\n",
       "            var render_items = [{\"docid\":\"41a9140c-d5f3-4653-b2d0-e70867e55fda\",\"elementid\":\"3f7edd46-a097-48fb-85a9-bec8242c2c2b\",\"modelid\":\"599850e3-2556-492f-9cae-a8211d6e630b\",\"notebook_comms_target\":\"99a556b4-6620-448c-96d9-62ed17e6fe71\"}];\n",
       "            \n",
       "            Bokeh.embed.embed_items(docs_json, render_items);\n",
       "        });\n",
       "      },\n",
       "      function(Bokeh) {\n",
       "      }\n",
       "    ];\n",
       "  \n",
       "    function run_inline_js() {\n",
       "      for (var i = 0; i < inline_js.length; i++) {\n",
       "        inline_js[i](window.Bokeh);\n",
       "      }\n",
       "    }\n",
       "  \n",
       "    if (window._bokeh_is_loading === 0) {\n",
       "      console.log(\"Bokeh: BokehJS loaded, going straight to plotting\");\n",
       "      run_inline_js();\n",
       "    } else {\n",
       "      load_libs(js_urls, function() {\n",
       "        console.log(\"Bokeh: BokehJS plotting callback run at\", now());\n",
       "        run_inline_js();\n",
       "      });\n",
       "    }\n",
       "  }(this));\n",
       "</script>"
      ]
     },
     "metadata": {},
     "output_type": "display_data"
    },
    {
     "data": {
      "text/html": [
       "<p><code>&lt;Bokeh Notebook handle for <strong>In[5]</strong>&gt;</code></p>"
      ],
      "text/plain": [
       "<bokeh.io._CommsHandle at 0x114daeb70>"
      ]
     },
     "execution_count": 62,
     "metadata": {},
     "output_type": "execute_result"
    }
   ],
   "source": [
    "sql_exercise_2 = \"\"\"\n",
    "select \n",
    "t1.Patient_ID,\n",
    "DATEDIFF(min_date,diag_date) as diff\n",
    "from\n",
    "(select \n",
    "Patient_ID,\n",
    "min(Diagnosis_Date) as diag_date\n",
    "from\n",
    "flat_iron.patient_diagnosis\n",
    "group by 1 ) t1\n",
    "inner join\n",
    "\n",
    "(SELECT Patient_ID,\n",
    "min(Treatment_Date)  as min_date\n",
    "from\n",
    "flat_iron.patient_treatment\n",
    "group by 1) t2\n",
    "on t1.Patient_ID = t2.Patient_ID\n",
    "order by 1 \n",
    "\"\"\"\n",
    "df_exercise_2 = pd.read_sql(sql_exercise_2,conn)\n",
    "bins = np.arange(-50,80,10)\n",
    "hist = Histogram(df_exercise_2, values='diff',\n",
    "                 title=\"Time to Start Treatment\",bins = list(bins),xlabel= 'Time in days', ylabel = 'count')\n",
    "show(hist)\n",
    "\n"
   ]
  },
  {
   "cell_type": "code",
   "execution_count": 43,
   "metadata": {
    "collapsed": false
   },
   "outputs": [
    {
     "data": {
      "text/html": [
       "<div>\n",
       "<table border=\"1\" class=\"dataframe\">\n",
       "  <thead>\n",
       "    <tr style=\"text-align: right;\">\n",
       "      <th></th>\n",
       "      <th>Patient_ID</th>\n",
       "      <th>diff</th>\n",
       "    </tr>\n",
       "  </thead>\n",
       "  <tbody>\n",
       "    <tr>\n",
       "      <th>11</th>\n",
       "      <td>4374</td>\n",
       "      <td>-47</td>\n",
       "    </tr>\n",
       "    <tr>\n",
       "      <th>17</th>\n",
       "      <td>6877</td>\n",
       "      <td>-21</td>\n",
       "    </tr>\n",
       "  </tbody>\n",
       "</table>\n",
       "</div>"
      ],
      "text/plain": [
       "    Patient_ID  diff\n",
       "11        4374   -47\n",
       "17        6877   -21"
      ]
     },
     "execution_count": 43,
     "metadata": {},
     "output_type": "execute_result"
    }
   ],
   "source": [
    "df_exercise_2[df_exercise_2['diff'] < 0]"
   ]
  },
  {
   "cell_type": "code",
   "execution_count": 48,
   "metadata": {
    "collapsed": false
   },
   "outputs": [
    {
     "data": {
      "text/plain": [
       "count    25.000000\n",
       "mean     31.760000\n",
       "std      15.658544\n",
       "min       2.000000\n",
       "25%      17.000000\n",
       "50%      32.000000\n",
       "75%      43.000000\n",
       "max      70.000000\n",
       "Name: diff, dtype: float64"
      ]
     },
     "execution_count": 48,
     "metadata": {},
     "output_type": "execute_result"
    }
   ],
   "source": [
    "df_exercise_2[df_exercise_2['diff'] > 0].describe()['diff']"
   ]
  },
  {
   "cell_type": "code",
   "execution_count": 26,
   "metadata": {
    "collapsed": false
   },
   "outputs": [],
   "source": [
    "sql_exercise_3 = \"\"\"\n",
    "SELECT \n",
    "Patient_ID,\n",
    "Drug_Code,\n",
    "DATEDIFF(max(Treatment_Date), min(Treatment_Date)) as len_treatment\n",
    "from\n",
    "flat_iron.patient_treatment\n",
    "group by 1,2\n",
    "order by 2 desc\n",
    "\"\"\"\n",
    "df_exercise_3 = pd.read_sql(sql_exercise_3,conn)"
   ]
  },
  {
   "cell_type": "code",
   "execution_count": 63,
   "metadata": {
    "collapsed": false
   },
   "outputs": [
    {
     "data": {
      "text/html": [
       "\n",
       "\n",
       "    <div class=\"bk-root\">\n",
       "        <div class=\"plotdiv\" id=\"5db00b5d-9c02-445b-bf47-29899b706c91\"></div>\n",
       "    </div>\n",
       "<script type=\"text/javascript\">\n",
       "  \n",
       "  (function(global) {\n",
       "    function now() {\n",
       "      return new Date();\n",
       "    }\n",
       "  \n",
       "    if (typeof (window._bokeh_onload_callbacks) === \"undefined\") {\n",
       "      window._bokeh_onload_callbacks = [];\n",
       "    }\n",
       "  \n",
       "    function run_callbacks() {\n",
       "      window._bokeh_onload_callbacks.forEach(function(callback) { callback() });\n",
       "      delete window._bokeh_onload_callbacks\n",
       "      console.info(\"Bokeh: all callbacks have finished\");\n",
       "    }\n",
       "  \n",
       "    function load_libs(js_urls, callback) {\n",
       "      window._bokeh_onload_callbacks.push(callback);\n",
       "      if (window._bokeh_is_loading > 0) {\n",
       "        console.log(\"Bokeh: BokehJS is being loaded, scheduling callback at\", now());\n",
       "        return null;\n",
       "      }\n",
       "      if (js_urls == null || js_urls.length === 0) {\n",
       "        run_callbacks();\n",
       "        return null;\n",
       "      }\n",
       "      console.log(\"Bokeh: BokehJS not loaded, scheduling load and callback at\", now());\n",
       "      window._bokeh_is_loading = js_urls.length;\n",
       "      for (var i = 0; i < js_urls.length; i++) {\n",
       "        var url = js_urls[i];\n",
       "        var s = document.createElement('script');\n",
       "        s.src = url;\n",
       "        s.async = false;\n",
       "        s.onreadystatechange = s.onload = function() {\n",
       "          window._bokeh_is_loading--;\n",
       "          if (window._bokeh_is_loading === 0) {\n",
       "            console.log(\"Bokeh: all BokehJS libraries loaded\");\n",
       "            run_callbacks()\n",
       "          }\n",
       "        };\n",
       "        s.onerror = function() {\n",
       "          console.warn(\"failed to load library \" + url);\n",
       "        };\n",
       "        console.log(\"Bokeh: injecting script tag for BokehJS library: \", url);\n",
       "        document.getElementsByTagName(\"head\")[0].appendChild(s);\n",
       "      }\n",
       "    };var element = document.getElementById(\"5db00b5d-9c02-445b-bf47-29899b706c91\");\n",
       "    if (element == null) {\n",
       "      console.log(\"Bokeh: ERROR: autoload.js configured with elementid '5db00b5d-9c02-445b-bf47-29899b706c91' but no matching script tag was found. \")\n",
       "      return false;\n",
       "    }\n",
       "  \n",
       "    var js_urls = [];\n",
       "  \n",
       "    var inline_js = [\n",
       "      function(Bokeh) {\n",
       "        Bokeh.$(function() {\n",
       "            var docs_json = {\"fb977885-7199-45f0-a1f0-adedbba6a68c\":{\"roots\":{\"references\":[{\"attributes\":{\"data_source\":{\"id\":\"201f1819-524b-4592-8957-f2e7cc072e17\",\"type\":\"ColumnDataSource\"},\"glyph\":{\"id\":\"cb91c1d1-ef97-411e-bef2-6ce0345654fa\",\"type\":\"Rect\"},\"hover_glyph\":null,\"nonselection_glyph\":null,\"selection_glyph\":null},\"id\":\"67a09f05-2055-4e4b-b3c5-5c87eb618c71\",\"type\":\"GlyphRenderer\"},{\"attributes\":{\"plot\":{\"id\":\"2124039f-906c-4291-b7b3-93be82a4bf9f\",\"subtype\":\"Chart\",\"type\":\"Plot\"}},\"id\":\"055b80dd-f602-4c52-a88a-c20bfd428f94\",\"type\":\"HelpTool\"},{\"attributes\":{\"fill_alpha\":{\"field\":\"fill_alpha\"},\"fill_color\":{\"field\":\"color\"},\"height\":{\"field\":\"height\",\"units\":\"data\"},\"line_color\":{\"field\":\"line_color\"},\"width\":{\"field\":\"width\",\"units\":\"data\"},\"x\":{\"field\":\"x\"},\"y\":{\"field\":\"y\"}},\"id\":\"dd7a6709-4707-4c66-9ce0-554a1ff2bec0\",\"type\":\"Rect\"},{\"attributes\":{},\"id\":\"8002f8b4-ce30-4b15-bd98-b76dcd0de71a\",\"type\":\"BasicTicker\"},{\"attributes\":{\"fill_alpha\":{\"field\":\"fill_alpha\"},\"fill_color\":{\"field\":\"color\"},\"height\":{\"field\":\"height\",\"units\":\"data\"},\"line_color\":{\"field\":\"line_color\"},\"width\":{\"field\":\"width\",\"units\":\"data\"},\"x\":{\"field\":\"x\"},\"y\":{\"field\":\"y\"}},\"id\":\"6e8498da-06aa-455f-a488-60df9dfd5976\",\"type\":\"Rect\"},{\"attributes\":{\"legends\":[[\"202\",[{\"id\":\"11c99c67-c8c5-4e6a-9a28-cd53bd6af1d4\",\"type\":\"GlyphRenderer\"},{\"id\":\"17102984-4b5a-43f3-ab6b-0cee6d84b054\",\"type\":\"GlyphRenderer\"},{\"id\":\"9d8f8dcc-e15f-4c23-b488-08900fef026d\",\"type\":\"GlyphRenderer\"}]],[\"201\",[{\"id\":\"29a9b849-8f3c-4be9-a365-da936b6b733e\",\"type\":\"GlyphRenderer\"},{\"id\":\"67a09f05-2055-4e4b-b3c5-5c87eb618c71\",\"type\":\"GlyphRenderer\"},{\"id\":\"596edf3f-bb9c-444f-917d-e86925f079a6\",\"type\":\"GlyphRenderer\"}]]],\"location\":\"top_left\",\"plot\":{\"id\":\"2124039f-906c-4291-b7b3-93be82a4bf9f\",\"subtype\":\"Chart\",\"type\":\"Plot\"}},\"id\":\"1b40adf4-c595-49e7-be8a-5c88b76ee476\",\"type\":\"Legend\"},{\"attributes\":{\"data_source\":{\"id\":\"04793540-e8fe-4da6-9aeb-c09ce1a380a5\",\"type\":\"ColumnDataSource\"},\"glyph\":{\"id\":\"dd7a6709-4707-4c66-9ce0-554a1ff2bec0\",\"type\":\"Rect\"},\"hover_glyph\":null,\"nonselection_glyph\":null,\"selection_glyph\":null},\"id\":\"29a9b849-8f3c-4be9-a365-da936b6b733e\",\"type\":\"GlyphRenderer\"},{\"attributes\":{\"plot\":{\"id\":\"2124039f-906c-4291-b7b3-93be82a4bf9f\",\"subtype\":\"Chart\",\"type\":\"Plot\"}},\"id\":\"584bc739-ddf1-4ebf-be22-6f625ca48894\",\"type\":\"SaveTool\"},{\"attributes\":{\"callback\":null,\"column_names\":[\"width\",\"line_color\",\"line_alpha\",\"label\",\"height\",\"color\",\"x\",\"y\",\"fill_alpha\"],\"data\":{\"Drug_Code\":[201],\"chart_index\":[{\"Drug_Code\":201}],\"color\":[\"red\"],\"fill_alpha\":[0.8],\"height\":[35.0],\"label\":[{\"Drug_Code\":201}],\"line_alpha\":[1.0],\"line_color\":[\"black\"],\"width\":[0.8],\"x\":[\"201\"],\"y\":[84.0]}},\"id\":\"201f1819-524b-4592-8957-f2e7cc072e17\",\"type\":\"ColumnDataSource\"},{\"attributes\":{\"data_source\":{\"id\":\"9729e3c6-4853-4f10-a147-71bbc235f409\",\"type\":\"ColumnDataSource\"},\"glyph\":{\"id\":\"4401b3d4-762b-4a8d-b32b-253b5bccff53\",\"type\":\"Segment\"},\"hover_glyph\":null,\"nonselection_glyph\":null,\"selection_glyph\":null},\"id\":\"596edf3f-bb9c-444f-917d-e86925f079a6\",\"type\":\"GlyphRenderer\"},{\"attributes\":{\"data_source\":{\"id\":\"5beab9ee-d358-48bf-bed4-d054c2bbbf92\",\"type\":\"ColumnDataSource\"},\"glyph\":{\"id\":\"6e8498da-06aa-455f-a488-60df9dfd5976\",\"type\":\"Rect\"},\"hover_glyph\":null,\"nonselection_glyph\":null,\"selection_glyph\":null},\"id\":\"17102984-4b5a-43f3-ab6b-0cee6d84b054\",\"type\":\"GlyphRenderer\"},{\"attributes\":{\"plot\":{\"id\":\"2124039f-906c-4291-b7b3-93be82a4bf9f\",\"subtype\":\"Chart\",\"type\":\"Plot\"}},\"id\":\"ce1c76fb-d612-4a4c-a942-6e0453a5f946\",\"type\":\"PanTool\"},{\"attributes\":{\"active_drag\":\"auto\",\"active_scroll\":\"auto\",\"active_tap\":\"auto\",\"tools\":[{\"id\":\"ce1c76fb-d612-4a4c-a942-6e0453a5f946\",\"type\":\"PanTool\"},{\"id\":\"5a6a9edb-5097-4b81-927a-ecc68949ee8d\",\"type\":\"WheelZoomTool\"},{\"id\":\"aac9b511-1e99-4229-ac3c-ede12e139d35\",\"type\":\"BoxZoomTool\"},{\"id\":\"584bc739-ddf1-4ebf-be22-6f625ca48894\",\"type\":\"SaveTool\"},{\"id\":\"55a08034-bd94-469c-a106-612f8dbe564f\",\"type\":\"ResetTool\"},{\"id\":\"055b80dd-f602-4c52-a88a-c20bfd428f94\",\"type\":\"HelpTool\"}]},\"id\":\"2516747a-88ab-43ed-9cdd-ab395e8bd005\",\"type\":\"Toolbar\"},{\"attributes\":{},\"id\":\"87d70469-4828-4802-b2fb-d8fa062387d8\",\"type\":\"ToolEvents\"},{\"attributes\":{\"plot\":null,\"text\":\"Boxplot of length of treatment between Drug 201 and Drug 202\"},\"id\":\"a6a9ef23-ccca-457a-ad5c-42379e2bcff0\",\"type\":\"Title\"},{\"attributes\":{\"fill_alpha\":{\"field\":\"fill_alpha\"},\"fill_color\":{\"field\":\"color\"},\"height\":{\"field\":\"height\",\"units\":\"data\"},\"line_color\":{\"field\":\"line_color\"},\"width\":{\"field\":\"width\",\"units\":\"data\"},\"x\":{\"field\":\"x\"},\"y\":{\"field\":\"y\"}},\"id\":\"cb91c1d1-ef97-411e-bef2-6ce0345654fa\",\"type\":\"Rect\"},{\"attributes\":{\"callback\":null,\"column_names\":[\"width\",\"line_color\",\"line_alpha\",\"label\",\"height\",\"color\",\"x\",\"y\",\"fill_alpha\"],\"data\":{\"Drug_Code\":[202],\"chart_index\":[{\"Drug_Code\":202}],\"color\":[\"red\"],\"fill_alpha\":[0.8],\"height\":[14.0],\"label\":[{\"Drug_Code\":202}],\"line_alpha\":[1.0],\"line_color\":[\"black\"],\"width\":[0.8],\"x\":[\"202\"],\"y\":[14.0]}},\"id\":\"5beab9ee-d358-48bf-bed4-d054c2bbbf92\",\"type\":\"ColumnDataSource\"},{\"attributes\":{\"axis_label\":\"Drug_Code\",\"formatter\":{\"id\":\"97ca2b5b-3130-41f7-8596-73a19ebfb3ee\",\"type\":\"CategoricalTickFormatter\"},\"major_label_orientation\":0.7853981633974483,\"plot\":{\"id\":\"2124039f-906c-4291-b7b3-93be82a4bf9f\",\"subtype\":\"Chart\",\"type\":\"Plot\"},\"ticker\":{\"id\":\"461186ca-0aff-4015-bf3b-d82ae95e6311\",\"type\":\"CategoricalTicker\"}},\"id\":\"ac0b8923-cb17-4f96-9d24-34e9f67513f0\",\"type\":\"CategoricalAxis\"},{\"attributes\":{\"axis_label\":\"Len_Treatment\",\"formatter\":{\"id\":\"ae257a92-f119-483c-ab23-0c43c52121d1\",\"type\":\"BasicTickFormatter\"},\"plot\":{\"id\":\"2124039f-906c-4291-b7b3-93be82a4bf9f\",\"subtype\":\"Chart\",\"type\":\"Plot\"},\"ticker\":{\"id\":\"8002f8b4-ce30-4b15-bd98-b76dcd0de71a\",\"type\":\"BasicTicker\"}},\"id\":\"af3003bf-3d26-41b1-ab1a-36644acd3e2c\",\"type\":\"LinearAxis\"},{\"attributes\":{\"callback\":null,\"factors\":[\"201\",\"202\"]},\"id\":\"0d17a839-ed6c-4a1f-852c-1a20c6b105ea\",\"type\":\"FactorRange\"},{\"attributes\":{\"line_width\":{\"value\":2},\"x0\":{\"field\":\"x0s\"},\"x1\":{\"field\":\"x1s\"},\"y0\":{\"field\":\"y0s\"},\"y1\":{\"field\":\"y1s\"}},\"id\":\"4401b3d4-762b-4a8d-b32b-253b5bccff53\",\"type\":\"Segment\"},{\"attributes\":{\"dimension\":1,\"plot\":{\"id\":\"2124039f-906c-4291-b7b3-93be82a4bf9f\",\"subtype\":\"Chart\",\"type\":\"Plot\"},\"ticker\":{\"id\":\"8002f8b4-ce30-4b15-bd98-b76dcd0de71a\",\"type\":\"BasicTicker\"}},\"id\":\"019fc791-29af-489e-8d7f-7570b5ed79bf\",\"type\":\"Grid\"},{\"attributes\":{\"below\":[{\"id\":\"ac0b8923-cb17-4f96-9d24-34e9f67513f0\",\"type\":\"CategoricalAxis\"}],\"left\":[{\"id\":\"af3003bf-3d26-41b1-ab1a-36644acd3e2c\",\"type\":\"LinearAxis\"}],\"renderers\":[{\"id\":\"d07dc432-be67-4343-89d0-63bb7c4ee2b7\",\"type\":\"BoxAnnotation\"},{\"id\":\"11c99c67-c8c5-4e6a-9a28-cd53bd6af1d4\",\"type\":\"GlyphRenderer\"},{\"id\":\"17102984-4b5a-43f3-ab6b-0cee6d84b054\",\"type\":\"GlyphRenderer\"},{\"id\":\"9d8f8dcc-e15f-4c23-b488-08900fef026d\",\"type\":\"GlyphRenderer\"},{\"id\":\"29a9b849-8f3c-4be9-a365-da936b6b733e\",\"type\":\"GlyphRenderer\"},{\"id\":\"67a09f05-2055-4e4b-b3c5-5c87eb618c71\",\"type\":\"GlyphRenderer\"},{\"id\":\"596edf3f-bb9c-444f-917d-e86925f079a6\",\"type\":\"GlyphRenderer\"},{\"id\":\"1b40adf4-c595-49e7-be8a-5c88b76ee476\",\"type\":\"Legend\"},{\"id\":\"ac0b8923-cb17-4f96-9d24-34e9f67513f0\",\"type\":\"CategoricalAxis\"},{\"id\":\"af3003bf-3d26-41b1-ab1a-36644acd3e2c\",\"type\":\"LinearAxis\"},{\"id\":\"019fc791-29af-489e-8d7f-7570b5ed79bf\",\"type\":\"Grid\"}],\"title\":{\"id\":\"a6a9ef23-ccca-457a-ad5c-42379e2bcff0\",\"type\":\"Title\"},\"tool_events\":{\"id\":\"87d70469-4828-4802-b2fb-d8fa062387d8\",\"type\":\"ToolEvents\"},\"toolbar\":{\"id\":\"2516747a-88ab-43ed-9cdd-ab395e8bd005\",\"type\":\"Toolbar\"},\"x_mapper_type\":\"auto\",\"x_range\":{\"id\":\"0d17a839-ed6c-4a1f-852c-1a20c6b105ea\",\"type\":\"FactorRange\"},\"y_mapper_type\":\"auto\",\"y_range\":{\"id\":\"c21ba904-f3b8-40ba-83e9-447229eb01af\",\"type\":\"Range1d\"}},\"id\":\"2124039f-906c-4291-b7b3-93be82a4bf9f\",\"subtype\":\"Chart\",\"type\":\"Plot\"},{\"attributes\":{\"overlay\":{\"id\":\"d07dc432-be67-4343-89d0-63bb7c4ee2b7\",\"type\":\"BoxAnnotation\"},\"plot\":{\"id\":\"2124039f-906c-4291-b7b3-93be82a4bf9f\",\"subtype\":\"Chart\",\"type\":\"Plot\"}},\"id\":\"aac9b511-1e99-4229-ac3c-ede12e139d35\",\"type\":\"BoxZoomTool\"},{\"attributes\":{\"data_source\":{\"id\":\"f4fa9747-a75c-48e6-b2bf-4808f0f834f5\",\"type\":\"ColumnDataSource\"},\"glyph\":{\"id\":\"698b5b42-f884-4366-8aaf-4c50850a57f3\",\"type\":\"Segment\"},\"hover_glyph\":null,\"nonselection_glyph\":null,\"selection_glyph\":null},\"id\":\"9d8f8dcc-e15f-4c23-b488-08900fef026d\",\"type\":\"GlyphRenderer\"},{\"attributes\":{\"fill_alpha\":{\"field\":\"fill_alpha\"},\"fill_color\":{\"field\":\"color\"},\"height\":{\"field\":\"height\",\"units\":\"data\"},\"line_color\":{\"field\":\"line_color\"},\"width\":{\"field\":\"width\",\"units\":\"data\"},\"x\":{\"field\":\"x\"},\"y\":{\"field\":\"y\"}},\"id\":\"b89caa8d-a1ef-434a-a777-211cbffd0d7a\",\"type\":\"Rect\"},{\"attributes\":{\"line_width\":{\"value\":2},\"x0\":{\"field\":\"x0s\"},\"x1\":{\"field\":\"x1s\"},\"y0\":{\"field\":\"y0s\"},\"y1\":{\"field\":\"y1s\"}},\"id\":\"698b5b42-f884-4366-8aaf-4c50850a57f3\",\"type\":\"Segment\"},{\"attributes\":{\"callback\":null,\"column_names\":[\"x0s\",\"y1s\",\"y0s\",\"x1s\"],\"data\":{\"Drug_Code\":[202,202,202,202],\"chart_index\":[{\"Drug_Code\":202},{\"Drug_Code\":202},{\"Drug_Code\":202},{\"Drug_Code\":202}],\"x0s\":[\"202:0.5\",\"202:0.65\",\"202:0.5\",\"202:0.65\"],\"x1s\":[\"202:0.5\",\"202:0.35\",\"202:0.5\",\"202:0.35\"],\"y0s\":[0.0,0.0,21.0,21.0],\"y1s\":[7.0,0.0,21.0,21.0]}},\"id\":\"f4fa9747-a75c-48e6-b2bf-4808f0f834f5\",\"type\":\"ColumnDataSource\"},{\"attributes\":{},\"id\":\"97ca2b5b-3130-41f7-8596-73a19ebfb3ee\",\"type\":\"CategoricalTickFormatter\"},{\"attributes\":{\"plot\":{\"id\":\"2124039f-906c-4291-b7b3-93be82a4bf9f\",\"subtype\":\"Chart\",\"type\":\"Plot\"}},\"id\":\"5a6a9edb-5097-4b81-927a-ecc68949ee8d\",\"type\":\"WheelZoomTool\"},{\"attributes\":{\"callback\":null,\"end\":132.3},\"id\":\"c21ba904-f3b8-40ba-83e9-447229eb01af\",\"type\":\"Range1d\"},{\"attributes\":{\"callback\":null,\"column_names\":[\"width\",\"line_color\",\"line_alpha\",\"label\",\"height\",\"color\",\"x\",\"y\",\"fill_alpha\"],\"data\":{\"Drug_Code\":[201],\"chart_index\":[{\"Drug_Code\":201}],\"color\":[\"red\"],\"fill_alpha\":[0.8],\"height\":[22.75],\"label\":[{\"Drug_Code\":201}],\"line_alpha\":[1.0],\"line_color\":[\"black\"],\"width\":[0.8],\"x\":[\"201\"],\"y\":[55.125]}},\"id\":\"04793540-e8fe-4da6-9aeb-c09ce1a380a5\",\"type\":\"ColumnDataSource\"},{\"attributes\":{\"bottom_units\":\"screen\",\"fill_alpha\":{\"value\":0.5},\"fill_color\":{\"value\":\"lightgrey\"},\"left_units\":\"screen\",\"level\":\"overlay\",\"line_alpha\":{\"value\":1.0},\"line_color\":{\"value\":\"black\"},\"line_dash\":[4,4],\"line_width\":{\"value\":2},\"plot\":null,\"render_mode\":\"css\",\"right_units\":\"screen\",\"top_units\":\"screen\"},\"id\":\"d07dc432-be67-4343-89d0-63bb7c4ee2b7\",\"type\":\"BoxAnnotation\"},{\"attributes\":{\"plot\":{\"id\":\"2124039f-906c-4291-b7b3-93be82a4bf9f\",\"subtype\":\"Chart\",\"type\":\"Plot\"}},\"id\":\"55a08034-bd94-469c-a106-612f8dbe564f\",\"type\":\"ResetTool\"},{\"attributes\":{},\"id\":\"ae257a92-f119-483c-ab23-0c43c52121d1\",\"type\":\"BasicTickFormatter\"},{\"attributes\":{\"callback\":null,\"column_names\":[\"width\",\"line_color\",\"line_alpha\",\"label\",\"height\",\"color\",\"x\",\"y\",\"fill_alpha\"],\"data\":{\"Drug_Code\":[202],\"chart_index\":[{\"Drug_Code\":202}],\"color\":[\"red\"],\"fill_alpha\":[0.8],\"height\":[0.0],\"label\":[{\"Drug_Code\":202}],\"line_alpha\":[1.0],\"line_color\":[\"black\"],\"width\":[0.8],\"x\":[\"202\"],\"y\":[7.0]}},\"id\":\"d37ead64-712b-438f-86c3-a977c763be4c\",\"type\":\"ColumnDataSource\"},{\"attributes\":{},\"id\":\"461186ca-0aff-4015-bf3b-d82ae95e6311\",\"type\":\"CategoricalTicker\"},{\"attributes\":{\"data_source\":{\"id\":\"d37ead64-712b-438f-86c3-a977c763be4c\",\"type\":\"ColumnDataSource\"},\"glyph\":{\"id\":\"b89caa8d-a1ef-434a-a777-211cbffd0d7a\",\"type\":\"Rect\"},\"hover_glyph\":null,\"nonselection_glyph\":null,\"selection_glyph\":null},\"id\":\"11c99c67-c8c5-4e6a-9a28-cd53bd6af1d4\",\"type\":\"GlyphRenderer\"},{\"attributes\":{\"callback\":null,\"column_names\":[\"x0s\",\"y1s\",\"y0s\",\"x1s\"],\"data\":{\"Drug_Code\":[201,201,201,201],\"chart_index\":[{\"Drug_Code\":201},{\"Drug_Code\":201},{\"Drug_Code\":201},{\"Drug_Code\":201}],\"x0s\":[\"201:0.5\",\"201:0.65\",\"201:0.5\",\"201:0.65\"],\"x1s\":[\"201:0.5\",\"201:0.35\",\"201:0.5\",\"201:0.35\"],\"y0s\":[28.0,28.0,101.5,126.0],\"y1s\":[43.75,28.0,126.0,126.0]}},\"id\":\"9729e3c6-4853-4f10-a147-71bbc235f409\",\"type\":\"ColumnDataSource\"}],\"root_ids\":[\"2124039f-906c-4291-b7b3-93be82a4bf9f\"]},\"title\":\"Bokeh Application\",\"version\":\"0.12.0\"}};\n",
       "            var render_items = [{\"docid\":\"fb977885-7199-45f0-a1f0-adedbba6a68c\",\"elementid\":\"5db00b5d-9c02-445b-bf47-29899b706c91\",\"modelid\":\"2124039f-906c-4291-b7b3-93be82a4bf9f\",\"notebook_comms_target\":\"6c717558-f61f-4024-bd33-b335b14e9eb6\"}];\n",
       "            \n",
       "            Bokeh.embed.embed_items(docs_json, render_items);\n",
       "        });\n",
       "      },\n",
       "      function(Bokeh) {\n",
       "      }\n",
       "    ];\n",
       "  \n",
       "    function run_inline_js() {\n",
       "      for (var i = 0; i < inline_js.length; i++) {\n",
       "        inline_js[i](window.Bokeh);\n",
       "      }\n",
       "    }\n",
       "  \n",
       "    if (window._bokeh_is_loading === 0) {\n",
       "      console.log(\"Bokeh: BokehJS loaded, going straight to plotting\");\n",
       "      run_inline_js();\n",
       "    } else {\n",
       "      load_libs(js_urls, function() {\n",
       "        console.log(\"Bokeh: BokehJS plotting callback run at\", now());\n",
       "        run_inline_js();\n",
       "      });\n",
       "    }\n",
       "  }(this));\n",
       "</script>"
      ]
     },
     "metadata": {},
     "output_type": "display_data"
    },
    {
     "name": "stdout",
     "output_type": "stream",
     "text": [
      "Drug_Code\n",
      "201    72.000000\n",
      "202    10.769231\n",
      "Name: len_treatment, dtype: float64\n",
      "p value is : \n",
      "0.0001\n"
     ]
    }
   ],
   "source": [
    "### Box plot \n",
    "p = BoxPlot(df_exercise_3, values='len_treatment', label='Drug_Code',\n",
    "            title=\"Boxplot of length of treatment between Drug 201 and Drug 202\",color='red')\n",
    "show(p)\n",
    "\n",
    "## Print mean of each drug group\n",
    "print(df_exercise_3.pivot_table( columns= 'Drug_Code' , values= 'len_treatment', aggfunc= np.mean))\n",
    "\n",
    "\n",
    "### do a Null hypothesis test using permutation test\n",
    "\n",
    "observed1 = df_exercise_3.pivot_table( columns= 'Drug_Code' , values= 'len_treatment', aggfunc= np.median)[201] \n",
    "observed2 = df_exercise_3.pivot_table( columns= 'Drug_Code' , values= 'len_treatment', aggfunc= np.median)[202] \n",
    "observed = observed1 - observed2\n",
    "\n",
    "result = pd.Series(np.zeros(10**4 -1))\n",
    "def permute_test(d  = 0):\n",
    "    n = len(df_exercise_3)\n",
    "    c = len(df_exercise_3[df_exercise_3['Drug_Code']==201])             \n",
    "    index=np.random.choice(np.arange(0,n,1), size = c, replace = False)\n",
    "    not_index = np.setdiff1d(np.arange(0,n,1),index , assume_unique = True)\n",
    "    return df_exercise_3['len_treatment'].iloc[index].median() - df_exercise_3['len_treatment'].iloc[not_index].median()\n",
    "result=result.apply(permute_test)\n",
    "# calculating P value\n",
    "# calculating P value\n",
    "p_value = ((result >= observed).sum() +1)/(10**4)\n",
    "#### Print p value\n",
    "print('p value is : ')\n",
    "print(p_value)"
   ]
  },
  {
   "cell_type": "code",
   "execution_count": 56,
   "metadata": {
    "collapsed": false
   },
   "outputs": [
    {
     "data": {
      "text/plain": [
       "array([-50, -48, -46, -44, -42, -40, -38, -36, -34, -32, -30, -28, -26,\n",
       "       -24, -22, -20, -18, -16, -14, -12, -10,  -8,  -6,  -4,  -2,   0,\n",
       "         2,   4,   6,   8,  10,  12,  14,  16,  18,  20,  22,  24,  26,\n",
       "        28,  30,  32,  34,  36,  38,  40,  42,  44,  46,  48,  50,  52,\n",
       "        54,  56,  58,  60,  62,  64,  66,  68,  70,  72,  74,  76,  78])"
      ]
     },
     "execution_count": 56,
     "metadata": {},
     "output_type": "execute_result"
    }
   ],
   "source": [
    "conn.close()\n"
   ]
  }
 ],
 "metadata": {
  "kernelspec": {
   "display_name": "Python 3",
   "language": "python",
   "name": "python3"
  },
  "language_info": {
   "codemirror_mode": {
    "name": "ipython",
    "version": 3
   },
   "file_extension": ".py",
   "mimetype": "text/x-python",
   "name": "python",
   "nbconvert_exporter": "python",
   "pygments_lexer": "ipython3",
   "version": "3.5.1"
  }
 },
 "nbformat": 4,
 "nbformat_minor": 0
}
