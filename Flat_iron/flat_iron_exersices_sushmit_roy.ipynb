{
 "cells": [
  {
   "cell_type": "code",
   "execution_count": 34,
   "metadata": {
    "collapsed": false
   },
   "outputs": [
    {
     "data": {
      "text/html": [
       "\n",
       "    <div class=\"bk-root\">\n",
       "        <a href=\"http://bokeh.pydata.org\" target=\"_blank\" class=\"bk-logo bk-logo-small bk-logo-notebook\"></a>\n",
       "        <span id=\"b701df78-0f7e-4573-90b2-3857db2b6510\">Loading BokehJS ...</span>\n",
       "    </div>"
      ]
     },
     "metadata": {},
     "output_type": "display_data"
    },
    {
     "data": {
      "application/javascript": [
       "\n",
       "(function(global) {\n",
       "  function now() {\n",
       "    return new Date();\n",
       "  }\n",
       "\n",
       "  if (typeof (window._bokeh_onload_callbacks) === \"undefined\") {\n",
       "    window._bokeh_onload_callbacks = [];\n",
       "  }\n",
       "\n",
       "  function run_callbacks() {\n",
       "    window._bokeh_onload_callbacks.forEach(function(callback) { callback() });\n",
       "    delete window._bokeh_onload_callbacks\n",
       "    console.info(\"Bokeh: all callbacks have finished\");\n",
       "  }\n",
       "\n",
       "  function load_libs(js_urls, callback) {\n",
       "    window._bokeh_onload_callbacks.push(callback);\n",
       "    if (window._bokeh_is_loading > 0) {\n",
       "      console.log(\"Bokeh: BokehJS is being loaded, scheduling callback at\", now());\n",
       "      return null;\n",
       "    }\n",
       "    if (js_urls == null || js_urls.length === 0) {\n",
       "      run_callbacks();\n",
       "      return null;\n",
       "    }\n",
       "    console.log(\"Bokeh: BokehJS not loaded, scheduling load and callback at\", now());\n",
       "    window._bokeh_is_loading = js_urls.length;\n",
       "    for (var i = 0; i < js_urls.length; i++) {\n",
       "      var url = js_urls[i];\n",
       "      var s = document.createElement('script');\n",
       "      s.src = url;\n",
       "      s.async = false;\n",
       "      s.onreadystatechange = s.onload = function() {\n",
       "        window._bokeh_is_loading--;\n",
       "        if (window._bokeh_is_loading === 0) {\n",
       "          console.log(\"Bokeh: all BokehJS libraries loaded\");\n",
       "          run_callbacks()\n",
       "        }\n",
       "      };\n",
       "      s.onerror = function() {\n",
       "        console.warn(\"failed to load library \" + url);\n",
       "      };\n",
       "      console.log(\"Bokeh: injecting script tag for BokehJS library: \", url);\n",
       "      document.getElementsByTagName(\"head\")[0].appendChild(s);\n",
       "    }\n",
       "  };\n",
       "\n",
       "  var js_urls = ['https://cdn.pydata.org/bokeh/release/bokeh-0.12.0.min.js', 'https://cdn.pydata.org/bokeh/release/bokeh-widgets-0.12.0.min.js', 'https://cdn.pydata.org/bokeh/release/bokeh-compiler-0.12.0.min.js'];\n",
       "\n",
       "  var inline_js = [\n",
       "    function(Bokeh) {\n",
       "      Bokeh.set_log_level(\"info\");\n",
       "    },\n",
       "    \n",
       "    function(Bokeh) {\n",
       "      Bokeh.$(\"#b701df78-0f7e-4573-90b2-3857db2b6510\").text(\"BokehJS successfully loaded\");\n",
       "    },\n",
       "    function(Bokeh) {\n",
       "      console.log(\"Bokeh: injecting CSS: https://cdn.pydata.org/bokeh/release/bokeh-0.12.0.min.css\");\n",
       "      Bokeh.embed.inject_css(\"https://cdn.pydata.org/bokeh/release/bokeh-0.12.0.min.css\");\n",
       "      console.log(\"Bokeh: injecting CSS: https://cdn.pydata.org/bokeh/release/bokeh-widgets-0.12.0.min.css\");\n",
       "      Bokeh.embed.inject_css(\"https://cdn.pydata.org/bokeh/release/bokeh-widgets-0.12.0.min.css\");\n",
       "    }\n",
       "  ];\n",
       "\n",
       "  function run_inline_js() {\n",
       "    for (var i = 0; i < inline_js.length; i++) {\n",
       "      inline_js[i](window.Bokeh);\n",
       "    }\n",
       "  }\n",
       "\n",
       "  if (window._bokeh_is_loading === 0) {\n",
       "    console.log(\"Bokeh: BokehJS loaded, going straight to plotting\");\n",
       "    run_inline_js();\n",
       "  } else {\n",
       "    load_libs(js_urls, function() {\n",
       "      console.log(\"Bokeh: BokehJS plotting callback run at\", now());\n",
       "      run_inline_js();\n",
       "    });\n",
       "  }\n",
       "}(this));"
      ]
     },
     "metadata": {},
     "output_type": "display_data"
    }
   ],
   "source": [
    "# Python libarary\n",
    "import pymysql\n",
    "import pandas as pd\n",
    "from bokeh.layouts import gridplot\n",
    "#from bokeh.plotting import figure, output_notebook, show,Histogram\n",
    "from bokeh.charts import Histogram,BoxPlot, output_notebook, show\n",
    "import numpy as np\n",
    "output_notebook()"
   ]
  },
  {
   "cell_type": "markdown",
   "metadata": {},
   "source": [
    "# Loading Data to My-sql local instance"
   ]
  },
  {
   "cell_type": "markdown",
   "metadata": {},
   "source": [
    "Creating a new schema flat_iron in a <b mysql(5.7.13) b> local database and uploading the Patient_Diagnosis.csv &\n",
    "Patient_Treatment.csv "
   ]
  },
  {
   "cell_type": "code",
   "execution_count": 59,
   "metadata": {
    "collapsed": false
   },
   "outputs": [],
   "source": [
    "# Creating a connection \n",
    "# note the flat_iron schema was manually created \n",
    "conn = pymysql.connect(host='localhost', port=3306, user='root', passwd='', db='flat_iron')\n",
    "c = conn.cursor()"
   ]
  },
  {
   "cell_type": "code",
   "execution_count": 36,
   "metadata": {
    "collapsed": false
   },
   "outputs": [],
   "source": [
    "# creating patient_diagnosis table\n",
    "create_patient_diagnosis = \"\"\"\n",
    "CREATE TABLE if not exists flat_iron.patient_diagnosis (\n",
    "   Patient_ID INT NOT NULL,\n",
    "   Diagnosis_Date DATE NOT NULL,\n",
    "   Diagnosis_Code DECIMAL(7,2) NOT NULL,\n",
    "   Diagnosis VARCHAR(45) NULL\n",
    ")\n",
    "\"\"\"\n",
    "c.execute(create_patient_diagnosis)\n",
    "\n",
    "# loading the data from Patient_Diagnosis.csv\n",
    "loading_patient_diagnosis = r\"\"\"\n",
    "LOAD DATA \n",
    "INFILE \n",
    "'/Users/sroy/Personal/Data_science_experiments/Flat_iron/Patient_Diagnosis.csv'\n",
    "INTO TABLE  flat_iron.patient_diagnosis\n",
    "FIELDS TERMINATED BY ',' \n",
    "LINES TERMINATED BY '\\r\\n'\n",
    "IGNORE 1 ROWS\n",
    "\"\"\"\n",
    "c.execute(loading_patient_diagnosis)\n",
    "# commiting\n",
    "conn.commit()"
   ]
  },
  {
   "cell_type": "code",
   "execution_count": 37,
   "metadata": {
    "collapsed": false
   },
   "outputs": [],
   "source": [
    "# creating patient_treatment.csv\n",
    "create_patient_diagnosis = \"\"\"\n",
    "CREATE TABLE if not exists flat_iron.patient_treatment (\n",
    "   Patient_ID INT NOT NULL,\n",
    "   Treatment_Date DATE NOT NULL,\n",
    "   Drug_Code INT NOT NULL\n",
    ")\n",
    "\"\"\"\n",
    "c.execute(create_patient_diagnosis)\n",
    "\n",
    "# loading the data from Patient_Treatment.csv\n",
    "loading_patient_diagnosis = r\"\"\"\n",
    "LOAD DATA \n",
    "INFILE \n",
    "'/Users/sroy/Personal/Data_science_experiments/Flat_iron/Patient_Treatment.csv'\n",
    "INTO TABLE  flat_iron.patient_treatment\n",
    "FIELDS TERMINATED BY ',' \n",
    "LINES TERMINATED BY '\\r\\n'\n",
    "IGNORE 1 ROWS\n",
    "\"\"\"\n",
    "c.execute(loading_patient_diagnosis)\n",
    "# commiting\n",
    "conn.commit()"
   ]
  },
  {
   "cell_type": "markdown",
   "metadata": {},
   "source": [
    "Exercise\n",
    "1.  How many patients does the clinic have for each cancer diagnosis?"
   ]
  },
  {
   "cell_type": "code",
   "execution_count": 38,
   "metadata": {
    "collapsed": false
   },
   "outputs": [
    {
     "data": {
      "text/html": [
       "<div>\n",
       "<table border=\"1\" class=\"dataframe\">\n",
       "  <thead>\n",
       "    <tr style=\"text-align: right;\">\n",
       "      <th></th>\n",
       "      <th>Diagnosis</th>\n",
       "      <th>count</th>\n",
       "    </tr>\n",
       "  </thead>\n",
       "  <tbody>\n",
       "    <tr>\n",
       "      <th>0</th>\n",
       "      <td>Breast Cancer</td>\n",
       "      <td>26</td>\n",
       "    </tr>\n",
       "    <tr>\n",
       "      <th>1</th>\n",
       "      <td>Colon Cancer</td>\n",
       "      <td>12</td>\n",
       "    </tr>\n",
       "  </tbody>\n",
       "</table>\n",
       "</div>"
      ],
      "text/plain": [
       "       Diagnosis  count\n",
       "0  Breast Cancer     26\n",
       "1   Colon Cancer     12"
      ]
     },
     "execution_count": 38,
     "metadata": {},
     "output_type": "execute_result"
    }
   ],
   "source": [
    "sql_exercise_1 = \"\"\"\n",
    "select \n",
    "Diagnosis,\n",
    "count(distinct Patient_ID) as count\n",
    "from flat_iron.patient_diagnosis\n",
    "group by 1\n",
    "order by 2 desc\n",
    "\"\"\"\n",
    "df_exercise_1 = pd.read_sql(sql_exercise_1,conn)\n",
    "df_exercise_1"
   ]
  },
  {
   "cell_type": "code",
   "execution_count": 60,
   "metadata": {
    "collapsed": false
   },
   "outputs": [
    {
     "data": {
      "text/html": [
       "\n",
       "\n",
       "    <div class=\"bk-root\">\n",
       "        <div class=\"plotdiv\" id=\"1904383f-4b1d-440d-ad01-0ba96b847ba1\"></div>\n",
       "    </div>\n",
       "<script type=\"text/javascript\">\n",
       "  \n",
       "  (function(global) {\n",
       "    function now() {\n",
       "      return new Date();\n",
       "    }\n",
       "  \n",
       "    if (typeof (window._bokeh_onload_callbacks) === \"undefined\") {\n",
       "      window._bokeh_onload_callbacks = [];\n",
       "    }\n",
       "  \n",
       "    function run_callbacks() {\n",
       "      window._bokeh_onload_callbacks.forEach(function(callback) { callback() });\n",
       "      delete window._bokeh_onload_callbacks\n",
       "      console.info(\"Bokeh: all callbacks have finished\");\n",
       "    }\n",
       "  \n",
       "    function load_libs(js_urls, callback) {\n",
       "      window._bokeh_onload_callbacks.push(callback);\n",
       "      if (window._bokeh_is_loading > 0) {\n",
       "        console.log(\"Bokeh: BokehJS is being loaded, scheduling callback at\", now());\n",
       "        return null;\n",
       "      }\n",
       "      if (js_urls == null || js_urls.length === 0) {\n",
       "        run_callbacks();\n",
       "        return null;\n",
       "      }\n",
       "      console.log(\"Bokeh: BokehJS not loaded, scheduling load and callback at\", now());\n",
       "      window._bokeh_is_loading = js_urls.length;\n",
       "      for (var i = 0; i < js_urls.length; i++) {\n",
       "        var url = js_urls[i];\n",
       "        var s = document.createElement('script');\n",
       "        s.src = url;\n",
       "        s.async = false;\n",
       "        s.onreadystatechange = s.onload = function() {\n",
       "          window._bokeh_is_loading--;\n",
       "          if (window._bokeh_is_loading === 0) {\n",
       "            console.log(\"Bokeh: all BokehJS libraries loaded\");\n",
       "            run_callbacks()\n",
       "          }\n",
       "        };\n",
       "        s.onerror = function() {\n",
       "          console.warn(\"failed to load library \" + url);\n",
       "        };\n",
       "        console.log(\"Bokeh: injecting script tag for BokehJS library: \", url);\n",
       "        document.getElementsByTagName(\"head\")[0].appendChild(s);\n",
       "      }\n",
       "    };var element = document.getElementById(\"1904383f-4b1d-440d-ad01-0ba96b847ba1\");\n",
       "    if (element == null) {\n",
       "      console.log(\"Bokeh: ERROR: autoload.js configured with elementid '1904383f-4b1d-440d-ad01-0ba96b847ba1' but no matching script tag was found. \")\n",
       "      return false;\n",
       "    }\n",
       "  \n",
       "    var js_urls = [];\n",
       "  \n",
       "    var inline_js = [\n",
       "      function(Bokeh) {\n",
       "        Bokeh.$(function() {\n",
       "            var docs_json = {\"5103c651-c601-4567-809f-2d9dde59e3de\":{\"roots\":{\"references\":[{\"attributes\":{\"data_source\":{\"id\":\"bdb617ab-b4da-4fdb-9367-d5b7b6e82146\",\"type\":\"ColumnDataSource\"},\"glyph\":{\"id\":\"247eef0f-a472-4971-b5c9-aef10ac79edc\",\"type\":\"Rect\"},\"hover_glyph\":null,\"nonselection_glyph\":null,\"selection_glyph\":null},\"id\":\"f2c13451-159c-435e-8cc7-b9580c9e33d0\",\"type\":\"GlyphRenderer\"},{\"attributes\":{\"callback\":null,\"column_names\":[\"width\",\"line_color\",\"line_alpha\",\"label\",\"height\",\"color\",\"x\",\"y\",\"fill_alpha\"],\"data\":{\"chart_index\":[\"(-30.0, -20.0]\"],\"color\":[\"#f22c40\"],\"fill_alpha\":[0.8],\"height\":[1.0],\"label\":[\"(-30.0, -20.0]\"],\"line_alpha\":[1.0],\"line_color\":[\"black\"],\"width\":[10],\"x\":[\"-25.0\"],\"y\":[0.5]}},\"id\":\"bdb617ab-b4da-4fdb-9367-d5b7b6e82146\",\"type\":\"ColumnDataSource\"},{\"attributes\":{\"callback\":null,\"column_names\":[\"width\",\"line_color\",\"line_alpha\",\"label\",\"height\",\"color\",\"x\",\"y\",\"fill_alpha\"],\"data\":{\"chart_index\":[\"(-10.0, 0.0]\"],\"color\":[\"#f22c40\"],\"fill_alpha\":[0.8],\"height\":[0.0],\"label\":[\"(-10.0, 0.0]\"],\"line_alpha\":[1.0],\"line_color\":[\"black\"],\"width\":[10],\"x\":[\"-5.0\"],\"y\":[0.0]}},\"id\":\"e9ee360b-46d8-4c29-9b10-1c2922388742\",\"type\":\"ColumnDataSource\"},{\"attributes\":{},\"id\":\"655de4c5-84ad-4aa1-95ce-d6fe5c6ebfc6\",\"type\":\"BasicTicker\"},{\"attributes\":{\"callback\":null,\"column_names\":[\"width\",\"line_color\",\"line_alpha\",\"label\",\"height\",\"color\",\"x\",\"y\",\"fill_alpha\"],\"data\":{\"chart_index\":[\"(30.0, 40.0]\"],\"color\":[\"#f22c40\"],\"fill_alpha\":[0.8],\"height\":[3.0],\"label\":[\"(30.0, 40.0]\"],\"line_alpha\":[1.0],\"line_color\":[\"black\"],\"width\":[10],\"x\":[\"35.0\"],\"y\":[1.5]}},\"id\":\"1507f165-8d4d-4bae-acd7-eeec2b72a155\",\"type\":\"ColumnDataSource\"},{\"attributes\":{\"data_source\":{\"id\":\"6653a0bd-a4b7-40cb-9165-4b1540573546\",\"type\":\"ColumnDataSource\"},\"glyph\":{\"id\":\"6318c6aa-34af-4e32-a9b7-3a19aa3e67bf\",\"type\":\"Rect\"},\"hover_glyph\":null,\"nonselection_glyph\":null,\"selection_glyph\":null},\"id\":\"0739c5d6-c70a-4f11-953d-5cc9070c2db4\",\"type\":\"GlyphRenderer\"},{\"attributes\":{\"plot\":null,\"text\":\"HP Distribution by Cylinder Count\"},\"id\":\"79380619-ceee-4f75-8696-49afc822dd50\",\"type\":\"Title\"},{\"attributes\":{\"plot\":{\"id\":\"65444fd7-7133-4d61-82c0-e224c0049e39\",\"subtype\":\"Chart\",\"type\":\"Plot\"}},\"id\":\"909571da-4197-4941-87d8-b4c8cc29c5ac\",\"type\":\"WheelZoomTool\"},{\"attributes\":{\"data_source\":{\"id\":\"29f7965a-6835-4c40-ba86-5eb29d40ab14\",\"type\":\"ColumnDataSource\"},\"glyph\":{\"id\":\"385df865-ad17-4bf2-877a-239503fcc945\",\"type\":\"Rect\"},\"hover_glyph\":null,\"nonselection_glyph\":null,\"selection_glyph\":null},\"id\":\"b1f739c9-788e-4f38-b9bf-8e33d2de37b3\",\"type\":\"GlyphRenderer\"},{\"attributes\":{},\"id\":\"3c97bae5-670b-447e-972a-6bc00ea2700c\",\"type\":\"ToolEvents\"},{\"attributes\":{\"callback\":null,\"column_names\":[\"width\",\"line_color\",\"line_alpha\",\"label\",\"height\",\"color\",\"x\",\"y\",\"fill_alpha\"],\"data\":{\"chart_index\":[\"(10.0, 20.0]\"],\"color\":[\"#f22c40\"],\"fill_alpha\":[0.8],\"height\":[7.0],\"label\":[\"(10.0, 20.0]\"],\"line_alpha\":[1.0],\"line_color\":[\"black\"],\"width\":[10],\"x\":[\"15.0\"],\"y\":[3.5]}},\"id\":\"da7ed26f-3510-4e31-89e2-3ad5ef602566\",\"type\":\"ColumnDataSource\"},{\"attributes\":{\"data_source\":{\"id\":\"dc0c8f8d-8d12-4d0e-902f-f610424d0a0e\",\"type\":\"ColumnDataSource\"},\"glyph\":{\"id\":\"6a9a9986-0fd5-42a1-9e6a-5e950a0bf3d5\",\"type\":\"Rect\"},\"hover_glyph\":null,\"nonselection_glyph\":null,\"selection_glyph\":null},\"id\":\"71ebed1e-ebc3-477c-8949-02874d93cf4b\",\"type\":\"GlyphRenderer\"},{\"attributes\":{\"fill_alpha\":{\"field\":\"fill_alpha\"},\"fill_color\":{\"field\":\"color\"},\"height\":{\"field\":\"height\",\"units\":\"data\"},\"line_color\":{\"field\":\"line_color\"},\"width\":{\"field\":\"width\",\"units\":\"data\"},\"x\":{\"field\":\"x\"},\"y\":{\"field\":\"y\"}},\"id\":\"a9dd0cb2-f0db-4206-8a15-667d90527dfd\",\"type\":\"Rect\"},{\"attributes\":{\"dimension\":1,\"plot\":{\"id\":\"65444fd7-7133-4d61-82c0-e224c0049e39\",\"subtype\":\"Chart\",\"type\":\"Plot\"},\"ticker\":{\"id\":\"f982c60a-754f-4081-b3c4-5903704a005f\",\"type\":\"BasicTicker\"}},\"id\":\"c2862450-0470-4a2e-b641-7fa7dee12211\",\"type\":\"Grid\"},{\"attributes\":{\"callback\":null,\"column_names\":[\"width\",\"line_color\",\"line_alpha\",\"label\",\"height\",\"color\",\"x\",\"y\",\"fill_alpha\"],\"data\":{\"chart_index\":[\"(-40.0, -30.0]\"],\"color\":[\"#f22c40\"],\"fill_alpha\":[0.8],\"height\":[0.0],\"label\":[\"(-40.0, -30.0]\"],\"line_alpha\":[1.0],\"line_color\":[\"black\"],\"width\":[10],\"x\":[\"-35.0\"],\"y\":[0.0]}},\"id\":\"29f7965a-6835-4c40-ba86-5eb29d40ab14\",\"type\":\"ColumnDataSource\"},{\"attributes\":{\"fill_alpha\":{\"field\":\"fill_alpha\"},\"fill_color\":{\"field\":\"color\"},\"height\":{\"field\":\"height\",\"units\":\"data\"},\"line_color\":{\"field\":\"line_color\"},\"width\":{\"field\":\"width\",\"units\":\"data\"},\"x\":{\"field\":\"x\"},\"y\":{\"field\":\"y\"}},\"id\":\"26815e61-b068-4ee3-8887-4194b292c316\",\"type\":\"Rect\"},{\"attributes\":{\"data_source\":{\"id\":\"e9ee360b-46d8-4c29-9b10-1c2922388742\",\"type\":\"ColumnDataSource\"},\"glyph\":{\"id\":\"fc287475-43bd-4f2c-87ca-460942ef0f3b\",\"type\":\"Rect\"},\"hover_glyph\":null,\"nonselection_glyph\":null,\"selection_glyph\":null},\"id\":\"aa0301f0-8604-4b4a-b893-893e4c9e0443\",\"type\":\"GlyphRenderer\"},{\"attributes\":{\"axis_label\":\"diff\",\"formatter\":{\"id\":\"3e14ce54-6bb8-4921-90de-48c20d5de235\",\"type\":\"BasicTickFormatter\"},\"plot\":{\"id\":\"65444fd7-7133-4d61-82c0-e224c0049e39\",\"subtype\":\"Chart\",\"type\":\"Plot\"},\"ticker\":{\"id\":\"655de4c5-84ad-4aa1-95ce-d6fe5c6ebfc6\",\"type\":\"BasicTicker\"}},\"id\":\"3c5324e6-db0c-490e-9848-a59892fe43bf\",\"type\":\"LinearAxis\"},{\"attributes\":{\"fill_alpha\":{\"field\":\"fill_alpha\"},\"fill_color\":{\"field\":\"color\"},\"height\":{\"field\":\"height\",\"units\":\"data\"},\"line_color\":{\"field\":\"line_color\"},\"width\":{\"field\":\"width\",\"units\":\"data\"},\"x\":{\"field\":\"x\"},\"y\":{\"field\":\"y\"}},\"id\":\"24802510-c684-453c-a2ad-c86cd9eeea21\",\"type\":\"Rect\"},{\"attributes\":{\"data_source\":{\"id\":\"2aef5267-c8b5-402a-8734-227f4ae68347\",\"type\":\"ColumnDataSource\"},\"glyph\":{\"id\":\"b36b0df2-5df5-408b-bbe9-210612709849\",\"type\":\"Rect\"},\"hover_glyph\":null,\"nonselection_glyph\":null,\"selection_glyph\":null},\"id\":\"330ead5f-8d77-455f-9f13-fcd1b31303f3\",\"type\":\"GlyphRenderer\"},{\"attributes\":{\"callback\":null,\"column_names\":[\"width\",\"line_color\",\"line_alpha\",\"label\",\"height\",\"color\",\"x\",\"y\",\"fill_alpha\"],\"data\":{\"chart_index\":[\"(40.0, 50.0]\"],\"color\":[\"#f22c40\"],\"fill_alpha\":[0.8],\"height\":[9.0],\"label\":[\"(40.0, 50.0]\"],\"line_alpha\":[1.0],\"line_color\":[\"black\"],\"width\":[10],\"x\":[\"45.0\"],\"y\":[4.5]}},\"id\":\"e1328f36-166e-4b5b-8f6a-5e4196c92606\",\"type\":\"ColumnDataSource\"},{\"attributes\":{\"fill_alpha\":{\"field\":\"fill_alpha\"},\"fill_color\":{\"field\":\"color\"},\"height\":{\"field\":\"height\",\"units\":\"data\"},\"line_color\":{\"field\":\"line_color\"},\"width\":{\"field\":\"width\",\"units\":\"data\"},\"x\":{\"field\":\"x\"},\"y\":{\"field\":\"y\"}},\"id\":\"b36b0df2-5df5-408b-bbe9-210612709849\",\"type\":\"Rect\"},{\"attributes\":{},\"id\":\"3e14ce54-6bb8-4921-90de-48c20d5de235\",\"type\":\"BasicTickFormatter\"},{\"attributes\":{\"data_source\":{\"id\":\"1507f165-8d4d-4bae-acd7-eeec2b72a155\",\"type\":\"ColumnDataSource\"},\"glyph\":{\"id\":\"26815e61-b068-4ee3-8887-4194b292c316\",\"type\":\"Rect\"},\"hover_glyph\":null,\"nonselection_glyph\":null,\"selection_glyph\":null},\"id\":\"26eef873-e4e8-4ec2-afa1-a4ca52c6a9db\",\"type\":\"GlyphRenderer\"},{\"attributes\":{\"fill_alpha\":{\"field\":\"fill_alpha\"},\"fill_color\":{\"field\":\"color\"},\"height\":{\"field\":\"height\",\"units\":\"data\"},\"line_color\":{\"field\":\"line_color\"},\"width\":{\"field\":\"width\",\"units\":\"data\"},\"x\":{\"field\":\"x\"},\"y\":{\"field\":\"y\"}},\"id\":\"247eef0f-a472-4971-b5c9-aef10ac79edc\",\"type\":\"Rect\"},{\"attributes\":{\"overlay\":{\"id\":\"fcd2aa9e-efaa-46bf-8c39-5bc80d7d840b\",\"type\":\"BoxAnnotation\"},\"plot\":{\"id\":\"65444fd7-7133-4d61-82c0-e224c0049e39\",\"subtype\":\"Chart\",\"type\":\"Plot\"}},\"id\":\"61a3060b-54a5-49fb-8476-17810a187cca\",\"type\":\"BoxZoomTool\"},{\"attributes\":{\"fill_alpha\":{\"field\":\"fill_alpha\"},\"fill_color\":{\"field\":\"color\"},\"height\":{\"field\":\"height\",\"units\":\"data\"},\"line_color\":{\"field\":\"line_color\"},\"width\":{\"field\":\"width\",\"units\":\"data\"},\"x\":{\"field\":\"x\"},\"y\":{\"field\":\"y\"}},\"id\":\"6318c6aa-34af-4e32-a9b7-3a19aa3e67bf\",\"type\":\"Rect\"},{\"attributes\":{\"callback\":null,\"end\":9.9},\"id\":\"fed2515a-8aff-4fba-b026-5e4a928b1f2f\",\"type\":\"Range1d\"},{\"attributes\":{\"callback\":null,\"column_names\":[\"width\",\"line_color\",\"line_alpha\",\"label\",\"height\",\"color\",\"x\",\"y\",\"fill_alpha\"],\"data\":{\"chart_index\":[\"[-50.0, -40.0]\"],\"color\":[\"#f22c40\"],\"fill_alpha\":[0.8],\"height\":[1.0],\"label\":[\"[-50.0, -40.0]\"],\"line_alpha\":[1.0],\"line_color\":[\"black\"],\"width\":[10],\"x\":[\"-45.0\"],\"y\":[0.5]}},\"id\":\"461acf63-f384-4a8c-ac20-79edfa9584fe\",\"type\":\"ColumnDataSource\"},{\"attributes\":{\"callback\":null,\"column_names\":[\"width\",\"line_color\",\"line_alpha\",\"label\",\"height\",\"color\",\"x\",\"y\",\"fill_alpha\"],\"data\":{\"chart_index\":[\"(60.0, 70.0]\"],\"color\":[\"#f22c40\"],\"fill_alpha\":[0.8],\"height\":[1.0],\"label\":[\"(60.0, 70.0]\"],\"line_alpha\":[1.0],\"line_color\":[\"black\"],\"width\":[10],\"x\":[\"65.0\"],\"y\":[0.5]}},\"id\":\"dc0c8f8d-8d12-4d0e-902f-f610424d0a0e\",\"type\":\"ColumnDataSource\"},{\"attributes\":{\"callback\":null,\"column_names\":[\"width\",\"line_color\",\"line_alpha\",\"label\",\"height\",\"color\",\"x\",\"y\",\"fill_alpha\"],\"data\":{\"chart_index\":[\"(20.0, 30.0]\"],\"color\":[\"#f22c40\"],\"fill_alpha\":[0.8],\"height\":[3.0],\"label\":[\"(20.0, 30.0]\"],\"line_alpha\":[1.0],\"line_color\":[\"black\"],\"width\":[10],\"x\":[\"25.0\"],\"y\":[1.5]}},\"id\":\"2aef5267-c8b5-402a-8734-227f4ae68347\",\"type\":\"ColumnDataSource\"},{\"attributes\":{\"fill_alpha\":{\"field\":\"fill_alpha\"},\"fill_color\":{\"field\":\"color\"},\"height\":{\"field\":\"height\",\"units\":\"data\"},\"line_color\":{\"field\":\"line_color\"},\"width\":{\"field\":\"width\",\"units\":\"data\"},\"x\":{\"field\":\"x\"},\"y\":{\"field\":\"y\"}},\"id\":\"385df865-ad17-4bf2-877a-239503fcc945\",\"type\":\"Rect\"},{\"attributes\":{\"fill_alpha\":{\"field\":\"fill_alpha\"},\"fill_color\":{\"field\":\"color\"},\"height\":{\"field\":\"height\",\"units\":\"data\"},\"line_color\":{\"field\":\"line_color\"},\"width\":{\"field\":\"width\",\"units\":\"data\"},\"x\":{\"field\":\"x\"},\"y\":{\"field\":\"y\"}},\"id\":\"fc287475-43bd-4f2c-87ca-460942ef0f3b\",\"type\":\"Rect\"},{\"attributes\":{},\"id\":\"ccb2e7e8-560d-4016-b99e-d3146862a74c\",\"type\":\"BasicTickFormatter\"},{\"attributes\":{\"bottom_units\":\"screen\",\"fill_alpha\":{\"value\":0.5},\"fill_color\":{\"value\":\"lightgrey\"},\"left_units\":\"screen\",\"level\":\"overlay\",\"line_alpha\":{\"value\":1.0},\"line_color\":{\"value\":\"black\"},\"line_dash\":[4,4],\"line_width\":{\"value\":2},\"plot\":null,\"render_mode\":\"css\",\"right_units\":\"screen\",\"top_units\":\"screen\"},\"id\":\"fcd2aa9e-efaa-46bf-8c39-5bc80d7d840b\",\"type\":\"BoxAnnotation\"},{\"attributes\":{\"plot\":{\"id\":\"65444fd7-7133-4d61-82c0-e224c0049e39\",\"subtype\":\"Chart\",\"type\":\"Plot\"}},\"id\":\"52c38c50-455a-47f2-a4c7-c574be39097a\",\"type\":\"SaveTool\"},{\"attributes\":{\"below\":[{\"id\":\"3c5324e6-db0c-490e-9848-a59892fe43bf\",\"type\":\"LinearAxis\"}],\"left\":[{\"id\":\"808e8830-bd13-4642-8d50-7509d0488203\",\"type\":\"LinearAxis\"}],\"renderers\":[{\"id\":\"fcd2aa9e-efaa-46bf-8c39-5bc80d7d840b\",\"type\":\"BoxAnnotation\"},{\"id\":\"a5daa7bc-3e6e-4d8e-a01b-78a3bd14c9f1\",\"type\":\"GlyphRenderer\"},{\"id\":\"b1f739c9-788e-4f38-b9bf-8e33d2de37b3\",\"type\":\"GlyphRenderer\"},{\"id\":\"f2c13451-159c-435e-8cc7-b9580c9e33d0\",\"type\":\"GlyphRenderer\"},{\"id\":\"647af548-2739-4c36-abec-661826c4386c\",\"type\":\"GlyphRenderer\"},{\"id\":\"aa0301f0-8604-4b4a-b893-893e4c9e0443\",\"type\":\"GlyphRenderer\"},{\"id\":\"beff2042-fb76-41bc-9647-a90bbd1ae0a0\",\"type\":\"GlyphRenderer\"},{\"id\":\"bc1ca2dd-50ae-4533-ade5-39259aec3cb1\",\"type\":\"GlyphRenderer\"},{\"id\":\"330ead5f-8d77-455f-9f13-fcd1b31303f3\",\"type\":\"GlyphRenderer\"},{\"id\":\"26eef873-e4e8-4ec2-afa1-a4ca52c6a9db\",\"type\":\"GlyphRenderer\"},{\"id\":\"35064979-3499-4aaf-a6ec-2567b9248b60\",\"type\":\"GlyphRenderer\"},{\"id\":\"0739c5d6-c70a-4f11-953d-5cc9070c2db4\",\"type\":\"GlyphRenderer\"},{\"id\":\"71ebed1e-ebc3-477c-8949-02874d93cf4b\",\"type\":\"GlyphRenderer\"},{\"id\":\"21b37b34-9afc-4d70-b5c2-a4b999ad2d6d\",\"type\":\"Legend\"},{\"id\":\"3c5324e6-db0c-490e-9848-a59892fe43bf\",\"type\":\"LinearAxis\"},{\"id\":\"808e8830-bd13-4642-8d50-7509d0488203\",\"type\":\"LinearAxis\"},{\"id\":\"c2862450-0470-4a2e-b641-7fa7dee12211\",\"type\":\"Grid\"}],\"title\":{\"id\":\"79380619-ceee-4f75-8696-49afc822dd50\",\"type\":\"Title\"},\"tool_events\":{\"id\":\"3c97bae5-670b-447e-972a-6bc00ea2700c\",\"type\":\"ToolEvents\"},\"toolbar\":{\"id\":\"de643052-8e08-4758-9692-918c8760086d\",\"type\":\"Toolbar\"},\"x_mapper_type\":\"auto\",\"x_range\":{\"id\":\"2378bb4e-00a1-43e3-88d9-66a1bf3a7b0e\",\"type\":\"Range1d\"},\"y_mapper_type\":\"auto\",\"y_range\":{\"id\":\"fed2515a-8aff-4fba-b026-5e4a928b1f2f\",\"type\":\"Range1d\"}},\"id\":\"65444fd7-7133-4d61-82c0-e224c0049e39\",\"subtype\":\"Chart\",\"type\":\"Plot\"},{\"attributes\":{\"callback\":null,\"end\":70.5,\"start\":-50.5},\"id\":\"2378bb4e-00a1-43e3-88d9-66a1bf3a7b0e\",\"type\":\"Range1d\"},{\"attributes\":{\"data_source\":{\"id\":\"461acf63-f384-4a8c-ac20-79edfa9584fe\",\"type\":\"ColumnDataSource\"},\"glyph\":{\"id\":\"24802510-c684-453c-a2ad-c86cd9eeea21\",\"type\":\"Rect\"},\"hover_glyph\":null,\"nonselection_glyph\":null,\"selection_glyph\":null},\"id\":\"a5daa7bc-3e6e-4d8e-a01b-78a3bd14c9f1\",\"type\":\"GlyphRenderer\"},{\"attributes\":{\"data_source\":{\"id\":\"4270e4dd-a5bc-4f77-82bd-39fb456a5c12\",\"type\":\"ColumnDataSource\"},\"glyph\":{\"id\":\"16880067-7b69-41ce-9d09-b20454929a15\",\"type\":\"Rect\"},\"hover_glyph\":null,\"nonselection_glyph\":null,\"selection_glyph\":null},\"id\":\"647af548-2739-4c36-abec-661826c4386c\",\"type\":\"GlyphRenderer\"},{\"attributes\":{\"callback\":null,\"column_names\":[\"width\",\"line_color\",\"line_alpha\",\"label\",\"height\",\"color\",\"x\",\"y\",\"fill_alpha\"],\"data\":{\"chart_index\":[\"(-20.0, -10.0]\"],\"color\":[\"#f22c40\"],\"fill_alpha\":[0.8],\"height\":[0.0],\"label\":[\"(-20.0, -10.0]\"],\"line_alpha\":[1.0],\"line_color\":[\"black\"],\"width\":[10],\"x\":[\"-15.0\"],\"y\":[0.0]}},\"id\":\"4270e4dd-a5bc-4f77-82bd-39fb456a5c12\",\"type\":\"ColumnDataSource\"},{\"attributes\":{\"fill_alpha\":{\"field\":\"fill_alpha\"},\"fill_color\":{\"field\":\"color\"},\"height\":{\"field\":\"height\",\"units\":\"data\"},\"line_color\":{\"field\":\"line_color\"},\"width\":{\"field\":\"width\",\"units\":\"data\"},\"x\":{\"field\":\"x\"},\"y\":{\"field\":\"y\"}},\"id\":\"cb11cad5-4cf8-429b-badb-c4e1e582ed83\",\"type\":\"Rect\"},{\"attributes\":{\"fill_alpha\":{\"field\":\"fill_alpha\"},\"fill_color\":{\"field\":\"color\"},\"height\":{\"field\":\"height\",\"units\":\"data\"},\"line_color\":{\"field\":\"line_color\"},\"width\":{\"field\":\"width\",\"units\":\"data\"},\"x\":{\"field\":\"x\"},\"y\":{\"field\":\"y\"}},\"id\":\"250d1add-766f-4c2a-9de0-4d20c5cbeb4c\",\"type\":\"Rect\"},{\"attributes\":{\"plot\":{\"id\":\"65444fd7-7133-4d61-82c0-e224c0049e39\",\"subtype\":\"Chart\",\"type\":\"Plot\"}},\"id\":\"42f08826-46b7-4bae-8533-f121c720ec13\",\"type\":\"HelpTool\"},{\"attributes\":{\"fill_alpha\":{\"field\":\"fill_alpha\"},\"fill_color\":{\"field\":\"color\"},\"height\":{\"field\":\"height\",\"units\":\"data\"},\"line_color\":{\"field\":\"line_color\"},\"width\":{\"field\":\"width\",\"units\":\"data\"},\"x\":{\"field\":\"x\"},\"y\":{\"field\":\"y\"}},\"id\":\"16880067-7b69-41ce-9d09-b20454929a15\",\"type\":\"Rect\"},{\"attributes\":{\"active_drag\":\"auto\",\"active_scroll\":\"auto\",\"active_tap\":\"auto\",\"tools\":[{\"id\":\"a62e0071-5377-4a75-978a-9cae7068a599\",\"type\":\"PanTool\"},{\"id\":\"909571da-4197-4941-87d8-b4c8cc29c5ac\",\"type\":\"WheelZoomTool\"},{\"id\":\"61a3060b-54a5-49fb-8476-17810a187cca\",\"type\":\"BoxZoomTool\"},{\"id\":\"52c38c50-455a-47f2-a4c7-c574be39097a\",\"type\":\"SaveTool\"},{\"id\":\"0f233620-4b65-4e2b-b24c-a3832a749400\",\"type\":\"ResetTool\"},{\"id\":\"42f08826-46b7-4bae-8533-f121c720ec13\",\"type\":\"HelpTool\"}]},\"id\":\"de643052-8e08-4758-9692-918c8760086d\",\"type\":\"Toolbar\"},{\"attributes\":{\"fill_alpha\":{\"field\":\"fill_alpha\"},\"fill_color\":{\"field\":\"color\"},\"height\":{\"field\":\"height\",\"units\":\"data\"},\"line_color\":{\"field\":\"line_color\"},\"width\":{\"field\":\"width\",\"units\":\"data\"},\"x\":{\"field\":\"x\"},\"y\":{\"field\":\"y\"}},\"id\":\"6a9a9986-0fd5-42a1-9e6a-5e950a0bf3d5\",\"type\":\"Rect\"},{\"attributes\":{\"callback\":null,\"column_names\":[\"width\",\"line_color\",\"line_alpha\",\"label\",\"height\",\"color\",\"x\",\"y\",\"fill_alpha\"],\"data\":{\"chart_index\":[\"(0.0, 10.0]\"],\"color\":[\"#f22c40\"],\"fill_alpha\":[0.8],\"height\":[1.0],\"label\":[\"(0.0, 10.0]\"],\"line_alpha\":[1.0],\"line_color\":[\"black\"],\"width\":[10],\"x\":[\"5.0\"],\"y\":[0.5]}},\"id\":\"f02a27af-3d71-433b-b4ba-6a869773b556\",\"type\":\"ColumnDataSource\"},{\"attributes\":{\"data_source\":{\"id\":\"e1328f36-166e-4b5b-8f6a-5e4196c92606\",\"type\":\"ColumnDataSource\"},\"glyph\":{\"id\":\"250d1add-766f-4c2a-9de0-4d20c5cbeb4c\",\"type\":\"Rect\"},\"hover_glyph\":null,\"nonselection_glyph\":null,\"selection_glyph\":null},\"id\":\"35064979-3499-4aaf-a6ec-2567b9248b60\",\"type\":\"GlyphRenderer\"},{\"attributes\":{\"axis_label\":\"Count( Diff )\",\"formatter\":{\"id\":\"ccb2e7e8-560d-4016-b99e-d3146862a74c\",\"type\":\"BasicTickFormatter\"},\"plot\":{\"id\":\"65444fd7-7133-4d61-82c0-e224c0049e39\",\"subtype\":\"Chart\",\"type\":\"Plot\"},\"ticker\":{\"id\":\"f982c60a-754f-4081-b3c4-5903704a005f\",\"type\":\"BasicTicker\"}},\"id\":\"808e8830-bd13-4642-8d50-7509d0488203\",\"type\":\"LinearAxis\"},{\"attributes\":{\"location\":\"top_left\",\"plot\":{\"id\":\"65444fd7-7133-4d61-82c0-e224c0049e39\",\"subtype\":\"Chart\",\"type\":\"Plot\"}},\"id\":\"21b37b34-9afc-4d70-b5c2-a4b999ad2d6d\",\"type\":\"Legend\"},{\"attributes\":{\"plot\":{\"id\":\"65444fd7-7133-4d61-82c0-e224c0049e39\",\"subtype\":\"Chart\",\"type\":\"Plot\"}},\"id\":\"0f233620-4b65-4e2b-b24c-a3832a749400\",\"type\":\"ResetTool\"},{\"attributes\":{\"data_source\":{\"id\":\"f02a27af-3d71-433b-b4ba-6a869773b556\",\"type\":\"ColumnDataSource\"},\"glyph\":{\"id\":\"a9dd0cb2-f0db-4206-8a15-667d90527dfd\",\"type\":\"Rect\"},\"hover_glyph\":null,\"nonselection_glyph\":null,\"selection_glyph\":null},\"id\":\"beff2042-fb76-41bc-9647-a90bbd1ae0a0\",\"type\":\"GlyphRenderer\"},{\"attributes\":{\"plot\":{\"id\":\"65444fd7-7133-4d61-82c0-e224c0049e39\",\"subtype\":\"Chart\",\"type\":\"Plot\"}},\"id\":\"a62e0071-5377-4a75-978a-9cae7068a599\",\"type\":\"PanTool\"},{\"attributes\":{\"data_source\":{\"id\":\"da7ed26f-3510-4e31-89e2-3ad5ef602566\",\"type\":\"ColumnDataSource\"},\"glyph\":{\"id\":\"cb11cad5-4cf8-429b-badb-c4e1e582ed83\",\"type\":\"Rect\"},\"hover_glyph\":null,\"nonselection_glyph\":null,\"selection_glyph\":null},\"id\":\"bc1ca2dd-50ae-4533-ade5-39259aec3cb1\",\"type\":\"GlyphRenderer\"},{\"attributes\":{},\"id\":\"f982c60a-754f-4081-b3c4-5903704a005f\",\"type\":\"BasicTicker\"},{\"attributes\":{\"callback\":null,\"column_names\":[\"width\",\"line_color\",\"line_alpha\",\"label\",\"height\",\"color\",\"x\",\"y\",\"fill_alpha\"],\"data\":{\"chart_index\":[\"(50.0, 60.0]\"],\"color\":[\"#f22c40\"],\"fill_alpha\":[0.8],\"height\":[1.0],\"label\":[\"(50.0, 60.0]\"],\"line_alpha\":[1.0],\"line_color\":[\"black\"],\"width\":[10],\"x\":[\"55.0\"],\"y\":[0.5]}},\"id\":\"6653a0bd-a4b7-40cb-9165-4b1540573546\",\"type\":\"ColumnDataSource\"}],\"root_ids\":[\"65444fd7-7133-4d61-82c0-e224c0049e39\"]},\"title\":\"Bokeh Application\",\"version\":\"0.12.0\"}};\n",
       "            var render_items = [{\"docid\":\"5103c651-c601-4567-809f-2d9dde59e3de\",\"elementid\":\"1904383f-4b1d-440d-ad01-0ba96b847ba1\",\"modelid\":\"65444fd7-7133-4d61-82c0-e224c0049e39\",\"notebook_comms_target\":\"a8b99e97-1cbf-41b2-84ec-fbe38901747a\"}];\n",
       "            \n",
       "            Bokeh.embed.embed_items(docs_json, render_items);\n",
       "        });\n",
       "      },\n",
       "      function(Bokeh) {\n",
       "      }\n",
       "    ];\n",
       "  \n",
       "    function run_inline_js() {\n",
       "      for (var i = 0; i < inline_js.length; i++) {\n",
       "        inline_js[i](window.Bokeh);\n",
       "      }\n",
       "    }\n",
       "  \n",
       "    if (window._bokeh_is_loading === 0) {\n",
       "      console.log(\"Bokeh: BokehJS loaded, going straight to plotting\");\n",
       "      run_inline_js();\n",
       "    } else {\n",
       "      load_libs(js_urls, function() {\n",
       "        console.log(\"Bokeh: BokehJS plotting callback run at\", now());\n",
       "        run_inline_js();\n",
       "      });\n",
       "    }\n",
       "  }(this));\n",
       "</script>"
      ]
     },
     "metadata": {},
     "output_type": "display_data"
    },
    {
     "data": {
      "text/html": [
       "<p><code>&lt;Bokeh Notebook handle for <strong>In[5]</strong>&gt;</code></p>"
      ],
      "text/plain": [
       "<bokeh.io._CommsHandle at 0x115830978>"
      ]
     },
     "execution_count": 60,
     "metadata": {},
     "output_type": "execute_result"
    }
   ],
   "source": [
    "sql_exercise_2 = \"\"\"\n",
    "select \n",
    "t1.Patient_ID,\n",
    "DATEDIFF(min_date,diag_date) as diff\n",
    "from\n",
    "(select \n",
    "Patient_ID,\n",
    "min(Diagnosis_Date) as diag_date\n",
    "from\n",
    "flat_iron.patient_diagnosis\n",
    "group by 1 ) t1\n",
    "inner join\n",
    "\n",
    "(SELECT Patient_ID,\n",
    "min(Treatment_Date)  as min_date\n",
    "from\n",
    "flat_iron.patient_treatment\n",
    "group by 1) t2\n",
    "on t1.Patient_ID = t2.Patient_ID\n",
    "order by 1 \n",
    "\"\"\"\n",
    "df_exercise_2 = pd.read_sql(sql_exercise_2,conn)\n",
    "bins = np.arange(-50,80,10)\n",
    "hist = Histogram(df_exercise_2, values='diff',\n",
    "                 title=\"HP Distribution by Cylinder Count\",bins = list(bins))\n",
    "show(hist)\n"
   ]
  },
  {
   "cell_type": "code",
   "execution_count": 43,
   "metadata": {
    "collapsed": false
   },
   "outputs": [
    {
     "data": {
      "text/html": [
       "<div>\n",
       "<table border=\"1\" class=\"dataframe\">\n",
       "  <thead>\n",
       "    <tr style=\"text-align: right;\">\n",
       "      <th></th>\n",
       "      <th>Patient_ID</th>\n",
       "      <th>diff</th>\n",
       "    </tr>\n",
       "  </thead>\n",
       "  <tbody>\n",
       "    <tr>\n",
       "      <th>11</th>\n",
       "      <td>4374</td>\n",
       "      <td>-47</td>\n",
       "    </tr>\n",
       "    <tr>\n",
       "      <th>17</th>\n",
       "      <td>6877</td>\n",
       "      <td>-21</td>\n",
       "    </tr>\n",
       "  </tbody>\n",
       "</table>\n",
       "</div>"
      ],
      "text/plain": [
       "    Patient_ID  diff\n",
       "11        4374   -47\n",
       "17        6877   -21"
      ]
     },
     "execution_count": 43,
     "metadata": {},
     "output_type": "execute_result"
    }
   ],
   "source": [
    "df_exercise_2[df_exercise_2['diff'] < 0]"
   ]
  },
  {
   "cell_type": "code",
   "execution_count": 48,
   "metadata": {
    "collapsed": false
   },
   "outputs": [
    {
     "data": {
      "text/plain": [
       "count    25.000000\n",
       "mean     31.760000\n",
       "std      15.658544\n",
       "min       2.000000\n",
       "25%      17.000000\n",
       "50%      32.000000\n",
       "75%      43.000000\n",
       "max      70.000000\n",
       "Name: diff, dtype: float64"
      ]
     },
     "execution_count": 48,
     "metadata": {},
     "output_type": "execute_result"
    }
   ],
   "source": [
    "df_exercise_2[df_exercise_2['diff'] > 0].describe()['diff']"
   ]
  },
  {
   "cell_type": "code",
   "execution_count": 26,
   "metadata": {
    "collapsed": false
   },
   "outputs": [],
   "source": [
    "sql_exercise_3 = \"\"\"\n",
    "SELECT \n",
    "Patient_ID,\n",
    "Drug_Code,\n",
    "DATEDIFF(max(Treatment_Date), min(Treatment_Date)) as len_treatment\n",
    "from\n",
    "flat_iron.patient_treatment\n",
    "group by 1,2\n",
    "order by 2 desc\n",
    "\"\"\"\n",
    "df_exercise_3 = pd.read_sql(sql_exercise_3,conn)"
   ]
  },
  {
   "cell_type": "code",
   "execution_count": 27,
   "metadata": {
    "collapsed": false
   },
   "outputs": [
    {
     "data": {
      "text/html": [
       "\n",
       "\n",
       "    <div class=\"bk-root\">\n",
       "        <div class=\"plotdiv\" id=\"6d446237-e4e6-4c2a-9ac9-6d20b587a284\"></div>\n",
       "    </div>\n",
       "<script type=\"text/javascript\">\n",
       "  \n",
       "  (function(global) {\n",
       "    function now() {\n",
       "      return new Date();\n",
       "    }\n",
       "  \n",
       "    if (typeof (window._bokeh_onload_callbacks) === \"undefined\") {\n",
       "      window._bokeh_onload_callbacks = [];\n",
       "    }\n",
       "  \n",
       "    function run_callbacks() {\n",
       "      window._bokeh_onload_callbacks.forEach(function(callback) { callback() });\n",
       "      delete window._bokeh_onload_callbacks\n",
       "      console.info(\"Bokeh: all callbacks have finished\");\n",
       "    }\n",
       "  \n",
       "    function load_libs(js_urls, callback) {\n",
       "      window._bokeh_onload_callbacks.push(callback);\n",
       "      if (window._bokeh_is_loading > 0) {\n",
       "        console.log(\"Bokeh: BokehJS is being loaded, scheduling callback at\", now());\n",
       "        return null;\n",
       "      }\n",
       "      if (js_urls == null || js_urls.length === 0) {\n",
       "        run_callbacks();\n",
       "        return null;\n",
       "      }\n",
       "      console.log(\"Bokeh: BokehJS not loaded, scheduling load and callback at\", now());\n",
       "      window._bokeh_is_loading = js_urls.length;\n",
       "      for (var i = 0; i < js_urls.length; i++) {\n",
       "        var url = js_urls[i];\n",
       "        var s = document.createElement('script');\n",
       "        s.src = url;\n",
       "        s.async = false;\n",
       "        s.onreadystatechange = s.onload = function() {\n",
       "          window._bokeh_is_loading--;\n",
       "          if (window._bokeh_is_loading === 0) {\n",
       "            console.log(\"Bokeh: all BokehJS libraries loaded\");\n",
       "            run_callbacks()\n",
       "          }\n",
       "        };\n",
       "        s.onerror = function() {\n",
       "          console.warn(\"failed to load library \" + url);\n",
       "        };\n",
       "        console.log(\"Bokeh: injecting script tag for BokehJS library: \", url);\n",
       "        document.getElementsByTagName(\"head\")[0].appendChild(s);\n",
       "      }\n",
       "    };var element = document.getElementById(\"6d446237-e4e6-4c2a-9ac9-6d20b587a284\");\n",
       "    if (element == null) {\n",
       "      console.log(\"Bokeh: ERROR: autoload.js configured with elementid '6d446237-e4e6-4c2a-9ac9-6d20b587a284' but no matching script tag was found. \")\n",
       "      return false;\n",
       "    }\n",
       "  \n",
       "    var js_urls = [];\n",
       "  \n",
       "    var inline_js = [\n",
       "      function(Bokeh) {\n",
       "        Bokeh.$(function() {\n",
       "            var docs_json = {\"b1d7038e-65be-4fc6-b778-45349a2dca40\":{\"roots\":{\"references\":[{\"attributes\":{\"legends\":[[\"202\",[{\"id\":\"0c259440-a2dc-4f03-8cd7-07e819b7fcc0\",\"type\":\"GlyphRenderer\"},{\"id\":\"c40f7af0-7915-433b-9929-94396ad9f9fc\",\"type\":\"GlyphRenderer\"},{\"id\":\"564fe742-164b-4596-b3e2-b621dad407be\",\"type\":\"GlyphRenderer\"}]],[\"201\",[{\"id\":\"fd911234-8299-4b19-a322-3b3a0432f883\",\"type\":\"GlyphRenderer\"},{\"id\":\"5563c4a8-b891-478a-836a-f15ea3589ac2\",\"type\":\"GlyphRenderer\"},{\"id\":\"1921e3c8-3dc3-46fa-897d-e4469f319eec\",\"type\":\"GlyphRenderer\"}]]],\"location\":\"top_left\",\"plot\":{\"id\":\"04ee0873-8144-4b63-aafb-ad5f6a644368\",\"subtype\":\"Chart\",\"type\":\"Plot\"}},\"id\":\"0eef4a5d-8054-45d4-ac68-27d4bbe13f7b\",\"type\":\"Legend\"},{\"attributes\":{\"axis_label\":\"Len_Treatment\",\"formatter\":{\"id\":\"33abe29a-ba9f-482b-8141-6e00659fbe10\",\"type\":\"BasicTickFormatter\"},\"plot\":{\"id\":\"04ee0873-8144-4b63-aafb-ad5f6a644368\",\"subtype\":\"Chart\",\"type\":\"Plot\"},\"ticker\":{\"id\":\"45e53dc1-1d17-42ce-97a6-f2bc62b3dc9f\",\"type\":\"BasicTicker\"}},\"id\":\"4725becf-f101-487f-a1de-a96e3e077d7f\",\"type\":\"LinearAxis\"},{\"attributes\":{},\"id\":\"45e53dc1-1d17-42ce-97a6-f2bc62b3dc9f\",\"type\":\"BasicTicker\"},{\"attributes\":{},\"id\":\"0edf3223-9cc8-4158-9c3e-c9e340545cbe\",\"type\":\"CategoricalTickFormatter\"},{\"attributes\":{\"bottom_units\":\"screen\",\"fill_alpha\":{\"value\":0.5},\"fill_color\":{\"value\":\"lightgrey\"},\"left_units\":\"screen\",\"level\":\"overlay\",\"line_alpha\":{\"value\":1.0},\"line_color\":{\"value\":\"black\"},\"line_dash\":[4,4],\"line_width\":{\"value\":2},\"plot\":null,\"render_mode\":\"css\",\"right_units\":\"screen\",\"top_units\":\"screen\"},\"id\":\"ed17e4d2-1438-4aa2-bf71-5cd8ee98d227\",\"type\":\"BoxAnnotation\"},{\"attributes\":{},\"id\":\"33abe29a-ba9f-482b-8141-6e00659fbe10\",\"type\":\"BasicTickFormatter\"},{\"attributes\":{\"data_source\":{\"id\":\"66e8eff5-f42d-48a4-b1b1-dae98a7518ff\",\"type\":\"ColumnDataSource\"},\"glyph\":{\"id\":\"365288eb-4768-4aae-abd1-bc925bb426ce\",\"type\":\"Rect\"},\"hover_glyph\":null,\"nonselection_glyph\":null,\"selection_glyph\":null},\"id\":\"c40f7af0-7915-433b-9929-94396ad9f9fc\",\"type\":\"GlyphRenderer\"},{\"attributes\":{\"plot\":{\"id\":\"04ee0873-8144-4b63-aafb-ad5f6a644368\",\"subtype\":\"Chart\",\"type\":\"Plot\"}},\"id\":\"1f60ed83-ec17-4fac-832b-201c04a06eb8\",\"type\":\"WheelZoomTool\"},{\"attributes\":{\"callback\":null,\"column_names\":[\"width\",\"line_color\",\"line_alpha\",\"label\",\"height\",\"color\",\"x\",\"y\",\"fill_alpha\"],\"data\":{\"Drug_Code\":[202],\"chart_index\":[{\"Drug_Code\":202}],\"color\":[\"red\"],\"fill_alpha\":[0.8],\"height\":[14.0],\"label\":[{\"Drug_Code\":202}],\"line_alpha\":[1.0],\"line_color\":[\"black\"],\"width\":[0.8],\"x\":[\"202\"],\"y\":[14.0]}},\"id\":\"66e8eff5-f42d-48a4-b1b1-dae98a7518ff\",\"type\":\"ColumnDataSource\"},{\"attributes\":{\"fill_alpha\":{\"field\":\"fill_alpha\"},\"fill_color\":{\"field\":\"color\"},\"height\":{\"field\":\"height\",\"units\":\"data\"},\"line_color\":{\"field\":\"line_color\"},\"width\":{\"field\":\"width\",\"units\":\"data\"},\"x\":{\"field\":\"x\"},\"y\":{\"field\":\"y\"}},\"id\":\"f8fd47dc-74f7-4000-aba6-23ef3680e53a\",\"type\":\"Rect\"},{\"attributes\":{\"plot\":{\"id\":\"04ee0873-8144-4b63-aafb-ad5f6a644368\",\"subtype\":\"Chart\",\"type\":\"Plot\"}},\"id\":\"d9070cfa-6c02-4ddf-a630-27d86e3be152\",\"type\":\"ResetTool\"},{\"attributes\":{\"plot\":{\"id\":\"04ee0873-8144-4b63-aafb-ad5f6a644368\",\"subtype\":\"Chart\",\"type\":\"Plot\"}},\"id\":\"85178649-7556-4bf5-99fe-e802c5b4825d\",\"type\":\"SaveTool\"},{\"attributes\":{\"callback\":null,\"factors\":[\"201\",\"202\"]},\"id\":\"76e91092-e2c0-4520-9651-aa2a276a46a4\",\"type\":\"FactorRange\"},{\"attributes\":{\"below\":[{\"id\":\"ea36067c-0a40-48e2-b60d-4f0f9805ceac\",\"type\":\"CategoricalAxis\"}],\"left\":[{\"id\":\"4725becf-f101-487f-a1de-a96e3e077d7f\",\"type\":\"LinearAxis\"}],\"renderers\":[{\"id\":\"ed17e4d2-1438-4aa2-bf71-5cd8ee98d227\",\"type\":\"BoxAnnotation\"},{\"id\":\"0c259440-a2dc-4f03-8cd7-07e819b7fcc0\",\"type\":\"GlyphRenderer\"},{\"id\":\"c40f7af0-7915-433b-9929-94396ad9f9fc\",\"type\":\"GlyphRenderer\"},{\"id\":\"564fe742-164b-4596-b3e2-b621dad407be\",\"type\":\"GlyphRenderer\"},{\"id\":\"fd911234-8299-4b19-a322-3b3a0432f883\",\"type\":\"GlyphRenderer\"},{\"id\":\"5563c4a8-b891-478a-836a-f15ea3589ac2\",\"type\":\"GlyphRenderer\"},{\"id\":\"1921e3c8-3dc3-46fa-897d-e4469f319eec\",\"type\":\"GlyphRenderer\"},{\"id\":\"0eef4a5d-8054-45d4-ac68-27d4bbe13f7b\",\"type\":\"Legend\"},{\"id\":\"ea36067c-0a40-48e2-b60d-4f0f9805ceac\",\"type\":\"CategoricalAxis\"},{\"id\":\"4725becf-f101-487f-a1de-a96e3e077d7f\",\"type\":\"LinearAxis\"},{\"id\":\"fe6299ca-a5ca-457f-a3d5-8200c7b1c50e\",\"type\":\"Grid\"}],\"title\":{\"id\":\"817caa89-fd25-41ad-b86d-b16dfc0772ef\",\"type\":\"Title\"},\"tool_events\":{\"id\":\"133a0edb-8762-475a-b200-2089d438a0e9\",\"type\":\"ToolEvents\"},\"toolbar\":{\"id\":\"b05b9fe5-cde9-4037-9e79-4c62e55156a1\",\"type\":\"Toolbar\"},\"x_mapper_type\":\"auto\",\"x_range\":{\"id\":\"76e91092-e2c0-4520-9651-aa2a276a46a4\",\"type\":\"FactorRange\"},\"y_mapper_type\":\"auto\",\"y_range\":{\"id\":\"ddb669a7-9624-42bb-9dec-125949ac1c9b\",\"type\":\"Range1d\"}},\"id\":\"04ee0873-8144-4b63-aafb-ad5f6a644368\",\"subtype\":\"Chart\",\"type\":\"Plot\"},{\"attributes\":{\"fill_alpha\":{\"field\":\"fill_alpha\"},\"fill_color\":{\"field\":\"color\"},\"height\":{\"field\":\"height\",\"units\":\"data\"},\"line_color\":{\"field\":\"line_color\"},\"width\":{\"field\":\"width\",\"units\":\"data\"},\"x\":{\"field\":\"x\"},\"y\":{\"field\":\"y\"}},\"id\":\"420258ea-edf7-428d-bfa9-8f44c98b0305\",\"type\":\"Rect\"},{\"attributes\":{\"callback\":null,\"column_names\":[\"x0s\",\"y1s\",\"y0s\",\"x1s\"],\"data\":{\"Drug_Code\":[202,202,202,202],\"chart_index\":[{\"Drug_Code\":202},{\"Drug_Code\":202},{\"Drug_Code\":202},{\"Drug_Code\":202}],\"x0s\":[\"202:0.5\",\"202:0.65\",\"202:0.5\",\"202:0.65\"],\"x1s\":[\"202:0.5\",\"202:0.35\",\"202:0.5\",\"202:0.35\"],\"y0s\":[0.0,0.0,21.0,21.0],\"y1s\":[7.0,0.0,21.0,21.0]}},\"id\":\"e3117076-61a4-47de-bea5-3212ff1f20b3\",\"type\":\"ColumnDataSource\"},{\"attributes\":{\"plot\":{\"id\":\"04ee0873-8144-4b63-aafb-ad5f6a644368\",\"subtype\":\"Chart\",\"type\":\"Plot\"}},\"id\":\"362057f6-4626-493f-a066-d1a8ab0dac06\",\"type\":\"PanTool\"},{\"attributes\":{\"plot\":{\"id\":\"04ee0873-8144-4b63-aafb-ad5f6a644368\",\"subtype\":\"Chart\",\"type\":\"Plot\"}},\"id\":\"9db4bef1-8637-4d43-a987-6d964b50dcad\",\"type\":\"HelpTool\"},{\"attributes\":{\"dimension\":1,\"plot\":{\"id\":\"04ee0873-8144-4b63-aafb-ad5f6a644368\",\"subtype\":\"Chart\",\"type\":\"Plot\"},\"ticker\":{\"id\":\"45e53dc1-1d17-42ce-97a6-f2bc62b3dc9f\",\"type\":\"BasicTicker\"}},\"id\":\"fe6299ca-a5ca-457f-a3d5-8200c7b1c50e\",\"type\":\"Grid\"},{\"attributes\":{\"axis_label\":\"Drug_Code\",\"formatter\":{\"id\":\"0edf3223-9cc8-4158-9c3e-c9e340545cbe\",\"type\":\"CategoricalTickFormatter\"},\"major_label_orientation\":0.7853981633974483,\"plot\":{\"id\":\"04ee0873-8144-4b63-aafb-ad5f6a644368\",\"subtype\":\"Chart\",\"type\":\"Plot\"},\"ticker\":{\"id\":\"dd238757-c762-48b8-84dc-77ab3a5ad388\",\"type\":\"CategoricalTicker\"}},\"id\":\"ea36067c-0a40-48e2-b60d-4f0f9805ceac\",\"type\":\"CategoricalAxis\"},{\"attributes\":{\"fill_alpha\":{\"field\":\"fill_alpha\"},\"fill_color\":{\"field\":\"color\"},\"height\":{\"field\":\"height\",\"units\":\"data\"},\"line_color\":{\"field\":\"line_color\"},\"width\":{\"field\":\"width\",\"units\":\"data\"},\"x\":{\"field\":\"x\"},\"y\":{\"field\":\"y\"}},\"id\":\"365288eb-4768-4aae-abd1-bc925bb426ce\",\"type\":\"Rect\"},{\"attributes\":{\"callback\":null,\"column_names\":[\"x0s\",\"y1s\",\"y0s\",\"x1s\"],\"data\":{\"Drug_Code\":[201,201,201,201],\"chart_index\":[{\"Drug_Code\":201},{\"Drug_Code\":201},{\"Drug_Code\":201},{\"Drug_Code\":201}],\"x0s\":[\"201:0.5\",\"201:0.65\",\"201:0.5\",\"201:0.65\"],\"x1s\":[\"201:0.5\",\"201:0.35\",\"201:0.5\",\"201:0.35\"],\"y0s\":[28.0,28.0,101.5,126.0],\"y1s\":[43.75,28.0,126.0,126.0]}},\"id\":\"cc10d8c7-082c-4e3c-9b3f-ac08c41063a6\",\"type\":\"ColumnDataSource\"},{\"attributes\":{\"callback\":null,\"end\":132.3},\"id\":\"ddb669a7-9624-42bb-9dec-125949ac1c9b\",\"type\":\"Range1d\"},{\"attributes\":{\"data_source\":{\"id\":\"4094ee55-3409-4c92-870c-73ead269a7c2\",\"type\":\"ColumnDataSource\"},\"glyph\":{\"id\":\"f8fd47dc-74f7-4000-aba6-23ef3680e53a\",\"type\":\"Rect\"},\"hover_glyph\":null,\"nonselection_glyph\":null,\"selection_glyph\":null},\"id\":\"fd911234-8299-4b19-a322-3b3a0432f883\",\"type\":\"GlyphRenderer\"},{\"attributes\":{\"data_source\":{\"id\":\"c81d0ff6-5e8a-4efe-a999-43d073dc0473\",\"type\":\"ColumnDataSource\"},\"glyph\":{\"id\":\"57e9e473-8059-4f0f-b14a-2a0b997dd8bc\",\"type\":\"Rect\"},\"hover_glyph\":null,\"nonselection_glyph\":null,\"selection_glyph\":null},\"id\":\"5563c4a8-b891-478a-836a-f15ea3589ac2\",\"type\":\"GlyphRenderer\"},{\"attributes\":{},\"id\":\"133a0edb-8762-475a-b200-2089d438a0e9\",\"type\":\"ToolEvents\"},{\"attributes\":{\"callback\":null,\"column_names\":[\"width\",\"line_color\",\"line_alpha\",\"label\",\"height\",\"color\",\"x\",\"y\",\"fill_alpha\"],\"data\":{\"Drug_Code\":[202],\"chart_index\":[{\"Drug_Code\":202}],\"color\":[\"red\"],\"fill_alpha\":[0.8],\"height\":[0.0],\"label\":[{\"Drug_Code\":202}],\"line_alpha\":[1.0],\"line_color\":[\"black\"],\"width\":[0.8],\"x\":[\"202\"],\"y\":[7.0]}},\"id\":\"9cce963d-3a66-4a43-b701-e5e553af911b\",\"type\":\"ColumnDataSource\"},{\"attributes\":{\"line_width\":{\"value\":2},\"x0\":{\"field\":\"x0s\"},\"x1\":{\"field\":\"x1s\"},\"y0\":{\"field\":\"y0s\"},\"y1\":{\"field\":\"y1s\"}},\"id\":\"a7183771-f69e-4a7c-b3c0-0e3c0620ca06\",\"type\":\"Segment\"},{\"attributes\":{\"callback\":null,\"column_names\":[\"width\",\"line_color\",\"line_alpha\",\"label\",\"height\",\"color\",\"x\",\"y\",\"fill_alpha\"],\"data\":{\"Drug_Code\":[201],\"chart_index\":[{\"Drug_Code\":201}],\"color\":[\"red\"],\"fill_alpha\":[0.8],\"height\":[22.75],\"label\":[{\"Drug_Code\":201}],\"line_alpha\":[1.0],\"line_color\":[\"black\"],\"width\":[0.8],\"x\":[\"201\"],\"y\":[55.125]}},\"id\":\"4094ee55-3409-4c92-870c-73ead269a7c2\",\"type\":\"ColumnDataSource\"},{\"attributes\":{\"data_source\":{\"id\":\"9cce963d-3a66-4a43-b701-e5e553af911b\",\"type\":\"ColumnDataSource\"},\"glyph\":{\"id\":\"420258ea-edf7-428d-bfa9-8f44c98b0305\",\"type\":\"Rect\"},\"hover_glyph\":null,\"nonselection_glyph\":null,\"selection_glyph\":null},\"id\":\"0c259440-a2dc-4f03-8cd7-07e819b7fcc0\",\"type\":\"GlyphRenderer\"},{\"attributes\":{\"line_width\":{\"value\":2},\"x0\":{\"field\":\"x0s\"},\"x1\":{\"field\":\"x1s\"},\"y0\":{\"field\":\"y0s\"},\"y1\":{\"field\":\"y1s\"}},\"id\":\"9c503f49-0236-4642-bbdb-6bbbffc3343b\",\"type\":\"Segment\"},{\"attributes\":{\"callback\":null,\"column_names\":[\"width\",\"line_color\",\"line_alpha\",\"label\",\"height\",\"color\",\"x\",\"y\",\"fill_alpha\"],\"data\":{\"Drug_Code\":[201],\"chart_index\":[{\"Drug_Code\":201}],\"color\":[\"red\"],\"fill_alpha\":[0.8],\"height\":[35.0],\"label\":[{\"Drug_Code\":201}],\"line_alpha\":[1.0],\"line_color\":[\"black\"],\"width\":[0.8],\"x\":[\"201\"],\"y\":[84.0]}},\"id\":\"c81d0ff6-5e8a-4efe-a999-43d073dc0473\",\"type\":\"ColumnDataSource\"},{\"attributes\":{\"overlay\":{\"id\":\"ed17e4d2-1438-4aa2-bf71-5cd8ee98d227\",\"type\":\"BoxAnnotation\"},\"plot\":{\"id\":\"04ee0873-8144-4b63-aafb-ad5f6a644368\",\"subtype\":\"Chart\",\"type\":\"Plot\"}},\"id\":\"5fe6b719-0416-40e5-82fd-833ccd782fd6\",\"type\":\"BoxZoomTool\"},{\"attributes\":{\"data_source\":{\"id\":\"cc10d8c7-082c-4e3c-9b3f-ac08c41063a6\",\"type\":\"ColumnDataSource\"},\"glyph\":{\"id\":\"9c503f49-0236-4642-bbdb-6bbbffc3343b\",\"type\":\"Segment\"},\"hover_glyph\":null,\"nonselection_glyph\":null,\"selection_glyph\":null},\"id\":\"1921e3c8-3dc3-46fa-897d-e4469f319eec\",\"type\":\"GlyphRenderer\"},{\"attributes\":{\"data_source\":{\"id\":\"e3117076-61a4-47de-bea5-3212ff1f20b3\",\"type\":\"ColumnDataSource\"},\"glyph\":{\"id\":\"a7183771-f69e-4a7c-b3c0-0e3c0620ca06\",\"type\":\"Segment\"},\"hover_glyph\":null,\"nonselection_glyph\":null,\"selection_glyph\":null},\"id\":\"564fe742-164b-4596-b3e2-b621dad407be\",\"type\":\"GlyphRenderer\"},{\"attributes\":{},\"id\":\"dd238757-c762-48b8-84dc-77ab3a5ad388\",\"type\":\"CategoricalTicker\"},{\"attributes\":{\"active_drag\":\"auto\",\"active_scroll\":\"auto\",\"active_tap\":\"auto\",\"tools\":[{\"id\":\"362057f6-4626-493f-a066-d1a8ab0dac06\",\"type\":\"PanTool\"},{\"id\":\"1f60ed83-ec17-4fac-832b-201c04a06eb8\",\"type\":\"WheelZoomTool\"},{\"id\":\"5fe6b719-0416-40e5-82fd-833ccd782fd6\",\"type\":\"BoxZoomTool\"},{\"id\":\"85178649-7556-4bf5-99fe-e802c5b4825d\",\"type\":\"SaveTool\"},{\"id\":\"d9070cfa-6c02-4ddf-a630-27d86e3be152\",\"type\":\"ResetTool\"},{\"id\":\"9db4bef1-8637-4d43-a987-6d964b50dcad\",\"type\":\"HelpTool\"}]},\"id\":\"b05b9fe5-cde9-4037-9e79-4c62e55156a1\",\"type\":\"Toolbar\"},{\"attributes\":{\"plot\":null,\"text\":\"test\"},\"id\":\"817caa89-fd25-41ad-b86d-b16dfc0772ef\",\"type\":\"Title\"},{\"attributes\":{\"fill_alpha\":{\"field\":\"fill_alpha\"},\"fill_color\":{\"field\":\"color\"},\"height\":{\"field\":\"height\",\"units\":\"data\"},\"line_color\":{\"field\":\"line_color\"},\"width\":{\"field\":\"width\",\"units\":\"data\"},\"x\":{\"field\":\"x\"},\"y\":{\"field\":\"y\"}},\"id\":\"57e9e473-8059-4f0f-b14a-2a0b997dd8bc\",\"type\":\"Rect\"}],\"root_ids\":[\"04ee0873-8144-4b63-aafb-ad5f6a644368\"]},\"title\":\"Bokeh Application\",\"version\":\"0.12.0\"}};\n",
       "            var render_items = [{\"docid\":\"b1d7038e-65be-4fc6-b778-45349a2dca40\",\"elementid\":\"6d446237-e4e6-4c2a-9ac9-6d20b587a284\",\"modelid\":\"04ee0873-8144-4b63-aafb-ad5f6a644368\",\"notebook_comms_target\":\"253ab002-de9f-494e-bf34-abd7ecc7b3f0\"}];\n",
       "            \n",
       "            Bokeh.embed.embed_items(docs_json, render_items);\n",
       "        });\n",
       "      },\n",
       "      function(Bokeh) {\n",
       "      }\n",
       "    ];\n",
       "  \n",
       "    function run_inline_js() {\n",
       "      for (var i = 0; i < inline_js.length; i++) {\n",
       "        inline_js[i](window.Bokeh);\n",
       "      }\n",
       "    }\n",
       "  \n",
       "    if (window._bokeh_is_loading === 0) {\n",
       "      console.log(\"Bokeh: BokehJS loaded, going straight to plotting\");\n",
       "      run_inline_js();\n",
       "    } else {\n",
       "      load_libs(js_urls, function() {\n",
       "        console.log(\"Bokeh: BokehJS plotting callback run at\", now());\n",
       "        run_inline_js();\n",
       "      });\n",
       "    }\n",
       "  }(this));\n",
       "</script>"
      ]
     },
     "metadata": {},
     "output_type": "display_data"
    },
    {
     "name": "stdout",
     "output_type": "stream",
     "text": [
      "Drug_Code\n",
      "201    72.000000\n",
      "202    10.769231\n",
      "Name: len_treatment, dtype: float64\n",
      "p value is : \n",
      "0.0001\n"
     ]
    }
   ],
   "source": [
    "### Box plot \n",
    "p = BoxPlot(df_exercise_3, values='len_treatment', label='Drug_Code',\n",
    "            title=\"test\",color='red')\n",
    "show(p)\n",
    "\n",
    "## Print mean of each drug group\n",
    "print(df_exercise_3.pivot_table( columns= 'Drug_Code' , values= 'len_treatment', aggfunc= np.mean))\n",
    "\n",
    "\n",
    "### do a Null hypothesis test using permutation test\n",
    "\n",
    "observed1 = df_exercise_3.pivot_table( columns= 'Drug_Code' , values= 'len_treatment', aggfunc= np.median)[201] \n",
    "observed2 = df_exercise_3.pivot_table( columns= 'Drug_Code' , values= 'len_treatment', aggfunc= np.median)[202] \n",
    "observed = observed1 - observed2\n",
    "\n",
    "result = pd.Series(np.zeros(10**4 -1))\n",
    "def permute_test(d  = 0):\n",
    "    n = len(df_exercise_3)\n",
    "    c = len(df_exercise_3[df_exercise_3['Drug_Code']==201])             \n",
    "    index=np.random.choice(np.arange(0,n,1), size = c, replace = False)\n",
    "    not_index = np.setdiff1d(np.arange(0,n,1),index , assume_unique = True)\n",
    "    return df_exercise_3['len_treatment'].iloc[index].median() - df_exercise_3['len_treatment'].iloc[not_index].median()\n",
    "result=result.apply(permute_test)\n",
    "# calculating P value\n",
    "# calculating P value\n",
    "p_value = ((result >= observed).sum() +1)/(10**4)\n",
    "#### Print p value\n",
    "print('p value is : ')\n",
    "print(p_value)"
   ]
  },
  {
   "cell_type": "code",
   "execution_count": 56,
   "metadata": {
    "collapsed": false
   },
   "outputs": [
    {
     "data": {
      "text/plain": [
       "array([-50, -48, -46, -44, -42, -40, -38, -36, -34, -32, -30, -28, -26,\n",
       "       -24, -22, -20, -18, -16, -14, -12, -10,  -8,  -6,  -4,  -2,   0,\n",
       "         2,   4,   6,   8,  10,  12,  14,  16,  18,  20,  22,  24,  26,\n",
       "        28,  30,  32,  34,  36,  38,  40,  42,  44,  46,  48,  50,  52,\n",
       "        54,  56,  58,  60,  62,  64,  66,  68,  70,  72,  74,  76,  78])"
      ]
     },
     "execution_count": 56,
     "metadata": {},
     "output_type": "execute_result"
    }
   ],
   "source": [
    "conn.close()\n"
   ]
  }
 ],
 "metadata": {
  "kernelspec": {
   "display_name": "Python 3",
   "language": "python",
   "name": "python3"
  },
  "language_info": {
   "codemirror_mode": {
    "name": "ipython",
    "version": 3
   },
   "file_extension": ".py",
   "mimetype": "text/x-python",
   "name": "python",
   "nbconvert_exporter": "python",
   "pygments_lexer": "ipython3",
   "version": "3.5.1"
  }
 },
 "nbformat": 4,
 "nbformat_minor": 0
}
