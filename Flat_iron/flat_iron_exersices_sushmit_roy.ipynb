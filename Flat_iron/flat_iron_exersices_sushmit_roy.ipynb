{
 "cells": [
  {
   "cell_type": "markdown",
   "metadata": {},
   "source": [
    "The solution for the question sets can be accesed through the following link\n",
    "  * [Flat Iron Data Exercise](http://nbviewer.jupyter.org/github/sushmit86/Data_science_experiments/blob/master/Flat_iron/flat_iron_exersices_sushmit_roy.ipynb)\n",
    "\n",
    "For a better UI experience and visulaization it is recomended to use the above links  \n",
    "Section \"*Loading Data to My-sql local instance*\" can be skipped and one can jump to \"*Solutions to Exercise*\" section"
   ]
  },
  {
   "cell_type": "code",
   "execution_count": 1,
   "metadata": {
    "collapsed": false
   },
   "outputs": [
    {
     "data": {
      "text/html": [
       "\n",
       "    <div class=\"bk-root\">\n",
       "        <a href=\"http://bokeh.pydata.org\" target=\"_blank\" class=\"bk-logo bk-logo-small bk-logo-notebook\"></a>\n",
       "        <span id=\"86c00dc5-5920-4877-9fab-570c5201048a\">Loading BokehJS ...</span>\n",
       "    </div>"
      ]
     },
     "metadata": {},
     "output_type": "display_data"
    },
    {
     "data": {
      "application/javascript": [
       "\n",
       "(function(global) {\n",
       "  function now() {\n",
       "    return new Date();\n",
       "  }\n",
       "\n",
       "  if (typeof (window._bokeh_onload_callbacks) === \"undefined\") {\n",
       "    window._bokeh_onload_callbacks = [];\n",
       "  }\n",
       "\n",
       "  function run_callbacks() {\n",
       "    window._bokeh_onload_callbacks.forEach(function(callback) { callback() });\n",
       "    delete window._bokeh_onload_callbacks\n",
       "    console.info(\"Bokeh: all callbacks have finished\");\n",
       "  }\n",
       "\n",
       "  function load_libs(js_urls, callback) {\n",
       "    window._bokeh_onload_callbacks.push(callback);\n",
       "    if (window._bokeh_is_loading > 0) {\n",
       "      console.log(\"Bokeh: BokehJS is being loaded, scheduling callback at\", now());\n",
       "      return null;\n",
       "    }\n",
       "    if (js_urls == null || js_urls.length === 0) {\n",
       "      run_callbacks();\n",
       "      return null;\n",
       "    }\n",
       "    console.log(\"Bokeh: BokehJS not loaded, scheduling load and callback at\", now());\n",
       "    window._bokeh_is_loading = js_urls.length;\n",
       "    for (var i = 0; i < js_urls.length; i++) {\n",
       "      var url = js_urls[i];\n",
       "      var s = document.createElement('script');\n",
       "      s.src = url;\n",
       "      s.async = false;\n",
       "      s.onreadystatechange = s.onload = function() {\n",
       "        window._bokeh_is_loading--;\n",
       "        if (window._bokeh_is_loading === 0) {\n",
       "          console.log(\"Bokeh: all BokehJS libraries loaded\");\n",
       "          run_callbacks()\n",
       "        }\n",
       "      };\n",
       "      s.onerror = function() {\n",
       "        console.warn(\"failed to load library \" + url);\n",
       "      };\n",
       "      console.log(\"Bokeh: injecting script tag for BokehJS library: \", url);\n",
       "      document.getElementsByTagName(\"head\")[0].appendChild(s);\n",
       "    }\n",
       "  };\n",
       "\n",
       "  var js_urls = ['https://cdn.pydata.org/bokeh/release/bokeh-0.12.0.min.js', 'https://cdn.pydata.org/bokeh/release/bokeh-widgets-0.12.0.min.js', 'https://cdn.pydata.org/bokeh/release/bokeh-compiler-0.12.0.min.js'];\n",
       "\n",
       "  var inline_js = [\n",
       "    function(Bokeh) {\n",
       "      Bokeh.set_log_level(\"info\");\n",
       "    },\n",
       "    \n",
       "    function(Bokeh) {\n",
       "      Bokeh.$(\"#86c00dc5-5920-4877-9fab-570c5201048a\").text(\"BokehJS successfully loaded\");\n",
       "    },\n",
       "    function(Bokeh) {\n",
       "      console.log(\"Bokeh: injecting CSS: https://cdn.pydata.org/bokeh/release/bokeh-0.12.0.min.css\");\n",
       "      Bokeh.embed.inject_css(\"https://cdn.pydata.org/bokeh/release/bokeh-0.12.0.min.css\");\n",
       "      console.log(\"Bokeh: injecting CSS: https://cdn.pydata.org/bokeh/release/bokeh-widgets-0.12.0.min.css\");\n",
       "      Bokeh.embed.inject_css(\"https://cdn.pydata.org/bokeh/release/bokeh-widgets-0.12.0.min.css\");\n",
       "    }\n",
       "  ];\n",
       "\n",
       "  function run_inline_js() {\n",
       "    for (var i = 0; i < inline_js.length; i++) {\n",
       "      inline_js[i](window.Bokeh);\n",
       "    }\n",
       "  }\n",
       "\n",
       "  if (window._bokeh_is_loading === 0) {\n",
       "    console.log(\"Bokeh: BokehJS loaded, going straight to plotting\");\n",
       "    run_inline_js();\n",
       "  } else {\n",
       "    load_libs(js_urls, function() {\n",
       "      console.log(\"Bokeh: BokehJS plotting callback run at\", now());\n",
       "      run_inline_js();\n",
       "    });\n",
       "  }\n",
       "}(this));"
      ]
     },
     "metadata": {},
     "output_type": "display_data"
    }
   ],
   "source": [
    "# import Python libarary \n",
    "import pymysql\n",
    "import pandas as pd\n",
    "from bokeh.layouts import gridplot\n",
    "#from bokeh.plotting import figure, output_notebook, show,Histogram\n",
    "from bokeh.charts import Histogram,BoxPlot, output_notebook, show\n",
    "import numpy as np\n",
    "output_notebook()"
   ]
  },
  {
   "cell_type": "markdown",
   "metadata": {},
   "source": [
    "# Loading Data to My-sql local instance"
   ]
  },
  {
   "cell_type": "markdown",
   "metadata": {},
   "source": [
    "Creating a new schema **flat_iron in a  mysql(5.7.13)  local database** and creating tables for Patient_Diagnosis.csv &\n",
    "Patient_Treatment.csv "
   ]
  },
  {
   "cell_type": "code",
   "execution_count": 2,
   "metadata": {
    "collapsed": false
   },
   "outputs": [],
   "source": [
    "# Creating a connection \n",
    "# note the flat_iron schema was manually created \n",
    "conn = pymysql.connect(host='localhost', port=3306, user='root', passwd='password', db='flat_iron')\n",
    "c = conn.cursor()"
   ]
  },
  {
   "cell_type": "code",
   "execution_count": 3,
   "metadata": {
    "collapsed": false
   },
   "outputs": [],
   "source": [
    "# creating patient_diagnosis table\n",
    "create_patient_diagnosis = \"\"\"\n",
    "CREATE TABLE if not exists flat_iron.patient_diagnosis (\n",
    "   Patient_ID INT NOT NULL,\n",
    "   Diagnosis_Date DATE NOT NULL,\n",
    "   Diagnosis_Code DECIMAL(7,2) NOT NULL,\n",
    "   Diagnosis VARCHAR(45) NULL\n",
    ")\n",
    "\"\"\"\n",
    "c.execute(create_patient_diagnosis)\n",
    "\n",
    "# loading the data from Patient_Diagnosis.csv\n",
    "loading_patient_diagnosis = r\"\"\"\n",
    "LOAD DATA \n",
    "INFILE \n",
    "'/Users/sushmitroy/Data_science_experiments/Flat_iron/Patient_Diagnosis.csv'\n",
    "INTO TABLE  flat_iron.patient_diagnosis\n",
    "FIELDS TERMINATED BY ',' \n",
    "LINES TERMINATED BY '\\r\\n'\n",
    "IGNORE 1 ROWS\n",
    "\"\"\"\n",
    "c.execute(loading_patient_diagnosis)\n",
    "# commit\n",
    "conn.commit()"
   ]
  },
  {
   "cell_type": "code",
   "execution_count": 4,
   "metadata": {
    "collapsed": false
   },
   "outputs": [],
   "source": [
    "# creating patient_treatment.csv\n",
    "create_patient_diagnosis = \"\"\"\n",
    "CREATE TABLE if not exists flat_iron.patient_treatment (\n",
    "   Patient_ID INT NOT NULL,\n",
    "   Treatment_Date DATE NOT NULL,\n",
    "   Drug_Code INT NOT NULL\n",
    ")\n",
    "\"\"\"\n",
    "c.execute(create_patient_diagnosis)\n",
    "\n",
    "# loading the data from Patient_Treatment.csv\n",
    "loading_patient_diagnosis = r\"\"\"\n",
    "LOAD DATA \n",
    "INFILE \n",
    "'/Users/sushmitroy/Data_science_experiments/Flat_iron/Patient_Treatment.csv'\n",
    "INTO TABLE  flat_iron.patient_treatment\n",
    "FIELDS TERMINATED BY ',' \n",
    "LINES TERMINATED BY '\\r\\n'\n",
    "IGNORE 1 ROWS\n",
    "\"\"\"\n",
    "c.execute(loading_patient_diagnosis)\n",
    "# commit\n",
    "conn.commit()"
   ]
  },
  {
   "cell_type": "markdown",
   "metadata": {},
   "source": [
    "# Solutions to Exercise"
   ]
  },
  {
   "cell_type": "markdown",
   "metadata": {},
   "source": [
    "Exercise\n",
    "1.  How many patients does the clinic have for each cancer diagnosis?"
   ]
  },
  {
   "cell_type": "code",
   "execution_count": 5,
   "metadata": {
    "collapsed": false
   },
   "outputs": [
    {
     "data": {
      "text/html": [
       "<div>\n",
       "<table border=\"1\" class=\"dataframe\">\n",
       "  <thead>\n",
       "    <tr style=\"text-align: right;\">\n",
       "      <th></th>\n",
       "      <th>Diagnosis</th>\n",
       "      <th>count</th>\n",
       "    </tr>\n",
       "  </thead>\n",
       "  <tbody>\n",
       "    <tr>\n",
       "      <th>0</th>\n",
       "      <td>Breast Cancer</td>\n",
       "      <td>26</td>\n",
       "    </tr>\n",
       "    <tr>\n",
       "      <th>1</th>\n",
       "      <td>Colon Cancer</td>\n",
       "      <td>12</td>\n",
       "    </tr>\n",
       "  </tbody>\n",
       "</table>\n",
       "</div>"
      ],
      "text/plain": [
       "       Diagnosis  count\n",
       "0  Breast Cancer     26\n",
       "1   Colon Cancer     12"
      ]
     },
     "execution_count": 5,
     "metadata": {},
     "output_type": "execute_result"
    }
   ],
   "source": [
    "sql_exercise_1 = \"\"\"\n",
    "select \n",
    "Diagnosis,\n",
    "count(distinct Patient_ID) as count\n",
    "from flat_iron.patient_diagnosis\n",
    "group by 1\n",
    "order by 2 desc\n",
    "\"\"\"\n",
    "df_exercise_1 = pd.read_sql(sql_exercise_1,conn)\n",
    "df_exercise_1"
   ]
  },
  {
   "cell_type": "markdown",
   "metadata": {},
   "source": [
    "Solution  \n",
    "1.Count distinct Patient_ID in each diagnosis group. Results have been tabulated above.  \n",
    "  Time Spent : 2 minutes"
   ]
  },
  {
   "cell_type": "markdown",
   "metadata": {},
   "source": [
    "Exercise  \n",
    "2 . How long after being diagnosed does it take for a patient to start treatment?  Do any patients start treatment before being diagnosed?"
   ]
  },
  {
   "cell_type": "code",
   "execution_count": 6,
   "metadata": {
    "collapsed": false
   },
   "outputs": [
    {
     "data": {
      "text/html": [
       "\n",
       "\n",
       "    <div class=\"bk-root\">\n",
       "        <div class=\"plotdiv\" id=\"9127ae4d-ca11-42e0-bc3e-a3cbf00dc78c\"></div>\n",
       "    </div>\n",
       "<script type=\"text/javascript\">\n",
       "  \n",
       "  (function(global) {\n",
       "    function now() {\n",
       "      return new Date();\n",
       "    }\n",
       "  \n",
       "    if (typeof (window._bokeh_onload_callbacks) === \"undefined\") {\n",
       "      window._bokeh_onload_callbacks = [];\n",
       "    }\n",
       "  \n",
       "    function run_callbacks() {\n",
       "      window._bokeh_onload_callbacks.forEach(function(callback) { callback() });\n",
       "      delete window._bokeh_onload_callbacks\n",
       "      console.info(\"Bokeh: all callbacks have finished\");\n",
       "    }\n",
       "  \n",
       "    function load_libs(js_urls, callback) {\n",
       "      window._bokeh_onload_callbacks.push(callback);\n",
       "      if (window._bokeh_is_loading > 0) {\n",
       "        console.log(\"Bokeh: BokehJS is being loaded, scheduling callback at\", now());\n",
       "        return null;\n",
       "      }\n",
       "      if (js_urls == null || js_urls.length === 0) {\n",
       "        run_callbacks();\n",
       "        return null;\n",
       "      }\n",
       "      console.log(\"Bokeh: BokehJS not loaded, scheduling load and callback at\", now());\n",
       "      window._bokeh_is_loading = js_urls.length;\n",
       "      for (var i = 0; i < js_urls.length; i++) {\n",
       "        var url = js_urls[i];\n",
       "        var s = document.createElement('script');\n",
       "        s.src = url;\n",
       "        s.async = false;\n",
       "        s.onreadystatechange = s.onload = function() {\n",
       "          window._bokeh_is_loading--;\n",
       "          if (window._bokeh_is_loading === 0) {\n",
       "            console.log(\"Bokeh: all BokehJS libraries loaded\");\n",
       "            run_callbacks()\n",
       "          }\n",
       "        };\n",
       "        s.onerror = function() {\n",
       "          console.warn(\"failed to load library \" + url);\n",
       "        };\n",
       "        console.log(\"Bokeh: injecting script tag for BokehJS library: \", url);\n",
       "        document.getElementsByTagName(\"head\")[0].appendChild(s);\n",
       "      }\n",
       "    };var element = document.getElementById(\"9127ae4d-ca11-42e0-bc3e-a3cbf00dc78c\");\n",
       "    if (element == null) {\n",
       "      console.log(\"Bokeh: ERROR: autoload.js configured with elementid '9127ae4d-ca11-42e0-bc3e-a3cbf00dc78c' but no matching script tag was found. \")\n",
       "      return false;\n",
       "    }\n",
       "  \n",
       "    var js_urls = [];\n",
       "  \n",
       "    var inline_js = [\n",
       "      function(Bokeh) {\n",
       "        Bokeh.$(function() {\n",
       "            var docs_json = {\"d353f878-edcb-43a5-8c4b-72b128163562\":{\"roots\":{\"references\":[{\"attributes\":{\"data_source\":{\"id\":\"f4078f5a-bfee-4d56-81de-b10178e91011\",\"type\":\"ColumnDataSource\"},\"glyph\":{\"id\":\"4d00fd72-6604-47e7-9999-f49fbb5a0f76\",\"type\":\"Rect\"},\"hover_glyph\":null,\"nonselection_glyph\":null,\"selection_glyph\":null},\"id\":\"52ad325c-7f89-44ac-b3e7-9ed18e86070d\",\"type\":\"GlyphRenderer\"},{\"attributes\":{\"fill_alpha\":{\"field\":\"fill_alpha\"},\"fill_color\":{\"field\":\"color\"},\"height\":{\"field\":\"height\",\"units\":\"data\"},\"line_color\":{\"field\":\"line_color\"},\"width\":{\"field\":\"width\",\"units\":\"data\"},\"x\":{\"field\":\"x\"},\"y\":{\"field\":\"y\"}},\"id\":\"4d00fd72-6604-47e7-9999-f49fbb5a0f76\",\"type\":\"Rect\"},{\"attributes\":{\"callback\":null,\"column_names\":[\"color\",\"fill_alpha\",\"line_alpha\",\"height\",\"x\",\"label\",\"y\",\"width\",\"line_color\"],\"data\":{\"chart_index\":[\"(20.0, 40.0]\"],\"color\":[\"#f22c40\"],\"fill_alpha\":[0.8],\"height\":[6.0],\"label\":[\"(20.0, 40.0]\"],\"line_alpha\":[1.0],\"line_color\":[\"black\"],\"width\":[20],\"x\":[\"30.0\"],\"y\":[3.0]}},\"id\":\"601a1465-72fc-42f3-9979-6e01c3ef8a85\",\"type\":\"ColumnDataSource\"},{\"attributes\":{},\"id\":\"490f76e9-5fc1-4083-99a0-b9d32b2980bc\",\"type\":\"ToolEvents\"},{\"attributes\":{\"fill_alpha\":{\"field\":\"fill_alpha\"},\"fill_color\":{\"field\":\"color\"},\"height\":{\"field\":\"height\",\"units\":\"data\"},\"line_color\":{\"field\":\"line_color\"},\"width\":{\"field\":\"width\",\"units\":\"data\"},\"x\":{\"field\":\"x\"},\"y\":{\"field\":\"y\"}},\"id\":\"c2b10cc8-c7a0-4e3a-82fa-b335cdce084d\",\"type\":\"Rect\"},{\"attributes\":{\"plot\":{\"id\":\"78fbfe98-d413-4b38-a964-b074fde8e4ee\",\"subtype\":\"Chart\",\"type\":\"Plot\"}},\"id\":\"46b428d6-bca8-4d5a-9b92-f2430c19f26c\",\"type\":\"WheelZoomTool\"},{\"attributes\":{\"data_source\":{\"id\":\"1452b425-70d6-49ea-8f1a-6b3fa6f6008b\",\"type\":\"ColumnDataSource\"},\"glyph\":{\"id\":\"0ba5e66a-259b-4fc2-8c7f-1bc408d97ca7\",\"type\":\"Rect\"},\"hover_glyph\":null,\"nonselection_glyph\":null,\"selection_glyph\":null},\"id\":\"7929ad2e-e1c6-4847-97e8-28dd4ee9b734\",\"type\":\"GlyphRenderer\"},{\"attributes\":{},\"id\":\"e5b52e70-2f66-44dc-909f-a2976070418c\",\"type\":\"BasicTickFormatter\"},{\"attributes\":{\"overlay\":{\"id\":\"ac4e985a-ba30-4a58-ac79-e3403acfc9eb\",\"type\":\"BoxAnnotation\"},\"plot\":{\"id\":\"78fbfe98-d413-4b38-a964-b074fde8e4ee\",\"subtype\":\"Chart\",\"type\":\"Plot\"}},\"id\":\"8923ede8-db6f-4ea9-b402-d65c1967ba98\",\"type\":\"BoxZoomTool\"},{\"attributes\":{\"callback\":null,\"column_names\":[\"color\",\"fill_alpha\",\"line_alpha\",\"height\",\"x\",\"label\",\"y\",\"width\",\"line_color\"],\"data\":{\"chart_index\":[\"(0.0, 20.0]\"],\"color\":[\"#f22c40\"],\"fill_alpha\":[0.8],\"height\":[8.0],\"label\":[\"(0.0, 20.0]\"],\"line_alpha\":[1.0],\"line_color\":[\"black\"],\"width\":[20],\"x\":[\"10.0\"],\"y\":[4.0]}},\"id\":\"9b70deab-ce54-4a5c-b588-311b773f8239\",\"type\":\"ColumnDataSource\"},{\"attributes\":{\"callback\":null,\"column_names\":[\"color\",\"fill_alpha\",\"line_alpha\",\"height\",\"x\",\"label\",\"y\",\"width\",\"line_color\"],\"data\":{\"chart_index\":[\"(-40.0, -20.0]\"],\"color\":[\"#f22c40\"],\"fill_alpha\":[0.8],\"height\":[1.0],\"label\":[\"(-40.0, -20.0]\"],\"line_alpha\":[1.0],\"line_color\":[\"black\"],\"width\":[20],\"x\":[\"-30.0\"],\"y\":[0.5]}},\"id\":\"1452b425-70d6-49ea-8f1a-6b3fa6f6008b\",\"type\":\"ColumnDataSource\"},{\"attributes\":{},\"id\":\"13a0277a-8f4f-4df1-b282-aaff25031138\",\"type\":\"BasicTicker\"},{\"attributes\":{\"fill_alpha\":{\"field\":\"fill_alpha\"},\"fill_color\":{\"field\":\"color\"},\"height\":{\"field\":\"height\",\"units\":\"data\"},\"line_color\":{\"field\":\"line_color\"},\"width\":{\"field\":\"width\",\"units\":\"data\"},\"x\":{\"field\":\"x\"},\"y\":{\"field\":\"y\"}},\"id\":\"0ba5e66a-259b-4fc2-8c7f-1bc408d97ca7\",\"type\":\"Rect\"},{\"attributes\":{\"axis_label\":\"count\",\"formatter\":{\"id\":\"e5b52e70-2f66-44dc-909f-a2976070418c\",\"type\":\"BasicTickFormatter\"},\"plot\":{\"id\":\"78fbfe98-d413-4b38-a964-b074fde8e4ee\",\"subtype\":\"Chart\",\"type\":\"Plot\"},\"ticker\":{\"id\":\"a01e6ff8-aab1-4222-8350-c002865b7434\",\"type\":\"BasicTicker\"}},\"id\":\"4bc8b4d0-2bff-4ddb-af9f-898541292bc2\",\"type\":\"LinearAxis\"},{\"attributes\":{\"data_source\":{\"id\":\"601a1465-72fc-42f3-9979-6e01c3ef8a85\",\"type\":\"ColumnDataSource\"},\"glyph\":{\"id\":\"f9cf35dc-b14b-4e4d-b473-23967fbe4bf2\",\"type\":\"Rect\"},\"hover_glyph\":null,\"nonselection_glyph\":null,\"selection_glyph\":null},\"id\":\"3e5047d8-db27-4e7f-9716-509532da268d\",\"type\":\"GlyphRenderer\"},{\"attributes\":{\"dimension\":1,\"plot\":{\"id\":\"78fbfe98-d413-4b38-a964-b074fde8e4ee\",\"subtype\":\"Chart\",\"type\":\"Plot\"},\"ticker\":{\"id\":\"a01e6ff8-aab1-4222-8350-c002865b7434\",\"type\":\"BasicTicker\"}},\"id\":\"766086ad-14a1-45f1-84a0-1c3a7abd95ac\",\"type\":\"Grid\"},{\"attributes\":{\"below\":[{\"id\":\"10d5ba67-6387-46cb-b479-3d9f6cb06775\",\"type\":\"LinearAxis\"}],\"left\":[{\"id\":\"4bc8b4d0-2bff-4ddb-af9f-898541292bc2\",\"type\":\"LinearAxis\"}],\"renderers\":[{\"id\":\"ac4e985a-ba30-4a58-ac79-e3403acfc9eb\",\"type\":\"BoxAnnotation\"},{\"id\":\"52ad325c-7f89-44ac-b3e7-9ed18e86070d\",\"type\":\"GlyphRenderer\"},{\"id\":\"7929ad2e-e1c6-4847-97e8-28dd4ee9b734\",\"type\":\"GlyphRenderer\"},{\"id\":\"270fa5d1-adf4-4739-8941-0fdbb65ebd91\",\"type\":\"GlyphRenderer\"},{\"id\":\"69df6116-0175-4d0c-959f-8423dd560e5c\",\"type\":\"GlyphRenderer\"},{\"id\":\"3e5047d8-db27-4e7f-9716-509532da268d\",\"type\":\"GlyphRenderer\"},{\"id\":\"7bdecc21-0b41-42e7-9a2c-34ae4d93cbe2\",\"type\":\"GlyphRenderer\"},{\"id\":\"3e91dc0d-5c75-4bea-ae9e-c9665718c9cb\",\"type\":\"Legend\"},{\"id\":\"10d5ba67-6387-46cb-b479-3d9f6cb06775\",\"type\":\"LinearAxis\"},{\"id\":\"4bc8b4d0-2bff-4ddb-af9f-898541292bc2\",\"type\":\"LinearAxis\"},{\"id\":\"766086ad-14a1-45f1-84a0-1c3a7abd95ac\",\"type\":\"Grid\"}],\"title\":{\"id\":\"27f7424e-d838-4c09-a737-cb410ed7f5f5\",\"type\":\"Title\"},\"tool_events\":{\"id\":\"490f76e9-5fc1-4083-99a0-b9d32b2980bc\",\"type\":\"ToolEvents\"},\"toolbar\":{\"id\":\"e911faa0-79ca-4a4e-84a4-bb1f4579c899\",\"type\":\"Toolbar\"},\"x_mapper_type\":\"auto\",\"x_range\":{\"id\":\"96adc827-4bcd-4a0f-8d10-7ca83abcf36b\",\"type\":\"Range1d\"},\"y_mapper_type\":\"auto\",\"y_range\":{\"id\":\"31f0652b-edea-48fb-98fd-d684706f197e\",\"type\":\"Range1d\"}},\"id\":\"78fbfe98-d413-4b38-a964-b074fde8e4ee\",\"subtype\":\"Chart\",\"type\":\"Plot\"},{\"attributes\":{},\"id\":\"6a04ecd2-b9f5-47da-99e8-56a5a1d5a844\",\"type\":\"BasicTickFormatter\"},{\"attributes\":{\"callback\":null,\"column_names\":[\"color\",\"fill_alpha\",\"line_alpha\",\"height\",\"x\",\"label\",\"y\",\"width\",\"line_color\"],\"data\":{\"chart_index\":[\"(-20.0, 0.0]\"],\"color\":[\"#f22c40\"],\"fill_alpha\":[0.8],\"height\":[0.0],\"label\":[\"(-20.0, 0.0]\"],\"line_alpha\":[1.0],\"line_color\":[\"black\"],\"width\":[20],\"x\":[\"-10.0\"],\"y\":[0.0]}},\"id\":\"ad1ee7be-95e9-49c0-bd5e-b67e9222fb08\",\"type\":\"ColumnDataSource\"},{\"attributes\":{\"plot\":{\"id\":\"78fbfe98-d413-4b38-a964-b074fde8e4ee\",\"subtype\":\"Chart\",\"type\":\"Plot\"}},\"id\":\"99207b7d-48f9-46d3-bcab-71958591a2f2\",\"type\":\"ResetTool\"},{\"attributes\":{\"callback\":null,\"column_names\":[\"color\",\"fill_alpha\",\"line_alpha\",\"height\",\"x\",\"label\",\"y\",\"width\",\"line_color\"],\"data\":{\"chart_index\":[\"(40.0, 60.0]\"],\"color\":[\"#f22c40\"],\"fill_alpha\":[0.8],\"height\":[10.0],\"label\":[\"(40.0, 60.0]\"],\"line_alpha\":[1.0],\"line_color\":[\"black\"],\"width\":[20],\"x\":[\"50.0\"],\"y\":[5.0]}},\"id\":\"474cf0c4-64db-4674-bf5a-c3bc12f75db8\",\"type\":\"ColumnDataSource\"},{\"attributes\":{\"data_source\":{\"id\":\"ad1ee7be-95e9-49c0-bd5e-b67e9222fb08\",\"type\":\"ColumnDataSource\"},\"glyph\":{\"id\":\"a3fba217-ed35-40ae-8809-a79f9d19f963\",\"type\":\"Rect\"},\"hover_glyph\":null,\"nonselection_glyph\":null,\"selection_glyph\":null},\"id\":\"270fa5d1-adf4-4739-8941-0fdbb65ebd91\",\"type\":\"GlyphRenderer\"},{\"attributes\":{\"plot\":{\"id\":\"78fbfe98-d413-4b38-a964-b074fde8e4ee\",\"subtype\":\"Chart\",\"type\":\"Plot\"}},\"id\":\"a83088c3-8e11-4f88-9a6b-413f653b4144\",\"type\":\"SaveTool\"},{\"attributes\":{\"data_source\":{\"id\":\"9b70deab-ce54-4a5c-b588-311b773f8239\",\"type\":\"ColumnDataSource\"},\"glyph\":{\"id\":\"c2b10cc8-c7a0-4e3a-82fa-b335cdce084d\",\"type\":\"Rect\"},\"hover_glyph\":null,\"nonselection_glyph\":null,\"selection_glyph\":null},\"id\":\"69df6116-0175-4d0c-959f-8423dd560e5c\",\"type\":\"GlyphRenderer\"},{\"attributes\":{\"fill_alpha\":{\"field\":\"fill_alpha\"},\"fill_color\":{\"field\":\"color\"},\"height\":{\"field\":\"height\",\"units\":\"data\"},\"line_color\":{\"field\":\"line_color\"},\"width\":{\"field\":\"width\",\"units\":\"data\"},\"x\":{\"field\":\"x\"},\"y\":{\"field\":\"y\"}},\"id\":\"f9cf35dc-b14b-4e4d-b473-23967fbe4bf2\",\"type\":\"Rect\"},{\"attributes\":{\"plot\":null,\"text\":\"Time to Start Treatment\"},\"id\":\"27f7424e-d838-4c09-a737-cb410ed7f5f5\",\"type\":\"Title\"},{\"attributes\":{\"fill_alpha\":{\"field\":\"fill_alpha\"},\"fill_color\":{\"field\":\"color\"},\"height\":{\"field\":\"height\",\"units\":\"data\"},\"line_color\":{\"field\":\"line_color\"},\"width\":{\"field\":\"width\",\"units\":\"data\"},\"x\":{\"field\":\"x\"},\"y\":{\"field\":\"y\"}},\"id\":\"a3fba217-ed35-40ae-8809-a79f9d19f963\",\"type\":\"Rect\"},{\"attributes\":{\"plot\":{\"id\":\"78fbfe98-d413-4b38-a964-b074fde8e4ee\",\"subtype\":\"Chart\",\"type\":\"Plot\"}},\"id\":\"355ea292-643c-4d50-b737-18418de5aec5\",\"type\":\"HelpTool\"},{\"attributes\":{\"callback\":null,\"end\":11.0},\"id\":\"31f0652b-edea-48fb-98fd-d684706f197e\",\"type\":\"Range1d\"},{\"attributes\":{\"callback\":null,\"end\":60.0,\"start\":-60.0},\"id\":\"96adc827-4bcd-4a0f-8d10-7ca83abcf36b\",\"type\":\"Range1d\"},{\"attributes\":{\"bottom_units\":\"screen\",\"fill_alpha\":{\"value\":0.5},\"fill_color\":{\"value\":\"lightgrey\"},\"left_units\":\"screen\",\"level\":\"overlay\",\"line_alpha\":{\"value\":1.0},\"line_color\":{\"value\":\"black\"},\"line_dash\":[4,4],\"line_width\":{\"value\":2},\"plot\":null,\"render_mode\":\"css\",\"right_units\":\"screen\",\"top_units\":\"screen\"},\"id\":\"ac4e985a-ba30-4a58-ac79-e3403acfc9eb\",\"type\":\"BoxAnnotation\"},{\"attributes\":{\"active_drag\":\"auto\",\"active_scroll\":\"auto\",\"active_tap\":\"auto\",\"tools\":[{\"id\":\"ab5f1303-f71d-4c27-8108-dfa950758f81\",\"type\":\"PanTool\"},{\"id\":\"46b428d6-bca8-4d5a-9b92-f2430c19f26c\",\"type\":\"WheelZoomTool\"},{\"id\":\"8923ede8-db6f-4ea9-b402-d65c1967ba98\",\"type\":\"BoxZoomTool\"},{\"id\":\"a83088c3-8e11-4f88-9a6b-413f653b4144\",\"type\":\"SaveTool\"},{\"id\":\"99207b7d-48f9-46d3-bcab-71958591a2f2\",\"type\":\"ResetTool\"},{\"id\":\"355ea292-643c-4d50-b737-18418de5aec5\",\"type\":\"HelpTool\"}]},\"id\":\"e911faa0-79ca-4a4e-84a4-bb1f4579c899\",\"type\":\"Toolbar\"},{\"attributes\":{\"fill_alpha\":{\"field\":\"fill_alpha\"},\"fill_color\":{\"field\":\"color\"},\"height\":{\"field\":\"height\",\"units\":\"data\"},\"line_color\":{\"field\":\"line_color\"},\"width\":{\"field\":\"width\",\"units\":\"data\"},\"x\":{\"field\":\"x\"},\"y\":{\"field\":\"y\"}},\"id\":\"4c92dab6-a3a6-49a1-a753-a9e28ed7e9bb\",\"type\":\"Rect\"},{\"attributes\":{},\"id\":\"a01e6ff8-aab1-4222-8350-c002865b7434\",\"type\":\"BasicTicker\"},{\"attributes\":{\"plot\":{\"id\":\"78fbfe98-d413-4b38-a964-b074fde8e4ee\",\"subtype\":\"Chart\",\"type\":\"Plot\"}},\"id\":\"ab5f1303-f71d-4c27-8108-dfa950758f81\",\"type\":\"PanTool\"},{\"attributes\":{\"data_source\":{\"id\":\"474cf0c4-64db-4674-bf5a-c3bc12f75db8\",\"type\":\"ColumnDataSource\"},\"glyph\":{\"id\":\"4c92dab6-a3a6-49a1-a753-a9e28ed7e9bb\",\"type\":\"Rect\"},\"hover_glyph\":null,\"nonselection_glyph\":null,\"selection_glyph\":null},\"id\":\"7bdecc21-0b41-42e7-9a2c-34ae4d93cbe2\",\"type\":\"GlyphRenderer\"},{\"attributes\":{\"callback\":null,\"column_names\":[\"color\",\"fill_alpha\",\"line_alpha\",\"height\",\"x\",\"label\",\"y\",\"width\",\"line_color\"],\"data\":{\"chart_index\":[\"[-60.0, -40.0]\"],\"color\":[\"#f22c40\"],\"fill_alpha\":[0.8],\"height\":[1.0],\"label\":[\"[-60.0, -40.0]\"],\"line_alpha\":[1.0],\"line_color\":[\"black\"],\"width\":[20],\"x\":[\"-50.0\"],\"y\":[0.5]}},\"id\":\"f4078f5a-bfee-4d56-81de-b10178e91011\",\"type\":\"ColumnDataSource\"},{\"attributes\":{\"axis_label\":\"Time in days\",\"formatter\":{\"id\":\"6a04ecd2-b9f5-47da-99e8-56a5a1d5a844\",\"type\":\"BasicTickFormatter\"},\"plot\":{\"id\":\"78fbfe98-d413-4b38-a964-b074fde8e4ee\",\"subtype\":\"Chart\",\"type\":\"Plot\"},\"ticker\":{\"id\":\"13a0277a-8f4f-4df1-b282-aaff25031138\",\"type\":\"BasicTicker\"}},\"id\":\"10d5ba67-6387-46cb-b479-3d9f6cb06775\",\"type\":\"LinearAxis\"},{\"attributes\":{\"location\":\"top_left\",\"plot\":{\"id\":\"78fbfe98-d413-4b38-a964-b074fde8e4ee\",\"subtype\":\"Chart\",\"type\":\"Plot\"}},\"id\":\"3e91dc0d-5c75-4bea-ae9e-c9665718c9cb\",\"type\":\"Legend\"}],\"root_ids\":[\"78fbfe98-d413-4b38-a964-b074fde8e4ee\"]},\"title\":\"Bokeh Application\",\"version\":\"0.12.0\"}};\n",
       "            var render_items = [{\"docid\":\"d353f878-edcb-43a5-8c4b-72b128163562\",\"elementid\":\"9127ae4d-ca11-42e0-bc3e-a3cbf00dc78c\",\"modelid\":\"78fbfe98-d413-4b38-a964-b074fde8e4ee\",\"notebook_comms_target\":\"3052fd4d-2abd-4c12-807c-cd4c827c92f4\"}];\n",
       "            \n",
       "            Bokeh.embed.embed_items(docs_json, render_items);\n",
       "        });\n",
       "      },\n",
       "      function(Bokeh) {\n",
       "      }\n",
       "    ];\n",
       "  \n",
       "    function run_inline_js() {\n",
       "      for (var i = 0; i < inline_js.length; i++) {\n",
       "        inline_js[i](window.Bokeh);\n",
       "      }\n",
       "    }\n",
       "  \n",
       "    if (window._bokeh_is_loading === 0) {\n",
       "      console.log(\"Bokeh: BokehJS loaded, going straight to plotting\");\n",
       "      run_inline_js();\n",
       "    } else {\n",
       "      load_libs(js_urls, function() {\n",
       "        console.log(\"Bokeh: BokehJS plotting callback run at\", now());\n",
       "        run_inline_js();\n",
       "      });\n",
       "    }\n",
       "  }(this));\n",
       "</script>"
      ]
     },
     "metadata": {},
     "output_type": "display_data"
    },
    {
     "data": {
      "text/html": [
       "<p><code>&lt;Bokeh Notebook handle for <strong>In[6]</strong>&gt;</code></p>"
      ],
      "text/plain": [
       "<bokeh.io._CommsHandle at 0x114fa5240>"
      ]
     },
     "execution_count": 6,
     "metadata": {},
     "output_type": "execute_result"
    }
   ],
   "source": [
    "sql_exercise_2 = \"\"\"\n",
    "select \n",
    "t1.Patient_ID,\n",
    "DATEDIFF(min_date,diag_date) as diff\n",
    "from\n",
    "(select \n",
    "Patient_ID,\n",
    "min(Diagnosis_Date) as diag_date\n",
    "from\n",
    "flat_iron.patient_diagnosis\n",
    "group by 1 ) t1\n",
    "inner join\n",
    "\n",
    "(SELECT Patient_ID,\n",
    "min(Treatment_Date)  as min_date\n",
    "from\n",
    "flat_iron.patient_treatment\n",
    "group by 1) t2\n",
    "on t1.Patient_ID = t2.Patient_ID\n",
    "order by 1 \n",
    "\"\"\"\n",
    "df_exercise_2 = pd.read_sql(sql_exercise_2,conn)\n",
    "bins = np.arange(-60,80,20)\n",
    "hist = Histogram(df_exercise_2, values='diff',\n",
    "                 title=\"Time to Start Treatment\",bins = list(bins),xlabel= 'Time in days', ylabel = 'count')\n",
    "show(hist)\n",
    "\n"
   ]
  },
  {
   "cell_type": "code",
   "execution_count": 7,
   "metadata": {
    "collapsed": false
   },
   "outputs": [
    {
     "data": {
      "text/html": [
       "<div>\n",
       "<table border=\"1\" class=\"dataframe\">\n",
       "  <thead>\n",
       "    <tr style=\"text-align: right;\">\n",
       "      <th></th>\n",
       "      <th>Patient_ID</th>\n",
       "      <th>diff</th>\n",
       "    </tr>\n",
       "  </thead>\n",
       "  <tbody>\n",
       "    <tr>\n",
       "      <th>11</th>\n",
       "      <td>4374</td>\n",
       "      <td>-47</td>\n",
       "    </tr>\n",
       "    <tr>\n",
       "      <th>17</th>\n",
       "      <td>6877</td>\n",
       "      <td>-21</td>\n",
       "    </tr>\n",
       "  </tbody>\n",
       "</table>\n",
       "</div>"
      ],
      "text/plain": [
       "    Patient_ID  diff\n",
       "11        4374   -47\n",
       "17        6877   -21"
      ]
     },
     "execution_count": 7,
     "metadata": {},
     "output_type": "execute_result"
    }
   ],
   "source": [
    "# start treatment before being diagnosed\n",
    "df_exercise_2[df_exercise_2['diff'] < 0]"
   ]
  },
  {
   "cell_type": "code",
   "execution_count": 8,
   "metadata": {
    "collapsed": false
   },
   "outputs": [
    {
     "data": {
      "text/plain": [
       "count    25.000000\n",
       "mean     31.760000\n",
       "std      15.658544\n",
       "min       2.000000\n",
       "25%      17.000000\n",
       "50%      32.000000\n",
       "75%      43.000000\n",
       "max      70.000000\n",
       "Name: diff, dtype: float64"
      ]
     },
     "execution_count": 8,
     "metadata": {},
     "output_type": "execute_result"
    }
   ],
   "source": [
    "df_exercise_2[df_exercise_2['diff'] > 0].describe()['diff']"
   ]
  },
  {
   "cell_type": "markdown",
   "metadata": {},
   "source": [
    "Solution  \n",
    "Following assumtions were made to answer this question\n",
    "  * The minimum (or first in ascending order) date in patient_diagnosis data represents the start date of diagnosis\n",
    "  * The minimum (or first in ascending order) date in patient_treatment data represents the start date of treatment\n",
    "  * If there is no data for a Patient_ID in patient_diagnosis but not in patient_treatment we assume that treatment has not started for that particular patient. (Hence the inner join)\n",
    "\n",
    "```We can see from the histogram there are two Patient_ID ( i.e 4374,6877) have treatment start date before diagnosis date, we assume this is due to data anamoly and we remove them to answer \"How long after being diagnosed does it take for a patient to start treatment\". \n",
    "Hence we can see from the above results that the average time for a patient to start diagnosis is 32 (31.76 ) days and there is a 75% probability to have the diagnosis started before 43 days``` \n",
    "\n",
    "Time spent : 15 Minutes\n"
   ]
  },
  {
   "cell_type": "code",
   "execution_count": 9,
   "metadata": {
    "collapsed": false
   },
   "outputs": [],
   "source": [
    "sql_exercise_3 = \"\"\"\n",
    "SELECT \n",
    "Patient_ID,\n",
    "Drug_Code,\n",
    "DATEDIFF(max(Treatment_Date), min(Treatment_Date)) as len_treatment\n",
    "from\n",
    "flat_iron.patient_treatment\n",
    "group by 1,2\n",
    "order by 2 desc\n",
    "\"\"\"\n",
    "df_exercise_3 = pd.read_sql(sql_exercise_3,conn)"
   ]
  },
  {
   "cell_type": "code",
   "execution_count": 10,
   "metadata": {
    "collapsed": false
   },
   "outputs": [
    {
     "data": {
      "text/html": [
       "\n",
       "\n",
       "    <div class=\"bk-root\">\n",
       "        <div class=\"plotdiv\" id=\"f470947a-7e4c-42fd-b495-12d24962fa18\"></div>\n",
       "    </div>\n",
       "<script type=\"text/javascript\">\n",
       "  \n",
       "  (function(global) {\n",
       "    function now() {\n",
       "      return new Date();\n",
       "    }\n",
       "  \n",
       "    if (typeof (window._bokeh_onload_callbacks) === \"undefined\") {\n",
       "      window._bokeh_onload_callbacks = [];\n",
       "    }\n",
       "  \n",
       "    function run_callbacks() {\n",
       "      window._bokeh_onload_callbacks.forEach(function(callback) { callback() });\n",
       "      delete window._bokeh_onload_callbacks\n",
       "      console.info(\"Bokeh: all callbacks have finished\");\n",
       "    }\n",
       "  \n",
       "    function load_libs(js_urls, callback) {\n",
       "      window._bokeh_onload_callbacks.push(callback);\n",
       "      if (window._bokeh_is_loading > 0) {\n",
       "        console.log(\"Bokeh: BokehJS is being loaded, scheduling callback at\", now());\n",
       "        return null;\n",
       "      }\n",
       "      if (js_urls == null || js_urls.length === 0) {\n",
       "        run_callbacks();\n",
       "        return null;\n",
       "      }\n",
       "      console.log(\"Bokeh: BokehJS not loaded, scheduling load and callback at\", now());\n",
       "      window._bokeh_is_loading = js_urls.length;\n",
       "      for (var i = 0; i < js_urls.length; i++) {\n",
       "        var url = js_urls[i];\n",
       "        var s = document.createElement('script');\n",
       "        s.src = url;\n",
       "        s.async = false;\n",
       "        s.onreadystatechange = s.onload = function() {\n",
       "          window._bokeh_is_loading--;\n",
       "          if (window._bokeh_is_loading === 0) {\n",
       "            console.log(\"Bokeh: all BokehJS libraries loaded\");\n",
       "            run_callbacks()\n",
       "          }\n",
       "        };\n",
       "        s.onerror = function() {\n",
       "          console.warn(\"failed to load library \" + url);\n",
       "        };\n",
       "        console.log(\"Bokeh: injecting script tag for BokehJS library: \", url);\n",
       "        document.getElementsByTagName(\"head\")[0].appendChild(s);\n",
       "      }\n",
       "    };var element = document.getElementById(\"f470947a-7e4c-42fd-b495-12d24962fa18\");\n",
       "    if (element == null) {\n",
       "      console.log(\"Bokeh: ERROR: autoload.js configured with elementid 'f470947a-7e4c-42fd-b495-12d24962fa18' but no matching script tag was found. \")\n",
       "      return false;\n",
       "    }\n",
       "  \n",
       "    var js_urls = [];\n",
       "  \n",
       "    var inline_js = [\n",
       "      function(Bokeh) {\n",
       "        Bokeh.$(function() {\n",
       "            var docs_json = {\"46291495-5548-4972-9bc0-4d908a746b35\":{\"roots\":{\"references\":[{\"attributes\":{\"callback\":null,\"end\":132.3},\"id\":\"c17c002a-28f6-4f83-97e6-51f7e4370424\",\"type\":\"Range1d\"},{\"attributes\":{\"plot\":{\"id\":\"d3f03bd5-1829-4262-90c6-f59ac7d2e5fc\",\"subtype\":\"Chart\",\"type\":\"Plot\"}},\"id\":\"3b5ee077-dbcc-469d-965a-230a8ed51502\",\"type\":\"WheelZoomTool\"},{\"attributes\":{},\"id\":\"4ec2dd9c-cb46-427b-ab2c-8e19f5c7bbdf\",\"type\":\"CategoricalTickFormatter\"},{\"attributes\":{\"callback\":null,\"column_names\":[\"color\",\"fill_alpha\",\"line_alpha\",\"height\",\"x\",\"label\",\"y\",\"width\",\"line_color\"],\"data\":{\"Drug_Code\":[201],\"chart_index\":[{\"Drug_Code\":201}],\"color\":[\"red\"],\"fill_alpha\":[0.8],\"height\":[35.0],\"label\":[{\"Drug_Code\":201}],\"line_alpha\":[1.0],\"line_color\":[\"black\"],\"width\":[0.8],\"x\":[\"201\"],\"y\":[84.0]}},\"id\":\"c41c9a02-3f9f-457d-9e5b-565deed2970e\",\"type\":\"ColumnDataSource\"},{\"attributes\":{\"axis_label\":\"Len_Treatment\",\"formatter\":{\"id\":\"cc6c9bb6-62a2-4846-8e6a-3f9d9ca71654\",\"type\":\"BasicTickFormatter\"},\"plot\":{\"id\":\"d3f03bd5-1829-4262-90c6-f59ac7d2e5fc\",\"subtype\":\"Chart\",\"type\":\"Plot\"},\"ticker\":{\"id\":\"e394f0b9-7b1c-4639-bce7-e20ed9e3d5b0\",\"type\":\"BasicTicker\"}},\"id\":\"b138f9c6-e641-4dc2-8bc0-6d17bd2080c2\",\"type\":\"LinearAxis\"},{\"attributes\":{},\"id\":\"e394f0b9-7b1c-4639-bce7-e20ed9e3d5b0\",\"type\":\"BasicTicker\"},{\"attributes\":{\"data_source\":{\"id\":\"77113c9d-d762-4403-acab-e042616a3d1c\",\"type\":\"ColumnDataSource\"},\"glyph\":{\"id\":\"4aab22ff-664c-4575-b04e-f7e86d28c7bd\",\"type\":\"Segment\"},\"hover_glyph\":null,\"nonselection_glyph\":null,\"selection_glyph\":null},\"id\":\"c6fefbe2-6330-4d43-af73-99aa9a554c32\",\"type\":\"GlyphRenderer\"},{\"attributes\":{\"data_source\":{\"id\":\"c41c9a02-3f9f-457d-9e5b-565deed2970e\",\"type\":\"ColumnDataSource\"},\"glyph\":{\"id\":\"7e9e0bcb-386d-4f38-a85f-fad7ca69ebfe\",\"type\":\"Rect\"},\"hover_glyph\":null,\"nonselection_glyph\":null,\"selection_glyph\":null},\"id\":\"6bb44111-7204-455a-be9f-de5d75174866\",\"type\":\"GlyphRenderer\"},{\"attributes\":{\"dimension\":1,\"plot\":{\"id\":\"d3f03bd5-1829-4262-90c6-f59ac7d2e5fc\",\"subtype\":\"Chart\",\"type\":\"Plot\"},\"ticker\":{\"id\":\"e394f0b9-7b1c-4639-bce7-e20ed9e3d5b0\",\"type\":\"BasicTicker\"}},\"id\":\"1e209df8-9f20-4297-af4b-380adca0d402\",\"type\":\"Grid\"},{\"attributes\":{\"below\":[{\"id\":\"add4aab5-552b-4f2a-b063-96753a9583f5\",\"type\":\"CategoricalAxis\"}],\"left\":[{\"id\":\"b138f9c6-e641-4dc2-8bc0-6d17bd2080c2\",\"type\":\"LinearAxis\"}],\"renderers\":[{\"id\":\"e90e479b-ef0a-47b3-a5bc-7a028bb9dde4\",\"type\":\"BoxAnnotation\"},{\"id\":\"f17f36b7-268f-41c1-b247-f5607c51071c\",\"type\":\"GlyphRenderer\"},{\"id\":\"470ee07e-b2a8-4519-85c7-9ceb8505115d\",\"type\":\"GlyphRenderer\"},{\"id\":\"55f74d86-3b71-40b1-9d8c-e3e061ffcc34\",\"type\":\"GlyphRenderer\"},{\"id\":\"e107e618-9040-46be-8cec-b6d8fb0339c4\",\"type\":\"GlyphRenderer\"},{\"id\":\"6bb44111-7204-455a-be9f-de5d75174866\",\"type\":\"GlyphRenderer\"},{\"id\":\"c6fefbe2-6330-4d43-af73-99aa9a554c32\",\"type\":\"GlyphRenderer\"},{\"id\":\"2add674f-afeb-42ca-a602-f5897223fd72\",\"type\":\"Legend\"},{\"id\":\"add4aab5-552b-4f2a-b063-96753a9583f5\",\"type\":\"CategoricalAxis\"},{\"id\":\"b138f9c6-e641-4dc2-8bc0-6d17bd2080c2\",\"type\":\"LinearAxis\"},{\"id\":\"1e209df8-9f20-4297-af4b-380adca0d402\",\"type\":\"Grid\"}],\"title\":{\"id\":\"e7d7dab1-4387-4ca1-8d28-5f36d4e72b5a\",\"type\":\"Title\"},\"tool_events\":{\"id\":\"e74dfefc-6607-410d-89f0-8b30abc83199\",\"type\":\"ToolEvents\"},\"toolbar\":{\"id\":\"f32ce47a-5d7e-41cf-9116-2441dd41ae65\",\"type\":\"Toolbar\"},\"x_mapper_type\":\"auto\",\"x_range\":{\"id\":\"587b7004-21a0-4a5c-99a8-0aa1aa1dddba\",\"type\":\"FactorRange\"},\"y_mapper_type\":\"auto\",\"y_range\":{\"id\":\"c17c002a-28f6-4f83-97e6-51f7e4370424\",\"type\":\"Range1d\"}},\"id\":\"d3f03bd5-1829-4262-90c6-f59ac7d2e5fc\",\"subtype\":\"Chart\",\"type\":\"Plot\"},{\"attributes\":{\"fill_alpha\":{\"field\":\"fill_alpha\"},\"fill_color\":{\"field\":\"color\"},\"height\":{\"field\":\"height\",\"units\":\"data\"},\"line_color\":{\"field\":\"line_color\"},\"width\":{\"field\":\"width\",\"units\":\"data\"},\"x\":{\"field\":\"x\"},\"y\":{\"field\":\"y\"}},\"id\":\"cbf070ed-507a-49d1-8b4c-b3b1ab64e626\",\"type\":\"Rect\"},{\"attributes\":{\"callback\":null,\"column_names\":[\"y0s\",\"x1s\",\"x0s\",\"y1s\"],\"data\":{\"Drug_Code\":[202,202,202,202],\"chart_index\":[{\"Drug_Code\":202},{\"Drug_Code\":202},{\"Drug_Code\":202},{\"Drug_Code\":202}],\"x0s\":[\"202:0.5\",\"202:0.65\",\"202:0.5\",\"202:0.65\"],\"x1s\":[\"202:0.5\",\"202:0.35\",\"202:0.5\",\"202:0.35\"],\"y0s\":[0.0,0.0,21.0,21.0],\"y1s\":[7.0,0.0,21.0,21.0]}},\"id\":\"44cc25d5-4503-4b15-8aa6-70212d7ce72a\",\"type\":\"ColumnDataSource\"},{\"attributes\":{\"plot\":null,\"text\":\"Boxplot of length of treatment between Drug 201 and Drug 202\"},\"id\":\"e7d7dab1-4387-4ca1-8d28-5f36d4e72b5a\",\"type\":\"Title\"},{\"attributes\":{\"active_drag\":\"auto\",\"active_scroll\":\"auto\",\"active_tap\":\"auto\",\"tools\":[{\"id\":\"9117b09a-8149-4466-bbd4-a270c996110e\",\"type\":\"PanTool\"},{\"id\":\"3b5ee077-dbcc-469d-965a-230a8ed51502\",\"type\":\"WheelZoomTool\"},{\"id\":\"cfbb0fb7-54a5-4ace-a4aa-cb3afec23800\",\"type\":\"BoxZoomTool\"},{\"id\":\"b4ac1b85-bba3-4bc5-903f-4a2799a9f722\",\"type\":\"SaveTool\"},{\"id\":\"d880b1ed-ddfc-4c8c-ad68-2679297c3791\",\"type\":\"ResetTool\"},{\"id\":\"b8a846b5-0f52-49ac-8dd7-f37e14260d9c\",\"type\":\"HelpTool\"}]},\"id\":\"f32ce47a-5d7e-41cf-9116-2441dd41ae65\",\"type\":\"Toolbar\"},{\"attributes\":{},\"id\":\"b4ca2a47-22b1-4a3f-ba82-fc575ddeac18\",\"type\":\"CategoricalTicker\"},{\"attributes\":{\"callback\":null,\"column_names\":[\"color\",\"fill_alpha\",\"line_alpha\",\"height\",\"x\",\"label\",\"y\",\"width\",\"line_color\"],\"data\":{\"Drug_Code\":[202],\"chart_index\":[{\"Drug_Code\":202}],\"color\":[\"red\"],\"fill_alpha\":[0.8],\"height\":[14.0],\"label\":[{\"Drug_Code\":202}],\"line_alpha\":[1.0],\"line_color\":[\"black\"],\"width\":[0.8],\"x\":[\"202\"],\"y\":[14.0]}},\"id\":\"3f7a647d-07e1-4baa-af4a-d3a625845861\",\"type\":\"ColumnDataSource\"},{\"attributes\":{\"data_source\":{\"id\":\"44cc25d5-4503-4b15-8aa6-70212d7ce72a\",\"type\":\"ColumnDataSource\"},\"glyph\":{\"id\":\"88784d92-ca40-447c-baab-8aeb34894f5c\",\"type\":\"Segment\"},\"hover_glyph\":null,\"nonselection_glyph\":null,\"selection_glyph\":null},\"id\":\"55f74d86-3b71-40b1-9d8c-e3e061ffcc34\",\"type\":\"GlyphRenderer\"},{\"attributes\":{\"callback\":null,\"column_names\":[\"color\",\"fill_alpha\",\"line_alpha\",\"height\",\"x\",\"label\",\"y\",\"width\",\"line_color\"],\"data\":{\"Drug_Code\":[202],\"chart_index\":[{\"Drug_Code\":202}],\"color\":[\"red\"],\"fill_alpha\":[0.8],\"height\":[0.0],\"label\":[{\"Drug_Code\":202}],\"line_alpha\":[1.0],\"line_color\":[\"black\"],\"width\":[0.8],\"x\":[\"202\"],\"y\":[7.0]}},\"id\":\"b6757beb-f028-430c-841d-5b75af49f233\",\"type\":\"ColumnDataSource\"},{\"attributes\":{\"callback\":null,\"column_names\":[\"color\",\"fill_alpha\",\"line_alpha\",\"height\",\"x\",\"label\",\"y\",\"width\",\"line_color\"],\"data\":{\"Drug_Code\":[201],\"chart_index\":[{\"Drug_Code\":201}],\"color\":[\"red\"],\"fill_alpha\":[0.8],\"height\":[22.75],\"label\":[{\"Drug_Code\":201}],\"line_alpha\":[1.0],\"line_color\":[\"black\"],\"width\":[0.8],\"x\":[\"201\"],\"y\":[55.125]}},\"id\":\"2e3a2c75-e9e2-44ea-b3f9-57cabd043068\",\"type\":\"ColumnDataSource\"},{\"attributes\":{\"data_source\":{\"id\":\"b6757beb-f028-430c-841d-5b75af49f233\",\"type\":\"ColumnDataSource\"},\"glyph\":{\"id\":\"de25f9aa-0ac1-43c6-9b48-c3c117dea443\",\"type\":\"Rect\"},\"hover_glyph\":null,\"nonselection_glyph\":null,\"selection_glyph\":null},\"id\":\"f17f36b7-268f-41c1-b247-f5607c51071c\",\"type\":\"GlyphRenderer\"},{\"attributes\":{\"data_source\":{\"id\":\"3f7a647d-07e1-4baa-af4a-d3a625845861\",\"type\":\"ColumnDataSource\"},\"glyph\":{\"id\":\"cbf070ed-507a-49d1-8b4c-b3b1ab64e626\",\"type\":\"Rect\"},\"hover_glyph\":null,\"nonselection_glyph\":null,\"selection_glyph\":null},\"id\":\"470ee07e-b2a8-4519-85c7-9ceb8505115d\",\"type\":\"GlyphRenderer\"},{\"attributes\":{\"axis_label\":\"Drug_Code\",\"formatter\":{\"id\":\"4ec2dd9c-cb46-427b-ab2c-8e19f5c7bbdf\",\"type\":\"CategoricalTickFormatter\"},\"major_label_orientation\":0.7853981633974483,\"plot\":{\"id\":\"d3f03bd5-1829-4262-90c6-f59ac7d2e5fc\",\"subtype\":\"Chart\",\"type\":\"Plot\"},\"ticker\":{\"id\":\"b4ca2a47-22b1-4a3f-ba82-fc575ddeac18\",\"type\":\"CategoricalTicker\"}},\"id\":\"add4aab5-552b-4f2a-b063-96753a9583f5\",\"type\":\"CategoricalAxis\"},{\"attributes\":{\"data_source\":{\"id\":\"2e3a2c75-e9e2-44ea-b3f9-57cabd043068\",\"type\":\"ColumnDataSource\"},\"glyph\":{\"id\":\"059fbe88-dc10-4bce-a5aa-fc3bb04ca556\",\"type\":\"Rect\"},\"hover_glyph\":null,\"nonselection_glyph\":null,\"selection_glyph\":null},\"id\":\"e107e618-9040-46be-8cec-b6d8fb0339c4\",\"type\":\"GlyphRenderer\"},{\"attributes\":{\"line_width\":{\"value\":2},\"x0\":{\"field\":\"x0s\"},\"x1\":{\"field\":\"x1s\"},\"y0\":{\"field\":\"y0s\"},\"y1\":{\"field\":\"y1s\"}},\"id\":\"4aab22ff-664c-4575-b04e-f7e86d28c7bd\",\"type\":\"Segment\"},{\"attributes\":{\"fill_alpha\":{\"field\":\"fill_alpha\"},\"fill_color\":{\"field\":\"color\"},\"height\":{\"field\":\"height\",\"units\":\"data\"},\"line_color\":{\"field\":\"line_color\"},\"width\":{\"field\":\"width\",\"units\":\"data\"},\"x\":{\"field\":\"x\"},\"y\":{\"field\":\"y\"}},\"id\":\"7e9e0bcb-386d-4f38-a85f-fad7ca69ebfe\",\"type\":\"Rect\"},{\"attributes\":{\"plot\":{\"id\":\"d3f03bd5-1829-4262-90c6-f59ac7d2e5fc\",\"subtype\":\"Chart\",\"type\":\"Plot\"}},\"id\":\"b8a846b5-0f52-49ac-8dd7-f37e14260d9c\",\"type\":\"HelpTool\"},{\"attributes\":{\"line_width\":{\"value\":2},\"x0\":{\"field\":\"x0s\"},\"x1\":{\"field\":\"x1s\"},\"y0\":{\"field\":\"y0s\"},\"y1\":{\"field\":\"y1s\"}},\"id\":\"88784d92-ca40-447c-baab-8aeb34894f5c\",\"type\":\"Segment\"},{\"attributes\":{\"legends\":[[\"202\",[{\"id\":\"f17f36b7-268f-41c1-b247-f5607c51071c\",\"type\":\"GlyphRenderer\"},{\"id\":\"470ee07e-b2a8-4519-85c7-9ceb8505115d\",\"type\":\"GlyphRenderer\"},{\"id\":\"55f74d86-3b71-40b1-9d8c-e3e061ffcc34\",\"type\":\"GlyphRenderer\"}]],[\"201\",[{\"id\":\"e107e618-9040-46be-8cec-b6d8fb0339c4\",\"type\":\"GlyphRenderer\"},{\"id\":\"6bb44111-7204-455a-be9f-de5d75174866\",\"type\":\"GlyphRenderer\"},{\"id\":\"c6fefbe2-6330-4d43-af73-99aa9a554c32\",\"type\":\"GlyphRenderer\"}]]],\"location\":\"top_left\",\"plot\":{\"id\":\"d3f03bd5-1829-4262-90c6-f59ac7d2e5fc\",\"subtype\":\"Chart\",\"type\":\"Plot\"}},\"id\":\"2add674f-afeb-42ca-a602-f5897223fd72\",\"type\":\"Legend\"},{\"attributes\":{\"fill_alpha\":{\"field\":\"fill_alpha\"},\"fill_color\":{\"field\":\"color\"},\"height\":{\"field\":\"height\",\"units\":\"data\"},\"line_color\":{\"field\":\"line_color\"},\"width\":{\"field\":\"width\",\"units\":\"data\"},\"x\":{\"field\":\"x\"},\"y\":{\"field\":\"y\"}},\"id\":\"059fbe88-dc10-4bce-a5aa-fc3bb04ca556\",\"type\":\"Rect\"},{\"attributes\":{\"bottom_units\":\"screen\",\"fill_alpha\":{\"value\":0.5},\"fill_color\":{\"value\":\"lightgrey\"},\"left_units\":\"screen\",\"level\":\"overlay\",\"line_alpha\":{\"value\":1.0},\"line_color\":{\"value\":\"black\"},\"line_dash\":[4,4],\"line_width\":{\"value\":2},\"plot\":null,\"render_mode\":\"css\",\"right_units\":\"screen\",\"top_units\":\"screen\"},\"id\":\"e90e479b-ef0a-47b3-a5bc-7a028bb9dde4\",\"type\":\"BoxAnnotation\"},{\"attributes\":{},\"id\":\"cc6c9bb6-62a2-4846-8e6a-3f9d9ca71654\",\"type\":\"BasicTickFormatter\"},{\"attributes\":{\"callback\":null,\"factors\":[\"201\",\"202\"]},\"id\":\"587b7004-21a0-4a5c-99a8-0aa1aa1dddba\",\"type\":\"FactorRange\"},{\"attributes\":{},\"id\":\"e74dfefc-6607-410d-89f0-8b30abc83199\",\"type\":\"ToolEvents\"},{\"attributes\":{\"callback\":null,\"column_names\":[\"y0s\",\"x1s\",\"x0s\",\"y1s\"],\"data\":{\"Drug_Code\":[201,201,201,201],\"chart_index\":[{\"Drug_Code\":201},{\"Drug_Code\":201},{\"Drug_Code\":201},{\"Drug_Code\":201}],\"x0s\":[\"201:0.5\",\"201:0.65\",\"201:0.5\",\"201:0.65\"],\"x1s\":[\"201:0.5\",\"201:0.35\",\"201:0.5\",\"201:0.35\"],\"y0s\":[28.0,28.0,101.5,126.0],\"y1s\":[43.75,28.0,126.0,126.0]}},\"id\":\"77113c9d-d762-4403-acab-e042616a3d1c\",\"type\":\"ColumnDataSource\"},{\"attributes\":{\"plot\":{\"id\":\"d3f03bd5-1829-4262-90c6-f59ac7d2e5fc\",\"subtype\":\"Chart\",\"type\":\"Plot\"}},\"id\":\"b4ac1b85-bba3-4bc5-903f-4a2799a9f722\",\"type\":\"SaveTool\"},{\"attributes\":{\"plot\":{\"id\":\"d3f03bd5-1829-4262-90c6-f59ac7d2e5fc\",\"subtype\":\"Chart\",\"type\":\"Plot\"}},\"id\":\"d880b1ed-ddfc-4c8c-ad68-2679297c3791\",\"type\":\"ResetTool\"},{\"attributes\":{\"fill_alpha\":{\"field\":\"fill_alpha\"},\"fill_color\":{\"field\":\"color\"},\"height\":{\"field\":\"height\",\"units\":\"data\"},\"line_color\":{\"field\":\"line_color\"},\"width\":{\"field\":\"width\",\"units\":\"data\"},\"x\":{\"field\":\"x\"},\"y\":{\"field\":\"y\"}},\"id\":\"de25f9aa-0ac1-43c6-9b48-c3c117dea443\",\"type\":\"Rect\"},{\"attributes\":{\"overlay\":{\"id\":\"e90e479b-ef0a-47b3-a5bc-7a028bb9dde4\",\"type\":\"BoxAnnotation\"},\"plot\":{\"id\":\"d3f03bd5-1829-4262-90c6-f59ac7d2e5fc\",\"subtype\":\"Chart\",\"type\":\"Plot\"}},\"id\":\"cfbb0fb7-54a5-4ace-a4aa-cb3afec23800\",\"type\":\"BoxZoomTool\"},{\"attributes\":{\"plot\":{\"id\":\"d3f03bd5-1829-4262-90c6-f59ac7d2e5fc\",\"subtype\":\"Chart\",\"type\":\"Plot\"}},\"id\":\"9117b09a-8149-4466-bbd4-a270c996110e\",\"type\":\"PanTool\"}],\"root_ids\":[\"d3f03bd5-1829-4262-90c6-f59ac7d2e5fc\"]},\"title\":\"Bokeh Application\",\"version\":\"0.12.0\"}};\n",
       "            var render_items = [{\"docid\":\"46291495-5548-4972-9bc0-4d908a746b35\",\"elementid\":\"f470947a-7e4c-42fd-b495-12d24962fa18\",\"modelid\":\"d3f03bd5-1829-4262-90c6-f59ac7d2e5fc\",\"notebook_comms_target\":\"e4931fce-368e-4b28-af02-fc7b19cd765a\"}];\n",
       "            \n",
       "            Bokeh.embed.embed_items(docs_json, render_items);\n",
       "        });\n",
       "      },\n",
       "      function(Bokeh) {\n",
       "      }\n",
       "    ];\n",
       "  \n",
       "    function run_inline_js() {\n",
       "      for (var i = 0; i < inline_js.length; i++) {\n",
       "        inline_js[i](window.Bokeh);\n",
       "      }\n",
       "    }\n",
       "  \n",
       "    if (window._bokeh_is_loading === 0) {\n",
       "      console.log(\"Bokeh: BokehJS loaded, going straight to plotting\");\n",
       "      run_inline_js();\n",
       "    } else {\n",
       "      load_libs(js_urls, function() {\n",
       "        console.log(\"Bokeh: BokehJS plotting callback run at\", now());\n",
       "        run_inline_js();\n",
       "      });\n",
       "    }\n",
       "  }(this));\n",
       "</script>"
      ]
     },
     "metadata": {},
     "output_type": "display_data"
    },
    {
     "name": "stdout",
     "output_type": "stream",
     "text": [
      "Mean of Each Group\n",
      "Drug_Code\n",
      "201    72.000000\n",
      "202    10.769231\n",
      "Name: len_treatment, dtype: float64\n",
      "\n",
      " p value is : \n",
      "0.0002\n"
     ]
    }
   ],
   "source": [
    "### Box plot \n",
    "p = BoxPlot(df_exercise_3, values='len_treatment', label='Drug_Code',\n",
    "            title=\"Boxplot of length of treatment between Drug 201 and Drug 202\",color='red')\n",
    "show(p)\n",
    "\n",
    "## Print mean of each drug group\n",
    "print('Mean of Each Group')\n",
    "print(df_exercise_3.pivot_table( columns= 'Drug_Code' , values= 'len_treatment', aggfunc= np.mean))\n",
    "\n",
    "\n",
    "### do a Null hypothesis test using permutation test\n",
    "\n",
    "observed1 = df_exercise_3.pivot_table( columns= 'Drug_Code' , values= 'len_treatment', aggfunc= np.median)[201] \n",
    "observed2 = df_exercise_3.pivot_table( columns= 'Drug_Code' , values= 'len_treatment', aggfunc= np.median)[202] \n",
    "observed = observed1 - observed2\n",
    "\n",
    "result = pd.Series(np.zeros(10**4 -1))\n",
    "def permute_test(d  = 0):\n",
    "    n = len(df_exercise_3)\n",
    "    c = len(df_exercise_3[df_exercise_3['Drug_Code']==201])             \n",
    "    index=np.random.choice(np.arange(0,n,1), size = c, replace = False)\n",
    "    not_index = np.setdiff1d(np.arange(0,n,1),index , assume_unique = True)\n",
    "    return df_exercise_3['len_treatment'].iloc[index].median() - df_exercise_3['len_treatment'].iloc[not_index].median()\n",
    "result=result.apply(permute_test)\n",
    "# calculating P value\n",
    "# calculating P value\n",
    "p_value = ((result >= observed).sum() +1)/(10**4)\n",
    "#### Print p value\n",
    "print('\\n p value is : ')\n",
    "print(p_value)"
   ]
  },
  {
   "cell_type": "markdown",
   "metadata": {},
   "source": [
    "Exercise  \n",
    "3 . Is there a difference between Drug 201 and Drug 202 in terms of length of treatment?"
   ]
  },
  {
   "cell_type": "markdown",
   "metadata": {},
   "source": [
    "Following assumptions were made to answer the question\n",
    "  * The minimum (or first in ascending order) date in patient_treatment data represents the start date of treatment\n",
    "  * The maximum (or last in ascending order) date in patient_treatment data represents the end date of treatment\n",
    "  * length of treatment = End date - Start date \n",
    "  \n",
    "We cleary notice from the Box plot that Drug 201 has higher length of treatment than Drug 202. Also the mean for Drug 201 is 72 days while for Drug 202 is 11(10.76) days.\n",
    "\n",
    " Permutation test with the following Hypothesis:\n",
    " * $H_0$ : $\\mu_{201} = \\mu_{202}$\n",
    " * $H_A$ : $\\mu_{201} > \\mu_{202}$\n",
    " \n",
    "where $\\mu_{201} \\ and \\  \\mu_{202}$ are median for Drug 201 and Drug 202 respectively\n",
    "\n",
    "```We do 10000 iteration and observe a p value = 0.002 , hence we can reject the null hypothesis at a 1% significance level and accept the alternative hypothesis```\n",
    "\n",
    "Hence we can conclude that Drug 201 has higher length of treatment than Drug 202\n",
    "\n",
    "Time spent : 30 minutes\n",
    "\n",
    "\n"
   ]
  },
  {
   "cell_type": "code",
   "execution_count": 11,
   "metadata": {
    "collapsed": false
   },
   "outputs": [],
   "source": [
    "# close the connection\n",
    "conn.close()"
   ]
  }
 ],
 "metadata": {
  "anaconda-cloud": {},
  "kernelspec": {
   "display_name": "Python 3",
   "language": "python",
   "name": "python3"
  },
  "language_info": {
   "codemirror_mode": {
    "name": "ipython",
    "version": 3
   },
   "file_extension": ".py",
   "mimetype": "text/x-python",
   "name": "python",
   "nbconvert_exporter": "python",
   "pygments_lexer": "ipython3",
   "version": "3.5.1"
  }
 },
 "nbformat": 4,
 "nbformat_minor": 0
}
