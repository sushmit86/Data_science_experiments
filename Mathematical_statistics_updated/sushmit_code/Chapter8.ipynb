{
 "cells": [
  {
   "cell_type": "code",
   "execution_count": 46,
   "id": "26b047bc",
   "metadata": {},
   "outputs": [],
   "source": [
    "import pandas as pd\n",
    "import numpy as np\n",
    "import matplotlib.pyplot as plt\n",
    "import seaborn as sns\n",
    "from scipy.stats import t,binom,ttest_1samp,ttest_ind,norm,ttest_rel\n",
    "import statsmodels.api as sm\n",
    "plt.style.use('fivethirtyeight')\n"
   ]
  },
  {
   "cell_type": "code",
   "execution_count": 2,
   "id": "7b967e61",
   "metadata": {},
   "outputs": [
    {
     "name": "stdout",
     "output_type": "stream",
     "text": [
      "P value 0.03662922171990759\n"
     ]
    }
   ],
   "source": [
    "obeserved_value = 6.6\n",
    "comapred_mean = 7\n",
    "sd_obs = 0.8\n",
    "N = 15\n",
    "t_test = (obeserved_value - comapred_mean)/(sd_obs/np.sqrt(N))\n",
    "t_test\n",
    "print('P value',t.cdf(t_test,14))"
   ]
  },
  {
   "cell_type": "code",
   "execution_count": 3,
   "id": "4d3f6636",
   "metadata": {},
   "outputs": [
    {
     "name": "stdout",
     "output_type": "stream",
     "text": [
      "0.026674944286108837\n"
     ]
    }
   ],
   "source": [
    "value_to_compare = 0.13\n",
    "p_value = 1 - binom.cdf(35,200,0.13)\n",
    "print(p_value)"
   ]
  },
  {
   "cell_type": "code",
   "execution_count": 4,
   "id": "b7549942",
   "metadata": {},
   "outputs": [
    {
     "data": {
      "text/html": [
       "<div>\n",
       "<style scoped>\n",
       "    .dataframe tbody tr th:only-of-type {\n",
       "        vertical-align: middle;\n",
       "    }\n",
       "\n",
       "    .dataframe tbody tr th {\n",
       "        vertical-align: top;\n",
       "    }\n",
       "\n",
       "    .dataframe thead th {\n",
       "        text-align: right;\n",
       "    }\n",
       "</style>\n",
       "<table border=\"1\" class=\"dataframe\">\n",
       "  <thead>\n",
       "    <tr style=\"text-align: right;\">\n",
       "      <th></th>\n",
       "      <th>Arsenic</th>\n",
       "      <th>Chlorine</th>\n",
       "      <th>Cobalt</th>\n",
       "    </tr>\n",
       "  </thead>\n",
       "  <tbody>\n",
       "    <tr>\n",
       "      <th>count</th>\n",
       "      <td>271.000000</td>\n",
       "      <td>269.000000</td>\n",
       "      <td>270.000000</td>\n",
       "    </tr>\n",
       "    <tr>\n",
       "      <th>mean</th>\n",
       "      <td>125.319926</td>\n",
       "      <td>78.084015</td>\n",
       "      <td>0.503778</td>\n",
       "    </tr>\n",
       "    <tr>\n",
       "      <th>std</th>\n",
       "      <td>297.975491</td>\n",
       "      <td>210.019193</td>\n",
       "      <td>0.377409</td>\n",
       "    </tr>\n",
       "    <tr>\n",
       "      <th>min</th>\n",
       "      <td>0.500000</td>\n",
       "      <td>1.000000</td>\n",
       "      <td>0.050000</td>\n",
       "    </tr>\n",
       "    <tr>\n",
       "      <th>25%</th>\n",
       "      <td>6.000000</td>\n",
       "      <td>5.000000</td>\n",
       "      <td>0.282500</td>\n",
       "    </tr>\n",
       "    <tr>\n",
       "      <th>50%</th>\n",
       "      <td>22.000000</td>\n",
       "      <td>14.200000</td>\n",
       "      <td>0.410000</td>\n",
       "    </tr>\n",
       "    <tr>\n",
       "      <th>75%</th>\n",
       "      <td>109.000000</td>\n",
       "      <td>55.500000</td>\n",
       "      <td>0.630000</td>\n",
       "    </tr>\n",
       "    <tr>\n",
       "      <th>max</th>\n",
       "      <td>2400.000000</td>\n",
       "      <td>1550.000000</td>\n",
       "      <td>3.180000</td>\n",
       "    </tr>\n",
       "  </tbody>\n",
       "</table>\n",
       "</div>"
      ],
      "text/plain": [
       "           Arsenic     Chlorine      Cobalt\n",
       "count   271.000000   269.000000  270.000000\n",
       "mean    125.319926    78.084015    0.503778\n",
       "std     297.975491   210.019193    0.377409\n",
       "min       0.500000     1.000000    0.050000\n",
       "25%       6.000000     5.000000    0.282500\n",
       "50%      22.000000    14.200000    0.410000\n",
       "75%     109.000000    55.500000    0.630000\n",
       "max    2400.000000  1550.000000    3.180000"
      ]
     },
     "execution_count": 4,
     "metadata": {},
     "output_type": "execute_result"
    }
   ],
   "source": [
    "df_bangladesh = pd.read_csv('Data/Bangladesh.csv')\n",
    "df_bangladesh.describe()"
   ]
  },
  {
   "cell_type": "code",
   "execution_count": 5,
   "id": "1fd03e14",
   "metadata": {},
   "outputs": [
    {
     "data": {
      "image/png": "[encoded data removed]",
      "text/plain": [
       "<Figure size 720x576 with 1 Axes>"
      ]
     },
     "metadata": {},
     "output_type": "display_data"
    }
   ],
   "source": [
    "fig,axs = plt.subplots(1,1,figsize = (10,8))\n",
    "sns.histplot(df_bangladesh.Arsenic,ax=axs)\n",
    "plt.show()"
   ]
  },
  {
   "cell_type": "code",
   "execution_count": 6,
   "id": "fcad73a7",
   "metadata": {},
   "outputs": [
    {
     "name": "stdout",
     "output_type": "stream",
     "text": [
      "1.3988351492417268\n",
      "P value 0.9730726021234335\n"
     ]
    }
   ],
   "source": [
    "obeserved_value = df_bangladesh.Arsenic.mean()\n",
    "comapred_mean = 100\n",
    "sd_obs = df_bangladesh.Arsenic.std(ddof=1)\n",
    "N = df_bangladesh.shape[0]\n",
    "test_stat = (obeserved_value - comapred_mean)/(sd_obs/np.sqrt(N))\n",
    "print(test_stat)\n",
    "print('P value',1 - t.cdf(t_test,N-2))"
   ]
  },
  {
   "cell_type": "code",
   "execution_count": 7,
   "id": "b30c9d25",
   "metadata": {},
   "outputs": [
    {
     "name": "stdout",
     "output_type": "stream",
     "text": [
      "1.398835149241725 0.08150503308524212\n"
     ]
    }
   ],
   "source": [
    "test_stat,p_value = ttest_1samp(df_bangladesh.Arsenic,100,alternative='greater')\n",
    "print(test_stat,p_value)"
   ]
  },
  {
   "cell_type": "code",
   "execution_count": 8,
   "id": "6f638975",
   "metadata": {},
   "outputs": [
    {
     "name": "stdout",
     "output_type": "stream",
     "text": [
      "0.0494\n"
     ]
    }
   ],
   "source": [
    "## bootstarp procedure\n",
    "N = 999\n",
    "boot_test_stat = []\n",
    "for i in range(9999):\n",
    "    df_temp = df_bangladesh.sample(frac=1,replace=True)\n",
    "    bootstrap_arsenic_mean = df_temp.Arsenic.mean()\n",
    "    bootstrap_arsenic_std = df_temp.Arsenic.std()\n",
    "    sample_t_test_stat = (bootstrap_arsenic_mean - obeserved_value)/(bootstrap_arsenic_std/np.sqrt(271))\n",
    "    boot_test_stat.append(sample_t_test_stat)\n",
    "boot_p_value = (np.sum(np.array(boot_test_stat) >= test_stat)+1)/10000\n",
    "print(boot_p_value)"
   ]
  },
  {
   "cell_type": "code",
   "execution_count": 9,
   "id": "70482ec2",
   "metadata": {},
   "outputs": [
    {
     "data": {
      "text/plain": [
       "(271, 3)"
      ]
     },
     "execution_count": 9,
     "metadata": {},
     "output_type": "execute_result"
    }
   ],
   "source": [
    "df_temp.shape"
   ]
  },
  {
   "cell_type": "code",
   "execution_count": 10,
   "id": "8802ef56",
   "metadata": {},
   "outputs": [
    {
     "data": {
      "text/html": [
       "<div>\n",
       "<style scoped>\n",
       "    .dataframe tbody tr th:only-of-type {\n",
       "        vertical-align: middle;\n",
       "    }\n",
       "\n",
       "    .dataframe tbody tr th {\n",
       "        vertical-align: top;\n",
       "    }\n",
       "\n",
       "    .dataframe thead th {\n",
       "        text-align: right;\n",
       "    }\n",
       "</style>\n",
       "<table border=\"1\" class=\"dataframe\">\n",
       "  <thead>\n",
       "    <tr style=\"text-align: right;\">\n",
       "      <th></th>\n",
       "      <th>ID</th>\n",
       "      <th>MothersAge</th>\n",
       "      <th>Tobacco</th>\n",
       "      <th>Alcohol</th>\n",
       "      <th>Gender</th>\n",
       "      <th>Weight</th>\n",
       "      <th>Gestation</th>\n",
       "      <th>Smoker</th>\n",
       "    </tr>\n",
       "  </thead>\n",
       "  <tbody>\n",
       "    <tr>\n",
       "      <th>0</th>\n",
       "      <td>1</td>\n",
       "      <td>30-34</td>\n",
       "      <td>No</td>\n",
       "      <td>No</td>\n",
       "      <td>Male</td>\n",
       "      <td>3827</td>\n",
       "      <td>40</td>\n",
       "      <td>No</td>\n",
       "    </tr>\n",
       "    <tr>\n",
       "      <th>1</th>\n",
       "      <td>2</td>\n",
       "      <td>30-34</td>\n",
       "      <td>No</td>\n",
       "      <td>No</td>\n",
       "      <td>Male</td>\n",
       "      <td>3629</td>\n",
       "      <td>38</td>\n",
       "      <td>No</td>\n",
       "    </tr>\n",
       "    <tr>\n",
       "      <th>2</th>\n",
       "      <td>3</td>\n",
       "      <td>35-39</td>\n",
       "      <td>No</td>\n",
       "      <td>No</td>\n",
       "      <td>Female</td>\n",
       "      <td>3062</td>\n",
       "      <td>37</td>\n",
       "      <td>No</td>\n",
       "    </tr>\n",
       "    <tr>\n",
       "      <th>3</th>\n",
       "      <td>4</td>\n",
       "      <td>20-24</td>\n",
       "      <td>No</td>\n",
       "      <td>No</td>\n",
       "      <td>Female</td>\n",
       "      <td>3430</td>\n",
       "      <td>39</td>\n",
       "      <td>No</td>\n",
       "    </tr>\n",
       "    <tr>\n",
       "      <th>4</th>\n",
       "      <td>5</td>\n",
       "      <td>25-29</td>\n",
       "      <td>No</td>\n",
       "      <td>No</td>\n",
       "      <td>Male</td>\n",
       "      <td>3827</td>\n",
       "      <td>38</td>\n",
       "      <td>No</td>\n",
       "    </tr>\n",
       "  </tbody>\n",
       "</table>\n",
       "</div>"
      ],
      "text/plain": [
       "   ID MothersAge Tobacco Alcohol  Gender  Weight  Gestation Smoker\n",
       "0   1      30-34      No      No    Male    3827         40     No\n",
       "1   2      30-34      No      No    Male    3629         38     No\n",
       "2   3      35-39      No      No  Female    3062         37     No\n",
       "3   4      20-24      No      No  Female    3430         39     No\n",
       "4   5      25-29      No      No    Male    3827         38     No"
      ]
     },
     "execution_count": 10,
     "metadata": {},
     "output_type": "execute_result"
    }
   ],
   "source": [
    "df_nc_data = pd.read_csv('Data/NCBirths2004.csv')\n",
    "df_nc_data.head()"
   ]
  },
  {
   "cell_type": "code",
   "execution_count": 11,
   "id": "1ac4697a",
   "metadata": {},
   "outputs": [
    {
     "name": "stdout",
     "output_type": "stream",
     "text": [
      "4.141132291569932\n",
      "134.01080029404963\n",
      "P value 3.039807152183105e-05\n"
     ]
    }
   ],
   "source": [
    "df_nc_data.groupby(by= 'Smoker').agg(count_babies = ('Smoker','count'),\n",
    "                                    mean_weight = ('Weight',np.mean),\n",
    "                                    std_weight = ('Weight',np.std)).reset_index()\n",
    "x1_bar = 3471.912027\n",
    "x2_bar = 3256.909910\n",
    "n1 = 898\n",
    "n2 = 111\n",
    "s1 = 478.552407\n",
    "s2 = 520.478810\n",
    "\n",
    "test_stat = (x1_bar - x2_bar)/(np.sqrt(s1**2/n1 + s2**2/n2))\n",
    "print(test_stat)\n",
    "nu = (s1**2/n1 + s2**2/n2)**2/((s1**2/n1)**2/(n1 -1) + ((s2**2)/n2)**2/(n2-1))\n",
    "print(nu)\n",
    "\n",
    "print('P value',1 - t.cdf(test_stat,nu))"
   ]
  },
  {
   "cell_type": "code",
   "execution_count": 12,
   "id": "9fc1ebc7",
   "metadata": {},
   "outputs": [
    {
     "name": "stdout",
     "output_type": "stream",
     "text": [
      "4.141132287319758 3.0398072027690777e-05\n",
      "-4.141132287319758 3.0398072027690777e-05\n"
     ]
    }
   ],
   "source": [
    "smoker_weight = df_nc_data[df_nc_data.Smoker == 'Yes'].Weight\n",
    "non_smoker_weight = df_nc_data[df_nc_data.Smoker == 'No'].Weight\n",
    "\n",
    "test_stat,p_value = ttest_ind(non_smoker_weight,smoker_weight,equal_var= False,alternative='greater')\n",
    "\n",
    "print(test_stat,p_value)\n",
    "\n",
    "test_stat,p_value = ttest_ind(smoker_weight,non_smoker_weight,equal_var= False,alternative='less')\n",
    "print(test_stat,p_value)"
   ]
  },
  {
   "cell_type": "code",
   "execution_count": 22,
   "id": "52d6947f",
   "metadata": {},
   "outputs": [
    {
     "name": "stdout",
     "output_type": "stream",
     "text": [
      "0.023500185198538224\n",
      "2.0939843565680127\n",
      "0.03626137380534078\n"
     ]
    }
   ],
   "source": [
    "X1 = 550\n",
    "n1 = 684\n",
    "X2 = 425\n",
    "n2 = 563\n",
    "p_p = (X1+X2)/(n1+n2)\n",
    "se_p_p = np.sqrt(p_p*(1-p_p)*(1/n1 + 1/n2))\n",
    "print(se_p_p)\n",
    "p1 = X1/n1\n",
    "p2 = X2/n2\n",
    "test_stat = (p1 - p2)/(se_p_p)\n",
    "print(test_stat)\n",
    "p_value = 2*(1- norm.cdf(test_stat))\n",
    "print(p_value)"
   ]
  },
  {
   "cell_type": "code",
   "execution_count": 24,
   "id": "e4c84429",
   "metadata": {},
   "outputs": [
    {
     "data": {
      "text/plain": [
       "(2.0939843565680127, 0.036261373805340856)"
      ]
     },
     "execution_count": 24,
     "metadata": {},
     "output_type": "execute_result"
    }
   ],
   "source": [
    "count = np.array([550, 425])\n",
    "nobs = np.array([684, 563])\n",
    "sm.stats.proportions_ztest(count,nobs)"
   ]
  },
  {
   "cell_type": "code",
   "execution_count": 37,
   "id": "91d75c3b",
   "metadata": {},
   "outputs": [
    {
     "data": {
      "text/plain": [
       "(2.1070304205416392, 0.017557471380485558)"
      ]
     },
     "execution_count": 37,
     "metadata": {},
     "output_type": "execute_result"
    }
   ],
   "source": [
    "X1 = 126\n",
    "n1 = 197\n",
    "X2 = 223\n",
    "n2 = 406\n",
    "count = np.array([X1,X2])\n",
    "nobs = np.array([n1,n2])\n",
    "sm.stats.proportions_ztest(count,nobs,alternative='larger')"
   ]
  },
  {
   "cell_type": "code",
   "execution_count": 39,
   "id": "25c8a77d",
   "metadata": {},
   "outputs": [
    {
     "name": "stdout",
     "output_type": "stream",
     "text": [
      "0.5787728026533997\n",
      "0.04287210284433294\n",
      "2.1070304205416392\n",
      "0.01755747138048558\n"
     ]
    }
   ],
   "source": [
    "p1 = X1/n1\n",
    "p2 = X2/n2\n",
    "p_p = (X1+X2)/(n1+n2)\n",
    "se_p_p = np.sqrt(p_p*(1-p_p)*(1/n1 + 1/n2))\n",
    "print(p_p)\n",
    "print(se_p_p)\n",
    "test_stat = (p1 - p2)/(se_p_p)\n",
    "print(test_stat)\n",
    "p_value = (1- norm.cdf(test_stat))\n",
    "print(p_value)"
   ]
  },
  {
   "cell_type": "code",
   "execution_count": 43,
   "id": "0d814be8",
   "metadata": {},
   "outputs": [
    {
     "data": {
      "text/html": [
       "<div>\n",
       "<style scoped>\n",
       "    .dataframe tbody tr th:only-of-type {\n",
       "        vertical-align: middle;\n",
       "    }\n",
       "\n",
       "    .dataframe tbody tr th {\n",
       "        vertical-align: top;\n",
       "    }\n",
       "\n",
       "    .dataframe thead th {\n",
       "        text-align: right;\n",
       "    }\n",
       "</style>\n",
       "<table border=\"1\" class=\"dataframe\">\n",
       "  <thead>\n",
       "    <tr style=\"text-align: right;\">\n",
       "      <th></th>\n",
       "      <th>Name</th>\n",
       "      <th>Country</th>\n",
       "      <th>Semifinal</th>\n",
       "      <th>Final</th>\n",
       "    </tr>\n",
       "  </thead>\n",
       "  <tbody>\n",
       "    <tr>\n",
       "      <th>0</th>\n",
       "      <td>CHEONG Jun Hoong</td>\n",
       "      <td>Malaysia</td>\n",
       "      <td>325.50</td>\n",
       "      <td>397.50</td>\n",
       "    </tr>\n",
       "    <tr>\n",
       "      <th>1</th>\n",
       "      <td>SI Yajie</td>\n",
       "      <td>China</td>\n",
       "      <td>382.80</td>\n",
       "      <td>396.00</td>\n",
       "    </tr>\n",
       "    <tr>\n",
       "      <th>2</th>\n",
       "      <td>REN Qian</td>\n",
       "      <td>China</td>\n",
       "      <td>367.50</td>\n",
       "      <td>391.95</td>\n",
       "    </tr>\n",
       "    <tr>\n",
       "      <th>3</th>\n",
       "      <td>KIM Mi Rae</td>\n",
       "      <td>North Korea</td>\n",
       "      <td>346.00</td>\n",
       "      <td>385.55</td>\n",
       "    </tr>\n",
       "    <tr>\n",
       "      <th>4</th>\n",
       "      <td>WU Melissa</td>\n",
       "      <td>Australia</td>\n",
       "      <td>318.70</td>\n",
       "      <td>370.20</td>\n",
       "    </tr>\n",
       "    <tr>\n",
       "      <th>5</th>\n",
       "      <td>KIM Kuk Hyang</td>\n",
       "      <td>North Korea</td>\n",
       "      <td>360.85</td>\n",
       "      <td>360.00</td>\n",
       "    </tr>\n",
       "    <tr>\n",
       "      <th>6</th>\n",
       "      <td>ITAHASHI Minami</td>\n",
       "      <td>Japan</td>\n",
       "      <td>313.70</td>\n",
       "      <td>357.85</td>\n",
       "    </tr>\n",
       "    <tr>\n",
       "      <th>7</th>\n",
       "      <td>BENFEITO Meaghan</td>\n",
       "      <td>Canada</td>\n",
       "      <td>355.15</td>\n",
       "      <td>331.40</td>\n",
       "    </tr>\n",
       "    <tr>\n",
       "      <th>8</th>\n",
       "      <td>PAMG Pandelela</td>\n",
       "      <td>Malaysia</td>\n",
       "      <td>322.75</td>\n",
       "      <td>322.40</td>\n",
       "    </tr>\n",
       "    <tr>\n",
       "      <th>9</th>\n",
       "      <td>CHAMANDY Olivia</td>\n",
       "      <td>Canada</td>\n",
       "      <td>320.55</td>\n",
       "      <td>307.15</td>\n",
       "    </tr>\n",
       "    <tr>\n",
       "      <th>10</th>\n",
       "      <td>PARRATTO Jessica</td>\n",
       "      <td>USA</td>\n",
       "      <td>322.75</td>\n",
       "      <td>302.35</td>\n",
       "    </tr>\n",
       "    <tr>\n",
       "      <th>11</th>\n",
       "      <td>MURILLO URREA Carolina</td>\n",
       "      <td>Colombia</td>\n",
       "      <td>325.75</td>\n",
       "      <td>283.35</td>\n",
       "    </tr>\n",
       "  </tbody>\n",
       "</table>\n",
       "</div>"
      ],
      "text/plain": [
       "                      Name      Country  Semifinal   Final\n",
       "0         CHEONG Jun Hoong     Malaysia     325.50  397.50\n",
       "1                 SI Yajie        China     382.80  396.00\n",
       "2                 REN Qian        China     367.50  391.95\n",
       "3               KIM Mi Rae  North Korea     346.00  385.55\n",
       "4               WU Melissa    Australia     318.70  370.20\n",
       "5            KIM Kuk Hyang  North Korea     360.85  360.00\n",
       "6          ITAHASHI Minami        Japan     313.70  357.85\n",
       "7         BENFEITO Meaghan       Canada     355.15  331.40\n",
       "8           PAMG Pandelela     Malaysia     322.75  322.40\n",
       "9          CHAMANDY Olivia       Canada     320.55  307.15\n",
       "10        PARRATTO Jessica          USA     322.75  302.35\n",
       "11  MURILLO URREA Carolina     Colombia     325.75  283.35"
      ]
     },
     "execution_count": 43,
     "metadata": {},
     "output_type": "execute_result"
    }
   ],
   "source": [
    "df_diving_Data = pd.read_csv('Data2/Diving2017.csv')\n",
    "df_diving_Data"
   ]
  },
  {
   "cell_type": "code",
   "execution_count": 52,
   "id": "2a18dc7d",
   "metadata": {},
   "outputs": [
    {
     "data": {
      "text/plain": [
       "Ttest_relResult(statistic=1.1903390385665338, pvalue=0.25896840383393227)"
      ]
     },
     "execution_count": 52,
     "metadata": {},
     "output_type": "execute_result"
    }
   ],
   "source": [
    "semifinal_df = df_diving_Data.Semifinal\n",
    "final_df = df_diving_Data.Final\n",
    "ttest_rel(final_df,semifinal_df)"
   ]
  },
  {
   "cell_type": "code",
   "execution_count": 57,
   "id": "e469938b",
   "metadata": {},
   "outputs": [
    {
     "name": "stdout",
     "output_type": "stream",
     "text": [
      "0.8608768765917962\n",
      "11\n",
      "P value 0.7961605082326577\n"
     ]
    }
   ],
   "source": [
    "diff_df = final_df - semifinal_df\n",
    "x1_bar = np.mean(final_df)\n",
    "x2_bar = np.mean(semifinal_df)\n",
    "s1 = np.std(final_df,ddof=1)\n",
    "s2 = np.std(semifinal_df,ddof=1)\n",
    "n1 = 11\n",
    "n2 = 11\n",
    "test_stat = (x1_bar - x2_bar)/(np.sqrt(s1**2/n1 + s2**2/n2))\n",
    "print(test_stat)\n",
    "nu = 11\n",
    "print(nu)\n",
    "\n",
    "print('P value',t.cdf(test_stat,nu))\n"
   ]
  },
  {
   "cell_type": "code",
   "execution_count": 68,
   "id": "b1dd2076",
   "metadata": {},
   "outputs": [
    {
     "data": {
      "text/plain": [
       "Ttest_relResult(statistic=1.5099668870541376, pvalue=0.191436884336601)"
      ]
     },
     "execution_count": 68,
     "metadata": {},
     "output_type": "execute_result"
    }
   ],
   "source": [
    "A_1 = np.array([30.02, 29.99, 30.11, 29.97, 30.01, 29.99])\n",
    "A_2 = np.array([29.89, 29.93, 29.72,29.98, 30.02, 29.98])\n",
    "ttest_rel(A_1,A_2,axis=0)\n"
   ]
  },
  {
   "cell_type": "code",
   "execution_count": 74,
   "id": "944e1fbf",
   "metadata": {},
   "outputs": [
    {
     "name": "stdout",
     "output_type": "stream",
     "text": [
      "-0.8620689655172414\n"
     ]
    },
    {
     "data": {
      "text/plain": [
       "0.19432478402915743"
      ]
     },
     "execution_count": 74,
     "metadata": {},
     "output_type": "execute_result"
    }
   ],
   "source": [
    "z_stat = (505 - 515)/(116/np.sqrt(100))\n",
    "print(z_stat)\n",
    "norm.cdf(z_stat)"
   ]
  },
  {
   "cell_type": "code",
   "execution_count": 89,
   "id": "d39c76e2",
   "metadata": {},
   "outputs": [
    {
     "name": "stdout",
     "output_type": "stream",
     "text": [
      "28.197992785808005\n"
     ]
    },
    {
     "data": {
      "text/plain": [
       "0.8629375807724328"
      ]
     },
     "execution_count": 89,
     "metadata": {},
     "output_type": "execute_result"
    }
   ],
   "source": [
    "mu_h0 = 30\n",
    "n = 30\n",
    "std_dev = 6\n",
    "alpha = 0.05\n",
    "c=norm.ppf(0.05)\n",
    "x_bar =  30 + 6/(30**0.5) * (-1.645)\n",
    "print(x_bar)\n",
    "norm.cdf(x_bar,loc = 27, scale = 6/30**0.5)"
   ]
  },
  {
   "cell_type": "code",
   "execution_count": 94,
   "id": "b297f060",
   "metadata": {},
   "outputs": [
    {
     "data": {
      "text/plain": [
       "0.9093185375111443"
      ]
     },
     "execution_count": 94,
     "metadata": {},
     "output_type": "execute_result"
    }
   ],
   "source": [
    "x_bar = norm.ppf(0.95,loc=0,scale = 3/(20**0.5))\n",
    "\n",
    "1 - norm.cdf(x_bar,loc = 2,scale = 3/(20**0.5))"
   ]
  },
  {
   "cell_type": "code",
   "execution_count": 95,
   "id": "f0110ace",
   "metadata": {},
   "outputs": [
    {
     "data": {
      "text/plain": [
       "2.3263478740408408"
      ]
     },
     "execution_count": 95,
     "metadata": {},
     "output_type": "execute_result"
    }
   ],
   "source": [
    "norm.ppf(0.99)"
   ]
  },
  {
   "cell_type": "code",
   "execution_count": 106,
   "id": "13fe4b23",
   "metadata": {},
   "outputs": [
    {
     "data": {
      "text/plain": [
       "3.1474094346328805"
      ]
     },
     "execution_count": 106,
     "metadata": {},
     "output_type": "execute_result"
    }
   ],
   "source": [
    "q= t.ppf(0.975,49)\n",
    "4 + q * 3/np.sqrt(50)\n",
    "4 - q * 3/np.sqrt(50)"
   ]
  }
 ],
 "metadata": {
  "kernelspec": {
   "display_name": "Python 3",
   "language": "python",
   "name": "python3"
  },
  "language_info": {
   "codemirror_mode": {
    "name": "ipython",
    "version": 3
   },
   "file_extension": ".py",
   "mimetype": "text/x-python",
   "name": "python",
   "nbconvert_exporter": "python",
   "pygments_lexer": "ipython3",
   "version": "3.8.2"
  }
 },
 "nbformat": 4,
 "nbformat_minor": 5
}
