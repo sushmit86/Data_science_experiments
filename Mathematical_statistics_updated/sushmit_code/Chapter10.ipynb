{
 "cells": [
  {
   "cell_type": "code",
   "execution_count": 33,
   "id": "ccc34eb0",
   "metadata": {},
   "outputs": [],
   "source": [
    "import pandas as pd\n",
    "import numpy as np\n",
    "import matplotlib.pyplot as plt\n",
    "import seaborn as sns\n",
    "import statsmodels.api as sm\n",
    "plt.style.use('fivethirtyeight')"
   ]
  },
  {
   "cell_type": "code",
   "execution_count": 27,
   "id": "6cdf1df8",
   "metadata": {},
   "outputs": [],
   "source": [
    "df_gss_data = pd.read_csv('Data2/GSS2002.csv')\n",
    "cols_loc = ['Education','DeathPenalty']\n",
    "df_gss_data_contingency = df_gss_data.loc[:,cols_loc]\n",
    "df_gss_data_contingency.head()\n",
    "df_gss_data_contingency.dropna(subset= ['DeathPenalty','Education'],axis =0 , inplace = True)"
   ]
  },
  {
   "cell_type": "code",
   "execution_count": 28,
   "id": "d37644ff",
   "metadata": {},
   "outputs": [
    {
     "data": {
      "text/html": [
       "<div>\n",
       "<style scoped>\n",
       "    .dataframe tbody tr th:only-of-type {\n",
       "        vertical-align: middle;\n",
       "    }\n",
       "\n",
       "    .dataframe tbody tr th {\n",
       "        vertical-align: top;\n",
       "    }\n",
       "\n",
       "    .dataframe thead th {\n",
       "        text-align: right;\n",
       "    }\n",
       "</style>\n",
       "<table border=\"1\" class=\"dataframe\">\n",
       "  <thead>\n",
       "    <tr style=\"text-align: right;\">\n",
       "      <th>DeathPenalty</th>\n",
       "      <th>Favor</th>\n",
       "      <th>Oppose</th>\n",
       "      <th>All</th>\n",
       "    </tr>\n",
       "    <tr>\n",
       "      <th>Education</th>\n",
       "      <th></th>\n",
       "      <th></th>\n",
       "      <th></th>\n",
       "    </tr>\n",
       "  </thead>\n",
       "  <tbody>\n",
       "    <tr>\n",
       "      <th>Bachelors</th>\n",
       "      <td>135</td>\n",
       "      <td>71</td>\n",
       "      <td>206</td>\n",
       "    </tr>\n",
       "    <tr>\n",
       "      <th>Graduate</th>\n",
       "      <td>64</td>\n",
       "      <td>50</td>\n",
       "      <td>114</td>\n",
       "    </tr>\n",
       "    <tr>\n",
       "      <th>HS</th>\n",
       "      <td>511</td>\n",
       "      <td>200</td>\n",
       "      <td>711</td>\n",
       "    </tr>\n",
       "    <tr>\n",
       "      <th>Jr Col</th>\n",
       "      <td>71</td>\n",
       "      <td>16</td>\n",
       "      <td>87</td>\n",
       "    </tr>\n",
       "    <tr>\n",
       "      <th>Left HS</th>\n",
       "      <td>117</td>\n",
       "      <td>72</td>\n",
       "      <td>189</td>\n",
       "    </tr>\n",
       "    <tr>\n",
       "      <th>All</th>\n",
       "      <td>898</td>\n",
       "      <td>409</td>\n",
       "      <td>1307</td>\n",
       "    </tr>\n",
       "  </tbody>\n",
       "</table>\n",
       "</div>"
      ],
      "text/plain": [
       "DeathPenalty  Favor  Oppose   All\n",
       "Education                        \n",
       "Bachelors       135      71   206\n",
       "Graduate         64      50   114\n",
       "HS              511     200   711\n",
       "Jr Col           71      16    87\n",
       "Left HS         117      72   189\n",
       "All             898     409  1307"
      ]
     },
     "execution_count": 28,
     "metadata": {},
     "output_type": "execute_result"
    }
   ],
   "source": [
    "pd.crosstab(df_gss_data_contingency.Education,df_gss_data_contingency.DeathPenalty,margins=True)"
   ]
  },
  {
   "cell_type": "markdown",
   "id": "ae52a9aa",
   "metadata": {},
   "source": [
    "# Permutation Test"
   ]
  },
  {
   "cell_type": "code",
   "execution_count": 80,
   "id": "421e815d",
   "metadata": {},
   "outputs": [],
   "source": [
    "orginal_chi_object = sm.stats.Table.from_data(df_gss_data_contingency)\n",
    "orginal_chi_value = orginal_chi_object.chi2_contribs.to_numpy().sum()\n",
    "df_temp = df_gss_data_contingency.copy()\n",
    "list_chi_sq_values = []\n",
    "for i in range(10**4 -2):\n",
    "    df_temp['DeathPenalty'] = np.random.permutation(df_temp.DeathPenalty)\n",
    "    temp_chi_object = sm.stats.Table.from_data(df_temp)\n",
    "    list_chi_sq_values.append(temp_chi_object.chi2_contribs.to_numpy().sum())"
   ]
  },
  {
   "cell_type": "code",
   "execution_count": 81,
   "id": "4e24dc60",
   "metadata": {},
   "outputs": [
    {
     "data": {
      "text/plain": [
       "0.0001"
      ]
     },
     "execution_count": 81,
     "metadata": {},
     "output_type": "execute_result"
    }
   ],
   "source": [
    "np.sum(np.array(list_chi_sq_values) > orginal_chi_value)/10**4"
   ]
  },
  {
   "cell_type": "code",
   "execution_count": 82,
   "id": "35a276f2",
   "metadata": {},
   "outputs": [
    {
     "data": {
      "image/png": "[encoded data removed]",
      "text/plain": [
       "<Figure size 864x576 with 1 Axes>"
      ]
     },
     "metadata": {},
     "output_type": "display_data"
    }
   ],
   "source": [
    "fig,axs = plt.subplots(1,1, figsize = (12,8))\n",
    "sns.histplot(list_chi_sq_values,ax=axs)\n",
    "plt.show()"
   ]
  },
  {
   "cell_type": "code",
   "execution_count": 90,
   "id": "ecc66840",
   "metadata": {},
   "outputs": [
    {
     "data": {
      "text/plain": [
       "-0.00784313725490196"
      ]
     },
     "execution_count": 90,
     "metadata": {},
     "output_type": "execute_result"
    }
   ],
   "source": [
    "-0.04/5.10"
   ]
  }
 ],
 "metadata": {
  "kernelspec": {
   "display_name": "Python 3",
   "language": "python",
   "name": "python3"
  },
  "language_info": {
   "codemirror_mode": {
    "name": "ipython",
    "version": 3
   },
   "file_extension": ".py",
   "mimetype": "text/x-python",
   "name": "python",
   "nbconvert_exporter": "python",
   "pygments_lexer": "ipython3",
   "version": "3.8.2"
  }
 },
 "nbformat": 4,
 "nbformat_minor": 5
}
