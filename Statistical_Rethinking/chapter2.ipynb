{
 "cells": [
  {
   "cell_type": "code",
   "execution_count": 9,
   "metadata": {},
   "outputs": [
    {
     "name": "stdout",
     "output_type": "stream",
     "text": [
      "The watermark extension is already loaded. To reload it, use:\n",
      "  %reload_ext watermark\n",
      "Sushmit Roy \n",
      "last updated: 2018-04-22\n"
     ]
    }
   ],
   "source": [
    "%load_ext watermark\n",
    "%watermark -a \"Sushmit Roy\" -u -d "
   ]
  },
  {
   "cell_type": "code",
   "execution_count": 14,
   "metadata": {},
   "outputs": [
    {
     "data": {
      "text/html": [
       "<script>requirejs.config({paths: { 'plotly': ['https://cdn.plot.ly/plotly-latest.min']},});if(!window.Plotly) {{require(['plotly'],function(plotly) {window.Plotly=plotly;});}}</script>"
      ],
      "text/vnd.plotly.v1+html": [
       "<script>requirejs.config({paths: { 'plotly': ['https://cdn.plot.ly/plotly-latest.min']},});if(!window.Plotly) {{require(['plotly'],function(plotly) {window.Plotly=plotly;});}}</script>"
      ]
     },
     "metadata": {},
     "output_type": "display_data"
    }
   ],
   "source": [
    "import pymc3\n",
    "import numpy as np\n",
    "import scipy.stats as stats\n",
    "import matplotlib.pyplot as plt\n",
    "from plotly.offline import download_plotlyjs, init_notebook_mode, plot, iplot\n",
    "import plotly.graph_objs as go\n",
    "from plotly import tools\n",
    "init_notebook_mode(connected=True)"
   ]
  },
  {
   "cell_type": "code",
   "execution_count": 13,
   "metadata": {},
   "outputs": [
    {
     "data": {
      "text/plain": [
       "array([0.  , 0.15, 0.4 , 0.45, 0.  ])"
      ]
     },
     "execution_count": 13,
     "metadata": {},
     "output_type": "execute_result"
    }
   ],
   "source": [
    "# Code 2.1\n",
    "ways = np.array([0, 3, 8, 9, 0])\n",
    "ways/ways.sum()\n",
    "# Code 2.2\n",
    "stats.binom.pmf(6, n=9, p=0.5)"
   ]
  },
  {
   "cell_type": "code",
   "execution_count": 19,
   "metadata": {},
   "outputs": [],
   "source": [
    "def posterior_grid_approx(grid_points=5,success=6, tosses=9):\n",
    "    \"\"\"\n",
    "    Grid approximations\n",
    "    \"\"\"\n",
    "    # define grid\n",
    "    p_grid = np.linspace(0, 1, grid_points)\n",
    "    # define prior\n",
    "    prior = np.repeat(1,grid_points)\n",
    "    # compute likelihood at each value in grid\n",
    "    likelihood = stats.binom.pmf(success,tosses, p_grid)\n",
    "    # compute product of likelihood and prior\n",
    "    unstd_posterior = likelihood * prior\n",
    "    # standardization\n",
    "    posterior = unstd_posterior/sum(unstd_posterior)\n",
    "    return p_grid, posterior\n",
    "\n"
   ]
  },
  {
   "cell_type": "code",
   "execution_count": 60,
   "metadata": {},
   "outputs": [
    {
     "data": {
      "application/vnd.plotly.v1+json": {
       "data": [
        {
         "showlegend": false,
         "type": "scatter",
         "x": [
          0,
          0.25,
          0.5,
          0.75,
          1
         ],
         "xaxis": "x1",
         "y": [
          0,
          0.02129337539432178,
          0.40378548895899063,
          0.5749211356466876,
          0
         ],
         "yaxis": "y1"
        },
        {
         "name": "success = 6\n tosses = 9",
         "type": "scatter",
         "x": [
          0,
          0.05263157894736842,
          0.10526315789473684,
          0.15789473684210525,
          0.21052631578947367,
          0.2631578947368421,
          0.3157894736842105,
          0.3684210526315789,
          0.42105263157894735,
          0.47368421052631576,
          0.5263157894736842,
          0.5789473684210527,
          0.631578947368421,
          0.6842105263157894,
          0.7368421052631579,
          0.7894736842105263,
          0.8421052631578947,
          0.894736842105263,
          0.9473684210526315,
          1
         ],
         "xaxis": "x2",
         "y": [
          0,
          7.989837111322304e-07,
          4.3077168425708135e-05,
          0.00040907966009970305,
          0.0018938873152764021,
          0.005873872876336508,
          0.014042937706860131,
          0.0278517435943692,
          0.047801154685779286,
          0.07280739067692474,
          0.09987296389152914,
          0.12426432985697708,
          0.1403143234141982,
          0.14283488028690608,
          0.12894325738133888,
          0.09987296389152918,
          0.062058899546977235,
          0.026454766059438126,
          0.004659673003323195,
          0
         ],
         "yaxis": "y2"
        }
       ],
       "layout": {
        "annotations": [
         {
          "font": {
           "size": 16
          },
          "showarrow": false,
          "text": "5 Points",
          "x": 0.225,
          "xanchor": "center",
          "xref": "paper",
          "y": 1,
          "yanchor": "bottom",
          "yref": "paper"
         },
         {
          "font": {
           "size": 16
          },
          "showarrow": false,
          "text": "20 Points",
          "x": 0.775,
          "xanchor": "center",
          "xref": "paper",
          "y": 1,
          "yanchor": "bottom",
          "yref": "paper"
         }
        ],
        "height": 400,
        "paper_bgcolor": "rgb(233,233,233)",
        "plot_bgcolor": "rgb(200, 200, 200)",
        "xaxis1": {
         "anchor": "y1",
         "domain": [
          0,
          0.45
         ],
         "title": "Probability of Water"
        },
        "xaxis2": {
         "anchor": "y2",
         "domain": [
          0.55,
          1
         ],
         "title": "Probability of Water"
        },
        "yaxis1": {
         "anchor": "x1",
         "domain": [
          0,
          1
         ],
         "title": "Posterior Probability"
        },
        "yaxis2": {
         "anchor": "x2",
         "domain": [
          0,
          1
         ],
         "title": "Posterior Probability"
        }
       }
      },
      "text/html": [
       "<div id=\"4d4769c7-5393-4719-8583-ed1311efece0\" style=\"height: 400px; width: 100%;\" class=\"plotly-graph-div\"></div><script type=\"text/javascript\">require([\"plotly\"], function(Plotly) { window.PLOTLYENV=window.PLOTLYENV || {};window.PLOTLYENV.BASE_URL=\"https://plot.ly\";Plotly.newPlot(\"4d4769c7-5393-4719-8583-ed1311efece0\", [{\"showlegend\": false, \"yaxis\": \"y1\", \"xaxis\": \"x1\", \"y\": [0.0, 0.02129337539432178, 0.40378548895899063, 0.5749211356466876, 0.0], \"x\": [0.0, 0.25, 0.5, 0.75, 1.0], \"type\": \"scatter\"}, {\"name\": \"success = 6\\n tosses = 9\", \"yaxis\": \"y2\", \"xaxis\": \"x2\", \"y\": [0.0, 7.989837111322304e-07, 4.3077168425708135e-05, 0.00040907966009970305, 0.0018938873152764021, 0.005873872876336508, 0.014042937706860131, 0.0278517435943692, 0.047801154685779286, 0.07280739067692474, 0.09987296389152914, 0.12426432985697708, 0.1403143234141982, 0.14283488028690608, 0.12894325738133888, 0.09987296389152918, 0.062058899546977235, 0.026454766059438126, 0.004659673003323195, 0.0], \"x\": [0.0, 0.05263157894736842, 0.10526315789473684, 0.15789473684210525, 0.21052631578947367, 0.2631578947368421, 0.3157894736842105, 0.3684210526315789, 0.42105263157894735, 0.47368421052631576, 0.5263157894736842, 0.5789473684210527, 0.631578947368421, 0.6842105263157894, 0.7368421052631579, 0.7894736842105263, 0.8421052631578947, 0.894736842105263, 0.9473684210526315, 1.0], \"type\": \"scatter\"}], {\"paper_bgcolor\": \"rgb(233,233,233)\", \"plot_bgcolor\": \"rgb(200, 200, 200)\", \"xaxis2\": {\"domain\": [0.55, 1.0], \"anchor\": \"y2\", \"title\": \"Probability of Water\"}, \"xaxis1\": {\"domain\": [0.0, 0.45], \"anchor\": \"y1\", \"title\": \"Probability of Water\"}, \"height\": 400, \"yaxis1\": {\"domain\": [0.0, 1.0], \"anchor\": \"x1\", \"title\": \"Posterior Probability\"}, \"yaxis2\": {\"domain\": [0.0, 1.0], \"anchor\": \"x2\", \"title\": \"Posterior Probability\"}, \"annotations\": [{\"yanchor\": \"bottom\", \"xref\": \"paper\", \"xanchor\": \"center\", \"yref\": \"paper\", \"text\": \"5 Points\", \"y\": 1.0, \"x\": 0.225, \"font\": {\"size\": 16}, \"showarrow\": false}, {\"yanchor\": \"bottom\", \"xref\": \"paper\", \"xanchor\": \"center\", \"yref\": \"paper\", \"text\": \"20 Points\", \"y\": 1.0, \"x\": 0.775, \"font\": {\"size\": 16}, \"showarrow\": false}]}, {\"linkText\": \"Export to plot.ly\", \"showLink\": true})});</script>"
      ],
      "text/vnd.plotly.v1+html": [
       "<div id=\"4d4769c7-5393-4719-8583-ed1311efece0\" style=\"height: 400px; width: 100%;\" class=\"plotly-graph-div\"></div><script type=\"text/javascript\">require([\"plotly\"], function(Plotly) { window.PLOTLYENV=window.PLOTLYENV || {};window.PLOTLYENV.BASE_URL=\"https://plot.ly\";Plotly.newPlot(\"4d4769c7-5393-4719-8583-ed1311efece0\", [{\"showlegend\": false, \"yaxis\": \"y1\", \"xaxis\": \"x1\", \"y\": [0.0, 0.02129337539432178, 0.40378548895899063, 0.5749211356466876, 0.0], \"x\": [0.0, 0.25, 0.5, 0.75, 1.0], \"type\": \"scatter\"}, {\"name\": \"success = 6\\n tosses = 9\", \"yaxis\": \"y2\", \"xaxis\": \"x2\", \"y\": [0.0, 7.989837111322304e-07, 4.3077168425708135e-05, 0.00040907966009970305, 0.0018938873152764021, 0.005873872876336508, 0.014042937706860131, 0.0278517435943692, 0.047801154685779286, 0.07280739067692474, 0.09987296389152914, 0.12426432985697708, 0.1403143234141982, 0.14283488028690608, 0.12894325738133888, 0.09987296389152918, 0.062058899546977235, 0.026454766059438126, 0.004659673003323195, 0.0], \"x\": [0.0, 0.05263157894736842, 0.10526315789473684, 0.15789473684210525, 0.21052631578947367, 0.2631578947368421, 0.3157894736842105, 0.3684210526315789, 0.42105263157894735, 0.47368421052631576, 0.5263157894736842, 0.5789473684210527, 0.631578947368421, 0.6842105263157894, 0.7368421052631579, 0.7894736842105263, 0.8421052631578947, 0.894736842105263, 0.9473684210526315, 1.0], \"type\": \"scatter\"}], {\"paper_bgcolor\": \"rgb(233,233,233)\", \"plot_bgcolor\": \"rgb(200, 200, 200)\", \"xaxis2\": {\"domain\": [0.55, 1.0], \"anchor\": \"y2\", \"title\": \"Probability of Water\"}, \"xaxis1\": {\"domain\": [0.0, 0.45], \"anchor\": \"y1\", \"title\": \"Probability of Water\"}, \"height\": 400, \"yaxis1\": {\"domain\": [0.0, 1.0], \"anchor\": \"x1\", \"title\": \"Posterior Probability\"}, \"yaxis2\": {\"domain\": [0.0, 1.0], \"anchor\": \"x2\", \"title\": \"Posterior Probability\"}, \"annotations\": [{\"yanchor\": \"bottom\", \"xref\": \"paper\", \"xanchor\": \"center\", \"yref\": \"paper\", \"text\": \"5 Points\", \"y\": 1.0, \"x\": 0.225, \"font\": {\"size\": 16}, \"showarrow\": false}, {\"yanchor\": \"bottom\", \"xref\": \"paper\", \"xanchor\": \"center\", \"yref\": \"paper\", \"text\": \"20 Points\", \"y\": 1.0, \"x\": 0.775, \"font\": {\"size\": 16}, \"showarrow\": false}]}, {\"linkText\": \"Export to plot.ly\", \"showLink\": true})});</script>"
      ]
     },
     "metadata": {},
     "output_type": "display_data"
    }
   ],
   "source": [
    "points = 5\n",
    "w, n = 6, 9\n",
    "p_grid, posterior = posterior_grid_approx(points, w, n)\n",
    "\n",
    "# Create a trace\n",
    "trace1 = go.Scatter(\n",
    "    x = p_grid,\n",
    "    y = posterior,\n",
    "    showlegend = False\n",
    "    \n",
    ")\n",
    "points = 20\n",
    "w, n = 6, 9\n",
    "p_grid, posterior = posterior_grid_approx(points, w, n)\n",
    "trace2 = go.Scatter(\n",
    "    x = p_grid,\n",
    "    y = posterior,\n",
    "    name = 'success = {}\\n tosses = {}'.format(w, n)\n",
    ")\n",
    "\n",
    "\n",
    "fig = tools.make_subplots(rows=1, cols=2, subplot_titles=('5 Points',\n",
    "                                                          '20 Points'),print_grid=False)\n",
    "\n",
    "\n",
    "fig.append_trace(trace1, 1, 1)\n",
    "fig.append_trace(trace2, 1, 2)\n",
    "\n",
    "fig['layout']['xaxis1'].update(title='Probability of Water')\n",
    "fig['layout']['xaxis2'].update(title='Probability of Water')\n",
    "fig['layout']\n",
    "\n",
    "fig['layout']['yaxis1'].update(title='Posterior Probability')\n",
    "fig['layout']['yaxis2'].update(title='Posterior Probability')\n",
    "fig['layout'].update(height=400)\n",
    "\n",
    "fig['layout'].update(paper_bgcolor='rgb(233,233,233)')\n",
    "fig['layout'].update(plot_bgcolor='rgb(200, 200, 200)')\n",
    "\n",
    "iplot(fig)"
   ]
  }
 ],
 "metadata": {
  "hide_input": false,
  "kernelspec": {
   "display_name": "Python 2",
   "language": "python",
   "name": "python2"
  },
  "language_info": {
   "codemirror_mode": {
    "name": "ipython",
    "version": 2
   },
   "file_extension": ".py",
   "mimetype": "text/x-python",
   "name": "python",
   "nbconvert_exporter": "python",
   "pygments_lexer": "ipython2",
   "version": "2.7.14"
  },
  "latex_envs": {
   "LaTeX_envs_menu_present": true,
   "autoclose": false,
   "autocomplete": true,
   "bibliofile": "biblio.bib",
   "cite_by": "apalike",
   "current_citInitial": 1,
   "eqLabelWithNumbers": true,
   "eqNumInitial": 1,
   "hotkeys": {
    "equation": "Ctrl-E",
    "itemize": "Ctrl-I"
   },
   "labels_anchors": false,
   "latex_user_defs": false,
   "report_style_numbering": false,
   "user_envs_cfg": false
  }
 },
 "nbformat": 4,
 "nbformat_minor": 2
}
