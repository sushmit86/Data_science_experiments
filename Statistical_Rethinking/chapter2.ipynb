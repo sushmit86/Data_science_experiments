{
 "cells": [
  {
   "cell_type": "code",
<<<<<<< HEAD
   "execution_count": 43,
   "metadata": {},
=======
   "execution_count": 1,
   "metadata": {
    "collapsed": true
   },
>>>>>>> d2b19e41c4906ee01f451a8c47b9a1fdbc2e692e
   "outputs": [],
   "source": [
    "from scipy.stats import binom\n",
    "import numpy as np\n",
    "import plotly.plotly as py\n",
<<<<<<< HEAD
    "import plotly.graph_objs as go\n"
=======
    "import plotly.graph_objs as go\n",
    "from plotly import tools\n",
    "import scipy.stats as stats\n",
    "import pymc3 as pm\n",
    "import plotly.figure_factory as ff\n"
>>>>>>> d2b19e41c4906ee01f451a8c47b9a1fdbc2e692e
   ]
  },
  {
   "cell_type": "markdown",
   "metadata": {},
   "source": [
    "### R code 2.1"
   ]
  },
  {
   "cell_type": "code",
<<<<<<< HEAD
   "execution_count": 7,
=======
   "execution_count": 2,
>>>>>>> d2b19e41c4906ee01f451a8c47b9a1fdbc2e692e
   "metadata": {},
   "outputs": [
    {
     "data": {
      "text/plain": [
       "array([ 0.  ,  0.15,  0.4 ,  0.45,  0.  ])"
      ]
     },
<<<<<<< HEAD
     "execution_count": 7,
=======
     "execution_count": 2,
>>>>>>> d2b19e41c4906ee01f451a8c47b9a1fdbc2e692e
     "metadata": {},
     "output_type": "execute_result"
    }
   ],
   "source": [
    "ways = np.array([0,3,8,9,0])\n",
    "ways/sum(ways)"
   ]
  },
  {
   "cell_type": "markdown",
   "metadata": {},
   "source": [
    "#### R code 2.2"
   ]
  },
  {
   "cell_type": "code",
<<<<<<< HEAD
   "execution_count": 4,
=======
   "execution_count": 3,
>>>>>>> d2b19e41c4906ee01f451a8c47b9a1fdbc2e692e
   "metadata": {},
   "outputs": [
    {
     "data": {
      "text/plain": [
       "0.16406250000000006"
      ]
     },
<<<<<<< HEAD
     "execution_count": 4,
=======
     "execution_count": 3,
>>>>>>> d2b19e41c4906ee01f451a8c47b9a1fdbc2e692e
     "metadata": {},
     "output_type": "execute_result"
    }
   ],
   "source": [
    "binom.pmf(6,9,0.5)"
   ]
  },
  {
   "cell_type": "markdown",
   "metadata": {},
   "source": [
    "#### R code 2.3"
   ]
  },
  {
   "cell_type": "code",
<<<<<<< HEAD
   "execution_count": 49,
   "metadata": {},
   "outputs": [
    {
     "data": {
      "text/html": [
       "<iframe id=\"igraph\" scrolling=\"no\" style=\"border:none;\" seamless=\"seamless\" src=\"https://plot.ly/~sushmit/146.embed\" height=\"525px\" width=\"100%\"></iframe>"
=======
   "execution_count": 4,
   "metadata": {},
   "outputs": [
    {
     "name": "stdout",
     "output_type": "stream",
     "text": [
      "This is the format of your plot grid:\n",
      "[ (1,1) x1,y1 ]  [ (1,2) x2,y2 ]  [ (1,3) x3,y3 ]\n",
      "\n"
     ]
    },
    {
     "data": {
      "text/html": [
       "<iframe id=\"igraph\" scrolling=\"no\" style=\"border:none;\" seamless=\"seamless\" src=\"https://plot.ly/~sushmit/152.embed\" height=\"525px\" width=\"100%\"></iframe>"
>>>>>>> d2b19e41c4906ee01f451a8c47b9a1fdbc2e692e
      ],
      "text/plain": [
       "<plotly.tools.PlotlyDisplay object>"
      ]
     },
<<<<<<< HEAD
     "execution_count": 49,
=======
     "execution_count": 4,
>>>>>>> d2b19e41c4906ee01f451a8c47b9a1fdbc2e692e
     "metadata": {},
     "output_type": "execute_result"
    }
   ],
   "source": [
    "p_grid = np.linspace(start =0, stop = 1, num=20)\n",
    "prior = np.repeat(1,20)\n",
    "# compute likelihood at each value in grid\n",
    "likelihood = binom.pmf(6,9,p_grid)\n",
    "# compute product of likelihood and prior\n",
    "unstd_posterior = likelihood * prior\n",
    "\n",
    "# standardize the posterior, so it sums to 1\n",
    "posterior = unstd_posterior / sum(unstd_posterior)\n",
    "\n",
    "# Create a trace\n",
<<<<<<< HEAD
    "trace = go.Scatter(\n",
=======
    "trace1 = go.Scatter(\n",
    "    x = p_grid,\n",
    "    y = posterior,\n",
    "    mode = 'lines+markers'\n",
    ")\n",
    "\n",
    "p_grid = np.linspace(start =0, stop = 1, num=20)\n",
    "prior = np.where(p_grid < 0.5, 0,1)\n",
    "\n",
    "\n",
    "\n",
    "# compute likelihood at each value in grid\n",
    "likelihood = binom.pmf(6,9,p_grid)\n",
    "# compute product of likelihood and prior\n",
    "unstd_posterior = likelihood * prior\n",
    "\n",
    "# standardize the posterior, so it sums to 1\n",
    "posterior = unstd_posterior / sum(unstd_posterior)\n",
    "\n",
    "# Create a trace\n",
    "trace2 = go.Scatter(\n",
>>>>>>> d2b19e41c4906ee01f451a8c47b9a1fdbc2e692e
    "    x = p_grid,\n",
    "    y = posterior,\n",
    "    mode = 'lines+markers'\n",
    ")\n",
    "\n",
<<<<<<< HEAD
    "data = [trace]\n",
    "\n",
    "# Plot and embed in ipython notebook!\n",
    "py.iplot(data)"
=======
    "\n",
    "\n",
    "p_grid = np.linspace(start =0, stop = 1, num=20)\n",
    "prior = np.exp(-5*abs(p_grid -0.5))\n",
    "\n",
    "\n",
    "\n",
    "# compute likelihood at each value in grid\n",
    "likelihood = binom.pmf(6,9,p_grid)\n",
    "# compute product of likelihood and prior\n",
    "unstd_posterior = likelihood * prior\n",
    "\n",
    "# standardize the posterior, so it sums to 1\n",
    "posterior = unstd_posterior / sum(unstd_posterior)\n",
    "\n",
    "# Create a trace\n",
    "trace3 = go.Scatter(\n",
    "    x = p_grid,\n",
    "    y = posterior,\n",
    "    mode = 'lines+markers'\n",
    ")\n",
    "\n",
    "\n",
    "fig = tools.make_subplots(rows=1, cols=3, subplot_titles=('Prior = 1', 'Prior = ifelse( p_grid < 0.5 , 0 , 1 )',\n",
    "                                                          'Prior = exp(-5*abs( p_grid - 0.5 ))'))\n",
    "\n",
    "fig.append_trace(trace1, 1, 1)\n",
    "fig.append_trace(trace2, 1, 2)\n",
    "fig.append_trace(trace3, 1, 3)\n",
    "\n",
    "py.iplot(fig, filename='make-subplots-multiple-with-titles')"
   ]
  },
  {
   "cell_type": "markdown",
   "metadata": {},
   "source": [
    "### Code 2.6"
   ]
  },
  {
   "cell_type": "code",
   "execution_count": 8,
   "metadata": {},
   "outputs": [
    {
     "name": "stderr",
     "output_type": "stream",
     "text": [
      "/Users/sushmitroy/anaconda/lib/python3.6/site-packages/theano/tensor/basic.py:2146: UserWarning:\n",
      "\n",
      "theano.tensor.round() changed its default from `half_away_from_zero` to `half_to_even` to have the same default as NumPy. Use the Theano flag `warn.round=False` to disable this warning.\n",
      "\n"
     ]
    },
    {
     "name": "stdout",
     "output_type": "stream",
     "text": [
      "Optimization terminated successfully.\n",
      "         Current function value: 1.966758\n",
      "         Iterations: 6\n",
      "         Function evaluations: 12\n",
      "         Gradient evaluations: 10\n",
      "0.6666666666399004 [ 0.07856742]\n",
      "[ 0.54110075  0.79223258]\n"
     ]
    }
   ],
   "source": [
    "data = np.repeat((0, 1), (12, 24))\n",
    "with pm.Model() as normal_aproximation:\n",
    "    p = pm.Uniform('p', 0, 1, transform=None)\n",
    "    w = pm.Binomial('w', n=len(data), p=p, observed=data.sum())\n",
    "    mean_q = pm.find_MAP()\n",
    "    std_q = ((1/pm.find_hessian(mean_q))**0.5)[0]\n",
    "print(mean_q['p'], std_q)\n",
    "\n",
    "norm = stats.norm(mean_q, std_q)\n",
    "prob = .89\n",
    "z = stats.norm.ppf([(1-prob)/2, (1+prob)/2])\n",
    "pi = mean_q['p'] + std_q * z \n",
    "print(pi)"
   ]
  },
  {
   "cell_type": "markdown",
   "metadata": {},
   "source": [
    "### Code 2.7"
   ]
  },
  {
   "cell_type": "code",
   "execution_count": 11,
   "metadata": {},
   "outputs": [
    {
     "data": {
      "text/html": [
       "<iframe id=\"igraph\" scrolling=\"no\" style=\"border:none;\" seamless=\"seamless\" src=\"https://plot.ly/~sushmit/180.embed\" height=\"525px\" width=\"100%\"></iframe>"
      ],
      "text/plain": [
       "<plotly.tools.PlotlyDisplay object>"
      ]
     },
     "execution_count": 11,
     "metadata": {},
     "output_type": "execute_result"
    }
   ],
   "source": [
    "w = 24\n",
    "n = 36\n",
    "x = np.linspace(0, 1, 100)\n",
    "ana_soln=stats.beta.pdf(x , w+1, n-w+1)\n",
    "\n",
    "trace1 = go.Scatter(\n",
    "    x = x,\n",
    "    y = ana_soln,\n",
    "    mode = 'line',\n",
    "    name = 'analytical solution'\n",
    ")\n",
    "\n",
    "\n",
    "x = np.linspace(0, 1, 100)\n",
    "quad_soln = stats.norm.pdf(x,loc = 0.67,scale = 0.07856742) \n",
    "\n",
    "trace2 = go.Scatter(\n",
    "    x = x,\n",
    "    y = quad_soln,\n",
    "    mode = 'line',\n",
    "    name = 'quadratic approximation'\n",
    ")\n",
    "layout = dict(title = 'n=36')\n",
    "data_to_plot =[trace1,trace2]\n",
    "# py.iplot(data_to_plot)\n",
    "\n",
    "fig= go.Figure(data=data_to_plot, layout=layout)\n",
    "py.iplot(fig)\n"
>>>>>>> d2b19e41c4906ee01f451a8c47b9a1fdbc2e692e
   ]
  }
 ],
 "metadata": {
  "kernelspec": {
   "display_name": "Python 3",
   "language": "python",
   "name": "python3"
  },
  "language_info": {
   "codemirror_mode": {
    "name": "ipython",
    "version": 3
   },
   "file_extension": ".py",
   "mimetype": "text/x-python",
   "name": "python",
   "nbconvert_exporter": "python",
   "pygments_lexer": "ipython3",
   "version": "3.6.1"
  }
 },
 "nbformat": 4,
 "nbformat_minor": 2
}
