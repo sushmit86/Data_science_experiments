{
 "cells": [
  {
   "cell_type": "code",
   "execution_count": 1,
   "metadata": {
    "inputHidden": false,
    "outputHidden": false
   },
   "outputs": [
    {
     "data": {
      "text/html": [
       "\n",
       "    <div class=\"bk-root\">\n",
       "        <a href=\"https://bokeh.pydata.org\" target=\"_blank\" class=\"bk-logo bk-logo-small bk-logo-notebook\"></a>\n",
       "        <span id=\"1001\">Loading BokehJS ...</span>\n",
       "    </div>"
      ]
     },
     "metadata": {},
     "output_type": "display_data"
    },
    {
     "data": {
      "application/javascript": [
       "\n",
       "(function(root) {\n",
       "  function now() {\n",
       "    return new Date();\n",
       "  }\n",
       "\n",
       "  var force = true;\n",
       "\n",
       "  if (typeof (root._bokeh_onload_callbacks) === \"undefined\" || force === true) {\n",
       "    root._bokeh_onload_callbacks = [];\n",
       "    root._bokeh_is_loading = undefined;\n",
       "  }\n",
       "\n",
       "  var JS_MIME_TYPE = 'application/javascript';\n",
       "  var HTML_MIME_TYPE = 'text/html';\n",
       "  var EXEC_MIME_TYPE = 'application/vnd.bokehjs_exec.v0+json';\n",
       "  var CLASS_NAME = 'output_bokeh rendered_html';\n",
       "\n",
       "  /**\n",
       "   * Render data to the DOM node\n",
       "   */\n",
       "  function render(props, node) {\n",
       "    var script = document.createElement(\"script\");\n",
       "    node.appendChild(script);\n",
       "  }\n",
       "\n",
       "  /**\n",
       "   * Handle when an output is cleared or removed\n",
       "   */\n",
       "  function handleClearOutput(event, handle) {\n",
       "    var cell = handle.cell;\n",
       "\n",
       "    var id = cell.output_area._bokeh_element_id;\n",
       "    var server_id = cell.output_area._bokeh_server_id;\n",
       "    // Clean up Bokeh references\n",
       "    if (id != null && id in Bokeh.index) {\n",
       "      Bokeh.index[id].model.document.clear();\n",
       "      delete Bokeh.index[id];\n",
       "    }\n",
       "\n",
       "    if (server_id !== undefined) {\n",
       "      // Clean up Bokeh references\n",
       "      var cmd = \"from bokeh.io.state import curstate; print(curstate().uuid_to_server['\" + server_id + \"'].get_sessions()[0].document.roots[0]._id)\";\n",
       "      cell.notebook.kernel.execute(cmd, {\n",
       "        iopub: {\n",
       "          output: function(msg) {\n",
       "            var id = msg.content.text.trim();\n",
       "            if (id in Bokeh.index) {\n",
       "              Bokeh.index[id].model.document.clear();\n",
       "              delete Bokeh.index[id];\n",
       "            }\n",
       "          }\n",
       "        }\n",
       "      });\n",
       "      // Destroy server and session\n",
       "      var cmd = \"import bokeh.io.notebook as ion; ion.destroy_server('\" + server_id + \"')\";\n",
       "      cell.notebook.kernel.execute(cmd);\n",
       "    }\n",
       "  }\n",
       "\n",
       "  /**\n",
       "   * Handle when a new output is added\n",
       "   */\n",
       "  function handleAddOutput(event, handle) {\n",
       "    var output_area = handle.output_area;\n",
       "    var output = handle.output;\n",
       "\n",
       "    // limit handleAddOutput to display_data with EXEC_MIME_TYPE content only\n",
       "    if ((output.output_type != \"display_data\") || (!output.data.hasOwnProperty(EXEC_MIME_TYPE))) {\n",
       "      return\n",
       "    }\n",
       "\n",
       "    var toinsert = output_area.element.find(\".\" + CLASS_NAME.split(' ')[0]);\n",
       "\n",
       "    if (output.metadata[EXEC_MIME_TYPE][\"id\"] !== undefined) {\n",
       "      toinsert[toinsert.length - 1].firstChild.textContent = output.data[JS_MIME_TYPE];\n",
       "      // store reference to embed id on output_area\n",
       "      output_area._bokeh_element_id = output.metadata[EXEC_MIME_TYPE][\"id\"];\n",
       "    }\n",
       "    if (output.metadata[EXEC_MIME_TYPE][\"server_id\"] !== undefined) {\n",
       "      var bk_div = document.createElement(\"div\");\n",
       "      bk_div.innerHTML = output.data[HTML_MIME_TYPE];\n",
       "      var script_attrs = bk_div.children[0].attributes;\n",
       "      for (var i = 0; i < script_attrs.length; i++) {\n",
       "        toinsert[toinsert.length - 1].firstChild.setAttribute(script_attrs[i].name, script_attrs[i].value);\n",
       "      }\n",
       "      // store reference to server id on output_area\n",
       "      output_area._bokeh_server_id = output.metadata[EXEC_MIME_TYPE][\"server_id\"];\n",
       "    }\n",
       "  }\n",
       "\n",
       "  function register_renderer(events, OutputArea) {\n",
       "\n",
       "    function append_mime(data, metadata, element) {\n",
       "      // create a DOM node to render to\n",
       "      var toinsert = this.create_output_subarea(\n",
       "        metadata,\n",
       "        CLASS_NAME,\n",
       "        EXEC_MIME_TYPE\n",
       "      );\n",
       "      this.keyboard_manager.register_events(toinsert);\n",
       "      // Render to node\n",
       "      var props = {data: data, metadata: metadata[EXEC_MIME_TYPE]};\n",
       "      render(props, toinsert[toinsert.length - 1]);\n",
       "      element.append(toinsert);\n",
       "      return toinsert\n",
       "    }\n",
       "\n",
       "    /* Handle when an output is cleared or removed */\n",
       "    events.on('clear_output.CodeCell', handleClearOutput);\n",
       "    events.on('delete.Cell', handleClearOutput);\n",
       "\n",
       "    /* Handle when a new output is added */\n",
       "    events.on('output_added.OutputArea', handleAddOutput);\n",
       "\n",
       "    /**\n",
       "     * Register the mime type and append_mime function with output_area\n",
       "     */\n",
       "    OutputArea.prototype.register_mime_type(EXEC_MIME_TYPE, append_mime, {\n",
       "      /* Is output safe? */\n",
       "      safe: true,\n",
       "      /* Index of renderer in `output_area.display_order` */\n",
       "      index: 0\n",
       "    });\n",
       "  }\n",
       "\n",
       "  // register the mime type if in Jupyter Notebook environment and previously unregistered\n",
       "  if (root.Jupyter !== undefined) {\n",
       "    var events = require('base/js/events');\n",
       "    var OutputArea = require('notebook/js/outputarea').OutputArea;\n",
       "\n",
       "    if (OutputArea.prototype.mime_types().indexOf(EXEC_MIME_TYPE) == -1) {\n",
       "      register_renderer(events, OutputArea);\n",
       "    }\n",
       "  }\n",
       "\n",
       "  \n",
       "  if (typeof (root._bokeh_timeout) === \"undefined\" || force === true) {\n",
       "    root._bokeh_timeout = Date.now() + 5000;\n",
       "    root._bokeh_failed_load = false;\n",
       "  }\n",
       "\n",
       "  var NB_LOAD_WARNING = {'data': {'text/html':\n",
       "     \"<div style='background-color: #fdd'>\\n\"+\n",
       "     \"<p>\\n\"+\n",
       "     \"BokehJS does not appear to have successfully loaded. If loading BokehJS from CDN, this \\n\"+\n",
       "     \"may be due to a slow or bad network connection. Possible fixes:\\n\"+\n",
       "     \"</p>\\n\"+\n",
       "     \"<ul>\\n\"+\n",
       "     \"<li>re-rerun `output_notebook()` to attempt to load from CDN again, or</li>\\n\"+\n",
       "     \"<li>use INLINE resources instead, as so:</li>\\n\"+\n",
       "     \"</ul>\\n\"+\n",
       "     \"<code>\\n\"+\n",
       "     \"from bokeh.resources import INLINE\\n\"+\n",
       "     \"output_notebook(resources=INLINE)\\n\"+\n",
       "     \"</code>\\n\"+\n",
       "     \"</div>\"}};\n",
       "\n",
       "  function display_loaded() {\n",
       "    var el = document.getElementById(\"1001\");\n",
       "    if (el != null) {\n",
       "      el.textContent = \"BokehJS is loading...\";\n",
       "    }\n",
       "    if (root.Bokeh !== undefined) {\n",
       "      if (el != null) {\n",
       "        el.textContent = \"BokehJS \" + root.Bokeh.version + \" successfully loaded.\";\n",
       "      }\n",
       "    } else if (Date.now() < root._bokeh_timeout) {\n",
       "      setTimeout(display_loaded, 100)\n",
       "    }\n",
       "  }\n",
       "\n",
       "\n",
       "  function run_callbacks() {\n",
       "    try {\n",
       "      root._bokeh_onload_callbacks.forEach(function(callback) { callback() });\n",
       "    }\n",
       "    finally {\n",
       "      delete root._bokeh_onload_callbacks\n",
       "    }\n",
       "    console.info(\"Bokeh: all callbacks have finished\");\n",
       "  }\n",
       "\n",
       "  function load_libs(js_urls, callback) {\n",
       "    root._bokeh_onload_callbacks.push(callback);\n",
       "    if (root._bokeh_is_loading > 0) {\n",
       "      console.log(\"Bokeh: BokehJS is being loaded, scheduling callback at\", now());\n",
       "      return null;\n",
       "    }\n",
       "    if (js_urls == null || js_urls.length === 0) {\n",
       "      run_callbacks();\n",
       "      return null;\n",
       "    }\n",
       "    console.log(\"Bokeh: BokehJS not loaded, scheduling load and callback at\", now());\n",
       "    root._bokeh_is_loading = js_urls.length;\n",
       "    for (var i = 0; i < js_urls.length; i++) {\n",
       "      var url = js_urls[i];\n",
       "      var s = document.createElement('script');\n",
       "      s.src = url;\n",
       "      s.async = false;\n",
       "      s.onreadystatechange = s.onload = function() {\n",
       "        root._bokeh_is_loading--;\n",
       "        if (root._bokeh_is_loading === 0) {\n",
       "          console.log(\"Bokeh: all BokehJS libraries loaded\");\n",
       "          run_callbacks()\n",
       "        }\n",
       "      };\n",
       "      s.onerror = function() {\n",
       "        console.warn(\"failed to load library \" + url);\n",
       "      };\n",
       "      console.log(\"Bokeh: injecting script tag for BokehJS library: \", url);\n",
       "      document.getElementsByTagName(\"head\")[0].appendChild(s);\n",
       "    }\n",
       "  };var element = document.getElementById(\"1001\");\n",
       "  if (element == null) {\n",
       "    console.log(\"Bokeh: ERROR: autoload.js configured with elementid '1001' but no matching script tag was found. \")\n",
       "    return false;\n",
       "  }\n",
       "\n",
       "  var js_urls = [\"https://cdn.pydata.org/bokeh/release/bokeh-1.0.2.min.js\", \"https://cdn.pydata.org/bokeh/release/bokeh-widgets-1.0.2.min.js\", \"https://cdn.pydata.org/bokeh/release/bokeh-tables-1.0.2.min.js\", \"https://cdn.pydata.org/bokeh/release/bokeh-gl-1.0.2.min.js\"];\n",
       "\n",
       "  var inline_js = [\n",
       "    function(Bokeh) {\n",
       "      Bokeh.set_log_level(\"info\");\n",
       "    },\n",
       "    \n",
       "    function(Bokeh) {\n",
       "      \n",
       "    },\n",
       "    function(Bokeh) {\n",
       "      console.log(\"Bokeh: injecting CSS: https://cdn.pydata.org/bokeh/release/bokeh-1.0.2.min.css\");\n",
       "      Bokeh.embed.inject_css(\"https://cdn.pydata.org/bokeh/release/bokeh-1.0.2.min.css\");\n",
       "      console.log(\"Bokeh: injecting CSS: https://cdn.pydata.org/bokeh/release/bokeh-widgets-1.0.2.min.css\");\n",
       "      Bokeh.embed.inject_css(\"https://cdn.pydata.org/bokeh/release/bokeh-widgets-1.0.2.min.css\");\n",
       "      console.log(\"Bokeh: injecting CSS: https://cdn.pydata.org/bokeh/release/bokeh-tables-1.0.2.min.css\");\n",
       "      Bokeh.embed.inject_css(\"https://cdn.pydata.org/bokeh/release/bokeh-tables-1.0.2.min.css\");\n",
       "    }\n",
       "  ];\n",
       "\n",
       "  function run_inline_js() {\n",
       "    \n",
       "    if ((root.Bokeh !== undefined) || (force === true)) {\n",
       "      for (var i = 0; i < inline_js.length; i++) {\n",
       "        inline_js[i].call(root, root.Bokeh);\n",
       "      }if (force === true) {\n",
       "        display_loaded();\n",
       "      }} else if (Date.now() < root._bokeh_timeout) {\n",
       "      setTimeout(run_inline_js, 100);\n",
       "    } else if (!root._bokeh_failed_load) {\n",
       "      console.log(\"Bokeh: BokehJS failed to load within specified timeout.\");\n",
       "      root._bokeh_failed_load = true;\n",
       "    } else if (force !== true) {\n",
       "      var cell = $(document.getElementById(\"1001\")).parents('.cell').data().cell;\n",
       "      cell.output_area.append_execute_result(NB_LOAD_WARNING)\n",
       "    }\n",
       "\n",
       "  }\n",
       "\n",
       "  if (root._bokeh_is_loading === 0) {\n",
       "    console.log(\"Bokeh: BokehJS loaded, going straight to plotting\");\n",
       "    run_inline_js();\n",
       "  } else {\n",
       "    load_libs(js_urls, function() {\n",
       "      console.log(\"Bokeh: BokehJS plotting callback run at\", now());\n",
       "      run_inline_js();\n",
       "    });\n",
       "  }\n",
       "}(window));"
      ],
      "application/vnd.bokehjs_load.v0+json": "\n(function(root) {\n  function now() {\n    return new Date();\n  }\n\n  var force = true;\n\n  if (typeof (root._bokeh_onload_callbacks) === \"undefined\" || force === true) {\n    root._bokeh_onload_callbacks = [];\n    root._bokeh_is_loading = undefined;\n  }\n\n  \n\n  \n  if (typeof (root._bokeh_timeout) === \"undefined\" || force === true) {\n    root._bokeh_timeout = Date.now() + 5000;\n    root._bokeh_failed_load = false;\n  }\n\n  var NB_LOAD_WARNING = {'data': {'text/html':\n     \"<div style='background-color: #fdd'>\\n\"+\n     \"<p>\\n\"+\n     \"BokehJS does not appear to have successfully loaded. If loading BokehJS from CDN, this \\n\"+\n     \"may be due to a slow or bad network connection. Possible fixes:\\n\"+\n     \"</p>\\n\"+\n     \"<ul>\\n\"+\n     \"<li>re-rerun `output_notebook()` to attempt to load from CDN again, or</li>\\n\"+\n     \"<li>use INLINE resources instead, as so:</li>\\n\"+\n     \"</ul>\\n\"+\n     \"<code>\\n\"+\n     \"from bokeh.resources import INLINE\\n\"+\n     \"output_notebook(resources=INLINE)\\n\"+\n     \"</code>\\n\"+\n     \"</div>\"}};\n\n  function display_loaded() {\n    var el = document.getElementById(\"1001\");\n    if (el != null) {\n      el.textContent = \"BokehJS is loading...\";\n    }\n    if (root.Bokeh !== undefined) {\n      if (el != null) {\n        el.textContent = \"BokehJS \" + root.Bokeh.version + \" successfully loaded.\";\n      }\n    } else if (Date.now() < root._bokeh_timeout) {\n      setTimeout(display_loaded, 100)\n    }\n  }\n\n\n  function run_callbacks() {\n    try {\n      root._bokeh_onload_callbacks.forEach(function(callback) { callback() });\n    }\n    finally {\n      delete root._bokeh_onload_callbacks\n    }\n    console.info(\"Bokeh: all callbacks have finished\");\n  }\n\n  function load_libs(js_urls, callback) {\n    root._bokeh_onload_callbacks.push(callback);\n    if (root._bokeh_is_loading > 0) {\n      console.log(\"Bokeh: BokehJS is being loaded, scheduling callback at\", now());\n      return null;\n    }\n    if (js_urls == null || js_urls.length === 0) {\n      run_callbacks();\n      return null;\n    }\n    console.log(\"Bokeh: BokehJS not loaded, scheduling load and callback at\", now());\n    root._bokeh_is_loading = js_urls.length;\n    for (var i = 0; i < js_urls.length; i++) {\n      var url = js_urls[i];\n      var s = document.createElement('script');\n      s.src = url;\n      s.async = false;\n      s.onreadystatechange = s.onload = function() {\n        root._bokeh_is_loading--;\n        if (root._bokeh_is_loading === 0) {\n          console.log(\"Bokeh: all BokehJS libraries loaded\");\n          run_callbacks()\n        }\n      };\n      s.onerror = function() {\n        console.warn(\"failed to load library \" + url);\n      };\n      console.log(\"Bokeh: injecting script tag for BokehJS library: \", url);\n      document.getElementsByTagName(\"head\")[0].appendChild(s);\n    }\n  };var element = document.getElementById(\"1001\");\n  if (element == null) {\n    console.log(\"Bokeh: ERROR: autoload.js configured with elementid '1001' but no matching script tag was found. \")\n    return false;\n  }\n\n  var js_urls = [\"https://cdn.pydata.org/bokeh/release/bokeh-1.0.2.min.js\", \"https://cdn.pydata.org/bokeh/release/bokeh-widgets-1.0.2.min.js\", \"https://cdn.pydata.org/bokeh/release/bokeh-tables-1.0.2.min.js\", \"https://cdn.pydata.org/bokeh/release/bokeh-gl-1.0.2.min.js\"];\n\n  var inline_js = [\n    function(Bokeh) {\n      Bokeh.set_log_level(\"info\");\n    },\n    \n    function(Bokeh) {\n      \n    },\n    function(Bokeh) {\n      console.log(\"Bokeh: injecting CSS: https://cdn.pydata.org/bokeh/release/bokeh-1.0.2.min.css\");\n      Bokeh.embed.inject_css(\"https://cdn.pydata.org/bokeh/release/bokeh-1.0.2.min.css\");\n      console.log(\"Bokeh: injecting CSS: https://cdn.pydata.org/bokeh/release/bokeh-widgets-1.0.2.min.css\");\n      Bokeh.embed.inject_css(\"https://cdn.pydata.org/bokeh/release/bokeh-widgets-1.0.2.min.css\");\n      console.log(\"Bokeh: injecting CSS: https://cdn.pydata.org/bokeh/release/bokeh-tables-1.0.2.min.css\");\n      Bokeh.embed.inject_css(\"https://cdn.pydata.org/bokeh/release/bokeh-tables-1.0.2.min.css\");\n    }\n  ];\n\n  function run_inline_js() {\n    \n    if ((root.Bokeh !== undefined) || (force === true)) {\n      for (var i = 0; i < inline_js.length; i++) {\n        inline_js[i].call(root, root.Bokeh);\n      }if (force === true) {\n        display_loaded();\n      }} else if (Date.now() < root._bokeh_timeout) {\n      setTimeout(run_inline_js, 100);\n    } else if (!root._bokeh_failed_load) {\n      console.log(\"Bokeh: BokehJS failed to load within specified timeout.\");\n      root._bokeh_failed_load = true;\n    } else if (force !== true) {\n      var cell = $(document.getElementById(\"1001\")).parents('.cell').data().cell;\n      cell.output_area.append_execute_result(NB_LOAD_WARNING)\n    }\n\n  }\n\n  if (root._bokeh_is_loading === 0) {\n    console.log(\"Bokeh: BokehJS loaded, going straight to plotting\");\n    run_inline_js();\n  } else {\n    load_libs(js_urls, function() {\n      console.log(\"Bokeh: BokehJS plotting callback run at\", now());\n      run_inline_js();\n    });\n  }\n}(window));"
     },
     "metadata": {},
     "output_type": "display_data"
    }
   ],
   "source": [
    "import pandas as pd\n",
    "import numpy as np\n",
    "from scipy import stats\n",
    "import xarray\n",
    "\n",
    "np.random.seed(1)\n",
    "### Bokeh Libraries \n",
    "from bokeh.io import output_notebook, show\n",
    "from bokeh.plotting import figure\n",
    "from bokeh.models import Span,Range1d,Label,LabelSet\n",
    "output_notebook()"
   ]
  },
  {
   "cell_type": "markdown",
   "metadata": {
    "inputHidden": false,
    "outputHidden": false
   },
   "source": [
    "### Figure 4.1 simulations"
   ]
  },
  {
   "cell_type": "code",
   "execution_count": 2,
   "metadata": {
    "inputHidden": false,
    "outputHidden": false
   },
   "outputs": [
    {
     "data": {
      "text/html": [
       "\n",
       "\n",
       "\n",
       "\n",
       "\n",
       "\n",
       "  <div class=\"bk-root\" id=\"65a3d138-95d6-452c-8763-dad482dc1e35\"></div>\n"
      ]
     },
     "metadata": {},
     "output_type": "display_data"
    },
    {
     "data": {
      "application/javascript": [
       "(function(root) {\n",
       "  function embed_document(root) {\n",
       "    \n",
       "  var docs_json = {\"a9b4b0e6-dae7-4eb4-a448-a0441393c007\":{\"roots\":{\"references\":[{\"attributes\":{\"below\":[{\"id\":\"1013\",\"type\":\"LinearAxis\"}],\"left\":[{\"id\":\"1018\",\"type\":\"LinearAxis\"}],\"plot_height\":400,\"renderers\":[{\"id\":\"1013\",\"type\":\"LinearAxis\"},{\"id\":\"1017\",\"type\":\"Grid\"},{\"id\":\"1018\",\"type\":\"LinearAxis\"},{\"id\":\"1022\",\"type\":\"Grid\"},{\"id\":\"1027\",\"type\":\"GlyphRenderer\"},{\"id\":\"1030\",\"type\":\"Span\"}],\"title\":{\"id\":\"1002\",\"type\":\"Title\"},\"toolbar\":{\"id\":\"1023\",\"type\":\"Toolbar\"},\"toolbar_location\":null,\"x_range\":{\"id\":\"1005\",\"type\":\"DataRange1d\"},\"x_scale\":{\"id\":\"1009\",\"type\":\"LinearScale\"},\"y_range\":{\"id\":\"1029\",\"type\":\"Range1d\"},\"y_scale\":{\"id\":\"1011\",\"type\":\"LinearScale\"}},\"id\":\"1003\",\"subtype\":\"Figure\",\"type\":\"Plot\"},{\"attributes\":{\"callback\":null},\"id\":\"1029\",\"type\":\"Range1d\"},{\"attributes\":{},\"id\":\"1035\",\"type\":\"BasicTickFormatter\"},{\"attributes\":{\"callback\":null},\"id\":\"1005\",\"type\":\"DataRange1d\"},{\"attributes\":{},\"id\":\"1036\",\"type\":\"UnionRenderers\"},{\"attributes\":{},\"id\":\"1037\",\"type\":\"Selection\"},{\"attributes\":{},\"id\":\"1009\",\"type\":\"LinearScale\"},{\"attributes\":{},\"id\":\"1011\",\"type\":\"LinearScale\"},{\"attributes\":{},\"id\":\"1033\",\"type\":\"BasicTickFormatter\"},{\"attributes\":{\"axis_label\":\"Flip Number\",\"formatter\":{\"id\":\"1033\",\"type\":\"BasicTickFormatter\"},\"plot\":{\"id\":\"1003\",\"subtype\":\"Figure\",\"type\":\"Plot\"},\"ticker\":{\"id\":\"1014\",\"type\":\"BasicTicker\"}},\"id\":\"1013\",\"type\":\"LinearAxis\"},{\"attributes\":{},\"id\":\"1014\",\"type\":\"BasicTicker\"},{\"attributes\":{\"axis_label\":\"Proportions of heads\",\"formatter\":{\"id\":\"1035\",\"type\":\"BasicTickFormatter\"},\"plot\":{\"id\":\"1003\",\"subtype\":\"Figure\",\"type\":\"Plot\"},\"ticker\":{\"id\":\"1019\",\"type\":\"BasicTicker\"}},\"id\":\"1018\",\"type\":\"LinearAxis\"},{\"attributes\":{\"plot\":{\"id\":\"1003\",\"subtype\":\"Figure\",\"type\":\"Plot\"},\"ticker\":{\"id\":\"1014\",\"type\":\"BasicTicker\"}},\"id\":\"1017\",\"type\":\"Grid\"},{\"attributes\":{},\"id\":\"1019\",\"type\":\"BasicTicker\"},{\"attributes\":{\"dimension\":1,\"plot\":{\"id\":\"1003\",\"subtype\":\"Figure\",\"type\":\"Plot\"},\"ticker\":{\"id\":\"1019\",\"type\":\"BasicTicker\"}},\"id\":\"1022\",\"type\":\"Grid\"},{\"attributes\":{\"line_alpha\":0.1,\"line_color\":\"#1f77b4\",\"x\":{\"field\":\"x\"},\"y\":{\"field\":\"y\"}},\"id\":\"1026\",\"type\":\"Line\"},{\"attributes\":{\"line_color\":\"#1f77b4\",\"x\":{\"field\":\"x\"},\"y\":{\"field\":\"y\"}},\"id\":\"1025\",\"type\":\"Line\"},{\"attributes\":{\"active_drag\":\"auto\",\"active_inspect\":\"auto\",\"active_multi\":null,\"active_scroll\":\"auto\",\"active_tap\":\"auto\"},\"id\":\"1023\",\"type\":\"Toolbar\"},{\"attributes\":{\"callback\":null,\"data\":{\"x\":[1,2,3,4,5,6,7,8,9,10,11,12,13,14,15,16,17,18,19,20,21,22,23,24,25,26,27,28,29,30,31,32,33,34,35,36,37,38,39,40,41,42,43,44,45,46,47,48,49,50,51,52,53,54,55,56,57,58,59,60,61,62,63,64,65,66,67,68,69,70,71,72,73,74,75,76,77,78,79,80,81,82,83,84,85,86,87,88,89,90,91,92,93,94,95,96,97,98,99,100,101,102,103,104,105,106,107,108,109,110,111,112,113,114,115,116,117,118,119,120,121,122,123,124,125,126,127,128,129,130,131,132,133,134,135,136,137,138,139,140,141,142,143,144,145,146,147,148,149,150,151,152,153,154,155,156,157,158,159,160,161,162,163,164,165,166,167,168,169,170,171,172,173,174,175,176,177,178,179,180,181,182,183,184,185,186,187,188,189,190,191,192,193,194,195,196,197,198,199,200,201,202,203,204,205,206,207,208,209,210,211,212,213,214,215,216,217,218,219,220,221,222,223,224,225,226,227,228,229,230,231,232,233,234,235,236,237,238,239,240,241,242,243,244,245,246,247,248,249,250,251,252,253,254,255,256,257,258,259,260,261,262,263,264,265,266,267,268,269,270,271,272,273,274,275,276,277,278,279,280,281,282,283,284,285,286,287,288,289,290,291,292,293,294,295,296,297,298,299,300,301,302,303,304,305,306,307,308,309,310,311,312,313,314,315,316,317,318,319,320,321,322,323,324,325,326,327,328,329,330,331,332,333,334,335,336,337,338,339,340,341,342,343,344,345,346,347,348,349,350,351,352,353,354,355,356,357,358,359,360,361,362,363,364,365,366,367,368,369,370,371,372,373,374,375,376,377,378,379,380,381,382,383,384,385,386,387,388,389,390,391,392,393,394,395,396,397,398,399,400,401,402,403,404,405,406,407,408,409,410,411,412,413,414,415,416,417,418,419,420,421,422,423,424,425,426,427,428,429,430,431,432,433,434,435,436,437,438,439,440,441,442,443,444,445,446,447,448,449,450,451,452,453,454,455,456,457,458,459,460,461,462,463,464,465,466,467,468,469,470,471,472,473,474,475,476,477,478,479,480,481,482,483,484,485,486,487,488,489,490,491,492,493,494,495,496,497,498,499,500],\"y\":{\"__ndarray__\":\"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\",\"dtype\":\"float64\",\"shape\":[500]}},\"selected\":{\"id\":\"1037\",\"type\":\"Selection\"},\"selection_policy\":{\"id\":\"1036\",\"type\":\"UnionRenderers\"}},\"id\":\"1024\",\"type\":\"ColumnDataSource\"},{\"attributes\":{\"data_source\":{\"id\":\"1024\",\"type\":\"ColumnDataSource\"},\"glyph\":{\"id\":\"1025\",\"type\":\"Line\"},\"hover_glyph\":null,\"muted_glyph\":null,\"nonselection_glyph\":{\"id\":\"1026\",\"type\":\"Line\"},\"selection_glyph\":null,\"view\":{\"id\":\"1028\",\"type\":\"CDSView\"}},\"id\":\"1027\",\"type\":\"GlyphRenderer\"},{\"attributes\":{\"plot\":null,\"text\":\"Running proportion of heads\"},\"id\":\"1002\",\"type\":\"Title\"},{\"attributes\":{\"source\":{\"id\":\"1024\",\"type\":\"ColumnDataSource\"}},\"id\":\"1028\",\"type\":\"CDSView\"},{\"attributes\":{\"line_color\":{\"value\":\"blue\"},\"location\":0.5,\"plot\":{\"id\":\"1003\",\"subtype\":\"Figure\",\"type\":\"Plot\"}},\"id\":\"1030\",\"type\":\"Span\"}],\"root_ids\":[\"1003\"]},\"title\":\"Bokeh Application\",\"version\":\"1.0.2\"}};\n",
       "  var render_items = [{\"docid\":\"a9b4b0e6-dae7-4eb4-a448-a0441393c007\",\"roots\":{\"1003\":\"65a3d138-95d6-452c-8763-dad482dc1e35\"}}];\n",
       "  root.Bokeh.embed.embed_items_notebook(docs_json, render_items);\n",
       "\n",
       "  }\n",
       "  if (root.Bokeh !== undefined) {\n",
       "    embed_document(root);\n",
       "  } else {\n",
       "    var attempts = 0;\n",
       "    var timer = setInterval(function(root) {\n",
       "      if (root.Bokeh !== undefined) {\n",
       "        embed_document(root);\n",
       "        clearInterval(timer);\n",
       "      }\n",
       "      attempts++;\n",
       "      if (attempts > 100) {\n",
       "        console.log(\"Bokeh: ERROR: Unable to run BokehJS code because BokehJS library is missing\");\n",
       "        clearInterval(timer);\n",
       "      }\n",
       "    }, 10, root)\n",
       "  }\n",
       "})(window);"
      ],
      "application/vnd.bokehjs_exec.v0+json": ""
     },
     "metadata": {
      "application/vnd.bokehjs_exec.v0+json": {
       "id": "1003"
      }
     },
     "output_type": "display_data"
    }
   ],
   "source": [
    "N = 500\n",
    "pheads = 0.5\n",
    "flipsequence= stats.bernoulli.rvs(p=pheads,loc=0,size=N)\n",
    "runProp=np.cumsum(flipsequence)/np.arange(1,501,1)\n",
    "p = figure(plot_width=600, plot_height=400, toolbar_location=None,tools=\"\",title = 'Running proportion of heads')\n",
    "p.line(np.arange(1,501,1),runProp ,line_width=1)\n",
    "p.xaxis.axis_label = \"Flip Number\"\n",
    "p.yaxis.axis_label = \"Proportions of heads\"\n",
    "p.y_range = Range1d(0, 1)\n",
    "hline = Span(location=pheads, dimension='width', line_color='blue')\n",
    "p.add_layout(hline)\n",
    "show(p)"
   ]
  },
  {
   "cell_type": "code",
   "execution_count": 3,
   "metadata": {
    "inputHidden": false,
    "outputHidden": false
   },
   "outputs": [],
   "source": [
    "## Creating the data set for Haireyecolor\n",
    "_name = 'HairEyeColor'\n",
    "raw_data = np.array([32, 53, 10, 3, 11, 50, 10, 30, 10, 25, 7, 5, 3, 15, 7, 8,\n",
    "                 36, 66, 16, 4,  9, 34,  7, 64,  5, 29, 7, 5, 2, 14, 7, 8])\n",
    "\n",
    "_dim = (4, 4, 2)\n",
    "raw_data = raw_data.reshape(_dim[::-1])\n",
    "\n",
    "_dims = ['Hair', 'Eye', 'Sex']\n",
    "_coords = [['Black', 'Brown', 'Red', 'Blond'], \n",
    "           ['Brown', 'Blue', 'Hazel', 'Green'],\n",
    "           ['Male', 'Female']]\n",
    "\n",
    "HairEyeColor_data = xarray.DataArray(\n",
    "    raw_data, dims=_dims[::-1],\n",
    "    coords=_coords[::-1], name=_name\n",
    ")\n"
   ]
  },
  {
   "cell_type": "markdown",
   "metadata": {},
   "source": [
    "### Exercise 4.1"
   ]
  },
  {
   "cell_type": "code",
   "execution_count": 4,
   "metadata": {
    "inputHidden": false,
    "outputHidden": false
   },
   "outputs": [
    {
     "name": "stdout",
     "output_type": "stream",
     "text": [
      "<xarray.DataArray 'HairEyeColor' (Sex: 2, Eye: 4, Hair: 4)>\n",
      "array([[[32, 53, 10,  3],\n",
      "        [11, 50, 10, 30],\n",
      "        [10, 25,  7,  5],\n",
      "        [ 3, 15,  7,  8]],\n",
      "\n",
      "       [[36, 66, 16,  4],\n",
      "        [ 9, 34,  7, 64],\n",
      "        [ 5, 29,  7,  5],\n",
      "        [ 2, 14,  7,  8]]])\n",
      "Coordinates:\n",
      "  * Sex      (Sex) <U6 'Male' 'Female'\n",
      "  * Eye      (Eye) <U5 'Brown' 'Blue' 'Hazel' 'Green'\n",
      "  * Hair     (Hair) <U5 'Black' 'Brown' 'Red' 'Blond'\n",
      "--------------------------------------------\n",
      "<xarray.DataArray 'HairEyeColor' (Eye: 4, Hair: 4)>\n",
      "array([[0.11, 0.2 , 0.04, 0.01],\n",
      "       [0.03, 0.14, 0.03, 0.16],\n",
      "       [0.03, 0.09, 0.02, 0.02],\n",
      "       [0.01, 0.05, 0.02, 0.03]])\n",
      "Coordinates:\n",
      "  * Eye      (Eye) <U5 'Brown' 'Blue' 'Hazel' 'Green'\n",
      "  * Hair     (Hair) <U5 'Black' 'Brown' 'Red' 'Blond'\n",
      "--------------------------------------------\n",
      "<xarray.DataArray 'HairEyeColor' (Hair: 4)>\n",
      "array([0.18, 0.48, 0.12, 0.21])\n",
      "Coordinates:\n",
      "  * Hair     (Hair) <U5 'Black' 'Brown' 'Red' 'Blond'\n",
      "--------------------------------------------\n",
      "<xarray.DataArray 'HairEyeColor' (Eye: 4)>\n",
      "array([0.37, 0.36, 0.16, 0.11])\n",
      "Coordinates:\n",
      "  * Eye      (Eye) <U5 'Brown' 'Blue' 'Hazel' 'Green'\n",
      "--------------------------------------------\n",
      "<xarray.DataArray 'HairEyeColor' (Hair: 4)>\n",
      "array([0.093023, 0.390698, 0.07907 , 0.437209])\n",
      "Coordinates:\n",
      "    Eye      <U5 'Blue'\n",
      "  * Hair     (Hair) <U5 'Black' 'Brown' 'Red' 'Blond'\n"
     ]
    }
   ],
   "source": [
    "## using xarray library\n",
    "print(HairEyeColor_data)\n",
    "print('--------------------------------------------')\n",
    "EyeHairFreq = HairEyeColor_data.sum(dim = 'Sex')\n",
    "EyeHairProp = EyeHairFreq / EyeHairFreq.sum() # joint proportions,Table 4.1\n",
    "print(np.around(EyeHairProp,2))\n",
    "print('--------------------------------------------')\n",
    "HairFreq = HairEyeColor_data.sum(dim= ['Sex','Eye'])\n",
    "HairProp = HairFreq/HairFreq.sum()\n",
    "print(np.around(HairProp,2))\n",
    "print('--------------------------------------------')\n",
    "EyeFreq = HairEyeColor_data.sum(dim= ['Hair','Sex'])\n",
    "EyeProp = EyeFreq/EyeFreq.sum()\n",
    "print(np.around(EyeProp,2)) # marginal proportions,Table 4.1\n",
    "print('--------------------------------------------')\n",
    "print(EyeHairProp.sel(Eye='Blue')/EyeProp.sel(Eye= 'Blue')) # conditional prob,Table 4.2"
   ]
  },
  {
   "cell_type": "markdown",
   "metadata": {},
   "source": [
    "### Exrecise 4.2"
   ]
  },
  {
   "cell_type": "code",
   "execution_count": 5,
   "metadata": {
    "inputHidden": false,
    "outputHidden": false
   },
   "outputs": [
    {
     "data": {
      "text/html": [
       "\n",
       "\n",
       "\n",
       "\n",
       "\n",
       "\n",
       "  <div class=\"bk-root\" id=\"e1712404-f83d-4bf3-bcad-d71a43bb13e0\"></div>\n"
      ]
     },
     "metadata": {},
     "output_type": "display_data"
    },
    {
     "data": {
      "application/javascript": [
       "(function(root) {\n",
       "  function embed_document(root) {\n",
       "    \n",
       "  var docs_json = {\"8b01d335-3c29-4e2f-998f-ca020c08cc36\":{\"roots\":{\"references\":[{\"attributes\":{\"below\":[{\"id\":\"1091\",\"type\":\"LinearAxis\"}],\"left\":[{\"id\":\"1096\",\"type\":\"LinearAxis\"}],\"plot_height\":400,\"renderers\":[{\"id\":\"1091\",\"type\":\"LinearAxis\"},{\"id\":\"1095\",\"type\":\"Grid\"},{\"id\":\"1096\",\"type\":\"LinearAxis\"},{\"id\":\"1100\",\"type\":\"Grid\"},{\"id\":\"1105\",\"type\":\"GlyphRenderer\"},{\"id\":\"1108\",\"type\":\"Span\"}],\"title\":{\"id\":\"1080\",\"type\":\"Title\"},\"toolbar\":{\"id\":\"1101\",\"type\":\"Toolbar\"},\"toolbar_location\":null,\"x_range\":{\"id\":\"1083\",\"type\":\"DataRange1d\"},\"x_scale\":{\"id\":\"1087\",\"type\":\"LinearScale\"},\"y_range\":{\"id\":\"1107\",\"type\":\"Range1d\"},\"y_scale\":{\"id\":\"1089\",\"type\":\"LinearScale\"}},\"id\":\"1081\",\"subtype\":\"Figure\",\"type\":\"Plot\"},{\"attributes\":{\"data_source\":{\"id\":\"1102\",\"type\":\"ColumnDataSource\"},\"glyph\":{\"id\":\"1103\",\"type\":\"Line\"},\"hover_glyph\":null,\"muted_glyph\":null,\"nonselection_glyph\":{\"id\":\"1104\",\"type\":\"Line\"},\"selection_glyph\":null,\"view\":{\"id\":\"1106\",\"type\":\"CDSView\"}},\"id\":\"1105\",\"type\":\"GlyphRenderer\"},{\"attributes\":{\"plot\":{\"id\":\"1081\",\"subtype\":\"Figure\",\"type\":\"Plot\"},\"ticker\":{\"id\":\"1092\",\"type\":\"BasicTicker\"}},\"id\":\"1095\",\"type\":\"Grid\"},{\"attributes\":{\"active_drag\":\"auto\",\"active_inspect\":\"auto\",\"active_multi\":null,\"active_scroll\":\"auto\",\"active_tap\":\"auto\"},\"id\":\"1101\",\"type\":\"Toolbar\"},{\"attributes\":{\"callback\":null},\"id\":\"1083\",\"type\":\"DataRange1d\"},{\"attributes\":{\"source\":{\"id\":\"1102\",\"type\":\"ColumnDataSource\"}},\"id\":\"1106\",\"type\":\"CDSView\"},{\"attributes\":{\"callback\":null,\"data\":{\"x\":[1,2,3,4,5,6,7,8,9,10,11,12,13,14,15,16,17,18,19,20,21,22,23,24,25,26,27,28,29,30,31,32,33,34,35,36,37,38,39,40,41,42,43,44,45,46,47,48,49,50,51,52,53,54,55,56,57,58,59,60,61,62,63,64,65,66,67,68,69,70,71,72,73,74,75,76,77,78,79,80,81,82,83,84,85,86,87,88,89,90,91,92,93,94,95,96,97,98,99,100,101,102,103,104,105,106,107,108,109,110,111,112,113,114,115,116,117,118,119,120,121,122,123,124,125,126,127,128,129,130,131,132,133,134,135,136,137,138,139,140,141,142,143,144,145,146,147,148,149,150,151,152,153,154,155,156,157,158,159,160,161,162,163,164,165,166,167,168,169,170,171,172,173,174,175,176,177,178,179,180,181,182,183,184,185,186,187,188,189,190,191,192,193,194,195,196,197,198,199,200,201,202,203,204,205,206,207,208,209,210,211,212,213,214,215,216,217,218,219,220,221,222,223,224,225,226,227,228,229,230,231,232,233,234,235,236,237,238,239,240,241,242,243,244,245,246,247,248,249,250,251,252,253,254,255,256,257,258,259,260,261,262,263,264,265,266,267,268,269,270,271,272,273,274,275,276,277,278,279,280,281,282,283,284,285,286,287,288,289,290,291,292,293,294,295,296,297,298,299,300,301,302,303,304,305,306,307,308,309,310,311,312,313,314,315,316,317,318,319,320,321,322,323,324,325,326,327,328,329,330,331,332,333,334,335,336,337,338,339,340,341,342,343,344,345,346,347,348,349,350,351,352,353,354,355,356,357,358,359,360,361,362,363,364,365,366,367,368,369,370,371,372,373,374,375,376,377,378,379,380,381,382,383,384,385,386,387,388,389,390,391,392,393,394,395,396,397,398,399,400,401,402,403,404,405,406,407,408,409,410,411,412,413,414,415,416,417,418,419,420,421,422,423,424,425,426,427,428,429,430,431,432,433,434,435,436,437,438,439,440,441,442,443,444,445,446,447,448,449,450,451,452,453,454,455,456,457,458,459,460,461,462,463,464,465,466,467,468,469,470,471,472,473,474,475,476,477,478,479,480,481,482,483,484,485,486,487,488,489,490,491,492,493,494,495,496,497,498,499,500],\"y\":{\"__ndarray__\":\"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\",\"dtype\":\"float64\",\"shape\":[500]}},\"selected\":{\"id\":\"1122\",\"type\":\"Selection\"},\"selection_policy\":{\"id\":\"1121\",\"type\":\"UnionRenderers\"}},\"id\":\"1102\",\"type\":\"ColumnDataSource\"},{\"attributes\":{\"axis_label\":\"Proportions of heads\",\"formatter\":{\"id\":\"1120\",\"type\":\"BasicTickFormatter\"},\"plot\":{\"id\":\"1081\",\"subtype\":\"Figure\",\"type\":\"Plot\"},\"ticker\":{\"id\":\"1097\",\"type\":\"BasicTicker\"}},\"id\":\"1096\",\"type\":\"LinearAxis\"},{\"attributes\":{},\"id\":\"1087\",\"type\":\"LinearScale\"},{\"attributes\":{\"axis_label\":\"Flip Number\",\"formatter\":{\"id\":\"1118\",\"type\":\"BasicTickFormatter\"},\"plot\":{\"id\":\"1081\",\"subtype\":\"Figure\",\"type\":\"Plot\"},\"ticker\":{\"id\":\"1092\",\"type\":\"BasicTicker\"}},\"id\":\"1091\",\"type\":\"LinearAxis\"},{\"attributes\":{},\"id\":\"1118\",\"type\":\"BasicTickFormatter\"},{\"attributes\":{},\"id\":\"1089\",\"type\":\"LinearScale\"},{\"attributes\":{\"callback\":null},\"id\":\"1107\",\"type\":\"Range1d\"},{\"attributes\":{\"dimension\":1,\"plot\":{\"id\":\"1081\",\"subtype\":\"Figure\",\"type\":\"Plot\"},\"ticker\":{\"id\":\"1097\",\"type\":\"BasicTicker\"}},\"id\":\"1100\",\"type\":\"Grid\"},{\"attributes\":{\"line_color\":{\"value\":\"blue\"},\"location\":0.8,\"plot\":{\"id\":\"1081\",\"subtype\":\"Figure\",\"type\":\"Plot\"}},\"id\":\"1108\",\"type\":\"Span\"},{\"attributes\":{},\"id\":\"1097\",\"type\":\"BasicTicker\"},{\"attributes\":{\"plot\":null,\"text\":\"Running proportion of heads\"},\"id\":\"1080\",\"type\":\"Title\"},{\"attributes\":{},\"id\":\"1120\",\"type\":\"BasicTickFormatter\"},{\"attributes\":{},\"id\":\"1092\",\"type\":\"BasicTicker\"},{\"attributes\":{},\"id\":\"1121\",\"type\":\"UnionRenderers\"},{\"attributes\":{\"line_color\":\"#1f77b4\",\"x\":{\"field\":\"x\"},\"y\":{\"field\":\"y\"}},\"id\":\"1103\",\"type\":\"Line\"},{\"attributes\":{},\"id\":\"1122\",\"type\":\"Selection\"},{\"attributes\":{\"line_alpha\":0.1,\"line_color\":\"#1f77b4\",\"x\":{\"field\":\"x\"},\"y\":{\"field\":\"y\"}},\"id\":\"1104\",\"type\":\"Line\"}],\"root_ids\":[\"1081\"]},\"title\":\"Bokeh Application\",\"version\":\"1.0.2\"}};\n",
       "  var render_items = [{\"docid\":\"8b01d335-3c29-4e2f-998f-ca020c08cc36\",\"roots\":{\"1081\":\"e1712404-f83d-4bf3-bcad-d71a43bb13e0\"}}];\n",
       "  root.Bokeh.embed.embed_items_notebook(docs_json, render_items);\n",
       "\n",
       "  }\n",
       "  if (root.Bokeh !== undefined) {\n",
       "    embed_document(root);\n",
       "  } else {\n",
       "    var attempts = 0;\n",
       "    var timer = setInterval(function(root) {\n",
       "      if (root.Bokeh !== undefined) {\n",
       "        embed_document(root);\n",
       "        clearInterval(timer);\n",
       "      }\n",
       "      attempts++;\n",
       "      if (attempts > 100) {\n",
       "        console.log(\"Bokeh: ERROR: Unable to run BokehJS code because BokehJS library is missing\");\n",
       "        clearInterval(timer);\n",
       "      }\n",
       "    }, 10, root)\n",
       "  }\n",
       "})(window);"
      ],
      "application/vnd.bokehjs_exec.v0+json": ""
     },
     "metadata": {
      "application/vnd.bokehjs_exec.v0+json": {
       "id": "1081"
      }
     },
     "output_type": "display_data"
    }
   ],
   "source": [
    "N = 500\n",
    "pheads = 0.8\n",
    "flipsequence= stats.bernoulli.rvs(p=pheads,loc=0,size=N)\n",
    "runProp=np.cumsum(flipsequence)/np.arange(1,501,1)\n",
    "p = figure(plot_width=600, plot_height=400, toolbar_location=None,tools=\"\",title = 'Running proportion of heads')\n",
    "p.line(np.arange(1,501,1),runProp ,line_width=1)\n",
    "p.xaxis.axis_label = \"Flip Number\"\n",
    "p.yaxis.axis_label = \"Proportions of heads\"\n",
    "p.y_range = Range1d(0, 1)\n",
    "hline = Span(location=pheads, dimension='width', line_color='blue')\n",
    "p.add_layout(hline)\n",
    "show(p)"
   ]
  },
  {
   "cell_type": "markdown",
   "metadata": {},
   "source": [
    "### Exercise 4.4"
   ]
  },
  {
   "cell_type": "code",
   "execution_count": 6,
   "metadata": {
    "inputHidden": false,
    "outputHidden": false
   },
   "outputs": [
    {
     "data": {
      "text/html": [
       "\n",
       "\n",
       "\n",
       "\n",
       "\n",
       "\n",
       "  <div class=\"bk-root\" id=\"cba54f62-6079-4e04-a217-102340b8b14f\"></div>\n"
      ]
     },
     "metadata": {},
     "output_type": "display_data"
    },
    {
     "data": {
      "application/javascript": [
       "(function(root) {\n",
       "  function embed_document(root) {\n",
       "    \n",
       "  var docs_json = {\"17e4fab2-f5f9-4dd2-bdb7-2905130d5184\":{\"roots\":{\"references\":[{\"attributes\":{\"below\":[{\"id\":\"1176\",\"type\":\"LinearAxis\"}],\"left\":[{\"id\":\"1181\",\"type\":\"LinearAxis\"}],\"plot_height\":400,\"renderers\":[{\"id\":\"1176\",\"type\":\"LinearAxis\"},{\"id\":\"1180\",\"type\":\"Grid\"},{\"id\":\"1181\",\"type\":\"LinearAxis\"},{\"id\":\"1185\",\"type\":\"Grid\"},{\"id\":\"1190\",\"type\":\"GlyphRenderer\"},{\"id\":\"1195\",\"type\":\"GlyphRenderer\"},{\"id\":\"1197\",\"type\":\"Label\"}],\"title\":{\"id\":\"1165\",\"type\":\"Title\"},\"toolbar\":{\"id\":\"1186\",\"type\":\"Toolbar\"},\"toolbar_location\":null,\"x_range\":{\"id\":\"1168\",\"type\":\"DataRange1d\"},\"x_scale\":{\"id\":\"1172\",\"type\":\"LinearScale\"},\"y_range\":{\"id\":\"1170\",\"type\":\"DataRange1d\"},\"y_scale\":{\"id\":\"1174\",\"type\":\"LinearScale\"}},\"id\":\"1166\",\"subtype\":\"Figure\",\"type\":\"Plot\"},{\"attributes\":{\"fill_alpha\":{\"value\":0.1},\"fill_color\":{\"value\":\"#1f77b4\"},\"line_alpha\":{\"value\":0.1},\"line_color\":{\"value\":\"#1f77b4\"},\"top\":{\"field\":\"top\"},\"width\":{\"value\":0.001},\"x\":{\"field\":\"x\"}},\"id\":\"1194\",\"type\":\"VBar\"},{\"attributes\":{\"callback\":null},\"id\":\"1168\",\"type\":\"DataRange1d\"},{\"attributes\":{\"data_source\":{\"id\":\"1192\",\"type\":\"ColumnDataSource\"},\"glyph\":{\"id\":\"1193\",\"type\":\"VBar\"},\"hover_glyph\":null,\"muted_glyph\":null,\"nonselection_glyph\":{\"id\":\"1194\",\"type\":\"VBar\"},\"selection_glyph\":null,\"view\":{\"id\":\"1196\",\"type\":\"CDSView\"}},\"id\":\"1195\",\"type\":\"GlyphRenderer\"},{\"attributes\":{\"callback\":null},\"id\":\"1170\",\"type\":\"DataRange1d\"},{\"attributes\":{\"source\":{\"id\":\"1192\",\"type\":\"ColumnDataSource\"}},\"id\":\"1196\",\"type\":\"CDSView\"},{\"attributes\":{},\"id\":\"1172\",\"type\":\"LinearScale\"},{\"attributes\":{},\"id\":\"1174\",\"type\":\"LinearScale\"},{\"attributes\":{\"axis_label\":\"x\",\"formatter\":{\"id\":\"1214\",\"type\":\"BasicTickFormatter\"},\"plot\":{\"id\":\"1166\",\"subtype\":\"Figure\",\"type\":\"Plot\"},\"ticker\":{\"id\":\"1177\",\"type\":\"BasicTicker\"}},\"id\":\"1176\",\"type\":\"LinearAxis\"},{\"attributes\":{},\"id\":\"1177\",\"type\":\"BasicTicker\"},{\"attributes\":{},\"id\":\"1214\",\"type\":\"BasicTickFormatter\"},{\"attributes\":{\"plot\":{\"id\":\"1166\",\"subtype\":\"Figure\",\"type\":\"Plot\"},\"ticker\":{\"id\":\"1177\",\"type\":\"BasicTicker\"}},\"id\":\"1180\",\"type\":\"Grid\"},{\"attributes\":{},\"id\":\"1216\",\"type\":\"BasicTickFormatter\"},{\"attributes\":{\"axis_label\":\"y\",\"formatter\":{\"id\":\"1216\",\"type\":\"BasicTickFormatter\"},\"plot\":{\"id\":\"1166\",\"subtype\":\"Figure\",\"type\":\"Plot\"},\"ticker\":{\"id\":\"1182\",\"type\":\"BasicTicker\"}},\"id\":\"1181\",\"type\":\"LinearAxis\"},{\"attributes\":{},\"id\":\"1217\",\"type\":\"UnionRenderers\"},{\"attributes\":{},\"id\":\"1182\",\"type\":\"BasicTicker\"},{\"attributes\":{},\"id\":\"1218\",\"type\":\"Selection\"},{\"attributes\":{\"dimension\":1,\"plot\":{\"id\":\"1166\",\"subtype\":\"Figure\",\"type\":\"Plot\"},\"ticker\":{\"id\":\"1182\",\"type\":\"BasicTicker\"}},\"id\":\"1185\",\"type\":\"Grid\"},{\"attributes\":{},\"id\":\"1219\",\"type\":\"UnionRenderers\"},{\"attributes\":{\"active_drag\":\"auto\",\"active_inspect\":\"auto\",\"active_multi\":null,\"active_scroll\":\"auto\",\"active_tap\":\"auto\"},\"id\":\"1186\",\"type\":\"Toolbar\"},{\"attributes\":{},\"id\":\"1220\",\"type\":\"Selection\"},{\"attributes\":{\"callback\":null,\"data\":{\"top\":{\"__ndarray__\":\"AAAAAAAAAAAiHHOBhLeuPzsZahJHZ74/wNCIOkeRxj9vE1g0zMbNP1dqUTsZatI/Ooq0AL3c1T9maVVqUTvZP9cHNHjWhdw/jWVQKky83z9HQVVAWW/hP2kvob2E9uI/Lv0Ljahz5D+YqpWuxOblP6M3PiLZT+c/U6QF6OWu6D+k8Ov/6gPqP5sc8WnoTus/MigVJt6P7D9vE1g0zMbtP1DeuZSy8+4/aESdo0gL8D98Ce0ltJfwP2A+TNEbH/E/FuO6pX+h8T+d9zij3x7yP/d7xsk7l/I/I3BjGZQK8z8f1A+S6HjzP+2nyzM54vM/jeuW/oVG9D/+nnHyzqX0P0DCWw8UAPU/VVVVVVVV9T89WF7EkqX1P/TKdlzM8PU/fK2eHQI39j/Z/9UHNHj2PwXCHBtitPY/AvRyV4zr9j/Uldi8sh33P3WnTUvVSvc/5ijSAvRy9z8tGmbjDpb3P0N7Ce0ltPc/Kky8HznN9z/jjH57SOH3P289UABU8Pc/zF0xrlv69z/57SGFX//3P/rtIYVf//c/zF0xrlv69z9vPVAAVPD3P+OMfntI4fc/K0y8HznN9z9CewntJbT3PywaZuMOlvc/6CjSAvRy9z90p01L1Ur3P9KV2LyyHfc/A/RyV4zr9j8EwhwbYrT2P9j/1Qc0ePY/fK2eHQI39j/zynZczPD1PztYXsSSpfU/VFVVVVVV9T9AwlsPFAD1P/2ecfLOpfQ/i+uW/oVG9D/rp8szOeLzPx7UD5LoePM/IXBjGZQK8z/2e8bJO5fyP533OKPfHvI/FOO6pX+h8T9fPkzRGx/xP3sJ7SW0l/A/Z0Sdo0gL8D9N3rmUsvPuP2wTWDTMxu0/MSgVJt6P7D+WHPFp6E7rP6Lw6//qA+o/UaQF6OWu6D+fNz4i2U/nP5Wqla7E5uU/Kf0Ljahz5D9mL6G9hPbiP0BBVUBZb+E/h2VQKky83z/TBzR41oXcP1tpVWpRO9k/NYq0AL3c1T9JalE7GWrSP2ATWDTMxs0/utCIOkeRxj8VGWoSR2e+P/obc4GEt64/AAAAAAAAAAA=\",\"dtype\":\"float64\",\"shape\":[100]},\"x\":{\"__ndarray__\":\"AAAAAAAAAABbv1Kg1q+EP1u/UqDWr5Q/CB988MEHnz9bv1Kg1q+kPzJvZ0jM26k/CB988MEHrz9wZ0jM2xmyP1u/UqDWr7Q/RhdddNFFtz8yb2dIzNu5Px3HcRzHcbw/CB988MEHvz96O0Ni3s7AP3BnSMzbGcI/ZZNNNtlkwz9bv1Kg1q/EP1HrVwrU+sU/RhdddNFFxz88Q2LezpDIPzJvZ0jM28k/J5tssskmyz8dx3Ecx3HMPxPzdobEvM0/CB988MEHzz9/pUCtXynQP3o7Q2LeztA/ddFFF1100T9wZ0jM2xnSP2r9SoFav9I/ZZNNNtlk0z9gKVDrVwrUP1u/UqDWr9Q/VlVVVVVV1T9R61cK1PrVP0yBWr9SoNY/RhdddNFF1z9BrV8pUOvXPzxDYt7OkNg/N9lkk0022T8yb2dIzNvZPy0Fav1Kgdo/J5tssskm2z8iMW9nSMzbPx3HcRzHcdw/GF100UUX3T8T83aGxLzdPw6JeTtDYt4/CB988MEH3z8DtX6lQK3fP3+lQK1fKeA/ffDBBx984D96O0Ni3s7gP3eGxLydIeE/ddFFF1104T9yHMdxHMfhP3BnSMzbGeI/bbLJJpts4j9q/UqBWr/iP2hIzNsZEuM/ZZNNNtlk4z9j3s6QmLfjP2ApUOtXCuQ/XnTRRRdd5D9bv1Kg1q/kP1gK1PqVAuU/VlVVVVVV5T9ToNavFKjlP1HrVwrU+uU/TjbZZJNN5j9MgVq/UqDmP0nM2xkS8+Y/RhdddNFF5z9EYt7OkJjnP0GtXylQ6+c/P/jggw8+6D88Q2LezpDoPzmO4ziO4+g/N9lkk0026T80JObtDInpPzJvZ0jM2+k/L7rooosu6j8tBWr9SoHqPypQ61cK1Oo/J5tssskm6z8l5u0MiXnrPyIxb2dIzOs/IHzwwQcf7D8dx3Ecx3HsPxsS83aGxOw/GF100UUX7T8VqPUrBWrtPxPzdobEvO0/ED744IMP7j8OiXk7Q2LuPwvU+pUCte4/CB988MEH7z8Gav1KgVrvPwO1fqVAre8/AAAAAAAA8D8=\",\"dtype\":\"float64\",\"shape\":[100]}},\"selected\":{\"id\":\"1220\",\"type\":\"Selection\"},\"selection_policy\":{\"id\":\"1219\",\"type\":\"UnionRenderers\"}},\"id\":\"1192\",\"type\":\"ColumnDataSource\"},{\"attributes\":{\"plot\":null,\"text\":\"Integral density\"},\"id\":\"1165\",\"type\":\"Title\"},{\"attributes\":{\"line_color\":\"#1f77b4\",\"x\":{\"field\":\"x\"},\"y\":{\"field\":\"y\"}},\"id\":\"1188\",\"type\":\"Line\"},{\"attributes\":{\"line_alpha\":0.1,\"line_color\":\"#1f77b4\",\"x\":{\"field\":\"x\"},\"y\":{\"field\":\"y\"}},\"id\":\"1189\",\"type\":\"Line\"},{\"attributes\":{\"data_source\":{\"id\":\"1187\",\"type\":\"ColumnDataSource\"},\"glyph\":{\"id\":\"1188\",\"type\":\"Line\"},\"hover_glyph\":null,\"muted_glyph\":null,\"nonselection_glyph\":{\"id\":\"1189\",\"type\":\"Line\"},\"selection_glyph\":null,\"view\":{\"id\":\"1191\",\"type\":\"CDSView\"}},\"id\":\"1190\",\"type\":\"GlyphRenderer\"},{\"attributes\":{\"source\":{\"id\":\"1187\",\"type\":\"ColumnDataSource\"}},\"id\":\"1191\",\"type\":\"CDSView\"},{\"attributes\":{\"fill_color\":{\"value\":\"#1f77b4\"},\"line_color\":{\"value\":\"#1f77b4\"},\"top\":{\"field\":\"top\"},\"width\":{\"value\":0.001},\"x\":{\"field\":\"x\"}},\"id\":\"1193\",\"type\":\"VBar\"},{\"attributes\":{\"background_fill_color\":{\"value\":\"white\"},\"border_line_color\":{\"value\":\"black\"},\"plot\":{\"id\":\"1166\",\"subtype\":\"Figure\",\"type\":\"Plot\"},\"render_mode\":\"css\",\"text\":\"\\u03a3\\u2093 \\u0394xp(x) = 0.99\",\"x\":0.7,\"y\":1.4},\"id\":\"1197\",\"type\":\"Label\"},{\"attributes\":{\"callback\":null,\"data\":{\"x\":{\"__ndarray__\":\"AAAAAAAAAABbv1Kg1q+EP1u/UqDWr5Q/CB988MEHnz9bv1Kg1q+kPzJvZ0jM26k/CB988MEHrz9wZ0jM2xmyP1u/UqDWr7Q/RhdddNFFtz8yb2dIzNu5Px3HcRzHcbw/CB988MEHvz96O0Ni3s7AP3BnSMzbGcI/ZZNNNtlkwz9bv1Kg1q/EP1HrVwrU+sU/RhdddNFFxz88Q2LezpDIPzJvZ0jM28k/J5tssskmyz8dx3Ecx3HMPxPzdobEvM0/CB988MEHzz9/pUCtXynQP3o7Q2LeztA/ddFFF1100T9wZ0jM2xnSP2r9SoFav9I/ZZNNNtlk0z9gKVDrVwrUP1u/UqDWr9Q/VlVVVVVV1T9R61cK1PrVP0yBWr9SoNY/RhdddNFF1z9BrV8pUOvXPzxDYt7OkNg/N9lkk0022T8yb2dIzNvZPy0Fav1Kgdo/J5tssskm2z8iMW9nSMzbPx3HcRzHcdw/GF100UUX3T8T83aGxLzdPw6JeTtDYt4/CB988MEH3z8DtX6lQK3fP3+lQK1fKeA/ffDBBx984D96O0Ni3s7gP3eGxLydIeE/ddFFF1104T9yHMdxHMfhP3BnSMzbGeI/bbLJJpts4j9q/UqBWr/iP2hIzNsZEuM/ZZNNNtlk4z9j3s6QmLfjP2ApUOtXCuQ/XnTRRRdd5D9bv1Kg1q/kP1gK1PqVAuU/VlVVVVVV5T9ToNavFKjlP1HrVwrU+uU/TjbZZJNN5j9MgVq/UqDmP0nM2xkS8+Y/RhdddNFF5z9EYt7OkJjnP0GtXylQ6+c/P/jggw8+6D88Q2LezpDoPzmO4ziO4+g/N9lkk0026T80JObtDInpPzJvZ0jM2+k/L7rooosu6j8tBWr9SoHqPypQ61cK1Oo/J5tssskm6z8l5u0MiXnrPyIxb2dIzOs/IHzwwQcf7D8dx3Ecx3HsPxsS83aGxOw/GF100UUX7T8VqPUrBWrtPxPzdobEvO0/ED744IMP7j8OiXk7Q2LuPwvU+pUCte4/CB988MEH7z8Gav1KgVrvPwO1fqVAre8/AAAAAAAA8D8=\",\"dtype\":\"float64\",\"shape\":[100]},\"y\":{\"__ndarray__\":\"AAAAAAAAAAAiHHOBhLeuPzsZahJHZ74/wNCIOkeRxj9vE1g0zMbNP1dqUTsZatI/Ooq0AL3c1T9maVVqUTvZP9cHNHjWhdw/jWVQKky83z9HQVVAWW/hP2kvob2E9uI/Lv0Ljahz5D+YqpWuxOblP6M3PiLZT+c/U6QF6OWu6D+k8Ov/6gPqP5sc8WnoTus/MigVJt6P7D9vE1g0zMbtP1DeuZSy8+4/aESdo0gL8D98Ce0ltJfwP2A+TNEbH/E/FuO6pX+h8T+d9zij3x7yP/d7xsk7l/I/I3BjGZQK8z8f1A+S6HjzP+2nyzM54vM/jeuW/oVG9D/+nnHyzqX0P0DCWw8UAPU/VVVVVVVV9T89WF7EkqX1P/TKdlzM8PU/fK2eHQI39j/Z/9UHNHj2PwXCHBtitPY/AvRyV4zr9j/Uldi8sh33P3WnTUvVSvc/5ijSAvRy9z8tGmbjDpb3P0N7Ce0ltPc/Kky8HznN9z/jjH57SOH3P289UABU8Pc/zF0xrlv69z/57SGFX//3P/rtIYVf//c/zF0xrlv69z9vPVAAVPD3P+OMfntI4fc/K0y8HznN9z9CewntJbT3PywaZuMOlvc/6CjSAvRy9z90p01L1Ur3P9KV2LyyHfc/A/RyV4zr9j8EwhwbYrT2P9j/1Qc0ePY/fK2eHQI39j/zynZczPD1PztYXsSSpfU/VFVVVVVV9T9AwlsPFAD1P/2ecfLOpfQ/i+uW/oVG9D/rp8szOeLzPx7UD5LoePM/IXBjGZQK8z/2e8bJO5fyP533OKPfHvI/FOO6pX+h8T9fPkzRGx/xP3sJ7SW0l/A/Z0Sdo0gL8D9N3rmUsvPuP2wTWDTMxu0/MSgVJt6P7D+WHPFp6E7rP6Lw6//qA+o/UaQF6OWu6D+fNz4i2U/nP5Wqla7E5uU/Kf0Ljahz5D9mL6G9hPbiP0BBVUBZb+E/h2VQKky83z/TBzR41oXcP1tpVWpRO9k/NYq0AL3c1T9JalE7GWrSP2ATWDTMxs0/utCIOkeRxj8VGWoSR2e+P/obc4GEt64/AAAAAAAAAAA=\",\"dtype\":\"float64\",\"shape\":[100]}},\"selected\":{\"id\":\"1218\",\"type\":\"Selection\"},\"selection_policy\":{\"id\":\"1217\",\"type\":\"UnionRenderers\"}},\"id\":\"1187\",\"type\":\"ColumnDataSource\"}],\"root_ids\":[\"1166\"]},\"title\":\"Bokeh Application\",\"version\":\"1.0.2\"}};\n",
       "  var render_items = [{\"docid\":\"17e4fab2-f5f9-4dd2-bdb7-2905130d5184\",\"roots\":{\"1166\":\"cba54f62-6079-4e04-a217-102340b8b14f\"}}];\n",
       "  root.Bokeh.embed.embed_items_notebook(docs_json, render_items);\n",
       "\n",
       "  }\n",
       "  if (root.Bokeh !== undefined) {\n",
       "    embed_document(root);\n",
       "  } else {\n",
       "    var attempts = 0;\n",
       "    var timer = setInterval(function(root) {\n",
       "      if (root.Bokeh !== undefined) {\n",
       "        embed_document(root);\n",
       "        clearInterval(timer);\n",
       "      }\n",
       "      attempts++;\n",
       "      if (attempts > 100) {\n",
       "        console.log(\"Bokeh: ERROR: Unable to run BokehJS code because BokehJS library is missing\");\n",
       "        clearInterval(timer);\n",
       "      }\n",
       "    }, 10, root)\n",
       "  }\n",
       "})(window);"
      ],
      "application/vnd.bokehjs_exec.v0+json": ""
     },
     "metadata": {
      "application/vnd.bokehjs_exec.v0+json": {
       "id": "1166"
      }
     },
     "output_type": "display_data"
    }
   ],
   "source": [
    "xlow = 0\n",
    "xhigh = 1\n",
    "dx = 0.01\n",
    "diff = xhigh - xlow\n",
    "x = np.linspace(xlow,xhigh,int(diff/dx))\n",
    "y = 6*x*(1-x)\n",
    "p = figure(plot_width=600, plot_height=400, toolbar_location=None,tools=\"\",title = 'Integral density')\n",
    "p.line(x,y ,line_width=1)\n",
    "p.vbar(x=x, width=0.001, bottom=0,top=y)\n",
    "text_to_print = 'Σₓ Δxp(x) = '+ '{:0.2f}'.format(dx*y.sum())\n",
    "\n",
    "area = Label(x=0.7, y=1.4, x_units='data', y_units='data',\n",
    "                 text= text_to_print, render_mode='css',\n",
    "                 border_line_color='black', border_line_alpha=1.0,\n",
    "                 background_fill_color='white', background_fill_alpha=1.0)\n",
    "\n",
    "p.add_layout(area)\n",
    "p.xaxis.axis_label = 'x'\n",
    "p.yaxis.axis_label = 'y'\n",
    "\n",
    "show(p)"
   ]
  },
  {
   "cell_type": "markdown",
   "metadata": {},
   "source": [
    "### Exercise 4.5"
   ]
  },
  {
   "cell_type": "code",
   "execution_count": 7,
   "metadata": {
    "inputHidden": false,
    "outputHidden": false
   },
   "outputs": [
    {
     "data": {
      "text/html": [
       "\n",
       "\n",
       "\n",
       "\n",
       "\n",
       "\n",
       "  <div class=\"bk-root\" id=\"9ea38f63-dbd0-4f7e-a84d-64c88f119872\"></div>\n"
      ]
     },
     "metadata": {},
     "output_type": "display_data"
    },
    {
     "data": {
      "application/javascript": [
       "(function(root) {\n",
       "  function embed_document(root) {\n",
       "    \n",
       "  var docs_json = {\"ffa81d68-e056-4239-9c0a-e09efd900a2b\":{\"roots\":{\"references\":[{\"attributes\":{\"below\":[{\"id\":\"1286\",\"type\":\"LinearAxis\"}],\"left\":[{\"id\":\"1291\",\"type\":\"LinearAxis\"}],\"plot_height\":400,\"renderers\":[{\"id\":\"1286\",\"type\":\"LinearAxis\"},{\"id\":\"1290\",\"type\":\"Grid\"},{\"id\":\"1291\",\"type\":\"LinearAxis\"},{\"id\":\"1295\",\"type\":\"Grid\"},{\"id\":\"1300\",\"type\":\"GlyphRenderer\"},{\"id\":\"1305\",\"type\":\"GlyphRenderer\"},{\"id\":\"1307\",\"type\":\"Label\"}],\"title\":{\"id\":\"1275\",\"type\":\"Title\"},\"toolbar\":{\"id\":\"1296\",\"type\":\"Toolbar\"},\"toolbar_location\":null,\"x_range\":{\"id\":\"1278\",\"type\":\"DataRange1d\"},\"x_scale\":{\"id\":\"1282\",\"type\":\"LinearScale\"},\"y_range\":{\"id\":\"1280\",\"type\":\"DataRange1d\"},\"y_scale\":{\"id\":\"1284\",\"type\":\"LinearScale\"}},\"id\":\"1276\",\"subtype\":\"Figure\",\"type\":\"Plot\"},{\"attributes\":{\"callback\":null,\"data\":{\"x\":{\"__ndarray__\":\"Z2ZmZmZm5r/D9Shcj8Llvx+F61G4HuW/exSuR+F65L/Xo3A9CtfjvzMzMzMzM+O/j8L1KFyP4r/rUbgehevhv0fhehSuR+G/o3A9Ctej4L/+///////fv7YehetRuN6/bj0K16Nw3b8mXI/C9Sjcv956FK5H4dq/lpmZmZmZ2b9OuB6F61HYvwbXo3A9Cte/vvUoXI/C1b92FK5H4XrUvy4zMzMzM9O/5lG4HoXr0b+ecD0K16PQv6wehetRuM6/HFyPwvUozL+MmZmZmZnJv/zWo3A9Cse/bBSuR+F6xL/cUbgehevBv5gehetRuL6/eJmZmZmZub9YFK5H4Xq0v3AehetRuK6/MBSuR+F6pL/gE65H4XqUvwAAAAAAAMQ8IBWuR+F6lD/QFK5H4XqkPxAfhetRuK4/qBSuR+F6tD/ImZmZmZm5P+gehetRuL4/BFK4HoXrwT+UFK5H4XrEPyTXo3A9Csc/tJmZmZmZyT9EXI/C9SjMP9QehetRuM4/snA9Ctej0D/6UbgehevRP0IzMzMzM9M/ihSuR+F61D/S9Shcj8LVPxrXo3A9Ctc/YrgehetR2D+qmZmZmZnZP/J6FK5H4do/OlyPwvUo3D+CPQrXo3DdP8oehetRuN4/CQAAAAAA4D+tcD0K16PgP1HhehSuR+E/9VG4HoXr4T+ZwvUoXI/iPz0zMzMzM+M/4aNwPQrX4z+FFK5H4XrkPymF61G4HuU/zfUoXI/C5T9xZmZmZmbmPw==\",\"dtype\":\"float64\",\"shape\":[71]},\"y\":{\"__ndarray__\":\"1O/M4l7fcT9gXWiSYDx5P19pVXKco4E/rCo+gr5piD8FpCqU4rmQPzFUzY/psJY/uSRtcRp6nj8l2NFoeEOkP7KIN752rao/Hs40C95isT/6Jt9qrG+2P//OIFw9qrw/tlm7Exohwj+QoEhEKLTGPzO0vblFJsw/zyRRovBG0T8RcTJfP//UP4085dKYQ9k/f91wG4AY3j/57F5AUb/hPzOmhmwKueQ/VPUiRdb05z+fGoHtQWvrP9e+Ll7cEe8/cWBp0pxt8T+N7t94j1vzPyMN9QhtSfU/1gpTDOIs9z+/m/Tm9fr4P/JtI5twqPo/YaioQkwq/D9EsDcnLHb9P7aqx4zSgv4/RyVd641I/z9XNnaSlsH/P+VDyYBW6v8/UjZ2kpbB/z89JV3rjUj/P6iqx4zSgv4/MrA3Jyx2/T9LqKhCTCr8P9ltI5twqPo/o5v05vX6+D+5ClMM4iz3PwUN9QhtSfU/cO7feI9b8z9TYGnSnG3xP52+Ll7cEe8/aBqB7UFr6z8h9SJF1vTnPwOmhmwKueQ/zexeQFG/4T8t3XAbgBjeP0U85dKYQ9k/0nAyXz//1D+ZJFGi8EbRP9SzvblFJsw/PaBIRCi0xj9yWbsTGiHCP5DOIFw9qrw/nibfaqxvtj/WzTQL3mKxPz2IN752rao/x9fRaHhDpD8oJG1xGnqeP8VTzY/psJY/saMqlOK5kD8tKj6CvmmIPwNpVXKco4E/1VxokmA8eT9t78ziXt9xPw==\",\"dtype\":\"float64\",\"shape\":[71]}},\"selected\":{\"id\":\"1337\",\"type\":\"Selection\"},\"selection_policy\":{\"id\":\"1336\",\"type\":\"UnionRenderers\"}},\"id\":\"1297\",\"type\":\"ColumnDataSource\"},{\"attributes\":{\"callback\":null},\"id\":\"1278\",\"type\":\"DataRange1d\"},{\"attributes\":{\"callback\":null},\"id\":\"1280\",\"type\":\"DataRange1d\"},{\"attributes\":{\"fill_alpha\":{\"value\":0.1},\"fill_color\":{\"value\":\"#1f77b4\"},\"line_alpha\":{\"value\":0.1},\"line_color\":{\"value\":\"#1f77b4\"},\"top\":{\"field\":\"top\"},\"width\":{\"value\":0.001},\"x\":{\"field\":\"x\"}},\"id\":\"1304\",\"type\":\"VBar\"},{\"attributes\":{},\"id\":\"1282\",\"type\":\"LinearScale\"},{\"attributes\":{\"data_source\":{\"id\":\"1302\",\"type\":\"ColumnDataSource\"},\"glyph\":{\"id\":\"1303\",\"type\":\"VBar\"},\"hover_glyph\":null,\"muted_glyph\":null,\"nonselection_glyph\":{\"id\":\"1304\",\"type\":\"VBar\"},\"selection_glyph\":null,\"view\":{\"id\":\"1306\",\"type\":\"CDSView\"}},\"id\":\"1305\",\"type\":\"GlyphRenderer\"},{\"attributes\":{},\"id\":\"1284\",\"type\":\"LinearScale\"},{\"attributes\":{\"source\":{\"id\":\"1302\",\"type\":\"ColumnDataSource\"}},\"id\":\"1306\",\"type\":\"CDSView\"},{\"attributes\":{\"axis_label\":\"x\",\"formatter\":{\"id\":\"1333\",\"type\":\"BasicTickFormatter\"},\"plot\":{\"id\":\"1276\",\"subtype\":\"Figure\",\"type\":\"Plot\"},\"ticker\":{\"id\":\"1287\",\"type\":\"BasicTicker\"}},\"id\":\"1286\",\"type\":\"LinearAxis\"},{\"attributes\":{},\"id\":\"1287\",\"type\":\"BasicTicker\"},{\"attributes\":{},\"id\":\"1333\",\"type\":\"BasicTickFormatter\"},{\"attributes\":{\"plot\":{\"id\":\"1276\",\"subtype\":\"Figure\",\"type\":\"Plot\"},\"ticker\":{\"id\":\"1287\",\"type\":\"BasicTicker\"}},\"id\":\"1290\",\"type\":\"Grid\"},{\"attributes\":{\"axis_label\":\"y\",\"formatter\":{\"id\":\"1335\",\"type\":\"BasicTickFormatter\"},\"plot\":{\"id\":\"1276\",\"subtype\":\"Figure\",\"type\":\"Plot\"},\"ticker\":{\"id\":\"1292\",\"type\":\"BasicTicker\"}},\"id\":\"1291\",\"type\":\"LinearAxis\"},{\"attributes\":{},\"id\":\"1335\",\"type\":\"BasicTickFormatter\"},{\"attributes\":{},\"id\":\"1292\",\"type\":\"BasicTicker\"},{\"attributes\":{},\"id\":\"1336\",\"type\":\"UnionRenderers\"},{\"attributes\":{\"dimension\":1,\"plot\":{\"id\":\"1276\",\"subtype\":\"Figure\",\"type\":\"Plot\"},\"ticker\":{\"id\":\"1292\",\"type\":\"BasicTicker\"}},\"id\":\"1295\",\"type\":\"Grid\"},{\"attributes\":{},\"id\":\"1337\",\"type\":\"Selection\"},{\"attributes\":{\"active_drag\":\"auto\",\"active_inspect\":\"auto\",\"active_multi\":null,\"active_scroll\":\"auto\",\"active_tap\":\"auto\"},\"id\":\"1296\",\"type\":\"Toolbar\"},{\"attributes\":{},\"id\":\"1338\",\"type\":\"UnionRenderers\"},{\"attributes\":{\"callback\":null,\"data\":{\"top\":{\"__ndarray__\":\"1O/M4l7fcT9gXWiSYDx5P19pVXKco4E/rCo+gr5piD8FpCqU4rmQPzFUzY/psJY/uSRtcRp6nj8l2NFoeEOkP7KIN752rao/Hs40C95isT/6Jt9qrG+2P//OIFw9qrw/tlm7Exohwj+QoEhEKLTGPzO0vblFJsw/zyRRovBG0T8RcTJfP//UP4085dKYQ9k/f91wG4AY3j/57F5AUb/hPzOmhmwKueQ/VPUiRdb05z+fGoHtQWvrP9e+Ll7cEe8/cWBp0pxt8T+N7t94j1vzPyMN9QhtSfU/1gpTDOIs9z+/m/Tm9fr4P/JtI5twqPo/YaioQkwq/D9EsDcnLHb9P7aqx4zSgv4/RyVd641I/z9XNnaSlsH/P+VDyYBW6v8/UjZ2kpbB/z89JV3rjUj/P6iqx4zSgv4/MrA3Jyx2/T9LqKhCTCr8P9ltI5twqPo/o5v05vX6+D+5ClMM4iz3PwUN9QhtSfU/cO7feI9b8z9TYGnSnG3xP52+Ll7cEe8/aBqB7UFr6z8h9SJF1vTnPwOmhmwKueQ/zexeQFG/4T8t3XAbgBjeP0U85dKYQ9k/0nAyXz//1D+ZJFGi8EbRP9SzvblFJsw/PaBIRCi0xj9yWbsTGiHCP5DOIFw9qrw/nibfaqxvtj/WzTQL3mKxPz2IN752rao/x9fRaHhDpD8oJG1xGnqeP8VTzY/psJY/saMqlOK5kD8tKj6CvmmIPwNpVXKco4E/1VxokmA8eT9t78ziXt9xPw==\",\"dtype\":\"float64\",\"shape\":[71]},\"x\":{\"__ndarray__\":\"Z2ZmZmZm5r/D9Shcj8Llvx+F61G4HuW/exSuR+F65L/Xo3A9CtfjvzMzMzMzM+O/j8L1KFyP4r/rUbgehevhv0fhehSuR+G/o3A9Ctej4L/+///////fv7YehetRuN6/bj0K16Nw3b8mXI/C9Sjcv956FK5H4dq/lpmZmZmZ2b9OuB6F61HYvwbXo3A9Cte/vvUoXI/C1b92FK5H4XrUvy4zMzMzM9O/5lG4HoXr0b+ecD0K16PQv6wehetRuM6/HFyPwvUozL+MmZmZmZnJv/zWo3A9Cse/bBSuR+F6xL/cUbgehevBv5gehetRuL6/eJmZmZmZub9YFK5H4Xq0v3AehetRuK6/MBSuR+F6pL/gE65H4XqUvwAAAAAAAMQ8IBWuR+F6lD/QFK5H4XqkPxAfhetRuK4/qBSuR+F6tD/ImZmZmZm5P+gehetRuL4/BFK4HoXrwT+UFK5H4XrEPyTXo3A9Csc/tJmZmZmZyT9EXI/C9SjMP9QehetRuM4/snA9Ctej0D/6UbgehevRP0IzMzMzM9M/ihSuR+F61D/S9Shcj8LVPxrXo3A9Ctc/YrgehetR2D+qmZmZmZnZP/J6FK5H4do/OlyPwvUo3D+CPQrXo3DdP8oehetRuN4/CQAAAAAA4D+tcD0K16PgP1HhehSuR+E/9VG4HoXr4T+ZwvUoXI/iPz0zMzMzM+M/4aNwPQrX4z+FFK5H4XrkPymF61G4HuU/zfUoXI/C5T9xZmZmZmbmPw==\",\"dtype\":\"float64\",\"shape\":[71]}},\"selected\":{\"id\":\"1339\",\"type\":\"Selection\"},\"selection_policy\":{\"id\":\"1338\",\"type\":\"UnionRenderers\"}},\"id\":\"1302\",\"type\":\"ColumnDataSource\"},{\"attributes\":{\"line_color\":\"#1f77b4\",\"x\":{\"field\":\"x\"},\"y\":{\"field\":\"y\"}},\"id\":\"1298\",\"type\":\"Line\"},{\"attributes\":{},\"id\":\"1339\",\"type\":\"Selection\"},{\"attributes\":{\"line_alpha\":0.1,\"line_color\":\"#1f77b4\",\"x\":{\"field\":\"x\"},\"y\":{\"field\":\"y\"}},\"id\":\"1299\",\"type\":\"Line\"},{\"attributes\":{\"data_source\":{\"id\":\"1297\",\"type\":\"ColumnDataSource\"},\"glyph\":{\"id\":\"1298\",\"type\":\"Line\"},\"hover_glyph\":null,\"muted_glyph\":null,\"nonselection_glyph\":{\"id\":\"1299\",\"type\":\"Line\"},\"selection_glyph\":null,\"view\":{\"id\":\"1301\",\"type\":\"CDSView\"}},\"id\":\"1300\",\"type\":\"GlyphRenderer\"},{\"attributes\":{\"source\":{\"id\":\"1297\",\"type\":\"ColumnDataSource\"}},\"id\":\"1301\",\"type\":\"CDSView\"},{\"attributes\":{\"plot\":null,\"text\":\"Integral density\"},\"id\":\"1275\",\"type\":\"Title\"},{\"attributes\":{\"fill_color\":{\"value\":\"#1f77b4\"},\"line_color\":{\"value\":\"#1f77b4\"},\"top\":{\"field\":\"top\"},\"width\":{\"value\":0.001},\"x\":{\"field\":\"x\"}},\"id\":\"1303\",\"type\":\"VBar\"},{\"attributes\":{\"background_fill_color\":{\"value\":\"white\"},\"border_line_color\":{\"value\":\"black\"},\"plot\":{\"id\":\"1276\",\"subtype\":\"Figure\",\"type\":\"Plot\"},\"render_mode\":\"css\",\"text\":\"\\u03a3\\u2093 \\u0394xp(x) = 0.68\",\"x\":0.2,\"y\":1.4},\"id\":\"1307\",\"type\":\"Label\"}],\"root_ids\":[\"1276\"]},\"title\":\"Bokeh Application\",\"version\":\"1.0.2\"}};\n",
       "  var render_items = [{\"docid\":\"ffa81d68-e056-4239-9c0a-e09efd900a2b\",\"roots\":{\"1276\":\"9ea38f63-dbd0-4f7e-a84d-64c88f119872\"}}];\n",
       "  root.Bokeh.embed.embed_items_notebook(docs_json, render_items);\n",
       "\n",
       "  }\n",
       "  if (root.Bokeh !== undefined) {\n",
       "    embed_document(root);\n",
       "  } else {\n",
       "    var attempts = 0;\n",
       "    var timer = setInterval(function(root) {\n",
       "      if (root.Bokeh !== undefined) {\n",
       "        embed_document(root);\n",
       "        clearInterval(timer);\n",
       "      }\n",
       "      attempts++;\n",
       "      if (attempts > 100) {\n",
       "        console.log(\"Bokeh: ERROR: Unable to run BokehJS code because BokehJS library is missing\");\n",
       "        clearInterval(timer);\n",
       "      }\n",
       "    }, 10, root)\n",
       "  }\n",
       "})(window);"
      ],
      "application/vnd.bokehjs_exec.v0+json": ""
     },
     "metadata": {
      "application/vnd.bokehjs_exec.v0+json": {
       "id": "1276"
      }
     },
     "output_type": "display_data"
    }
   ],
   "source": [
    "##### xlow = 0\n",
    "\n",
    "# Graph of normal probability density function, with comb of intervals.\n",
    "meanval = 0.0               # Specify mean of distribution.\n",
    "sdval = 0.2                 # Specify standard deviation of distribution.\n",
    "xlow  = meanval - 3.5*sdval # Specify low end of x-axis.\n",
    "xhigh = meanval  + 3.5*sdval + 0.01 # Specify high end of x-axis. added 0.01 to include xhigh\n",
    "dx = sdval/10               # Specify interval width on x-axis\n",
    "# Specify comb of points along the x axis:\n",
    "\n",
    "x = np.arange(xlow,xhigh,dx)\n",
    "y = ( 1/(sdval*np.sqrt(2*np.pi)) ) * np.exp( -.5 * ((x-meanval)/sdval)**2 )\n",
    "p = figure(plot_width=600, plot_height=400, toolbar_location=None,tools=\"\",title = 'Integral density')\n",
    "p.line(x,y ,line_width=1)\n",
    "p.vbar(x=x, width=0.001, bottom=0,top=y)\n",
    "\n",
    "xlow  = meanval - 1*sdval # Specify low end of x-axis.\n",
    "xhigh = meanval  + 1*sdval # Specify high end of x-axis. added 0.01 to include xhigh\n",
    "dx = sdval/10               # Specify interval width on x-axis\n",
    "x = np.arange(xlow,xhigh,dx)\n",
    "y = ( 1/(sdval*np.sqrt(2*np.pi)) ) * np.exp( -.5 * ((x-meanval)/sdval)**2 )\n",
    "\n",
    "text_to_print = 'Σₓ Δxp(x) = '+ '{:0.2f}'.format(dx*y.sum())\n",
    "\n",
    "area = Label(x=0.2, y=1.4, x_units='data', y_units='data',\n",
    "                 text= text_to_print, render_mode='css',\n",
    "                 border_line_color='black', border_line_alpha=1.0,\n",
    "                 background_fill_color='white', background_fill_alpha=1.0)\n",
    "\n",
    "p.add_layout(area)\n",
    "p.xaxis.axis_label = 'x'\n",
    "p.yaxis.axis_label = 'y'\n",
    "\n",
    "show(p)"
   ]
  },
  {
   "cell_type": "markdown",
   "metadata": {
    "inputHidden": false,
    "outputHidden": false
   },
   "source": [
    "(b) mu = 162 cm sigma = 15 cm"
   ]
  }
 ],
 "metadata": {
  "kernel_info": {
   "name": "python3"
  },
  "kernelspec": {
   "display_name": "Python 3",
   "language": "python",
   "name": "python3"
  },
  "language_info": {
   "codemirror_mode": {
    "name": "ipython",
    "version": 3
   },
   "file_extension": ".py",
   "mimetype": "text/x-python",
   "name": "python",
   "nbconvert_exporter": "python",
   "pygments_lexer": "ipython3",
   "version": "3.7.1"
  },
  "nteract": {
   "version": "0.12.3"
  }
 },
 "nbformat": 4,
 "nbformat_minor": 2
}
