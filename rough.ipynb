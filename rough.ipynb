{
 "cells": [
  {
   "cell_type": "code",
   "execution_count": 1,
   "metadata": {},
   "outputs": [],
   "source": [
    "import numpy as np\n",
    "np.random.seed(1)"
   ]
  },
  {
   "cell_type": "code",
   "execution_count": 2,
   "metadata": {},
   "outputs": [
    {
     "name": "stdout",
     "output_type": "stream",
     "text": [
      "[[ 1.62434536 -0.61175641 -0.52817175 -1.07296862  0.86540763 -2.3015387 ]\n",
      " [ 1.74481176 -0.7612069   0.3190391  -0.24937038  1.46210794 -2.06014071]\n",
      " [-0.3224172  -0.38405435  1.13376944 -1.09989127 -0.17242821 -0.87785842]\n",
      " [ 0.04221375  0.58281521 -1.10061918  1.14472371  0.90159072  0.50249434]\n",
      " [ 0.90085595 -0.68372786 -0.12289023 -0.93576943 -0.26788808  0.53035547]\n",
      " [-0.69166075 -0.39675353 -0.6871727  -0.84520564 -0.67124613 -0.0126646 ]]\n"
     ]
    }
   ],
   "source": [
    "matrix = np.random.randn(6,6)\n",
    "print(matrix)\n",
    "upper_matrix= np.triu(matrix)\n",
    "diag_matrix = np.diag(np.diag(upper_matrix))\n",
    "A = upper_matrix - diag_matrix"
   ]
  },
  {
   "cell_type": "code",
   "execution_count": 3,
   "metadata": {},
   "outputs": [
    {
     "name": "stdout",
     "output_type": "stream",
     "text": [
      "[[1. 0. 0. 0. 0. 0.]\n",
      " [0. 1. 0. 0. 0. 0.]\n",
      " [0. 0. 1. 0. 0. 0.]\n",
      " [0. 0. 0. 1. 0. 0.]\n",
      " [0. 0. 0. 0. 1. 0.]\n",
      " [0. 0. 0. 0. 0. 1.]]\n",
      "[[ 0.         -0.61175641 -0.52817175 -1.07296862  0.86540763 -2.3015387 ]\n",
      " [ 0.          0.          0.3190391  -0.24937038  1.46210794 -2.06014071]\n",
      " [ 0.          0.          0.         -1.09989127 -0.17242821 -0.87785842]\n",
      " [ 0.          0.          0.          0.          0.90159072  0.50249434]\n",
      " [ 0.          0.          0.          0.          0.          0.53035547]\n",
      " [ 0.          0.          0.          0.          0.          0.        ]]\n",
      "[[ 0.          0.         -0.19517421  0.73348542 -1.77076075  1.64377732]\n",
      " [ 0.          0.          0.         -0.35090832 -0.27984136  0.37005858]\n",
      " [ 0.          0.          0.         -0.         -0.99165176 -0.64413738]\n",
      " [ 0.          0.          0.          0.          0.          0.47816357]\n",
      " [ 0.          0.          0.          0.          0.          0.        ]\n",
      " [ 0.          0.          0.          0.          0.          0.        ]]\n"
     ]
    }
   ],
   "source": [
    "for i in range(3):\n",
    "    result = np.linalg.matrix_power(A,i)\n",
    "    print(result)"
   ]
  },
  {
   "cell_type": "code",
   "execution_count": 6,
   "metadata": {},
   "outputs": [
    {
     "name": "stdout",
     "output_type": "stream",
     "text": [
      "[[8 9 5 7 0]\n",
      " [9 3 9 1 4]\n",
      " [4 6 8 8 9]\n",
      " [2 7 5 5 4]\n",
      " [5 8 5 8 1]\n",
      " [1 8 7 0 3]\n",
      " [4 2 0 3 5]]\n",
      "[[5 5 4]\n",
      " [5 8 1]\n",
      " [7 0 3]\n",
      " [0 3 5]]\n",
      "(4, 3)\n"
     ]
    },
    {
     "data": {
      "text/plain": [
       "True"
      ]
     },
     "execution_count": 6,
     "metadata": {},
     "output_type": "execute_result"
    }
   ],
   "source": [
    "m = 7\n",
    "n = 5\n",
    "A = np.random.randint(10,size= (m,n))\n",
    "r,s = 3,2\n",
    "print(A)\n",
    "A1= A[r:,s:]\n",
    "print(A1)\n",
    "print(A1.shape)\n",
    "trans_A = np.transpose(A)\n",
    "B1 =trans_A[s:,r:]\n",
    "np.array_equal(A1.T,B1)"
   ]
  },
  {
   "cell_type": "code",
   "execution_count": 10,
   "metadata": {},
   "outputs": [
    {
     "name": "stdout",
     "output_type": "stream",
     "text": [
      "[[5.  4.5 8.5 7.  1. ]\n",
      " [4.5 7.  7.  6.5 5. ]\n",
      " [8.5 7.  2.  6.  3. ]\n",
      " [7.  6.5 6.  7.  6. ]\n",
      " [1.  5.  3.  6.  2. ]]\n"
     ]
    }
   ],
   "source": [
    "n = 5\n",
    "A = np.random.randint(10,size= (n,n))\n",
    "sym_matrix = (A + A.T)/2\n",
    "print(sym_matrix)"
   ]
  }
 ],
 "metadata": {
  "kernelspec": {
   "display_name": "Python 3",
   "language": "python",
   "name": "python3"
  },
  "language_info": {
   "codemirror_mode": {
    "name": "ipython",
    "version": 3
   },
   "file_extension": ".py",
   "mimetype": "text/x-python",
   "name": "python",
   "nbconvert_exporter": "python",
   "pygments_lexer": "ipython3",
   "version": "3.6.8"
  }
 },
 "nbformat": 4,
 "nbformat_minor": 2
}
