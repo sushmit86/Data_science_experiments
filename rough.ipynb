{
 "cells": [
  {
   "cell_type": "code",
   "execution_count": 1,
   "metadata": {},
   "outputs": [],
   "source": [
    "import numpy as np\n",
    "import pandas as pd\n",
    "import matplotlib.pyplot as plt\n",
    "import seaborn as sns\n",
    "plt.style.use('fivethirtyeight')"
   ]
  },
  {
   "cell_type": "code",
   "execution_count": 15,
   "metadata": {},
   "outputs": [
    {
     "data": {
      "text/plain": [
       "[<matplotlib.lines.Line2D at 0x7f83e49ace80>]"
      ]
     },
     "execution_count": 15,
     "metadata": {},
     "output_type": "execute_result"
    },
    {
     "data": {
      "image/png": "[encoded data removed]",
      "text/plain": [
       "<Figure size 432x288 with 1 Axes>"
      ]
     },
     "metadata": {},
     "output_type": "display_data"
    }
   ],
   "source": [
    "err_rates = np.linspace(0,1,1000,endpoint=False)\n",
    "err_rates = err_rates[1:]\n",
    "alpha = np.log((1- err_rates)/err_rates)\n",
    "plt.plot(err_rates,alpha)"
   ]
  },
  {
   "cell_type": "code",
   "execution_count": 2,
   "metadata": {},
   "outputs": [
    {
     "data": {
      "text/plain": [
       "(1, 3, 1)"
      ]
     },
     "execution_count": 2,
     "metadata": {},
     "output_type": "execute_result"
    }
   ],
   "source": [
    "x = np.array([[[0], [1], [2]]])\n",
    "x.shape"
   ]
  },
  {
   "cell_type": "code",
   "execution_count": 3,
   "metadata": {},
   "outputs": [
    {
     "data": {
      "text/plain": [
       "(4, 1)"
      ]
     },
     "execution_count": 3,
     "metadata": {},
     "output_type": "execute_result"
    }
   ],
   "source": [
    "A = np.random.randn(4,3)\n",
    "B = np.sum(A, axis = 1, keepdims = True)\n",
    "B.shape"
   ]
  },
  {
   "cell_type": "code",
   "execution_count": 14,
   "metadata": {},
   "outputs": [
    {
     "name": "stdout",
     "output_type": "stream",
     "text": [
      "[[-0.62549001  0.91733029  1.21701734 -1.44164799]\n",
      " [ 0.89679702 -0.45750112 -1.19692257 -0.84134097]\n",
      " [-1.00505084  1.88599648 -0.83499959 -1.41352064]]\n"
     ]
    }
   ],
   "source": [
    "a = np.random.randn(3, 4)\n",
    "b = np.random.randn(4, 1)\n",
    "c = np.random.randn(3, 4)\n",
    "for i in range(3):\n",
    "  for j in range(4):\n",
    "    c[i][j] = a[i][j] + b[j]\n",
    "print(c)"
   ]
  },
  {
   "cell_type": "code",
   "execution_count": 19,
   "metadata": {},
   "outputs": [
    {
     "data": {
      "text/plain": [
       "array([[-0.62549001,  0.91733029,  1.21701734, -1.44164799],\n",
       "       [ 0.89679702, -0.45750112, -1.19692257, -0.84134097],\n",
       "       [-1.00505084,  1.88599648, -0.83499959, -1.41352064]])"
      ]
     },
     "execution_count": 19,
     "metadata": {},
     "output_type": "execute_result"
    }
   ],
   "source": [
    "a + b.T"
   ]
  },
  {
   "cell_type": "code",
   "execution_count": 10,
   "metadata": {},
   "outputs": [
    {
     "data": {
      "text/plain": [
       "-0.026690634966996002"
      ]
     },
     "execution_count": 10,
     "metadata": {},
     "output_type": "execute_result"
    }
   ],
   "source": [
    "0.07080762*-0.3769458"
   ]
  },
  {
   "cell_type": "code",
   "execution_count": 2,
   "metadata": {},
   "outputs": [
    {
     "name": "stdout",
     "output_type": "stream",
     "text": [
      "[[ 1.62434536 -0.61175641 -0.52817175 -1.07296862  0.86540763 -2.3015387 ]\n",
      " [ 1.74481176 -0.7612069   0.3190391  -0.24937038  1.46210794 -2.06014071]\n",
      " [-0.3224172  -0.38405435  1.13376944 -1.09989127 -0.17242821 -0.87785842]\n",
      " [ 0.04221375  0.58281521 -1.10061918  1.14472371  0.90159072  0.50249434]\n",
      " [ 0.90085595 -0.68372786 -0.12289023 -0.93576943 -0.26788808  0.53035547]\n",
      " [-0.69166075 -0.39675353 -0.6871727  -0.84520564 -0.67124613 -0.0126646 ]]\n"
     ]
    }
   ],
   "source": [
    "matrix = np.random.randn(6,6)\n",
    "print(matrix)\n",
    "upper_matrix= np.triu(matrix)\n",
    "diag_matrix = np.diag(np.diag(upper_matrix))\n",
    "A = upper_matrix - diag_matrix"
   ]
  },
  {
   "cell_type": "code",
   "execution_count": 3,
   "metadata": {},
   "outputs": [
    {
     "name": "stdout",
     "output_type": "stream",
     "text": [
      "[[1. 0. 0. 0. 0. 0.]\n",
      " [0. 1. 0. 0. 0. 0.]\n",
      " [0. 0. 1. 0. 0. 0.]\n",
      " [0. 0. 0. 1. 0. 0.]\n",
      " [0. 0. 0. 0. 1. 0.]\n",
      " [0. 0. 0. 0. 0. 1.]]\n",
      "[[ 0.         -0.61175641 -0.52817175 -1.07296862  0.86540763 -2.3015387 ]\n",
      " [ 0.          0.          0.3190391  -0.24937038  1.46210794 -2.06014071]\n",
      " [ 0.          0.          0.         -1.09989127 -0.17242821 -0.87785842]\n",
      " [ 0.          0.          0.          0.          0.90159072  0.50249434]\n",
      " [ 0.          0.          0.          0.          0.          0.53035547]\n",
      " [ 0.          0.          0.          0.          0.          0.        ]]\n",
      "[[ 0.          0.         -0.19517421  0.73348542 -1.77076075  1.64377732]\n",
      " [ 0.          0.          0.         -0.35090832 -0.27984136  0.37005858]\n",
      " [ 0.          0.          0.         -0.         -0.99165176 -0.64413738]\n",
      " [ 0.          0.          0.          0.          0.          0.47816357]\n",
      " [ 0.          0.          0.          0.          0.          0.        ]\n",
      " [ 0.          0.          0.          0.          0.          0.        ]]\n"
     ]
    }
   ],
   "source": [
    "for i in range(3):\n",
    "    result = np.linalg.matrix_power(A,i)\n",
    "    print(result)"
   ]
  },
  {
   "cell_type": "code",
   "execution_count": 6,
   "metadata": {},
   "outputs": [
    {
     "name": "stdout",
     "output_type": "stream",
     "text": [
      "[[8 9 5 7 0]\n",
      " [9 3 9 1 4]\n",
      " [4 6 8 8 9]\n",
      " [2 7 5 5 4]\n",
      " [5 8 5 8 1]\n",
      " [1 8 7 0 3]\n",
      " [4 2 0 3 5]]\n",
      "[[5 5 4]\n",
      " [5 8 1]\n",
      " [7 0 3]\n",
      " [0 3 5]]\n",
      "(4, 3)\n"
     ]
    },
    {
     "data": {
      "text/plain": [
       "True"
      ]
     },
     "execution_count": 6,
     "metadata": {},
     "output_type": "execute_result"
    }
   ],
   "source": [
    "m = 7\n",
    "n = 5\n",
    "A = np.random.randint(10,size= (m,n))\n",
    "r,s = 3,2\n",
    "print(A)\n",
    "A1= A[r:,s:]\n",
    "print(A1)\n",
    "print(A1.shape)\n",
    "trans_A = np.transpose(A)\n",
    "B1 =trans_A[s:,r:]\n",
    "np.array_equal(A1.T,B1)"
   ]
  },
  {
   "cell_type": "code",
   "execution_count": 10,
   "metadata": {},
   "outputs": [
    {
     "name": "stdout",
     "output_type": "stream",
     "text": [
      "[[5.  4.5 8.5 7.  1. ]\n",
      " [4.5 7.  7.  6.5 5. ]\n",
      " [8.5 7.  2.  6.  3. ]\n",
      " [7.  6.5 6.  7.  6. ]\n",
      " [1.  5.  3.  6.  2. ]]\n"
     ]
    }
   ],
   "source": [
    "n = 25\n",
    "A = np.random.randint(10,size= (n,n))\n",
    "sym_matrix = (A + A.T)/2\n",
    "print(sym_matrix)"
   ]
  },
  {
   "cell_type": "code",
   "execution_count": 4,
   "metadata": {},
   "outputs": [],
   "source": [
    "import torch\n",
    "import pytorch_lightning as pl\n",
    "from torch import nn\n",
    "class Light_alexnet(pl.LightningModule):\n",
    "    def __init__(self):\n",
    "        super().__init__()\n",
    "        self.accuracy = torchmetrics.Accuracy(top_k=1)\n",
    "        self.model =  nn.Sequential(\n",
    "                        # Here, we use a larger 11 x 11 window to capture objects. At the same\n",
    "                        # time, we use a stride of 4 to greatly reduce the height and width of the\n",
    "                        # output. Here, the number of output channels is much larger than that in\n",
    "                        # LeNet\n",
    "                        nn.Conv2d(1, 96, kernel_size=11, stride=4, padding=1), nn.ReLU(),\n",
    "                        nn.MaxPool2d(kernel_size=3, stride=2),\n",
    "                        # Make the convolution window smaller, set padding to 2 for consistent\n",
    "                        # height and width across the input and output, and increase the number of\n",
    "                        # output channels\n",
    "                        nn.Conv2d(96, 256, kernel_size=5, padding=2), nn.ReLU(),\n",
    "                        nn.MaxPool2d(kernel_size=3, stride=2),\n",
    "                        # Use three successive convolutional layers and a smaller convolution\n",
    "                        # window. Except for the final convolutional layer, the number of output\n",
    "                        # channels is further increased. Pooling layers are not used to reduce the\n",
    "                        # height and width of input after the first two convolutional layers\n",
    "                        nn.Conv2d(256, 384, kernel_size=3, padding=1), nn.ReLU(),\n",
    "                        nn.Conv2d(384, 384, kernel_size=3, padding=1), nn.ReLU(),\n",
    "                        nn.Conv2d(384, 256, kernel_size=3, padding=1), nn.ReLU(),\n",
    "                        nn.MaxPool2d(kernel_size=3, stride=2), nn.Flatten(),\n",
    "                        # Here, the number of outputs of the fully-connected layer is several\n",
    "                        # times larger than that in LeNet. Use the dropout layer to mitigate\n",
    "                        # overfitting\n",
    "                        nn.Linear(6400, 4096), nn.ReLU(), nn.Dropout(p=0.5),\n",
    "                        nn.Linear(4096, 4096), nn.ReLU(), nn.Dropout(p=0.5),\n",
    "                        # Output layer. Since we are using Fashion-MNIST, the number of classes is\n",
    "                        # 10, instead of 1000 as in the paper\n",
    "                        nn.Linear(4096, 10))\n",
    "\n",
    "    def forward(self, x):\n",
    "        x = x.view(-1, 1, 28, 28)\n",
    "        x = self.model(x)\n",
    "        return x\n",
    "\n",
    "def loss_fn(self, logits, y):\n",
    "loss = nn.CrossEntropyLoss()\n",
    "return loss(logits,y)\n",
    "\n",
    "  def training_step(self, train_batch, batch_idx):\n",
    "      x, y = train_batch\n",
    "      logits = self.forward(x)\n",
    "      loss = self.loss_fn(logits, y)\n",
    "      self.log('train_loss', loss)\n",
    "      m = nn.Softmax(dim=1)\n",
    "      output = m(logits)\n",
    "      self.log('train_accuracy', self.accuracy(output,y))\n",
    "      return loss\n",
    "\n",
    "\n",
    "  def validation_step(self, val_batch, batch_idx):\n",
    "      x, y = val_batch\n",
    "      logits = self.forward(x)\n",
    "      loss = self.loss_fn(logits, y)\n",
    "      self.log('val_loss', loss)\n",
    "      m = nn.Softmax(dim=1)\n",
    "      output = m(logits)\n",
    "      self.log('test_accuracy', self.accuracy(output,y))\n",
    "\n",
    "  def configure_optimizers(self):\n",
    "    optimizer = torch.optim.SGD(self.model.parameters(), lr=0.9)\n",
    "    return optimizer\n",
    "  \n",
    "  \n",
    "\n",
    "\n",
    "\n",
    "class MNISTDataModule(pl.LightningDataModule):\n",
    "\n",
    "  def setup(self, stage):\n",
    "    # transforms for images\n",
    "    transform=transforms.Compose([transforms.ToTensor()])\n",
    "      \n",
    "    # prepare transforms standard to MNIST\n",
    "    self.mnist_train = FashionMNIST(root=\"../data\", train=True, download=True, transform=transform)\n",
    "    self.mnist_test = FashionMNIST(root=\"../data\", train=False, download=True, transform=transform)\n",
    "\n",
    "  def train_dataloader(self):\n",
    "    return DataLoader(self.mnist_train, batch_size=256,shuffle=True,num_workers=1)\n",
    "\n",
    "  def val_dataloader(self):\n",
    "    return DataLoader(self.mnist_test, batch_size=256,num_workers=1)\n",
    "\n",
    "        "
   ]
  },
  {
   "cell_type": "code",
   "execution_count": 2,
   "metadata": {},
   "outputs": [
    {
     "data": {
      "text/plain": [
       "304.33"
      ]
     },
     "execution_count": 2,
     "metadata": {},
     "output_type": "execute_result"
    }
   ],
   "source": [
    "608.66 - 304.33"
   ]
  }
 ],
 "metadata": {
  "kernelspec": {
   "display_name": "Python 3",
   "language": "python",
   "name": "python3"
  },
  "language_info": {
   "codemirror_mode": {
    "name": "ipython",
    "version": 3
   },
   "file_extension": ".py",
   "mimetype": "text/x-python",
   "name": "python",
   "nbconvert_exporter": "python",
   "pygments_lexer": "ipython3",
   "version": "3.8.2"
  }
 },
 "nbformat": 4,
 "nbformat_minor": 4
}
