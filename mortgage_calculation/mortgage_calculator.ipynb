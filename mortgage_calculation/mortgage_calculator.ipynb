{
 "cells": [
  {
   "cell_type": "markdown",
   "metadata": {},
   "source": [
    "### Mortgage Calculator\n",
    "\n",
    "$$\n",
    "P_0 = Intial\\,Loan\\,amount\\\\\n",
    "R = Interest\\,rate\\,per\\,annum \\\\\n",
    "r = R/12 (monthly\\,rate)\\\\\n",
    "A = Amount\\,we\\,pay\\,each\\,month \\\\\n",
    "n = Loan\\,term\n",
    "$$\n",
    "```We need to solve for A given``` $P_0$```,n,R```\n",
    "\n",
    "We know the following\n",
    "\n",
    "$\n",
    "P_n = 0 \\\\\n",
    "P_n = P_0 (1+r)^n -A(1 + (1+r) + (1+r)^2 + ..... + (1+r)^{n-1} )\n",
    "$\n",
    "\n",
    "\n",
    "```Solving the above we get ```\n",
    "\n",
    "$\n",
    "A = \\frac{P_0 r(1+r)^n}{(1+r)^n -1}\n",
    "$\n",
    "\n",
    "We know that at any time t\n",
    "\n",
    "\n",
    "$\n",
    "P_{t+1} = P_t - (A - P_tr)\n",
    "$\n",
    "\n",
    "\n",
    "We will use the above recurrence relation for calculating the amortization calculations"
   ]
  },
  {
   "cell_type": "code",
   "execution_count": 1,
   "metadata": {},
   "outputs": [],
   "source": [
    "import pandas as pd\n",
    "import numpy as np\n",
    "import matplotlib.pyplot as plt\n",
    "import seaborn as sns\n",
    "plt.style.use('fivethirtyeight')\n"
   ]
  },
  {
   "cell_type": "code",
   "execution_count": 2,
   "metadata": {},
   "outputs": [
    {
     "name": "stdout",
     "output_type": "stream",
     "text": [
      "Net Monthly payment 1866.7512478545048\n"
     ]
    }
   ],
   "source": [
    "total_price_of_house = 563000\n",
    "down_payment_pct = 0.25\n",
    "principal_loan_amount = (1 - down_payment_pct)*total_price_of_house\n",
    "n = 360\n",
    "R = 3.375/1e2\n",
    "r = R/12\n",
    "net_monthly_payment = (principal_loan_amount*r* (1+r)**n)/((1+r)**n -1 )\n",
    "print('Net Monthly payment',net_monthly_payment)"
   ]
  },
  {
   "cell_type": "code",
   "execution_count": 3,
   "metadata": {},
   "outputs": [
    {
     "name": "stdout",
     "output_type": "stream",
     "text": [
      "Total Interest Paid 249780.44922764707\n"
     ]
    },
    {
     "data": {
      "image/png": "[encoded data removed]",
      "text/plain": [
       "<Figure size 864x432 with 1 Axes>"
      ]
     },
     "metadata": {
      "needs_background": "light"
     },
     "output_type": "display_data"
    }
   ],
   "source": [
    "A = net_monthly_payment\n",
    "rem_principle = []\n",
    "interest_paid = []\n",
    "amt_twds_principal = []\n",
    "p0 = principal_loan_amount\n",
    "for t in range(n):\n",
    "    interest_paid.append(p0*r)\n",
    "    amt_twds_principal.append(A - p0*r)\n",
    "    p1 = p0 - (A - p0*r)\n",
    "    rem_principle.append(p1)\n",
    "    p0 = p1\n",
    "    \n",
    "fig, ax0 = plt.subplots(1,1, figsize=(12,6))\n",
    "ax0.plot(amt_twds_principal,'o',alpha=0.2)\n",
    "ax0.plot(interest_paid,'o',alpha=0.2)\n",
    "print('Total Interest Paid',sum(interest_paid))"
   ]
  },
  {
   "cell_type": "code",
   "execution_count": 4,
   "metadata": {},
   "outputs": [
    {
     "data": {
      "text/plain": [
       "88958.18448652545"
      ]
     },
     "execution_count": 4,
     "metadata": {},
     "output_type": "execute_result"
    }
   ],
   "source": [
    "7096 + 81862.18448652545"
   ]
  },
  {
   "cell_type": "code",
   "execution_count": 5,
   "metadata": {},
   "outputs": [
    {
     "data": {
      "text/plain": [
       "28621.889999999992"
      ]
     },
     "execution_count": 5,
     "metadata": {},
     "output_type": "execute_result"
    }
   ],
   "source": [
    "86736.93 - 58115.04"
   ]
  },
  {
   "cell_type": "code",
   "execution_count": 6,
   "metadata": {},
   "outputs": [
    {
     "name": "stdout",
     "output_type": "stream",
     "text": [
      "Net Monthly payment 1729.2736609050125\n"
     ]
    }
   ],
   "source": [
    "principal_loan_amount = 418146\n",
    "n = 360\n",
    "R = 2.85/1e2\n",
    "r = R/12\n",
    "net_monthly_payment = (principal_loan_amount*r* (1+r)**n)/((1+r)**n -1 )\n",
    "print('Net Monthly payment',net_monthly_payment)"
   ]
  },
  {
   "cell_type": "code",
   "execution_count": 7,
   "metadata": {},
   "outputs": [
    {
     "name": "stdout",
     "output_type": "stream",
     "text": [
      "Total Interest Paid 81862.18448652545\n"
     ]
    }
   ],
   "source": [
    "A = net_monthly_payment\n",
    "rem_principle = []\n",
    "interest_paid = []\n",
    "amt_twds_principal = []\n",
    "p0 = principal_loan_amount\n",
    "for t in range(90):\n",
    "    interest_paid.append(p0*r)\n",
    "    amt_twds_principal.append(A - p0*r)\n",
    "    p1 = p0 - (A - p0*r)\n",
    "    rem_principle.append(p1)\n",
    "    p0 = p1\n",
    "    \n",
    "# fig, ax0 = plt.subplots(1,1, figsize=(12,6))\n",
    "# ax0.plot(amt_twds_principal,'o',alpha=0.2)\n",
    "# ax0.plot(interest_paid,'o',alpha=0.2)\n",
    "print('Total Interest Paid',sum(interest_paid))"
   ]
  },
  {
   "cell_type": "code",
   "execution_count": 9,
   "metadata": {},
   "outputs": [
    {
     "data": {
      "text/plain": [
       "2354"
      ]
     },
     "execution_count": 9,
     "metadata": {},
     "output_type": "execute_result"
    }
   ],
   "source": [
    "422250 - 1061 - 418835"
   ]
  }
 ],
 "metadata": {
  "kernelspec": {
   "display_name": "Python 3",
   "language": "python",
   "name": "python3"
  },
  "language_info": {
   "codemirror_mode": {
    "name": "ipython",
    "version": 3
   },
   "file_extension": ".py",
   "mimetype": "text/x-python",
   "name": "python",
   "nbconvert_exporter": "python",
   "pygments_lexer": "ipython3",
   "version": "3.6.8"
  }
 },
 "nbformat": 4,
 "nbformat_minor": 2
}
