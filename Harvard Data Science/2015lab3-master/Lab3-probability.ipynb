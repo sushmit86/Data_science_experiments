{
 "cells": [
  {
   "cell_type": "markdown",
   "metadata": {
    "hide": true
   },
   "source": [
    "## Probability and Distributions"
   ]
  },
  {
   "cell_type": "code",
   "execution_count": 4,
   "metadata": {
    "collapsed": false,
    "hide": true
   },
   "outputs": [
    {
     "name": "stdout",
     "output_type": "stream",
     "text": [
      "0.12.3\n"
     ]
    },
    {
     "data": {
      "text/html": [
       "\n",
       "    <div class=\"bk-root\">\n",
       "        <a href=\"http://bokeh.pydata.org\" target=\"_blank\" class=\"bk-logo bk-logo-small bk-logo-notebook\"></a>\n",
       "        <span id=\"bfe6a860-b4d0-4804-ac28-b1220cc3be42\">Loading BokehJS ...</span>\n",
       "    </div>"
      ]
     },
     "metadata": {},
     "output_type": "display_data"
    },
    {
     "data": {
      "application/javascript": [
       "\n",
       "(function(global) {\n",
       "  function now() {\n",
       "    return new Date();\n",
       "  }\n",
       "\n",
       "  var force = \"1\";\n",
       "\n",
       "  if (typeof (window._bokeh_onload_callbacks) === \"undefined\" || force !== \"\") {\n",
       "    window._bokeh_onload_callbacks = [];\n",
       "    window._bokeh_is_loading = undefined;\n",
       "  }\n",
       "\n",
       "\n",
       "  \n",
       "  if (typeof (window._bokeh_timeout) === \"undefined\" || force !== \"\") {\n",
       "    window._bokeh_timeout = Date.now() + 5000;\n",
       "    window._bokeh_failed_load = false;\n",
       "  }\n",
       "\n",
       "  var NB_LOAD_WARNING = {'data': {'text/html':\n",
       "     \"<div style='background-color: #fdd'>\\n\"+\n",
       "     \"<p>\\n\"+\n",
       "     \"BokehJS does not appear to have successfully loaded. If loading BokehJS from CDN, this \\n\"+\n",
       "     \"may be due to a slow or bad network connection. Possible fixes:\\n\"+\n",
       "     \"</p>\\n\"+\n",
       "     \"<ul>\\n\"+\n",
       "     \"<li>re-rerun `output_notebook()` to attempt to load from CDN again, or</li>\\n\"+\n",
       "     \"<li>use INLINE resources instead, as so:</li>\\n\"+\n",
       "     \"</ul>\\n\"+\n",
       "     \"<code>\\n\"+\n",
       "     \"from bokeh.resources import INLINE\\n\"+\n",
       "     \"output_notebook(resources=INLINE)\\n\"+\n",
       "     \"</code>\\n\"+\n",
       "     \"</div>\"}};\n",
       "\n",
       "  function display_loaded() {\n",
       "    if (window.Bokeh !== undefined) {\n",
       "      Bokeh.$(\"#bfe6a860-b4d0-4804-ac28-b1220cc3be42\").text(\"BokehJS successfully loaded.\");\n",
       "    } else if (Date.now() < window._bokeh_timeout) {\n",
       "      setTimeout(display_loaded, 100)\n",
       "    }\n",
       "  }\n",
       "\n",
       "  function run_callbacks() {\n",
       "    window._bokeh_onload_callbacks.forEach(function(callback) { callback() });\n",
       "    delete window._bokeh_onload_callbacks\n",
       "    console.info(\"Bokeh: all callbacks have finished\");\n",
       "  }\n",
       "\n",
       "  function load_libs(js_urls, callback) {\n",
       "    window._bokeh_onload_callbacks.push(callback);\n",
       "    if (window._bokeh_is_loading > 0) {\n",
       "      console.log(\"Bokeh: BokehJS is being loaded, scheduling callback at\", now());\n",
       "      return null;\n",
       "    }\n",
       "    if (js_urls == null || js_urls.length === 0) {\n",
       "      run_callbacks();\n",
       "      return null;\n",
       "    }\n",
       "    console.log(\"Bokeh: BokehJS not loaded, scheduling load and callback at\", now());\n",
       "    window._bokeh_is_loading = js_urls.length;\n",
       "    for (var i = 0; i < js_urls.length; i++) {\n",
       "      var url = js_urls[i];\n",
       "      var s = document.createElement('script');\n",
       "      s.src = url;\n",
       "      s.async = false;\n",
       "      s.onreadystatechange = s.onload = function() {\n",
       "        window._bokeh_is_loading--;\n",
       "        if (window._bokeh_is_loading === 0) {\n",
       "          console.log(\"Bokeh: all BokehJS libraries loaded\");\n",
       "          run_callbacks()\n",
       "        }\n",
       "      };\n",
       "      s.onerror = function() {\n",
       "        console.warn(\"failed to load library \" + url);\n",
       "      };\n",
       "      console.log(\"Bokeh: injecting script tag for BokehJS library: \", url);\n",
       "      document.getElementsByTagName(\"head\")[0].appendChild(s);\n",
       "    }\n",
       "  };var element = document.getElementById(\"bfe6a860-b4d0-4804-ac28-b1220cc3be42\");\n",
       "  if (element == null) {\n",
       "    console.log(\"Bokeh: ERROR: autoload.js configured with elementid 'bfe6a860-b4d0-4804-ac28-b1220cc3be42' but no matching script tag was found. \")\n",
       "    return false;\n",
       "  }\n",
       "\n",
       "  var js_urls = ['https://cdn.pydata.org/bokeh/release/bokeh-0.12.3.min.js', 'https://cdn.pydata.org/bokeh/release/bokeh-widgets-0.12.3.min.js'];\n",
       "\n",
       "  var inline_js = [\n",
       "    function(Bokeh) {\n",
       "      Bokeh.set_log_level(\"info\");\n",
       "    },\n",
       "    \n",
       "    function(Bokeh) {\n",
       "      \n",
       "      Bokeh.$(\"#bfe6a860-b4d0-4804-ac28-b1220cc3be42\").text(\"BokehJS is loading...\");\n",
       "    },\n",
       "    function(Bokeh) {\n",
       "      console.log(\"Bokeh: injecting CSS: https://cdn.pydata.org/bokeh/release/bokeh-0.12.3.min.css\");\n",
       "      Bokeh.embed.inject_css(\"https://cdn.pydata.org/bokeh/release/bokeh-0.12.3.min.css\");\n",
       "      console.log(\"Bokeh: injecting CSS: https://cdn.pydata.org/bokeh/release/bokeh-widgets-0.12.3.min.css\");\n",
       "      Bokeh.embed.inject_css(\"https://cdn.pydata.org/bokeh/release/bokeh-widgets-0.12.3.min.css\");\n",
       "    }\n",
       "  ];\n",
       "\n",
       "  function run_inline_js() {\n",
       "    \n",
       "    if ((window.Bokeh !== undefined) || (force === \"1\")) {\n",
       "      for (var i = 0; i < inline_js.length; i++) {\n",
       "        inline_js[i](window.Bokeh);\n",
       "      }if (force === \"1\") {\n",
       "        display_loaded();\n",
       "      }} else if (Date.now() < window._bokeh_timeout) {\n",
       "      setTimeout(run_inline_js, 100);\n",
       "    } else if (!window._bokeh_failed_load) {\n",
       "      console.log(\"Bokeh: BokehJS failed to load within specified timeout.\");\n",
       "      window._bokeh_failed_load = true;\n",
       "    } else if (!force) {\n",
       "      var cell = $(\"#bfe6a860-b4d0-4804-ac28-b1220cc3be42\").parents('.cell').data().cell;\n",
       "      cell.output_area.append_execute_result(NB_LOAD_WARNING)\n",
       "    }\n",
       "\n",
       "  }\n",
       "\n",
       "  if (window._bokeh_is_loading === 0) {\n",
       "    console.log(\"Bokeh: BokehJS loaded, going straight to plotting\");\n",
       "    run_inline_js();\n",
       "  } else {\n",
       "    load_libs(js_urls, function() {\n",
       "      console.log(\"Bokeh: BokehJS plotting callback run at\", now());\n",
       "      run_inline_js();\n",
       "    });\n",
       "  }\n",
       "}(this));"
      ]
     },
     "metadata": {},
     "output_type": "display_data"
    }
   ],
   "source": [
    "# The %... is an iPython thing, and is not part of the Python language.\n",
    "# In this case we're just telling the plotting library to draw things on\n",
    "# the notebook, instead of on a separate window.\n",
    "%matplotlib inline\n",
    "# See all the \"as ...\" contructs? They're just aliasing the package names.\n",
    "# That way we can call methods like plt.plot() instead of matplotlib.pyplot.plot().\n",
    "import numpy as np\n",
    "import scipy as sp\n",
    "import matplotlib as mpl\n",
    "import matplotlib.cm as cm\n",
    "import matplotlib.pyplot as plt\n",
    "import pandas as pd\n",
    "import time\n",
    "pd.set_option('display.width', 500)\n",
    "pd.set_option('display.max_columns', 100)\n",
    "pd.set_option('display.notebook_repr_html', True)\n",
    "import seaborn as sns\n",
    "sns.set_style(\"whitegrid\")\n",
    "sns.set_context(\"poster\")\n",
    "from bokeh.io import output_notebook\n",
    "import bokeh\n",
    "from bokeh.plotting import figure, show\n",
    "print(bokeh.__version__)\n",
    "output_notebook()"
   ]
  },
  {
   "cell_type": "markdown",
   "metadata": {},
   "source": [
    "### What is probability?\n",
    "\n",
    "Suppose you were to flip a coin. Then you expect not to be able to say whether the next toss would yield a heads or a tails.  You might tell a friend that the odds of getting a heads is equal to to the odds of getting a tails, and that both are $1/2$.\n",
    "\n",
    "This intuitive notion of odds is a **probability**. \n",
    "\n",
    "Consider another example. If we were tossing a 'fair' six-sided dice, we may thus equivalently say that the odds of the dice falling on any one of its sides is $1/6$. Indeed if there are $C$ different equally likely possibilities, we'd expect that the probability of any one particular outcome would be $1/C$.\n",
    "\n",
    "The examples of the coin as well as the dice illustrate the notion of probability springing from **symmetry**. Here we think of probability of of the number 4 on the dice as the ratio:\n",
    "\n",
    "$$\\frac{Number\\: of\\: cases\\: for\\: number\\: 4}{number\\: of\\: possibilities} = \\frac{1}{6},$$\n",
    " assuming equally likely possibilities.\n",
    "\n",
    "\n",
    "\n",
    "#### Probability from a model\n",
    "\n",
    "But now think of an event like an election, say a presidential election. You cant exactly run multiple trials of the election: its a one-off event. But you still want to talk about the likelyhood of a candidate winning. However people do make **models** of elections, based on inputs such as race, age, income, sampling polls, etc. They assign likeyhoods of candidates winning and run large numbers of **simulations** of the election, making predictions based on that. Forecasters like Nate Silver, Sam Wang, And Drew Linzer, made incredibly successfull predictions of the 2012 elections.\n",
    "\n",
    "Or consider what a weather forecaster means when he or she says there is a 90% chance of rain today. Presumably, this conclusion has been made from many computer **simulations** which take in the weather conditions known in the past, and propagated using physics to the current day. The simulations give different results based on the uncertainty in the measurement of past weather, and the inability of the physics to capture the phenomenon exactly (all physics is some approximation to the natural world). But 90% of these simulations show rain.\n",
    "\n",
    "In all of these cases, there is either a model (a fair coin, an election forecasting model, a weather differential equation), or an experiment ( a large number of coin tosses) that is used to **estimate** a probability, or the odds, of an **event** $E$ occuring. \n"
   ]
  },
  {
   "cell_type": "markdown",
   "metadata": {},
   "source": [
    "### Testing a model\n",
    "\n",
    "We can test the model of a fair coin by having carried out a large number of coin flips. You would do, or imagine doing, a large number of flips or **trials** $N$, and finding the number of times you got heads $N_H$. Then the probability of getting heads would be \n",
    "$$\\frac{N_H}{N}.$$\n",
    "\n",
    "#### Probability as frequency\n",
    "\n",
    "But, if you didnt know about the fairness of the coin, you can think of another notion probability as a **relative frequency**: if there are multiple ways an **event** like the tossing of a coin can happen, lets look at multiple trials of the event and see the fraction of times one or other of these ways happened. "
   ]
  },
  {
   "cell_type": "markdown",
   "metadata": {},
   "source": [
    "#### Simulating the results of the model\n",
    "\n",
    "We dont have a coin right now. So let us **simulate** this process on a computer. To do this we will use a form of the **random number generator** built into `numpy`. In particular, we will use the function `np.random.choice`, which will with equal probability for all items pick an item from a list (thus if the list is of size 6, it will pick one of the six list items each time, with a probability 1/6). "
   ]
  },
  {
   "cell_type": "code",
   "execution_count": 2,
   "metadata": {
    "collapsed": false
   },
   "outputs": [
    {
     "name": "stdout",
     "output_type": "stream",
     "text": [
      "Throws: H H T H H H T H H H T T T H H T H T T T H H H T T T H T H T H T T T T H H T H H\n",
      "Number of Heads: 21\n",
      "p1 = Number of Heads/Total Throws: 0.525\n"
     ]
    }
   ],
   "source": [
    "def throw_a_coin(N):\n",
    "    return np.random.choice(['H','T'], size=N)\n",
    "throws=throw_a_coin(40)\n",
    "print(\"Throws:\",\" \".join(throws))\n",
    "print(\"Number of Heads:\", np.sum(throws=='H'))\n",
    "print(\"p1 = Number of Heads/Total Throws:\", np.sum(throws=='H')/40)"
   ]
  },
  {
   "cell_type": "markdown",
   "metadata": {},
   "source": [
    "Notice that you do not necessarily get 20 heads.\n",
    "\n",
    "Now say that we run the entire process again, a second **replication** to obtain a second sample. Then we ask the same question: what is the fraction of heads we get this time? Lets call the odds of heads in sample 2, then, $p_2$:"
   ]
  },
  {
   "cell_type": "code",
   "execution_count": 3,
   "metadata": {
    "collapsed": false
   },
   "outputs": [
    {
     "name": "stdout",
     "output_type": "stream",
     "text": [
      "Throws: T H T T H H H H T T T H H H T T T T H T H H H T T T T H H T H H H H H H T H H T\n",
      "Number of Heads: 22\n",
      "p2 = Number of Heads/Total Throws: 0.55\n"
     ]
    }
   ],
   "source": [
    "throws=throw_a_coin(40)\n",
    "print(\"Throws:\",\" \".join(throws))\n",
    "print(\"Number of Heads:\", np.sum(throws=='H'))\n",
    "print(\"p2 = Number of Heads/Total Throws:\", np.sum(throws=='H')/40)"
   ]
  },
  {
   "cell_type": "markdown",
   "metadata": {},
   "source": [
    "Let's do many more trials"
   ]
  },
  {
   "cell_type": "code",
   "execution_count": 5,
   "metadata": {
    "collapsed": false
   },
   "outputs": [
    {
     "name": "stdout",
     "output_type": "stream",
     "text": [
      "First 1000 Throws: H T H T H T T H T H H H H H T T H T T H T T H T T T H H T T H T H T T T H T T T H T H H T H T T H T T T T T T T H H T T T T H H H T H H T H T T H T H T H H T H H T T H T H T T T T H H T T H T T T H H H H H H H H T T H T T T T H T H H H T T H H T T T H T T T H H H H H T T H H T H T T H T T T T H H H H T H H H H H T T T H H H H H H T H H H T T H T H T T T T T H T T H T H T H T T T H T T H H H H H T T H T T H T T H T H H T H T T T H H T T H H H H H H H T T T T T H H T H H H T H T H T H H H H H H T H T T H H T H H T T T T H H T T H T H T H H H T H H H H H T H H T T T T T T T H T H T T H T T T T T T T T H H T T T T T T T H H T T T H T T H H H H T T T T H T H T T T H H H H T T H H H H T H H H T T T H T H T T H H T H H T H T T T H H H T T T H T H T H H T T T H T T H H H H H T H T T T T H H H T T T T H T T T H H H H T H T T T T H H T H H H H T H H H T T T T H T H T H H H H H H H H T T H T H H T T H H H T H T T H H T H T H H T H H T T H H H T T T T T T H H H T T H H H T T T T H T H T H H H T H \n",
      "Number of Heads: 5013\n",
      "p for 10,000 = Number of Heads/Total Throws: 0.5013\n"
     ]
    }
   ],
   "source": [
    "throws=throw_a_coin(10000)\n",
    "print(\"First 1000 Throws:\",\" \".join(throws)[:1000])\n",
    "print(\"Number of Heads:\", np.sum(throws=='H'))\n",
    "print(\"p for 10,000 = Number of Heads/Total Throws:\", np.sum(throws=='H')/10000)"
   ]
  },
  {
   "cell_type": "markdown",
   "metadata": {},
   "source": [
    "The larger number of trials we do, the closer we seem to get to half the tosses showing up heads. Lets see this more systematically:"
   ]
  },
  {
   "cell_type": "code",
   "execution_count": 6,
   "metadata": {
    "collapsed": false
   },
   "outputs": [
    {
     "data": {
      "image/png": "[encoded data removed]",
      "text/plain": [
       "<matplotlib.figure.Figure at 0x11751e438>"
      ]
     },
     "metadata": {},
     "output_type": "display_data"
    }
   ],
   "source": [
    "trials=[10, 20, 50, 70, 100, 200, 500, 800, 1000, 2000, 5000, 7000, 10000]\n",
    "plt.plot(trials, [np.sum(throw_a_coin(j)=='H')/np.float(j) for j in trials], 'o-', alpha=0.6);\n",
    "plt.xscale(\"log\")\n",
    "plt.axhline(0.5, 0, 1, color='r');\n",
    "plt.xlabel('number of trials');\n",
    "plt.ylabel('probability of heads from simulation');\n",
    "plt.title('frequentist probability of heads');"
   ]
  },
  {
   "cell_type": "markdown",
   "metadata": {},
   "source": [
    "Usning **Bokeh** for same plot above"
   ]
  },
  {
   "cell_type": "code",
   "execution_count": 8,
   "metadata": {
    "collapsed": false
   },
   "outputs": [
    {
     "data": {
      "text/html": [
       "\n",
       "\n",
       "    <div class=\"bk-root\">\n",
       "        <div class=\"plotdiv\" id=\"19e39d66-f47a-4fa2-ab49-4b796731abf3\"></div>\n",
       "    </div>\n",
       "<script type=\"text/javascript\">\n",
       "  \n",
       "  (function(global) {\n",
       "    function now() {\n",
       "      return new Date();\n",
       "    }\n",
       "  \n",
       "    var force = \"\";\n",
       "  \n",
       "    if (typeof (window._bokeh_onload_callbacks) === \"undefined\" || force !== \"\") {\n",
       "      window._bokeh_onload_callbacks = [];\n",
       "      window._bokeh_is_loading = undefined;\n",
       "    }\n",
       "  \n",
       "  \n",
       "    \n",
       "    if (typeof (window._bokeh_timeout) === \"undefined\" || force !== \"\") {\n",
       "      window._bokeh_timeout = Date.now() + 0;\n",
       "      window._bokeh_failed_load = false;\n",
       "    }\n",
       "  \n",
       "    var NB_LOAD_WARNING = {'data': {'text/html':\n",
       "       \"<div style='background-color: #fdd'>\\n\"+\n",
       "       \"<p>\\n\"+\n",
       "       \"BokehJS does not appear to have successfully loaded. If loading BokehJS from CDN, this \\n\"+\n",
       "       \"may be due to a slow or bad network connection. Possible fixes:\\n\"+\n",
       "       \"</p>\\n\"+\n",
       "       \"<ul>\\n\"+\n",
       "       \"<li>re-rerun `output_notebook()` to attempt to load from CDN again, or</li>\\n\"+\n",
       "       \"<li>use INLINE resources instead, as so:</li>\\n\"+\n",
       "       \"</ul>\\n\"+\n",
       "       \"<code>\\n\"+\n",
       "       \"from bokeh.resources import INLINE\\n\"+\n",
       "       \"output_notebook(resources=INLINE)\\n\"+\n",
       "       \"</code>\\n\"+\n",
       "       \"</div>\"}};\n",
       "  \n",
       "    function display_loaded() {\n",
       "      if (window.Bokeh !== undefined) {\n",
       "        Bokeh.$(\"#19e39d66-f47a-4fa2-ab49-4b796731abf3\").text(\"BokehJS successfully loaded.\");\n",
       "      } else if (Date.now() < window._bokeh_timeout) {\n",
       "        setTimeout(display_loaded, 100)\n",
       "      }\n",
       "    }\n",
       "  \n",
       "    function run_callbacks() {\n",
       "      window._bokeh_onload_callbacks.forEach(function(callback) { callback() });\n",
       "      delete window._bokeh_onload_callbacks\n",
       "      console.info(\"Bokeh: all callbacks have finished\");\n",
       "    }\n",
       "  \n",
       "    function load_libs(js_urls, callback) {\n",
       "      window._bokeh_onload_callbacks.push(callback);\n",
       "      if (window._bokeh_is_loading > 0) {\n",
       "        console.log(\"Bokeh: BokehJS is being loaded, scheduling callback at\", now());\n",
       "        return null;\n",
       "      }\n",
       "      if (js_urls == null || js_urls.length === 0) {\n",
       "        run_callbacks();\n",
       "        return null;\n",
       "      }\n",
       "      console.log(\"Bokeh: BokehJS not loaded, scheduling load and callback at\", now());\n",
       "      window._bokeh_is_loading = js_urls.length;\n",
       "      for (var i = 0; i < js_urls.length; i++) {\n",
       "        var url = js_urls[i];\n",
       "        var s = document.createElement('script');\n",
       "        s.src = url;\n",
       "        s.async = false;\n",
       "        s.onreadystatechange = s.onload = function() {\n",
       "          window._bokeh_is_loading--;\n",
       "          if (window._bokeh_is_loading === 0) {\n",
       "            console.log(\"Bokeh: all BokehJS libraries loaded\");\n",
       "            run_callbacks()\n",
       "          }\n",
       "        };\n",
       "        s.onerror = function() {\n",
       "          console.warn(\"failed to load library \" + url);\n",
       "        };\n",
       "        console.log(\"Bokeh: injecting script tag for BokehJS library: \", url);\n",
       "        document.getElementsByTagName(\"head\")[0].appendChild(s);\n",
       "      }\n",
       "    };var element = document.getElementById(\"19e39d66-f47a-4fa2-ab49-4b796731abf3\");\n",
       "    if (element == null) {\n",
       "      console.log(\"Bokeh: ERROR: autoload.js configured with elementid '19e39d66-f47a-4fa2-ab49-4b796731abf3' but no matching script tag was found. \")\n",
       "      return false;\n",
       "    }\n",
       "  \n",
       "    var js_urls = [];\n",
       "  \n",
       "    var inline_js = [\n",
       "      function(Bokeh) {\n",
       "        Bokeh.$(function() {\n",
       "            var docs_json = {\"1f5bc4f4-97d8-450b-98eb-b95762cbbf3e\":{\"roots\":{\"references\":[{\"attributes\":{\"fill_alpha\":{\"value\":0.1},\"fill_color\":{\"value\":\"#1f77b4\"},\"line_alpha\":{\"value\":0.1},\"line_color\":{\"value\":\"#1f77b4\"},\"size\":{\"units\":\"screen\",\"value\":8},\"x\":{\"field\":\"x\"},\"y\":{\"field\":\"y\"}},\"id\":\"2c9f3957-4f1a-402e-911e-0aee0989ed26\",\"type\":\"Circle\"},{\"attributes\":{\"plot\":{\"id\":\"dad3690a-4d2a-4411-bda3-9e55d4f00319\",\"subtype\":\"Figure\",\"type\":\"Plot\"},\"ticker\":{\"id\":\"316ca310-85e5-48a3-aea8-7f93d9163dbb\",\"type\":\"LogTicker\"}},\"id\":\"3790f437-b174-4648-a605-7356249e5faa\",\"type\":\"Grid\"},{\"attributes\":{\"data_source\":{\"id\":\"9e9d6a79-3a93-4ad6-b51d-a3b41608877b\",\"type\":\"ColumnDataSource\"},\"glyph\":{\"id\":\"a7eca099-6337-438b-b2b0-88cb5cfa1a8b\",\"type\":\"Line\"},\"hover_glyph\":null,\"nonselection_glyph\":{\"id\":\"364973e0-dece-4c83-bcc8-ba238b5335ec\",\"type\":\"Line\"},\"selection_glyph\":null},\"id\":\"82277406-9347-4bc6-b870-271ae7c1ca2c\",\"type\":\"GlyphRenderer\"},{\"attributes\":{\"axis_label\":\"probability of heads from simulation\",\"formatter\":{\"id\":\"c3434b39-b08d-4279-9b13-938083346f73\",\"type\":\"BasicTickFormatter\"},\"plot\":{\"id\":\"dad3690a-4d2a-4411-bda3-9e55d4f00319\",\"subtype\":\"Figure\",\"type\":\"Plot\"},\"ticker\":{\"id\":\"7e5f8f1f-0077-4dd9-b644-7177a3858c04\",\"type\":\"BasicTicker\"}},\"id\":\"133f2e18-fe20-4c27-837d-c606d5984f6f\",\"type\":\"LinearAxis\"},{\"attributes\":{\"active_drag\":\"auto\",\"active_scroll\":\"auto\",\"active_tap\":\"auto\",\"tools\":[{\"id\":\"40ceb1ed-4a82-4609-bf22-114c8ca05eb3\",\"type\":\"PanTool\"},{\"id\":\"9eaf9cba-f5cb-458f-b3c4-e095a8b1a3ba\",\"type\":\"WheelZoomTool\"},{\"id\":\"a0ff7dd5-b5be-48ec-810f-0534d686335c\",\"type\":\"BoxZoomTool\"},{\"id\":\"cc1a01dc-9bcb-4afb-a1b1-f64fd594b66c\",\"type\":\"SaveTool\"},{\"id\":\"518802f1-8c51-436d-83ec-97c78c60b99b\",\"type\":\"ResetTool\"},{\"id\":\"c6be1e12-bdc1-4b46-acd8-8740b4b4486c\",\"type\":\"HelpTool\"}]},\"id\":\"b3269f21-dc76-45de-bc90-3aa2268fa510\",\"type\":\"Toolbar\"},{\"attributes\":{},\"id\":\"7e5f8f1f-0077-4dd9-b644-7177a3858c04\",\"type\":\"BasicTicker\"},{\"attributes\":{\"bottom_units\":\"screen\",\"fill_alpha\":{\"value\":0.5},\"fill_color\":{\"value\":\"lightgrey\"},\"left_units\":\"screen\",\"level\":\"overlay\",\"line_alpha\":{\"value\":1.0},\"line_color\":{\"value\":\"black\"},\"line_dash\":[4,4],\"line_width\":{\"value\":2},\"plot\":null,\"render_mode\":\"css\",\"right_units\":\"screen\",\"top_units\":\"screen\"},\"id\":\"8fdf3544-130a-4b07-b92e-9b763f069acc\",\"type\":\"BoxAnnotation\"},{\"attributes\":{\"data_source\":{\"id\":\"d51f7c76-0c9b-4419-864d-c70b0f14d9b5\",\"type\":\"ColumnDataSource\"},\"glyph\":{\"id\":\"1ffe90ab-0c7d-4b37-a397-572ae2e62e69\",\"type\":\"Circle\"},\"hover_glyph\":null,\"nonselection_glyph\":{\"id\":\"2c9f3957-4f1a-402e-911e-0aee0989ed26\",\"type\":\"Circle\"},\"selection_glyph\":null},\"id\":\"f545cc12-a28e-4544-99a7-28cdb2db4fc2\",\"type\":\"GlyphRenderer\"},{\"attributes\":{\"plot\":{\"id\":\"dad3690a-4d2a-4411-bda3-9e55d4f00319\",\"subtype\":\"Figure\",\"type\":\"Plot\"}},\"id\":\"cc1a01dc-9bcb-4afb-a1b1-f64fd594b66c\",\"type\":\"SaveTool\"},{\"attributes\":{\"callback\":null,\"column_names\":[\"x\",\"y\"],\"data\":{\"x\":[10,20,50,70,100,200,500,800,1000,2000,5000,7000,10000],\"y\":[0.6,0.6,0.46,0.4714285714285714,0.49,0.51,0.54,0.51125,0.5,0.5,0.4958,0.5121428571428571,0.5023]}},\"id\":\"7f845708-d930-4469-b163-21abf2b68efe\",\"type\":\"ColumnDataSource\"},{\"attributes\":{\"line_alpha\":{\"value\":0.1},\"line_color\":{\"value\":\"#1f77b4\"},\"line_width\":{\"value\":3},\"x\":{\"field\":\"x\"},\"y\":{\"value\":0.5}},\"id\":\"364973e0-dece-4c83-bcc8-ba238b5335ec\",\"type\":\"Line\"},{\"attributes\":{\"line_color\":{\"value\":\"#1f77b4\"},\"line_width\":{\"value\":3},\"x\":{\"field\":\"x\"},\"y\":{\"field\":\"y\"}},\"id\":\"b79170ce-21c1-4d0a-b799-7e470996dfe3\",\"type\":\"Line\"},{\"attributes\":{\"ticker\":null},\"id\":\"da93bc02-b99c-4354-ad72-4328ad5c2422\",\"type\":\"LogTickFormatter\"},{\"attributes\":{\"line_color\":{\"value\":\"red\"},\"line_width\":{\"value\":3},\"x\":{\"field\":\"x\"},\"y\":{\"value\":0.5}},\"id\":\"a7eca099-6337-438b-b2b0-88cb5cfa1a8b\",\"type\":\"Line\"},{\"attributes\":{\"callback\":null},\"id\":\"fa687585-6a14-4ea7-880b-42886facb644\",\"type\":\"DataRange1d\"},{\"attributes\":{\"plot\":{\"id\":\"dad3690a-4d2a-4411-bda3-9e55d4f00319\",\"subtype\":\"Figure\",\"type\":\"Plot\"}},\"id\":\"518802f1-8c51-436d-83ec-97c78c60b99b\",\"type\":\"ResetTool\"},{\"attributes\":{\"fill_color\":{\"value\":\"#1f77b4\"},\"line_color\":{\"value\":\"#1f77b4\"},\"size\":{\"units\":\"screen\",\"value\":8},\"x\":{\"field\":\"x\"},\"y\":{\"field\":\"y\"}},\"id\":\"1ffe90ab-0c7d-4b37-a397-572ae2e62e69\",\"type\":\"Circle\"},{\"attributes\":{\"line_alpha\":{\"value\":0.1},\"line_color\":{\"value\":\"#1f77b4\"},\"line_width\":{\"value\":3},\"x\":{\"field\":\"x\"},\"y\":{\"field\":\"y\"}},\"id\":\"d1e0de11-73b0-4b02-b840-162fe1d25334\",\"type\":\"Line\"},{\"attributes\":{\"callback\":null,\"column_names\":[\"x\",\"y\"],\"data\":{\"x\":[10,20,50,70,100,200,500,800,1000,2000,5000,7000,10000],\"y\":[0.6,0.6,0.46,0.4714285714285714,0.49,0.51,0.54,0.51125,0.5,0.5,0.4958,0.5121428571428571,0.5023]}},\"id\":\"d51f7c76-0c9b-4419-864d-c70b0f14d9b5\",\"type\":\"ColumnDataSource\"},{\"attributes\":{\"callback\":null,\"end\":10000,\"start\":9},\"id\":\"9c8d8fbb-ebb6-4ebb-9904-75305d17b945\",\"type\":\"Range1d\"},{\"attributes\":{\"plot\":{\"id\":\"dad3690a-4d2a-4411-bda3-9e55d4f00319\",\"subtype\":\"Figure\",\"type\":\"Plot\"}},\"id\":\"c6be1e12-bdc1-4b46-acd8-8740b4b4486c\",\"type\":\"HelpTool\"},{\"attributes\":{\"num_minor_ticks\":10},\"id\":\"316ca310-85e5-48a3-aea8-7f93d9163dbb\",\"type\":\"LogTicker\"},{\"attributes\":{\"plot\":{\"id\":\"dad3690a-4d2a-4411-bda3-9e55d4f00319\",\"subtype\":\"Figure\",\"type\":\"Plot\"}},\"id\":\"40ceb1ed-4a82-4609-bf22-114c8ca05eb3\",\"type\":\"PanTool\"},{\"attributes\":{\"axis_label\":\"number of trials\",\"formatter\":{\"id\":\"da93bc02-b99c-4354-ad72-4328ad5c2422\",\"type\":\"LogTickFormatter\"},\"plot\":{\"id\":\"dad3690a-4d2a-4411-bda3-9e55d4f00319\",\"subtype\":\"Figure\",\"type\":\"Plot\"},\"ticker\":{\"id\":\"316ca310-85e5-48a3-aea8-7f93d9163dbb\",\"type\":\"LogTicker\"}},\"id\":\"733b678b-7e61-4f54-b5e6-7f4fe52c8379\",\"type\":\"LogAxis\"},{\"attributes\":{\"plot\":null,\"text\":\"frequentist probability of heads\"},\"id\":\"8e0ef80a-5fba-4ed1-9b62-c3c2c48fedf4\",\"type\":\"Title\"},{\"attributes\":{\"below\":[{\"id\":\"733b678b-7e61-4f54-b5e6-7f4fe52c8379\",\"type\":\"LogAxis\"}],\"left\":[{\"id\":\"133f2e18-fe20-4c27-837d-c606d5984f6f\",\"type\":\"LinearAxis\"}],\"renderers\":[{\"id\":\"733b678b-7e61-4f54-b5e6-7f4fe52c8379\",\"type\":\"LogAxis\"},{\"id\":\"3790f437-b174-4648-a605-7356249e5faa\",\"type\":\"Grid\"},{\"id\":\"133f2e18-fe20-4c27-837d-c606d5984f6f\",\"type\":\"LinearAxis\"},{\"id\":\"1de0589c-8789-47ac-a35a-00747f0bb751\",\"type\":\"Grid\"},{\"id\":\"8fdf3544-130a-4b07-b92e-9b763f069acc\",\"type\":\"BoxAnnotation\"},{\"id\":\"7ead9357-344b-40ca-aadc-83c5af32edaa\",\"type\":\"GlyphRenderer\"},{\"id\":\"82277406-9347-4bc6-b870-271ae7c1ca2c\",\"type\":\"GlyphRenderer\"},{\"id\":\"f545cc12-a28e-4544-99a7-28cdb2db4fc2\",\"type\":\"GlyphRenderer\"}],\"title\":{\"id\":\"8e0ef80a-5fba-4ed1-9b62-c3c2c48fedf4\",\"type\":\"Title\"},\"tool_events\":{\"id\":\"6cf6b807-58f9-478d-9f0d-a0c2189a2aba\",\"type\":\"ToolEvents\"},\"toolbar\":{\"id\":\"b3269f21-dc76-45de-bc90-3aa2268fa510\",\"type\":\"Toolbar\"},\"x_mapper_type\":\"log\",\"x_range\":{\"id\":\"9c8d8fbb-ebb6-4ebb-9904-75305d17b945\",\"type\":\"Range1d\"},\"y_range\":{\"id\":\"fa687585-6a14-4ea7-880b-42886facb644\",\"type\":\"DataRange1d\"}},\"id\":\"dad3690a-4d2a-4411-bda3-9e55d4f00319\",\"subtype\":\"Figure\",\"type\":\"Plot\"},{\"attributes\":{},\"id\":\"6cf6b807-58f9-478d-9f0d-a0c2189a2aba\",\"type\":\"ToolEvents\"},{\"attributes\":{\"dimension\":1,\"plot\":{\"id\":\"dad3690a-4d2a-4411-bda3-9e55d4f00319\",\"subtype\":\"Figure\",\"type\":\"Plot\"},\"ticker\":{\"id\":\"7e5f8f1f-0077-4dd9-b644-7177a3858c04\",\"type\":\"BasicTicker\"}},\"id\":\"1de0589c-8789-47ac-a35a-00747f0bb751\",\"type\":\"Grid\"},{\"attributes\":{\"callback\":null,\"column_names\":[\"x\"],\"data\":{\"x\":[10,20,50,70,100,200,500,800,1000,2000,5000,7000,10000]}},\"id\":\"9e9d6a79-3a93-4ad6-b51d-a3b41608877b\",\"type\":\"ColumnDataSource\"},{\"attributes\":{\"plot\":{\"id\":\"dad3690a-4d2a-4411-bda3-9e55d4f00319\",\"subtype\":\"Figure\",\"type\":\"Plot\"}},\"id\":\"9eaf9cba-f5cb-458f-b3c4-e095a8b1a3ba\",\"type\":\"WheelZoomTool\"},{\"attributes\":{\"overlay\":{\"id\":\"8fdf3544-130a-4b07-b92e-9b763f069acc\",\"type\":\"BoxAnnotation\"},\"plot\":{\"id\":\"dad3690a-4d2a-4411-bda3-9e55d4f00319\",\"subtype\":\"Figure\",\"type\":\"Plot\"}},\"id\":\"a0ff7dd5-b5be-48ec-810f-0534d686335c\",\"type\":\"BoxZoomTool\"},{\"attributes\":{\"data_source\":{\"id\":\"7f845708-d930-4469-b163-21abf2b68efe\",\"type\":\"ColumnDataSource\"},\"glyph\":{\"id\":\"b79170ce-21c1-4d0a-b799-7e470996dfe3\",\"type\":\"Line\"},\"hover_glyph\":null,\"nonselection_glyph\":{\"id\":\"d1e0de11-73b0-4b02-b840-162fe1d25334\",\"type\":\"Line\"},\"selection_glyph\":null},\"id\":\"7ead9357-344b-40ca-aadc-83c5af32edaa\",\"type\":\"GlyphRenderer\"},{\"attributes\":{},\"id\":\"c3434b39-b08d-4279-9b13-938083346f73\",\"type\":\"BasicTickFormatter\"}],\"root_ids\":[\"dad3690a-4d2a-4411-bda3-9e55d4f00319\"]},\"title\":\"Bokeh Application\",\"version\":\"0.12.3\"}};\n",
       "            var render_items = [{\"docid\":\"1f5bc4f4-97d8-450b-98eb-b95762cbbf3e\",\"elementid\":\"19e39d66-f47a-4fa2-ab49-4b796731abf3\",\"modelid\":\"dad3690a-4d2a-4411-bda3-9e55d4f00319\"}];\n",
       "            \n",
       "            Bokeh.embed.embed_items(docs_json, render_items);\n",
       "        });\n",
       "      },\n",
       "      function(Bokeh) {\n",
       "      }\n",
       "    ];\n",
       "  \n",
       "    function run_inline_js() {\n",
       "      \n",
       "      if ((window.Bokeh !== undefined) || (force === \"1\")) {\n",
       "        for (var i = 0; i < inline_js.length; i++) {\n",
       "          inline_js[i](window.Bokeh);\n",
       "        }if (force === \"1\") {\n",
       "          display_loaded();\n",
       "        }} else if (Date.now() < window._bokeh_timeout) {\n",
       "        setTimeout(run_inline_js, 100);\n",
       "      } else if (!window._bokeh_failed_load) {\n",
       "        console.log(\"Bokeh: BokehJS failed to load within specified timeout.\");\n",
       "        window._bokeh_failed_load = true;\n",
       "      } else if (!force) {\n",
       "        var cell = $(\"#19e39d66-f47a-4fa2-ab49-4b796731abf3\").parents('.cell').data().cell;\n",
       "        cell.output_area.append_execute_result(NB_LOAD_WARNING)\n",
       "      }\n",
       "  \n",
       "    }\n",
       "  \n",
       "    if (window._bokeh_is_loading === 0) {\n",
       "      console.log(\"Bokeh: BokehJS loaded, going straight to plotting\");\n",
       "      run_inline_js();\n",
       "    } else {\n",
       "      load_libs(js_urls, function() {\n",
       "        console.log(\"Bokeh: BokehJS plotting callback run at\", now());\n",
       "        run_inline_js();\n",
       "      });\n",
       "    }\n",
       "  }(this));\n",
       "</script>"
      ]
     },
     "metadata": {},
     "output_type": "display_data"
    }
   ],
   "source": [
    "trials=[10, 20, 50, 70, 100, 200, 500, 800, 1000, 2000, 5000, 7000, 10000]\n",
    "#plt.plot(trials, [np.sum(throw_a_coin(j)=='H')/np.float(j) for j in trials], 'o-', alpha=0.6);\n",
    "# create a new plot\n",
    "p = figure(\n",
    "   x_axis_type=\"log\",title=\"frequentist probability of heads\",\n",
    "   x_axis_label='number of trials', y_axis_label='probability of heads from simulation',\n",
    "   x_range = [9,10**4]\n",
    ")\n",
    "outcomes = [np.sum(throw_a_coin(j)=='H')/np.float(j) for j in trials]\n",
    "p.line(trials,outcomes,line_width=3)\n",
    "p.line(trials,0.5,line_width=3,line_color = 'red')\n",
    "p.circle(trials,outcomes,size =8)\n",
    "show(p)"
   ]
  },
  {
   "cell_type": "markdown",
   "metadata": {},
   "source": [
    "Thus, the true odds **fluctuate** about their long-run value of 0.5, in accordance with the model of a fair coin (which we encoded in our simulation by having `np.random.choice` choose between two possibilities with equal probability), with the fluctuations becoming much smaller as the number of trials increases. These **fluctations** are what give rise to probability distributions.\n",
    "\n",
    "Each finite length run is called a **sample**, which has been obtained from the **generative** model of our fair coin. Its called generative as we can use the model to generate, using simulation, a set of samples we can play with to understand a model. "
   ]
  },
  {
   "cell_type": "markdown",
   "metadata": {},
   "source": [
    "### A simple Election Model\n",
    "\n",
    "In the last section, we made a simple simulation of a coin-toss on the computer from a fair-coin model which associated equal probability with heads and tails. Let us consider another model here, a table of probabilities that [PredictWise](http://www.predictwise.com/results/2012/president) made on October 2, 2012 for the US presidential elections. \n",
    "PredictWise aggregated polling data and, for each state, estimated the probability that the Obama or Romney would win. Here are those estimated probabilities:"
   ]
  },
  {
   "cell_type": "code",
   "execution_count": 11,
   "metadata": {
    "collapsed": false
   },
   "outputs": [
    {
     "data": {
      "text/html": [
       "<div>\n",
       "<table border=\"1\" class=\"dataframe\">\n",
       "  <thead>\n",
       "    <tr style=\"text-align: right;\">\n",
       "      <th></th>\n",
       "      <th>Obama</th>\n",
       "      <th>Romney</th>\n",
       "      <th>Votes</th>\n",
       "    </tr>\n",
       "    <tr>\n",
       "      <th>States</th>\n",
       "      <th></th>\n",
       "      <th></th>\n",
       "      <th></th>\n",
       "    </tr>\n",
       "  </thead>\n",
       "  <tbody>\n",
       "    <tr>\n",
       "      <th>Alabama</th>\n",
       "      <td>0.000</td>\n",
       "      <td>1.000</td>\n",
       "      <td>9</td>\n",
       "    </tr>\n",
       "    <tr>\n",
       "      <th>Alaska</th>\n",
       "      <td>0.000</td>\n",
       "      <td>1.000</td>\n",
       "      <td>3</td>\n",
       "    </tr>\n",
       "    <tr>\n",
       "      <th>Arizona</th>\n",
       "      <td>0.062</td>\n",
       "      <td>0.938</td>\n",
       "      <td>11</td>\n",
       "    </tr>\n",
       "    <tr>\n",
       "      <th>Arkansas</th>\n",
       "      <td>0.000</td>\n",
       "      <td>1.000</td>\n",
       "      <td>6</td>\n",
       "    </tr>\n",
       "    <tr>\n",
       "      <th>California</th>\n",
       "      <td>1.000</td>\n",
       "      <td>0.000</td>\n",
       "      <td>55</td>\n",
       "    </tr>\n",
       "  </tbody>\n",
       "</table>\n",
       "</div>"
      ],
      "text/plain": [
       "            Obama  Romney  Votes\n",
       "States                          \n",
       "Alabama     0.000   1.000      9\n",
       "Alaska      0.000   1.000      3\n",
       "Arizona     0.062   0.938     11\n",
       "Arkansas    0.000   1.000      6\n",
       "California  1.000   0.000     55"
      ]
     },
     "execution_count": 11,
     "metadata": {},
     "output_type": "execute_result"
    }
   ],
   "source": [
    "predictwise = pd.read_csv('predictwise.csv').set_index('States')\n",
    "predictwise.head()"
   ]
  },
  {
   "cell_type": "markdown",
   "metadata": {},
   "source": [
    "Each row is the probability predicted by Predictwise that Romney or Obama would win a state. The votes column lists the number of electoral college votes in that state. \n",
    "\n",
    "Remember that simulation is used in different ways in the modelling process. Simulations might be used to propagate differential equations which describe the weather from different initial conditions. In this case they are used to create the model. In the coin flips case, they are used to illustrate the predictions of the model of a fair coin. This example is in the same spirit: we are given a (somehow obtained) list of win probabilities for the states of the US. "
   ]
  },
  {
   "cell_type": "markdown",
   "metadata": {},
   "source": [
    "In the case of the tossed coins, even though we had a model which said that the probability of heads was 0.5, there were sequences of flips in which more or less than half the flips were heads. Similarly, here, if the probability of Romney winning in Arizona is 0.938, it means that if somehow, there were 10000 replications with an election each, Romney would win in 938 of those Arizonas **on the average** across the replications. And there would be some samples with Romney winning more, and some with less. We can run these **simulated** universes on a computer though not in real life.\n",
    "\n",
    "#### Simulating the model\n",
    "\n",
    "To do this, \n",
    "we will assume that the outcome in each state is the result of an independent coin flip whose probability of coming up Obama is given by the Predictwise state-wise win probabilities. Lets write a function `simulate_election` that uses this **predictive model** to simulate the outcome of the election given a table of probabilities.\n",
    "\n",
    "In the code below, each column simulates a single outcome from the 50 states + DC by choosing a random number between 0 and 1. Obama wins that simulation if the random number is $<$ the win probability. If he wins that simulation, we add in the electoral votes for that state, otherwise we dont. We do this `n_sim` times and return a list of total Obama electoral votes in each simulation."
   ]
  },
  {
   "cell_type": "code",
   "execution_count": null,
   "metadata": {
    "collapsed": false
   },
   "outputs": [],
   "source": [
    "def simulate_election(model, n_sim):\n",
    "    simulations = np.random.uniform(size=(51, n_sim))\n",
    "    obama_votes = (simulations < model.Obama.values.reshape(-1, 1)) * model.Votes.values.reshape(-1, 1)\n",
    "    #summing over rows gives the total electoral votes for each simulation\n",
    "    return obama_votes.sum(axis=0)"
   ]
  },
  {
   "cell_type": "markdown",
   "metadata": {},
   "source": [
    "The following code takes the necessary probabilities for the Predictwise data, and runs 10000 simulations. If you think of this in terms of our coins, think of it as having 51 biased coins, one for each state, and tossing them 10,000 times each.\n",
    "\n",
    "We use the results to compute the number of simulations, according to this predictive model, that Obama wins the election (i.e., the probability that he receives 269 or more electoral college votes)"
   ]
  },
  {
   "cell_type": "code",
   "execution_count": null,
   "metadata": {
    "collapsed": false
   },
   "outputs": [],
   "source": [
    "result = simulate_election(predictwise, 10000)\n",
    "print (result >= 269).sum()"
   ]
  },
  {
   "cell_type": "code",
   "execution_count": null,
   "metadata": {
    "collapsed": false
   },
   "outputs": [],
   "source": [
    "result"
   ]
  },
  {
   "cell_type": "markdown",
   "metadata": {},
   "source": [
    "There are roughly only 50 simulations in which Romney wins the election!\n",
    "\n",
    "#### Displaying the prediction\n",
    "\n",
    "Now, lets visualize the simulation. We will build a histogram from the result of `simulate_election`. We will **normalize** the histogram by dividing the frequency of a vote tally by the number of simulations. We'll overplot the \"victory threshold\" of 269 votes as a vertical black line and the result (Obama winning 332 votes) as a vertical red line.\n",
    "\n",
    "We also compute the number of votes at the 5th and 95th quantiles, which we call the spread, and display it (this is an estimate of the outcome's uncertainty). By 5th quantile we mean that if we ordered the number of votes Obama gets in each simulation in increasing order, the 5th quantile is the number below which 5\\% of the simulations lie. \n",
    "\n",
    "We also display the probability of an Obama victory    \n",
    "    "
   ]
  },
  {
   "cell_type": "code",
   "execution_count": null,
   "metadata": {
    "collapsed": false
   },
   "outputs": [],
   "source": [
    "def plot_simulation(simulation):    \n",
    "    plt.hist(simulation, bins=np.arange(200, 538, 1), \n",
    "             label='simulations', align='left', normed=True)\n",
    "    plt.axvline(332, 0, .5, color='r', label='Actual Outcome')\n",
    "    plt.axvline(269, 0, .5, color='k', label='Victory Threshold')\n",
    "    p05 = np.percentile(simulation, 5.)\n",
    "    p95 = np.percentile(simulation, 95.)\n",
    "    iq = int(p95 - p05)\n",
    "    pwin = ((simulation >= 269).mean() * 100)\n",
    "    plt.title(\"Chance of Obama Victory: %0.2f%%, Spread: %d votes\" % (pwin, iq))\n",
    "    plt.legend(frameon=False, loc='upper left')\n",
    "    plt.xlabel(\"Obama Electoral College Votes\")\n",
    "    plt.ylabel(\"Probability\")\n",
    "    sns.despine()"
   ]
  },
  {
   "cell_type": "code",
   "execution_count": null,
   "metadata": {
    "collapsed": false
   },
   "outputs": [],
   "source": [
    "plot_simulation(result)"
   ]
  },
  {
   "cell_type": "markdown",
   "metadata": {},
   "source": [
    "The model created by combining the probabilities we obtained from Predictwise with the simulation of a biased coin flip corresponding to the win probability in each states leads us to obtain a histogram of election outcomes. We are plotting the probabilities of a prediction, so we call this distribution over outcomes the **predictive distribution**. Simulating from our model and plotting a histogram allows us to visualize this predictive distribution. In general, such a set of probabilities is called a **probability distribution** or **probability mass function**. "
   ]
  },
  {
   "cell_type": "markdown",
   "metadata": {},
   "source": [
    "### Random Variables\n",
    "\n",
    "From wikipedia: In probability theory, the **sample space** of an experiment or random trial is the set of all possible outcomes or results of that experiment. For one coin toss, [H,T] make up the sample space.\n",
    "\n",
    "A **random variable** is a mapping from a sample space to the set of real numbers. It assigns a real number to each outcome in the sample space.\n",
    "\n",
    "For example, consider the event of a coin toss that we have seen before. There are two outcomes in the sample space, a heads and a tails. We can ask the question, whats the probability of a heads or a tails? For an unbiased coin, these are, by symmettry, 1/2 each. The random variable here is the number of heads, and its probability is P(0)=1/2, and P(1)=1/2.\n",
    "\n",
    "Another random variable is the number of heads in two coin tosses. There,  P(0)=1/4, P(1)=1/2, P(2)=1/4.\n",
    "\n",
    "Random variables provide the link from events and sample spaces to data, and it is their **probability distribution** that we are interested in.\n",
    "\n",
    "A random variable is called **discrete** if it has a countable number of values ^[The technical definition of countable is that there is a 1-1 correspondence with the integers 1,2,3...]. The number of heads in 2 coin tosses is a discrete random variable.\n",
    "\n",
    "### Bernoulli Random Variables (in scipy.stats)\n",
    "\n",
    "The **Bernoulli Distribution** represents the distribution for coin flips. Let the random variable X represent such a coin flip, where X=1 is heads, and X=0 is tails. Let us further say that the probability of heads is p (p=0.5 is a fair coin). \n",
    "\n",
    "We then say:\n",
    "\n",
    "$$X \\sim Bernoulli(p),$$\n",
    "\n",
    "which is to be read as **X has distribution Bernoulli(p)**. The **probability distribution function (pdf)** or **probability mass function** associated with the Bernoulli distribution is\n",
    "\n",
    "\\begin{eqnarray}\n",
    "P(X = 1) &=& p \\\\\n",
    "P(X = 0) &=& 1 - p \n",
    "\\end{eqnarray}\n",
    "\n",
    "for p in the range 0 to 1. \n",
    "The **pdf**, or the probability that random variable $X=x$ may thus be written as \n",
    "\n",
    "$$P(X=x) = p^x(1-p)^{1-x}$$\n",
    "\n",
    "for x in the set {0,1}.\n",
    "\n",
    "The **mean**, or **expected value** of this distribution can be calculated analogously to the mean value of data by noting that X=1 happens with frequency p*N, and X=0 happens with frequency (1-p)*N, so we have\n",
    "\n",
    "$$\\frac{p \\times N \\times 1+(1-p) \\times N \\times 0}{N}$$\n",
    "\n",
    "and thus it is p. \n",
    "\n",
    "Let us engage in some term defining right now. $X$ is a random variable, and when we say $X=x$ we are asking \"what if the random variable X takes the value x. $P(X=x)$ asks: what is the probability that the random variable X takes the value x. Finally $p$ is a parameter of the Bernoulli distribution, and as we have seen, one of the things we want to do in data analysis is: having seen some data, what can we infer to be the values of p, so that we can make future predictions for X."
   ]
  },
  {
   "cell_type": "code",
   "execution_count": null,
   "metadata": {
    "collapsed": false
   },
   "outputs": [],
   "source": [
    "from scipy.stats import bernoulli\n",
    "#bernoulli random variable\n",
    "brv=bernoulli(p=0.3)\n",
    "brv.rvs(size=20)"
   ]
  },
  {
   "cell_type": "markdown",
   "metadata": {},
   "source": [
    "Note: **some of the code, and ALL of the visual style for the distribution plots below was shamelessly stolen from https://gist.github.com/mattions/6113437/ **."
   ]
  },
  {
   "cell_type": "code",
   "execution_count": null,
   "metadata": {
    "collapsed": false
   },
   "outputs": [],
   "source": [
    "event_space=[0,1]\n",
    "plt.figure(figsize=(12,8))\n",
    "colors=sns.color_palette()\n",
    "for i, p in enumerate([0.1, 0.2, 0.5, 0.7]):\n",
    "    ax = plt.subplot(1, 4, i+1)\n",
    "    plt.bar(event_space, bernoulli.pmf(event_space, p), label=p, color=colors[i], alpha=0.5)\n",
    "    plt.plot(event_space, bernoulli.cdf(event_space, p), color=colors[i], alpha=0.5)\n",
    "\n",
    "    ax.xaxis.set_ticks(event_space)\n",
    "   \n",
    "    plt.ylim((0,1))\n",
    "    plt.legend(loc=0)\n",
    "    if i == 0:\n",
    "        plt.ylabel(\"PDF at $k$\")\n",
    "plt.tight_layout()"
   ]
  },
  {
   "cell_type": "markdown",
   "metadata": {},
   "source": [
    "Let us parse the intent of the above code a bit. We run 10,000 simulations. In each one of these simulations, we toss 51 biased coins, and assign the vote to obama is the output of `np.random.uniform` is less than the probablity of an obama win. \n",
    "\n",
    "### Uniform Distribution (in numpy)\n",
    "\n",
    "The first thing to pick up on here is that `np.random.uniform` gives you a random number between 0 and 1, uniformly. In other words, the number is equally likely to be between 0 and 0.1, 0.1 and 0.2, and so on. This is a very intuitive idea, but it is formalized by the notion of the **Uniform Distribution**.\n",
    "\n",
    "We then say:\n",
    "\n",
    "$$X \\sim Uniform([0,1),$$\n",
    "\n",
    "which is to be read as **X has distribution Uniform([0,1])**. The **probability distribution function (pdf)** associated with the Uniform distribution is\n",
    "\n",
    "\\begin{eqnarray}\n",
    "P(X = x) &=& 1 \\, for \\, x \\in [0,1] \\\\\n",
    "P(X = x) &=& 0 \\, for \\, x \\notin [0,1]\n",
    "\\end{eqnarray}\n",
    "\n",
    "What assigning the vote to Obama when the random variable **drawn** from the Uniform distribution is less than the Predictwise probability of Obama winning (which is a Bernoulli Parameter) does for us is this: if we have a large number of simulations and $p_{Obama}=0.7$ , then 70\\% of the time, the random numbes drawn will be below 0.7. And then, assigning those as Obama wins will hew to the frequentist notion of probability of the Obama win. But remember, of course, that in 30% of the simulations, Obama wont win, and this will induce fluctuations and a distribution on the total number of electoral college votes that Obama gets. And this is what we see in the histogram below. "
   ]
  },
  {
   "cell_type": "markdown",
   "metadata": {},
   "source": [
    "### Empirical Distribution"
   ]
  },
  {
   "cell_type": "markdown",
   "metadata": {},
   "source": [
    "This is an **empirical Probability Mass Function** or **Probability Density Function**.  The word **density** is strictly used when the random variable X takes on continuous values, as in the uniform distribution, rather than discrete values such as here, but we'll abuse the language and use the word probability distribution in both cases.\n",
    "\n",
    "Lets summarize: the way the density arose here that we did ran 10,000 tosses (for each state), and depending on the value, assigned the state to Obama or Romney, and then summed up the electoral votes over the states.\n",
    "\n",
    "There is a second, very useful question, we can ask of any such probability density: what is the probability that a random variable is less than some value. In other words: $P(X < x)$. This is *also* a probability distribution and is called the **Cumulative Distribution Function**, or CDF (sometimes just called the **distribution**, as opposed to the **density**). Its obtained by \"summing\" the probability density function for all $X$ less than $x$."
   ]
  },
  {
   "cell_type": "code",
   "execution_count": null,
   "metadata": {
    "collapsed": false
   },
   "outputs": [],
   "source": [
    "CDF = lambda x: np.float(np.sum(result < x))/result.shape[0]\n",
    "for votes in [200, 300, 320, 340, 360, 400, 500]:\n",
    "    print \"Obama Win CDF at votes=\", votes, \" is \", CDF(votes)"
   ]
  },
  {
   "cell_type": "code",
   "execution_count": null,
   "metadata": {
    "collapsed": false
   },
   "outputs": [],
   "source": [
    "votelist=np.arange(0, 540, 5)\n",
    "plt.plot(votelist, [CDF(v) for v in votelist], '.-');\n",
    "plt.xlim([200,400])\n",
    "plt.ylim([-0.1,1.1])\n",
    "plt.xlabel(\"votes for Obama\")\n",
    "plt.ylabel(\"probability of Obama win\");"
   ]
  },
  {
   "cell_type": "markdown",
   "metadata": {},
   "source": [
    "### Binomial Distribution (in scipy.stats)\n",
    "\n",
    "Let us consider a population of coinflips, n of them to be precise, $x_1,x_2,...,x_n$. The distribution of coin flips is the binomial distribution. By this we mean that each coin flip represents a bernoulli random variable (or comes from a bernoulli distribution) with  mean $p=0.5$.\n",
    "\n",
    "At this point, you might want to ask the question, what is the probability of obtaining $k$ heads in $n$ flips of the coin. We have seen this before, when we flipped 2 coins. What happens when when we flip 3?\n",
    "\n",
    "(This diagram is taken from the Feynman Lectures on Physics, volume 1. The chapter on probability is http://www.feynmanlectures.caltech.edu/I_06.html)\n",
    "![3 coin flips](3flips.png)\n",
    "\n",
    "We draw a possibilities diagram like we did with the 2 coin flips, and see that there are different probabilities associated with the events of 0, 1,2, and 3 heads with 1 and 2 heads being the most likely. \n",
    "The probability of each of these events is given by the **Binomial Distribution**, the distribution of the number of successes in a sequence of $n$ independent yes/no experiments, or Bernoulli trials, each of which yields success with probability $p$. The Binomial distribution is an extension of the Bernoulli when $n>1$ or the Bernoulli is the a special case of the Binomial when $n=1$.   \n",
    "\n",
    "$$P(X = k; n, p) = {n\\choose k}p^k(1-p)^{n-k} $$\n",
    "\n",
    "where\n",
    "\n",
    "$${n\\choose k}=\\frac{n!}{k!(n-k)!}$$\n",
    "\n",
    "The expected value $E[X]=np$ and the variance is $Var[X]=np(1-p)$\n",
    "\n",
    "How did we obtain this? The $p^k(1-p)^{n-k}$ comes simply from multiplying the probabilities for each bernoulli trial; there are $k$ 1's or yes's, and $n-k$ 0's or no's. The ${n\\choose k}$ comes from counting the number of ways in which each event happens: this corresponds to counting all the paths that give the same number of heads in the diagram above.\n",
    "\n",
    "We show the distribution below for 200 trials."
   ]
  },
  {
   "cell_type": "code",
   "execution_count": null,
   "metadata": {
    "collapsed": false
   },
   "outputs": [],
   "source": [
    "from scipy.stats import binom\n",
    "plt.figure(figsize=(12,6))\n",
    "k = np.arange(0, 200)\n",
    "for p, color in zip([0.1, 0.3, 0.7, 0.7, 0.9], colors):\n",
    "    rv = binom(200, p)\n",
    "    plt.plot(k, rv.pmf(k), '.', lw=2, color=color, label=p)\n",
    "    plt.fill_between(k, rv.pmf(k), color=color, alpha=0.5)\n",
    "q=plt.legend()\n",
    "plt.title(\"Binomial distribution\")\n",
    "plt.tight_layout()\n",
    "q=plt.ylabel(\"PDF at $k$\")\n",
    "q=plt.xlabel(\"$k$\")"
   ]
  },
  {
   "cell_type": "markdown",
   "metadata": {},
   "source": [
    "### The various ways to get random numbers\n",
    "\n",
    "1. `np.random.choice` chooses items randomly from an array, with or without replacement\n",
    "2. `np.random.random` gives us uniform randoms on [0.0,1.0)\n",
    "3. `np.random.randint` gives us random integers in some range\n",
    "4. `np.random.randn` gives us random samples from a Normal distribution, which we talk about later.\n",
    "5. `scipy.stats.distrib` gives us stuff from a distribution. Here distrib could be `binom` for example, as above. `distrib.pdf` or `distrib.pmf` give us the density or mass function, while `cdf` gives us the cumulaive distribution function. Just using `distrib` as a function with its params creates a random variable generating object, from which random variables can be generated in the form `distrib(params).rvs(size)`."
   ]
  },
  {
   "cell_type": "code",
   "execution_count": null,
   "metadata": {
    "collapsed": true
   },
   "outputs": [],
   "source": []
  }
 ],
 "metadata": {
  "anaconda-cloud": {},
  "kernelspec": {
   "display_name": "Python 3",
   "language": "python",
   "name": "python3"
  },
  "language_info": {
   "codemirror_mode": {
    "name": "ipython",
    "version": 3
   },
   "file_extension": ".py",
   "mimetype": "text/x-python",
   "name": "python",
   "nbconvert_exporter": "python",
   "pygments_lexer": "ipython3",
   "version": "3.5.2"
  }
 },
 "nbformat": 4,
 "nbformat_minor": 0
}
