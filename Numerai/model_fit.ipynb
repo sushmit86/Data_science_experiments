{
 "cells": [
  {
   "cell_type": "code",
   "execution_count": 7,
   "metadata": {
    "collapsed": true
   },
   "outputs": [],
   "source": [
    "import pandas as pd\n",
    "import numpy as np\n",
    "from sklearn import metrics, preprocessing, linear_model\n",
    "from sklearn.svm import SVC\n",
    "from sklearn.linear_model import LogisticRegression\n",
    "from sklearn.preprocessing import StandardScaler\n",
    "from sklearn.decomposition import PCA\n",
    "from sklearn.naive_bayes import GaussianNB"
   ]
  },
  {
   "cell_type": "code",
   "execution_count": 4,
   "metadata": {},
   "outputs": [
    {
     "name": "stdout",
     "output_type": "stream",
     "text": [
      "Loading data...\n",
      "Training...\n",
      "Predicting...\n",
      "Writing predictions to predictions.csv\n"
     ]
    }
   ],
   "source": [
    "def main():\n",
    "    # Set seed for reproducibility\n",
    "    np.random.seed(0)\n",
    "\n",
    "    print(\"Loading data...\")\n",
    "    # Load the data from the CSV files\n",
    "    training_data = pd.read_csv(r'numerai_datasets\\numerai_training_data.csv', header=0)\n",
    "    prediction_data = pd.read_csv(r'numerai_datasets\\numerai_tournament_data.csv', header=0)\n",
    "\n",
    "\n",
    "    # Transform the loaded CSV data into numpy arrays\n",
    "    features = [f for f in list(training_data) if \"feature\" in f]\n",
    "    X = training_data[features]\n",
    "    Y = training_data[\"target\"]\n",
    "    x_prediction = prediction_data[features]\n",
    "    ids = prediction_data[\"id\"]\n",
    "\n",
    "    # This is your model that will learn to predict\n",
    "    c=1   \n",
    "    lr = LogisticRegression(C= 10.**c, random_state=1)\n",
    "    print(\"Training...\")\n",
    "    # Your model is trained on the training_data\n",
    "    lr.fit(X, Y)\n",
    "\n",
    "    print(\"Predicting...\")\n",
    "    # Your trained model is now used to make predictions on the numerai_tournament_data\n",
    "    # The model returns two columns: [probability of 0, probability of 1]\n",
    "    # We are just interested in the probability that the target is 1.\n",
    "    y_prediction = lr.predict_proba(x_prediction)\n",
    "    results = y_prediction[:, 1]\n",
    "    results_df = pd.DataFrame(data={'probability':results})\n",
    "    joined = pd.DataFrame(ids).join(results_df)\n",
    "\n",
    "    print(\"Writing predictions to predictions.csv\")\n",
    "    # Save the predictions out to a CSV file\n",
    "    joined.to_csv(\"predictions.csv\", index=False)\n",
    "    # Now you can upload these predictions on numer.ai\n",
    "\n",
    "\n",
    "if __name__ == '__main__':\n",
    "    main()"
   ]
  },
  {
   "cell_type": "code",
   "execution_count": 4,
   "metadata": {
    "collapsed": true
   },
   "outputs": [],
   "source": [
    "training_data = pd.read_csv(r'numerai_datasets\\numerai_training_data.csv', header=0)\n",
    "test_data = pd.read_csv(r'numerai_datasets\\numerai_tournament_data.csv', header=0)"
   ]
  },
  {
   "cell_type": "code",
   "execution_count": 9,
   "metadata": {},
   "outputs": [
    {
     "name": "stdout",
     "output_type": "stream",
     "text": [
      "Training...\n",
      "Predicting...\n",
      "Writing predictions to predictions.csv\n"
     ]
    }
   ],
   "source": [
    "scaler = StandardScaler()\n",
    "features = [f for f in list(training_data) if \"feature\" in f]\n",
    "X_train = training_data[features]\n",
    "Y_train = training_data[\"target\"]\n",
    "\n",
    "X_test = training_data[features]\n",
    "\n",
    "scaler.fit(X_train)\n",
    "# Apply transform to both the training set and the test set.\n",
    "X_train_std = scaler.transform(X_train)\n",
    "X_test_std = scaler.transform(X_test)\n",
    "# Make an instance of the Model\n",
    "pca = PCA(0.)\n",
    "pca.fit(X_train_std)\n",
    "X_train_std = pca.transform(X_train_std)\n",
    "X_test_std = pca.transform(X_test_std)\n",
    "ids = test_data[\"id\"]\n",
    "#Create a Gaussian Classifier\n",
    "model = GaussianNB()\n",
    "\n",
    "# Train the model using the training sets \n",
    "model.fit(X_train, Y_train)\n",
    "# svm = SVC(kernel= 'rbf', random_state=1,gamma=0.2,C=1.0)\n",
    "# svm.fit(X_train_std, Y_train)\n",
    "print(\"Training...\")\n",
    "# Your model is trained on the training_data\n",
    "lr.fit(X_train_std, Y_train)\n",
    "\n",
    "print(\"Predicting...\")\n",
    "# Your trained model is now used to make predictions on the numerai_tournament_data\n",
    "# The model returns two columns: [probability of 0, probability of 1]\n",
    "# We are just interested in the probability that the target is 1.\n",
    "y_prediction = model.predict_proba(X_test)\n",
    "results = y_prediction[:, 1]\n",
    "results_df = pd.DataFrame(data={'probability':results})\n",
    "joined = pd.DataFrame(ids).join(results_df)\n",
    "\n",
    "print(\"Writing predictions to predictions.csv\")\n",
    "# Save the predictions out to a CSV file\n",
    "joined.to_csv(\"predictions.csv\", index=False)\n",
    "# Now you can upload these predictions on numer.ai"
   ]
  },
  {
   "cell_type": "code",
   "execution_count": null,
   "metadata": {
    "collapsed": true
   },
   "outputs": [],
   "source": [
    "scaler = StandardScaler()\n",
    "features = [f for f in list(training_data) if \"feature\" in f]\n",
    "X_train = training_data[features]\n",
    "Y_train = training_data[\"target\"]\n",
    "\n",
    "X_test = training_data[features]\n",
    "\n",
    "# Make an instance of the Model\n",
    "pca = PCA(0.7)\n",
    "pca.fit(X_train_std)\n",
    "X_train = pca.transform(X_train)\n",
    "X_test = pca.transform(X_test_std)\n",
    "ids = test_data[\"id\"]\n",
    "#Create a Gaussian Classifier\n",
    "model = GaussianNB()\n",
    "\n",
    "# Train the model using the training sets \n",
    "model.fit(X_train, Y_train)\n",
    "# svm = SVC(kernel= 'rbf', random_state=1,gamma=0.2,C=1.0)\n",
    "# svm.fit(X_train_std, Y_train)\n",
    "print(\"Training...\")\n",
    "# Your model is trained on the training_data\n",
    "lr.fit(X_train_std, Y_train)\n",
    "\n",
    "print(\"Predicting...\")\n",
    "# Your trained model is now used to make predictions on the numerai_tournament_data\n",
    "# The model returns two columns: [probability of 0, probability of 1]\n",
    "# We are just interested in the probability that the target is 1.\n",
    "y_prediction = model.predict_proba(X_test)\n",
    "results = y_prediction[:, 1]\n",
    "results_df = pd.DataFrame(data={'probability':results})\n",
    "joined = pd.DataFrame(ids).join(results_df)\n",
    "\n",
    "print(\"Writing predictions to predictions.csv\")\n",
    "# Save the predictions out to a CSV file\n",
    "joined.to_csv(\"predictions.csv\", index=False)\n",
    "# Now you can upload these predictions on numer.ai"
   ]
  }
 ],
 "metadata": {
  "kernelspec": {
   "display_name": "Python 3",
   "language": "python",
   "name": "python3"
  },
  "language_info": {
   "codemirror_mode": {
    "name": "ipython",
    "version": 3
   },
   "file_extension": ".py",
   "mimetype": "text/x-python",
   "name": "python",
   "nbconvert_exporter": "python",
   "pygments_lexer": "ipython3",
   "version": "3.6.3"
  }
 },
 "nbformat": 4,
 "nbformat_minor": 2
}
