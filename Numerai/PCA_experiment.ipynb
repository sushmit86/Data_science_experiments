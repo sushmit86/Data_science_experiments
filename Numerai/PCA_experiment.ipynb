{
 "cells": [
  {
   "cell_type": "code",
   "execution_count": 12,
   "metadata": {
    "collapsed": true
   },
   "outputs": [],
   "source": [
    "import pandas as pd\n",
    "from sklearn.preprocessing import StandardScaler\n",
    "import numpy as np\n",
    "sc = StandardScaler()"
   ]
  },
  {
   "cell_type": "code",
   "execution_count": 2,
   "metadata": {
    "collapsed": true
   },
   "outputs": [],
   "source": [
    "training_data = pd.read_csv(r'numerai_datasets\\numerai_training_data.csv', header=0)"
   ]
  },
  {
   "cell_type": "code",
   "execution_count": 3,
   "metadata": {},
   "outputs": [
    {
     "data": {
      "text/html": [
       "<div>\n",
       "<style>\n",
       "    .dataframe thead tr:only-child th {\n",
       "        text-align: right;\n",
       "    }\n",
       "\n",
       "    .dataframe thead th {\n",
       "        text-align: left;\n",
       "    }\n",
       "\n",
       "    .dataframe tbody tr th {\n",
       "        vertical-align: top;\n",
       "    }\n",
       "</style>\n",
       "<table border=\"1\" class=\"dataframe\">\n",
       "  <thead>\n",
       "    <tr style=\"text-align: right;\">\n",
       "      <th></th>\n",
       "      <th>id</th>\n",
       "      <th>era</th>\n",
       "      <th>data_type</th>\n",
       "      <th>feature1</th>\n",
       "      <th>feature2</th>\n",
       "      <th>feature3</th>\n",
       "      <th>feature4</th>\n",
       "      <th>feature5</th>\n",
       "      <th>feature6</th>\n",
       "      <th>feature7</th>\n",
       "      <th>...</th>\n",
       "      <th>feature42</th>\n",
       "      <th>feature43</th>\n",
       "      <th>feature44</th>\n",
       "      <th>feature45</th>\n",
       "      <th>feature46</th>\n",
       "      <th>feature47</th>\n",
       "      <th>feature48</th>\n",
       "      <th>feature49</th>\n",
       "      <th>feature50</th>\n",
       "      <th>target</th>\n",
       "    </tr>\n",
       "  </thead>\n",
       "  <tbody>\n",
       "    <tr>\n",
       "      <th>0</th>\n",
       "      <td>n2b2e3dd163cb422</td>\n",
       "      <td>era1</td>\n",
       "      <td>train</td>\n",
       "      <td>0.43487</td>\n",
       "      <td>0.44645</td>\n",
       "      <td>0.25802</td>\n",
       "      <td>0.37149</td>\n",
       "      <td>0.62235</td>\n",
       "      <td>0.67451</td>\n",
       "      <td>0.68103</td>\n",
       "      <td>...</td>\n",
       "      <td>0.52962</td>\n",
       "      <td>0.42439</td>\n",
       "      <td>0.51680</td>\n",
       "      <td>0.46297</td>\n",
       "      <td>0.57426</td>\n",
       "      <td>0.57946</td>\n",
       "      <td>0.49646</td>\n",
       "      <td>0.48968</td>\n",
       "      <td>0.54194</td>\n",
       "      <td>1</td>\n",
       "    </tr>\n",
       "    <tr>\n",
       "      <th>1</th>\n",
       "      <td>n177021a571c94c8</td>\n",
       "      <td>era1</td>\n",
       "      <td>train</td>\n",
       "      <td>0.50038</td>\n",
       "      <td>0.39216</td>\n",
       "      <td>0.38394</td>\n",
       "      <td>0.51213</td>\n",
       "      <td>0.36660</td>\n",
       "      <td>0.46911</td>\n",
       "      <td>0.68204</td>\n",
       "      <td>...</td>\n",
       "      <td>0.51669</td>\n",
       "      <td>0.48445</td>\n",
       "      <td>0.57587</td>\n",
       "      <td>0.59860</td>\n",
       "      <td>0.67558</td>\n",
       "      <td>0.45577</td>\n",
       "      <td>0.80908</td>\n",
       "      <td>0.50287</td>\n",
       "      <td>0.61629</td>\n",
       "      <td>0</td>\n",
       "    </tr>\n",
       "    <tr>\n",
       "      <th>2</th>\n",
       "      <td>n7830fa4c0cd8466</td>\n",
       "      <td>era1</td>\n",
       "      <td>train</td>\n",
       "      <td>0.47416</td>\n",
       "      <td>0.34143</td>\n",
       "      <td>0.39528</td>\n",
       "      <td>0.46337</td>\n",
       "      <td>0.72953</td>\n",
       "      <td>0.45962</td>\n",
       "      <td>0.47869</td>\n",
       "      <td>...</td>\n",
       "      <td>0.41458</td>\n",
       "      <td>0.34804</td>\n",
       "      <td>0.29058</td>\n",
       "      <td>0.51382</td>\n",
       "      <td>0.36389</td>\n",
       "      <td>0.80602</td>\n",
       "      <td>0.39253</td>\n",
       "      <td>0.41821</td>\n",
       "      <td>0.58679</td>\n",
       "      <td>0</td>\n",
       "    </tr>\n",
       "    <tr>\n",
       "      <th>3</th>\n",
       "      <td>nc594a184cee941b</td>\n",
       "      <td>era1</td>\n",
       "      <td>train</td>\n",
       "      <td>0.48759</td>\n",
       "      <td>0.55903</td>\n",
       "      <td>0.43987</td>\n",
       "      <td>0.38834</td>\n",
       "      <td>0.44650</td>\n",
       "      <td>0.46389</td>\n",
       "      <td>0.70749</td>\n",
       "      <td>...</td>\n",
       "      <td>0.28776</td>\n",
       "      <td>0.42881</td>\n",
       "      <td>0.55402</td>\n",
       "      <td>0.53695</td>\n",
       "      <td>0.48793</td>\n",
       "      <td>0.62432</td>\n",
       "      <td>0.52898</td>\n",
       "      <td>0.49009</td>\n",
       "      <td>0.49557</td>\n",
       "      <td>0</td>\n",
       "    </tr>\n",
       "    <tr>\n",
       "      <th>4</th>\n",
       "      <td>nc5ab8667901946a</td>\n",
       "      <td>era1</td>\n",
       "      <td>train</td>\n",
       "      <td>0.23433</td>\n",
       "      <td>0.55499</td>\n",
       "      <td>0.47849</td>\n",
       "      <td>0.56990</td>\n",
       "      <td>0.64945</td>\n",
       "      <td>0.47152</td>\n",
       "      <td>0.62085</td>\n",
       "      <td>...</td>\n",
       "      <td>0.64405</td>\n",
       "      <td>0.32416</td>\n",
       "      <td>0.33193</td>\n",
       "      <td>0.58065</td>\n",
       "      <td>0.44587</td>\n",
       "      <td>0.47770</td>\n",
       "      <td>0.44020</td>\n",
       "      <td>0.47895</td>\n",
       "      <td>0.57978</td>\n",
       "      <td>0</td>\n",
       "    </tr>\n",
       "  </tbody>\n",
       "</table>\n",
       "<p>5 rows × 54 columns</p>\n",
       "</div>"
      ],
      "text/plain": [
       "                 id   era data_type  feature1  feature2  feature3  feature4  \\\n",
       "0  n2b2e3dd163cb422  era1     train   0.43487   0.44645   0.25802   0.37149   \n",
       "1  n177021a571c94c8  era1     train   0.50038   0.39216   0.38394   0.51213   \n",
       "2  n7830fa4c0cd8466  era1     train   0.47416   0.34143   0.39528   0.46337   \n",
       "3  nc594a184cee941b  era1     train   0.48759   0.55903   0.43987   0.38834   \n",
       "4  nc5ab8667901946a  era1     train   0.23433   0.55499   0.47849   0.56990   \n",
       "\n",
       "   feature5  feature6  feature7   ...    feature42  feature43  feature44  \\\n",
       "0   0.62235   0.67451   0.68103   ...      0.52962    0.42439    0.51680   \n",
       "1   0.36660   0.46911   0.68204   ...      0.51669    0.48445    0.57587   \n",
       "2   0.72953   0.45962   0.47869   ...      0.41458    0.34804    0.29058   \n",
       "3   0.44650   0.46389   0.70749   ...      0.28776    0.42881    0.55402   \n",
       "4   0.64945   0.47152   0.62085   ...      0.64405    0.32416    0.33193   \n",
       "\n",
       "   feature45  feature46  feature47  feature48  feature49  feature50  target  \n",
       "0    0.46297    0.57426    0.57946    0.49646    0.48968    0.54194       1  \n",
       "1    0.59860    0.67558    0.45577    0.80908    0.50287    0.61629       0  \n",
       "2    0.51382    0.36389    0.80602    0.39253    0.41821    0.58679       0  \n",
       "3    0.53695    0.48793    0.62432    0.52898    0.49009    0.49557       0  \n",
       "4    0.58065    0.44587    0.47770    0.44020    0.47895    0.57978       0  \n",
       "\n",
       "[5 rows x 54 columns]"
      ]
     },
     "execution_count": 3,
     "metadata": {},
     "output_type": "execute_result"
    }
   ],
   "source": [
    "training_data.head()"
   ]
  },
  {
   "cell_type": "code",
   "execution_count": 18,
   "metadata": {},
   "outputs": [],
   "source": [
    "list(training_data)\n",
    "features = [f for f in list(training_data) if \"feature\" in f]\n",
    "X= training_data.loc[:,features]\n",
    "X_std = sc.fit_transform(X)\n",
    "mean_vec = np.mean(X_std, axis=0)\n",
    "cov_mat = (X_std - mean_vec).T.dot((X_std - mean_vec)) / (X_std.shape[0]-1)"
   ]
  },
  {
   "cell_type": "code",
   "execution_count": 26,
   "metadata": {},
   "outputs": [
    {
     "name": "stdout",
     "output_type": "stream",
     "text": [
      "[7.57598173 5.52006472 4.80841239 3.82337527 3.51796433 3.13982217\n",
      " 2.90386673 2.39856922 2.2604901  2.06930675 1.53824654 1.43265955\n",
      " 1.35071865 1.10225056 0.84002011 0.78784368 0.66590328 0.55465855\n",
      " 0.47728474 0.41044032 0.34721608 0.30132471 0.24495363 0.22242914\n",
      " 0.18444855 0.16337953 0.15318215 0.14237137 0.10910198 0.09727967\n",
      " 0.09677927 0.08364658 0.07925512 0.00880251 0.01051831 0.01449071\n",
      " 0.01561732 0.02022528 0.02166343 0.02626325 0.02844558 0.03203085\n",
      " 0.03811546 0.0419566  0.04511089 0.06577296 0.04981701 0.06165396\n",
      " 0.05847882 0.05791692]\n"
     ]
    }
   ],
   "source": [
    "list(training_data)\n",
    "features = [f for f in list(training_data) if \"feature\" in f]\n",
    "X= training_data.loc[:,features]\n",
    "X_std = sc.fit_transform(X)\n",
    "cov_mat= np.cov(X_std.T)\n",
    "eigen_vals,eigen_vecs = np.linalg.eig(cov_mat)\n",
    "print(eigen_vals)"
   ]
  },
  {
   "cell_type": "code",
   "execution_count": 35,
   "metadata": {},
   "outputs": [
    {
     "data": {
      "text/plain": [
       "array([0, 0, 0, 0, 0, 0, 0, 0, 0, 0])"
      ]
     },
     "execution_count": 35,
     "metadata": {},
     "output_type": "execute_result"
    }
   ],
   "source": [
    "import numpy as np\n",
    "\n",
    "\n",
    "# nested lists result in multi-dimensional arrays\n",
    "np.array([range(i, i + 3) for i in [2, 4, 6]])\n",
    "\n",
    "# Create a length-10 integer array filled with zeros\n",
    "np.zeros(10, dtype=int)"
   ]
  },
  {
   "cell_type": "code",
   "execution_count": 38,
   "metadata": {},
   "outputs": [
    {
     "name": "stdout",
     "output_type": "stream",
     "text": [
      "[[1 2 3]\n",
      " [4 5 6]\n",
      " [7 8 9]]\n"
     ]
    }
   ],
   "source": [
    "grid = np.arange(1, 10).reshape((3, 3))\n",
    "print(grid)"
   ]
  },
  {
   "cell_type": "code",
   "execution_count": 60,
   "metadata": {},
   "outputs": [
    {
     "name": "stdout",
     "output_type": "stream",
     "text": [
      "[1 2 3]\n",
      "(3,)\n",
      "[[1 2 3]]\n",
      "(1, 3)\n",
      "[[1]\n",
      " [2]\n",
      " [3]]\n",
      "(3, 1)\n"
     ]
    }
   ],
   "source": [
    "x = np.array([1, 2, 3])\n",
    "print(x)\n",
    "print(x.shape)\n",
    "y=x.reshape((1, 3))\n",
    "print(y)\n",
    "print(y.shape)\n",
    "z= x.reshape(3,1)\n",
    "print(z)\n",
    "print(z.shape)\n"
   ]
  }
 ],
 "metadata": {
  "hide_input": false,
  "kernelspec": {
   "display_name": "Python 3",
   "language": "python",
   "name": "python3"
  },
  "language_info": {
   "codemirror_mode": {
    "name": "ipython",
    "version": 3
   },
   "file_extension": ".py",
   "mimetype": "text/x-python",
   "name": "python",
   "nbconvert_exporter": "python",
   "pygments_lexer": "ipython3",
   "version": "3.6.3"
  },
  "latex_envs": {
   "LaTeX_envs_menu_present": true,
   "autoclose": false,
   "autocomplete": true,
   "bibliofile": "biblio.bib",
   "cite_by": "apalike",
   "current_citInitial": 1,
   "eqLabelWithNumbers": true,
   "eqNumInitial": 1,
   "hotkeys": {
    "equation": "Ctrl-E",
    "itemize": "Ctrl-I"
   },
   "labels_anchors": false,
   "latex_user_defs": false,
   "report_style_numbering": false,
   "user_envs_cfg": false
  }
 },
 "nbformat": 4,
 "nbformat_minor": 2
}
